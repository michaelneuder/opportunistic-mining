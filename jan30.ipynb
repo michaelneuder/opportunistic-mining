{
 "cells": [
  {
   "cell_type": "code",
   "execution_count": 1,
   "metadata": {},
   "outputs": [],
   "source": [
    "import matplotlib.pyplot as plt\n",
    "import matplotlib.patches as mpatches\n",
    "import numpy as np\n",
    "from scipy.optimize import minimize\n",
    "import pandas as pd\n",
    "from scipy.stats import poisson, uniform, expon, pareto\n",
    "from tqdm import tqdm\n",
    "from mdptoolbox import mdp, util\n",
    "import itertools\n",
    "from scipy.sparse import csr_matrix, lil_matrix\n",
    "from matplotlib.patches import Patch\n",
    "import math\n",
    "import random\n",
    "import sympy as sp\n",
    "from sympy.printing.latex import print_latex"
   ]
  },
  {
   "cell_type": "code",
   "execution_count": 215,
   "metadata": {},
   "outputs": [],
   "source": [
    "def honestBlocksBernoulli(a_, b_, g_, p_, C_, E_):\n",
    "    expr1 = (1-a_)/(a_*p_*(1-np.min([1,np.exp(-b_+C_+E_)]))+a_*(1-p_)*(1-np.exp(-b_+C_)))\n",
    "    expr2 = expr1 + (2*(1-a_)*(1-g_)+g_*(1-a_))*(1-a_) + a_*(1-a_)\n",
    "    return expr2\n",
    "\n",
    "def attackBlocksBernoulli(a_, b_, g_, p_, C_, E_):\n",
    "    num   = a_*p_*np.min([1,np.exp(-b_+C_+E_)])+a_*(1-p_)*np.exp(-b_+C_)\n",
    "    den   = a_*p_*(1-np.min([1,np.exp(-b_+C_+E_)]))+a_*(1-p_)*(1-np.exp(-b_+C_))\n",
    "    expr1 = num / den\n",
    "    expr2 = (a_**3) / ((1-2*a_)*(1-a_))\n",
    "    expr3 = expr1 + (2*a_ + g_*(1-a_))*(1-a_) + a_**2 + a_*(2-a_)/(1-a_) + expr2\n",
    "    return expr3\n",
    "\n",
    "def fixRewTheo(a_, b_, g_, p_, C_, E_):\n",
    "    A = attackBlocksBernoulli(a_, b_, g_, p_, C_, E_)\n",
    "    H = honestBlocksBernoulli(a_, b_, g_, p_, C_, E_)\n",
    "    return A/(A+H)"
   ]
  },
  {
   "cell_type": "code",
   "execution_count": 71,
   "metadata": {},
   "outputs": [
    {
     "data": {
      "text/plain": [
       "(5, 225, 3)"
      ]
     },
     "execution_count": 71,
     "metadata": {},
     "output_type": "execute_result"
    }
   ],
   "source": [
    "theoRes = []\n",
    "for a in alphas:\n",
    "    temp1 = []\n",
    "    for b in betas:\n",
    "        temp2 = []\n",
    "        for p in ps:\n",
    "#             temp2.append(attackBlocksBernoulli(a=a, b=b, g=0.0, p=p, E=1., C=1.))\n",
    "            temp2.append(fixRewTheo(a=a, b=b, g=0.0, p=p, E=1., C=1.))\n",
    "        temp1.append(temp2)\n",
    "    theoRes.append(temp1)\n",
    "theoRes = np.array(theoRes)\n",
    "theoRes.shape"
   ]
  },
  {
   "cell_type": "code",
   "execution_count": 163,
   "metadata": {},
   "outputs": [],
   "source": [
    "p0, p0p, p1, p0pp = sp.symbols('p_0 p_{00} p_1 p_{000}')\n",
    "a, b, x, g, p, C, E  = sp.symbols('a b x g p C E')"
   ]
  },
  {
   "cell_type": "code",
   "execution_count": 186,
   "metadata": {},
   "outputs": [],
   "source": [
    "# ps should be the same\n",
    "p0    = p1 / (a*(1-p)*(1-sp.exp(-b+C)) + a*p*(1-sp.Min(sp.exp(-b+C+E),1)))\n",
    "p0p   = p1 * (1-a)\n",
    "p0pp  = p1 * a\n",
    "p2    = p1*(a/(1-a))\n",
    "prest = p1*a/(1-2*a)"
   ]
  },
  {
   "cell_type": "code",
   "execution_count": 187,
   "metadata": {},
   "outputs": [],
   "source": [
    "eq = sp.Eq(p0+p0p+p0pp+prest+p1, 1)\n",
    "p1_sym = sp.solve(eq, p1)[0]"
   ]
  },
  {
   "cell_type": "code",
   "execution_count": 189,
   "metadata": {},
   "outputs": [
    {
     "data": {
      "text/latex": [
       "$\\displaystyle \\frac{1}{1 + \\frac{1}{a p \\left(1 - \\min\\left(1, e^{C + E - b}\\right)\\right) + a \\left(1 - p\\right) \\left(1 - e^{C - b}\\right)} + \\frac{1 - a}{1 - 2 a}}$"
      ],
      "text/plain": [
       "1/(1 + 1/(a*p*(1 - Min(1, exp(C + E - b))) + a*(1 - p)*(1 - exp(C - b))) + (1 - a)/(1 - 2*a))"
      ]
     },
     "execution_count": 189,
     "metadata": {},
     "output_type": "execute_result"
    }
   ],
   "source": [
    "p1_me = (1/(a*(1-p)*(1-sp.exp(-b+C)) + a*p*(1-sp.Min(sp.exp(-b+C+E),1))) + 1 + (1-a)/(1-2*a))**(-1)\n",
    "p1_me"
   ]
  },
  {
   "cell_type": "code",
   "execution_count": 192,
   "metadata": {},
   "outputs": [
    {
     "data": {
      "text/plain": [
       "(0.138811963706275, 0.138811963706275)"
      ]
     },
     "execution_count": 192,
     "metadata": {},
     "output_type": "execute_result"
    }
   ],
   "source": [
    "p1_sym.evalf(subs={a:0.3, b:3, p:0.5, C:1, E:1}), p1_me.evalf(subs={a:0.3, b:3, p:0.5, C:1, E:1})"
   ]
  },
  {
   "cell_type": "code",
   "execution_count": 193,
   "metadata": {},
   "outputs": [
    {
     "data": {
      "text/latex": [
       "$\\displaystyle C \\left(1 - a\\right) \\left(a + g \\left(1 - a\\right)\\right) \\left(a p \\left(1 - \\min\\left(1, e^{C + E - b}\\right)\\right) + a \\left(1 - p\\right) \\left(1 - e^{C - b}\\right)\\right)$"
      ],
      "text/plain": [
       "C*(1 - a)*(a + g*(1 - a))*(a*p*(1 - Min(1, exp(C + E - b))) + a*(1 - p)*(1 - exp(C - b)))"
      ]
     },
     "execution_count": 193,
     "metadata": {},
     "output_type": "execute_result"
    }
   ],
   "source": [
    "f0i   = C * (a*p*sp.Min(1,sp.exp(-b+C+E)) + a*(1-p)*sp.exp(-b+C))\n",
    "f0ii  = a*C * (a*p*(1-sp.Min(1,sp.exp(-b+C+E))) + a*(1-p)*(1-sp.exp(-b+C)))\n",
    "f0iii = (1-a)*(a+g*(1-a))*C * (a*p*(1-sp.Min(1,sp.exp(-b+C+E))) + a*(1-p)*(1-sp.exp(-b+C)))\n",
    "f0iii"
   ]
  },
  {
   "cell_type": "code",
   "execution_count": 194,
   "metadata": {},
   "outputs": [],
   "source": [
    "f0   = f0i + f0ii + f0iii\n",
    "f1   = C*(a+(1-a)*a)"
   ]
  },
  {
   "cell_type": "code",
   "execution_count": 169,
   "metadata": {},
   "outputs": [],
   "source": [
    "# DONT NEED\n",
    "f1   = a + a*(1-a)\n",
    "f2   = a + a*(1-a)\n",
    "f3   = a + a*(1-a) + a*(1-a)**2\n",
    "f4   = a + a*(1-a) + a*(1-a)**2 + a*(1-a)**3"
   ]
  },
  {
   "cell_type": "code",
   "execution_count": 203,
   "metadata": {},
   "outputs": [
    {
     "data": {
      "text/latex": [
       "$\\displaystyle \\frac{a \\left(0.245252960780962 a^{2} \\left(a - 1.0\\right) \\left(p \\left(\\min\\left(1.0, 7.38905609893065 e^{- b}\\right) - 1.0\\right) e^{b} + \\left(p - 1.0\\right) \\left(1.0 e^{b} - 2.71828182845905\\right)\\right) - 0.122626480390481 a \\left(a - 2.0\\right) \\left(2.0 a - 1.0\\right) \\left(p \\left(\\min\\left(1.0, 7.38905609893065 e^{- b}\\right) - 1.0\\right) e^{b} + \\left(p - 1.0\\right) \\left(1.0 e^{b} - 2.71828182845905\\right)\\right) - 0.122626480390481 \\cdot \\left(2.0 a - 1.0\\right) \\left(1.0 a \\left(a - 1.0\\right) \\left(p \\left(\\min\\left(1.0, 7.38905609893065 e^{- b}\\right) - 1.0\\right) e^{b} + \\left(p - 1.0\\right) \\left(1.0 e^{b} - 2.71828182845905\\right)\\right) - 1.0 a \\left(p \\left(\\min\\left(1.0, 7.38905609893065 e^{- b}\\right) - 1.0\\right) e^{b} + \\left(p - 1.0\\right) \\left(1.0 e^{b} - 2.71828182845905\\right)\\right) + 1.0 p e^{b} \\min\\left(1.0, 7.38905609893065 e^{- b}\\right) - 2.71828182845905 p + 2.71828182845905\\right)\\right) \\left(- 5.43656365691809 a p + 5.43656365691809 a + 2.71828182845905 p + \\left(2.0 a p \\min\\left(1.0, 7.38905609893065 e^{- b}\\right) - 2.0 a - p \\min\\left(1.0, 7.38905609893065 e^{- b}\\right) + 1.0\\right) e^{b} - 2.71828182845905\\right)}{\\left(2.0 a - 1.0\\right) \\left(p \\left(\\min\\left(1.0, 7.38905609893065 e^{- b}\\right) - 1.0\\right) e^{b} + \\left(p - 1.0\\right) \\left(1.0 e^{b} - 2.71828182845905\\right)\\right) \\left(- a^{2} p + a^{2} + 0.666666666666667 a p - 0.666666666666667 a + 0.122626480390481 \\cdot \\left(3.0 a^{2} p \\min\\left(1.0, 7.38905609893065 e^{- b}\\right) - 3.0 a^{2} - 2.0 a p \\min\\left(1.0, 7.38905609893065 e^{- b}\\right) + 1.0\\right) e^{b}\\right)}$"
      ],
      "text/plain": [
       "a*(0.245252960780962*a**2*(a - 1.0)*(p*(Min(1.0, 7.38905609893065*exp(-b)) - 1.0)*exp(b) + (p - 1.0)*(1.0*exp(b) - 2.71828182845905)) - 0.122626480390481*a*(a - 2.0)*(2.0*a - 1.0)*(p*(Min(1.0, 7.38905609893065*exp(-b)) - 1.0)*exp(b) + (p - 1.0)*(1.0*exp(b) - 2.71828182845905)) - 0.122626480390481*(2.0*a - 1.0)*(1.0*a*(a - 1.0)*(p*(Min(1.0, 7.38905609893065*exp(-b)) - 1.0)*exp(b) + (p - 1.0)*(1.0*exp(b) - 2.71828182845905)) - 1.0*a*(p*(Min(1.0, 7.38905609893065*exp(-b)) - 1.0)*exp(b) + (p - 1.0)*(1.0*exp(b) - 2.71828182845905)) + 1.0*p*exp(b)*Min(1.0, 7.38905609893065*exp(-b)) - 2.71828182845905*p + 2.71828182845905))*(-5.43656365691809*a*p + 5.43656365691809*a + 2.71828182845905*p + (2.0*a*p*Min(1.0, 7.38905609893065*exp(-b)) - 2.0*a - p*Min(1.0, 7.38905609893065*exp(-b)) + 1.0)*exp(b) - 2.71828182845905)/((2.0*a - 1.0)*(p*(Min(1.0, 7.38905609893065*exp(-b)) - 1.0)*exp(b) + (p - 1.0)*(1.0*exp(b) - 2.71828182845905))*(-a**2*p + a**2 + 0.666666666666667*a*p - 0.666666666666667*a + 0.122626480390481*(3.0*a**2*p*Min(1.0, 7.38905609893065*exp(-b)) - 3.0*a**2 - 2.0*a*p*Min(1.0, 7.38905609893065*exp(-b)) + 1.0)*exp(b)))"
      ]
     },
     "execution_count": 203,
     "metadata": {},
     "output_type": "execute_result"
    }
   ],
   "source": [
    "full  = p0*f0 + p1*f1 + C*p1*a*(2*a*(1-a)/(1-2*a))\n",
    "p1_ev = p1_sym.evalf(subs={C:1., E:1.})\n",
    "final = sp.simplify(full.evalf(subs={p1:p1_ev, C:1., E:1., g:0}))\n",
    "final"
   ]
  },
  {
   "cell_type": "code",
   "execution_count": 204,
   "metadata": {},
   "outputs": [
    {
     "data": {
      "text/plain": [
       "<function _lambdifygenerated(a, b, p)>"
      ]
     },
     "execution_count": 204,
     "metadata": {},
     "output_type": "execute_result"
    }
   ],
   "source": [
    "finalLambda = sp.lambdify((a, b, p), final)\n",
    "finalLambda"
   ]
  },
  {
   "cell_type": "code",
   "execution_count": 206,
   "metadata": {},
   "outputs": [],
   "source": [
    "g0   = C*(1-a)\n",
    "g1   = C*(1-a)*(1-a)*(1-g)\n",
    "g0p  = C*(1-a)\n",
    "g0pp = C*(1-a)"
   ]
  },
  {
   "cell_type": "code",
   "execution_count": 207,
   "metadata": {},
   "outputs": [
    {
     "data": {
      "text/latex": [
       "$\\displaystyle \\frac{1.0 a^{2} \\cdot \\left(1.0 - a\\right) \\left(- 2.0 a p \\min\\left(1.0, 7.38905609893065 e^{- b}\\right) + 5.43656365691809 a p e^{- b} + 2.0 a - 5.43656365691809 a e^{- b} + p \\min\\left(1.0, 7.38905609893065 e^{- b}\\right) - 2.71828182845905 p e^{- b} - 1.0 + 2.71828182845905 e^{- b}\\right)}{- 3.0 a^{2} p \\min\\left(1.0, 7.38905609893065 e^{- b}\\right) + 8.15484548537714 a^{2} p e^{- b} + 3.0 a^{2} - 8.15484548537714 a^{2} e^{- b} + 2.0 a p \\min\\left(1.0, 7.38905609893065 e^{- b}\\right) - 5.43656365691809 a p e^{- b} + 5.43656365691809 a e^{- b} - 1.0} + \\frac{2.0 a \\left(1.0 - a\\right)^{2} \\left(- 2.0 a p \\min\\left(1.0, 7.38905609893065 e^{- b}\\right) + 5.43656365691809 a p e^{- b} + 2.0 a - 5.43656365691809 a e^{- b} + p \\min\\left(1.0, 7.38905609893065 e^{- b}\\right) - 2.71828182845905 p e^{- b} - 1.0 + 2.71828182845905 e^{- b}\\right)}{- 3.0 a^{2} p \\min\\left(1.0, 7.38905609893065 e^{- b}\\right) + 8.15484548537714 a^{2} p e^{- b} + 3.0 a^{2} - 8.15484548537714 a^{2} e^{- b} + 2.0 a p \\min\\left(1.0, 7.38905609893065 e^{- b}\\right) - 5.43656365691809 a p e^{- b} + 5.43656365691809 a e^{- b} - 1.0} + \\frac{1.0 a \\left(1.0 - a\\right) \\left(- 2.0 a p \\min\\left(1.0, 7.38905609893065 e^{- b}\\right) + 5.43656365691809 a p e^{- b} + 2.0 a - 5.43656365691809 a e^{- b} + p \\min\\left(1.0, 7.38905609893065 e^{- b}\\right) - 2.71828182845905 p e^{- b} - 1.0 + 2.71828182845905 e^{- b}\\right)}{\\left(a p \\left(1.0 - \\min\\left(1.0, 7.38905609893065 e^{- b}\\right)\\right) + a \\left(1.0 - p\\right) \\left(1.0 - 2.71828182845905 e^{- b}\\right)\\right) \\left(- 3.0 a^{2} p \\min\\left(1.0, 7.38905609893065 e^{- b}\\right) + 8.15484548537714 a^{2} p e^{- b} + 3.0 a^{2} - 8.15484548537714 a^{2} e^{- b} + 2.0 a p \\min\\left(1.0, 7.38905609893065 e^{- b}\\right) - 5.43656365691809 a p e^{- b} + 5.43656365691809 a e^{- b} - 1.0\\right)}$"
      ],
      "text/plain": [
       "1.0*a**2*(1.0 - a)*(-2.0*a*p*Min(1.0, 7.38905609893065*exp(-b)) + 5.43656365691809*a*p*exp(-b) + 2.0*a - 5.43656365691809*a*exp(-b) + p*Min(1.0, 7.38905609893065*exp(-b)) - 2.71828182845905*p*exp(-b) - 1.0 + 2.71828182845905*exp(-b))/(-3.0*a**2*p*Min(1.0, 7.38905609893065*exp(-b)) + 8.15484548537714*a**2*p*exp(-b) + 3.0*a**2 - 8.15484548537714*a**2*exp(-b) + 2.0*a*p*Min(1.0, 7.38905609893065*exp(-b)) - 5.43656365691809*a*p*exp(-b) + 5.43656365691809*a*exp(-b) - 1.0) + 2.0*a*(1.0 - a)**2*(-2.0*a*p*Min(1.0, 7.38905609893065*exp(-b)) + 5.43656365691809*a*p*exp(-b) + 2.0*a - 5.43656365691809*a*exp(-b) + p*Min(1.0, 7.38905609893065*exp(-b)) - 2.71828182845905*p*exp(-b) - 1.0 + 2.71828182845905*exp(-b))/(-3.0*a**2*p*Min(1.0, 7.38905609893065*exp(-b)) + 8.15484548537714*a**2*p*exp(-b) + 3.0*a**2 - 8.15484548537714*a**2*exp(-b) + 2.0*a*p*Min(1.0, 7.38905609893065*exp(-b)) - 5.43656365691809*a*p*exp(-b) + 5.43656365691809*a*exp(-b) - 1.0) + 1.0*a*(1.0 - a)*(-2.0*a*p*Min(1.0, 7.38905609893065*exp(-b)) + 5.43656365691809*a*p*exp(-b) + 2.0*a - 5.43656365691809*a*exp(-b) + p*Min(1.0, 7.38905609893065*exp(-b)) - 2.71828182845905*p*exp(-b) - 1.0 + 2.71828182845905*exp(-b))/((a*p*(1.0 - Min(1.0, 7.38905609893065*exp(-b))) + a*(1.0 - p)*(1.0 - 2.71828182845905*exp(-b)))*(-3.0*a**2*p*Min(1.0, 7.38905609893065*exp(-b)) + 8.15484548537714*a**2*p*exp(-b) + 3.0*a**2 - 8.15484548537714*a**2*exp(-b) + 2.0*a*p*Min(1.0, 7.38905609893065*exp(-b)) - 5.43656365691809*a*p*exp(-b) + 5.43656365691809*a*exp(-b) - 1.0))"
      ]
     },
     "execution_count": 207,
     "metadata": {},
     "output_type": "execute_result"
    }
   ],
   "source": [
    "gull = p0*g0 + p1*g1 + p0p*g0p + p0pp*g0pp\n",
    "ginal = gull.evalf(subs={p1:p1_ev, C:1., E:1., g:0})\n",
    "ginal"
   ]
  },
  {
   "cell_type": "code",
   "execution_count": 208,
   "metadata": {},
   "outputs": [
    {
     "data": {
      "text/plain": [
       "<function _lambdifygenerated(a, b, p)>"
      ]
     },
     "execution_count": 208,
     "metadata": {},
     "output_type": "execute_result"
    }
   ],
   "source": [
    "ginalLambda = sp.lambdify((a, b, p), ginal)\n",
    "ginalLambda"
   ]
  },
  {
   "cell_type": "code",
   "execution_count": 209,
   "metadata": {},
   "outputs": [
    {
     "data": {
      "text/plain": [
       "array([1.751, 1.851, 1.951, 2.051, 2.151, 2.251, 2.351, 2.451, 2.551,\n",
       "       2.651, 2.751, 2.851, 2.951, 3.051, 3.151, 3.251, 3.351, 3.451,\n",
       "       3.551, 3.651, 3.751, 3.851, 3.951])"
      ]
     },
     "execution_count": 209,
     "metadata": {},
     "output_type": "execute_result"
    }
   ],
   "source": [
    "alphas    = [0.2, 0.25, 0.3, 0.35, 0.4]\n",
    "betas     = np.arange(1.751, 4, 0.01)\n",
    "ps        = [0.25, 0.5, 0.75] # using E=1, C=1\n",
    "newbs     = np.arange(1.751, 4, 0.1)\n",
    "newbs"
   ]
  },
  {
   "cell_type": "code",
   "execution_count": 210,
   "metadata": {},
   "outputs": [
    {
     "data": {
      "text/plain": [
       "2.568181818181816"
      ]
     },
     "execution_count": 210,
     "metadata": {},
     "output_type": "execute_result"
    }
   ],
   "source": [
    "test  = finalLambda(a=0.3, b=1, p=0.5)\n",
    "test2 = ginalLambda(a=0.3, b=1, p=0.5)\n",
    "test+test2"
   ]
  },
  {
   "cell_type": "code",
   "execution_count": 211,
   "metadata": {},
   "outputs": [
    {
     "data": {
      "text/plain": [
       "(5, 23, 3)"
      ]
     },
     "execution_count": 211,
     "metadata": {},
     "output_type": "execute_result"
    }
   ],
   "source": [
    "newRes = []\n",
    "for a_ in alphas:\n",
    "    temp1 = []\n",
    "    for b_ in newbs:\n",
    "        temp2 = []\n",
    "        for p_ in ps:\n",
    "            attack = finalLambda(a=a_, b=b_, p=p_)\n",
    "            honest = ginalLambda(a=a_, b=b_, p=p_)\n",
    "            temp2.append(attack/(attack+honest))\n",
    "        temp1.append(temp2)\n",
    "    newRes.append(temp1)\n",
    "newRes = np.array(newRes)\n",
    "newRes.shape"
   ]
  },
  {
   "cell_type": "code",
   "execution_count": 222,
   "metadata": {},
   "outputs": [
    {
     "data": {
      "image/png": "[encoded data removed]",
      "text/plain": [
       "<Figure size 1008x288 with 3 Axes>"
      ]
     },
     "metadata": {
      "needs_background": "light"
     },
     "output_type": "display_data"
    }
   ],
   "source": [
    "f, axarr = plt.subplots(ncols=3, figsize=(14,4))\n",
    "\n",
    "colors = ['maroon', 'lightseagreen', 'darkmagenta', 'peru', 'dodgerblue'] \n",
    "handles, labels = [], []\n",
    "\n",
    "for i in range(3):\n",
    "    ax = axarr[i]\n",
    "    for j, a_ in enumerate(alphas):\n",
    "        line, = ax.plot(betas, theoRes[j,:,i], linewidth=3, color=colors[j], alpha=0.4,\n",
    "                        label=r'$\\alpha$={:0.2f} old theo'.format(a_))\n",
    "        if i == 0:\n",
    "            handles.append(line)\n",
    "            labels.append(r'$\\alpha$={:0.2f} old theo'.format(a_))\n",
    "\n",
    "for i in range(3):\n",
    "    ax = axarr[i]\n",
    "    for j, a_ in enumerate(alphas):\n",
    "        marker, = ax.plot(newbs, newRes[j,:,i], marker='o', color=colors[j], linestyle='none', \n",
    "                          fillstyle='none', label=r'$\\alpha$={:0.2f} new theo'.format(a_))\n",
    "        if i == 0:\n",
    "            handles.append(marker)\n",
    "            labels.append(r'$\\alpha$={:0.2f} new theo'.format(a_))\n",
    "\n",
    "\n",
    "for i, ax in enumerate(axarr):\n",
    "    ax.grid(alpha=0.2)\n",
    "    ax.set_xlabel(r'$\\beta$', size=14)\n",
    "    ax.set_title(r'$p=${:0.2f}'.format(ps[i]))\n",
    "\n",
    "axarr[0].set_ylabel(r'fixed rewards ($R_f)$', size=14)\n",
    "f.legend(handles, labels, loc='upper center', bbox_to_anchor=(0.5, -0.02), ncol=2)\n",
    "\n",
    "plt.savefig('out.png', dpi=150, bbox_inches='tight', facecolor='white')\n",
    "plt.show()"
   ]
  },
  {
   "cell_type": "code",
   "execution_count": 219,
   "metadata": {},
   "outputs": [],
   "source": [
    "def NEW(a_, b_, p_):\n",
    "    attack = finalLambda(a=a_, b=b_, p=p_)\n",
    "    honest = ginalLambda(a=a_, b=b_, p=p_)\n",
    "    return attack/(attack+honest)\n",
    "\n",
    "def OLD(a_, b_, p_):\n",
    "    return fixRewTheo(a_=a_, b_=b_, g_=0.0, p_=p_, E_=1., C_=1.)"
   ]
  },
  {
   "cell_type": "code",
   "execution_count": 221,
   "metadata": {},
   "outputs": [
    {
     "data": {
      "text/plain": [
       "1.1102230246251565e-16"
      ]
     },
     "execution_count": 221,
     "metadata": {},
     "output_type": "execute_result"
    }
   ],
   "source": [
    "NEW(0.3, 2., 0.5) - OLD(0.3, 2., 0.5)"
   ]
  },
  {
   "cell_type": "markdown",
   "metadata": {},
   "source": [
    "# BERNOULLI rewards"
   ]
  },
  {
   "cell_type": "code",
   "execution_count": 267,
   "metadata": {},
   "outputs": [],
   "source": [
    "def honestExtrasBernoulli(a_, b_, g_, p_, C_, E_):\n",
    "    return honestBlocksBernoulli(a_, b_, g_, p_, C_, E_)\n",
    "\n",
    "def attackExtrasBernoulli(a_, b_, g_, p_, C_, E_):\n",
    "    num   = np.min([1,np.exp(-b_+C_+E_)]) + (1-np.exp(-b_+C_+E_))*(1-((1-a_)**2*(1-g_)))\n",
    "    den   = (1-p_)*(1-np.exp(-b_+C_)) + p_*(1-np.min([1,np.exp(-b_+C_+E_)]))\n",
    "    expr1 = num / den\n",
    "    expr2 = (a_**3) / ((1-2*a_)*(1-a_))\n",
    "    expr3 = expr1 + (a_+(1-a_)*g_)*(1-a_) + a_**2 + a_/(1-a_) + expr2\n",
    "    return expr3\n",
    "\n",
    "def berRewTheo(a_, b_, g_, p_, C_, E_):\n",
    "    if p_ == 0: \n",
    "        return 0\n",
    "    A = attackExtrasBernoulli(a_, b_, g_, p_, C_, E_)\n",
    "    H = honestExtrasBernoulli(a_, b_, g_, p_, C_, E_)\n",
    "    return A/(A+H)"
   ]
  },
  {
   "cell_type": "code",
   "execution_count": 268,
   "metadata": {},
   "outputs": [
    {
     "data": {
      "text/plain": [
       "(5, 225, 3)"
      ]
     },
     "execution_count": 268,
     "metadata": {},
     "output_type": "execute_result"
    }
   ],
   "source": [
    "berTheoRes = []\n",
    "for a_ in alphas:\n",
    "    temp1 = []\n",
    "    for b_ in betas:\n",
    "        temp2 = []\n",
    "        for p_ in ps:\n",
    "            temp2.append(berRewTheo(a_=a_, b_=b_, g_=0.0, p_=p_, C_=1., E_=1.))\n",
    "        temp1.append(temp2)\n",
    "    berTheoRes.append(temp1)\n",
    "berTheoRes = np.array(berTheoRes)\n",
    "berTheoRes.shape"
   ]
  },
  {
   "cell_type": "markdown",
   "metadata": {},
   "source": [
    "# path counting bernoulli"
   ]
  },
  {
   "cell_type": "code",
   "execution_count": 270,
   "metadata": {},
   "outputs": [],
   "source": [
    "p0, p0p, p1, p0pp = sp.symbols('p_0 p_{00} p_1 p_{000}')\n",
    "a, b, x, g, p, C, E  = sp.symbols('a b x g p C E')"
   ]
  },
  {
   "cell_type": "code",
   "execution_count": 271,
   "metadata": {},
   "outputs": [],
   "source": [
    "# ps should be the same\n",
    "p0    = p1 / (a*(1-p)*(1-sp.exp(-b+C)) + a*p*(1-sp.Min(sp.exp(-b+C+E),1)))\n",
    "p0p   = p1 * (1-a)\n",
    "p0pp  = p1 * a\n",
    "p2    = p1*(a/(1-a))\n",
    "prest = p1*a/(1-2*a)"
   ]
  },
  {
   "cell_type": "code",
   "execution_count": 272,
   "metadata": {},
   "outputs": [],
   "source": [
    "eq = sp.Eq(p0+p0p+p0pp+prest+p1, 1)\n",
    "p1_sym = sp.solve(eq, p1)[0]"
   ]
  },
  {
   "cell_type": "code",
   "execution_count": 273,
   "metadata": {},
   "outputs": [
    {
     "data": {
      "text/latex": [
       "$\\displaystyle \\frac{1}{1 + \\frac{1}{a p \\left(1 - \\min\\left(1, e^{C + E - b}\\right)\\right) + a \\left(1 - p\\right) \\left(1 - e^{C - b}\\right)} + \\frac{1 - a}{1 - 2 a}}$"
      ],
      "text/plain": [
       "1/(1 + 1/(a*p*(1 - Min(1, exp(C + E - b))) + a*(1 - p)*(1 - exp(C - b))) + (1 - a)/(1 - 2*a))"
      ]
     },
     "execution_count": 273,
     "metadata": {},
     "output_type": "execute_result"
    }
   ],
   "source": [
    "p1_me = (1/(a*(1-p)*(1-sp.exp(-b+C)) + a*p*(1-sp.Min(sp.exp(-b+C+E),1))) + 1 + (1-a)/(1-2*a))**(-1)\n",
    "p1_me"
   ]
  },
  {
   "cell_type": "code",
   "execution_count": 274,
   "metadata": {},
   "outputs": [
    {
     "data": {
      "text/plain": [
       "(0.138811963706275, 0.138811963706275)"
      ]
     },
     "execution_count": 274,
     "metadata": {},
     "output_type": "execute_result"
    }
   ],
   "source": [
    "p1_sym.evalf(subs={a:0.3, b:3, p:0.5, C:1, E:1}), p1_me.evalf(subs={a:0.3, b:3, p:0.5, C:1, E:1})"
   ]
  },
  {
   "cell_type": "code",
   "execution_count": 275,
   "metadata": {},
   "outputs": [
    {
     "data": {
      "text/latex": [
       "$\\displaystyle E a p \\left(1 - a\\right) \\left(1 - e^{C + E - b}\\right) \\left(a + g \\left(1 - a\\right)\\right)$"
      ],
      "text/plain": [
       "E*a*p*(1 - a)*(1 - exp(C + E - b))*(a + g*(1 - a))"
      ]
     },
     "execution_count": 275,
     "metadata": {},
     "output_type": "execute_result"
    }
   ],
   "source": [
    "f0i   = E * (a*p*sp.Min(1,sp.exp(-b+C+E)))\n",
    "f0ii  = a*E * (a*p*(1-sp.exp(-b+C+E)))\n",
    "f0iii = (1-a)*(a+g*(1-a))*E * (a*p*(1-sp.exp(-b+C+E)))\n",
    "f0iii"
   ]
  },
  {
   "cell_type": "code",
   "execution_count": 278,
   "metadata": {},
   "outputs": [],
   "source": [
    "f0   = f0i + f0ii + f0iii\n",
    "f1   = p*E*(a+(1-a)*a)"
   ]
  },
  {
   "cell_type": "code",
   "execution_count": 277,
   "metadata": {},
   "outputs": [],
   "source": [
    "# DONT NEED\n",
    "f1   = a + a*(1-a)\n",
    "f2   = a + a*(1-a)\n",
    "f3   = a + a*(1-a) + a*(1-a)**2\n",
    "f4   = a + a*(1-a) + a*(1-a)**2 + a*(1-a)**3"
   ]
  },
  {
   "cell_type": "code",
   "execution_count": 279,
   "metadata": {},
   "outputs": [
    {
     "data": {
      "text/latex": [
       "$\\displaystyle \\frac{a p \\left(0.245252960780962 a^{2} \\left(a - 1.0\\right) \\left(p \\left(\\min\\left(1.0, 7.38905609893065 e^{- b}\\right) - 1.0\\right) e^{b} + \\left(p - 1.0\\right) \\left(1.0 e^{b} - 2.71828182845905\\right)\\right) - 0.122626480390481 a \\left(a - 2.0\\right) \\left(2.0 a - 1.0\\right) \\left(p \\left(\\min\\left(1.0, 7.38905609893065 e^{- b}\\right) - 1.0\\right) e^{b} + \\left(p - 1.0\\right) \\left(1.0 e^{b} - 2.71828182845905\\right)\\right) - 0.122626480390481 \\cdot \\left(2.0 a - 1.0\\right) \\left(- a \\left(a - 1.0\\right) \\left(1.0 e^{b} - 7.38905609893065\\right) + a \\left(1.0 e^{b} - 7.38905609893065\\right) + e^{b} \\min\\left(1.0, 7.38905609893065 e^{- b}\\right)\\right)\\right) \\left(- 5.43656365691809 a p + 5.43656365691809 a + 2.71828182845905 p + \\left(2.0 a p \\min\\left(1.0, 7.38905609893065 e^{- b}\\right) - 2.0 a - p \\min\\left(1.0, 7.38905609893065 e^{- b}\\right) + 1.0\\right) e^{b} - 2.71828182845905\\right)}{\\left(2.0 a - 1.0\\right) \\left(p \\left(\\min\\left(1.0, 7.38905609893065 e^{- b}\\right) - 1.0\\right) e^{b} + \\left(p - 1.0\\right) \\left(1.0 e^{b} - 2.71828182845905\\right)\\right) \\left(- a^{2} p + a^{2} + 0.666666666666667 a p - 0.666666666666667 a + 0.122626480390481 \\cdot \\left(3.0 a^{2} p \\min\\left(1.0, 7.38905609893065 e^{- b}\\right) - 3.0 a^{2} - 2.0 a p \\min\\left(1.0, 7.38905609893065 e^{- b}\\right) + 1.0\\right) e^{b}\\right)}$"
      ],
      "text/plain": [
       "a*p*(0.245252960780962*a**2*(a - 1.0)*(p*(Min(1.0, 7.38905609893065*exp(-b)) - 1.0)*exp(b) + (p - 1.0)*(1.0*exp(b) - 2.71828182845905)) - 0.122626480390481*a*(a - 2.0)*(2.0*a - 1.0)*(p*(Min(1.0, 7.38905609893065*exp(-b)) - 1.0)*exp(b) + (p - 1.0)*(1.0*exp(b) - 2.71828182845905)) - 0.122626480390481*(2.0*a - 1.0)*(-a*(a - 1.0)*(1.0*exp(b) - 7.38905609893065) + a*(1.0*exp(b) - 7.38905609893065) + exp(b)*Min(1.0, 7.38905609893065*exp(-b))))*(-5.43656365691809*a*p + 5.43656365691809*a + 2.71828182845905*p + (2.0*a*p*Min(1.0, 7.38905609893065*exp(-b)) - 2.0*a - p*Min(1.0, 7.38905609893065*exp(-b)) + 1.0)*exp(b) - 2.71828182845905)/((2.0*a - 1.0)*(p*(Min(1.0, 7.38905609893065*exp(-b)) - 1.0)*exp(b) + (p - 1.0)*(1.0*exp(b) - 2.71828182845905))*(-a**2*p + a**2 + 0.666666666666667*a*p - 0.666666666666667*a + 0.122626480390481*(3.0*a**2*p*Min(1.0, 7.38905609893065*exp(-b)) - 3.0*a**2 - 2.0*a*p*Min(1.0, 7.38905609893065*exp(-b)) + 1.0)*exp(b)))"
      ]
     },
     "execution_count": 279,
     "metadata": {},
     "output_type": "execute_result"
    }
   ],
   "source": [
    "full  = p0*f0 + p1*f1 + p*E*p1*a*(2*a*(1-a)/(1-2*a))\n",
    "p1_ev = p1_sym.evalf(subs={C:1., E:1.})\n",
    "final = sp.simplify(full.evalf(subs={p1:p1_ev, C:1., E:1., g:0}))\n",
    "final"
   ]
  },
  {
   "cell_type": "code",
   "execution_count": 280,
   "metadata": {},
   "outputs": [
    {
     "data": {
      "text/plain": [
       "<function _lambdifygenerated(a, b, p)>"
      ]
     },
     "execution_count": 280,
     "metadata": {},
     "output_type": "execute_result"
    }
   ],
   "source": [
    "finalLambda = sp.lambdify((a, b, p), final)\n",
    "finalLambda"
   ]
  },
  {
   "cell_type": "code",
   "execution_count": 281,
   "metadata": {},
   "outputs": [],
   "source": [
    "g0   = p*E*(1-a)\n",
    "g1   = p*E*(1-a)*(1-a)*(1-g)\n",
    "g0p  = p*E*(1-a)\n",
    "g0pp = p*E*(1-a)"
   ]
  },
  {
   "cell_type": "code",
   "execution_count": 282,
   "metadata": {},
   "outputs": [
    {
     "data": {
      "text/latex": [
       "$\\displaystyle \\frac{1.0 a^{2} p \\left(1.0 - a\\right) \\left(- 2.0 a p \\min\\left(1.0, 7.38905609893065 e^{- b}\\right) + 5.43656365691809 a p e^{- b} + 2.0 a - 5.43656365691809 a e^{- b} + p \\min\\left(1.0, 7.38905609893065 e^{- b}\\right) - 2.71828182845905 p e^{- b} - 1.0 + 2.71828182845905 e^{- b}\\right)}{- 3.0 a^{2} p \\min\\left(1.0, 7.38905609893065 e^{- b}\\right) + 8.15484548537714 a^{2} p e^{- b} + 3.0 a^{2} - 8.15484548537714 a^{2} e^{- b} + 2.0 a p \\min\\left(1.0, 7.38905609893065 e^{- b}\\right) - 5.43656365691809 a p e^{- b} + 5.43656365691809 a e^{- b} - 1.0} + \\frac{2.0 a p \\left(1.0 - a\\right)^{2} \\left(- 2.0 a p \\min\\left(1.0, 7.38905609893065 e^{- b}\\right) + 5.43656365691809 a p e^{- b} + 2.0 a - 5.43656365691809 a e^{- b} + p \\min\\left(1.0, 7.38905609893065 e^{- b}\\right) - 2.71828182845905 p e^{- b} - 1.0 + 2.71828182845905 e^{- b}\\right)}{- 3.0 a^{2} p \\min\\left(1.0, 7.38905609893065 e^{- b}\\right) + 8.15484548537714 a^{2} p e^{- b} + 3.0 a^{2} - 8.15484548537714 a^{2} e^{- b} + 2.0 a p \\min\\left(1.0, 7.38905609893065 e^{- b}\\right) - 5.43656365691809 a p e^{- b} + 5.43656365691809 a e^{- b} - 1.0} + \\frac{1.0 a p \\left(1.0 - a\\right) \\left(- 2.0 a p \\min\\left(1.0, 7.38905609893065 e^{- b}\\right) + 5.43656365691809 a p e^{- b} + 2.0 a - 5.43656365691809 a e^{- b} + p \\min\\left(1.0, 7.38905609893065 e^{- b}\\right) - 2.71828182845905 p e^{- b} - 1.0 + 2.71828182845905 e^{- b}\\right)}{\\left(a p \\left(1.0 - \\min\\left(1.0, 7.38905609893065 e^{- b}\\right)\\right) + a \\left(1.0 - p\\right) \\left(1.0 - 2.71828182845905 e^{- b}\\right)\\right) \\left(- 3.0 a^{2} p \\min\\left(1.0, 7.38905609893065 e^{- b}\\right) + 8.15484548537714 a^{2} p e^{- b} + 3.0 a^{2} - 8.15484548537714 a^{2} e^{- b} + 2.0 a p \\min\\left(1.0, 7.38905609893065 e^{- b}\\right) - 5.43656365691809 a p e^{- b} + 5.43656365691809 a e^{- b} - 1.0\\right)}$"
      ],
      "text/plain": [
       "1.0*a**2*p*(1.0 - a)*(-2.0*a*p*Min(1.0, 7.38905609893065*exp(-b)) + 5.43656365691809*a*p*exp(-b) + 2.0*a - 5.43656365691809*a*exp(-b) + p*Min(1.0, 7.38905609893065*exp(-b)) - 2.71828182845905*p*exp(-b) - 1.0 + 2.71828182845905*exp(-b))/(-3.0*a**2*p*Min(1.0, 7.38905609893065*exp(-b)) + 8.15484548537714*a**2*p*exp(-b) + 3.0*a**2 - 8.15484548537714*a**2*exp(-b) + 2.0*a*p*Min(1.0, 7.38905609893065*exp(-b)) - 5.43656365691809*a*p*exp(-b) + 5.43656365691809*a*exp(-b) - 1.0) + 2.0*a*p*(1.0 - a)**2*(-2.0*a*p*Min(1.0, 7.38905609893065*exp(-b)) + 5.43656365691809*a*p*exp(-b) + 2.0*a - 5.43656365691809*a*exp(-b) + p*Min(1.0, 7.38905609893065*exp(-b)) - 2.71828182845905*p*exp(-b) - 1.0 + 2.71828182845905*exp(-b))/(-3.0*a**2*p*Min(1.0, 7.38905609893065*exp(-b)) + 8.15484548537714*a**2*p*exp(-b) + 3.0*a**2 - 8.15484548537714*a**2*exp(-b) + 2.0*a*p*Min(1.0, 7.38905609893065*exp(-b)) - 5.43656365691809*a*p*exp(-b) + 5.43656365691809*a*exp(-b) - 1.0) + 1.0*a*p*(1.0 - a)*(-2.0*a*p*Min(1.0, 7.38905609893065*exp(-b)) + 5.43656365691809*a*p*exp(-b) + 2.0*a - 5.43656365691809*a*exp(-b) + p*Min(1.0, 7.38905609893065*exp(-b)) - 2.71828182845905*p*exp(-b) - 1.0 + 2.71828182845905*exp(-b))/((a*p*(1.0 - Min(1.0, 7.38905609893065*exp(-b))) + a*(1.0 - p)*(1.0 - 2.71828182845905*exp(-b)))*(-3.0*a**2*p*Min(1.0, 7.38905609893065*exp(-b)) + 8.15484548537714*a**2*p*exp(-b) + 3.0*a**2 - 8.15484548537714*a**2*exp(-b) + 2.0*a*p*Min(1.0, 7.38905609893065*exp(-b)) - 5.43656365691809*a*p*exp(-b) + 5.43656365691809*a*exp(-b) - 1.0))"
      ]
     },
     "execution_count": 282,
     "metadata": {},
     "output_type": "execute_result"
    }
   ],
   "source": [
    "gull = p0*g0 + p1*g1 + p0p*g0p + p0pp*g0pp\n",
    "ginal = gull.evalf(subs={p1:p1_ev, C:1., E:1., g:0})\n",
    "ginal"
   ]
  },
  {
   "cell_type": "code",
   "execution_count": 283,
   "metadata": {},
   "outputs": [
    {
     "data": {
      "text/plain": [
       "<function _lambdifygenerated(a, b, p)>"
      ]
     },
     "execution_count": 283,
     "metadata": {},
     "output_type": "execute_result"
    }
   ],
   "source": [
    "ginalLambda = sp.lambdify((a, b, p), ginal)\n",
    "ginalLambda"
   ]
  },
  {
   "cell_type": "code",
   "execution_count": 284,
   "metadata": {},
   "outputs": [
    {
     "data": {
      "text/plain": [
       "array([1.751, 1.851, 1.951, 2.051, 2.151, 2.251, 2.351, 2.451, 2.551,\n",
       "       2.651, 2.751, 2.851, 2.951, 3.051, 3.151, 3.251, 3.351, 3.451,\n",
       "       3.551, 3.651, 3.751, 3.851, 3.951])"
      ]
     },
     "execution_count": 284,
     "metadata": {},
     "output_type": "execute_result"
    }
   ],
   "source": [
    "alphas    = [0.2, 0.25, 0.3, 0.35, 0.4]\n",
    "betas     = np.arange(1.751, 4, 0.01)\n",
    "ps        = [0.25, 0.5, 0.75] # using E=1, C=1\n",
    "newbs     = np.arange(1.751, 4, 0.1)\n",
    "newbs"
   ]
  },
  {
   "cell_type": "code",
   "execution_count": 285,
   "metadata": {},
   "outputs": [
    {
     "data": {
      "text/plain": [
       "0.9255948366987707"
      ]
     },
     "execution_count": 285,
     "metadata": {},
     "output_type": "execute_result"
    }
   ],
   "source": [
    "test  = finalLambda(a=0.3, b=1, p=0.5)\n",
    "test2 = ginalLambda(a=0.3, b=1, p=0.5)\n",
    "test+test2"
   ]
  },
  {
   "cell_type": "code",
   "execution_count": 286,
   "metadata": {},
   "outputs": [
    {
     "data": {
      "text/plain": [
       "(5, 23, 3)"
      ]
     },
     "execution_count": 286,
     "metadata": {},
     "output_type": "execute_result"
    }
   ],
   "source": [
    "newResBern = []\n",
    "for a_ in alphas:\n",
    "    temp1 = []\n",
    "    for b_ in newbs:\n",
    "        temp2 = []\n",
    "        for p_ in ps:\n",
    "            attack = finalLambda(a=a_, b=b_, p=p_)\n",
    "            honest = ginalLambda(a=a_, b=b_, p=p_)\n",
    "            temp2.append(attack/(attack+honest))\n",
    "        temp1.append(temp2)\n",
    "    newResBern.append(temp1)\n",
    "newResBern = np.array(newResBern)\n",
    "newResBern.shape"
   ]
  },
  {
   "cell_type": "code",
   "execution_count": 287,
   "metadata": {},
   "outputs": [
    {
     "data": {
      "image/png": "[encoded data removed]",
      "text/plain": [
       "<Figure size 1008x288 with 3 Axes>"
      ]
     },
     "metadata": {
      "needs_background": "light"
     },
     "output_type": "display_data"
    }
   ],
   "source": [
    "f, axarr = plt.subplots(ncols=3, figsize=(14,4))\n",
    "\n",
    "colors = ['maroon', 'lightseagreen', 'darkmagenta', 'peru', 'dodgerblue'] \n",
    "handles, labels = [], []\n",
    "\n",
    "for i in range(3):\n",
    "    ax = axarr[i]\n",
    "    for j, a_ in enumerate(alphas):\n",
    "        line, = ax.plot(betas, berTheoRes[j,:,i], linewidth=3, color=colors[j], alpha=0.4,\n",
    "                        label=r'$\\alpha$={:0.2f} old theo'.format(a_))\n",
    "        if i == 0:\n",
    "            handles.append(line)\n",
    "            labels.append(r'$\\alpha$={:0.2f} old theo'.format(a_))\n",
    "\n",
    "for i in range(3):\n",
    "    ax = axarr[i]\n",
    "    for j, a_ in enumerate(alphas):\n",
    "        marker, = ax.plot(newbs, newResBern[j,:,i], marker='o', color=colors[j], linestyle='none', \n",
    "                          fillstyle='none', label=r'$\\alpha$={:0.2f} new theo'.format(a_))\n",
    "        if i == 0:\n",
    "            handles.append(marker)\n",
    "            labels.append(r'$\\alpha$={:0.2f} new theo'.format(a_))\n",
    "\n",
    "\n",
    "for i, ax in enumerate(axarr):\n",
    "    ax.grid(alpha=0.2)\n",
    "    ax.set_xlabel(r'$\\beta$', size=14)\n",
    "    ax.set_title(r'$p=${:0.2f}'.format(ps[i]))\n",
    "\n",
    "axarr[0].set_ylabel(r'bernoulli rewards ($R_e)$', size=14)\n",
    "f.legend(handles, labels, loc='upper center', bbox_to_anchor=(0.5, -0.02), ncol=2)\n",
    "\n",
    "plt.savefig('out.png', dpi=150, bbox_inches='tight', facecolor='white')\n",
    "plt.show()"
   ]
  },
  {
   "cell_type": "code",
   "execution_count": 288,
   "metadata": {},
   "outputs": [],
   "source": [
    "def NEW_BER(a_, b_, p_):\n",
    "    attack = finalLambda(a=a_, b=b_, p=p_)\n",
    "    honest = ginalLambda(a=a_, b=b_, p=p_)\n",
    "    return attack/(attack+honest)\n",
    "\n",
    "def OLD_BER(a_, b_, p_):\n",
    "    return berRewTheo(a_=a_, b_=b_, g_=0.0, p_=p_, E_=1., C_=1.)"
   ]
  },
  {
   "cell_type": "code",
   "execution_count": 289,
   "metadata": {},
   "outputs": [
    {
     "data": {
      "text/plain": [
       "1.1102230246251565e-16"
      ]
     },
     "execution_count": 289,
     "metadata": {},
     "output_type": "execute_result"
    }
   ],
   "source": [
    "NEW_BER(0.3, 2., 0.5) - OLD_BER(0.3, 2., 0.5)"
   ]
  },
  {
   "cell_type": "markdown",
   "metadata": {},
   "source": [
    "# LINEAR REWARDS"
   ]
  },
  {
   "cell_type": "code",
   "execution_count": 359,
   "metadata": {},
   "outputs": [],
   "source": [
    "p0, p0p, p1, p0pp = sp.symbols('p_0 p_{00} p_1 p_{000}')\n",
    "a, b, x, g, p, C, E  = sp.symbols('alpha beta x gamma p C E')"
   ]
  },
  {
   "cell_type": "code",
   "execution_count": 374,
   "metadata": {},
   "outputs": [
    {
     "data": {
      "text/latex": [
       "$\\displaystyle \\frac{p_{1} \\cdot \\left(1 - p\\right) e^{- x}}{\\alpha p \\left(1 - \\min\\left(1, e^{C + E - \\beta}\\right)\\right) + \\alpha \\left(1 - p\\right) \\left(1 - e^{C - \\beta}\\right)}$"
      ],
      "text/plain": [
       "p_1*(1 - p)*exp(-x)/(alpha*p*(1 - Min(1, exp(C + E - beta))) + alpha*(1 - p)*(1 - exp(C - beta)))"
      ]
     },
     "execution_count": 374,
     "metadata": {},
     "output_type": "execute_result"
    }
   ],
   "source": [
    "p0fail = (1-p)*p1*sp.exp(-x) / (a*p*(1-sp.Min(1,sp.exp(-b+C+E)))+a*(1-p)*(1-sp.exp(-b+C)))\n",
    "p0fail"
   ]
  },
  {
   "cell_type": "code",
   "execution_count": 375,
   "metadata": {},
   "outputs": [
    {
     "data": {
      "text/latex": [
       "$\\displaystyle \\alpha^{2} \\cdot \\left(1 - e^{C - \\beta + x}\\right) + \\alpha \\left(1 - \\alpha\\right) \\left(1 - e^{C - \\beta + x}\\right) \\left(\\alpha + \\gamma \\left(1 - \\alpha\\right)\\right) + \\alpha e^{C - \\beta + x}$"
      ],
      "text/plain": [
       "alpha**2*(1 - exp(C - beta + x)) + alpha*(1 - alpha)*(1 - exp(C - beta + x))*(alpha + gamma*(1 - alpha)) + alpha*exp(C - beta + x)"
      ]
     },
     "execution_count": 375,
     "metadata": {},
     "output_type": "execute_result"
    }
   ],
   "source": [
    "f0failHi = a\n",
    "f0failLo = a*sp.exp(-b+C+x)+a**2*(1-sp.exp(-b+C+x)) + a*(1-a)*(1-sp.exp(-b+C+x))*(a+(1-a)*g)\n",
    "f0failLo"
   ]
  },
  {
   "cell_type": "code",
   "execution_count": 376,
   "metadata": {},
   "outputs": [],
   "source": [
    "loIntegrandFail = sp.simplify(p0fail * f0failLo)\n",
    "loIntegralFail  = sp.simplify(sp.integrate(loIntegrandFail, (x, 0, b-C)))"
   ]
  },
  {
   "cell_type": "code",
   "execution_count": 377,
   "metadata": {},
   "outputs": [],
   "source": [
    "hiIntegrandFail = sp.simplify(p0fail * f0failHi)\n",
    "hiIntegralFail  = sp.simplify(sp.integrate(hiIntegrandFail, (x, b-C, sp.oo)))"
   ]
  },
  {
   "cell_type": "code",
   "execution_count": 378,
   "metadata": {},
   "outputs": [
    {
     "data": {
      "text/latex": [
       "$\\displaystyle \\frac{p p_{1} e^{- x}}{\\alpha p \\left(1 - \\min\\left(1, e^{C + E - \\beta}\\right)\\right) + \\alpha \\left(1 - p\\right) \\left(1 - e^{C - \\beta}\\right)}$"
      ],
      "text/plain": [
       "p*p_1*exp(-x)/(alpha*p*(1 - Min(1, exp(C + E - beta))) + alpha*(1 - p)*(1 - exp(C - beta)))"
      ]
     },
     "execution_count": 378,
     "metadata": {},
     "output_type": "execute_result"
    }
   ],
   "source": [
    "p0success = p*p1*sp.exp(-x) / (a*p*(1-sp.Min(1,sp.exp(-b+C+E)))+a*(1-p)*(1-sp.exp(-b+C)))\n",
    "p0success"
   ]
  },
  {
   "cell_type": "code",
   "execution_count": 379,
   "metadata": {},
   "outputs": [
    {
     "data": {
      "text/latex": [
       "$\\displaystyle \\alpha^{2} \\cdot \\left(1 - e^{C + E - \\beta + x}\\right) + \\alpha \\left(1 - \\alpha\\right) \\left(1 - e^{C + E - \\beta + x}\\right) \\left(\\alpha + \\gamma \\left(1 - \\alpha\\right)\\right) + \\alpha e^{C + E - \\beta + x}$"
      ],
      "text/plain": [
       "alpha**2*(1 - exp(C + E - beta + x)) + alpha*(1 - alpha)*(1 - exp(C + E - beta + x))*(alpha + gamma*(1 - alpha)) + alpha*exp(C + E - beta + x)"
      ]
     },
     "execution_count": 379,
     "metadata": {},
     "output_type": "execute_result"
    }
   ],
   "source": [
    "f0successHi = a\n",
    "f0successLo = a*sp.exp(-b+C+E+x)+a**2*(1-sp.exp(-b+C+E+x)) + a*(1-a)*(1-sp.exp(-b+C+E+x))*(a+(1-a)*g)\n",
    "f0successLo"
   ]
  },
  {
   "cell_type": "code",
   "execution_count": 380,
   "metadata": {},
   "outputs": [],
   "source": [
    "loIntegrandSuccess = sp.simplify(p0success * f0successLo)\n",
    "loIntegralSuccess  = sp.simplify(sp.integrate(loIntegrandSuccess, (x, 0, sp.Max(0,b-C-E))))"
   ]
  },
  {
   "cell_type": "code",
   "execution_count": 381,
   "metadata": {},
   "outputs": [],
   "source": [
    "hiIntegrandSuccess = sp.simplify(p0success * f0successHi)\n",
    "hiIntegralSuccess  = sp.simplify(sp.integrate(hiIntegrandSuccess, (x, sp.Max(0,b-C-E), sp.oo)))"
   ]
  },
  {
   "cell_type": "code",
   "execution_count": 382,
   "metadata": {},
   "outputs": [
    {
     "data": {
      "text/latex": [
       "$\\displaystyle p_{1} \\left(- \\alpha^{2} + \\frac{2 \\alpha^{2}}{1 - 2 \\alpha} + 3 \\alpha\\right) + \\begin{cases} \\frac{p_{1} \\left(- \\alpha^{2} \\gamma e^{\\beta} + \\alpha^{2} e^{\\beta} + 2 \\alpha \\gamma e^{\\beta} - 2 \\alpha e^{\\beta} - \\gamma e^{\\beta} - \\left(C - \\beta\\right) \\left(\\alpha^{2} \\gamma - \\alpha^{2} - 2 \\alpha \\gamma + 2 \\alpha + \\gamma - 1\\right) e^{C} + \\left(\\alpha^{2} \\gamma - \\alpha^{2} - 2 \\alpha \\gamma + 2 \\alpha + \\gamma\\right) e^{C}\\right)}{e^{C} - e^{\\beta}} & \\text{for}\\: e^{C + E - \\beta} \\geq 1 \\wedge e^{C} - e^{\\beta} \\neq 0 \\\\\\frac{p_{1} \\left(C - \\beta\\right) \\left(\\left(\\alpha^{2} \\gamma - \\alpha^{2} - 2 \\alpha \\gamma + 2 \\alpha + \\gamma\\right) e^{\\beta} - \\left(\\alpha^{2} \\gamma - \\alpha^{2} - 2 \\alpha \\gamma + 2 \\alpha + \\gamma - 1\\right) e^{C}\\right)}{e^{C} - e^{\\beta}} & \\text{for}\\: \\left(e^{C + E - \\beta} \\geq 1 \\wedge p e^{C} - p e^{C + E} - e^{C} + e^{\\beta} \\neq 0\\right) \\vee e^{C + E - \\beta} \\geq 1 \\\\\\frac{p_{1} \\left(\\alpha^{2} \\gamma p e^{\\beta} - \\alpha^{2} \\gamma e^{\\beta} - \\alpha^{2} p e^{\\beta} + \\alpha^{2} e^{\\beta} - 2 \\alpha \\gamma p e^{\\beta} + 2 \\alpha \\gamma e^{\\beta} + 2 \\alpha p e^{\\beta} - 2 \\alpha e^{\\beta} + \\gamma p e^{\\beta} - \\gamma e^{\\beta} + \\left(C - \\beta\\right) \\left(\\alpha^{2} \\gamma p - \\alpha^{2} \\gamma - \\alpha^{2} p + \\alpha^{2} - 2 \\alpha \\gamma p + 2 \\alpha \\gamma + 2 \\alpha p - 2 \\alpha + \\gamma p - \\gamma - p + 1\\right) e^{C} + \\left(- \\alpha^{2} \\gamma p + \\alpha^{2} \\gamma + \\alpha^{2} p - \\alpha^{2} + 2 \\alpha \\gamma p - 2 \\alpha \\gamma - 2 \\alpha p + 2 \\alpha - \\gamma p + \\gamma\\right) e^{C}\\right)}{- p e^{C} + p e^{C + E} + e^{C} - e^{\\beta}} & \\text{for}\\: p e^{C} - p e^{C + E} - e^{C} + e^{\\beta} \\neq 0 \\\\\\frac{p_{1} \\left(C - \\beta\\right) \\left(- \\left(\\alpha^{2} \\gamma p - \\alpha^{2} \\gamma - \\alpha^{2} p + \\alpha^{2} - 2 \\alpha \\gamma p + 2 \\alpha \\gamma + 2 \\alpha p - 2 \\alpha + \\gamma p - \\gamma\\right) e^{\\beta} + \\left(\\alpha^{2} \\gamma p - \\alpha^{2} \\gamma - \\alpha^{2} p + \\alpha^{2} - 2 \\alpha \\gamma p + 2 \\alpha \\gamma + 2 \\alpha p - 2 \\alpha + \\gamma p - \\gamma - p + 1\\right) e^{C}\\right)}{- p e^{C} + p e^{C + E} + e^{C} - e^{\\beta}} & \\text{otherwise} \\end{cases} + \\begin{cases} - \\frac{p_{1} e^{C}}{e^{C} - e^{\\beta}} & \\text{for}\\: e^{C + E - \\beta} \\geq 1 \\wedge e^{C} - e^{\\beta} \\neq 0 \\\\\\begin{cases} \\text{NaN} & \\text{for}\\: \\frac{p_{1} e^{\\beta}}{e^{C} - e^{\\beta}} = 0 \\\\\\frac{p_{1} \\left(- \\left(C - \\beta\\right) \\left|{\\frac{p_{1}}{e^{C} - e^{\\beta}}}\\right| - \\infty\\right) e^{\\beta}}{\\left(e^{C} - e^{\\beta}\\right) \\left|{\\frac{p_{1}}{e^{C} - e^{\\beta}}}\\right|} & \\text{otherwise} \\end{cases} & \\text{for}\\: \\left(e^{C + E - \\beta} \\geq 1 \\wedge p e^{C} - p e^{C + E} - e^{C} + e^{\\beta} \\neq 0\\right) \\vee e^{C + E - \\beta} \\geq 1 \\\\\\frac{p_{1} \\left(p - 1\\right) e^{C}}{- p e^{C} + p e^{C + E} + e^{C} - e^{\\beta}} & \\text{for}\\: p e^{C} - p e^{C + E} - e^{C} + e^{\\beta} \\neq 0 \\\\\\begin{cases} \\text{NaN} & \\text{for}\\: \\frac{p_{1} \\left(p - 1\\right) e^{\\beta}}{p e^{C} - p e^{C + E} - e^{C} + e^{\\beta}} = 0 \\\\\\frac{p_{1} \\left(p - 1\\right) \\left(\\left(C - \\beta\\right) \\left|{\\frac{p_{1} \\left(p - 1\\right)}{p e^{C} - p e^{C + E} - e^{C} + e^{\\beta}}}\\right| + \\infty\\right) e^{\\beta}}{\\left(- p e^{C} + p e^{C + E} + e^{C} - e^{\\beta}\\right) \\left|{\\frac{p_{1} \\left(p - 1\\right)}{p e^{C} - p e^{C + E} - e^{C} + e^{\\beta}}}\\right|} & \\text{otherwise} \\end{cases} & \\text{otherwise} \\end{cases} + \\begin{cases} \\frac{p p_{1} e^{\\beta - \\max\\left(0, - C - E + \\beta\\right)}}{p e^{C} - p e^{\\beta} - e^{C} + e^{\\beta}} & \\text{for}\\: e^{C + E - \\beta} \\geq 1 \\wedge p e^{C} - p e^{\\beta} - e^{C} + e^{\\beta} \\neq 0 \\\\\\begin{cases} \\text{NaN} & \\text{for}\\: \\frac{p p_{1} e^{\\beta}}{p e^{C} - p e^{\\beta} - e^{C} + e^{\\beta}} = 0 \\\\\\frac{p p_{1} \\left(\\left(C + E - \\beta - \\left|{C + E - \\beta}\\right|\\right) \\left|{\\frac{p p_{1}}{p e^{C} - p e^{\\beta} - e^{C} + e^{\\beta}}}\\right| + \\infty\\right) e^{\\beta}}{2 \\left(p e^{C} - p e^{\\beta} - e^{C} + e^{\\beta}\\right) \\left|{\\frac{p p_{1}}{p e^{C} - p e^{\\beta} - e^{C} + e^{\\beta}}}\\right|} & \\text{otherwise} \\end{cases} & \\text{for}\\: \\left(e^{C + E - \\beta} \\geq 1 \\wedge p e^{C} - p e^{C + E} - e^{C} + e^{\\beta} \\neq 0\\right) \\vee e^{C + E - \\beta} \\geq 1 \\\\\\frac{p p_{1} e^{\\beta - \\max\\left(0, - C - E + \\beta\\right)}}{p e^{C} - p e^{C + E} - e^{C} + e^{\\beta}} & \\text{for}\\: p e^{C} - p e^{C + E} - e^{C} + e^{\\beta} \\neq 0 \\\\\\begin{cases} \\text{NaN} & \\text{for}\\: \\frac{p p_{1} e^{\\beta}}{p e^{C} - p e^{C + E} - e^{C} + e^{\\beta}} = 0 \\\\\\frac{p p_{1} \\left(- \\left(C + E - \\beta - \\left|{C + E - \\beta}\\right|\\right) \\left|{\\frac{p p_{1}}{p e^{C} - p e^{C + E} - e^{C} + e^{\\beta}}}\\right| - \\infty\\right) e^{\\beta}}{2 \\left(- p e^{C} + p e^{C + E} + e^{C} - e^{\\beta}\\right) \\left|{\\frac{p p_{1}}{p e^{C} - p e^{C + E} - e^{C} + e^{\\beta}}}\\right|} & \\text{otherwise} \\end{cases} & \\text{otherwise} \\end{cases} + \\begin{cases} \\frac{p p_{1} \\left(\\left(- \\alpha^{2} \\gamma + \\alpha^{2} + 2 \\alpha \\gamma - 2 \\alpha - \\gamma\\right) e^{\\beta} + \\left(\\alpha^{2} \\gamma e^{\\beta} - \\alpha^{2} e^{\\beta} - 2 \\alpha \\gamma e^{\\beta} + 2 \\alpha e^{\\beta} + \\gamma e^{\\beta} - \\left(\\alpha^{2} \\gamma - \\alpha^{2} - 2 \\alpha \\gamma + 2 \\alpha + \\gamma - 1\\right) e^{C + E} \\max\\left(0, - C - E + \\beta\\right)\\right) e^{\\max\\left(0, - C - E + \\beta\\right)}\\right) e^{- \\max\\left(0, - C - E + \\beta\\right)}}{p e^{C} - p e^{\\beta} - e^{C} + e^{\\beta}} & \\text{for}\\: e^{C + E - \\beta} \\geq 1 \\wedge p e^{C} - p e^{\\beta} - e^{C} + e^{\\beta} \\neq 0 \\\\\\frac{p p_{1} \\left(\\left(\\alpha^{2} \\gamma - \\alpha^{2} - 2 \\alpha \\gamma + 2 \\alpha + \\gamma\\right) e^{\\beta} - \\left(\\alpha^{2} \\gamma - \\alpha^{2} - 2 \\alpha \\gamma + 2 \\alpha + \\gamma - 1\\right) e^{C + E}\\right) \\max\\left(0, - C - E + \\beta\\right)}{p e^{C} - p e^{\\beta} - e^{C} + e^{\\beta}} & \\text{for}\\: \\left(e^{C + E - \\beta} \\geq 1 \\wedge p e^{C} - p e^{C + E} - e^{C} + e^{\\beta} \\neq 0\\right) \\vee e^{C + E - \\beta} \\geq 1 \\\\\\frac{p p_{1} \\left(\\left(\\alpha^{2} \\gamma - \\alpha^{2} - 2 \\alpha \\gamma + 2 \\alpha + \\gamma\\right) e^{\\beta} + \\left(- \\alpha^{2} \\gamma e^{\\beta} + \\alpha^{2} e^{\\beta} + 2 \\alpha \\gamma e^{\\beta} - 2 \\alpha e^{\\beta} - \\gamma e^{\\beta} + \\left(\\alpha^{2} \\gamma - \\alpha^{2} - 2 \\alpha \\gamma + 2 \\alpha + \\gamma - 1\\right) e^{C + E} \\max\\left(0, - C - E + \\beta\\right)\\right) e^{\\max\\left(0, - C - E + \\beta\\right)}\\right) e^{- \\max\\left(0, - C - E + \\beta\\right)}}{- p e^{C} + p e^{C + E} + e^{C} - e^{\\beta}} & \\text{for}\\: p e^{C} - p e^{C + E} - e^{C} + e^{\\beta} \\neq 0 \\\\\\frac{p p_{1} \\left(- \\left(\\alpha^{2} \\gamma - \\alpha^{2} - 2 \\alpha \\gamma + 2 \\alpha + \\gamma\\right) e^{\\beta} + \\left(\\alpha^{2} \\gamma - \\alpha^{2} - 2 \\alpha \\gamma + 2 \\alpha + \\gamma - 1\\right) e^{C + E}\\right) \\max\\left(0, - C - E + \\beta\\right)}{- p e^{C} + p e^{C + E} + e^{C} - e^{\\beta}} & \\text{otherwise} \\end{cases}$"
      ],
      "text/plain": [
       "p_1*(-alpha**2 + 2*alpha**2/(1 - 2*alpha) + 3*alpha) + Piecewise((p_1*(-alpha**2*gamma*exp(beta) + alpha**2*exp(beta) + 2*alpha*gamma*exp(beta) - 2*alpha*exp(beta) - gamma*exp(beta) - (C - beta)*(alpha**2*gamma - alpha**2 - 2*alpha*gamma + 2*alpha + gamma - 1)*exp(C) + (alpha**2*gamma - alpha**2 - 2*alpha*gamma + 2*alpha + gamma)*exp(C))/(exp(C) - exp(beta)), (exp(C + E - beta) >= 1) & Ne(exp(C) - exp(beta), 0)), (p_1*(C - beta)*((alpha**2*gamma - alpha**2 - 2*alpha*gamma + 2*alpha + gamma)*exp(beta) - (alpha**2*gamma - alpha**2 - 2*alpha*gamma + 2*alpha + gamma - 1)*exp(C))/(exp(C) - exp(beta)), (exp(C + E - beta) >= 1) | ((exp(C + E - beta) >= 1) & Ne(p*exp(C) - p*exp(C + E) - exp(C) + exp(beta), 0))), (p_1*(alpha**2*gamma*p*exp(beta) - alpha**2*gamma*exp(beta) - alpha**2*p*exp(beta) + alpha**2*exp(beta) - 2*alpha*gamma*p*exp(beta) + 2*alpha*gamma*exp(beta) + 2*alpha*p*exp(beta) - 2*alpha*exp(beta) + gamma*p*exp(beta) - gamma*exp(beta) + (C - beta)*(alpha**2*gamma*p - alpha**2*gamma - alpha**2*p + alpha**2 - 2*alpha*gamma*p + 2*alpha*gamma + 2*alpha*p - 2*alpha + gamma*p - gamma - p + 1)*exp(C) + (-alpha**2*gamma*p + alpha**2*gamma + alpha**2*p - alpha**2 + 2*alpha*gamma*p - 2*alpha*gamma - 2*alpha*p + 2*alpha - gamma*p + gamma)*exp(C))/(-p*exp(C) + p*exp(C + E) + exp(C) - exp(beta)), Ne(p*exp(C) - p*exp(C + E) - exp(C) + exp(beta), 0)), (p_1*(C - beta)*(-(alpha**2*gamma*p - alpha**2*gamma - alpha**2*p + alpha**2 - 2*alpha*gamma*p + 2*alpha*gamma + 2*alpha*p - 2*alpha + gamma*p - gamma)*exp(beta) + (alpha**2*gamma*p - alpha**2*gamma - alpha**2*p + alpha**2 - 2*alpha*gamma*p + 2*alpha*gamma + 2*alpha*p - 2*alpha + gamma*p - gamma - p + 1)*exp(C))/(-p*exp(C) + p*exp(C + E) + exp(C) - exp(beta)), True)) + Piecewise((-p_1*exp(C)/(exp(C) - exp(beta)), (exp(C + E - beta) >= 1) & Ne(exp(C) - exp(beta), 0)), (Piecewise((nan, Eq(p_1*exp(beta)/(exp(C) - exp(beta)), 0)), (p_1*(-(C - beta)*Abs(p_1/(exp(C) - exp(beta))) - oo)*exp(beta)/((exp(C) - exp(beta))*Abs(p_1/(exp(C) - exp(beta)))), True)), (exp(C + E - beta) >= 1) | ((exp(C + E - beta) >= 1) & Ne(p*exp(C) - p*exp(C + E) - exp(C) + exp(beta), 0))), (p_1*(p - 1)*exp(C)/(-p*exp(C) + p*exp(C + E) + exp(C) - exp(beta)), Ne(p*exp(C) - p*exp(C + E) - exp(C) + exp(beta), 0)), (Piecewise((nan, Eq(p_1*(p - 1)*exp(beta)/(p*exp(C) - p*exp(C + E) - exp(C) + exp(beta)), 0)), (p_1*(p - 1)*((C - beta)*Abs(p_1*(p - 1)/(p*exp(C) - p*exp(C + E) - exp(C) + exp(beta))) + oo)*exp(beta)/((-p*exp(C) + p*exp(C + E) + exp(C) - exp(beta))*Abs(p_1*(p - 1)/(p*exp(C) - p*exp(C + E) - exp(C) + exp(beta)))), True)), True)) + Piecewise((p*p_1*exp(beta - Max(0, -C - E + beta))/(p*exp(C) - p*exp(beta) - exp(C) + exp(beta)), (exp(C + E - beta) >= 1) & Ne(p*exp(C) - p*exp(beta) - exp(C) + exp(beta), 0)), (Piecewise((nan, Eq(p*p_1*exp(beta)/(p*exp(C) - p*exp(beta) - exp(C) + exp(beta)), 0)), (p*p_1*((C + E - beta - Abs(C + E - beta))*Abs(p*p_1/(p*exp(C) - p*exp(beta) - exp(C) + exp(beta))) + oo)*exp(beta)/(2*(p*exp(C) - p*exp(beta) - exp(C) + exp(beta))*Abs(p*p_1/(p*exp(C) - p*exp(beta) - exp(C) + exp(beta)))), True)), (exp(C + E - beta) >= 1) | ((exp(C + E - beta) >= 1) & Ne(p*exp(C) - p*exp(C + E) - exp(C) + exp(beta), 0))), (p*p_1*exp(beta - Max(0, -C - E + beta))/(p*exp(C) - p*exp(C + E) - exp(C) + exp(beta)), Ne(p*exp(C) - p*exp(C + E) - exp(C) + exp(beta), 0)), (Piecewise((nan, Eq(p*p_1*exp(beta)/(p*exp(C) - p*exp(C + E) - exp(C) + exp(beta)), 0)), (p*p_1*(-(C + E - beta - Abs(C + E - beta))*Abs(p*p_1/(p*exp(C) - p*exp(C + E) - exp(C) + exp(beta))) - oo)*exp(beta)/(2*(-p*exp(C) + p*exp(C + E) + exp(C) - exp(beta))*Abs(p*p_1/(p*exp(C) - p*exp(C + E) - exp(C) + exp(beta)))), True)), True)) + Piecewise((p*p_1*((-alpha**2*gamma + alpha**2 + 2*alpha*gamma - 2*alpha - gamma)*exp(beta) + (alpha**2*gamma*exp(beta) - alpha**2*exp(beta) - 2*alpha*gamma*exp(beta) + 2*alpha*exp(beta) + gamma*exp(beta) - (alpha**2*gamma - alpha**2 - 2*alpha*gamma + 2*alpha + gamma - 1)*exp(C + E)*Max(0, -C - E + beta))*exp(Max(0, -C - E + beta)))*exp(-Max(0, -C - E + beta))/(p*exp(C) - p*exp(beta) - exp(C) + exp(beta)), (exp(C + E - beta) >= 1) & Ne(p*exp(C) - p*exp(beta) - exp(C) + exp(beta), 0)), (p*p_1*((alpha**2*gamma - alpha**2 - 2*alpha*gamma + 2*alpha + gamma)*exp(beta) - (alpha**2*gamma - alpha**2 - 2*alpha*gamma + 2*alpha + gamma - 1)*exp(C + E))*Max(0, -C - E + beta)/(p*exp(C) - p*exp(beta) - exp(C) + exp(beta)), (exp(C + E - beta) >= 1) | ((exp(C + E - beta) >= 1) & Ne(p*exp(C) - p*exp(C + E) - exp(C) + exp(beta), 0))), (p*p_1*((alpha**2*gamma - alpha**2 - 2*alpha*gamma + 2*alpha + gamma)*exp(beta) + (-alpha**2*gamma*exp(beta) + alpha**2*exp(beta) + 2*alpha*gamma*exp(beta) - 2*alpha*exp(beta) - gamma*exp(beta) + (alpha**2*gamma - alpha**2 - 2*alpha*gamma + 2*alpha + gamma - 1)*exp(C + E)*Max(0, -C - E + beta))*exp(Max(0, -C - E + beta)))*exp(-Max(0, -C - E + beta))/(-p*exp(C) + p*exp(C + E) + exp(C) - exp(beta)), Ne(p*exp(C) - p*exp(C + E) - exp(C) + exp(beta), 0)), (p*p_1*(-(alpha**2*gamma - alpha**2 - 2*alpha*gamma + 2*alpha + gamma)*exp(beta) + (alpha**2*gamma - alpha**2 - 2*alpha*gamma + 2*alpha + gamma - 1)*exp(C + E))*Max(0, -C - E + beta)/(-p*exp(C) + p*exp(C + E) + exp(C) - exp(beta)), True))"
      ]
     },
     "execution_count": 382,
     "metadata": {},
     "output_type": "execute_result"
    }
   ],
   "source": [
    "full_old = loIntegralFail + hiIntegralFail + loIntegralSuccess + hiIntegralSuccess + p1*(3*a - a**2 + 2*a**2/(1-2*a))\n",
    "full_old"
   ]
  },
  {
   "cell_type": "code",
   "execution_count": 383,
   "metadata": {},
   "outputs": [
    {
     "data": {
      "text/latex": [
       "$\\displaystyle \\frac{1}{1 + \\frac{1}{\\alpha p \\left(1 - \\min\\left(1, e^{C + E - \\beta}\\right)\\right) + \\alpha \\left(1 - p\\right) \\left(1 - e^{C - \\beta}\\right)} + \\frac{1 - \\alpha}{1 - 2 \\alpha}}$"
      ],
      "text/plain": [
       "1/(1 + 1/(alpha*p*(1 - Min(1, exp(C + E - beta))) + alpha*(1 - p)*(1 - exp(C - beta))) + (1 - alpha)/(1 - 2*alpha))"
      ]
     },
     "execution_count": 383,
     "metadata": {},
     "output_type": "execute_result"
    }
   ],
   "source": [
    "p1_solved = 1/(1/(a*p*(1-sp.Min(1,sp.exp(-b+C+E))) + a*(1-p)*(1-sp.exp(-b+C))) + 1 + (1-a)/(1-2*a))\n",
    "p1_solved"
   ]
  },
  {
   "cell_type": "code",
   "execution_count": 384,
   "metadata": {},
   "outputs": [
    {
     "data": {
      "text/plain": [
       "<function _lambdifygenerated(alpha, beta, gamma, p, C, E)>"
      ]
     },
     "execution_count": 384,
     "metadata": {},
     "output_type": "execute_result"
    }
   ],
   "source": [
    "full_old_lambda = sp.lambdify((a, b, g, p, C, E), full_old.evalf(subs={p1:p1_solved}))\n",
    "full_old_lambda"
   ]
  },
  {
   "cell_type": "code",
   "execution_count": 385,
   "metadata": {},
   "outputs": [
    {
     "data": {
      "text/plain": [
       "array([1.751, 1.851, 1.951, 2.051, 2.151, 2.251, 2.351, 2.451, 2.551,\n",
       "       2.651, 2.751, 2.851, 2.951, 3.051, 3.151, 3.251, 3.351, 3.451,\n",
       "       3.551, 3.651, 3.751, 3.851, 3.951])"
      ]
     },
     "execution_count": 385,
     "metadata": {},
     "output_type": "execute_result"
    }
   ],
   "source": [
    "alphas    = [0.2, 0.25, 0.3, 0.35, 0.4]\n",
    "betas     = np.arange(1.751, 4, 0.01)\n",
    "ps        = [0.25, 0.5, 0.75] # using E=1, C=1\n",
    "newbs     = np.arange(1.751, 4, 0.1)\n",
    "newbs"
   ]
  },
  {
   "cell_type": "code",
   "execution_count": 386,
   "metadata": {},
   "outputs": [
    {
     "data": {
      "text/plain": [
       "(5, 225, 3)"
      ]
     },
     "execution_count": 386,
     "metadata": {},
     "output_type": "execute_result"
    }
   ],
   "source": [
    "linTheoRes = []\n",
    "for a_ in alphas:\n",
    "    temp1 = []\n",
    "    for b_ in betas:\n",
    "        temp2 = []\n",
    "        for p_ in ps:\n",
    "            temp2.append(full_old_lambda(alpha=a_, beta=b_, gamma=0.0, p=p_, C=1., E=1.))\n",
    "        temp1.append(temp2)\n",
    "    linTheoRes.append(temp1)\n",
    "linTheoRes = np.array(linTheoRes)\n",
    "linTheoRes.shape"
   ]
  },
  {
   "cell_type": "markdown",
   "metadata": {},
   "source": [
    "# path counting linear"
   ]
  },
  {
   "cell_type": "code",
   "execution_count": 341,
   "metadata": {},
   "outputs": [],
   "source": [
    "p0, p0p, p1, p0pp = sp.symbols('p_0 p_{00} p_1 p_{000}')\n",
    "a, b, x, g, p, C, E  = sp.symbols('a b x g p C E')"
   ]
  },
  {
   "cell_type": "code",
   "execution_count": 342,
   "metadata": {},
   "outputs": [],
   "source": [
    "# ps should be the same\n",
    "p0    = p1 / (a*(1-p)*(1-sp.exp(-b+C)) + a*p*(1-sp.Min(sp.exp(-b+C+E),1)))\n",
    "p0p   = p1 * (1-a)\n",
    "p0pp  = p1 * a\n",
    "p2    = p1*(a/(1-a))\n",
    "prest = p1*a/(1-2*a)"
   ]
  },
  {
   "cell_type": "code",
   "execution_count": 343,
   "metadata": {},
   "outputs": [],
   "source": [
    "eq = sp.Eq(p0+p0p+p0pp+prest+p1, 1)\n",
    "p1_sym = sp.solve(eq, p1)[0]"
   ]
  },
  {
   "cell_type": "code",
   "execution_count": 344,
   "metadata": {},
   "outputs": [
    {
     "data": {
      "text/latex": [
       "$\\displaystyle \\frac{1}{1 + \\frac{1}{a p \\left(1 - \\min\\left(1, e^{C + E - b}\\right)\\right) + a \\left(1 - p\\right) \\left(1 - e^{C - b}\\right)} + \\frac{1 - a}{1 - 2 a}}$"
      ],
      "text/plain": [
       "1/(1 + 1/(a*p*(1 - Min(1, exp(C + E - b))) + a*(1 - p)*(1 - exp(C - b))) + (1 - a)/(1 - 2*a))"
      ]
     },
     "execution_count": 344,
     "metadata": {},
     "output_type": "execute_result"
    }
   ],
   "source": [
    "p1_me = (1/(a*(1-p)*(1-sp.exp(-b+C)) + a*p*(1-sp.Min(sp.exp(-b+C+E),1))) + 1 + (1-a)/(1-2*a))**(-1)\n",
    "p1_me"
   ]
  },
  {
   "cell_type": "code",
   "execution_count": 345,
   "metadata": {},
   "outputs": [
    {
     "data": {
      "text/plain": [
       "(0.138811963706275, 0.138811963706275)"
      ]
     },
     "execution_count": 345,
     "metadata": {},
     "output_type": "execute_result"
    }
   ],
   "source": [
    "p1_sym.evalf(subs={a:0.3, b:3, p:0.5, C:1, E:1}), p1_me.evalf(subs={a:0.3, b:3, p:0.5, C:1, E:1})"
   ]
  },
  {
   "cell_type": "code",
   "execution_count": 353,
   "metadata": {},
   "outputs": [
    {
     "data": {
      "text/latex": [
       "$\\displaystyle \\left(1 - a\\right) \\left(a + g \\left(1 - a\\right)\\right) \\left(a p \\left(- \\left(- C - E + b + 1\\right) e^{C + E - b} + 1\\right) + a \\left(1 - p\\right) \\left(- \\left(- C + b + 1\\right) e^{C - b} + 1\\right)\\right)$"
      ],
      "text/plain": [
       "(1 - a)*(a + g*(1 - a))*(a*p*(-(-C - E + b + 1)*exp(C + E - b) + 1) + a*(1 - p)*(-(-C + b + 1)*exp(C - b) + 1))"
      ]
     },
     "execution_count": 353,
     "metadata": {},
     "output_type": "execute_result"
    }
   ],
   "source": [
    "f0i   = a*p*(b-C-E+1)*sp.exp(-b+C+E) + a*(1-p)*(b-C+1)*sp.exp(-b+C)\n",
    "f0ii  = a* (a*p*(1-(b-C-E+1)*sp.exp(-b+C+E)) + a*(1-p)*(1-(b-C+1)*sp.exp(-b+C))) \n",
    "f0iii = ((1-a)*(a+g*(1-a)))* (a*p*(1-(b-C-E+1)*sp.exp(-b+C+E)) + a*(1-p)*(1-(b-C+1)*sp.exp(-b+C)))\n",
    "f0iii"
   ]
  },
  {
   "cell_type": "code",
   "execution_count": 352,
   "metadata": {},
   "outputs": [
    {
     "data": {
      "text/latex": [
       "$\\displaystyle a \\left(1.0 - a\\right) \\left(a + g \\left(1.0 - a\\right)\\right) \\left(- \\left(b + 1.0\\right) e^{- b} + 1.0\\right)$"
      ],
      "text/plain": [
       "a*(1.0 - a)*(a + g*(1.0 - a))*(-(b + 1.0)*exp(-b) + 1.0)"
      ]
     },
     "execution_count": 352,
     "metadata": {},
     "output_type": "execute_result"
    }
   ],
   "source": [
    "f0iii.evalf(subs={p:0, C:0.})"
   ]
  },
  {
   "cell_type": "code",
   "execution_count": 354,
   "metadata": {},
   "outputs": [],
   "source": [
    "f0 = f0i + f0ii + f0iii\n",
    "f1 = a + 2*a*(1-a)"
   ]
  },
  {
   "cell_type": "code",
   "execution_count": 355,
   "metadata": {},
   "outputs": [
    {
     "data": {
      "text/latex": [
       "$\\displaystyle \\frac{0.122626480390481 a \\left(a^{2} \\cdot \\left(2.0 a - 3.0\\right) \\left(p \\left(\\min\\left(1.0, 7.38905609893065 e^{- b}\\right) - 1.0\\right) e^{b} + \\left(p - 1.0\\right) \\left(1.0 e^{b} - 2.71828182845905\\right)\\right) - a \\left(2.0 a - 3.0\\right) \\left(2.0 a - 1.0\\right) \\left(p \\left(\\min\\left(1.0, 7.38905609893065 e^{- b}\\right) - 1.0\\right) e^{b} + \\left(p - 1.0\\right) \\left(1.0 e^{b} - 2.71828182845905\\right)\\right) + \\left(2.0 a - 1.0\\right) \\left(- a \\left(a - 1.0\\right) \\left(p \\left(7.38905609893065 b - 1.0 e^{b} - 7.38905609893065\\right) - \\left(2.71828182845905 b - 1.0 e^{b}\\right) \\left(p - 1.0\\right)\\right) + a \\left(p \\left(7.38905609893065 b - 1.0 e^{b} - 7.38905609893065\\right) - \\left(2.71828182845905 b - 1.0 e^{b}\\right) \\left(p - 1.0\\right)\\right) + 2.71828182845905 b \\left(p - 1.0\\right) - 7.38905609893065 p \\left(b - 1.0\\right)\\right)\\right) \\left(- 5.43656365691809 a p + 5.43656365691809 a + 2.71828182845905 p + \\left(2.0 a p \\min\\left(1.0, 7.38905609893065 e^{- b}\\right) - 2.0 a - p \\min\\left(1.0, 7.38905609893065 e^{- b}\\right) + 1.0\\right) e^{b} - 2.71828182845905\\right)}{\\left(2.0 a - 1.0\\right) \\left(p \\left(\\min\\left(1.0, 7.38905609893065 e^{- b}\\right) - 1.0\\right) e^{b} + \\left(p - 1.0\\right) \\left(1.0 e^{b} - 2.71828182845905\\right)\\right) \\left(- a^{2} p + a^{2} + 0.666666666666667 a p - 0.666666666666667 a + 0.122626480390481 \\cdot \\left(3.0 a^{2} p \\min\\left(1.0, 7.38905609893065 e^{- b}\\right) - 3.0 a^{2} - 2.0 a p \\min\\left(1.0, 7.38905609893065 e^{- b}\\right) + 1.0\\right) e^{b}\\right)}$"
      ],
      "text/plain": [
       "0.122626480390481*a*(a**2*(2.0*a - 3.0)*(p*(Min(1.0, 7.38905609893065*exp(-b)) - 1.0)*exp(b) + (p - 1.0)*(1.0*exp(b) - 2.71828182845905)) - a*(2.0*a - 3.0)*(2.0*a - 1.0)*(p*(Min(1.0, 7.38905609893065*exp(-b)) - 1.0)*exp(b) + (p - 1.0)*(1.0*exp(b) - 2.71828182845905)) + (2.0*a - 1.0)*(-a*(a - 1.0)*(p*(7.38905609893065*b - 1.0*exp(b) - 7.38905609893065) - (2.71828182845905*b - 1.0*exp(b))*(p - 1.0)) + a*(p*(7.38905609893065*b - 1.0*exp(b) - 7.38905609893065) - (2.71828182845905*b - 1.0*exp(b))*(p - 1.0)) + 2.71828182845905*b*(p - 1.0) - 7.38905609893065*p*(b - 1.0)))*(-5.43656365691809*a*p + 5.43656365691809*a + 2.71828182845905*p + (2.0*a*p*Min(1.0, 7.38905609893065*exp(-b)) - 2.0*a - p*Min(1.0, 7.38905609893065*exp(-b)) + 1.0)*exp(b) - 2.71828182845905)/((2.0*a - 1.0)*(p*(Min(1.0, 7.38905609893065*exp(-b)) - 1.0)*exp(b) + (p - 1.0)*(1.0*exp(b) - 2.71828182845905))*(-a**2*p + a**2 + 0.666666666666667*a*p - 0.666666666666667*a + 0.122626480390481*(3.0*a**2*p*Min(1.0, 7.38905609893065*exp(-b)) - 3.0*a**2 - 2.0*a*p*Min(1.0, 7.38905609893065*exp(-b)) + 1.0)*exp(b)))"
      ]
     },
     "execution_count": 355,
     "metadata": {},
     "output_type": "execute_result"
    }
   ],
   "source": [
    "full = p0*f0 + p1*f1 + p1*a*a*(3-2*a)/(1-2*a)\n",
    "p1_ev = p1_sym.evalf(subs={C:1., E:1.})\n",
    "final = sp.simplify(full.evalf(subs={p1:p1_ev, C:1., E:1., g:0}))\n",
    "final"
   ]
  },
  {
   "cell_type": "code",
   "execution_count": 356,
   "metadata": {},
   "outputs": [
    {
     "data": {
      "text/plain": [
       "<function _lambdifygenerated(a, b, p)>"
      ]
     },
     "execution_count": 356,
     "metadata": {},
     "output_type": "execute_result"
    }
   ],
   "source": [
    "finalLambda = sp.lambdify((a, b, p), final)\n",
    "finalLambda"
   ]
  },
  {
   "cell_type": "code",
   "execution_count": 357,
   "metadata": {},
   "outputs": [
    {
     "data": {
      "text/plain": [
       "(5, 23, 3)"
      ]
     },
     "execution_count": 357,
     "metadata": {},
     "output_type": "execute_result"
    }
   ],
   "source": [
    "newResLin = []\n",
    "for a_ in alphas:\n",
    "    temp1 = []\n",
    "    for b_ in newbs:\n",
    "        temp2 = []\n",
    "        for p_ in ps:\n",
    "            attack = finalLambda(a=a_, b=b_, p=p_)\n",
    "            temp2.append(attack)\n",
    "        temp1.append(temp2)\n",
    "    newResLin.append(temp1)\n",
    "newResLin = np.array(newResLin)\n",
    "newResLin.shape"
   ]
  },
  {
   "cell_type": "code",
   "execution_count": 387,
   "metadata": {},
   "outputs": [
    {
     "data": {
      "image/png": "[encoded data removed]",
      "text/plain": [
       "<Figure size 1008x288 with 3 Axes>"
      ]
     },
     "metadata": {
      "needs_background": "light"
     },
     "output_type": "display_data"
    }
   ],
   "source": [
    "f, axarr = plt.subplots(ncols=3, figsize=(14,4))\n",
    "\n",
    "colors = ['maroon', 'lightseagreen', 'darkmagenta', 'peru', 'dodgerblue'] \n",
    "handles, labels = [], []\n",
    "\n",
    "for i in range(3):\n",
    "    ax = axarr[i]\n",
    "    for j, a_ in enumerate(alphas):\n",
    "        line, = ax.plot(betas, linTheoRes[j,:,i], linewidth=3, color=colors[j], alpha=0.6,\n",
    "                        label=r'$\\alpha$={:0.2f} old theo'.format(a_))\n",
    "        if i == 0:\n",
    "            handles.append(line)\n",
    "            labels.append(r'$\\alpha$={:0.2f} old theo'.format(a_))\n",
    "\n",
    "for i in range(3):\n",
    "    ax = axarr[i]\n",
    "    for j, a_ in enumerate(alphas):\n",
    "        marker, = ax.plot(newbs, newResLin[j,:,i], marker='o', color=colors[j], linestyle='none', \n",
    "                          fillstyle='none', label=r'$\\alpha$={:0.2f} new theo'.format(a_))\n",
    "        if i == 0:\n",
    "            handles.append(marker)\n",
    "            labels.append(r'$\\alpha$={:0.2f} new theo'.format(a_))\n",
    "\n",
    "\n",
    "for i, ax in enumerate(axarr):\n",
    "    ax.grid(alpha=0.2)\n",
    "    ax.set_xlabel(r'$\\beta$', size=14)\n",
    "    ax.set_title(r'$p=${:0.2f}'.format(ps[i]))\n",
    "\n",
    "axarr[0].set_ylabel(r'linear rewards ($R_\\ell)$', size=14)\n",
    "f.legend(handles, labels, loc='upper center', bbox_to_anchor=(0.5, -0.02), ncol=2)\n",
    "\n",
    "plt.savefig('out.png', dpi=150, bbox_inches='tight', facecolor='white')\n",
    "plt.show()"
   ]
  },
  {
   "cell_type": "code",
   "execution_count": 400,
   "metadata": {},
   "outputs": [
    {
     "data": {
      "text/plain": [
       "-0.006500659323224689"
      ]
     },
     "execution_count": 400,
     "metadata": {},
     "output_type": "execute_result"
    }
   ],
   "source": [
    "a_ = 0.3\n",
    "b_ = 1.6\n",
    "p_ = 0.5\n",
    "finalLambda(a_, b_, p_) - full_old_lambda(alpha=a_, beta=b_, gamma=0.0, p=p_, C=1., E=1.)"
   ]
  },
  {
   "cell_type": "code",
   "execution_count": null,
   "metadata": {},
   "outputs": [],
   "source": []
  },
  {
   "cell_type": "code",
   "execution_count": null,
   "metadata": {},
   "outputs": [],
   "source": []
  },
  {
   "cell_type": "code",
   "execution_count": null,
   "metadata": {},
   "outputs": [],
   "source": []
  },
  {
   "cell_type": "code",
   "execution_count": null,
   "metadata": {},
   "outputs": [],
   "source": []
  },
  {
   "cell_type": "code",
   "execution_count": null,
   "metadata": {},
   "outputs": [],
   "source": []
  }
 ],
 "metadata": {
  "kernelspec": {
   "display_name": "Python 3",
   "language": "python",
   "name": "python3"
  },
  "language_info": {
   "codemirror_mode": {
    "name": "ipython",
    "version": 3
   },
   "file_extension": ".py",
   "mimetype": "text/x-python",
   "name": "python",
   "nbconvert_exporter": "python",
   "pygments_lexer": "ipython3",
   "version": "3.8.16"
  }
 },
 "nbformat": 4,
 "nbformat_minor": 4
}
