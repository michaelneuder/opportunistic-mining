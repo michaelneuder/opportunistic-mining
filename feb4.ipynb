{
 "cells": [
  {
   "cell_type": "code",
   "execution_count": 1,
   "metadata": {},
   "outputs": [],
   "source": [
    "import matplotlib.pyplot as plt\n",
    "import matplotlib.patches as mpatches\n",
    "import numpy as np\n",
    "from scipy.optimize import minimize\n",
    "import pandas as pd\n",
    "from scipy.stats import poisson, uniform, expon, pareto\n",
    "from tqdm import tqdm\n",
    "from mdptoolbox import mdp, util\n",
    "import itertools\n",
    "from scipy.sparse import csr_matrix, lil_matrix\n",
    "from matplotlib.patches import Patch\n",
    "import math\n",
    "import random\n",
    "import sympy as sp\n",
    "from sympy.printing.latex import print_latex"
   ]
  },
  {
   "cell_type": "markdown",
   "metadata": {},
   "source": [
    "# G calcs"
   ]
  },
  {
   "cell_type": "code",
   "execution_count": 21,
   "metadata": {},
   "outputs": [],
   "source": [
    "# linear attack"
   ]
  },
  {
   "cell_type": "code",
   "execution_count": 2,
   "metadata": {},
   "outputs": [],
   "source": [
    "p0, p0p, p1, p0pp = sp.symbols('p_0 p_{00} p_1 p_{000}')\n",
    "a, b, x, g, p, C, E  = sp.symbols('a b x g p C E')"
   ]
  },
  {
   "cell_type": "code",
   "execution_count": 3,
   "metadata": {},
   "outputs": [],
   "source": [
    "# ps should be the same\n",
    "p0    = p1 / (a*(1-p)*(1-sp.exp(-b+C)) + a*p*(1-sp.Min(sp.exp(-b+C+E),1)))\n",
    "p0p   = p1 * (1-a)\n",
    "p0pp  = p1 * a\n",
    "p2    = p1*(a/(1-a))\n",
    "prest = p1*a/(1-2*a)"
   ]
  },
  {
   "cell_type": "code",
   "execution_count": 4,
   "metadata": {},
   "outputs": [],
   "source": [
    "eq = sp.Eq(p0+p0p+p0pp+prest+p1, 1)\n",
    "p1_sym = sp.solve(eq, p1)[0]"
   ]
  },
  {
   "cell_type": "code",
   "execution_count": 5,
   "metadata": {},
   "outputs": [
    {
     "data": {
      "text/latex": [
       "$\\displaystyle \\frac{1}{1 + \\frac{1}{a p \\left(1 - \\min\\left(1, e^{C + E - b}\\right)\\right) + a \\left(1 - p\\right) \\left(1 - e^{C - b}\\right)} + \\frac{1 - a}{1 - 2 a}}$"
      ],
      "text/plain": [
       "1/(1 + 1/(a*p*(1 - Min(1, exp(C + E - b))) + a*(1 - p)*(1 - exp(C - b))) + (1 - a)/(1 - 2*a))"
      ]
     },
     "execution_count": 5,
     "metadata": {},
     "output_type": "execute_result"
    }
   ],
   "source": [
    "p1_me = (1/(a*(1-p)*(1-sp.exp(-b+C)) + a*p*(1-sp.Min(sp.exp(-b+C+E),1))) + 1 + (1-a)/(1-2*a))**(-1)\n",
    "p1_me"
   ]
  },
  {
   "cell_type": "code",
   "execution_count": 6,
   "metadata": {},
   "outputs": [
    {
     "data": {
      "text/plain": [
       "(0.138811963706275, 0.138811963706275)"
      ]
     },
     "execution_count": 6,
     "metadata": {},
     "output_type": "execute_result"
    }
   ],
   "source": [
    "p1_sym.evalf(subs={a:0.3, b:3, p:0.5, C:1, E:1}), p1_me.evalf(subs={a:0.3, b:3, p:0.5, C:1, E:1})"
   ]
  },
  {
   "cell_type": "code",
   "execution_count": 15,
   "metadata": {},
   "outputs": [
    {
     "data": {
      "text/latex": [
       "$\\displaystyle \\left(1 - a\\right) \\left(a + g \\left(1 - a\\right)\\right) \\left(a p \\left(- \\left(\\max\\left(0, - C - E + b\\right) + 1\\right) \\min\\left(1, e^{C + E - b}\\right) + 1\\right) + a \\left(1 - p\\right) \\left(- \\left(- C + b + 1\\right) e^{C - b} + 1\\right)\\right)$"
      ],
      "text/plain": [
       "(1 - a)*(a + g*(1 - a))*(a*p*(-(Max(0, -C - E + b) + 1)*Min(1, exp(C + E - b)) + 1) + a*(1 - p)*(-(-C + b + 1)*exp(C - b) + 1))"
      ]
     },
     "execution_count": 15,
     "metadata": {},
     "output_type": "execute_result"
    }
   ],
   "source": [
    "f0i   = a*p*(sp.Max(0,b-C-E)+1)*sp.Min(1,sp.exp(-b+C+E)) + a*(1-p)*(b-C+1)*sp.exp(-b+C)\n",
    "f0ii  = a* (a*p*(1-(sp.Max(0,b-C-E)+1)*sp.Min(1,sp.exp(-b+C+E))) + a*(1-p)*(1-(b-C+1)*sp.exp(-b+C))) \n",
    "f0iii = ((1-a)*(a+g*(1-a)))* (a*p*(1-(sp.Max(0,b-C-E)+1)*sp.Min(1,sp.exp(-b+C+E))) + a*(1-p)*(1-(b-C+1)*sp.exp(-b+C)))\n",
    "f0iii"
   ]
  },
  {
   "cell_type": "code",
   "execution_count": 16,
   "metadata": {},
   "outputs": [
    {
     "data": {
      "text/latex": [
       "$\\displaystyle a \\left(1.0 - a\\right) \\left(a + g \\left(1.0 - a\\right)\\right) \\left(- \\left(b + 1.0\\right) e^{- b} + 1.0\\right)$"
      ],
      "text/plain": [
       "a*(1.0 - a)*(a + g*(1.0 - a))*(-(b + 1.0)*exp(-b) + 1.0)"
      ]
     },
     "execution_count": 16,
     "metadata": {},
     "output_type": "execute_result"
    }
   ],
   "source": [
    "f0iii.evalf(subs={p:0, C:0.})"
   ]
  },
  {
   "cell_type": "code",
   "execution_count": 17,
   "metadata": {},
   "outputs": [],
   "source": [
    "f0 = f0i + f0ii + f0iii\n",
    "f1 = a + 2*a*(1-a)"
   ]
  },
  {
   "cell_type": "code",
   "execution_count": 18,
   "metadata": {},
   "outputs": [
    {
     "data": {
      "text/latex": [
       "$\\displaystyle \\frac{0.122626480390481 a \\left(a^{2} \\cdot \\left(2.0 a - 3.0\\right) \\left(p \\left(\\min\\left(1.0, 7.38905609893065 e^{- b}\\right) - 1.0\\right) e^{b} + \\left(p - 1.0\\right) \\left(1.0 e^{b} - 2.71828182845905\\right)\\right) - a \\left(2.0 a - 3.0\\right) \\left(2.0 a - 1.0\\right) \\left(p \\left(\\min\\left(1.0, 7.38905609893065 e^{- b}\\right) - 1.0\\right) e^{b} + \\left(p - 1.0\\right) \\left(1.0 e^{b} - 2.71828182845905\\right)\\right) + \\left(2.0 a - 1.0\\right) \\left(- a \\left(a - 1.0\\right) \\left(p \\left(\\left(\\max\\left(0, b - 2.0\\right) + 1.0\\right) \\min\\left(1.0, 7.38905609893065 e^{- b}\\right) - 1.0\\right) e^{b} - \\left(2.71828182845905 b - 1.0 e^{b}\\right) \\left(p - 1.0\\right)\\right) + a \\left(p \\left(\\left(\\max\\left(0, b - 2.0\\right) + 1.0\\right) \\min\\left(1.0, 7.38905609893065 e^{- b}\\right) - 1.0\\right) e^{b} - \\left(2.71828182845905 b - 1.0 e^{b}\\right) \\left(p - 1.0\\right)\\right) + 2.71828182845905 b \\left(p - 1.0\\right) - p \\left(\\max\\left(0, b - 2.0\\right) + 1.0\\right) e^{b} \\min\\left(1.0, 7.38905609893065 e^{- b}\\right)\\right)\\right) \\left(- 5.43656365691809 a p + 5.43656365691809 a + 2.71828182845905 p + \\left(2.0 a p \\min\\left(1.0, 7.38905609893065 e^{- b}\\right) - 2.0 a - p \\min\\left(1.0, 7.38905609893065 e^{- b}\\right) + 1.0\\right) e^{b} - 2.71828182845905\\right)}{\\left(2.0 a - 1.0\\right) \\left(p \\left(\\min\\left(1.0, 7.38905609893065 e^{- b}\\right) - 1.0\\right) e^{b} + \\left(p - 1.0\\right) \\left(1.0 e^{b} - 2.71828182845905\\right)\\right) \\left(- a^{2} p + a^{2} + 0.666666666666667 a p - 0.666666666666667 a + 0.122626480390481 \\cdot \\left(3.0 a^{2} p \\min\\left(1.0, 7.38905609893065 e^{- b}\\right) - 3.0 a^{2} - 2.0 a p \\min\\left(1.0, 7.38905609893065 e^{- b}\\right) + 1.0\\right) e^{b}\\right)}$"
      ],
      "text/plain": [
       "0.122626480390481*a*(a**2*(2.0*a - 3.0)*(p*(Min(1.0, 7.38905609893065*exp(-b)) - 1.0)*exp(b) + (p - 1.0)*(1.0*exp(b) - 2.71828182845905)) - a*(2.0*a - 3.0)*(2.0*a - 1.0)*(p*(Min(1.0, 7.38905609893065*exp(-b)) - 1.0)*exp(b) + (p - 1.0)*(1.0*exp(b) - 2.71828182845905)) + (2.0*a - 1.0)*(-a*(a - 1.0)*(p*((Max(0, b - 2.0) + 1.0)*Min(1.0, 7.38905609893065*exp(-b)) - 1.0)*exp(b) - (2.71828182845905*b - 1.0*exp(b))*(p - 1.0)) + a*(p*((Max(0, b - 2.0) + 1.0)*Min(1.0, 7.38905609893065*exp(-b)) - 1.0)*exp(b) - (2.71828182845905*b - 1.0*exp(b))*(p - 1.0)) + 2.71828182845905*b*(p - 1.0) - p*(Max(0, b - 2.0) + 1.0)*exp(b)*Min(1.0, 7.38905609893065*exp(-b))))*(-5.43656365691809*a*p + 5.43656365691809*a + 2.71828182845905*p + (2.0*a*p*Min(1.0, 7.38905609893065*exp(-b)) - 2.0*a - p*Min(1.0, 7.38905609893065*exp(-b)) + 1.0)*exp(b) - 2.71828182845905)/((2.0*a - 1.0)*(p*(Min(1.0, 7.38905609893065*exp(-b)) - 1.0)*exp(b) + (p - 1.0)*(1.0*exp(b) - 2.71828182845905))*(-a**2*p + a**2 + 0.666666666666667*a*p - 0.666666666666667*a + 0.122626480390481*(3.0*a**2*p*Min(1.0, 7.38905609893065*exp(-b)) - 3.0*a**2 - 2.0*a*p*Min(1.0, 7.38905609893065*exp(-b)) + 1.0)*exp(b)))"
      ]
     },
     "execution_count": 18,
     "metadata": {},
     "output_type": "execute_result"
    }
   ],
   "source": [
    "full = p0*f0 + p1*f1 + p1*a*a*(3-2*a)/(1-2*a)\n",
    "p1_ev = p1_sym.evalf(subs={C:1., E:1.})\n",
    "final = sp.simplify(full.evalf(subs={p1:p1_ev, C:1., E:1., g:0}))\n",
    "final"
   ]
  },
  {
   "cell_type": "code",
   "execution_count": 19,
   "metadata": {},
   "outputs": [
    {
     "data": {
      "text/plain": [
       "<function _lambdifygenerated(a, b, p)>"
      ]
     },
     "execution_count": 19,
     "metadata": {},
     "output_type": "execute_result"
    }
   ],
   "source": [
    "finalLambda = sp.lambdify((a, b, p), final)\n",
    "finalLambda"
   ]
  },
  {
   "cell_type": "code",
   "execution_count": 14,
   "metadata": {},
   "outputs": [
    {
     "data": {
      "text/plain": [
       "0.32299291331383856"
      ]
     },
     "execution_count": 14,
     "metadata": {},
     "output_type": "execute_result"
    }
   ],
   "source": [
    "a_ = 0.3\n",
    "b_ = 2.2\n",
    "p_ = 0.5\n",
    "finalLambda(a_, b_, p_)"
   ]
  },
  {
   "cell_type": "code",
   "execution_count": 20,
   "metadata": {},
   "outputs": [],
   "source": [
    "# linear honest "
   ]
  },
  {
   "cell_type": "code",
   "execution_count": 22,
   "metadata": {},
   "outputs": [],
   "source": [
    "p0, p0p, p1, p0pp = sp.symbols('p_0 p_{00} p_1 p_{000}')\n",
    "a, b, x, g, p, C, E  = sp.symbols('a b x g p C E')"
   ]
  },
  {
   "cell_type": "code",
   "execution_count": 23,
   "metadata": {},
   "outputs": [],
   "source": [
    "# ps should be the same\n",
    "p0    = p1 / (a*(1-p)*(1-sp.exp(-b+C)) + a*p*(1-sp.Min(sp.exp(-b+C+E),1)))\n",
    "p0p   = p1 * (1-a)\n",
    "p0pp  = p1 * a\n",
    "p2    = p1*(a/(1-a))\n",
    "prest = p1*a/(1-2*a)"
   ]
  },
  {
   "cell_type": "code",
   "execution_count": 24,
   "metadata": {},
   "outputs": [],
   "source": [
    "eq = sp.Eq(p0+p0p+p0pp+prest+p1, 1)\n",
    "p1_sym = sp.solve(eq, p1)[0]"
   ]
  },
  {
   "cell_type": "code",
   "execution_count": 25,
   "metadata": {},
   "outputs": [
    {
     "data": {
      "text/latex": [
       "$\\displaystyle \\frac{1}{1 + \\frac{1}{a p \\left(1 - \\min\\left(1, e^{C + E - b}\\right)\\right) + a \\left(1 - p\\right) \\left(1 - e^{C - b}\\right)} + \\frac{1 - a}{1 - 2 a}}$"
      ],
      "text/plain": [
       "1/(1 + 1/(a*p*(1 - Min(1, exp(C + E - b))) + a*(1 - p)*(1 - exp(C - b))) + (1 - a)/(1 - 2*a))"
      ]
     },
     "execution_count": 25,
     "metadata": {},
     "output_type": "execute_result"
    }
   ],
   "source": [
    "p1_me = (1/(a*(1-p)*(1-sp.exp(-b+C)) + a*p*(1-sp.Min(sp.exp(-b+C+E),1))) + 1 + (1-a)/(1-2*a))**(-1)\n",
    "p1_me"
   ]
  },
  {
   "cell_type": "code",
   "execution_count": 26,
   "metadata": {},
   "outputs": [
    {
     "data": {
      "text/plain": [
       "(0.138811963706275, 0.138811963706275)"
      ]
     },
     "execution_count": 26,
     "metadata": {},
     "output_type": "execute_result"
    }
   ],
   "source": [
    "p1_sym.evalf(subs={a:0.3, b:3, p:0.5, C:1, E:1}), p1_me.evalf(subs={a:0.3, b:3, p:0.5, C:1, E:1})"
   ]
  },
  {
   "cell_type": "code",
   "execution_count": 92,
   "metadata": {},
   "outputs": [],
   "source": [
    "g0  = (1-a) + (1-a)*(1-a)*(1-g)*(a*p*(1-(sp.Max(0,b-C-E)+1)*sp.Min(1,sp.exp(-b+C+E))) + a*(1-p)*(1-(b-C+1)*sp.exp(-b+C)))\n",
    "g0p = (1-a)"
   ]
  },
  {
   "cell_type": "code",
   "execution_count": 89,
   "metadata": {},
   "outputs": [
    {
     "data": {
      "text/latex": [
       "$\\displaystyle \\frac{a^{2} \\cdot \\left(2.0 - a\\right) \\left(- 2.0 a p \\min\\left(1.0, 7.38905609893065 e^{- b}\\right) + 5.43656365691809 a p e^{- b} + 2.0 a - 5.43656365691809 a e^{- b} + p \\min\\left(1.0, 7.38905609893065 e^{- b}\\right) - 2.71828182845905 p e^{- b} - 1.0 + 2.71828182845905 e^{- b}\\right)}{- 3.0 a^{2} p \\min\\left(1.0, 7.38905609893065 e^{- b}\\right) + 8.15484548537714 a^{2} p e^{- b} + 3.0 a^{2} - 8.15484548537714 a^{2} e^{- b} + 2.0 a p \\min\\left(1.0, 7.38905609893065 e^{- b}\\right) - 5.43656365691809 a p e^{- b} + 5.43656365691809 a e^{- b} - 1.0} + \\frac{a \\left(1.0 - a\\right)^{2} \\left(- 2.0 a p \\min\\left(1.0, 7.38905609893065 e^{- b}\\right) + 5.43656365691809 a p e^{- b} + 2.0 a - 5.43656365691809 a e^{- b} + p \\min\\left(1.0, 7.38905609893065 e^{- b}\\right) - 2.71828182845905 p e^{- b} - 1.0 + 2.71828182845905 e^{- b}\\right)}{- 3.0 a^{2} p \\min\\left(1.0, 7.38905609893065 e^{- b}\\right) + 8.15484548537714 a^{2} p e^{- b} + 3.0 a^{2} - 8.15484548537714 a^{2} e^{- b} + 2.0 a p \\min\\left(1.0, 7.38905609893065 e^{- b}\\right) - 5.43656365691809 a p e^{- b} + 5.43656365691809 a e^{- b} - 1.0} + \\frac{a \\left(- a + \\left(1.0 - a\\right)^{2} \\left(p \\left(- \\left(\\max\\left(0, b - 2.0\\right) + 1.0\\right) \\min\\left(1.0, 7.38905609893065 e^{- b}\\right) + 1.0\\right) + \\left(1.0 - p\\right) \\left(- 2.71828182845905 b e^{- b} + 1.0\\right)\\right) + 1.0\\right) \\left(- 2.0 a p \\min\\left(1.0, 7.38905609893065 e^{- b}\\right) + 5.43656365691809 a p e^{- b} + 2.0 a - 5.43656365691809 a e^{- b} + p \\min\\left(1.0, 7.38905609893065 e^{- b}\\right) - 2.71828182845905 p e^{- b} - 1.0 + 2.71828182845905 e^{- b}\\right)}{\\left(a p \\left(1.0 - \\min\\left(1.0, 7.38905609893065 e^{- b}\\right)\\right) + a \\left(1.0 - p\\right) \\left(1.0 - 2.71828182845905 e^{- b}\\right)\\right) \\left(- 3.0 a^{2} p \\min\\left(1.0, 7.38905609893065 e^{- b}\\right) + 8.15484548537714 a^{2} p e^{- b} + 3.0 a^{2} - 8.15484548537714 a^{2} e^{- b} + 2.0 a p \\min\\left(1.0, 7.38905609893065 e^{- b}\\right) - 5.43656365691809 a p e^{- b} + 5.43656365691809 a e^{- b} - 1.0\\right)}$"
      ],
      "text/plain": [
       "a**2*(2.0 - a)*(-2.0*a*p*Min(1.0, 7.38905609893065*exp(-b)) + 5.43656365691809*a*p*exp(-b) + 2.0*a - 5.43656365691809*a*exp(-b) + p*Min(1.0, 7.38905609893065*exp(-b)) - 2.71828182845905*p*exp(-b) - 1.0 + 2.71828182845905*exp(-b))/(-3.0*a**2*p*Min(1.0, 7.38905609893065*exp(-b)) + 8.15484548537714*a**2*p*exp(-b) + 3.0*a**2 - 8.15484548537714*a**2*exp(-b) + 2.0*a*p*Min(1.0, 7.38905609893065*exp(-b)) - 5.43656365691809*a*p*exp(-b) + 5.43656365691809*a*exp(-b) - 1.0) + a*(1.0 - a)**2*(-2.0*a*p*Min(1.0, 7.38905609893065*exp(-b)) + 5.43656365691809*a*p*exp(-b) + 2.0*a - 5.43656365691809*a*exp(-b) + p*Min(1.0, 7.38905609893065*exp(-b)) - 2.71828182845905*p*exp(-b) - 1.0 + 2.71828182845905*exp(-b))/(-3.0*a**2*p*Min(1.0, 7.38905609893065*exp(-b)) + 8.15484548537714*a**2*p*exp(-b) + 3.0*a**2 - 8.15484548537714*a**2*exp(-b) + 2.0*a*p*Min(1.0, 7.38905609893065*exp(-b)) - 5.43656365691809*a*p*exp(-b) + 5.43656365691809*a*exp(-b) - 1.0) + a*(-a + (1.0 - a)**2*(p*(-(Max(0, b - 2.0) + 1.0)*Min(1.0, 7.38905609893065*exp(-b)) + 1.0) + (1.0 - p)*(-2.71828182845905*b*exp(-b) + 1.0)) + 1.0)*(-2.0*a*p*Min(1.0, 7.38905609893065*exp(-b)) + 5.43656365691809*a*p*exp(-b) + 2.0*a - 5.43656365691809*a*exp(-b) + p*Min(1.0, 7.38905609893065*exp(-b)) - 2.71828182845905*p*exp(-b) - 1.0 + 2.71828182845905*exp(-b))/((a*p*(1.0 - Min(1.0, 7.38905609893065*exp(-b))) + a*(1.0 - p)*(1.0 - 2.71828182845905*exp(-b)))*(-3.0*a**2*p*Min(1.0, 7.38905609893065*exp(-b)) + 8.15484548537714*a**2*p*exp(-b) + 3.0*a**2 - 8.15484548537714*a**2*exp(-b) + 2.0*a*p*Min(1.0, 7.38905609893065*exp(-b)) - 5.43656365691809*a*p*exp(-b) + 5.43656365691809*a*exp(-b) - 1.0))"
      ]
     },
     "execution_count": 89,
     "metadata": {},
     "output_type": "execute_result"
    }
   ],
   "source": [
    "gull = p0*g0 + p0p*g0p + p1*a*(2-a)\n",
    "p1_ev = p1_sym.evalf(subs={C:1., E:1.})\n",
    "ginal = gull.evalf(subs={p1:p1_ev, C:1., E:1., g:0})\n",
    "ginal"
   ]
  },
  {
   "cell_type": "code",
   "execution_count": 90,
   "metadata": {},
   "outputs": [
    {
     "data": {
      "text/plain": [
       "<function _lambdifygenerated(a, b, p)>"
      ]
     },
     "execution_count": 90,
     "metadata": {},
     "output_type": "execute_result"
    }
   ],
   "source": [
    "ginalLambda = sp.lambdify((a, b, p), ginal)\n",
    "ginalLambda"
   ]
  },
  {
   "cell_type": "code",
   "execution_count": 91,
   "metadata": {},
   "outputs": [
    {
     "data": {
      "text/plain": [
       "(0.32299291331383856, 0.674203863321568, 0.9971967766354066)"
      ]
     },
     "execution_count": 91,
     "metadata": {},
     "output_type": "execute_result"
    }
   ],
   "source": [
    "a_ = 0.3\n",
    "b_ = 2.2\n",
    "p_ = 0.5\n",
    "finalLambda(a_, b_, p_), ginalLambda(a_, b_, p_), finalLambda(a_, b_, p_) + ginalLambda(a_, b_, p_)"
   ]
  },
  {
   "cell_type": "code",
   "execution_count": null,
   "metadata": {},
   "outputs": [],
   "source": []
  }
 ],
 "metadata": {
  "kernelspec": {
   "display_name": "Python 3",
   "language": "python",
   "name": "python3"
  },
  "language_info": {
   "codemirror_mode": {
    "name": "ipython",
    "version": 3
   },
   "file_extension": ".py",
   "mimetype": "text/x-python",
   "name": "python",
   "nbconvert_exporter": "python",
   "pygments_lexer": "ipython3",
   "version": "3.8.16"
  }
 },
 "nbformat": 4,
 "nbformat_minor": 4
}
