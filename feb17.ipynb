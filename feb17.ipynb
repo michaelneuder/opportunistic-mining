{
 "cells": [
  {
   "cell_type": "code",
   "execution_count": 299,
   "metadata": {},
   "outputs": [],
   "source": [
    "import matplotlib.pyplot as plt\n",
    "import matplotlib.patches as mpatches\n",
    "import numpy as np\n",
    "from scipy.optimize import minimize\n",
    "import pandas as pd\n",
    "from scipy.stats import poisson, uniform, expon, pareto\n",
    "from tqdm import tqdm\n",
    "from mdptoolbox import mdp, util\n",
    "import itertools\n",
    "from scipy.sparse import csr_matrix, lil_matrix\n",
    "from matplotlib.patches import Patch\n",
    "import math\n",
    "import random\n",
    "import sympy as sp\n",
    "from sympy.printing.latex import print_latex"
   ]
  },
  {
   "cell_type": "code",
   "execution_count": 300,
   "metadata": {},
   "outputs": [],
   "source": [
    "def Carlsten(alpha, beta, gamma=0):\n",
    "    num1 = 1 + (beta * np.power(1-alpha,2) * (1-gamma))\n",
    "    den1 = np.exp(beta) - 1\n",
    "    exp1 = num1 / den1\n",
    "    \n",
    "    exp2 = exp1 + (5 * alpha) + (np.power(1-alpha, 2) * gamma) \n",
    "    exp3 = (2 * np.power(alpha, 2)) / (1-2 * alpha) - (2 * np.power(alpha,2))\n",
    "    \n",
    "    exp4 = exp2 + exp3\n",
    "    \n",
    "    num2 = alpha * (1-2*alpha) * (1 - np.exp(-beta))\n",
    "    den2 = 1 - 2 * np.exp(-beta) * alpha - 3 * (1 - np.exp(-beta)) * np.power(alpha,2)\n",
    "    \n",
    "    exp5 = num2 / den2\n",
    "    \n",
    "    return exp4 * exp5\n",
    "\n",
    "alpha  = 0.33\n",
    "betas  = np.arange(0.1, 10, 0.01)\n",
    "gammas = [0., 0.5, 1.]\n",
    "\n",
    "resTheir = []\n",
    "for g in gammas:\n",
    "    resTheir.append(Carlsten(alpha, betas, g))"
   ]
  },
  {
   "cell_type": "markdown",
   "metadata": {},
   "source": [
    "# MINE NEW"
   ]
  },
  {
   "cell_type": "code",
   "execution_count": 301,
   "metadata": {},
   "outputs": [],
   "source": [
    "p0, p0p, p1, p0pp = sp.symbols('p_0 p_{00} p_1 p_{000}')\n",
    "a, b, x, g, p, E, ell  = sp.symbols('a b x g p E lambda')"
   ]
  },
  {
   "cell_type": "code",
   "execution_count": 405,
   "metadata": {},
   "outputs": [],
   "source": [
    "# ps should be the same\n",
    "p0    = p1 / (a*(1-sp.exp(-(1-ell)*b)))\n",
    "p0p   = p1 * (1-a)\n",
    "p0pp  = p1 * a\n",
    "prest = p1*a/(1-2*a)"
   ]
  },
  {
   "cell_type": "code",
   "execution_count": 406,
   "metadata": {},
   "outputs": [],
   "source": [
    "eq = sp.Eq(p0+p0p+p0pp+prest+p1, 1)\n",
    "p1_sym = sp.solve(eq, p1)[0]"
   ]
  },
  {
   "cell_type": "code",
   "execution_count": 407,
   "metadata": {},
   "outputs": [
    {
     "data": {
      "text/latex": [
       "$\\displaystyle \\frac{a \\left(2 a e^{b \\left(\\lambda - 1\\right)} - 2 a - e^{b \\left(\\lambda - 1\\right)} + 1\\right)}{3 a^{2} e^{b \\left(\\lambda - 1\\right)} - 3 a^{2} - 2 a e^{b \\left(\\lambda - 1\\right)} + 1}$"
      ],
      "text/plain": [
       "a*(2*a*exp(b*(lambda - 1)) - 2*a - exp(b*(lambda - 1)) + 1)/(3*a**2*exp(b*(lambda - 1)) - 3*a**2 - 2*a*exp(b*(lambda - 1)) + 1)"
      ]
     },
     "execution_count": 407,
     "metadata": {},
     "output_type": "execute_result"
    }
   ],
   "source": [
    "p1_sym"
   ]
  },
  {
   "cell_type": "code",
   "execution_count": 408,
   "metadata": {},
   "outputs": [
    {
     "data": {
      "text/plain": [
       "(0.113594788764824, 0.113594788764824)"
      ]
     },
     "execution_count": 408,
     "metadata": {},
     "output_type": "execute_result"
    }
   ],
   "source": [
    "p1_me = (1/(a*(1-sp.exp(-(1-ell)*b))) + 1+ (1-a)/(1-2*a))**(-1)\n",
    "p1_sym.evalf(subs={a:0.3, b:1, ell:0.2}), p1_me.evalf(subs={a:0.3, b:1, ell:0.2})"
   ]
  },
  {
   "cell_type": "code",
   "execution_count": 409,
   "metadata": {},
   "outputs": [
    {
     "data": {
      "text/latex": [
       "$\\displaystyle \\frac{1}{1 + \\frac{1 - a}{1 - 2 a} + \\frac{1}{a \\left(1 - e^{b \\left(\\lambda - 1\\right)}\\right)}}$"
      ],
      "text/plain": [
       "1/(1 + (1 - a)/(1 - 2*a) + 1/(a*(1 - exp(b*(lambda - 1)))))"
      ]
     },
     "execution_count": 409,
     "metadata": {},
     "output_type": "execute_result"
    }
   ],
   "source": [
    "p1_me"
   ]
  },
  {
   "cell_type": "markdown",
   "metadata": {},
   "source": [
    "$$\n",
    "f_0 = \\alpha (\\beta+1) e^{-\\beta} + \\alpha^2 (1-(\\beta+1) e^{-\\beta}) +\\alpha(1-\\alpha)(\\alpha+\\gamma(1-\\alpha)) (1-(\\beta+1) e^{-\\beta})\n",
    "$$"
   ]
  },
  {
   "cell_type": "code",
   "execution_count": 437,
   "metadata": {},
   "outputs": [
    {
     "data": {
      "text/latex": [
       "$\\displaystyle a \\left(b + \\frac{1}{1 - \\lambda}\\right) e^{b \\left(\\lambda - 1\\right)}$"
      ],
      "text/plain": [
       "a*(b + 1/(1 - lambda))*exp(b*(lambda - 1))"
      ]
     },
     "execution_count": 437,
     "metadata": {},
     "output_type": "execute_result"
    }
   ],
   "source": [
    "f0i   = a*(b+1/(1-ell))*sp.exp(-(1-ell)*b) \n",
    "f0ii  = a**2*(1/(1-ell) - (b+1/(1-ell))*sp.exp(-(1-ell)*b))\n",
    "f0iii = a*(1-a)*(a+g*(1-a))*(1/(1-ell) - (b+1/(1-ell))*sp.exp(-(1-ell)*b))\n",
    "f0i"
   ]
  },
  {
   "cell_type": "code",
   "execution_count": 438,
   "metadata": {},
   "outputs": [
    {
     "data": {
      "text/latex": [
       "$\\displaystyle a^{2} \\left(- \\left(b + \\frac{1}{1 - \\lambda}\\right) e^{b \\left(\\lambda - 1\\right)} + \\frac{1}{1 - \\lambda}\\right) + a \\left(1 - a\\right) \\left(a + g \\left(1 - a\\right)\\right) \\left(- \\left(b + \\frac{1}{1 - \\lambda}\\right) e^{b \\left(\\lambda - 1\\right)} + \\frac{1}{1 - \\lambda}\\right) + a \\left(b + \\frac{1}{1 - \\lambda}\\right) e^{b \\left(\\lambda - 1\\right)}$"
      ],
      "text/plain": [
       "a**2*(-(b + 1/(1 - lambda))*exp(b*(lambda - 1)) + 1/(1 - lambda)) + a*(1 - a)*(a + g*(1 - a))*(-(b + 1/(1 - lambda))*exp(b*(lambda - 1)) + 1/(1 - lambda)) + a*(b + 1/(1 - lambda))*exp(b*(lambda - 1))"
      ]
     },
     "execution_count": 438,
     "metadata": {},
     "output_type": "execute_result"
    }
   ],
   "source": [
    "f0 = f0i + f0ii + f0iii\n",
    "f0"
   ]
  },
  {
   "cell_type": "code",
   "execution_count": 439,
   "metadata": {},
   "outputs": [
    {
     "data": {
      "text/latex": [
       "$\\displaystyle \\frac{2 a \\left(1 - a\\right) + a}{1 - \\lambda}$"
      ],
      "text/plain": [
       "(2*a*(1 - a) + a)/(1 - lambda)"
      ]
     },
     "execution_count": 439,
     "metadata": {},
     "output_type": "execute_result"
    }
   ],
   "source": [
    "# REAL\n",
    "f1 = (1/(1-ell))*(a + 2*a*(1-a))\n",
    "f1"
   ]
  },
  {
   "cell_type": "code",
   "execution_count": 440,
   "metadata": {},
   "outputs": [
    {
     "data": {
      "text/plain": [
       "<function _lambdifygenerated(a, b, g, lambda_)>"
      ]
     },
     "execution_count": 440,
     "metadata": {},
     "output_type": "execute_result"
    }
   ],
   "source": [
    "full = p0*f0 + p1*f1 + (1/(1-ell))*p1*a*a*(3-2*a)/(1-2*a)\n",
    "final = sp.simplify(full.evalf(subs={p1:p1_me}))\n",
    "finalLambda = sp.lambdify((a, b, g, ell), final, )\n",
    "finalLambda"
   ]
  },
  {
   "cell_type": "code",
   "execution_count": 441,
   "metadata": {},
   "outputs": [],
   "source": [
    "a_ = 0.45\n",
    "b_ = 100.3\n",
    "g_ = 1."
   ]
  },
  {
   "cell_type": "code",
   "execution_count": 442,
   "metadata": {},
   "outputs": [
    {
     "data": {
      "text/latex": [
       "$\\displaystyle 0.346815286624204$"
      ],
      "text/plain": [
       "0.346815286624204"
      ]
     },
     "execution_count": 442,
     "metadata": {},
     "output_type": "execute_result"
    }
   ],
   "source": [
    "subs = {a:a_, b:b_, g:g_}\n",
    "o_rest = p1*a*(1-a)/(1-2*a)\n",
    "orphan_full = p0p + o_rest\n",
    "\n",
    "eq1 = sp.Eq(orphan_full.subs({p1:p1_sym}).subs(subs), ell)\n",
    "ell_ = sp.nsolve(eq1, ell, 0.1)\n",
    "ell_"
   ]
  },
  {
   "cell_type": "code",
   "execution_count": 445,
   "metadata": {},
   "outputs": [
    {
     "data": {
      "text/plain": [
       "(1.0878108239882982, 1.08781082398830, -2.22044604925031e-16)"
      ]
     },
     "execution_count": 445,
     "metadata": {},
     "output_type": "execute_result"
    }
   ],
   "source": [
    "finalLambda(a_, b_, g_, float(ell_)),  1/(1-ell_)*Carlsten(a_, b_, g_), \\\n",
    "finalLambda(a_, b_, g_, float(ell_)) - 1/(1-ell_)*Carlsten(a_, b_, g_)"
   ]
  },
  {
   "cell_type": "code",
   "execution_count": 74,
   "metadata": {},
   "outputs": [],
   "source": [
    "alpha  = 0.33\n",
    "betas_NEW  = np.arange(0.1, 10, 0.2)\n",
    "gammas = [0., 0.5, 1.]\n",
    "\n",
    "resNEW = []\n",
    "for g_ in gammas:\n",
    "    attack = finalLambda(alpha, betas_NEW, g_, 0.)\n",
    "    resNEW.append(attack)"
   ]
  },
  {
   "cell_type": "code",
   "execution_count": 75,
   "metadata": {},
   "outputs": [
    {
     "data": {
      "image/png": "[encoded data removed]",
      "text/plain": [
       "<Figure size 648x432 with 1 Axes>"
      ]
     },
     "metadata": {
      "needs_background": "light"
     },
     "output_type": "display_data"
    }
   ],
   "source": [
    "f, ax = plt.subplots(figsize=(9,6))\n",
    "\n",
    "colors = ['goldenrod', 'mediumseagreen', 'mediumvioletred']\n",
    "for i in [0, 1, 2]:\n",
    "    ax.plot(betas, resTheir[i], color=colors[i], alpha=0.2,\n",
    "            label='$\\gamma={:0.1f}$, Matts'.format(gammas[i]), \n",
    "            linestyle='-', linewidth=5)\n",
    "    ax.plot(betas_NEW, resNEW[i], color='red', alpha=1, marker='x',\n",
    "            label='$\\gamma={:0.1f}$, ours'.format(gammas[i]),\n",
    "            linestyle='-', linewidth=0.5)\n",
    "\n",
    "    \n",
    "\n",
    "ax.set_xlabel(r'$\\beta$', size=15)\n",
    "ax.set_ylabel(r'proportion of rewards', size=15)\n",
    "ax.grid(alpha=0.2)\n",
    "ax.legend(bbox_to_anchor=(1,.95))\n",
    "\n",
    "plt.savefig('out.png', dpi=400, bbox_inches='tight', facecolor='white')\n",
    "plt.show()"
   ]
  },
  {
   "cell_type": "markdown",
   "metadata": {},
   "source": [
    "# NEW RATE 1/(1-lambda)"
   ]
  },
  {
   "cell_type": "code",
   "execution_count": 474,
   "metadata": {},
   "outputs": [],
   "source": [
    "p0, p0p, p1, p0pp = sp.symbols('p_0 p_{00} p_1 p_{000}')\n",
    "a, b, x, g, p, E, ell  = sp.symbols('a b x g p E lambda')"
   ]
  },
  {
   "cell_type": "code",
   "execution_count": 481,
   "metadata": {},
   "outputs": [],
   "source": [
    "# ps should be the same\n",
    "p0    = p1 / (a*(1-sp.exp(-b/(1-ell))))\n",
    "p0p   = p1 * (1-a)\n",
    "p0pp  = p1 * a\n",
    "prest = p1*a/(1-2*a)"
   ]
  },
  {
   "cell_type": "code",
   "execution_count": 482,
   "metadata": {},
   "outputs": [
    {
     "data": {
      "text/latex": [
       "$\\displaystyle \\frac{p_{1}}{a \\left(1 - e^{- \\frac{b}{1 - \\lambda}}\\right)}$"
      ],
      "text/plain": [
       "p_1/(a*(1 - exp(-b/(1 - lambda))))"
      ]
     },
     "execution_count": 482,
     "metadata": {},
     "output_type": "execute_result"
    }
   ],
   "source": [
    "p0"
   ]
  },
  {
   "cell_type": "code",
   "execution_count": 476,
   "metadata": {},
   "outputs": [],
   "source": [
    "eq = sp.Eq(p0+p0p+p0pp+prest+p1, 1)\n",
    "p1_sym = sp.solve(eq, p1)[0]"
   ]
  },
  {
   "cell_type": "code",
   "execution_count": 449,
   "metadata": {},
   "outputs": [
    {
     "data": {
      "text/latex": [
       "$\\displaystyle \\frac{a \\left(2 a e^{\\frac{b}{\\lambda - 1}} - 2 a - e^{\\frac{b}{\\lambda - 1}} + 1\\right)}{- 3 a^{2} + a \\left(3 a - 2\\right) e^{\\frac{b}{\\lambda - 1}} + 1}$"
      ],
      "text/plain": [
       "a*(2*a*exp(b/(lambda - 1)) - 2*a - exp(b/(lambda - 1)) + 1)/(-3*a**2 + a*(3*a - 2)*exp(b/(lambda - 1)) + 1)"
      ]
     },
     "execution_count": 449,
     "metadata": {},
     "output_type": "execute_result"
    }
   ],
   "source": [
    "p1_sym"
   ]
  },
  {
   "cell_type": "code",
   "execution_count": 477,
   "metadata": {},
   "outputs": [
    {
     "data": {
      "text/plain": [
       "(0.134737530842340, 0.134737530842340)"
      ]
     },
     "execution_count": 477,
     "metadata": {},
     "output_type": "execute_result"
    }
   ],
   "source": [
    "p1_me = (1/(a*(1-sp.exp(-b/(1-ell)))) + 1+ (1-a)/(1-2*a))**(-1)\n",
    "p1_sym.evalf(subs={a:0.3, b:1, ell:0.2}), p1_me.evalf(subs={a:0.3, b:1, ell:0.2})"
   ]
  },
  {
   "cell_type": "code",
   "execution_count": 478,
   "metadata": {},
   "outputs": [
    {
     "data": {
      "text/latex": [
       "$\\displaystyle \\frac{1}{1 + \\frac{1 - a}{1 - 2 a} + \\frac{1}{a \\left(1 - e^{- \\frac{b}{1 - \\lambda}}\\right)}}$"
      ],
      "text/plain": [
       "1/(1 + (1 - a)/(1 - 2*a) + 1/(a*(1 - exp(-b/(1 - lambda)))))"
      ]
     },
     "execution_count": 478,
     "metadata": {},
     "output_type": "execute_result"
    }
   ],
   "source": [
    "p1_me"
   ]
  },
  {
   "cell_type": "markdown",
   "metadata": {},
   "source": [
    "$$\n",
    "f_0 = \\alpha (\\beta+1) e^{-\\beta} + \\alpha^2 (1-(\\beta+1) e^{-\\beta}) +\\alpha(1-\\alpha)(\\alpha+\\gamma(1-\\alpha)) (1-(\\beta+1) e^{-\\beta})\n",
    "$$"
   ]
  },
  {
   "cell_type": "code",
   "execution_count": 543,
   "metadata": {},
   "outputs": [
    {
     "data": {
      "text/latex": [
       "$\\displaystyle a \\left(1 - a\\right) \\left(a + g \\left(1 - a\\right)\\right) \\left(- \\lambda - \\left(b - \\lambda + 1\\right) e^{- \\frac{b}{1 - \\lambda}} + 1\\right)$"
      ],
      "text/plain": [
       "a*(1 - a)*(a + g*(1 - a))*(-lambda - (b - lambda + 1)*exp(-b/(1 - lambda)) + 1)"
      ]
     },
     "execution_count": 543,
     "metadata": {},
     "output_type": "execute_result"
    }
   ],
   "source": [
    "f0i   = a*(b+1-ell)*sp.exp(-b/(1-ell)) \n",
    "f0ii  = a**2*(1-ell - (b+1-ell)*sp.exp(-b/(1-ell)))\n",
    "f0iii = a*(1-a)*(a+g*(1-a))*(1-ell - (b+1-ell)*sp.exp(-b/(1-ell)))\n",
    "f0iii"
   ]
  },
  {
   "cell_type": "code",
   "execution_count": 453,
   "metadata": {},
   "outputs": [
    {
     "data": {
      "text/latex": [
       "$\\displaystyle a^{2} \\left(- \\lambda - \\left(b - \\lambda + 1\\right) e^{- \\frac{b}{1 - \\lambda}} + 1\\right) + a \\left(1 - a\\right) \\left(a + g \\left(1 - a\\right)\\right) \\left(- \\lambda - \\left(b - \\lambda + 1\\right) e^{- \\frac{b}{1 - \\lambda}} + 1\\right) + a \\left(b - \\lambda + 1\\right) e^{- \\frac{b}{1 - \\lambda}}$"
      ],
      "text/plain": [
       "a**2*(-lambda - (b - lambda + 1)*exp(-b/(1 - lambda)) + 1) + a*(1 - a)*(a + g*(1 - a))*(-lambda - (b - lambda + 1)*exp(-b/(1 - lambda)) + 1) + a*(b - lambda + 1)*exp(-b/(1 - lambda))"
      ]
     },
     "execution_count": 453,
     "metadata": {},
     "output_type": "execute_result"
    }
   ],
   "source": [
    "f0 = f0i + f0ii + f0iii\n",
    "f0"
   ]
  },
  {
   "cell_type": "code",
   "execution_count": 454,
   "metadata": {},
   "outputs": [
    {
     "data": {
      "text/latex": [
       "$\\displaystyle \\left(1 - \\lambda\\right) \\left(2 a \\left(1 - a\\right) + a\\right)$"
      ],
      "text/plain": [
       "(1 - lambda)*(2*a*(1 - a) + a)"
      ]
     },
     "execution_count": 454,
     "metadata": {},
     "output_type": "execute_result"
    }
   ],
   "source": [
    "# REAL\n",
    "f1 = (1-ell)*(a + 2*a*(1-a))\n",
    "f1"
   ]
  },
  {
   "cell_type": "code",
   "execution_count": 455,
   "metadata": {},
   "outputs": [
    {
     "data": {
      "text/plain": [
       "<function _lambdifygenerated(a, b, g, lambda_)>"
      ]
     },
     "execution_count": 455,
     "metadata": {},
     "output_type": "execute_result"
    }
   ],
   "source": [
    "full = p0*f0 + p1*f1 + (1-ell)*p1*a*a*(3-2*a)/(1-2*a)\n",
    "final = sp.simplify(full.evalf(subs={p1:p1_me}))\n",
    "finalLambda = sp.lambdify((a, b, g, ell), final, )\n",
    "finalLambda"
   ]
  },
  {
   "cell_type": "code",
   "execution_count": 547,
   "metadata": {},
   "outputs": [],
   "source": [
    "a_ = 0.1\n",
    "b_ = 2.\n",
    "g_ = 1."
   ]
  },
  {
   "cell_type": "code",
   "execution_count": 545,
   "metadata": {},
   "outputs": [
    {
     "data": {
      "text/latex": [
       "$\\displaystyle 0.0826233579870832$"
      ],
      "text/plain": [
       "0.0826233579870832"
      ]
     },
     "execution_count": 545,
     "metadata": {},
     "output_type": "execute_result"
    }
   ],
   "source": [
    "subs = {a:a_, b:b_, g:g_}\n",
    "o_rest = p1*a*(1-a)/(1-2*a)\n",
    "orphan_full = p0p + o_rest\n",
    "\n",
    "eq1 = sp.Eq(orphan_full.subs({p1:p1_sym}).subs(subs), ell)\n",
    "ell_ = sp.nsolve(eq1, ell, 0.1)\n",
    "ell_"
   ]
  },
  {
   "cell_type": "code",
   "execution_count": 546,
   "metadata": {},
   "outputs": [
    {
     "data": {
      "text/plain": [
       "(0.108325499509641, 0.10832549950964139, 2.77555756156289e-17)"
      ]
     },
     "execution_count": 546,
     "metadata": {},
     "output_type": "execute_result"
    }
   ],
   "source": [
    "finalLambda(a_, float(b_*(1-ell_)), g_, float(ell_))/(1-ell_),  Carlsten(a_, b_, g_), \\\n",
    "finalLambda(a_, float(b_*(1-ell_)), g_, float(ell_))/(1-ell_) - Carlsten(a_, b_, g_)"
   ]
  },
  {
   "cell_type": "code",
   "execution_count": 74,
   "metadata": {},
   "outputs": [],
   "source": [
    "alpha  = 0.33\n",
    "betas_NEW  = np.arange(0.1, 10, 0.2)\n",
    "gammas = [0., 0.5, 1.]\n",
    "\n",
    "resNEW = []\n",
    "for g_ in gammas:\n",
    "    attack = finalLambda(alpha, betas_NEW, g_, 0.)\n",
    "    resNEW.append(attack)"
   ]
  },
  {
   "cell_type": "code",
   "execution_count": 75,
   "metadata": {},
   "outputs": [
    {
     "data": {
      "image/png": "[encoded data removed]",
      "text/plain": [
       "<Figure size 648x432 with 1 Axes>"
      ]
     },
     "metadata": {
      "needs_background": "light"
     },
     "output_type": "display_data"
    }
   ],
   "source": [
    "f, ax = plt.subplots(figsize=(9,6))\n",
    "\n",
    "colors = ['goldenrod', 'mediumseagreen', 'mediumvioletred']\n",
    "for i in [0, 1, 2]:\n",
    "    ax.plot(betas, resTheir[i], color=colors[i], alpha=0.2,\n",
    "            label='$\\gamma={:0.1f}$, Matts'.format(gammas[i]), \n",
    "            linestyle='-', linewidth=5)\n",
    "    ax.plot(betas_NEW, resNEW[i], color='red', alpha=1, marker='x',\n",
    "            label='$\\gamma={:0.1f}$, ours'.format(gammas[i]),\n",
    "            linestyle='-', linewidth=0.5)\n",
    "\n",
    "    \n",
    "\n",
    "ax.set_xlabel(r'$\\beta$', size=15)\n",
    "ax.set_ylabel(r'proportion of rewards', size=15)\n",
    "ax.grid(alpha=0.2)\n",
    "ax.legend(bbox_to_anchor=(1,.95))\n",
    "\n",
    "plt.savefig('out.png', dpi=400, bbox_inches='tight', facecolor='white')\n",
    "plt.show()"
   ]
  },
  {
   "cell_type": "code",
   "execution_count": null,
   "metadata": {},
   "outputs": [],
   "source": []
  },
  {
   "cell_type": "code",
   "execution_count": null,
   "metadata": {},
   "outputs": [],
   "source": []
  },
  {
   "cell_type": "code",
   "execution_count": null,
   "metadata": {},
   "outputs": [],
   "source": []
  },
  {
   "cell_type": "code",
   "execution_count": null,
   "metadata": {},
   "outputs": [],
   "source": []
  },
  {
   "cell_type": "code",
   "execution_count": null,
   "metadata": {},
   "outputs": [],
   "source": []
  },
  {
   "cell_type": "code",
   "execution_count": null,
   "metadata": {},
   "outputs": [],
   "source": []
  },
  {
   "cell_type": "code",
   "execution_count": 421,
   "metadata": {},
   "outputs": [],
   "source": [
    "# RANDOM"
   ]
  },
  {
   "cell_type": "code",
   "execution_count": 422,
   "metadata": {},
   "outputs": [
    {
     "data": {
      "text/latex": [
       "$\\displaystyle \\frac{1}{1 + \\frac{1 - a}{1 - 2 a} + \\frac{1}{a \\left(1 - e^{b \\left(\\lambda - 1\\right)}\\right)}}$"
      ],
      "text/plain": [
       "1/(1 + (1 - a)/(1 - 2*a) + 1/(a*(1 - exp(b*(lambda - 1)))))"
      ]
     },
     "execution_count": 422,
     "metadata": {},
     "output_type": "execute_result"
    }
   ],
   "source": [
    "p1_me"
   ]
  },
  {
   "cell_type": "markdown",
   "metadata": {},
   "source": [
    "$$\n",
    "f_0 = \\alpha (\\beta+1) e^{-\\beta} + \\alpha^2 (1-(\\beta+1) e^{-\\beta}) +\\alpha(1-\\alpha)(\\alpha+\\gamma(1-\\alpha)) (1-(\\beta+1) e^{-\\beta})\n",
    "$$"
   ]
  },
  {
   "cell_type": "code",
   "execution_count": 429,
   "metadata": {},
   "outputs": [
    {
     "data": {
      "text/latex": [
       "$\\displaystyle a \\left(b + \\frac{1}{1 - \\lambda}\\right)$"
      ],
      "text/plain": [
       "a*(b + 1/(1 - lambda))"
      ]
     },
     "execution_count": 429,
     "metadata": {},
     "output_type": "execute_result"
    }
   ],
   "source": [
    "f0i   = a*(b+1/(1-ell))\n",
    "f0ii  = a**2*(1/(1-ell) - (b*sp.exp(-(1-ell)*b)/(1-sp.exp(-(1-ell)*b))))\n",
    "f0iii = a*(1-a)*(a+g*(1-a))*(1/(1-ell) - (b*sp.exp(-(1-ell)*b)/(1-sp.exp(-(1-ell)*b))))\n",
    "f0i"
   ]
  },
  {
   "cell_type": "code",
   "execution_count": 430,
   "metadata": {},
   "outputs": [
    {
     "data": {
      "text/latex": [
       "$\\displaystyle a^{2} \\left(- \\frac{b e^{b \\left(\\lambda - 1\\right)}}{1 - e^{b \\left(\\lambda - 1\\right)}} + \\frac{1}{1 - \\lambda}\\right) + a \\left(1 - a\\right) \\left(a + g \\left(1 - a\\right)\\right) \\left(- \\frac{b e^{b \\left(\\lambda - 1\\right)}}{1 - e^{b \\left(\\lambda - 1\\right)}} + \\frac{1}{1 - \\lambda}\\right) + a \\left(b + \\frac{1}{1 - \\lambda}\\right)$"
      ],
      "text/plain": [
       "a**2*(-b*exp(b*(lambda - 1))/(1 - exp(b*(lambda - 1))) + 1/(1 - lambda)) + a*(1 - a)*(a + g*(1 - a))*(-b*exp(b*(lambda - 1))/(1 - exp(b*(lambda - 1))) + 1/(1 - lambda)) + a*(b + 1/(1 - lambda))"
      ]
     },
     "execution_count": 430,
     "metadata": {},
     "output_type": "execute_result"
    }
   ],
   "source": [
    "f0 = f0i + f0ii + f0iii\n",
    "f0"
   ]
  },
  {
   "cell_type": "code",
   "execution_count": 431,
   "metadata": {},
   "outputs": [
    {
     "data": {
      "text/latex": [
       "$\\displaystyle \\frac{2 a \\left(1 - a\\right) + a}{1 - \\lambda}$"
      ],
      "text/plain": [
       "(2*a*(1 - a) + a)/(1 - lambda)"
      ]
     },
     "execution_count": 431,
     "metadata": {},
     "output_type": "execute_result"
    }
   ],
   "source": [
    "# REAL\n",
    "f1 = (1/(1-ell))*(a + 2*a*(1-a))\n",
    "f1"
   ]
  },
  {
   "cell_type": "code",
   "execution_count": 432,
   "metadata": {},
   "outputs": [
    {
     "data": {
      "text/plain": [
       "<function _lambdifygenerated(a, b, g, lambda_)>"
      ]
     },
     "execution_count": 432,
     "metadata": {},
     "output_type": "execute_result"
    }
   ],
   "source": [
    "full = p0*f0 + p1*f1 + (1/(1-ell))*p1*a*a*(3-2*a)/(1-2*a)\n",
    "final = sp.simplify(full.evalf(subs={p1:p1_me}))\n",
    "finalLambda = sp.lambdify((a, b, g, ell), final, )\n",
    "finalLambda"
   ]
  },
  {
   "cell_type": "code",
   "execution_count": 433,
   "metadata": {},
   "outputs": [],
   "source": [
    "a_ = 0.45\n",
    "b_ = 100.3\n",
    "g_ = 1."
   ]
  },
  {
   "cell_type": "code",
   "execution_count": 434,
   "metadata": {},
   "outputs": [
    {
     "data": {
      "text/latex": [
       "$\\displaystyle 0.346815286624204$"
      ],
      "text/plain": [
       "0.346815286624204"
      ]
     },
     "execution_count": 434,
     "metadata": {},
     "output_type": "execute_result"
    }
   ],
   "source": [
    "subs = {a:a_, b:b_, g:g_}\n",
    "o_rest = p1*a*(1-a)/(1-2*a)\n",
    "orphan_full = p0p + o_rest\n",
    "\n",
    "eq1 = sp.Eq(orphan_full.subs({p1:p1_sym}).subs(subs), ell)\n",
    "ell_ = sp.nsolve(eq1, ell, 0.1)\n",
    "ell_"
   ]
  },
  {
   "cell_type": "code",
   "execution_count": 436,
   "metadata": {},
   "outputs": [
    {
     "data": {
      "text/plain": [
       "(12.762698015881636, 1.08781082398830, 11.6748871918933)"
      ]
     },
     "execution_count": 436,
     "metadata": {},
     "output_type": "execute_result"
    }
   ],
   "source": [
    "finalLambda(a_, b_, g_, float(ell_)),  1/(1-ell_)*Carlsten(a_, b_, g_), \\\n",
    "finalLambda(a_, b_, g_, float(ell_)) - 1/(1-ell_)*Carlsten(a_, b_, g_)"
   ]
  },
  {
   "cell_type": "code",
   "execution_count": null,
   "metadata": {},
   "outputs": [],
   "source": [
    "`"
   ]
  }
 ],
 "metadata": {
  "kernelspec": {
   "display_name": "Python 3",
   "language": "python",
   "name": "python3"
  },
  "language_info": {
   "codemirror_mode": {
    "name": "ipython",
    "version": 3
   },
   "file_extension": ".py",
   "mimetype": "text/x-python",
   "name": "python",
   "nbconvert_exporter": "python",
   "pygments_lexer": "ipython3",
   "version": "3.8.16"
  }
 },
 "nbformat": 4,
 "nbformat_minor": 4
}
