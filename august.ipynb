{
 "cells": [
  {
   "cell_type": "code",
   "execution_count": 1,
   "metadata": {},
   "outputs": [],
   "source": [
    "import matplotlib.pyplot as plt\n",
    "import matplotlib as mpl\n",
    "import matplotlib.patches as mpatches\n",
    "import numpy as np\n",
    "import pandas as pd\n",
    "from scipy.stats import poisson, uniform, expon, pareto\n",
    "from scipy.optimize import minimize\n",
    "from tqdm import tqdm\n",
    "from mdptoolbox import mdp, util\n",
    "import itertools\n",
    "from scipy.sparse import csr_matrix, lil_matrix\n",
    "from matplotlib.patches import Patch\n",
    "import math\n",
    "import random\n",
    "import sympy as sp\n",
    "from sympy.printing.latex import print_latex"
   ]
  },
  {
   "cell_type": "markdown",
   "metadata": {},
   "source": [
    "# replicate figure 7 from carlsten \n",
    "\n",
    "setup: calculate the proportion of transaction fees earned by an adversary playing the pure selfish strategy given block times modelled as an exponential distribution."
   ]
  },
  {
   "cell_type": "code",
   "execution_count": 264,
   "metadata": {},
   "outputs": [
    {
     "name": "stderr",
     "output_type": "stream",
     "text": [
      "100%|██████████| 100000/100000 [00:00<00:00, 258374.64it/s]\n"
     ]
    },
    {
     "data": {
      "text/plain": [
       "((0.7287714014834644, 0.27122859851653564), 65338, 89655)"
      ]
     },
     "execution_count": 264,
     "metadata": {},
     "output_type": "execute_result"
    }
   ],
   "source": [
    "state = [0,0] # (attacker, honest)\n",
    "alpha = 0.3\n",
    "\n",
    "honestBlcs = 0\n",
    "attackBlcs = 0\n",
    "\n",
    "for _ in tqdm(range(int(1e5))):\n",
    "    attBlock  = np.random.binomial(1, alpha)\n",
    "\n",
    "    if state == [0,0]:\n",
    "        if attBlock:\n",
    "            state = [1,0]\n",
    "        else:\n",
    "            honestBlcs += 1\n",
    "        continue\n",
    "    \n",
    "    if state == [1,0]:\n",
    "        if attBlock:\n",
    "            state = [2,0]\n",
    "        else:\n",
    "            nextAttBlock  = np.random.binomial(1, alpha)\n",
    "            if nextAttBlock:\n",
    "                attackBlcs += 2\n",
    "            else:\n",
    "                honestBlcs += 2\n",
    "            state = [0,0]\n",
    "        continue\n",
    "        \n",
    "    if attBlock:\n",
    "        state[0] += 1\n",
    "    else:\n",
    "        state[1] += 1\n",
    "    \n",
    "    diff = state[0] - state[1]\n",
    "    if diff == 1:\n",
    "        attackBlcs += state[0]\n",
    "        state = [0,0]\n",
    "\n",
    "totalBlcs = honestBlcs + attackBlcs\n",
    "(honestBlcs/totalBlcs, attackBlcs/totalBlcs), honestBlcs, totalBlcs"
   ]
  },
  {
   "cell_type": "code",
   "execution_count": 273,
   "metadata": {},
   "outputs": [],
   "source": [
    "def simNoGamma(alpha, n = int(1e5)):\n",
    "    state = [0,0] # (attacker, honest)\n",
    "\n",
    "    honestBlcs = 0\n",
    "    attackBlcs = 0\n",
    "    for _ in range(n):\n",
    "        attBlock  = np.random.binomial(1, alpha)\n",
    "\n",
    "        if state == [0,0]:\n",
    "            if attBlock:\n",
    "                state = [1,0]\n",
    "            else:\n",
    "                honestBlcs += 1\n",
    "            continue\n",
    "\n",
    "        if state == [1,0]:\n",
    "            if attBlock:\n",
    "                state = [2,0]\n",
    "            else:\n",
    "                nextAttBlock  = np.random.binomial(1, alpha)\n",
    "                if nextAttBlock:\n",
    "                    attackBlcs += 2\n",
    "                else:\n",
    "                    honestBlcs += 2\n",
    "                state = [0,0]\n",
    "            continue\n",
    "\n",
    "        if attBlock:\n",
    "            state[0] += 1\n",
    "        else:\n",
    "            state[1] += 1\n",
    "\n",
    "        diff = state[0] - state[1]\n",
    "        if diff == 1:\n",
    "            attackBlcs += state[0]\n",
    "            state = [0,0]\n",
    "\n",
    "    totalBlcs = honestBlcs + attackBlcs\n",
    "    return attackBlcs/totalBlcs"
   ]
  },
  {
   "cell_type": "code",
   "execution_count": 19,
   "metadata": {},
   "outputs": [],
   "source": [
    "def EyalSirer(a, g):\n",
    "    num = a * ((1-a)**2) * (4*a + g*(1-2*a)) - a**3\n",
    "    den = 1 - a * (1 + (2-a) * a)\n",
    "    return num / den"
   ]
  },
  {
   "cell_type": "code",
   "execution_count": 20,
   "metadata": {},
   "outputs": [
    {
     "data": {
      "text/plain": [
       "0.27312614259597795"
      ]
     },
     "execution_count": 20,
     "metadata": {},
     "output_type": "execute_result"
    }
   ],
   "source": [
    "EyalSirer(0.3, 0)"
   ]
  },
  {
   "cell_type": "code",
   "execution_count": 265,
   "metadata": {},
   "outputs": [],
   "source": [
    "alphas = np.arange(0.01, 0.5, 0.001)\n",
    "g0s    = [EyalSirer(a, 0) for a in alphas]"
   ]
  },
  {
   "cell_type": "code",
   "execution_count": null,
   "metadata": {
    "scrolled": true
   },
   "outputs": [],
   "source": [
    "simAlphas = np.arange(0.025, 0.5, 0.025)\n",
    "simg0s = []\n",
    "for i, a in tqdm(enumerate(simAlphas)):\n",
    "    temp = []\n",
    "    for j in range(10):\n",
    "        temp.append(simNoGamma(a))\n",
    "    simg0s.append(np.mean(temp))"
   ]
  },
  {
   "cell_type": "code",
   "execution_count": 301,
   "metadata": {},
   "outputs": [
    {
     "data": {
      "image/png": "[encoded data removed]",
      "text/plain": [
       "<Figure size 648x432 with 1 Axes>"
      ]
     },
     "metadata": {
      "needs_background": "light"
     },
     "output_type": "display_data"
    }
   ],
   "source": [
    "f, ax = plt.subplots(figsize=(9,6))\n",
    "\n",
    "ax.plot(alphas, g0s, label='ES\\'13', linestyle='--', color='darkcyan', alpha=0.4)\n",
    "ax.plot(simAlphas, simg0s, linestyle='none', color='black', marker='x', fillstyle='none',\n",
    "        markersize=5, label='ES\\'13 sims')\n",
    "\n",
    "ax.grid(alpha=0.3)\n",
    "ax.set_xlabel(r'$\\alpha$', size=16)\n",
    "ax.set_ylabel(r'proportion of block rewards', size=16)\n",
    "# ax.set_xlim(0.25, 0.4)\n",
    "# ax.set_ylim(0.2,0.45)\n",
    "ax.legend()\n",
    "plt.show()"
   ]
  },
  {
   "cell_type": "markdown",
   "metadata": {},
   "source": [
    "# adding txn fees"
   ]
  },
  {
   "cell_type": "code",
   "execution_count": 5,
   "metadata": {},
   "outputs": [],
   "source": [
    "def Carlsten2(alpha, beta, gamma=0):\n",
    "    num1 = 1 + (beta * np.power(1-alpha,2) * (1-gamma))\n",
    "    den1 = np.exp(beta) - 1\n",
    "    exp1 = num1 / den1\n",
    "    \n",
    "    exp2 = exp1 + (5 * alpha) + (np.power(1-alpha, 2) * gamma) \n",
    "    exp3 = (2 * np.power(alpha, 2)) / (1-2 * alpha) - (2 * np.power(alpha,2))\n",
    "    \n",
    "    exp4 = exp2 + exp3\n",
    "    \n",
    "    num2 = alpha * (1-2*alpha) * (1 - np.exp(-beta))\n",
    "    den2 = 1 - 2 * np.exp(-beta) * alpha - 3 * (1 - np.exp(-beta)) * np.power(alpha,2)\n",
    "    \n",
    "    exp5 = num2 / den2\n",
    "    \n",
    "    return exp4 * exp5"
   ]
  },
  {
   "cell_type": "code",
   "execution_count": 3,
   "metadata": {},
   "outputs": [],
   "source": [
    "def Carlsten(a, g):\n",
    "    num = 5*(a**2) - 12*(a**3) + 9*(a**4) - 2*(a**5) + g * (a - 4*(a**2) + 6*(a**3) - 5*(a**4) + 2*(a**5))\n",
    "    den = 2*(a**3) - 4*(a**2) + 1\n",
    "    return num / den"
   ]
  },
  {
   "cell_type": "code",
   "execution_count": 8,
   "metadata": {},
   "outputs": [
    {
     "data": {
      "text/plain": [
       "(0.27959654178674354, 0.290958904109589)"
      ]
     },
     "execution_count": 8,
     "metadata": {},
     "output_type": "execute_result"
    }
   ],
   "source": [
    "Carlsten(0.3, 0), Carlsten2(0.3, 100)"
   ]
  },
  {
   "cell_type": "code",
   "execution_count": 684,
   "metadata": {},
   "outputs": [
    {
     "data": {
      "text/plain": [
       "(0.37521613832853024, 0.37150684931506844, 0.37150684931506844)"
      ]
     },
     "execution_count": 684,
     "metadata": {},
     "output_type": "execute_result"
    }
   ],
   "source": [
    "Carlsten(0.3, 1), Carlsten2(0.3, 100, gamma=1), selfishCNum(0.3, 1)"
   ]
  },
  {
   "cell_type": "code",
   "execution_count": 691,
   "metadata": {},
   "outputs": [
    {
     "data": {
      "text/plain": [
       "0.3671966104056911"
      ]
     },
     "execution_count": 691,
     "metadata": {},
     "output_type": "execute_result"
    }
   ],
   "source": [
    "simCKWN(alpha=0.3, gamma=0.5)"
   ]
  },
  {
   "cell_type": "code",
   "execution_count": 712,
   "metadata": {},
   "outputs": [
    {
     "data": {
      "text/latex": [
       "$\\displaystyle \\frac{\\alpha \\left(1 - 2 \\alpha\\right) \\left(1 - e^{- \\beta}\\right) \\left(- 2 \\alpha^{2} + \\frac{2 \\alpha^{2}}{1 - 2 \\alpha} + 5 \\alpha + \\gamma \\left(1 - \\alpha\\right)^{2} + \\frac{\\beta \\left(1 - \\alpha\\right)^{2} \\cdot \\left(1 - \\gamma\\right) + 1}{e^{\\beta} - 1}\\right)}{- \\alpha^{2} \\cdot \\left(3 - 3 e^{- \\beta}\\right) - 2 \\alpha e^{- \\beta} + 1}$"
      ],
      "text/plain": [
       "alpha*(1 - 2*alpha)*(1 - exp(-beta))*(-2*alpha**2 + 2*alpha**2/(1 - 2*alpha) + 5*alpha + gamma*(1 - alpha)**2 + (beta*(1 - alpha)**2*(1 - gamma) + 1)/(exp(beta) - 1))/(-alpha**2*(3 - 3*exp(-beta)) - 2*alpha*exp(-beta) + 1)"
      ]
     },
     "execution_count": 712,
     "metadata": {},
     "output_type": "execute_result"
    }
   ],
   "source": [
    "## SYMBOLIC INTERLUDE\n",
    "a, b, g = sp.symbols('alpha beta gamma')\n",
    "\n",
    "num1 = 1 + b * (1-a)**2 * (1-g)\n",
    "den1 = sp.exp(b) - 1\n",
    "\n",
    "expr1 = num1 / den1\n",
    "expr2 = 5*a + (1-a)**2 * g + 2*a**2/(1-2*a) - 2*a**2\n",
    "expr3 = expr1 + expr2\n",
    "\n",
    "num2 = a * (1-2*a) * (1-sp.exp(-b))\n",
    "den2 = 1 - 2 * sp.exp(-b) * a - 3 * (1-sp.exp(-b)) * a**2\n",
    "expr4 = num2 / den2\n",
    "\n",
    "full = expr3 * expr4\n",
    "full"
   ]
  },
  {
   "cell_type": "code",
   "execution_count": 716,
   "metadata": {},
   "outputs": [
    {
     "data": {
      "text/plain": [
       "(0.369511185225308, 0.3695111852253081)"
      ]
     },
     "execution_count": 716,
     "metadata": {},
     "output_type": "execute_result"
    }
   ],
   "source": [
    "full.evalf(subs={a:0.3, b:3, g:1}), Carlsten2(alpha=0.3, beta=3, gamma=1)"
   ]
  },
  {
   "cell_type": "code",
   "execution_count": 518,
   "metadata": {},
   "outputs": [
    {
     "data": {
      "text/latex": [
       "$\\displaystyle \\frac{2 \\alpha^{4} \\gamma - 4 \\alpha^{4} - 5 \\alpha^{3} \\gamma + 10 \\alpha^{3} + 4 \\alpha^{2} \\gamma - 5 \\alpha^{2} - \\alpha \\gamma}{3 \\alpha^{2} - 1}$"
      ],
      "text/plain": [
       "(2*alpha**4*gamma - 4*alpha**4 - 5*alpha**3*gamma + 10*alpha**3 + 4*alpha**2*gamma - 5*alpha**2 - alpha*gamma)/(3*alpha**2 - 1)"
      ]
     },
     "execution_count": 518,
     "metadata": {},
     "output_type": "execute_result"
    }
   ],
   "source": [
    "selfishC = sp.limit(full, b, sp.oo)\n",
    "selfishC"
   ]
  },
  {
   "cell_type": "code",
   "execution_count": 526,
   "metadata": {},
   "outputs": [
    {
     "data": {
      "text/plain": [
       "0.290958904109589"
      ]
     },
     "execution_count": 526,
     "metadata": {},
     "output_type": "execute_result"
    }
   ],
   "source": [
    "selfishCNum = sp.lambdify((a, g), selfishC)\n",
    "selfishCNum(0.3, 0)"
   ]
  },
  {
   "cell_type": "code",
   "execution_count": 527,
   "metadata": {},
   "outputs": [],
   "source": [
    "alphas  = np.arange(0.01, 0.5, 0.001)\n",
    "g0sC    = [Carlsten(a, 0) for a in alphas]\n",
    "g0sC2   = [selfishCNum(a, 0) for a in alphas]"
   ]
  },
  {
   "cell_type": "code",
   "execution_count": 459,
   "metadata": {},
   "outputs": [
    {
     "name": "stderr",
     "output_type": "stream",
     "text": [
      "100%|██████████| 100000/100000 [00:00<00:00, 134653.83it/s]\n"
     ]
    },
    {
     "data": {
      "text/plain": [
       "((0.7172528553880362, 0.2827471446119637),\n",
       " (0.7313565538242681, 0.2686434461757318))"
      ]
     },
     "execution_count": 459,
     "metadata": {},
     "output_type": "execute_result"
    }
   ],
   "source": [
    "state = [0,0] # (attacker, honest)\n",
    "alpha = 0.3\n",
    "\n",
    "honestBlcs = 0\n",
    "attackBlcs = 0\n",
    "honestRews = 0\n",
    "attackRews = 0\n",
    "curTime    = 0\n",
    "lastState0 = 0\n",
    "lastAttBlc = 0\n",
    "\n",
    "for _ in tqdm(range(int(1e5))):\n",
    "    attBlock = np.random.binomial(1, alpha)\n",
    "    execRews = np.random.exponential(100)\n",
    "    curTime += execRews\n",
    "\n",
    "    if state == [0,0]:\n",
    "        if attBlock:\n",
    "            state = [1,0]\n",
    "            lastAttBlc = curTime\n",
    "        else:\n",
    "            honestBlcs += 1\n",
    "            honestRews += execRews\n",
    "            lastState0  = curTime\n",
    "        continue\n",
    "    \n",
    "    if state == [1,0]:\n",
    "        if attBlock:\n",
    "            state = [2,0]\n",
    "            lastAttBlc = curTime\n",
    "        else:\n",
    "            nextAttBlock  = np.random.binomial(1, alpha)\n",
    "            nextExecRews  = np.random.exponential()\n",
    "            curTime      += nextExecRews\n",
    "            if nextAttBlock:\n",
    "                attackBlcs += 2\n",
    "                attackRews += (curTime - lastState0)\n",
    "                lastState0  = curTime\n",
    "            else:\n",
    "                honestBlcs += 2\n",
    "                honestRews += (curTime - lastState0)\n",
    "                lastState0  = curTime\n",
    "            state = [0,0]\n",
    "        continue\n",
    "        \n",
    "    if attBlock:\n",
    "        state[0] += 1\n",
    "        lastAttBlc = curTime\n",
    "    else:\n",
    "        state[1] += 1\n",
    "    \n",
    "    diff = state[0] - state[1]\n",
    "    if diff == 1:\n",
    "        attackBlcs += state[0]\n",
    "        attackRews += (lastAttBlc - lastState0)\n",
    "        \n",
    "        # 0'' state\n",
    "        remRews = (curTime - lastAttBlc)\n",
    "        attBlock = np.random.binomial(1, alpha)\n",
    "        execRews = np.random.exponential(100)\n",
    "        if attBlock:\n",
    "            attackRews += (remRews + execRews)\n",
    "        else:\n",
    "            honestRews += (remRews + execRews)\n",
    "        \n",
    "        lastState0  = curTime\n",
    "        lastAttBlc  = curTime\n",
    "        state = [0,0]\n",
    "\n",
    "totalRews = honestRews + attackRews\n",
    "totakBlcs = honestBlcs + attackBlcs\n",
    "(honestRews/totalRews, attackRews/totalRews), (honestBlcs/totakBlcs, attackBlcs/totakBlcs)"
   ]
  },
  {
   "cell_type": "code",
   "execution_count": 479,
   "metadata": {},
   "outputs": [],
   "source": [
    "def simNoGammaC(alpha, n = int(1e5)):\n",
    "    state = [0,0] # (attacker, honest)\n",
    "\n",
    "    honestBlcs = 0\n",
    "    attackBlcs = 0\n",
    "    honestRews = 0\n",
    "    attackRews = 0\n",
    "    curTime    = 0\n",
    "    lastState0 = 0\n",
    "    lastAttBlc = 0\n",
    "\n",
    "    for _ in range(n):\n",
    "        attBlock = np.random.binomial(1, alpha)\n",
    "        execRews = np.random.exponential()\n",
    "        curTime += execRews\n",
    "\n",
    "        if state == [0,0]:\n",
    "            if attBlock:\n",
    "                state = [1,0]\n",
    "                lastAttBlc = curTime\n",
    "            else:\n",
    "                honestBlcs += 1\n",
    "                honestRews += execRews\n",
    "                lastState0  = curTime\n",
    "                lastAttBlc  = curTime\n",
    "            continue\n",
    "\n",
    "        if state == [1,0]:\n",
    "            if attBlock:\n",
    "                state = [2,0]\n",
    "                lastAttBlc = curTime\n",
    "            else:\n",
    "                nextAttBlock  = np.random.binomial(1, alpha)\n",
    "                nextExecRews  = np.random.exponential()\n",
    "                curTime      += nextExecRews\n",
    "                if nextAttBlock:\n",
    "                    attackBlcs += 2\n",
    "                    attackRews += (curTime - lastState0)\n",
    "                    lastState0  = curTime\n",
    "                    lastAttBlc  = curTime\n",
    "                else:\n",
    "                    honestBlcs += 2\n",
    "                    honestRews += (curTime - lastState0)\n",
    "                    lastState0  = curTime\n",
    "                    lastAttBlc  = curTime\n",
    "                state = [0,0]\n",
    "            continue\n",
    "\n",
    "        if attBlock:\n",
    "            state[0] += 1\n",
    "            lastAttBlc = curTime\n",
    "        else:\n",
    "            state[1] += 1\n",
    "\n",
    "        diff = state[0] - state[1]\n",
    "        if diff == 1:\n",
    "            attackBlcs += state[0]\n",
    "            attackRews += (lastAttBlc - lastState0)\n",
    "\n",
    "            # 0'' state\n",
    "            remRews = (curTime - lastAttBlc)\n",
    "            attBlock = np.random.binomial(1, alpha)\n",
    "            execRews = np.random.exponential()\n",
    "            curTime += execRews\n",
    "            if attBlock:\n",
    "                attackRews += (remRews + execRews)\n",
    "            else:\n",
    "                honestRews += (remRews + execRews)\n",
    "\n",
    "            lastState0  = curTime\n",
    "            lastAttBlc  = curTime\n",
    "            state = [0,0]\n",
    "\n",
    "    totalRews = honestRews + attackRews\n",
    "    return attackRews/totalRews"
   ]
  },
  {
   "cell_type": "code",
   "execution_count": 480,
   "metadata": {
    "scrolled": true
   },
   "outputs": [
    {
     "name": "stderr",
     "output_type": "stream",
     "text": [
      "19it [02:06,  6.93s/it]"
     ]
    },
    {
     "ename": "KeyboardInterrupt",
     "evalue": "",
     "output_type": "error",
     "traceback": [
      "\u001b[0;31m---------------------------------------------------------------------------\u001b[0m",
      "\u001b[0;31mKeyboardInterrupt\u001b[0m                         Traceback (most recent call last)",
      "\u001b[0;32m<ipython-input-480-9a936d0cfe3a>\u001b[0m in \u001b[0;36m<module>\u001b[0;34m\u001b[0m\n\u001b[1;32m      1\u001b[0m \u001b[0msimAlphas\u001b[0m \u001b[0;34m=\u001b[0m \u001b[0mnp\u001b[0m\u001b[0;34m.\u001b[0m\u001b[0marange\u001b[0m\u001b[0;34m(\u001b[0m\u001b[0;36m0.025\u001b[0m\u001b[0;34m,\u001b[0m \u001b[0;36m0.5\u001b[0m\u001b[0;34m,\u001b[0m \u001b[0;36m0.025\u001b[0m\u001b[0;34m)\u001b[0m\u001b[0;34m\u001b[0m\u001b[0;34m\u001b[0m\u001b[0m\n\u001b[1;32m      2\u001b[0m \u001b[0msimg0sC\u001b[0m \u001b[0;34m=\u001b[0m \u001b[0;34m[\u001b[0m\u001b[0;34m]\u001b[0m\u001b[0;34m\u001b[0m\u001b[0;34m\u001b[0m\u001b[0m\n\u001b[0;32m----> 3\u001b[0;31m \u001b[0;32mfor\u001b[0m \u001b[0mi\u001b[0m\u001b[0;34m,\u001b[0m \u001b[0ma\u001b[0m \u001b[0;32min\u001b[0m \u001b[0mtqdm\u001b[0m\u001b[0;34m(\u001b[0m\u001b[0menumerate\u001b[0m\u001b[0;34m(\u001b[0m\u001b[0msimAlphas\u001b[0m\u001b[0;34m)\u001b[0m\u001b[0;34m)\u001b[0m\u001b[0;34m:\u001b[0m\u001b[0;34m\u001b[0m\u001b[0;34m\u001b[0m\u001b[0m\n\u001b[0m\u001b[1;32m      4\u001b[0m     \u001b[0mtemp\u001b[0m \u001b[0;34m=\u001b[0m \u001b[0;34m[\u001b[0m\u001b[0;34m]\u001b[0m\u001b[0;34m\u001b[0m\u001b[0;34m\u001b[0m\u001b[0m\n\u001b[1;32m      5\u001b[0m     \u001b[0;32mfor\u001b[0m \u001b[0mj\u001b[0m \u001b[0;32min\u001b[0m \u001b[0mrange\u001b[0m\u001b[0;34m(\u001b[0m\u001b[0;36m10\u001b[0m\u001b[0;34m)\u001b[0m\u001b[0;34m:\u001b[0m\u001b[0;34m\u001b[0m\u001b[0;34m\u001b[0m\u001b[0m\n",
      "\u001b[0;32m/usr/local/lib/python3.8/site-packages/tqdm/std.py\u001b[0m in \u001b[0;36m__iter__\u001b[0;34m(self)\u001b[0m\n\u001b[1;32m   1225\u001b[0m             \u001b[0mself\u001b[0m\u001b[0;34m.\u001b[0m\u001b[0mn\u001b[0m \u001b[0;34m=\u001b[0m \u001b[0mn\u001b[0m\u001b[0;34m\u001b[0m\u001b[0;34m\u001b[0m\u001b[0m\n\u001b[1;32m   1226\u001b[0m             \u001b[0mself\u001b[0m\u001b[0;34m.\u001b[0m\u001b[0mminiters\u001b[0m \u001b[0;34m=\u001b[0m \u001b[0mminiters\u001b[0m\u001b[0;34m\u001b[0m\u001b[0;34m\u001b[0m\u001b[0m\n\u001b[0;32m-> 1227\u001b[0;31m             \u001b[0mself\u001b[0m\u001b[0;34m.\u001b[0m\u001b[0mclose\u001b[0m\u001b[0;34m(\u001b[0m\u001b[0;34m)\u001b[0m\u001b[0;34m\u001b[0m\u001b[0;34m\u001b[0m\u001b[0m\n\u001b[0m\u001b[1;32m   1228\u001b[0m \u001b[0;34m\u001b[0m\u001b[0m\n\u001b[1;32m   1229\u001b[0m     \u001b[0;32mdef\u001b[0m \u001b[0mupdate\u001b[0m\u001b[0;34m(\u001b[0m\u001b[0mself\u001b[0m\u001b[0;34m,\u001b[0m \u001b[0mn\u001b[0m\u001b[0;34m=\u001b[0m\u001b[0;36m1\u001b[0m\u001b[0;34m)\u001b[0m\u001b[0;34m:\u001b[0m\u001b[0;34m\u001b[0m\u001b[0;34m\u001b[0m\u001b[0m\n",
      "\u001b[0;32m/usr/local/lib/python3.8/site-packages/tqdm/std.py\u001b[0m in \u001b[0;36mclose\u001b[0;34m(self)\u001b[0m\n\u001b[1;32m   1319\u001b[0m         \u001b[0;31m# decrement instance pos and remove from internal set\u001b[0m\u001b[0;34m\u001b[0m\u001b[0;34m\u001b[0m\u001b[0;34m\u001b[0m\u001b[0m\n\u001b[1;32m   1320\u001b[0m         \u001b[0mpos\u001b[0m \u001b[0;34m=\u001b[0m \u001b[0mabs\u001b[0m\u001b[0;34m(\u001b[0m\u001b[0mself\u001b[0m\u001b[0;34m.\u001b[0m\u001b[0mpos\u001b[0m\u001b[0;34m)\u001b[0m\u001b[0;34m\u001b[0m\u001b[0;34m\u001b[0m\u001b[0m\n\u001b[0;32m-> 1321\u001b[0;31m         \u001b[0mself\u001b[0m\u001b[0;34m.\u001b[0m\u001b[0m_decr_instances\u001b[0m\u001b[0;34m(\u001b[0m\u001b[0mself\u001b[0m\u001b[0;34m)\u001b[0m\u001b[0;34m\u001b[0m\u001b[0;34m\u001b[0m\u001b[0m\n\u001b[0m\u001b[1;32m   1322\u001b[0m \u001b[0;34m\u001b[0m\u001b[0m\n\u001b[1;32m   1323\u001b[0m         \u001b[0;31m# GUI mode\u001b[0m\u001b[0;34m\u001b[0m\u001b[0;34m\u001b[0m\u001b[0;34m\u001b[0m\u001b[0m\n",
      "\u001b[0;32m/usr/local/lib/python3.8/site-packages/tqdm/std.py\u001b[0m in \u001b[0;36m_decr_instances\u001b[0;34m(cls, instance)\u001b[0m\n\u001b[1;32m    608\u001b[0m             \u001b[0;32mif\u001b[0m \u001b[0;32mnot\u001b[0m \u001b[0mcls\u001b[0m\u001b[0;34m.\u001b[0m\u001b[0m_instances\u001b[0m \u001b[0;32mand\u001b[0m \u001b[0mcls\u001b[0m\u001b[0;34m.\u001b[0m\u001b[0mmonitor\u001b[0m\u001b[0;34m:\u001b[0m\u001b[0;34m\u001b[0m\u001b[0;34m\u001b[0m\u001b[0m\n\u001b[1;32m    609\u001b[0m                 \u001b[0;32mtry\u001b[0m\u001b[0;34m:\u001b[0m\u001b[0;34m\u001b[0m\u001b[0;34m\u001b[0m\u001b[0m\n\u001b[0;32m--> 610\u001b[0;31m                     \u001b[0mcls\u001b[0m\u001b[0;34m.\u001b[0m\u001b[0mmonitor\u001b[0m\u001b[0;34m.\u001b[0m\u001b[0mexit\u001b[0m\u001b[0;34m(\u001b[0m\u001b[0;34m)\u001b[0m\u001b[0;34m\u001b[0m\u001b[0;34m\u001b[0m\u001b[0m\n\u001b[0m\u001b[1;32m    611\u001b[0m                     \u001b[0;32mdel\u001b[0m \u001b[0mcls\u001b[0m\u001b[0;34m.\u001b[0m\u001b[0mmonitor\u001b[0m\u001b[0;34m\u001b[0m\u001b[0;34m\u001b[0m\u001b[0m\n\u001b[1;32m    612\u001b[0m                 \u001b[0;32mexcept\u001b[0m \u001b[0mAttributeError\u001b[0m\u001b[0;34m:\u001b[0m  \u001b[0;31m# pragma: nocover\u001b[0m\u001b[0;34m\u001b[0m\u001b[0;34m\u001b[0m\u001b[0m\n",
      "\u001b[0;32m/usr/local/lib/python3.8/site-packages/tqdm/_monitor.py\u001b[0m in \u001b[0;36mexit\u001b[0;34m(self)\u001b[0m\n\u001b[1;32m     51\u001b[0m         \u001b[0mself\u001b[0m\u001b[0;34m.\u001b[0m\u001b[0mwas_killed\u001b[0m\u001b[0;34m.\u001b[0m\u001b[0mset\u001b[0m\u001b[0;34m(\u001b[0m\u001b[0;34m)\u001b[0m\u001b[0;34m\u001b[0m\u001b[0;34m\u001b[0m\u001b[0m\n\u001b[1;32m     52\u001b[0m         \u001b[0;32mif\u001b[0m \u001b[0mself\u001b[0m \u001b[0;32mis\u001b[0m \u001b[0;32mnot\u001b[0m \u001b[0mcurrent_thread\u001b[0m\u001b[0;34m(\u001b[0m\u001b[0;34m)\u001b[0m\u001b[0;34m:\u001b[0m\u001b[0;34m\u001b[0m\u001b[0;34m\u001b[0m\u001b[0m\n\u001b[0;32m---> 53\u001b[0;31m             \u001b[0mself\u001b[0m\u001b[0;34m.\u001b[0m\u001b[0mjoin\u001b[0m\u001b[0;34m(\u001b[0m\u001b[0;34m)\u001b[0m\u001b[0;34m\u001b[0m\u001b[0;34m\u001b[0m\u001b[0m\n\u001b[0m\u001b[1;32m     54\u001b[0m         \u001b[0;32mreturn\u001b[0m \u001b[0mself\u001b[0m\u001b[0;34m.\u001b[0m\u001b[0mreport\u001b[0m\u001b[0;34m(\u001b[0m\u001b[0;34m)\u001b[0m\u001b[0;34m\u001b[0m\u001b[0;34m\u001b[0m\u001b[0m\n\u001b[1;32m     55\u001b[0m \u001b[0;34m\u001b[0m\u001b[0m\n",
      "\u001b[0;32m/usr/local/Cellar/python@3.8/3.8.16/Frameworks/Python.framework/Versions/3.8/lib/python3.8/threading.py\u001b[0m in \u001b[0;36mjoin\u001b[0;34m(self, timeout)\u001b[0m\n\u001b[1;32m   1009\u001b[0m \u001b[0;34m\u001b[0m\u001b[0m\n\u001b[1;32m   1010\u001b[0m         \u001b[0;32mif\u001b[0m \u001b[0mtimeout\u001b[0m \u001b[0;32mis\u001b[0m \u001b[0;32mNone\u001b[0m\u001b[0;34m:\u001b[0m\u001b[0;34m\u001b[0m\u001b[0;34m\u001b[0m\u001b[0m\n\u001b[0;32m-> 1011\u001b[0;31m             \u001b[0mself\u001b[0m\u001b[0;34m.\u001b[0m\u001b[0m_wait_for_tstate_lock\u001b[0m\u001b[0;34m(\u001b[0m\u001b[0;34m)\u001b[0m\u001b[0;34m\u001b[0m\u001b[0;34m\u001b[0m\u001b[0m\n\u001b[0m\u001b[1;32m   1012\u001b[0m         \u001b[0;32melse\u001b[0m\u001b[0;34m:\u001b[0m\u001b[0;34m\u001b[0m\u001b[0;34m\u001b[0m\u001b[0m\n\u001b[1;32m   1013\u001b[0m             \u001b[0;31m# the behavior of a negative timeout isn't documented, but\u001b[0m\u001b[0;34m\u001b[0m\u001b[0;34m\u001b[0m\u001b[0;34m\u001b[0m\u001b[0m\n",
      "\u001b[0;32m/usr/local/Cellar/python@3.8/3.8.16/Frameworks/Python.framework/Versions/3.8/lib/python3.8/threading.py\u001b[0m in \u001b[0;36m_wait_for_tstate_lock\u001b[0;34m(self, block, timeout)\u001b[0m\n\u001b[1;32m   1025\u001b[0m         \u001b[0;32mif\u001b[0m \u001b[0mlock\u001b[0m \u001b[0;32mis\u001b[0m \u001b[0;32mNone\u001b[0m\u001b[0;34m:\u001b[0m  \u001b[0;31m# already determined that the C code is done\u001b[0m\u001b[0;34m\u001b[0m\u001b[0;34m\u001b[0m\u001b[0m\n\u001b[1;32m   1026\u001b[0m             \u001b[0;32massert\u001b[0m \u001b[0mself\u001b[0m\u001b[0;34m.\u001b[0m\u001b[0m_is_stopped\u001b[0m\u001b[0;34m\u001b[0m\u001b[0;34m\u001b[0m\u001b[0m\n\u001b[0;32m-> 1027\u001b[0;31m         \u001b[0;32melif\u001b[0m \u001b[0mlock\u001b[0m\u001b[0;34m.\u001b[0m\u001b[0macquire\u001b[0m\u001b[0;34m(\u001b[0m\u001b[0mblock\u001b[0m\u001b[0;34m,\u001b[0m \u001b[0mtimeout\u001b[0m\u001b[0;34m)\u001b[0m\u001b[0;34m:\u001b[0m\u001b[0;34m\u001b[0m\u001b[0;34m\u001b[0m\u001b[0m\n\u001b[0m\u001b[1;32m   1028\u001b[0m             \u001b[0mlock\u001b[0m\u001b[0;34m.\u001b[0m\u001b[0mrelease\u001b[0m\u001b[0;34m(\u001b[0m\u001b[0;34m)\u001b[0m\u001b[0;34m\u001b[0m\u001b[0;34m\u001b[0m\u001b[0m\n\u001b[1;32m   1029\u001b[0m             \u001b[0mself\u001b[0m\u001b[0;34m.\u001b[0m\u001b[0m_stop\u001b[0m\u001b[0;34m(\u001b[0m\u001b[0;34m)\u001b[0m\u001b[0;34m\u001b[0m\u001b[0;34m\u001b[0m\u001b[0m\n",
      "\u001b[0;31mKeyboardInterrupt\u001b[0m: "
     ]
    }
   ],
   "source": [
    "simAlphas = np.arange(0.025, 0.5, 0.025)\n",
    "simg0sC = []\n",
    "for i, a in tqdm(enumerate(simAlphas)):\n",
    "    temp = []\n",
    "    for j in range(10):\n",
    "        temp.append(simNoGammaC(a))\n",
    "    simg0sC.append(np.mean(temp))"
   ]
  },
  {
   "cell_type": "code",
   "execution_count": 531,
   "metadata": {},
   "outputs": [
    {
     "data": {
      "image/png": "[encoded data removed]",
      "text/plain": [
       "<Figure size 648x432 with 1 Axes>"
      ]
     },
     "metadata": {
      "needs_background": "light"
     },
     "output_type": "display_data"
    }
   ],
   "source": [
    "f, ax = plt.subplots(figsize=(9,6))\n",
    "\n",
    "axins0 = ax.inset_axes([0., -0.8, 0.6, 0.6], xlim=(0., 0.12), ylim=(0., .05))\n",
    "axins1 = ax.inset_axes([1.2, 0.2, 0.6, 0.6], xlim=(0.38, 0.47), ylim=(0.43, 0.75))\n",
    "axins2 = ax.inset_axes([1.2, -0.8, 0.6, 0.6], xlim=(0.19, 0.36), ylim=(0.12, 0.4))\n",
    "ax.indicate_inset_zoom(axins0, edgecolor=\"black\", label=None, alpha=0.3)\n",
    "ax.indicate_inset_zoom(axins1, edgecolor=\"black\", label=None, alpha=0.3)\n",
    "ax.indicate_inset_zoom(axins2, edgecolor=\"black\", label=None, alpha=0.3)\n",
    "\n",
    "for a in [ax, axins0, axins1, axins2]:\n",
    "    a.plot(alphas, g0s, label='ES\\'13', linestyle='--', color='darkcyan', alpha=0.7, linewidth=0.8)\n",
    "    a.plot(simAlphas, simg0s, linestyle='none', color='black', marker='x', fillstyle='none',\n",
    "            markersize=5, label='ES\\'13 sims')\n",
    "\n",
    "#     a.plot(alphas, g0sC, label='CKWN\\'16', linestyle='--', color='mediumvioletred', alpha=0.7, linewidth=0.8)\n",
    "    a.plot(alphas, g0sC2, label='CKWN\\'16 - 2', linestyle='dotted', color='mediumvioletred', alpha=0.7, linewidth=0.8)\n",
    "    a.plot(simAlphas, simg0sC, linestyle='none', color='black', marker='o', fillstyle='none',\n",
    "            markersize=5, label='CKWN\\'16 sims')\n",
    "\n",
    "ax.grid(alpha=0.3)\n",
    "ax.set_xlabel(r'$\\alpha$', size=16)\n",
    "ax.set_ylabel(r'proportion of block rewards', size=16)\n",
    "ax.set_xlim(0., 0.5)\n",
    "ax.set_ylim(0.,1)\n",
    "ax.legend()\n",
    "plt.savefig('out.png', dpi=400, bbox_inches='tight', facecolor='white')\n",
    "\n",
    "plt.show()"
   ]
  },
  {
   "cell_type": "markdown",
   "metadata": {},
   "source": [
    "# more gammas"
   ]
  },
  {
   "cell_type": "code",
   "execution_count": 566,
   "metadata": {},
   "outputs": [
    {
     "data": {
      "text/plain": [
       "((3, 490), (3, 490))"
      ]
     },
     "execution_count": 566,
     "metadata": {},
     "output_type": "execute_result"
    }
   ],
   "source": [
    "alphas     = np.arange(0.01, 0.5, 0.001)\n",
    "gammas     = [0, 0.5, 1]\n",
    "\n",
    "ES_theo    = []\n",
    "CKWN2_theo = []\n",
    "for g in gammas:\n",
    "    ES_theo.append([EyalSirer(a, g) for a in alphas])\n",
    "    CKWN2_theo.append([selfishCNum(a, g) for a in alphas])\n",
    "ES_theo    = np.array(ES_theo)\n",
    "CKWN2_theo = np.array(CKWN2_theo)\n",
    "ES_theo.shape, CKWN2_theo.shape"
   ]
  },
  {
   "cell_type": "code",
   "execution_count": 565,
   "metadata": {},
   "outputs": [],
   "source": [
    "def simES(alpha, gamma, n = int(1e5)):\n",
    "    state = [0,0] # (attacker, honest)\n",
    "\n",
    "    honestBlcs = 0\n",
    "    attackBlcs = 0\n",
    "    for _ in range(n):\n",
    "        attBlock  = np.random.binomial(1, alpha)\n",
    "\n",
    "        if state == [0,0]:\n",
    "            if attBlock:\n",
    "                state = [1,0]\n",
    "            else:\n",
    "                honestBlcs += 1\n",
    "            continue\n",
    "\n",
    "        if state == [1,0]:\n",
    "            if attBlock:\n",
    "                state = [2,0]\n",
    "            else:\n",
    "                sample = np.random.uniform()\n",
    "                if sample < alpha:\n",
    "                    attackBlcs += 2\n",
    "                elif sample <= alpha + ((1-alpha)*gamma):\n",
    "                    attackBlcs += 1\n",
    "                    honestBlcs += 1\n",
    "                else: \n",
    "                    honestBlcs += 2\n",
    "                state = [0,0]\n",
    "            continue\n",
    "\n",
    "        if attBlock:\n",
    "            state[0] += 1\n",
    "        else:\n",
    "            state[1] += 1\n",
    "\n",
    "        diff = state[0] - state[1]\n",
    "        if diff == 1:\n",
    "            attackBlcs += state[0]\n",
    "            state = [0,0]\n",
    "\n",
    "    totalBlcs = honestBlcs + attackBlcs\n",
    "    return attackBlcs/totalBlcs"
   ]
  },
  {
   "cell_type": "code",
   "execution_count": 597,
   "metadata": {},
   "outputs": [
    {
     "data": {
      "text/plain": [
       "0.32333666555592583"
      ]
     },
     "execution_count": 597,
     "metadata": {},
     "output_type": "execute_result"
    }
   ],
   "source": [
    "simES(alpha=0.3, gamma=0.5, n=int(1e4))"
   ]
  },
  {
   "cell_type": "code",
   "execution_count": 602,
   "metadata": {},
   "outputs": [
    {
     "name": "stdout",
     "output_type": "stream",
     "text": [
      "alpha=0.475, gamma=1.000\r"
     ]
    },
    {
     "data": {
      "text/plain": [
       "(3, 19)"
      ]
     },
     "execution_count": 602,
     "metadata": {},
     "output_type": "execute_result"
    }
   ],
   "source": [
    "simAlphas = np.arange(0.025, 0.5, 0.025)\n",
    "ES_sim = []\n",
    "for g in gammas:\n",
    "    temp = []\n",
    "    for a in simAlphas:\n",
    "        print('alpha={:0.3f}, gamma={:0.3f}'.format(a,g), end='\\r')\n",
    "        temp2 = []\n",
    "        for j in range(10):\n",
    "            temp2.append(simES(a, g, n=int(1e5)))\n",
    "        temp.append(np.mean(temp2))\n",
    "    ES_sim.append(temp)\n",
    "ES_sim = np.array(ES_sim)\n",
    "ES_sim.shape"
   ]
  },
  {
   "cell_type": "code",
   "execution_count": 692,
   "metadata": {},
   "outputs": [],
   "source": [
    "def simCKWN(alpha, gamma, n = int(1e5)):\n",
    "    state = [0,0] # (attacker, honest)\n",
    "\n",
    "    honestBlcs = 0\n",
    "    attackBlcs = 0\n",
    "    honestRews = 0\n",
    "    attackRews = 0\n",
    "    curTime    = 0\n",
    "    lastState0 = 0\n",
    "    lastAttBlc = 0\n",
    "\n",
    "    for _ in range(n):\n",
    "        attBlock = np.random.binomial(1, alpha)\n",
    "        execRews = np.random.exponential()\n",
    "        curTime += execRews\n",
    "\n",
    "        if state == [0,0]:\n",
    "            if attBlock:\n",
    "                state = [1,0]\n",
    "                lastAttBlc = curTime\n",
    "            else:\n",
    "                honestBlcs += 1\n",
    "                honestRews += execRews\n",
    "                lastState0  = curTime\n",
    "                lastAttBlc  = curTime\n",
    "            continue\n",
    "\n",
    "        if state == [1,0]:\n",
    "            if attBlock:\n",
    "                state = [2,0]\n",
    "                lastAttBlc = curTime\n",
    "            else:\n",
    "                sample        = np.random.uniform()\n",
    "                nextExecRews  = np.random.exponential()\n",
    "                if sample < alpha:\n",
    "                    attackBlcs += 2\n",
    "                    attackRews += (curTime - lastState0) + nextExecRews\n",
    "                elif sample <= alpha + ((1-alpha)*gamma):\n",
    "                    attackBlcs += 1\n",
    "                    honestBlcs += 1\n",
    "                    attackRews += (lastAttBlc - lastState0)\n",
    "                    honestRews += (curTime - lastAttBlc) + nextExecRews\n",
    "                else:\n",
    "                    honestBlcs += 2\n",
    "                    honestRews += (curTime - lastState0) + nextExecRews\n",
    "                curTime    += nextExecRews\n",
    "                lastState0  = curTime\n",
    "                lastAttBlc  = curTime\n",
    "                state = [0,0]\n",
    "            continue\n",
    "\n",
    "        if attBlock:\n",
    "            state[0] += 1\n",
    "            lastAttBlc = curTime\n",
    "        else:\n",
    "            state[1] += 1\n",
    "\n",
    "        diff = state[0] - state[1]\n",
    "        if diff == 1:\n",
    "            attackBlcs += state[0]\n",
    "            attackRews += (lastAttBlc - lastState0)\n",
    "\n",
    "            # 0'' state\n",
    "            remRews = (curTime - lastAttBlc)\n",
    "            attBlock = np.random.binomial(1, alpha)\n",
    "            execRews = np.random.exponential()\n",
    "            curTime += execRews\n",
    "            if attBlock:\n",
    "                attackRews += (remRews + execRews)\n",
    "            else:\n",
    "                honestRews += (remRews + execRews)\n",
    "\n",
    "            lastState0  = curTime\n",
    "            lastAttBlc  = curTime\n",
    "            state = [0,0]\n",
    "\n",
    "    totalRews = honestRews + attackRews\n",
    "    return attackRews/totalRews"
   ]
  },
  {
   "cell_type": "code",
   "execution_count": 702,
   "metadata": {},
   "outputs": [
    {
     "data": {
      "text/plain": [
       "(0.32530817354840674, 0.32473359506449806)"
      ]
     },
     "execution_count": 702,
     "metadata": {},
     "output_type": "execute_result"
    }
   ],
   "source": [
    "simCKWN(alpha=0.3, gamma=0.5, n=int(1e4)), simES(alpha=0.3, gamma=0.5, n=int(1e4))"
   ]
  },
  {
   "cell_type": "code",
   "execution_count": 703,
   "metadata": {},
   "outputs": [
    {
     "name": "stdout",
     "output_type": "stream",
     "text": [
      "alpha=0.475, gamma=1.000\r"
     ]
    },
    {
     "data": {
      "text/plain": [
       "(3, 19)"
      ]
     },
     "execution_count": 703,
     "metadata": {},
     "output_type": "execute_result"
    }
   ],
   "source": [
    "simAlphas = np.arange(0.025, 0.5, 0.025)\n",
    "CKWN_sim = []\n",
    "for g in gammas:\n",
    "    temp = []\n",
    "    for a in simAlphas:\n",
    "        print('alpha={:0.3f}, gamma={:0.3f}'.format(a,g), end='\\r')\n",
    "        temp2 = []\n",
    "        for j in range(10):\n",
    "            temp2.append(simCKWN(a, g, n=int(1e5)))\n",
    "        temp.append(np.mean(temp2))\n",
    "    CKWN_sim.append(temp)\n",
    "CKWN_sim = np.array(CKWN_sim)\n",
    "CKWN_sim.shape"
   ]
  },
  {
   "cell_type": "code",
   "execution_count": 705,
   "metadata": {},
   "outputs": [
    {
     "data": {
      "image/png": "[encoded data removed]",
      "text/plain": [
       "<Figure size 648x432 with 1 Axes>"
      ]
     },
     "metadata": {
      "needs_background": "light"
     },
     "output_type": "display_data"
    }
   ],
   "source": [
    "f, ax = plt.subplots(figsize=(9,6))\n",
    "\n",
    "axins0 = ax.inset_axes([0., -0.8, 0.6, 0.6], xlim=(0.09, 0.135), ylim=(0.032, .16))\n",
    "axins1 = ax.inset_axes([1.2, -0.8, 0.6, 0.6], xlim=(0.24, 0.31), ylim=(0.17, 0.4))\n",
    "axins2 = ax.inset_axes([1.2, 0.2, 0.6, 0.6], xlim=(0.415, 0.46), ylim=(0.53, 0.76))\n",
    "ax.indicate_inset_zoom(axins0, edgecolor=\"black\", label=None, alpha=0.3)\n",
    "ax.indicate_inset_zoom(axins1, edgecolor=\"black\", label=None, alpha=0.3)\n",
    "ax.indicate_inset_zoom(axins2, edgecolor=\"black\", label=None, alpha=0.3)\n",
    "\n",
    "colors = ['darkcyan', 'mediumvioletred', 'darkgoldenrod'] \n",
    "for a in [ax, axins0, axins1, axins2]:\n",
    "    for i, g in enumerate(gammas):\n",
    "        a.plot(alphas, ES_theo[i], label=r'$\\gamma=${:0.1f}, ES13'.format(g), \n",
    "               linestyle='dotted', color=colors[i], alpha=0.9, linewidth=1)\n",
    "        a.plot(simAlphas, ES_sim[i], linestyle='none', color=colors[i], marker='x', fillstyle='none',\n",
    "                markersize=5, label=r'$\\gamma=${:0.1f}, ES13 sims'.format(g))\n",
    "\n",
    "        a.plot(alphas, CKWN2_theo[i], label=r'$\\gamma=${:0.1f}, CKWN16 - 2'.format(g),\n",
    "               linestyle='--', color=colors[i], alpha=0.9, linewidth=1)\n",
    "        a.plot(simAlphas, CKWN_sim[i], linestyle='none', color=colors[i], marker='o', fillstyle='none',\n",
    "                markersize=5, label=r'$\\gamma=${:0.1f}, CKWN16 sims'.format(g))\n",
    "\n",
    "ax.grid(alpha=0.3)\n",
    "ax.set_xlabel(r'$\\alpha$', size=16)\n",
    "ax.set_ylabel(r'proportion of block rewards', size=16)\n",
    "ax.set_xlim(0., 0.5)\n",
    "ax.set_ylim(0.,1)\n",
    "ax.legend()\n",
    "plt.savefig('out.png', dpi=400, bbox_inches='tight', facecolor='white')\n",
    "\n",
    "plt.show()"
   ]
  },
  {
   "cell_type": "markdown",
   "metadata": {},
   "source": [
    "# optimal betas"
   ]
  },
  {
   "cell_type": "code",
   "execution_count": 718,
   "metadata": {},
   "outputs": [
    {
     "name": "stderr",
     "output_type": "stream",
     "text": [
      "100%|██████████| 490/490 [00:06<00:00, 74.75it/s]\n"
     ]
    }
   ],
   "source": [
    "# CKWN optimal betas (exec rewards only)\n",
    "alphas = np.arange(0.01, 0.5, 0.001)\n",
    "betas  = np.arange(0.01, 5.01, 0.01)\n",
    "opt_betas = []\n",
    "for alpha in tqdm(alphas):\n",
    "    rews = [Carlsten2(alpha=alpha, beta=b, gamma=0) for b in betas]\n",
    "    opt_betas.append(betas[np.argmax(rews)])\n",
    "opt_betas = np.asarray(opt_betas)"
   ]
  },
  {
   "cell_type": "code",
   "execution_count": 727,
   "metadata": {},
   "outputs": [
    {
     "name": "stderr",
     "output_type": "stream",
     "text": [
      "100%|██████████| 490/490 [00:00<00:00, 22962.72it/s]\n"
     ]
    },
    {
     "data": {
      "text/plain": [
       "((490,), (490,))"
      ]
     },
     "execution_count": 727,
     "metadata": {},
     "output_type": "execute_result"
    }
   ],
   "source": [
    "CKWN_theo_opt_beta = []\n",
    "ES_theo            = []\n",
    "for i in tqdm(range(len(alphas))):\n",
    "    a, optb = alphas[i], opt_betas[i]\n",
    "    CKWN_theo_opt_beta.append(Carlsten2(alpha=a, beta=optb, gamma=0))\n",
    "    ES_theo.append(EyalSirer(a=a, g=0))\n",
    "CKWN_theo_opt_beta = np.array(CKWN_theo_opt_beta)\n",
    "ES_theo = np.array(ES_theo)\n",
    "CKWN_theo_opt_beta.shape, ES_theo.shape"
   ]
  },
  {
   "cell_type": "code",
   "execution_count": 751,
   "metadata": {},
   "outputs": [
    {
     "name": "stdout",
     "output_type": "stream",
     "text": [
      "alpha=0.475\r"
     ]
    },
    {
     "data": {
      "text/plain": [
       "(19,)"
      ]
     },
     "execution_count": 751,
     "metadata": {},
     "output_type": "execute_result"
    }
   ],
   "source": [
    "simAlphas = np.arange(0.025, 0.5, 0.025)\n",
    "ES_sim = []\n",
    "for a in simAlphas:\n",
    "    print('alpha={:0.3f}'.format(a), end='\\r')\n",
    "    temp = []\n",
    "    for j in range(10):\n",
    "        temp.append(simES(a, gamma=0, n=int(1e5)))\n",
    "    ES_sim.append(np.mean(temp))\n",
    "ES_sim = np.array(ES_sim)\n",
    "ES_sim.shape"
   ]
  },
  {
   "cell_type": "code",
   "execution_count": 754,
   "metadata": {},
   "outputs": [],
   "source": [
    "def simCKWN_beta(alpha, gamma, beta, n = int(1e5)):\n",
    "    state = [0,0] # (attacker, honest)\n",
    "\n",
    "    honestBlcs = 0\n",
    "    attackBlcs = 0\n",
    "    honestRews = 0\n",
    "    attackRews = 0\n",
    "    curTime    = 0\n",
    "    lastState0 = 0\n",
    "    lastAttBlc = 0\n",
    "\n",
    "    for _ in range(n):\n",
    "        attBlock = np.random.binomial(1, alpha)\n",
    "        execRews = np.random.exponential()\n",
    "        curTime += execRews\n",
    "\n",
    "        if state == [0,0]:\n",
    "            if attBlock:\n",
    "                if execRews < beta:\n",
    "                    state = [1,0]\n",
    "                    lastAttBlc = curTime\n",
    "                else:\n",
    "                    attackBlcs += 1\n",
    "                    attackRews += execRews\n",
    "                    lastState0  = curTime\n",
    "                    lastAttBlc  = curTime\n",
    "            else:\n",
    "                honestBlcs += 1\n",
    "                honestRews += execRews\n",
    "                lastState0  = curTime\n",
    "                lastAttBlc  = curTime\n",
    "            continue\n",
    "\n",
    "        if state == [1,0]:\n",
    "            if attBlock:\n",
    "                state = [2,0]\n",
    "                lastAttBlc = curTime\n",
    "            else:\n",
    "                sample        = np.random.uniform()\n",
    "                nextExecRews  = np.random.exponential()\n",
    "                if sample < alpha:\n",
    "                    attackBlcs += 2\n",
    "                    attackRews += (curTime - lastState0) + nextExecRews\n",
    "                elif sample <= alpha + ((1-alpha)*gamma):\n",
    "                    attackBlcs += 1\n",
    "                    honestBlcs += 1\n",
    "                    attackRews += (lastAttBlc - lastState0)\n",
    "                    honestRews += (curTime - lastAttBlc) + nextExecRews\n",
    "                else:\n",
    "                    honestBlcs += 2\n",
    "                    honestRews += (curTime - lastState0) + nextExecRews\n",
    "                curTime    += nextExecRews\n",
    "                lastState0  = curTime\n",
    "                lastAttBlc  = curTime\n",
    "                state = [0,0]\n",
    "            continue\n",
    "\n",
    "        if attBlock:\n",
    "            state[0] += 1\n",
    "            lastAttBlc = curTime\n",
    "        else:\n",
    "            state[1] += 1\n",
    "\n",
    "        diff = state[0] - state[1]\n",
    "        if diff == 1:\n",
    "            attackBlcs += state[0]\n",
    "            attackRews += (lastAttBlc - lastState0)\n",
    "\n",
    "            # 0'' state\n",
    "            remRews = (curTime - lastAttBlc)\n",
    "            attBlock = np.random.binomial(1, alpha)\n",
    "            execRews = np.random.exponential()\n",
    "            curTime += execRews\n",
    "            if attBlock:\n",
    "                attackRews += (remRews + execRews)\n",
    "            else:\n",
    "                honestRews += (remRews + execRews)\n",
    "\n",
    "            lastState0  = curTime\n",
    "            lastAttBlc  = curTime\n",
    "            state = [0,0]\n",
    "\n",
    "    totalRews = honestRews + attackRews\n",
    "    return attackRews/totalRews"
   ]
  },
  {
   "cell_type": "code",
   "execution_count": 772,
   "metadata": {},
   "outputs": [
    {
     "data": {
      "text/plain": [
       "(0.29999999999999977, 0.72)"
      ]
     },
     "execution_count": 772,
     "metadata": {},
     "output_type": "execute_result"
    }
   ],
   "source": [
    "alphas[300-10], opt_betas[300-10]"
   ]
  },
  {
   "cell_type": "code",
   "execution_count": 756,
   "metadata": {},
   "outputs": [
    {
     "data": {
      "text/plain": [
       "[<matplotlib.lines.Line2D at 0x128a546a0>]"
      ]
     },
     "execution_count": 756,
     "metadata": {},
     "output_type": "execute_result"
    },
    {
     "data": {
      "image/png": "[encoded data removed]",
      "text/plain": [
       "<Figure size 432x288 with 1 Axes>"
      ]
     },
     "metadata": {
      "needs_background": "light"
     },
     "output_type": "display_data"
    }
   ],
   "source": [
    "plt.plot(alphas, opt_betas)"
   ]
  },
  {
   "cell_type": "code",
   "execution_count": 800,
   "metadata": {},
   "outputs": [
    {
     "data": {
      "text/plain": [
       "(0.3302433484455707, 0.3334312101869532)"
      ]
     },
     "execution_count": 800,
     "metadata": {},
     "output_type": "execute_result"
    }
   ],
   "source": [
    "Carlsten2(alpha=0.3, gamma=0, beta=opt_betas[300-10]), simCKWN_beta(alpha=0.3, beta=opt_betas[300-10], gamma=0, n=int(1e4))"
   ]
  },
  {
   "cell_type": "code",
   "execution_count": 789,
   "metadata": {},
   "outputs": [],
   "source": [
    "def findOptBeta(alpha, gamma):\n",
    "    # CKWN optimal betas (exec rewards only)\n",
    "    betas  = np.arange(0.01, 5.01, 0.01)\n",
    "    rews = [Carlsten2(alpha=alpha, beta=b, gamma=gamma) for b in betas]\n",
    "    return betas[np.argmax(rews)]"
   ]
  },
  {
   "cell_type": "code",
   "execution_count": 793,
   "metadata": {},
   "outputs": [
    {
     "data": {
      "text/plain": [
       "0.72"
      ]
     },
     "execution_count": 793,
     "metadata": {},
     "output_type": "execute_result"
    }
   ],
   "source": [
    "findOptBeta(0.3, 0)"
   ]
  },
  {
   "cell_type": "code",
   "execution_count": 803,
   "metadata": {},
   "outputs": [
    {
     "name": "stdout",
     "output_type": "stream",
     "text": [
      "alpha=0.475, optb=3.490\r"
     ]
    },
    {
     "data": {
      "text/plain": [
       "(19,)"
      ]
     },
     "execution_count": 803,
     "metadata": {},
     "output_type": "execute_result"
    }
   ],
   "source": [
    "simAlphas = np.arange(0.025, 0.5, 0.025)\n",
    "CKWN_sim = []\n",
    "for a in simAlphas:\n",
    "    optb = findOptBeta(a, 0)\n",
    "    print('alpha={:0.3f}, optb={:0.3f}'.format(a, optb), end='\\r')\n",
    "    temp = []\n",
    "    for j in range(10):\n",
    "        temp.append(simCKWN_beta(alpha=a, gamma=0.0, beta=optb, n=int(1e5)))\n",
    "    CKWN_sim.append(np.mean(temp))\n",
    "CKWN_sim = np.array(CKWN_sim)\n",
    "CKWN_sim.shape"
   ]
  },
  {
   "cell_type": "code",
   "execution_count": 808,
   "metadata": {},
   "outputs": [
    {
     "data": {
      "image/png": "[encoded data removed]",
      "text/plain": [
       "<Figure size 648x504 with 1 Axes>"
      ]
     },
     "metadata": {
      "needs_background": "light"
     },
     "output_type": "display_data"
    }
   ],
   "source": [
    "f, ax = plt.subplots(figsize=(9,7))\n",
    "\n",
    "ax.plot(alphas, CKWN_theo_opt_beta, linewidth=1, color='mediumseagreen', alpha=0.7, label='CKWN16', \n",
    "        linestyle='-')\n",
    "ax.plot(simAlphas, CKWN_sim, color='mediumseagreen', alpha=1, label='CKWN16 sims', marker='o', fillstyle='none',\n",
    "        linestyle='none', markersize=5)\n",
    "ax.plot(alphas, ES_theo, linewidth=1, color='mediumvioletred', alpha=0.7, label='ES13',\n",
    "        linestyle='-')\n",
    "ax.plot(simAlphas, ES_sim, color='mediumvioletred', alpha=1, label='ES13 sims', marker='x', fillstyle='none',\n",
    "        linestyle='none', markersize=5)\n",
    "\n",
    "ax.plot(alphas, alphas, color='k', alpha=0.2, label='honest')\n",
    "\n",
    "ax.set_xlabel(r'$\\alpha$', size=15)\n",
    "ax.set_ylabel(r'proportion of rewards', size=15)\n",
    "ax.grid(alpha=0.2)\n",
    "ax.legend()\n",
    "ax.set_xlim(0., 0.5)\n",
    "ax.set_ylim(0.,1)\n",
    "\n",
    "# ax.axvline(0.3)\n",
    "# ax.axhline(1/3)\n",
    "plt.savefig('out.png', dpi=400, bbox_inches='tight', facecolor='white')\n",
    "plt.show()"
   ]
  },
  {
   "cell_type": "markdown",
   "metadata": {},
   "source": [
    "# add LAMBDA"
   ]
  },
  {
   "cell_type": "code",
   "execution_count": 8,
   "metadata": {},
   "outputs": [],
   "source": [
    "# adding our rewards\n",
    "def calcP1(a, b):\n",
    "    num = a * (2*a-1) * (np.exp(b)-1)\n",
    "    den = 3 * np.power(a,2) * (np.exp(b)-1) + (2*a) - np.exp(b)\n",
    "    return num / den\n",
    "\n",
    "def calcHGamma(a, b, gamma):\n",
    "    exp1 = (1-a) / (a * (1 - np.exp(-b)))\n",
    "    exp2 = np.power(1-a, 2) * (2-gamma)\n",
    "    exp3 = a * (1-a)\n",
    "    return (exp1 + exp2 + exp3)\n",
    "\n",
    "def calcAGamma(a, b, gamma):\n",
    "    exp1 = np.exp(-b) / (a * (1-np.exp(-b)))\n",
    "    exp2 = 2 - a + ((2-a)/(1-a))\n",
    "    exp3 = np.power(1-a, 2) * gamma / a\n",
    "    exp4 = np.power(a,2) / ((1-2*a)*(1-a))\n",
    "    return a * (exp1 + exp2 + exp3 + exp4)\n",
    "\n",
    "def calcAOverAHGamma(a, b, gamma):\n",
    "    return calcAGamma(a,b,gamma) / (calcAGamma(a,b,gamma) + calcHGamma(a,b,gamma))"
   ]
  },
  {
   "cell_type": "code",
   "execution_count": 9,
   "metadata": {},
   "outputs": [],
   "source": [
    "def calcTotalRewardGamma(a, b, gamma, scale=1):\n",
    "    return (scale*Carlsten2(alpha=a, beta=b, gamma=gamma) + calcAOverAHGamma(a=a, b=b, gamma=gamma)) / (scale + 1)"
   ]
  },
  {
   "cell_type": "code",
   "execution_count": 816,
   "metadata": {},
   "outputs": [
    {
     "name": "stderr",
     "output_type": "stream",
     "text": [
      "100%|██████████| 490/490 [00:06<00:00, 74.22it/s]\n"
     ]
    }
   ],
   "source": [
    "# CKWN optimal betas (exec rewards only)\n",
    "alphas = np.arange(0.01, 0.5, 0.001)\n",
    "betas  = np.arange(0.01, 5.01, 0.01)\n",
    "opt_betas_exec = []\n",
    "for alpha in tqdm(alphas):\n",
    "    rews = [Carlsten2(alpha=alpha, beta=b, gamma=0) for b in betas]\n",
    "    opt_betas_exec.append(betas[np.argmax(rews)])\n",
    "opt_betas_exec = np.asarray(opt_betas_exec)"
   ]
  },
  {
   "cell_type": "code",
   "execution_count": 822,
   "metadata": {
    "scrolled": true
   },
   "outputs": [
    {
     "name": "stderr",
     "output_type": "stream",
     "text": [
      "100%|██████████| 490/490 [00:30<00:00, 15.31it/s]"
     ]
    },
    {
     "ename": "KeyboardInterrupt",
     "evalue": "",
     "output_type": "error",
     "traceback": [
      "\u001b[0;31m---------------------------------------------------------------------------\u001b[0m",
      "\u001b[0;31mKeyboardInterrupt\u001b[0m                         Traceback (most recent call last)",
      "\u001b[0;32m<ipython-input-822-51c0aef88ce7>\u001b[0m in \u001b[0;36m<module>\u001b[0;34m\u001b[0m\n\u001b[1;32m      3\u001b[0m \u001b[0mbetas\u001b[0m  \u001b[0;34m=\u001b[0m \u001b[0mnp\u001b[0m\u001b[0;34m.\u001b[0m\u001b[0marange\u001b[0m\u001b[0;34m(\u001b[0m\u001b[0;36m0.01\u001b[0m\u001b[0;34m,\u001b[0m \u001b[0;36m10.01\u001b[0m\u001b[0;34m,\u001b[0m \u001b[0;36m0.01\u001b[0m\u001b[0;34m)\u001b[0m\u001b[0;34m\u001b[0m\u001b[0;34m\u001b[0m\u001b[0m\n\u001b[1;32m      4\u001b[0m \u001b[0mopt_betas_both\u001b[0m \u001b[0;34m=\u001b[0m \u001b[0;34m[\u001b[0m\u001b[0;34m]\u001b[0m\u001b[0;34m\u001b[0m\u001b[0;34m\u001b[0m\u001b[0m\n\u001b[0;32m----> 5\u001b[0;31m \u001b[0;32mfor\u001b[0m \u001b[0malpha\u001b[0m \u001b[0;32min\u001b[0m \u001b[0mtqdm\u001b[0m\u001b[0;34m(\u001b[0m\u001b[0malphas\u001b[0m\u001b[0;34m)\u001b[0m\u001b[0;34m:\u001b[0m\u001b[0;34m\u001b[0m\u001b[0;34m\u001b[0m\u001b[0m\n\u001b[0m\u001b[1;32m      6\u001b[0m     \u001b[0mrews\u001b[0m \u001b[0;34m=\u001b[0m \u001b[0;34m[\u001b[0m\u001b[0mcalcTotalRewardGamma\u001b[0m\u001b[0;34m(\u001b[0m\u001b[0ma\u001b[0m\u001b[0;34m=\u001b[0m\u001b[0malpha\u001b[0m\u001b[0;34m,\u001b[0m \u001b[0mb\u001b[0m\u001b[0;34m=\u001b[0m\u001b[0mb\u001b[0m\u001b[0;34m,\u001b[0m \u001b[0mgamma\u001b[0m\u001b[0;34m=\u001b[0m\u001b[0;36m0\u001b[0m\u001b[0;34m,\u001b[0m \u001b[0mscale\u001b[0m\u001b[0;34m=\u001b[0m\u001b[0;36m1\u001b[0m\u001b[0;34m)\u001b[0m \u001b[0;32mfor\u001b[0m \u001b[0mb\u001b[0m \u001b[0;32min\u001b[0m \u001b[0mbetas\u001b[0m\u001b[0;34m]\u001b[0m\u001b[0;34m\u001b[0m\u001b[0;34m\u001b[0m\u001b[0m\n\u001b[1;32m      7\u001b[0m     \u001b[0mopt_betas_both\u001b[0m\u001b[0;34m.\u001b[0m\u001b[0mappend\u001b[0m\u001b[0;34m(\u001b[0m\u001b[0mbetas\u001b[0m\u001b[0;34m[\u001b[0m\u001b[0mnp\u001b[0m\u001b[0;34m.\u001b[0m\u001b[0margmax\u001b[0m\u001b[0;34m(\u001b[0m\u001b[0mrews\u001b[0m\u001b[0;34m)\u001b[0m\u001b[0;34m]\u001b[0m\u001b[0;34m)\u001b[0m\u001b[0;34m\u001b[0m\u001b[0;34m\u001b[0m\u001b[0m\n",
      "\u001b[0;32m/usr/local/lib/python3.8/site-packages/tqdm/std.py\u001b[0m in \u001b[0;36m__iter__\u001b[0;34m(self)\u001b[0m\n\u001b[1;32m   1225\u001b[0m             \u001b[0;32mreturn\u001b[0m\u001b[0;34m\u001b[0m\u001b[0;34m\u001b[0m\u001b[0m\n\u001b[1;32m   1226\u001b[0m \u001b[0;34m\u001b[0m\u001b[0m\n\u001b[0;32m-> 1227\u001b[0;31m         \u001b[0;32mif\u001b[0m \u001b[0mn\u001b[0m \u001b[0;34m<\u001b[0m \u001b[0;36m0\u001b[0m\u001b[0;34m:\u001b[0m\u001b[0;34m\u001b[0m\u001b[0;34m\u001b[0m\u001b[0m\n\u001b[0m\u001b[1;32m   1228\u001b[0m             \u001b[0mself\u001b[0m\u001b[0;34m.\u001b[0m\u001b[0mlast_print_n\u001b[0m \u001b[0;34m+=\u001b[0m \u001b[0mn\u001b[0m  \u001b[0;31m# for auto-refresh logic to work\u001b[0m\u001b[0;34m\u001b[0m\u001b[0;34m\u001b[0m\u001b[0m\n\u001b[1;32m   1229\u001b[0m         \u001b[0mself\u001b[0m\u001b[0;34m.\u001b[0m\u001b[0mn\u001b[0m \u001b[0;34m+=\u001b[0m \u001b[0mn\u001b[0m\u001b[0;34m\u001b[0m\u001b[0;34m\u001b[0m\u001b[0m\n",
      "\u001b[0;32m/usr/local/lib/python3.8/site-packages/tqdm/std.py\u001b[0m in \u001b[0;36mclose\u001b[0;34m(self)\u001b[0m\n\u001b[1;32m   1319\u001b[0m             \u001b[0mself\u001b[0m\u001b[0;34m.\u001b[0m\u001b[0msp\u001b[0m\u001b[0;34m(\u001b[0m\u001b[0;34m''\u001b[0m\u001b[0;34m)\u001b[0m\u001b[0;34m\u001b[0m\u001b[0;34m\u001b[0m\u001b[0m\n\u001b[1;32m   1320\u001b[0m             \u001b[0mself\u001b[0m\u001b[0;34m.\u001b[0m\u001b[0mfp\u001b[0m\u001b[0;34m.\u001b[0m\u001b[0mwrite\u001b[0m\u001b[0;34m(\u001b[0m\u001b[0;34m'\\r'\u001b[0m\u001b[0;34m)\u001b[0m  \u001b[0;31m# place cursor back at the beginning of line\u001b[0m\u001b[0;34m\u001b[0m\u001b[0;34m\u001b[0m\u001b[0m\n\u001b[0;32m-> 1321\u001b[0;31m             \u001b[0mself\u001b[0m\u001b[0;34m.\u001b[0m\u001b[0mmoveto\u001b[0m\u001b[0;34m(\u001b[0m\u001b[0;34m-\u001b[0m\u001b[0mpos\u001b[0m\u001b[0;34m)\u001b[0m\u001b[0;34m\u001b[0m\u001b[0;34m\u001b[0m\u001b[0m\n\u001b[0m\u001b[1;32m   1322\u001b[0m         \u001b[0;32mif\u001b[0m \u001b[0;32mnot\u001b[0m \u001b[0mnolock\u001b[0m\u001b[0;34m:\u001b[0m\u001b[0;34m\u001b[0m\u001b[0;34m\u001b[0m\u001b[0m\n\u001b[1;32m   1323\u001b[0m             \u001b[0mself\u001b[0m\u001b[0;34m.\u001b[0m\u001b[0m_lock\u001b[0m\u001b[0;34m.\u001b[0m\u001b[0mrelease\u001b[0m\u001b[0;34m(\u001b[0m\u001b[0;34m)\u001b[0m\u001b[0;34m\u001b[0m\u001b[0;34m\u001b[0m\u001b[0m\n",
      "\u001b[0;32m/usr/local/lib/python3.8/site-packages/tqdm/std.py\u001b[0m in \u001b[0;36m_decr_instances\u001b[0;34m(cls, instance)\u001b[0m\n\u001b[1;32m    608\u001b[0m \u001b[0;34m\u001b[0m\u001b[0m\n\u001b[1;32m    609\u001b[0m         \u001b[0;31m# total is known: we can predict some stats\u001b[0m\u001b[0;34m\u001b[0m\u001b[0;34m\u001b[0m\u001b[0;34m\u001b[0m\u001b[0m\n\u001b[0;32m--> 610\u001b[0;31m         \u001b[0;32mif\u001b[0m \u001b[0mtotal\u001b[0m\u001b[0;34m:\u001b[0m\u001b[0;34m\u001b[0m\u001b[0;34m\u001b[0m\u001b[0m\n\u001b[0m\u001b[1;32m    611\u001b[0m             \u001b[0;31m# fractional and percentage progress\u001b[0m\u001b[0;34m\u001b[0m\u001b[0;34m\u001b[0m\u001b[0;34m\u001b[0m\u001b[0m\n\u001b[1;32m    612\u001b[0m             \u001b[0mfrac\u001b[0m \u001b[0;34m=\u001b[0m \u001b[0mn\u001b[0m \u001b[0;34m/\u001b[0m \u001b[0mtotal\u001b[0m\u001b[0;34m\u001b[0m\u001b[0;34m\u001b[0m\u001b[0m\n",
      "\u001b[0;32m/usr/local/lib/python3.8/site-packages/tqdm/_monitor.py\u001b[0m in \u001b[0;36mexit\u001b[0;34m(self)\u001b[0m\n\u001b[1;32m     51\u001b[0m                 if hasattr(i, 'start_t')]\n\u001b[1;32m     52\u001b[0m \u001b[0;34m\u001b[0m\u001b[0m\n\u001b[0;32m---> 53\u001b[0;31m     \u001b[0;32mdef\u001b[0m \u001b[0mrun\u001b[0m\u001b[0;34m(\u001b[0m\u001b[0mself\u001b[0m\u001b[0;34m)\u001b[0m\u001b[0;34m:\u001b[0m\u001b[0;34m\u001b[0m\u001b[0;34m\u001b[0m\u001b[0m\n\u001b[0m\u001b[1;32m     54\u001b[0m         \u001b[0mcur_t\u001b[0m \u001b[0;34m=\u001b[0m \u001b[0mself\u001b[0m\u001b[0;34m.\u001b[0m\u001b[0m_time\u001b[0m\u001b[0;34m(\u001b[0m\u001b[0;34m)\u001b[0m\u001b[0;34m\u001b[0m\u001b[0;34m\u001b[0m\u001b[0m\n\u001b[1;32m     55\u001b[0m         \u001b[0;32mwhile\u001b[0m \u001b[0;32mTrue\u001b[0m\u001b[0;34m:\u001b[0m\u001b[0;34m\u001b[0m\u001b[0;34m\u001b[0m\u001b[0m\n",
      "\u001b[0;32m/usr/local/Cellar/python@3.8/3.8.16/Frameworks/Python.framework/Versions/3.8/lib/python3.8/threading.py\u001b[0m in \u001b[0;36mjoin\u001b[0;34m(self, timeout)\u001b[0m\n\u001b[1;32m   1009\u001b[0m \u001b[0;34m\u001b[0m\u001b[0m\n\u001b[1;32m   1010\u001b[0m         \u001b[0;32mif\u001b[0m \u001b[0mtimeout\u001b[0m \u001b[0;32mis\u001b[0m \u001b[0;32mNone\u001b[0m\u001b[0;34m:\u001b[0m\u001b[0;34m\u001b[0m\u001b[0;34m\u001b[0m\u001b[0m\n\u001b[0;32m-> 1011\u001b[0;31m             \u001b[0mself\u001b[0m\u001b[0;34m.\u001b[0m\u001b[0m_wait_for_tstate_lock\u001b[0m\u001b[0;34m(\u001b[0m\u001b[0;34m)\u001b[0m\u001b[0;34m\u001b[0m\u001b[0;34m\u001b[0m\u001b[0m\n\u001b[0m\u001b[1;32m   1012\u001b[0m         \u001b[0;32melse\u001b[0m\u001b[0;34m:\u001b[0m\u001b[0;34m\u001b[0m\u001b[0;34m\u001b[0m\u001b[0m\n\u001b[1;32m   1013\u001b[0m             \u001b[0;31m# the behavior of a negative timeout isn't documented, but\u001b[0m\u001b[0;34m\u001b[0m\u001b[0;34m\u001b[0m\u001b[0;34m\u001b[0m\u001b[0m\n",
      "\u001b[0;32m/usr/local/Cellar/python@3.8/3.8.16/Frameworks/Python.framework/Versions/3.8/lib/python3.8/threading.py\u001b[0m in \u001b[0;36m_wait_for_tstate_lock\u001b[0;34m(self, block, timeout)\u001b[0m\n\u001b[1;32m   1025\u001b[0m         \u001b[0;32mif\u001b[0m \u001b[0mlock\u001b[0m \u001b[0;32mis\u001b[0m \u001b[0;32mNone\u001b[0m\u001b[0;34m:\u001b[0m  \u001b[0;31m# already determined that the C code is done\u001b[0m\u001b[0;34m\u001b[0m\u001b[0;34m\u001b[0m\u001b[0m\n\u001b[1;32m   1026\u001b[0m             \u001b[0;32massert\u001b[0m \u001b[0mself\u001b[0m\u001b[0;34m.\u001b[0m\u001b[0m_is_stopped\u001b[0m\u001b[0;34m\u001b[0m\u001b[0;34m\u001b[0m\u001b[0m\n\u001b[0;32m-> 1027\u001b[0;31m         \u001b[0;32melif\u001b[0m \u001b[0mlock\u001b[0m\u001b[0;34m.\u001b[0m\u001b[0macquire\u001b[0m\u001b[0;34m(\u001b[0m\u001b[0mblock\u001b[0m\u001b[0;34m,\u001b[0m \u001b[0mtimeout\u001b[0m\u001b[0;34m)\u001b[0m\u001b[0;34m:\u001b[0m\u001b[0;34m\u001b[0m\u001b[0;34m\u001b[0m\u001b[0m\n\u001b[0m\u001b[1;32m   1028\u001b[0m             \u001b[0mlock\u001b[0m\u001b[0;34m.\u001b[0m\u001b[0mrelease\u001b[0m\u001b[0;34m(\u001b[0m\u001b[0;34m)\u001b[0m\u001b[0;34m\u001b[0m\u001b[0;34m\u001b[0m\u001b[0m\n\u001b[1;32m   1029\u001b[0m             \u001b[0mself\u001b[0m\u001b[0;34m.\u001b[0m\u001b[0m_stop\u001b[0m\u001b[0;34m(\u001b[0m\u001b[0;34m)\u001b[0m\u001b[0;34m\u001b[0m\u001b[0;34m\u001b[0m\u001b[0m\n",
      "\u001b[0;31mKeyboardInterrupt\u001b[0m: "
     ]
    }
   ],
   "source": [
    "# our optimal betas (exec & block rewards only)\n",
    "alphas = np.arange(0.01, 0.5, 0.001)\n",
    "betas  = np.arange(0.01, 10.01, 0.01)\n",
    "opt_betas_both = []\n",
    "for alpha in tqdm(alphas):\n",
    "    rews = [calcTotalRewardGamma(a=alpha, b=b, gamma=0, scale=1) for b in betas]\n",
    "    opt_betas_both.append(betas[np.argmax(rews)])\n",
    "opt_betas_both = np.asarray(opt_betas_exec)"
   ]
  },
  {
   "cell_type": "code",
   "execution_count": 823,
   "metadata": {},
   "outputs": [
    {
     "data": {
      "text/plain": [
       "[<matplotlib.lines.Line2D at 0x128280730>]"
      ]
     },
     "execution_count": 823,
     "metadata": {},
     "output_type": "execute_result"
    },
    {
     "data": {
      "image/png": "[encoded data removed]",
      "text/plain": [
       "<Figure size 432x288 with 1 Axes>"
      ]
     },
     "metadata": {
      "needs_background": "light"
     },
     "output_type": "display_data"
    }
   ],
   "source": [
    "plt.plot(opt_betas_exec)\n",
    "plt.plot(opt_betas_both)"
   ]
  },
  {
   "cell_type": "code",
   "execution_count": 866,
   "metadata": {},
   "outputs": [
    {
     "data": {
      "text/plain": [
       "(0.28287224793815646, 0.27312614259597795)"
      ]
     },
     "execution_count": 866,
     "metadata": {},
     "output_type": "execute_result"
    }
   ],
   "source": [
    "calcTotalRewardGamma(0.3, 100, 0, scale=1), EyalSirer(0.3,0)"
   ]
  },
  {
   "cell_type": "code",
   "execution_count": 2,
   "metadata": {},
   "outputs": [
    {
     "ename": "NameError",
     "evalue": "name 'tqdm' is not defined",
     "output_type": "error",
     "traceback": [
      "\u001b[0;31m---------------------------------------------------------------------------\u001b[0m",
      "\u001b[0;31mNameError\u001b[0m                                 Traceback (most recent call last)",
      "\u001b[0;32m<ipython-input-2-08c474f23992>\u001b[0m in \u001b[0;36m<module>\u001b[0;34m\u001b[0m\n\u001b[1;32m      2\u001b[0m \u001b[0mOURS_theo_opt_beta\u001b[0m \u001b[0;34m=\u001b[0m \u001b[0;34m[\u001b[0m\u001b[0;34m]\u001b[0m\u001b[0;34m\u001b[0m\u001b[0;34m\u001b[0m\u001b[0m\n\u001b[1;32m      3\u001b[0m \u001b[0mES_tho_beta_infty\u001b[0m  \u001b[0;34m=\u001b[0m \u001b[0;34m[\u001b[0m\u001b[0;34m]\u001b[0m\u001b[0;34m\u001b[0m\u001b[0;34m\u001b[0m\u001b[0m\n\u001b[0;32m----> 4\u001b[0;31m \u001b[0;32mfor\u001b[0m \u001b[0mi\u001b[0m \u001b[0;32min\u001b[0m \u001b[0mtqdm\u001b[0m\u001b[0;34m(\u001b[0m\u001b[0mrange\u001b[0m\u001b[0;34m(\u001b[0m\u001b[0mlen\u001b[0m\u001b[0;34m(\u001b[0m\u001b[0malphas\u001b[0m\u001b[0;34m)\u001b[0m\u001b[0;34m)\u001b[0m\u001b[0;34m)\u001b[0m\u001b[0;34m:\u001b[0m\u001b[0;34m\u001b[0m\u001b[0;34m\u001b[0m\u001b[0m\n\u001b[0m\u001b[1;32m      5\u001b[0m     \u001b[0ma\u001b[0m\u001b[0;34m,\u001b[0m \u001b[0moptb_exec\u001b[0m\u001b[0;34m,\u001b[0m \u001b[0moptb_both\u001b[0m \u001b[0;34m=\u001b[0m \u001b[0malphas\u001b[0m\u001b[0;34m[\u001b[0m\u001b[0mi\u001b[0m\u001b[0;34m]\u001b[0m\u001b[0;34m,\u001b[0m \u001b[0mopt_betas_exec\u001b[0m\u001b[0;34m[\u001b[0m\u001b[0mi\u001b[0m\u001b[0;34m]\u001b[0m\u001b[0;34m,\u001b[0m \u001b[0mopt_betas_both\u001b[0m\u001b[0;34m[\u001b[0m\u001b[0mi\u001b[0m\u001b[0;34m]\u001b[0m\u001b[0;34m\u001b[0m\u001b[0;34m\u001b[0m\u001b[0m\n\u001b[1;32m      6\u001b[0m     \u001b[0mCKWN_theo_opt_beta\u001b[0m\u001b[0;34m.\u001b[0m\u001b[0mappend\u001b[0m\u001b[0;34m(\u001b[0m\u001b[0mcalcTotalRewardGamma\u001b[0m\u001b[0;34m(\u001b[0m\u001b[0ma\u001b[0m\u001b[0;34m=\u001b[0m\u001b[0ma\u001b[0m\u001b[0;34m,\u001b[0m \u001b[0mb\u001b[0m\u001b[0;34m=\u001b[0m\u001b[0moptb_exec\u001b[0m\u001b[0;34m,\u001b[0m \u001b[0mgamma\u001b[0m\u001b[0;34m=\u001b[0m\u001b[0;36m0\u001b[0m\u001b[0;34m,\u001b[0m \u001b[0mscale\u001b[0m\u001b[0;34m=\u001b[0m\u001b[0;36m1\u001b[0m\u001b[0;34m)\u001b[0m\u001b[0;34m)\u001b[0m\u001b[0;34m\u001b[0m\u001b[0;34m\u001b[0m\u001b[0m\n",
      "\u001b[0;31mNameError\u001b[0m: name 'tqdm' is not defined"
     ]
    }
   ],
   "source": [
    "CKWN_theo_opt_beta = []\n",
    "OURS_theo_opt_beta = []\n",
    "ES_tho_beta_infty  = []\n",
    "for i in tqdm(range(len(alphas))):\n",
    "    a, optb_exec, optb_both = alphas[i], opt_betas_exec[i], opt_betas_both[i]\n",
    "    CKWN_theo_opt_beta.append(calcTotalRewardGamma(a=a, b=optb_exec, gamma=0, scale=1))\n",
    "    OURS_theo_opt_beta.append(calcTotalRewardGamma(a=a, b=optb_both, gamma=0, scale=1))\n",
    "    ES_tho_beta_infty.append(calcTotalRewardGamma(a=a, b=100., gamma=0., scale=1.))\n",
    "CKWN_theo_opt_beta = np.array(CKWN_theo_opt_beta)\n",
    "OURS_theo_opt_beta = np.array(OURS_theo_opt_beta)\n",
    "ES_tho_beta_infty  = np.array(ES_tho_beta_infty)\n",
    "CKWN_theo_opt_beta.shape, OURS_theo_opt_beta.shape, ES_tho_beta_infty.shape "
   ]
  },
  {
   "cell_type": "code",
   "execution_count": 844,
   "metadata": {},
   "outputs": [],
   "source": [
    "def simCKWN_beta_lambda(alpha, gamma, beta, scale=1, n = int(1e5)):\n",
    "    state = [0,0] # (attacker, honest)\n",
    "\n",
    "    honestBlcs = 0\n",
    "    attackBlcs = 0\n",
    "    honestRews = 0\n",
    "    attackRews = 0\n",
    "    curTime    = 0\n",
    "    lastState0 = 0\n",
    "    lastAttBlc = 0\n",
    "\n",
    "    for _ in range(n):\n",
    "        attBlock = np.random.binomial(1, alpha)\n",
    "        execRews = np.random.exponential()\n",
    "        curTime += execRews\n",
    "\n",
    "        if state == [0,0]:\n",
    "            if attBlock:\n",
    "                if execRews < beta:\n",
    "                    state = [1,0]\n",
    "                    lastAttBlc = curTime\n",
    "                else:\n",
    "                    attackBlcs += 1\n",
    "                    attackRews += execRews\n",
    "                    lastState0  = curTime\n",
    "                    lastAttBlc  = curTime\n",
    "            else:\n",
    "                honestBlcs += 1\n",
    "                honestRews += execRews\n",
    "                lastState0  = curTime\n",
    "                lastAttBlc  = curTime\n",
    "            continue\n",
    "\n",
    "        if state == [1,0]:\n",
    "            if attBlock:\n",
    "                state = [2,0]\n",
    "                lastAttBlc = curTime\n",
    "            else:\n",
    "                sample        = np.random.uniform()\n",
    "                nextExecRews  = np.random.exponential()\n",
    "                if sample < alpha:\n",
    "                    attackBlcs += 2\n",
    "                    attackRews += (curTime - lastState0) + nextExecRews\n",
    "                elif sample <= alpha + ((1-alpha)*gamma):\n",
    "                    attackBlcs += 1\n",
    "                    honestBlcs += 1\n",
    "                    attackRews += (lastAttBlc - lastState0)\n",
    "                    honestRews += (curTime - lastAttBlc) + nextExecRews\n",
    "                else:\n",
    "                    honestBlcs += 2\n",
    "                    honestRews += (curTime - lastState0) + nextExecRews\n",
    "                curTime    += nextExecRews\n",
    "                lastState0  = curTime\n",
    "                lastAttBlc  = curTime\n",
    "                state = [0,0]\n",
    "            continue\n",
    "\n",
    "        if attBlock:\n",
    "            state[0] += 1\n",
    "            lastAttBlc = curTime\n",
    "        else:\n",
    "            state[1] += 1\n",
    "\n",
    "        diff = state[0] - state[1]\n",
    "        if diff == 1:\n",
    "            attackBlcs += state[0]\n",
    "            attackRews += (lastAttBlc - lastState0)\n",
    "\n",
    "            # 0'' state\n",
    "            remRews = (curTime - lastAttBlc)\n",
    "            attBlock = np.random.binomial(1, alpha)\n",
    "            execRews = np.random.exponential()\n",
    "            curTime += execRews\n",
    "            if attBlock:\n",
    "                attackBlcs += 1\n",
    "                attackRews += (remRews + execRews)\n",
    "            else:\n",
    "                honestBlcs += 1\n",
    "                honestRews += (remRews + execRews)\n",
    "\n",
    "            lastState0  = curTime\n",
    "            lastAttBlc  = curTime\n",
    "            state = [0,0]\n",
    "\n",
    "    totalRews = honestRews + attackRews\n",
    "    totalBlcs = honestBlcs + attackBlcs\n",
    "    return ((scale*(attackRews/totalRews)) + (attackBlcs/totalBlcs)) / (scale+1)"
   ]
  },
  {
   "cell_type": "code",
   "execution_count": 845,
   "metadata": {},
   "outputs": [],
   "source": [
    "def findOptBetaExec(alpha, gamma):\n",
    "    # CKWN optimal betas (exec rewards only)\n",
    "    betas  = np.arange(0.01, 5.01, 0.01)\n",
    "    rews = [Carlsten2(alpha=alpha, beta=b, gamma=gamma) for b in betas]\n",
    "    return betas[np.argmax(rews)]\n",
    "\n",
    "def findOptBetaBoth(alpha, gamma, scale=1):\n",
    "    # CKWN optimal betas (exec rewards only)\n",
    "    betas  = np.arange(0.01, 5.01, 0.01)\n",
    "    rews = [calcTotalRewardGamma(a=alpha, b=b, gamma=gamma, scale=scale) for b in betas]\n",
    "    return betas[np.argmax(rews)]"
   ]
  },
  {
   "cell_type": "code",
   "execution_count": 846,
   "metadata": {},
   "outputs": [
    {
     "data": {
      "text/plain": [
       "(0.72, 0.49)"
      ]
     },
     "execution_count": 846,
     "metadata": {},
     "output_type": "execute_result"
    }
   ],
   "source": [
    "findOptBetaExec(0.3, 0), findOptBetaBoth(0.3, 0, scale=1)"
   ]
  },
  {
   "cell_type": "code",
   "execution_count": 851,
   "metadata": {},
   "outputs": [
    {
     "name": "stdout",
     "output_type": "stream",
     "text": [
      "alpha=0.475, optb=3.490\r"
     ]
    },
    {
     "data": {
      "text/plain": [
       "(19,)"
      ]
     },
     "execution_count": 851,
     "metadata": {},
     "output_type": "execute_result"
    }
   ],
   "source": [
    "simAlphas = np.arange(0.025, 0.5, 0.025)\n",
    "CKWN_sim_lambda = []\n",
    "for a in simAlphas:\n",
    "    optb = findOptBetaExec(a, 0)\n",
    "    print('alpha={:0.3f}, optb={:0.3f}'.format(a, optb), end='\\r')\n",
    "    temp = []\n",
    "    for j in range(10):\n",
    "        temp.append(simCKWN_beta_lambda(alpha=a, gamma=0.0, beta=optb, scale=1, n=int(1e5)))\n",
    "    CKWN_sim_lambda.append(np.mean(temp))\n",
    "CKWN_sim_lambda = np.array(CKWN_sim_lambda)\n",
    "CKWN_sim_lambda.shape"
   ]
  },
  {
   "cell_type": "code",
   "execution_count": 853,
   "metadata": {},
   "outputs": [
    {
     "name": "stdout",
     "output_type": "stream",
     "text": [
      "alpha=0.475, optb=5.000\r"
     ]
    },
    {
     "data": {
      "text/plain": [
       "(19,)"
      ]
     },
     "execution_count": 853,
     "metadata": {},
     "output_type": "execute_result"
    }
   ],
   "source": [
    "simAlphas = np.arange(0.025, 0.5, 0.025)\n",
    "OURS_sim_lambda = []\n",
    "for a in simAlphas:\n",
    "    optb = findOptBetaBoth(a, 0)\n",
    "    print('alpha={:0.3f}, optb={:0.3f}'.format(a, optb), end='\\r')\n",
    "    temp = []\n",
    "    for j in range(10):\n",
    "        temp.append(simCKWN_beta_lambda(alpha=a, gamma=0.0, beta=optb, scale=1, n=int(1e5)))\n",
    "    OURS_sim_lambda.append(np.mean(temp))\n",
    "OURS_sim_lambda = np.array(OURS_sim_lambda)\n",
    "OURS_sim_lambda.shape"
   ]
  },
  {
   "cell_type": "code",
   "execution_count": 875,
   "metadata": {},
   "outputs": [
    {
     "name": "stdout",
     "output_type": "stream",
     "text": [
      "alpha=0.475\r"
     ]
    },
    {
     "data": {
      "text/plain": [
       "(19,)"
      ]
     },
     "execution_count": 875,
     "metadata": {},
     "output_type": "execute_result"
    }
   ],
   "source": [
    "simAlphas = np.arange(0.025, 0.5, 0.025)\n",
    "ES_sim_lambda = []\n",
    "for a in simAlphas:\n",
    "    optb = 100\n",
    "    print('alpha={:0.3f}'.format(a), end='\\r')\n",
    "    temp = []\n",
    "    for j in range(10):\n",
    "        temp.append(simCKWN_beta_lambda(alpha=a, gamma=0.0, beta=optb, scale=1, n=int(1e5)))\n",
    "    ES_sim_lambda.append(np.mean(temp))\n",
    "ES_sim_lambda = np.array(ES_sim_lambda)\n",
    "ES_sim_lambda.shape"
   ]
  },
  {
   "cell_type": "code",
   "execution_count": 880,
   "metadata": {},
   "outputs": [
    {
     "data": {
      "image/png": "[encoded data removed]",
      "text/plain": [
       "<Figure size 648x504 with 1 Axes>"
      ]
     },
     "metadata": {
      "needs_background": "light"
     },
     "output_type": "display_data"
    }
   ],
   "source": [
    "f, ax = plt.subplots(figsize=(9,6))\n",
    "\n",
    "axins = ax.inset_axes(\n",
    "    [1.1, 0.35, 0.47, 0.47],\n",
    "    xlim=(.19, .26), ylim=(.13, .26))\n",
    "\n",
    "ax.indicate_inset_zoom(axins, edgecolor=\"black\", label=None, alpha=0.25)\n",
    "\n",
    "\n",
    "for a in [ax, axins]:\n",
    "    a.plot(alphas, ES_tho_beta_infty, linewidth=1, color='goldenrod', alpha=0.7, label='ES13', \n",
    "            linestyle='-')\n",
    "    a.plot(simAlphas, ES_sim_lambda, color='goldenrod', alpha=1, label='ES13 sims', marker='s', \n",
    "           fillstyle='none', linestyle='none', markersize=5)\n",
    "        \n",
    "    a.plot(alphas, CKWN_theo_opt_beta, linewidth=1, color='mediumseagreen', alpha=0.7, label='CKWN16', \n",
    "            linestyle='-')\n",
    "    a.plot(simAlphas, CKWN_sim_lambda, color='mediumseagreen', alpha=1, label='CKWN16 sims', marker='o', \n",
    "           fillstyle='none', linestyle='none', markersize=5)\n",
    "\n",
    "    a.plot(alphas, OURS_theo_opt_beta, linewidth=1, color='mediumvioletred', alpha=0.7, label='OURS', \n",
    "            linestyle='-')\n",
    "    a.plot(simAlphas, OURS_sim_lambda, color='mediumvioletred', alpha=1, label='OURS sims', marker='x', \n",
    "           fillstyle='none', linestyle='none', markersize=5)\n",
    "    \n",
    "    \n",
    "#     a.plot(alphas,alphas, color='k', alpha=0.3)\n",
    "\n",
    "ax.set_xlabel(r'$\\alpha$', size=15)\n",
    "ax.set_ylabel(r'proportion of rewards', size=15)\n",
    "ax.grid(alpha=0.2)\n",
    "ax.legend()\n",
    "ax.set_xlim(0., 0.5)\n",
    "ax.set_ylim(0.,1)\n",
    "\n",
    "plt.savefig('out.png', dpi=400, bbox_inches='tight', facecolor='white')\n",
    "plt.show()"
   ]
  },
  {
   "cell_type": "markdown",
   "metadata": {},
   "source": [
    "# diff exec reward functions\n",
    "start with exec rewards that scale sqrt in time, no closed form of the theory here, so we just go with the sims \n",
    "\n",
    "note that with the sims, you have to choose optimal beta a bit more randomly too"
   ]
  },
  {
   "cell_type": "code",
   "execution_count": 881,
   "metadata": {},
   "outputs": [],
   "source": [
    "def simCKWN_beta_lambda_sqrt(alpha, gamma, beta, scale=1, n = int(1e5)):\n",
    "    state = [0,0] # (attacker, honest)\n",
    "\n",
    "    honestBlcs = 0\n",
    "    attackBlcs = 0\n",
    "    honestRews = 0\n",
    "    attackRews = 0\n",
    "    curTime    = 0\n",
    "    lastState0 = 0\n",
    "    lastAttBlc = 0\n",
    "\n",
    "    for _ in range(n):\n",
    "        attBlock = np.random.binomial(1, alpha)\n",
    "        execRews = np.sqrt(np.random.exponential()) # HERE IS DIFF\n",
    "        curTime += execRews\n",
    "\n",
    "        if state == [0,0]:\n",
    "            if attBlock:\n",
    "                if execRews < beta:\n",
    "                    state = [1,0]\n",
    "                    lastAttBlc = curTime\n",
    "                else:\n",
    "                    attackBlcs += 1\n",
    "                    attackRews += execRews\n",
    "                    lastState0  = curTime\n",
    "                    lastAttBlc  = curTime\n",
    "            else:\n",
    "                honestBlcs += 1\n",
    "                honestRews += execRews\n",
    "                lastState0  = curTime\n",
    "                lastAttBlc  = curTime\n",
    "            continue\n",
    "\n",
    "        if state == [1,0]:\n",
    "            if attBlock:\n",
    "                state = [2,0]\n",
    "                lastAttBlc = curTime\n",
    "            else:\n",
    "                sample        = np.random.uniform()\n",
    "                nextExecRews  = np.random.exponential()\n",
    "                if sample < alpha:\n",
    "                    attackBlcs += 2\n",
    "                    attackRews += (curTime - lastState0) + nextExecRews\n",
    "                elif sample <= alpha + ((1-alpha)*gamma):\n",
    "                    attackBlcs += 1\n",
    "                    honestBlcs += 1\n",
    "                    attackRews += (lastAttBlc - lastState0)\n",
    "                    honestRews += (curTime - lastAttBlc) + nextExecRews\n",
    "                else:\n",
    "                    honestBlcs += 2\n",
    "                    honestRews += (curTime - lastState0) + nextExecRews\n",
    "                curTime    += nextExecRews\n",
    "                lastState0  = curTime\n",
    "                lastAttBlc  = curTime\n",
    "                state = [0,0]\n",
    "            continue\n",
    "\n",
    "        if attBlock:\n",
    "            state[0] += 1\n",
    "            lastAttBlc = curTime\n",
    "        else:\n",
    "            state[1] += 1\n",
    "\n",
    "        diff = state[0] - state[1]\n",
    "        if diff == 1:\n",
    "            attackBlcs += state[0]\n",
    "            attackRews += (lastAttBlc - lastState0)\n",
    "\n",
    "            # 0'' state\n",
    "            remRews = (curTime - lastAttBlc)\n",
    "            attBlock = np.random.binomial(1, alpha)\n",
    "            execRews = np.random.exponential()\n",
    "            curTime += execRews\n",
    "            if attBlock:\n",
    "                attackBlcs += 1\n",
    "                attackRews += (remRews + execRews)\n",
    "            else:\n",
    "                honestBlcs += 1\n",
    "                honestRews += (remRews + execRews)\n",
    "\n",
    "            lastState0  = curTime\n",
    "            lastAttBlc  = curTime\n",
    "            state = [0,0]\n",
    "\n",
    "    totalRews = honestRews + attackRews\n",
    "    totalBlcs = honestBlcs + attackBlcs\n",
    "    return ((scale*(attackRews/totalRews)) + (attackBlcs/totalBlcs)) / (scale+1)"
   ]
  },
  {
   "cell_type": "code",
   "execution_count": 925,
   "metadata": {},
   "outputs": [],
   "source": [
    "def getOnlyExecRews_sqrt(alpha, gamma, beta, n = int(1e5)):\n",
    "    state = [0,0] # (attacker, honest)\n",
    "\n",
    "    honestRews = 0\n",
    "    attackRews = 0\n",
    "    curTime    = 0\n",
    "    lastState0 = 0\n",
    "    lastAttBlc = 0\n",
    "\n",
    "    for _ in range(n):\n",
    "        attBlock = np.random.binomial(1, alpha)\n",
    "        execRews = np.sqrt(np.random.exponential()) # HERE IS DIFF\n",
    "        curTime += execRews\n",
    "\n",
    "        if state == [0,0]:\n",
    "            if attBlock:\n",
    "                if execRews < beta:\n",
    "                    state = [1,0]\n",
    "                    lastAttBlc = curTime\n",
    "                else:\n",
    "                    attackRews += execRews\n",
    "                    lastState0  = curTime\n",
    "                    lastAttBlc  = curTime\n",
    "            else:\n",
    "                honestRews += execRews\n",
    "                lastState0  = curTime\n",
    "                lastAttBlc  = curTime\n",
    "            continue\n",
    "\n",
    "        if state == [1,0]:\n",
    "            if attBlock:\n",
    "                state = [2,0]\n",
    "                lastAttBlc = curTime\n",
    "            else:\n",
    "                sample        = np.random.uniform()\n",
    "                nextExecRews  = np.random.exponential()\n",
    "                if sample < alpha:\n",
    "                    attackRews += (curTime - lastState0) + nextExecRews\n",
    "                elif sample <= alpha + ((1-alpha)*gamma):\n",
    "                    attackRews += (lastAttBlc - lastState0)\n",
    "                    honestRews += (curTime - lastAttBlc) + nextExecRews\n",
    "                else:\n",
    "                    honestRews += (curTime - lastState0) + nextExecRews\n",
    "                curTime    += nextExecRews\n",
    "                lastState0  = curTime\n",
    "                lastAttBlc  = curTime\n",
    "                state = [0,0]\n",
    "            continue\n",
    "\n",
    "        if attBlock:\n",
    "            state[0] += 1\n",
    "            lastAttBlc = curTime\n",
    "        else:\n",
    "            state[1] += 1\n",
    "\n",
    "        diff = state[0] - state[1]\n",
    "        if diff == 1:\n",
    "            attackRews += (lastAttBlc - lastState0)\n",
    "\n",
    "            # 0'' state\n",
    "            remRews = (curTime - lastAttBlc)\n",
    "            attBlock = np.random.binomial(1, alpha)\n",
    "            execRews = np.random.exponential()\n",
    "            curTime += execRews\n",
    "            if attBlock:\n",
    "                attackRews += (remRews + execRews)\n",
    "            else:\n",
    "                honestRews += (remRews + execRews)\n",
    "\n",
    "            lastState0  = curTime\n",
    "            lastAttBlc  = curTime\n",
    "            state = [0,0]\n",
    "\n",
    "    totalRews = honestRews + attackRews\n",
    "    return attackRews/totalRews"
   ]
  },
  {
   "cell_type": "code",
   "execution_count": 926,
   "metadata": {},
   "outputs": [
    {
     "data": {
      "text/plain": [
       "(0.33281786424344695, 0.30123862993119144)"
      ]
     },
     "execution_count": 926,
     "metadata": {},
     "output_type": "execute_result"
    }
   ],
   "source": [
    "getOnlyExecRews_sqrt(alpha=0.3, gamma=0., beta=1, n=int(1e3)), simCKWN_beta_lambda_sqrt(alpha=0.3, gamma=0., beta=0.5, scale=1, n=int(1e3))"
   ]
  },
  {
   "cell_type": "code",
   "execution_count": 1001,
   "metadata": {},
   "outputs": [],
   "source": [
    "def findOptBetaExec(alpha, gamma):\n",
    "    # CKWN optimal betas (exec rewards only)\n",
    "    betas  = np.arange(0.1, 3.01, 0.1)\n",
    "    rews = []\n",
    "    for b in betas:\n",
    "        print('beta={:0.2f}'.format(b), end='\\r')\n",
    "        rews.append(getOnlyExecRews_sqrt(alpha=0.3, gamma=0., beta=b, n=int(1e5)))\n",
    "    rews = np.array(rews)\n",
    "    return betas[np.argmax(rews)]\n",
    "\n",
    "def findOptBetaBoth(alpha, gamma, scale=1):\n",
    "    betas  = np.arange(0.1, 3.01, 0.1)\n",
    "    rews = []\n",
    "    for b in betas:\n",
    "        print('beta={:0.2f}'.format(b), end='\\r')\n",
    "        rews.append(simCKWN_beta_lambda_sqrt(alpha=0.3, gamma=0., beta=b, scale=scale, n=int(1e5)))\n",
    "    rews = np.array(rews)\n",
    "    return betas[np.argmax(rews)]"
   ]
  },
  {
   "cell_type": "code",
   "execution_count": 1002,
   "metadata": {},
   "outputs": [
    {
     "name": "stdout",
     "output_type": "stream",
     "text": [
      "beta=3.00\r"
     ]
    },
    {
     "data": {
      "text/plain": [
       "((0.8,), 0.4)"
      ]
     },
     "execution_count": 1002,
     "metadata": {},
     "output_type": "execute_result"
    }
   ],
   "source": [
    "out1 = findOptBetaExec(0.3, 0)\n",
    "out2 = findOptBetaBoth(0.3, 0, scale=1)\n",
    "out1, out2"
   ]
  },
  {
   "cell_type": "code",
   "execution_count": 1011,
   "metadata": {},
   "outputs": [
    {
     "name": "stdout",
     "output_type": "stream",
     "text": [
      "alpha=0.025, optb=0.600\n",
      "alpha=0.075, optb=0.700\n",
      "alpha=0.125, optb=1.000\n",
      "alpha=0.175, optb=0.500\n",
      "alpha=0.225, optb=1.000\n",
      "alpha=0.275, optb=0.500\n",
      "alpha=0.325, optb=0.900\n",
      "alpha=0.375, optb=0.600\n",
      "alpha=0.425, optb=0.800\n",
      "alpha=0.475, optb=0.700\n"
     ]
    },
    {
     "data": {
      "text/plain": [
       "(10,)"
      ]
     },
     "execution_count": 1011,
     "metadata": {},
     "output_type": "execute_result"
    }
   ],
   "source": [
    "simAlphas = np.arange(0.025, 0.5, 0.05)\n",
    "CKWN_sim_lambda_sqrt = []\n",
    "for a in simAlphas:\n",
    "    optb = findOptBetaExec(a, 0)\n",
    "    print('alpha={:0.3f}, optb={:0.3f}'.format(a, optb), end='\\r')\n",
    "    temp = []\n",
    "    for j in range(10):\n",
    "        temp.append(simCKWN_beta_lambda_sqrt(alpha=a, gamma=0.0, beta=optb, scale=1, n=int(1e5)))\n",
    "    CKWN_sim_lambda_sqrt.append(np.mean(temp))\n",
    "    print()\n",
    "CKWN_sim_lambda_sqrt = np.array(CKWN_sim_lambda_sqrt)\n",
    "CKWN_sim_lambda_sqrt.shape"
   ]
  },
  {
   "cell_type": "code",
   "execution_count": 1015,
   "metadata": {},
   "outputs": [
    {
     "name": "stdout",
     "output_type": "stream",
     "text": [
      "alpha=0.025, optb=0.500\n",
      "alpha=0.075, optb=0.400\n",
      "alpha=0.125, optb=0.700\n",
      "alpha=0.175, optb=0.600\n",
      "alpha=0.225, optb=0.600\n",
      "alpha=0.275, optb=0.400\n",
      "alpha=0.325, optb=0.200\n",
      "alpha=0.375, optb=0.700\n",
      "alpha=0.425, optb=0.500\n",
      "alpha=0.475, optb=0.700\n"
     ]
    },
    {
     "data": {
      "text/plain": [
       "(10,)"
      ]
     },
     "execution_count": 1015,
     "metadata": {},
     "output_type": "execute_result"
    }
   ],
   "source": [
    "simAlphas = np.arange(0.025, 0.5, 0.05)\n",
    "OURS_sim_lambda_sqrt = []\n",
    "for a in simAlphas:\n",
    "    optb = findOptBetaBoth(a, 0)\n",
    "    print('alpha={:0.3f}, optb={:0.3f}'.format(a, optb), end='\\r')\n",
    "    temp = []\n",
    "    for j in range(10):\n",
    "        temp.append(simCKWN_beta_lambda_sqrt(alpha=a, gamma=0.0, beta=optb, scale=1, n=int(1e5)))\n",
    "    OURS_sim_lambda_sqrt.append(np.mean(temp))\n",
    "    print()\n",
    "OURS_sim_lambda_sqrt = np.array(OURS_sim_lambda_sqrt)\n",
    "OURS_sim_lambda_sqrt.shape"
   ]
  },
  {
   "cell_type": "code",
   "execution_count": 1019,
   "metadata": {},
   "outputs": [
    {
     "name": "stdout",
     "output_type": "stream",
     "text": [
      "alpha=0.025\n",
      "alpha=0.075\n",
      "alpha=0.125\n",
      "alpha=0.175\n",
      "alpha=0.225\n",
      "alpha=0.275\n",
      "alpha=0.325\n",
      "alpha=0.375\n",
      "alpha=0.425\n",
      "alpha=0.475\n"
     ]
    },
    {
     "data": {
      "text/plain": [
       "(10,)"
      ]
     },
     "execution_count": 1019,
     "metadata": {},
     "output_type": "execute_result"
    }
   ],
   "source": [
    "simAlphas = np.arange(0.025, 0.5, 0.05)\n",
    "ES_sim_lambda_sqrt = []\n",
    "for a in simAlphas:\n",
    "    optb = 100\n",
    "    print('alpha={:0.3f}'.format(a), end='\\r')\n",
    "    temp = []\n",
    "    for j in range(10):\n",
    "        temp.append(simCKWN_beta_lambda_sqrt(alpha=a, gamma=0.0, beta=optb, scale=1, n=int(1e5)))\n",
    "    ES_sim_lambda_sqrt.append(np.mean(temp))\n",
    "    print()\n",
    "ES_sim_lambda_sqrt = np.array(ES_sim_lambda_sqrt)\n",
    "ES_sim_lambda_sqrt.shape"
   ]
  },
  {
   "cell_type": "code",
   "execution_count": 1020,
   "metadata": {},
   "outputs": [
    {
     "data": {
      "image/png": "[encoded data removed]",
      "text/plain": [
       "<Figure size 648x504 with 1 Axes>"
      ]
     },
     "metadata": {
      "needs_background": "light"
     },
     "output_type": "display_data"
    }
   ],
   "source": [
    "f, ax = plt.subplots(figsize=(9,7))\n",
    "\n",
    "# axins = ax.inset_axes(\n",
    "#     [1.1, 0.35, 0.47, 0.47],\n",
    "#     xlim=(.19, .26), ylim=(.13, .26))\n",
    "\n",
    "# ax.indicate_inset_zoom(axins, edgecolor=\"black\", label=None, alpha=0.25)\n",
    "\n",
    "\n",
    "for a in [ax, axins]:\n",
    "    a.plot(simAlphas, ES_sim_lambda_sqrt, color='goldenrod', alpha=1, label='ES13 sims', marker='s', \n",
    "           fillstyle='none', linestyle='none', markersize=5)\n",
    "    a.plot(simAlphas, CKWN_sim_lambda_sqrt, color='mediumseagreen', alpha=1, label='CKWN16 sims', marker='o', \n",
    "           fillstyle='none', linestyle='none', markersize=5)\n",
    "    a.plot(simAlphas, OURS_sim_lambda_sqrt, color='mediumvioletred', alpha=1, label='OURS sims', marker='x', \n",
    "           fillstyle='none', linestyle='none', markersize=5)\n",
    "    \n",
    "\n",
    "\n",
    "ax.set_xlabel(r'$\\alpha$', size=15)\n",
    "ax.set_ylabel(r'proportion of rewards', size=15)\n",
    "ax.grid(alpha=0.2)\n",
    "ax.legend()\n",
    "ax.set_xlim(0., 0.5)\n",
    "ax.set_ylim(0.,1)\n",
    "\n",
    "# plt.savefig('out.png', dpi=400, bbox_inches='tight', facecolor='white')\n",
    "plt.show()"
   ]
  },
  {
   "cell_type": "markdown",
   "metadata": {},
   "source": [
    "# optimal beta for sqrt"
   ]
  },
  {
   "cell_type": "code",
   "execution_count": 6,
   "metadata": {},
   "outputs": [],
   "source": [
    "def findOptBetaExec(alpha, gamma):\n",
    "    # CKWN optimal betas (exec rewards only)\n",
    "    betas  = np.arange(0.01, 5.01, 0.01)\n",
    "    rews = [Carlsten2(alpha=alpha, beta=b, gamma=gamma) for b in betas]\n",
    "    return betas[np.argmax(rews)]\n",
    "\n",
    "def findOptBetaBoth(alpha, gamma, scale=1):\n",
    "    # CKWN optimal betas (exec rewards only)\n",
    "    betas  = np.arange(0.01, 5.01, 0.01)\n",
    "    rews = [calcTotalRewardGamma(a=alpha, b=b, gamma=gamma, scale=scale) for b in betas]\n",
    "    return betas[np.argmax(rews)]"
   ]
  },
  {
   "cell_type": "code",
   "execution_count": 7,
   "metadata": {},
   "outputs": [
    {
     "ename": "NameError",
     "evalue": "name 'calcTotalRewardGamma' is not defined",
     "output_type": "error",
     "traceback": [
      "\u001b[0;31m---------------------------------------------------------------------------\u001b[0m",
      "\u001b[0;31mNameError\u001b[0m                                 Traceback (most recent call last)",
      "\u001b[0;32m<ipython-input-7-c557e30e71c0>\u001b[0m in \u001b[0;36m<module>\u001b[0;34m\u001b[0m\n\u001b[0;32m----> 1\u001b[0;31m \u001b[0mfindOptBetaExec\u001b[0m\u001b[0;34m(\u001b[0m\u001b[0;36m0.3\u001b[0m\u001b[0;34m,\u001b[0m \u001b[0;36m0.\u001b[0m\u001b[0;34m)\u001b[0m\u001b[0;34m,\u001b[0m \u001b[0mfindOptBetaBoth\u001b[0m\u001b[0;34m(\u001b[0m\u001b[0;36m0.3\u001b[0m\u001b[0;34m,\u001b[0m \u001b[0;36m0.\u001b[0m\u001b[0;34m)\u001b[0m\u001b[0;34m\u001b[0m\u001b[0;34m\u001b[0m\u001b[0m\n\u001b[0m",
      "\u001b[0;32m<ipython-input-6-f79cd7620fa0>\u001b[0m in \u001b[0;36mfindOptBetaBoth\u001b[0;34m(alpha, gamma, scale)\u001b[0m\n\u001b[1;32m      8\u001b[0m     \u001b[0;31m# CKWN optimal betas (exec rewards only)\u001b[0m\u001b[0;34m\u001b[0m\u001b[0;34m\u001b[0m\u001b[0;34m\u001b[0m\u001b[0m\n\u001b[1;32m      9\u001b[0m     \u001b[0mbetas\u001b[0m  \u001b[0;34m=\u001b[0m \u001b[0mnp\u001b[0m\u001b[0;34m.\u001b[0m\u001b[0marange\u001b[0m\u001b[0;34m(\u001b[0m\u001b[0;36m0.01\u001b[0m\u001b[0;34m,\u001b[0m \u001b[0;36m5.01\u001b[0m\u001b[0;34m,\u001b[0m \u001b[0;36m0.01\u001b[0m\u001b[0;34m)\u001b[0m\u001b[0;34m\u001b[0m\u001b[0;34m\u001b[0m\u001b[0m\n\u001b[0;32m---> 10\u001b[0;31m     \u001b[0mrews\u001b[0m \u001b[0;34m=\u001b[0m \u001b[0;34m[\u001b[0m\u001b[0mcalcTotalRewardGamma\u001b[0m\u001b[0;34m(\u001b[0m\u001b[0ma\u001b[0m\u001b[0;34m=\u001b[0m\u001b[0malpha\u001b[0m\u001b[0;34m,\u001b[0m \u001b[0mb\u001b[0m\u001b[0;34m=\u001b[0m\u001b[0mb\u001b[0m\u001b[0;34m,\u001b[0m \u001b[0mgamma\u001b[0m\u001b[0;34m=\u001b[0m\u001b[0mgamma\u001b[0m\u001b[0;34m,\u001b[0m \u001b[0mscale\u001b[0m\u001b[0;34m=\u001b[0m\u001b[0mscale\u001b[0m\u001b[0;34m)\u001b[0m \u001b[0;32mfor\u001b[0m \u001b[0mb\u001b[0m \u001b[0;32min\u001b[0m \u001b[0mbetas\u001b[0m\u001b[0;34m]\u001b[0m\u001b[0;34m\u001b[0m\u001b[0;34m\u001b[0m\u001b[0m\n\u001b[0m\u001b[1;32m     11\u001b[0m     \u001b[0;32mreturn\u001b[0m \u001b[0mbetas\u001b[0m\u001b[0;34m[\u001b[0m\u001b[0mnp\u001b[0m\u001b[0;34m.\u001b[0m\u001b[0margmax\u001b[0m\u001b[0;34m(\u001b[0m\u001b[0mrews\u001b[0m\u001b[0;34m)\u001b[0m\u001b[0;34m]\u001b[0m\u001b[0;34m\u001b[0m\u001b[0;34m\u001b[0m\u001b[0m\n",
      "\u001b[0;32m<ipython-input-6-f79cd7620fa0>\u001b[0m in \u001b[0;36m<listcomp>\u001b[0;34m(.0)\u001b[0m\n\u001b[1;32m      8\u001b[0m     \u001b[0;31m# CKWN optimal betas (exec rewards only)\u001b[0m\u001b[0;34m\u001b[0m\u001b[0;34m\u001b[0m\u001b[0;34m\u001b[0m\u001b[0m\n\u001b[1;32m      9\u001b[0m     \u001b[0mbetas\u001b[0m  \u001b[0;34m=\u001b[0m \u001b[0mnp\u001b[0m\u001b[0;34m.\u001b[0m\u001b[0marange\u001b[0m\u001b[0;34m(\u001b[0m\u001b[0;36m0.01\u001b[0m\u001b[0;34m,\u001b[0m \u001b[0;36m5.01\u001b[0m\u001b[0;34m,\u001b[0m \u001b[0;36m0.01\u001b[0m\u001b[0;34m)\u001b[0m\u001b[0;34m\u001b[0m\u001b[0;34m\u001b[0m\u001b[0m\n\u001b[0;32m---> 10\u001b[0;31m     \u001b[0mrews\u001b[0m \u001b[0;34m=\u001b[0m \u001b[0;34m[\u001b[0m\u001b[0mcalcTotalRewardGamma\u001b[0m\u001b[0;34m(\u001b[0m\u001b[0ma\u001b[0m\u001b[0;34m=\u001b[0m\u001b[0malpha\u001b[0m\u001b[0;34m,\u001b[0m \u001b[0mb\u001b[0m\u001b[0;34m=\u001b[0m\u001b[0mb\u001b[0m\u001b[0;34m,\u001b[0m \u001b[0mgamma\u001b[0m\u001b[0;34m=\u001b[0m\u001b[0mgamma\u001b[0m\u001b[0;34m,\u001b[0m \u001b[0mscale\u001b[0m\u001b[0;34m=\u001b[0m\u001b[0mscale\u001b[0m\u001b[0;34m)\u001b[0m \u001b[0;32mfor\u001b[0m \u001b[0mb\u001b[0m \u001b[0;32min\u001b[0m \u001b[0mbetas\u001b[0m\u001b[0;34m]\u001b[0m\u001b[0;34m\u001b[0m\u001b[0;34m\u001b[0m\u001b[0m\n\u001b[0m\u001b[1;32m     11\u001b[0m     \u001b[0;32mreturn\u001b[0m \u001b[0mbetas\u001b[0m\u001b[0;34m[\u001b[0m\u001b[0mnp\u001b[0m\u001b[0;34m.\u001b[0m\u001b[0margmax\u001b[0m\u001b[0;34m(\u001b[0m\u001b[0mrews\u001b[0m\u001b[0;34m)\u001b[0m\u001b[0;34m]\u001b[0m\u001b[0;34m\u001b[0m\u001b[0;34m\u001b[0m\u001b[0m\n",
      "\u001b[0;31mNameError\u001b[0m: name 'calcTotalRewardGamma' is not defined"
     ]
    }
   ],
   "source": [
    "findOptBetaExec(0.3, 0.), findOptBetaBoth(0.3, 0.)"
   ]
  },
  {
   "cell_type": "code",
   "execution_count": 105,
   "metadata": {},
   "outputs": [],
   "source": [
    "alpha = 0.3\n",
    "gamma = 0.0\n",
    "scale = 1\n",
    "betas  = np.arange(0.15, 1., 0.01)\n",
    "rewsExec = [Carlsten2(alpha=alpha, beta=b, gamma=gamma) for b in betas]\n",
    "rewsBoth = [calcTotalRewardGamma(a=alpha, b=b, gamma=gamma, scale=scale) for b in betas]"
   ]
  },
  {
   "cell_type": "code",
   "execution_count": 35,
   "metadata": {},
   "outputs": [],
   "source": [
    "def sim_beta_linear(alpha, gamma, beta, n = int(1e5)):\n",
    "    state = [0,0] # (attacker, honest)\n",
    "\n",
    "    honestBlcs = 0\n",
    "    attackBlcs = 0\n",
    "    honestRews = 0\n",
    "    attackRews = 0\n",
    "    curTime    = 0\n",
    "    lastState0 = 0\n",
    "    lastAttBlc = 0\n",
    "\n",
    "    for _ in range(n):\n",
    "        attBlock = np.random.binomial(1, alpha)\n",
    "        execRews = np.random.exponential() # HERE IS DIFF\n",
    "        curTime += execRews\n",
    "\n",
    "        if state == [0,0]:\n",
    "            if attBlock:\n",
    "                if execRews < beta:\n",
    "                    state = [1,0]\n",
    "                    lastAttBlc = curTime\n",
    "                else:\n",
    "                    attackBlcs += 1\n",
    "                    attackRews += execRews\n",
    "                    lastState0  = curTime\n",
    "                    lastAttBlc  = curTime\n",
    "            else:\n",
    "                honestBlcs += 1\n",
    "                honestRews += execRews\n",
    "                lastState0  = curTime\n",
    "                lastAttBlc  = curTime\n",
    "            continue\n",
    "\n",
    "        if state == [1,0]:\n",
    "            if attBlock:\n",
    "                state = [2,0]\n",
    "                lastAttBlc = curTime\n",
    "            else:\n",
    "                sample        = np.random.uniform()\n",
    "                nextExecRews  = np.random.exponential()\n",
    "                if sample < alpha:\n",
    "                    attackBlcs += 2\n",
    "                    attackRews += (curTime - lastState0) + nextExecRews\n",
    "                elif sample <= alpha + ((1-alpha)*gamma):\n",
    "                    attackBlcs += 1\n",
    "                    honestBlcs += 1\n",
    "                    attackRews += (lastAttBlc - lastState0)\n",
    "                    honestRews += (curTime - lastAttBlc) + nextExecRews\n",
    "                else:\n",
    "                    honestBlcs += 2\n",
    "                    honestRews += (curTime - lastState0) + nextExecRews\n",
    "                curTime    += nextExecRews\n",
    "                lastState0  = curTime\n",
    "                lastAttBlc  = curTime\n",
    "                state = [0,0]\n",
    "            continue\n",
    "\n",
    "        if attBlock:\n",
    "            state[0] += 1\n",
    "            lastAttBlc = curTime\n",
    "        else:\n",
    "            state[1] += 1\n",
    "\n",
    "        diff = state[0] - state[1]\n",
    "        if diff == 1:\n",
    "            attackBlcs += state[0]\n",
    "            attackRews += (lastAttBlc - lastState0)\n",
    "\n",
    "            # 0'' state\n",
    "            remRews = (curTime - lastAttBlc)\n",
    "            attBlock = np.random.binomial(1, alpha)\n",
    "            execRews = np.random.exponential()\n",
    "            curTime += execRews\n",
    "            if attBlock:\n",
    "                attackBlcs += 1\n",
    "                attackRews += (remRews + execRews)\n",
    "            else:\n",
    "                honestBlcs += 1\n",
    "                honestRews += (remRews + execRews)\n",
    "\n",
    "            lastState0  = curTime\n",
    "            lastAttBlc  = curTime\n",
    "            state = [0,0]\n",
    "\n",
    "    return attackRews, honestRews, attackBlcs, honestBlcs"
   ]
  },
  {
   "cell_type": "code",
   "execution_count": 52,
   "metadata": {},
   "outputs": [],
   "source": [
    "def sim_beta_nonlinear(alpha, gamma, beta, f, n = int(1e5)):\n",
    "    state = [0,0] # (attacker, honest)\n",
    "\n",
    "    honestBlcs = 0\n",
    "    attackBlcs = 0\n",
    "    honestRews = 0\n",
    "    attackRews = 0\n",
    "    curTime    = 0\n",
    "    lastState0 = 0\n",
    "    lastAttBlc = 0\n",
    "\n",
    "    for _ in range(n):\n",
    "        attBlock = np.random.binomial(1, alpha)\n",
    "        execRews = f(np.random.exponential()) # HERE IS DIFF\n",
    "        curTime += execRews\n",
    "\n",
    "        if state == [0,0]:\n",
    "            if attBlock:\n",
    "                if execRews < beta:\n",
    "                    state = [1,0]\n",
    "                    lastAttBlc = curTime\n",
    "                else:\n",
    "                    attackBlcs += 1\n",
    "                    attackRews += execRews\n",
    "                    lastState0  = curTime\n",
    "                    lastAttBlc  = curTime\n",
    "            else:\n",
    "                honestBlcs += 1\n",
    "                honestRews += execRews\n",
    "                lastState0  = curTime\n",
    "                lastAttBlc  = curTime\n",
    "            continue\n",
    "\n",
    "        if state == [1,0]:\n",
    "            if attBlock:\n",
    "                state = [2,0]\n",
    "                lastAttBlc = curTime\n",
    "            else:\n",
    "                sample        = np.random.uniform()\n",
    "                nextExecRews  = np.random.exponential()\n",
    "                if sample < alpha:\n",
    "                    attackBlcs += 2\n",
    "                    attackRews += (curTime - lastState0) + nextExecRews\n",
    "                elif sample <= alpha + ((1-alpha)*gamma):\n",
    "                    attackBlcs += 1\n",
    "                    honestBlcs += 1\n",
    "                    attackRews += (lastAttBlc - lastState0)\n",
    "                    honestRews += (curTime - lastAttBlc) + nextExecRews\n",
    "                else:\n",
    "                    honestBlcs += 2\n",
    "                    honestRews += (curTime - lastState0) + nextExecRews\n",
    "                curTime    += nextExecRews\n",
    "                lastState0  = curTime\n",
    "                lastAttBlc  = curTime\n",
    "                state = [0,0]\n",
    "            continue\n",
    "\n",
    "        if attBlock:\n",
    "            state[0] += 1\n",
    "            lastAttBlc = curTime\n",
    "        else:\n",
    "            state[1] += 1\n",
    "\n",
    "        diff = state[0] - state[1]\n",
    "        if diff == 1:\n",
    "            attackBlcs += state[0]\n",
    "            attackRews += (lastAttBlc - lastState0)\n",
    "\n",
    "            # 0'' state\n",
    "            remRews = (curTime - lastAttBlc)\n",
    "            attBlock = np.random.binomial(1, alpha)\n",
    "            execRews = np.random.exponential()\n",
    "            curTime += execRews\n",
    "            if attBlock:\n",
    "                attackBlcs += 1\n",
    "                attackRews += (remRews + execRews)\n",
    "            else:\n",
    "                honestBlcs += 1\n",
    "                honestRews += (remRews + execRews)\n",
    "\n",
    "            lastState0  = curTime\n",
    "            lastAttBlc  = curTime\n",
    "            state = [0,0]\n",
    "\n",
    "    return attackRews, honestRews, attackBlcs, honestBlcs"
   ]
  },
  {
   "cell_type": "code",
   "execution_count": 100,
   "metadata": {},
   "outputs": [
    {
     "name": "stdout",
     "output_type": "stream",
     "text": [
      "beta=0.920\r"
     ]
    },
    {
     "data": {
      "text/plain": [
       "((10,), (10,))"
      ]
     },
     "execution_count": 100,
     "metadata": {},
     "output_type": "execute_result"
    }
   ],
   "source": [
    "simBetas  = np.arange(0.2, 1, 0.08)\n",
    "simExec = []\n",
    "simBoth = []\n",
    "for b in simBetas:\n",
    "    print('beta={:0.3f}'.format(b), end='\\r')\n",
    "    temp, temp2 = [], []\n",
    "    for j in range(15):\n",
    "        ar, hr, ab, hb = sim_beta_linear(alpha=0.3, gamma=0.0, beta=b, n = int(2e5))\n",
    "        temp.append(ar/(ar+hr))\n",
    "        temp2.append((ab/(ab+hb) + scale*ar/(ar+hr))/(scale+1))\n",
    "    simExec.append(np.mean(temp))\n",
    "    simBoth.append(np.mean(temp2))\n",
    "simExec = np.array(simExec)\n",
    "simBoth = np.array(simBoth)\n",
    "simExec.shape, simBoth.shape"
   ]
  },
  {
   "cell_type": "code",
   "execution_count": 101,
   "metadata": {},
   "outputs": [
    {
     "name": "stdout",
     "output_type": "stream",
     "text": [
      "beta=0.920\r"
     ]
    },
    {
     "data": {
      "text/plain": [
       "((10,), (10,))"
      ]
     },
     "execution_count": 101,
     "metadata": {},
     "output_type": "execute_result"
    }
   ],
   "source": [
    "simBetas  = np.arange(0.2, 1, 0.08)\n",
    "simExecSqrt = []\n",
    "simBothSqrt = []\n",
    "for b in simBetas:\n",
    "    print('beta={:0.3f}'.format(b), end='\\r')\n",
    "    temp, temp2 = [], []\n",
    "    for j in range(15):\n",
    "        ar, hr, ab, hb = sim_beta_nonlinear(alpha=0.3, gamma=0.0, beta=b, f=np.sqrt, n = int(2e5))\n",
    "        temp.append(ar/(ar+hr))\n",
    "        temp2.append((ab/(ab+hb) + scale*ar/(ar+hr))/(scale+1))\n",
    "    simExecSqrt.append(np.mean(temp))\n",
    "    simBothSqrt.append(np.mean(temp2))\n",
    "simExecSqrt = np.array(simExecSqrt)\n",
    "simBothSqrt = np.array(simBothSqrt)\n",
    "simExecSqrt.shape, simBothSqrt.shape"
   ]
  },
  {
   "cell_type": "code",
   "execution_count": 106,
   "metadata": {},
   "outputs": [
    {
     "data": {
      "text/plain": [
       "(0.72, 0.49)"
      ]
     },
     "execution_count": 106,
     "metadata": {},
     "output_type": "execute_result"
    }
   ],
   "source": [
    "findOptBetaExec(0.3, 0.), findOptBetaBoth(0.3, 0.)"
   ]
  },
  {
   "cell_type": "code",
   "execution_count": 107,
   "metadata": {},
   "outputs": [
    {
     "data": {
      "text/plain": [
       "(0.6800000000000002, 0.52)"
      ]
     },
     "execution_count": 107,
     "metadata": {},
     "output_type": "execute_result"
    }
   ],
   "source": [
    "simBetas[np.argmax(simExec)], simBetas[np.argmax(simBoth)]"
   ]
  },
  {
   "cell_type": "code",
   "execution_count": 108,
   "metadata": {},
   "outputs": [
    {
     "data": {
      "text/plain": [
       "(0.6800000000000002, 0.44000000000000006)"
      ]
     },
     "execution_count": 108,
     "metadata": {},
     "output_type": "execute_result"
    }
   ],
   "source": [
    "simBetas[np.argmax(simExecSqrt)], simBetas[np.argmax(simBothSqrt)]"
   ]
  },
  {
   "cell_type": "code",
   "execution_count": 110,
   "metadata": {},
   "outputs": [
    {
     "data": {
      "image/png": "[encoded data removed]",
      "text/plain": [
       "<Figure size 792x288 with 2 Axes>"
      ]
     },
     "metadata": {
      "needs_background": "light"
     },
     "output_type": "display_data"
    }
   ],
   "source": [
    "f, axarr = plt.subplots(ncols=2, figsize=(11,4))\n",
    "\n",
    "# axins = ax.inset_axes(\n",
    "#     [1.1, 0.35, 0.47, 0.47],\n",
    "#     xlim=(.19, .26), ylim=(.13, .26))\n",
    "\n",
    "# ax.indicate_inset_zoom(axins, edgecolor=\"black\", label=None, alpha=0.25)\n",
    "\n",
    "\n",
    "\n",
    "#     a.axhline(calcTotalRewardGamma(a=alpha, b=100, gamma=gamma, scale=scale), \n",
    "#               linewidth=1, color='goldenrod', alpha=0.7, label='ES13', linestyle='-')\n",
    "for a in [axarr[0]]:        \n",
    "    a.plot(betas, rewsExec, linewidth=1, color='mediumseagreen', alpha=0.7, label='CKWN16',\n",
    "           linestyle='-')\n",
    "    a.plot(simBetas, simExec, color='mediumseagreen', alpha=1, label='CKWN16 sims', marker='o', \n",
    "           fillstyle='none', linestyle='--', markersize=5)\n",
    "    a.plot(simBetas, simExecSqrt, color='mediumseagreen', alpha=1, label='CKWN16 sims, sqrt', marker='o', \n",
    "           fillstyle='full', linestyle='dotted', markersize=5)\n",
    "\n",
    "for a in [axarr[1]]:\n",
    "    a.plot(betas, rewsBoth, linewidth=1, color='mediumvioletred', alpha=0.7, label='OURS', \n",
    "            linestyle='-')\n",
    "    a.plot(simBetas, simBoth, color='mediumvioletred', alpha=1, label='OURS sims', marker='s', \n",
    "           fillstyle='none', linestyle='--', markersize=5)\n",
    "    a.plot(simBetas, simBothSqrt, color='mediumvioletred', alpha=1, label='OURS sims, sqrt', marker='s', \n",
    "           fillstyle='full', linestyle='dotted', markersize=5)\n",
    "    \n",
    "    \n",
    "#     a.plot(alphas,alphas, color='k', alpha=0.3)\n",
    "\n",
    "for ax in axarr:\n",
    "    ax.set_xlabel(r'$\\beta$', size=15)\n",
    "\n",
    "    ax.grid(alpha=0.2)\n",
    "    ax.legend()\n",
    "axarr[0].set_ylabel(r'proportion of rewards', size=15)\n",
    "    \n",
    "plt.savefig('out.png', dpi=400, bbox_inches='tight', facecolor='white')\n",
    "plt.show()"
   ]
  },
  {
   "cell_type": "code",
   "execution_count": 74,
   "metadata": {},
   "outputs": [
    {
     "data": {
      "text/plain": [
       "((10,), array([0.2 , 0.28, 0.36, 0.44, 0.52, 0.6 , 0.68, 0.76, 0.84, 0.92]))"
      ]
     },
     "execution_count": 74,
     "metadata": {},
     "output_type": "execute_result"
    }
   ],
   "source": [
    "simBetas  = np.arange(0.2, 1, 0.08)\n",
    "simBetas.shape, simBetas"
   ]
  },
  {
   "cell_type": "code",
   "execution_count": 66,
   "metadata": {},
   "outputs": [
    {
     "data": {
      "text/plain": [
       "[<matplotlib.lines.Line2D at 0x1298feb80>]"
      ]
     },
     "execution_count": 66,
     "metadata": {},
     "output_type": "execute_result"
    },
    {
     "data": {
      "image/png": "[encoded data removed]",
      "text/plain": [
       "<Figure size 432x288 with 1 Axes>"
      ]
     },
     "metadata": {
      "needs_background": "light"
     },
     "output_type": "display_data"
    }
   ],
   "source": [
    "plt.plot(betas, rewsExec)\n",
    "plt.plot(betas, rewsBoth)"
   ]
  },
  {
   "cell_type": "markdown",
   "metadata": {},
   "source": [
    "# "
   ]
  },
  {
   "cell_type": "code",
   "execution_count": null,
   "metadata": {},
   "outputs": [],
   "source": [
    "def simCKWN_beta_lambda_sqrt(alpha, gamma, beta, scale=1, n = int(1e5)):\n",
    "    state = [0,0] # (attacker, honest)\n",
    "\n",
    "    honestBlcs = 0\n",
    "    attackBlcs = 0\n",
    "    honestRews = 0\n",
    "    attackRews = 0\n",
    "    curTime    = 0\n",
    "    lastState0 = 0\n",
    "    lastAttBlc = 0\n",
    "\n",
    "    for _ in range(n):\n",
    "        attBlock = np.random.binomial(1, alpha)\n",
    "        execRews = np.sqrt(np.random.exponential()) # HERE IS DIFF\n",
    "        curTime += execRews\n",
    "\n",
    "        if state == [0,0]:\n",
    "            if attBlock:\n",
    "                if execRews < beta:\n",
    "                    state = [1,0]\n",
    "                    lastAttBlc = curTime\n",
    "                else:\n",
    "                    attackBlcs += 1\n",
    "                    attackRews += execRews\n",
    "                    lastState0  = curTime\n",
    "                    lastAttBlc  = curTime\n",
    "            else:\n",
    "                honestBlcs += 1\n",
    "                honestRews += execRews\n",
    "                lastState0  = curTime\n",
    "                lastAttBlc  = curTime\n",
    "            continue\n",
    "\n",
    "        if state == [1,0]:\n",
    "            if attBlock:\n",
    "                state = [2,0]\n",
    "                lastAttBlc = curTime\n",
    "            else:\n",
    "                sample        = np.random.uniform()\n",
    "                nextExecRews  = np.random.exponential()\n",
    "                if sample < alpha:\n",
    "                    attackBlcs += 2\n",
    "                    attackRews += (curTime - lastState0) + nextExecRews\n",
    "                elif sample <= alpha + ((1-alpha)*gamma):\n",
    "                    attackBlcs += 1\n",
    "                    honestBlcs += 1\n",
    "                    attackRews += (lastAttBlc - lastState0)\n",
    "                    honestRews += (curTime - lastAttBlc) + nextExecRews\n",
    "                else:\n",
    "                    honestBlcs += 2\n",
    "                    honestRews += (curTime - lastState0) + nextExecRews\n",
    "                curTime    += nextExecRews\n",
    "                lastState0  = curTime\n",
    "                lastAttBlc  = curTime\n",
    "                state = [0,0]\n",
    "            continue\n",
    "\n",
    "        if attBlock:\n",
    "            state[0] += 1\n",
    "            lastAttBlc = curTime\n",
    "        else:\n",
    "            state[1] += 1\n",
    "\n",
    "        diff = state[0] - state[1]\n",
    "        if diff == 1:\n",
    "            attackBlcs += state[0]\n",
    "            attackRews += (lastAttBlc - lastState0)\n",
    "\n",
    "            # 0'' state\n",
    "            remRews = (curTime - lastAttBlc)\n",
    "            attBlock = np.random.binomial(1, alpha)\n",
    "            execRews = np.random.exponential()\n",
    "            curTime += execRews\n",
    "            if attBlock:\n",
    "                attackBlcs += 1\n",
    "                attackRews += (remRews + execRews)\n",
    "            else:\n",
    "                honestBlcs += 1\n",
    "                honestRews += (remRews + execRews)\n",
    "\n",
    "            lastState0  = curTime\n",
    "            lastAttBlc  = curTime\n",
    "            state = [0,0]\n",
    "\n",
    "    totalRews = honestRews + attackRews\n",
    "    totalBlcs = honestBlcs + attackBlcs\n",
    "    return ((scale*(attackRews/totalRews)) + (attackBlcs/totalBlcs)) / (scale+1)"
   ]
  },
  {
   "cell_type": "code",
   "execution_count": null,
   "metadata": {},
   "outputs": [],
   "source": []
  },
  {
   "cell_type": "code",
   "execution_count": null,
   "metadata": {},
   "outputs": [],
   "source": []
  },
  {
   "cell_type": "code",
   "execution_count": null,
   "metadata": {},
   "outputs": [],
   "source": []
  },
  {
   "cell_type": "code",
   "execution_count": null,
   "metadata": {},
   "outputs": [],
   "source": []
  },
  {
   "cell_type": "code",
   "execution_count": null,
   "metadata": {},
   "outputs": [],
   "source": []
  },
  {
   "cell_type": "code",
   "execution_count": null,
   "metadata": {},
   "outputs": [],
   "source": []
  },
  {
   "cell_type": "code",
   "execution_count": null,
   "metadata": {},
   "outputs": [],
   "source": []
  },
  {
   "cell_type": "code",
   "execution_count": null,
   "metadata": {},
   "outputs": [],
   "source": []
  },
  {
   "cell_type": "code",
   "execution_count": null,
   "metadata": {},
   "outputs": [],
   "source": []
  },
  {
   "cell_type": "code",
   "execution_count": null,
   "metadata": {},
   "outputs": [],
   "source": [
    "alphas     = np.arange(0.01, 0.5, 0.001)\n",
    "gammas     = [0, 0.5, 1]\n",
    "\n",
    "ES_theo    = []\n",
    "CKWN2_theo = []\n",
    "for g in gammas:\n",
    "    ES_theo.append([EyalSirer(a, g) for a in alphas])\n",
    "    CKWN2_theo.append([selfishCNum(a, g) for a in alphas])\n",
    "ES_theo    = np.array(ES_theo)\n",
    "CKWN2_theo = np.array(CKWN2_theo)\n",
    "ES_theo.shape, CKWN2_theo.shape"
   ]
  },
  {
   "cell_type": "code",
   "execution_count": null,
   "metadata": {},
   "outputs": [],
   "source": [
    "state = 0\n",
    "alpha = 0.3\n",
    "\n",
    "honestRews = 0\n",
    "attackRews = 0\n",
    "remainRews = 0\n",
    "honestBlcs = 0\n",
    "attackBlcs = 0\n",
    "\n",
    "for _ in tqdm(range(int(1e5))):\n",
    "    blockTime = np.random.exponential(1/100000)\n",
    "    attBlock  = np.random.binomial(1, alpha)\n",
    "\n",
    "    if state == 0 and attBlock:\n",
    "        state       = 1\n",
    "        remainRews += blockTime  # unclaimed exec rewards on private branch\n",
    "    elif state == 0 and not attBlock:\n",
    "        honestRews += blockTime\n",
    "        honestBlcs += 1\n",
    "\n",
    "    if state == 1 and attBlock:\n",
    "        state       = 2\n",
    "        attackRews += (remainRews + blockTime)  # attacker locks in both blocks worth of exec rewards\n",
    "        attackBlcs += 2\n",
    "        remainRews  = 0\n",
    "    elif state == 1 and not attBlock:\n",
    "        nextBlockTime = np.random.exponential()\n",
    "        nextAttBlock  = np.random.binomial(1, alpha)\n",
    "        # attacker wins all three time period's worth of exec rewards\n",
    "        if nextAttBlock:\n",
    "            attackRews += (remainRews + blockTime + nextBlockTime)\n",
    "            attackBlcs += 2\n",
    "        #   honest wins all three time period's worth of exec rewards\n",
    "        else:\n",
    "            honestRews += (remainRews + blockTime + nextBlockTime)\n",
    "            honestBlcs += 2\n",
    "        remainRews = 0\n",
    "\n",
    "    if state == 2 and attBlock:\n",
    "        state        = 3\n",
    "        attackRews  += (remainRews + blockTime)\n",
    "        remainRews   = 0\n",
    "        attackBlcs  += 1\n",
    "    elif state == 2 and not attBlock:\n",
    "        nextBlockTime = np.random.exponential()\n",
    "        nextAttBlock  = np.random.binomial(1, alpha)\n",
    "        # attacker wins all outstanding exec rewards\n",
    "        if nextAttBlock:\n",
    "            attackRews += (remainRews + blockTime + nextBlockTime)\n",
    "            attackBlcs  += 1\n",
    "        #   honest wins all outstanding exec rewards\n",
    "        else:\n",
    "            honestRews  += (remainRews + blockTime + nextBlockTime)\n",
    "            honestBlcs  += 1\n",
    "        remainRews = 0\n",
    "\n",
    "    if state > 2 and attBlock:\n",
    "        state        += 1\n",
    "        attackRews   += (remainRews + blockTime)\n",
    "        remainRews    = 0\n",
    "        attackBlcs   += 1\n",
    "    elif state > 2 and not attBlock:\n",
    "        state      -= 1\n",
    "        remainRews += blockTime\n",
    "\n",
    "totalRews = honestRews + attackRews\n",
    "totalBlcs = honestBlcs + attackBlcs\n",
    "(honestRews/totalRews, attackRews/totalRews), (honestBlcs/totalBlcs, attackBlcs/totalBlcs), honestBlcs, totalBlcs"
   ]
  }
 ],
 "metadata": {
  "kernelspec": {
   "display_name": "Python 3",
   "language": "python",
   "name": "python3"
  },
  "language_info": {
   "codemirror_mode": {
    "name": "ipython",
    "version": 3
   },
   "file_extension": ".py",
   "mimetype": "text/x-python",
   "name": "python",
   "nbconvert_exporter": "python",
   "pygments_lexer": "ipython3",
   "version": "3.8.16"
  }
 },
 "nbformat": 4,
 "nbformat_minor": 4
}
