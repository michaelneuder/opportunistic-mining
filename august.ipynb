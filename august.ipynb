{
 "cells": [
  {
   "cell_type": "code",
   "execution_count": 1,
   "metadata": {},
   "outputs": [],
   "source": [
    "import matplotlib.pyplot as plt\n",
    "import matplotlib as mpl\n",
    "import matplotlib.patches as mpatches\n",
    "import numpy as np\n",
    "import pandas as pd\n",
    "from scipy.stats import poisson, uniform, expon, pareto\n",
    "from scipy.optimize import minimize\n",
    "from tqdm import tqdm\n",
    "from mdptoolbox import mdp, util\n",
    "import itertools\n",
    "from scipy.sparse import csr_matrix, lil_matrix\n",
    "from matplotlib.patches import Patch\n",
    "import math\n",
    "import random\n",
    "import sympy as sp\n",
    "from sympy.printing.latex import print_latex"
   ]
  },
  {
   "cell_type": "markdown",
   "metadata": {},
   "source": [
    "# replicate figure 7 from carlesten \n",
    "\n",
    "setup: calculate the proportion of transaction fees earned by an adversary playing the pure selfish strategy given block times modelled as an exponential distribution."
   ]
  },
  {
   "cell_type": "code",
   "execution_count": 19,
   "metadata": {},
   "outputs": [
    {
     "data": {
      "text/plain": [
       "1.6075376662009329"
      ]
     },
     "execution_count": 19,
     "metadata": {},
     "output_type": "execute_result"
    }
   ],
   "source": [
    "np.random.exponential()"
   ]
  },
  {
   "cell_type": "code",
   "execution_count": 216,
   "metadata": {},
   "outputs": [
    {
     "name": "stderr",
     "output_type": "stream",
     "text": [
      "100%|██████████| 100000/100000 [00:00<00:00, 125992.68it/s]\n"
     ]
    },
    {
     "data": {
      "text/plain": [
       "((0.6974516120924992, 0.3025483879075008),\n",
       " (0.27788669309254305, 0.722113306907457),\n",
       " 19419,\n",
       " 69881)"
      ]
     },
     "execution_count": 216,
     "metadata": {},
     "output_type": "execute_result"
    }
   ],
   "source": [
    "state = 0\n",
    "alpha = 0.3\n",
    "\n",
    "honestRews = 0\n",
    "attackRews = 0\n",
    "remainRews = 0\n",
    "honestBlcs = 0\n",
    "attackBlcs = 0\n",
    "\n",
    "for _ in tqdm(range(int(1e5))):\n",
    "    blockTime = np.random.exponential(1/100000)\n",
    "    attBlock  = np.random.binomial(1, alpha)\n",
    "\n",
    "    if state == 0 and attBlock:\n",
    "        state       = 1\n",
    "        remainRews += blockTime  # unclaimed exec rewards on private branch\n",
    "    elif state == 0 and not attBlock:\n",
    "        honestRews += blockTime\n",
    "        honestBlcs += 1\n",
    "\n",
    "    if state == 1 and attBlock:\n",
    "        state       = 2\n",
    "        attackRews += (remainRews + blockTime)  # attacker locks in both blocks worth of exec rewards\n",
    "        attackBlcs += 2\n",
    "        remainRews  = 0\n",
    "    elif state == 1 and not attBlock:\n",
    "        nextBlockTime = np.random.exponential()\n",
    "        nextAttBlock  = np.random.binomial(1, alpha)\n",
    "        # attacker wins all three time period's worth of exec rewards\n",
    "        if nextAttBlock:\n",
    "            attackRews += (remainRews + blockTime + nextBlockTime)\n",
    "            attackBlcs += 2\n",
    "        #   honest wins all three time period's worth of exec rewards\n",
    "        else:\n",
    "            honestRews += (remainRews + blockTime + nextBlockTime)\n",
    "            honestBlcs += 2\n",
    "        remainRews = 0\n",
    "\n",
    "    if state == 2 and attBlock:\n",
    "        state        = 3\n",
    "        attackRews  += (remainRews + blockTime)\n",
    "        remainRews   = 0\n",
    "        attackBlcs  += 1\n",
    "    elif state == 2 and not attBlock:\n",
    "        nextBlockTime = np.random.exponential()\n",
    "        nextAttBlock  = np.random.binomial(1, alpha)\n",
    "        # attacker wins all outstanding exec rewards\n",
    "        if nextAttBlock:\n",
    "            attackRews += (remainRews + blockTime + nextBlockTime)\n",
    "            attackBlcs  += 1\n",
    "        #   honest wins all outstanding exec rewards\n",
    "        else:\n",
    "            honestRews  += (remainRews + blockTime + nextBlockTime)\n",
    "            honestBlcs  += 1\n",
    "        remainRews = 0\n",
    "\n",
    "    if state > 2 and attBlock:\n",
    "        state        += 1\n",
    "        attackRews   += (remainRews + blockTime)\n",
    "        remainRews    = 0\n",
    "        attackBlcs   += 1\n",
    "    elif state > 2 and not attBlock:\n",
    "        state      -= 1\n",
    "        remainRews += blockTime\n",
    "\n",
    "totalRews = honestRews + attackRews\n",
    "totalBlcs = honestBlcs + attackBlcs\n",
    "(honestRews/totalRews, attackRews/totalRews), (honestBlcs/totalBlcs, attackBlcs/totalBlcs), honestBlcs, totalBlcs"
   ]
  },
  {
   "cell_type": "code",
   "execution_count": 207,
   "metadata": {},
   "outputs": [
    {
     "data": {
      "text/plain": [
       "100000"
      ]
     },
     "execution_count": 207,
     "metadata": {},
     "output_type": "execute_result"
    }
   ],
   "source": [
    "int(1e5)"
   ]
  },
  {
   "cell_type": "code",
   "execution_count": null,
   "metadata": {},
   "outputs": [],
   "source": []
  }
 ],
 "metadata": {
  "kernelspec": {
   "display_name": "Python 3",
   "language": "python",
   "name": "python3"
  },
  "language_info": {
   "codemirror_mode": {
    "name": "ipython",
    "version": 3
   },
   "file_extension": ".py",
   "mimetype": "text/x-python",
   "name": "python",
   "nbconvert_exporter": "python",
   "pygments_lexer": "ipython3",
   "version": "3.8.16"
  }
 },
 "nbformat": 4,
 "nbformat_minor": 4
}
