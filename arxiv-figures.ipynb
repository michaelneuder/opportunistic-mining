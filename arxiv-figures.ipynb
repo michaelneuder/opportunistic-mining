{
 "cells": [
  {
   "cell_type": "code",
   "execution_count": 1,
   "metadata": {},
   "outputs": [],
   "source": [
    "import matplotlib.pyplot as plt\n",
    "import matplotlib.patches as mpatches\n",
    "import numpy as np\n",
    "from scipy.optimize import minimize\n",
    "import pandas as pd\n",
    "from scipy.stats import poisson, uniform, expon, pareto\n",
    "from tqdm import tqdm\n",
    "from mdptoolbox import mdp, util\n",
    "import itertools\n",
    "from scipy.sparse import csr_matrix, lil_matrix\n",
    "from matplotlib.patches import Patch\n",
    "import math\n",
    "import random\n",
    "import sympy as sp\n",
    "from sympy.printing.latex import print_latex"
   ]
  },
  {
   "cell_type": "markdown",
   "metadata": {},
   "source": [
    "# stationary dist"
   ]
  },
  {
   "cell_type": "code",
   "execution_count": 79,
   "metadata": {},
   "outputs": [],
   "source": [
    "p0, p0p, p1, p0pp = sp.symbols('p_0 p_{00} p_1 p_{000}')\n",
    "a, b, x, g, p, C, E, ell  = sp.symbols('a b x g p C E lambda')"
   ]
  },
  {
   "cell_type": "code",
   "execution_count": 80,
   "metadata": {},
   "outputs": [],
   "source": [
    "# p_i is the stationary distribution for State i\n",
    "p0    = p1 / (a*(1-p)*(1-sp.exp(-(b-C)/(1-ell))) + a*p*(1-sp.Min(sp.exp(-(b-C-E)/(1-ell)),1)))\n",
    "p0p   = p1 * (1-a)\n",
    "p0pp  = p1 * a\n",
    "p2    = p1*(a/(1-a))\n",
    "prest = p1*a/(1-2*a)"
   ]
  },
  {
   "cell_type": "code",
   "execution_count": 81,
   "metadata": {},
   "outputs": [],
   "source": [
    "eq = sp.Eq(p0+p0p+p0pp+prest+p1, 1)\n",
    "p1_sym = sp.solve(eq, p1)[0]"
   ]
  },
  {
   "cell_type": "code",
   "execution_count": 82,
   "metadata": {},
   "outputs": [
    {
     "data": {
      "text/latex": [
       "$\\displaystyle \\frac{a \\left(2 a p e^{\\frac{- C + b}{\\lambda - 1}} - 2 a p \\min\\left(1, e^{\\frac{- C - E + b}{\\lambda - 1}}\\right) - 2 a e^{\\frac{- C + b}{\\lambda - 1}} + 2 a - p e^{\\frac{- C + b}{\\lambda - 1}} + p \\min\\left(1, e^{\\frac{- C - E + b}{\\lambda - 1}}\\right) + e^{\\frac{- C + b}{\\lambda - 1}} - 1\\right)}{3 a^{2} p e^{\\frac{- C + b}{\\lambda - 1}} - 3 a^{2} p \\min\\left(1, e^{\\frac{- C - E + b}{\\lambda - 1}}\\right) - 3 a^{2} e^{\\frac{- C + b}{\\lambda - 1}} + 3 a^{2} - 2 a p e^{\\frac{- C + b}{\\lambda - 1}} + 2 a p \\min\\left(1, e^{\\frac{- C - E + b}{\\lambda - 1}}\\right) + 2 a e^{\\frac{- C + b}{\\lambda - 1}} - 1}$"
      ],
      "text/plain": [
       "a*(2*a*p*exp((-C + b)/(lambda - 1)) - 2*a*p*Min(1, exp((-C - E + b)/(lambda - 1))) - 2*a*exp((-C + b)/(lambda - 1)) + 2*a - p*exp((-C + b)/(lambda - 1)) + p*Min(1, exp((-C - E + b)/(lambda - 1))) + exp((-C + b)/(lambda - 1)) - 1)/(3*a**2*p*exp((-C + b)/(lambda - 1)) - 3*a**2*p*Min(1, exp((-C - E + b)/(lambda - 1))) - 3*a**2*exp((-C + b)/(lambda - 1)) + 3*a**2 - 2*a*p*exp((-C + b)/(lambda - 1)) + 2*a*p*Min(1, exp((-C - E + b)/(lambda - 1))) + 2*a*exp((-C + b)/(lambda - 1)) - 1)"
      ]
     },
     "execution_count": 82,
     "metadata": {},
     "output_type": "execute_result"
    }
   ],
   "source": [
    "p1_sym"
   ]
  },
  {
   "cell_type": "code",
   "execution_count": 83,
   "metadata": {},
   "outputs": [
    {
     "data": {
      "text/plain": [
       "(0.146274873287421, 0.146274873287421)"
      ]
     },
     "execution_count": 83,
     "metadata": {},
     "output_type": "execute_result"
    }
   ],
   "source": [
    "p1_me = (1/(a*(1-p)*(1-sp.exp(-(b-C)/(1-ell))) + a*p*(1-sp.Min(sp.exp(-(b-C-E)/(1-ell)),1))) + 1+ (1-a)/(1-2*a))**(-1)\n",
    "p1_sym.evalf(subs={a:0.3, b:3, ell:0.2, C:1, E:1, p:0.5}), p1_me.evalf(subs={a:0.3, b:3, ell:0.2, C:1, E:1, p:0.5})"
   ]
  },
  {
   "cell_type": "code",
   "execution_count": 84,
   "metadata": {},
   "outputs": [
    {
     "data": {
      "text/latex": [
       "$\\displaystyle \\frac{1}{1 + \\frac{1}{a p \\left(1 - \\min\\left(1, e^{\\frac{C + E - b}{1 - \\lambda}}\\right)\\right) + a \\left(1 - p\\right) \\left(1 - e^{\\frac{C - b}{1 - \\lambda}}\\right)} + \\frac{1 - a}{1 - 2 a}}$"
      ],
      "text/plain": [
       "1/(1 + 1/(a*p*(1 - Min(1, exp((C + E - b)/(1 - lambda)))) + a*(1 - p)*(1 - exp((C - b)/(1 - lambda)))) + (1 - a)/(1 - 2*a))"
      ]
     },
     "execution_count": 84,
     "metadata": {},
     "output_type": "execute_result"
    }
   ],
   "source": [
    "p1_me"
   ]
  },
  {
   "cell_type": "markdown",
   "metadata": {},
   "source": [
    "## FIXED"
   ]
  },
  {
   "cell_type": "code",
   "execution_count": 102,
   "metadata": {},
   "outputs": [
    {
     "data": {
      "text/latex": [
       "$\\displaystyle C a \\left(1 - a\\right) \\left(a + g \\left(1 - a\\right)\\right) \\left(p \\left(1 - \\min\\left(1, e^{\\frac{C + E - b}{1 - \\lambda}}\\right)\\right) + \\left(1 - p\\right) \\left(1 - e^{\\frac{C - b}{1 - \\lambda}}\\right)\\right)$"
      ],
      "text/plain": [
       "C*a*(1 - a)*(a + g*(1 - a))*(p*(1 - Min(1, exp((C + E - b)/(1 - lambda)))) + (1 - p)*(1 - exp((C - b)/(1 - lambda))))"
      ]
     },
     "execution_count": 102,
     "metadata": {},
     "output_type": "execute_result"
    }
   ],
   "source": [
    "# 3 cases for f0\n",
    "f0i_fixed   = a*C * (p*sp.Min(1,sp.exp(-(b-C-E)/(1-ell))) + (1-p)*sp.exp(-(b-C)/(1-ell)))\n",
    "f0ii_fixed  = (a**2)*C * (p*(1-sp.Min(1,sp.exp(-(b-C-E)/(1-ell)))) + (1-p)*(1-sp.exp(-(b-C)/(1-ell))))\n",
    "f0iii_fixed = a*(1-a)*(a+g*(1-a))*C * (p*(1-sp.Min(1,sp.exp(-(b-C-E)/(1-ell)))) + (1-p)*(1-sp.exp(-(b-C)/(1-ell))))\n",
    "f0iii_fixed"
   ]
  },
  {
   "cell_type": "code",
   "execution_count": 103,
   "metadata": {},
   "outputs": [],
   "source": [
    "# explicit for f0 and f1\n",
    "f0_fixed   = f0i_fixed + f0ii_fixed + f0iii_fixed\n",
    "f1_fixed   = C*(a+(1-a)*a)"
   ]
  },
  {
   "cell_type": "code",
   "execution_count": 104,
   "metadata": {},
   "outputs": [],
   "source": [
    "attack_full_fixed  = (p0*f0_fixed + p1*f1_fixed + C*p1*a*(2*a*(1-a)/(1-2*a)))"
   ]
  },
  {
   "cell_type": "markdown",
   "metadata": {},
   "source": [
    "## Bernoulli"
   ]
  },
  {
   "cell_type": "code",
   "execution_count": 105,
   "metadata": {},
   "outputs": [
    {
     "data": {
      "text/latex": [
       "$\\displaystyle E a p \\left(1 - a\\right) \\left(1 - \\min\\left(1, e^{\\frac{C + E - b}{1 - \\lambda}}\\right)\\right) \\left(a + g \\left(1 - a\\right)\\right)$"
      ],
      "text/plain": [
       "E*a*p*(1 - a)*(1 - Min(1, exp((C + E - b)/(1 - lambda))))*(a + g*(1 - a))"
      ]
     },
     "execution_count": 105,
     "metadata": {},
     "output_type": "execute_result"
    }
   ],
   "source": [
    "f0i_bern   = a*E * (p*sp.Min(1,sp.exp(-(b-C-E)/(1-ell))))\n",
    "f0ii_bern  = (a**2)*E * (p*(1-sp.Min(1,sp.exp(-(b-C-E)/(1-ell)))))\n",
    "f0iii_bern = a*(1-a)*(a+g*(1-a))*E * (p*(1-sp.Min(1,sp.exp(-(b-C-E)/(1-ell)))))\n",
    "f0iii_bern"
   ]
  },
  {
   "cell_type": "code",
   "execution_count": 106,
   "metadata": {},
   "outputs": [],
   "source": [
    "f0_bern   = f0i_bern + f0ii_bern + f0iii_bern\n",
    "f1_bern   = p*E*(a+(1-a)*a)"
   ]
  },
  {
   "cell_type": "code",
   "execution_count": 107,
   "metadata": {},
   "outputs": [],
   "source": [
    "attack_full_bern  = (p0*f0_bern + p1*f1_bern + p*E*p1*a*(2*a*(1-a)/(1-2*a)))"
   ]
  },
  {
   "cell_type": "markdown",
   "metadata": {},
   "source": [
    "## Linear"
   ]
  },
  {
   "cell_type": "code",
   "execution_count": 108,
   "metadata": {},
   "outputs": [
    {
     "data": {
      "text/latex": [
       "$\\displaystyle a \\left(1 - a\\right) \\left(a + g \\left(1 - a\\right)\\right) \\left(p \\left(- \\lambda - \\left(- \\lambda + \\max\\left(0, - C - E + b\\right) + 1\\right) \\min\\left(1, e^{\\frac{C + E - b}{1 - \\lambda}}\\right) + 1\\right) + \\left(1 - p\\right) \\left(- \\lambda - \\left(- C + b - \\lambda + 1\\right) e^{\\frac{C - b}{1 - \\lambda}} + 1\\right)\\right)$"
      ],
      "text/plain": [
       "a*(1 - a)*(a + g*(1 - a))*(p*(-lambda - (-lambda + Max(0, -C - E + b) + 1)*Min(1, exp((C + E - b)/(1 - lambda))) + 1) + (1 - p)*(-lambda - (-C + b - lambda + 1)*exp((C - b)/(1 - lambda)) + 1))"
      ]
     },
     "execution_count": 108,
     "metadata": {},
     "output_type": "execute_result"
    }
   ],
   "source": [
    "f0i_lin   = a*p*(sp.Max(0,b-C-E)+(1-ell))*sp.Min(1,sp.exp(-(b-C-E)/(1-ell))) \\\n",
    "            + a*(1-p)*(1-ell+(b-C))*sp.exp(-(b-C)/(1-ell))\n",
    "f0ii_lin  = a**2 * (p*(1-ell-(sp.Max(0,b-C-E)+1-ell)*sp.Min(1,sp.exp(-(b-C-E)/(1-ell)))) \\\n",
    "            + (1-p)*(1-ell-(1-ell+(b-C))*sp.exp(-(b-C)/(1-ell))))\n",
    "f0iii_lin = a*((1-a)*(a+g*(1-a))) \\\n",
    "            * (p*(1-ell-(sp.Max(0,b-C-E)+1-ell)*sp.Min(1,sp.exp(-(b-C-E)/(1-ell)))) \\\n",
    "            + (1-p)*(1-ell-(1-ell+(b-C))*sp.exp(-(b-C)/(1-ell))))\n",
    "f0iii_lin"
   ]
  },
  {
   "cell_type": "code",
   "execution_count": 109,
   "metadata": {},
   "outputs": [
    {
     "data": {
      "text/latex": [
       "$\\displaystyle a \\left(1 - a\\right) \\left(a + g \\left(1 - a\\right)\\right) \\left(- \\lambda - \\left(b - \\lambda + 1\\right) e^{- \\frac{b}{1 - \\lambda}} + 1\\right)$"
      ],
      "text/plain": [
       "a*(1 - a)*(a + g*(1 - a))*(-lambda - (b - lambda + 1)*exp(-b/(1 - lambda)) + 1)"
      ]
     },
     "execution_count": 109,
     "metadata": {},
     "output_type": "execute_result"
    }
   ],
   "source": [
    "f0iii_lin.subs({p:0, C:0})"
   ]
  },
  {
   "cell_type": "code",
   "execution_count": 110,
   "metadata": {},
   "outputs": [],
   "source": [
    "f0_lin = f0i_lin + f0ii_lin + f0iii_lin\n",
    "f1_lin = (1-ell)*(a + 2*a*(1-a))"
   ]
  },
  {
   "cell_type": "code",
   "execution_count": 111,
   "metadata": {},
   "outputs": [],
   "source": [
    "attack_full_lin = p0*f0_lin + p1*f1_lin + (1-ell)*p1*a*a*(3-2*a)/(1-2*a)"
   ]
  },
  {
   "cell_type": "markdown",
   "metadata": {},
   "source": [
    "# Threshold alphas"
   ]
  },
  {
   "cell_type": "code",
   "execution_count": 643,
   "metadata": {},
   "outputs": [],
   "source": [
    "gammas = np.arange(0.001, 1.1, 0.1)\n",
    "alphas = np.arange(0.01, 0.50, 0.01)\n",
    "betas = np.arange(1.01, 5.01, 0.5)"
   ]
  },
  {
   "cell_type": "code",
   "execution_count": 157,
   "metadata": {},
   "outputs": [],
   "source": [
    "p_ = 0.5\n",
    "C_ = 1.\n",
    "E_ = 2."
   ]
  },
  {
   "cell_type": "code",
   "execution_count": 158,
   "metadata": {},
   "outputs": [],
   "source": [
    "subs = {C:C_, E:E_, p:p_}"
   ]
  },
  {
   "cell_type": "code",
   "execution_count": 159,
   "metadata": {},
   "outputs": [],
   "source": [
    "attack_fixed =  attack_full_fixed.subs({p1:p1_sym}).subs(subs)\n",
    "attack_lin   =  attack_full_lin.subs({p1:p1_sym}).subs(subs)"
   ]
  },
  {
   "cell_type": "code",
   "execution_count": 160,
   "metadata": {},
   "outputs": [],
   "source": [
    "full_rews = (attack_full_fixed + attack_full_bern + attack_full_lin).subs({p1:p1_sym}).subs(subs)"
   ]
  },
  {
   "cell_type": "markdown",
   "metadata": {},
   "source": [
    "attack_fixed =  attack_full_fixed.subs({p1:p1_sym}).subs(subs)\n",
    "attack_lin   =  attack_full_lin.subs({p1:p1_sym}).subs(subs)\n",
    "attack_two   = ((1/(1-ell))*attack_full_fixed + attack_full_lin).subs({p1:p1_sym}).subs(subs)"
   ]
  },
  {
   "cell_type": "code",
   "execution_count": 161,
   "metadata": {},
   "outputs": [],
   "source": [
    "o_0p    = 1\n",
    "o_rest = p1*a*(1-a)/(1-2*a)\n",
    "orphan_full = p0p * o_0p + o_rest\n",
    "\n",
    "eq1 = sp.Eq(orphan_full.subs({p1:p1_sym}).subs(subs), ell)"
   ]
  },
  {
   "cell_type": "code",
   "execution_count": 205,
   "metadata": {},
   "outputs": [
    {
     "data": {
      "text/latex": [
       "$\\displaystyle 0.255194445269568$"
      ],
      "text/plain": [
       "0.255194445269568"
      ]
     },
     "execution_count": 205,
     "metadata": {},
     "output_type": "execute_result"
    }
   ],
   "source": [
    "attack_fixed.subs({a:0.33, b:100.2, g:.0, ell:0.})"
   ]
  },
  {
   "cell_type": "code",
   "execution_count": 200,
   "metadata": {},
   "outputs": [
    {
     "data": {
      "text/plain": [
       "(0.830275572055870, 0.899999999999999)"
      ]
     },
     "execution_count": 200,
     "metadata": {},
     "output_type": "execute_result"
    }
   ],
   "source": [
    "full_rews.subs({a:0.33, b:100.2, g:.0, ell:0.11}), full_rews.subs({a:0.3, b:1.0000000000001, g:0.0, ell:0.0})"
   ]
  },
  {
   "cell_type": "code",
   "execution_count": 164,
   "metadata": {},
   "outputs": [
    {
     "name": "stderr",
     "output_type": "stream",
     "text": [
      "0it [00:15, ?it/s]\n"
     ]
    },
    {
     "ename": "KeyboardInterrupt",
     "evalue": "",
     "output_type": "error",
     "traceback": [
      "\u001b[0;31m---------------------------------------------------------------------------\u001b[0m",
      "\u001b[0;31mKeyError\u001b[0m                                  Traceback (most recent call last)",
      "\u001b[0;32m/usr/local/lib/python3.8/site-packages/sympy/core/assumptions.py\u001b[0m in \u001b[0;36mgetit\u001b[0;34m(self)\u001b[0m\n\u001b[1;32m    498\u001b[0m         \u001b[0;32mtry\u001b[0m\u001b[0;34m:\u001b[0m\u001b[0;34m\u001b[0m\u001b[0;34m\u001b[0m\u001b[0m\n\u001b[0;32m--> 499\u001b[0;31m             \u001b[0;32mreturn\u001b[0m \u001b[0mself\u001b[0m\u001b[0;34m.\u001b[0m\u001b[0m_assumptions\u001b[0m\u001b[0;34m[\u001b[0m\u001b[0mfact\u001b[0m\u001b[0;34m]\u001b[0m\u001b[0;34m\u001b[0m\u001b[0;34m\u001b[0m\u001b[0m\n\u001b[0m\u001b[1;32m    500\u001b[0m         \u001b[0;32mexcept\u001b[0m \u001b[0mKeyError\u001b[0m\u001b[0;34m:\u001b[0m\u001b[0;34m\u001b[0m\u001b[0;34m\u001b[0m\u001b[0m\n",
      "\u001b[0;31mKeyError\u001b[0m: 'finite'",
      "\nDuring handling of the above exception, another exception occurred:\n",
      "\u001b[0;31mKeyError\u001b[0m                                  Traceback (most recent call last)",
      "\u001b[0;32m/usr/local/lib/python3.8/site-packages/sympy/core/assumptions.py\u001b[0m in \u001b[0;36mgetit\u001b[0;34m(self)\u001b[0m\n\u001b[1;32m    498\u001b[0m         \u001b[0;32mtry\u001b[0m\u001b[0;34m:\u001b[0m\u001b[0;34m\u001b[0m\u001b[0;34m\u001b[0m\u001b[0m\n\u001b[0;32m--> 499\u001b[0;31m             \u001b[0;32mreturn\u001b[0m \u001b[0mself\u001b[0m\u001b[0;34m.\u001b[0m\u001b[0m_assumptions\u001b[0m\u001b[0;34m[\u001b[0m\u001b[0mfact\u001b[0m\u001b[0;34m]\u001b[0m\u001b[0;34m\u001b[0m\u001b[0;34m\u001b[0m\u001b[0m\n\u001b[0m\u001b[1;32m    500\u001b[0m         \u001b[0;32mexcept\u001b[0m \u001b[0mKeyError\u001b[0m\u001b[0;34m:\u001b[0m\u001b[0;34m\u001b[0m\u001b[0;34m\u001b[0m\u001b[0m\n",
      "\u001b[0;31mKeyError\u001b[0m: 'extended_real'",
      "\nDuring handling of the above exception, another exception occurred:\n",
      "\u001b[0;31mKeyboardInterrupt\u001b[0m                         Traceback (most recent call last)",
      "\u001b[0;32m<ipython-input-164-3de3e44a05a2>\u001b[0m in \u001b[0;36m<module>\u001b[0;34m\u001b[0m\n\u001b[1;32m      6\u001b[0m         \u001b[0mtemp\u001b[0m \u001b[0;34m=\u001b[0m \u001b[0;34m[\u001b[0m\u001b[0;34m]\u001b[0m\u001b[0;34m\u001b[0m\u001b[0;34m\u001b[0m\u001b[0m\n\u001b[1;32m      7\u001b[0m         \u001b[0;32mfor\u001b[0m \u001b[0mb_\u001b[0m \u001b[0;32min\u001b[0m \u001b[0mbetas\u001b[0m\u001b[0;34m:\u001b[0m\u001b[0;34m\u001b[0m\u001b[0;34m\u001b[0m\u001b[0m\n\u001b[0;32m----> 8\u001b[0;31m             \u001b[0mell_\u001b[0m \u001b[0;34m=\u001b[0m \u001b[0msp\u001b[0m\u001b[0;34m.\u001b[0m\u001b[0mnsolve\u001b[0m\u001b[0;34m(\u001b[0m\u001b[0meq1\u001b[0m\u001b[0;34m.\u001b[0m\u001b[0msubs\u001b[0m\u001b[0;34m(\u001b[0m\u001b[0;34m{\u001b[0m\u001b[0ma\u001b[0m\u001b[0;34m:\u001b[0m\u001b[0ma_\u001b[0m\u001b[0;34m,\u001b[0m \u001b[0mb\u001b[0m\u001b[0;34m:\u001b[0m\u001b[0mb_\u001b[0m\u001b[0;34m,\u001b[0m \u001b[0mg\u001b[0m\u001b[0;34m:\u001b[0m\u001b[0mg_\u001b[0m\u001b[0;34m}\u001b[0m\u001b[0;34m)\u001b[0m\u001b[0;34m,\u001b[0m \u001b[0mell\u001b[0m\u001b[0;34m,\u001b[0m \u001b[0;36m0.1\u001b[0m\u001b[0;34m)\u001b[0m\u001b[0;34m\u001b[0m\u001b[0;34m\u001b[0m\u001b[0m\n\u001b[0m\u001b[1;32m      9\u001b[0m             \u001b[0mtemp\u001b[0m\u001b[0;34m.\u001b[0m\u001b[0mappend\u001b[0m\u001b[0;34m(\u001b[0m\u001b[0mattack_fixed\u001b[0m\u001b[0;34m.\u001b[0m\u001b[0msubs\u001b[0m\u001b[0;34m(\u001b[0m\u001b[0;34m{\u001b[0m\u001b[0ma\u001b[0m\u001b[0;34m:\u001b[0m\u001b[0ma_\u001b[0m\u001b[0;34m,\u001b[0m \u001b[0mb\u001b[0m\u001b[0;34m:\u001b[0m\u001b[0mb_\u001b[0m\u001b[0;34m,\u001b[0m \u001b[0mg\u001b[0m\u001b[0;34m:\u001b[0m\u001b[0mg_\u001b[0m\u001b[0;34m,\u001b[0m \u001b[0mell\u001b[0m\u001b[0;34m:\u001b[0m\u001b[0mell_\u001b[0m\u001b[0;34m}\u001b[0m\u001b[0;34m)\u001b[0m\u001b[0;34m)\u001b[0m\u001b[0;34m\u001b[0m\u001b[0;34m\u001b[0m\u001b[0m\n\u001b[1;32m     10\u001b[0m         \u001b[0mbestBeta\u001b[0m \u001b[0;34m=\u001b[0m \u001b[0mbetas\u001b[0m\u001b[0;34m[\u001b[0m\u001b[0mnp\u001b[0m\u001b[0;34m.\u001b[0m\u001b[0margmax\u001b[0m\u001b[0;34m(\u001b[0m\u001b[0mtemp\u001b[0m\u001b[0;34m)\u001b[0m\u001b[0;34m]\u001b[0m\u001b[0;34m\u001b[0m\u001b[0;34m\u001b[0m\u001b[0m\n",
      "\u001b[0;32m/usr/local/lib/python3.8/site-packages/sympy/core/basic.py\u001b[0m in \u001b[0;36msubs\u001b[0;34m(self, *args, **kwargs)\u001b[0m\n\u001b[1;32m   1038\u001b[0m             \u001b[0mrv\u001b[0m \u001b[0;34m=\u001b[0m \u001b[0mself\u001b[0m\u001b[0;34m\u001b[0m\u001b[0;34m\u001b[0m\u001b[0m\n\u001b[1;32m   1039\u001b[0m             \u001b[0;32mfor\u001b[0m \u001b[0mold\u001b[0m\u001b[0;34m,\u001b[0m \u001b[0mnew\u001b[0m \u001b[0;32min\u001b[0m \u001b[0msequence\u001b[0m\u001b[0;34m:\u001b[0m\u001b[0;34m\u001b[0m\u001b[0;34m\u001b[0m\u001b[0m\n\u001b[0;32m-> 1040\u001b[0;31m                 \u001b[0mrv\u001b[0m \u001b[0;34m=\u001b[0m \u001b[0mrv\u001b[0m\u001b[0;34m.\u001b[0m\u001b[0m_subs\u001b[0m\u001b[0;34m(\u001b[0m\u001b[0mold\u001b[0m\u001b[0;34m,\u001b[0m \u001b[0mnew\u001b[0m\u001b[0;34m,\u001b[0m \u001b[0;34m**\u001b[0m\u001b[0mkwargs\u001b[0m\u001b[0;34m)\u001b[0m\u001b[0;34m\u001b[0m\u001b[0;34m\u001b[0m\u001b[0m\n\u001b[0m\u001b[1;32m   1041\u001b[0m                 \u001b[0;32mif\u001b[0m \u001b[0;32mnot\u001b[0m \u001b[0misinstance\u001b[0m\u001b[0;34m(\u001b[0m\u001b[0mrv\u001b[0m\u001b[0;34m,\u001b[0m \u001b[0mBasic\u001b[0m\u001b[0;34m)\u001b[0m\u001b[0;34m:\u001b[0m\u001b[0;34m\u001b[0m\u001b[0;34m\u001b[0m\u001b[0m\n\u001b[1;32m   1042\u001b[0m                     \u001b[0;32mbreak\u001b[0m\u001b[0;34m\u001b[0m\u001b[0;34m\u001b[0m\u001b[0m\n",
      "\u001b[0;32m/usr/local/lib/python3.8/site-packages/sympy/core/cache.py\u001b[0m in \u001b[0;36mwrapper\u001b[0;34m(*args, **kwargs)\u001b[0m\n\u001b[1;32m     70\u001b[0m         \u001b[0;32mdef\u001b[0m \u001b[0mwrapper\u001b[0m\u001b[0;34m(\u001b[0m\u001b[0;34m*\u001b[0m\u001b[0margs\u001b[0m\u001b[0;34m,\u001b[0m \u001b[0;34m**\u001b[0m\u001b[0mkwargs\u001b[0m\u001b[0;34m)\u001b[0m\u001b[0;34m:\u001b[0m\u001b[0;34m\u001b[0m\u001b[0;34m\u001b[0m\u001b[0m\n\u001b[1;32m     71\u001b[0m             \u001b[0;32mtry\u001b[0m\u001b[0;34m:\u001b[0m\u001b[0;34m\u001b[0m\u001b[0;34m\u001b[0m\u001b[0m\n\u001b[0;32m---> 72\u001b[0;31m                 \u001b[0mretval\u001b[0m \u001b[0;34m=\u001b[0m \u001b[0mcfunc\u001b[0m\u001b[0;34m(\u001b[0m\u001b[0;34m*\u001b[0m\u001b[0margs\u001b[0m\u001b[0;34m,\u001b[0m \u001b[0;34m**\u001b[0m\u001b[0mkwargs\u001b[0m\u001b[0;34m)\u001b[0m\u001b[0;34m\u001b[0m\u001b[0;34m\u001b[0m\u001b[0m\n\u001b[0m\u001b[1;32m     73\u001b[0m             \u001b[0;32mexcept\u001b[0m \u001b[0mTypeError\u001b[0m \u001b[0;32mas\u001b[0m \u001b[0me\u001b[0m\u001b[0;34m:\u001b[0m\u001b[0;34m\u001b[0m\u001b[0;34m\u001b[0m\u001b[0m\n\u001b[1;32m     74\u001b[0m                 \u001b[0;32mif\u001b[0m \u001b[0;32mnot\u001b[0m \u001b[0me\u001b[0m\u001b[0;34m.\u001b[0m\u001b[0margs\u001b[0m \u001b[0;32mor\u001b[0m \u001b[0;32mnot\u001b[0m \u001b[0me\u001b[0m\u001b[0;34m.\u001b[0m\u001b[0margs\u001b[0m\u001b[0;34m[\u001b[0m\u001b[0;36m0\u001b[0m\u001b[0;34m]\u001b[0m\u001b[0;34m.\u001b[0m\u001b[0mstartswith\u001b[0m\u001b[0;34m(\u001b[0m\u001b[0;34m'unhashable type:'\u001b[0m\u001b[0;34m)\u001b[0m\u001b[0;34m:\u001b[0m\u001b[0;34m\u001b[0m\u001b[0;34m\u001b[0m\u001b[0m\n",
      "\u001b[0;32m/usr/local/lib/python3.8/site-packages/sympy/core/basic.py\u001b[0m in \u001b[0;36m_subs\u001b[0;34m(self, old, new, **hints)\u001b[0m\n\u001b[1;32m   1152\u001b[0m         \u001b[0mrv\u001b[0m \u001b[0;34m=\u001b[0m \u001b[0mself\u001b[0m\u001b[0;34m.\u001b[0m\u001b[0m_eval_subs\u001b[0m\u001b[0;34m(\u001b[0m\u001b[0mold\u001b[0m\u001b[0;34m,\u001b[0m \u001b[0mnew\u001b[0m\u001b[0;34m)\u001b[0m\u001b[0;34m\u001b[0m\u001b[0;34m\u001b[0m\u001b[0m\n\u001b[1;32m   1153\u001b[0m         \u001b[0;32mif\u001b[0m \u001b[0mrv\u001b[0m \u001b[0;32mis\u001b[0m \u001b[0;32mNone\u001b[0m\u001b[0;34m:\u001b[0m\u001b[0;34m\u001b[0m\u001b[0;34m\u001b[0m\u001b[0m\n\u001b[0;32m-> 1154\u001b[0;31m             \u001b[0mrv\u001b[0m \u001b[0;34m=\u001b[0m \u001b[0mfallback\u001b[0m\u001b[0;34m(\u001b[0m\u001b[0mself\u001b[0m\u001b[0;34m,\u001b[0m \u001b[0mold\u001b[0m\u001b[0;34m,\u001b[0m \u001b[0mnew\u001b[0m\u001b[0;34m)\u001b[0m\u001b[0;34m\u001b[0m\u001b[0;34m\u001b[0m\u001b[0m\n\u001b[0m\u001b[1;32m   1155\u001b[0m         \u001b[0;32mreturn\u001b[0m \u001b[0mrv\u001b[0m\u001b[0;34m\u001b[0m\u001b[0;34m\u001b[0m\u001b[0m\n\u001b[1;32m   1156\u001b[0m \u001b[0;34m\u001b[0m\u001b[0m\n",
      "\u001b[0;32m/usr/local/lib/python3.8/site-packages/sympy/core/basic.py\u001b[0m in \u001b[0;36mfallback\u001b[0;34m(self, old, new)\u001b[0m\n\u001b[1;32m   1129\u001b[0m                     \u001b[0margs\u001b[0m\u001b[0;34m[\u001b[0m\u001b[0mi\u001b[0m\u001b[0;34m]\u001b[0m \u001b[0;34m=\u001b[0m \u001b[0marg\u001b[0m\u001b[0;34m\u001b[0m\u001b[0;34m\u001b[0m\u001b[0m\n\u001b[1;32m   1130\u001b[0m             \u001b[0;32mif\u001b[0m \u001b[0mhit\u001b[0m\u001b[0;34m:\u001b[0m\u001b[0;34m\u001b[0m\u001b[0;34m\u001b[0m\u001b[0m\n\u001b[0;32m-> 1131\u001b[0;31m                 \u001b[0mrv\u001b[0m \u001b[0;34m=\u001b[0m \u001b[0mself\u001b[0m\u001b[0;34m.\u001b[0m\u001b[0mfunc\u001b[0m\u001b[0;34m(\u001b[0m\u001b[0;34m*\u001b[0m\u001b[0margs\u001b[0m\u001b[0;34m)\u001b[0m\u001b[0;34m\u001b[0m\u001b[0;34m\u001b[0m\u001b[0m\n\u001b[0m\u001b[1;32m   1132\u001b[0m                 \u001b[0mhack2\u001b[0m \u001b[0;34m=\u001b[0m \u001b[0mhints\u001b[0m\u001b[0;34m.\u001b[0m\u001b[0mget\u001b[0m\u001b[0;34m(\u001b[0m\u001b[0;34m'hack2'\u001b[0m\u001b[0;34m,\u001b[0m \u001b[0;32mFalse\u001b[0m\u001b[0;34m)\u001b[0m\u001b[0;34m\u001b[0m\u001b[0;34m\u001b[0m\u001b[0m\n\u001b[1;32m   1133\u001b[0m                 \u001b[0;32mif\u001b[0m \u001b[0mhack2\u001b[0m \u001b[0;32mand\u001b[0m \u001b[0mself\u001b[0m\u001b[0;34m.\u001b[0m\u001b[0mis_Mul\u001b[0m \u001b[0;32mand\u001b[0m \u001b[0;32mnot\u001b[0m \u001b[0mrv\u001b[0m\u001b[0;34m.\u001b[0m\u001b[0mis_Mul\u001b[0m\u001b[0;34m:\u001b[0m  \u001b[0;31m# 2-arg hack\u001b[0m\u001b[0;34m\u001b[0m\u001b[0;34m\u001b[0m\u001b[0m\n",
      "\u001b[0;32m/usr/local/lib/python3.8/site-packages/sympy/core/relational.py\u001b[0m in \u001b[0;36m__new__\u001b[0;34m(cls, lhs, rhs, **options)\u001b[0m\n\u001b[1;32m    615\u001b[0m         \u001b[0mrhs\u001b[0m \u001b[0;34m=\u001b[0m \u001b[0m_sympify\u001b[0m\u001b[0;34m(\u001b[0m\u001b[0mrhs\u001b[0m\u001b[0;34m)\u001b[0m\u001b[0;34m\u001b[0m\u001b[0;34m\u001b[0m\u001b[0m\n\u001b[1;32m    616\u001b[0m         \u001b[0;32mif\u001b[0m \u001b[0mevaluate\u001b[0m\u001b[0;34m:\u001b[0m\u001b[0;34m\u001b[0m\u001b[0;34m\u001b[0m\u001b[0m\n\u001b[0;32m--> 617\u001b[0;31m             \u001b[0mval\u001b[0m \u001b[0;34m=\u001b[0m \u001b[0mis_eq\u001b[0m\u001b[0;34m(\u001b[0m\u001b[0mlhs\u001b[0m\u001b[0;34m,\u001b[0m \u001b[0mrhs\u001b[0m\u001b[0;34m)\u001b[0m\u001b[0;34m\u001b[0m\u001b[0;34m\u001b[0m\u001b[0m\n\u001b[0m\u001b[1;32m    618\u001b[0m             \u001b[0;32mif\u001b[0m \u001b[0mval\u001b[0m \u001b[0;32mis\u001b[0m \u001b[0;32mNone\u001b[0m\u001b[0;34m:\u001b[0m\u001b[0;34m\u001b[0m\u001b[0;34m\u001b[0m\u001b[0m\n\u001b[1;32m    619\u001b[0m                 \u001b[0;32mreturn\u001b[0m \u001b[0mcls\u001b[0m\u001b[0;34m(\u001b[0m\u001b[0mlhs\u001b[0m\u001b[0;34m,\u001b[0m \u001b[0mrhs\u001b[0m\u001b[0;34m,\u001b[0m \u001b[0mevaluate\u001b[0m\u001b[0;34m=\u001b[0m\u001b[0;32mFalse\u001b[0m\u001b[0;34m)\u001b[0m\u001b[0;34m\u001b[0m\u001b[0;34m\u001b[0m\u001b[0m\n",
      "\u001b[0;32m/usr/local/lib/python3.8/site-packages/sympy/core/relational.py\u001b[0m in \u001b[0;36mis_eq\u001b[0;34m(lhs, rhs, assumptions)\u001b[0m\n\u001b[1;32m   1565\u001b[0m         \u001b[0;32mif\u001b[0m \u001b[0m_n\u001b[0m\u001b[0;34m.\u001b[0m\u001b[0mis_zero\u001b[0m\u001b[0;34m:\u001b[0m\u001b[0;34m\u001b[0m\u001b[0;34m\u001b[0m\u001b[0m\n\u001b[1;32m   1566\u001b[0m             \u001b[0mrv\u001b[0m \u001b[0;34m=\u001b[0m \u001b[0m_d\u001b[0m\u001b[0;34m.\u001b[0m\u001b[0mis_nonzero\u001b[0m\u001b[0;34m\u001b[0m\u001b[0;34m\u001b[0m\u001b[0m\n\u001b[0;32m-> 1567\u001b[0;31m         \u001b[0;32melif\u001b[0m \u001b[0m_n\u001b[0m\u001b[0;34m.\u001b[0m\u001b[0mis_finite\u001b[0m\u001b[0;34m:\u001b[0m\u001b[0;34m\u001b[0m\u001b[0;34m\u001b[0m\u001b[0m\n\u001b[0m\u001b[1;32m   1568\u001b[0m             \u001b[0;32mif\u001b[0m \u001b[0m_d\u001b[0m\u001b[0;34m.\u001b[0m\u001b[0mis_infinite\u001b[0m\u001b[0;34m:\u001b[0m\u001b[0;34m\u001b[0m\u001b[0;34m\u001b[0m\u001b[0m\n\u001b[1;32m   1569\u001b[0m                 \u001b[0mrv\u001b[0m \u001b[0;34m=\u001b[0m \u001b[0;32mTrue\u001b[0m\u001b[0;34m\u001b[0m\u001b[0;34m\u001b[0m\u001b[0m\n",
      "\u001b[0;32m/usr/local/lib/python3.8/site-packages/sympy/core/assumptions.py\u001b[0m in \u001b[0;36mgetit\u001b[0;34m(self)\u001b[0m\n\u001b[1;32m    501\u001b[0m             \u001b[0;32mif\u001b[0m \u001b[0mself\u001b[0m\u001b[0;34m.\u001b[0m\u001b[0m_assumptions\u001b[0m \u001b[0;32mis\u001b[0m \u001b[0mself\u001b[0m\u001b[0;34m.\u001b[0m\u001b[0mdefault_assumptions\u001b[0m\u001b[0;34m:\u001b[0m\u001b[0;34m\u001b[0m\u001b[0;34m\u001b[0m\u001b[0m\n\u001b[1;32m    502\u001b[0m                 \u001b[0mself\u001b[0m\u001b[0;34m.\u001b[0m\u001b[0m_assumptions\u001b[0m \u001b[0;34m=\u001b[0m \u001b[0mself\u001b[0m\u001b[0;34m.\u001b[0m\u001b[0mdefault_assumptions\u001b[0m\u001b[0;34m.\u001b[0m\u001b[0mcopy\u001b[0m\u001b[0;34m(\u001b[0m\u001b[0;34m)\u001b[0m\u001b[0;34m\u001b[0m\u001b[0;34m\u001b[0m\u001b[0m\n\u001b[0;32m--> 503\u001b[0;31m             \u001b[0;32mreturn\u001b[0m \u001b[0m_ask\u001b[0m\u001b[0;34m(\u001b[0m\u001b[0mfact\u001b[0m\u001b[0;34m,\u001b[0m \u001b[0mself\u001b[0m\u001b[0;34m)\u001b[0m\u001b[0;34m\u001b[0m\u001b[0;34m\u001b[0m\u001b[0m\n\u001b[0m\u001b[1;32m    504\u001b[0m \u001b[0;34m\u001b[0m\u001b[0m\n\u001b[1;32m    505\u001b[0m     \u001b[0mgetit\u001b[0m\u001b[0;34m.\u001b[0m\u001b[0mfunc_name\u001b[0m \u001b[0;34m=\u001b[0m \u001b[0mas_property\u001b[0m\u001b[0;34m(\u001b[0m\u001b[0mfact\u001b[0m\u001b[0;34m)\u001b[0m\u001b[0;34m\u001b[0m\u001b[0;34m\u001b[0m\u001b[0m\n",
      "\u001b[0;32m/usr/local/lib/python3.8/site-packages/sympy/core/assumptions.py\u001b[0m in \u001b[0;36m_ask\u001b[0;34m(fact, obj)\u001b[0m\n\u001b[1;32m    557\u001b[0m         \u001b[0mhandler_i\u001b[0m \u001b[0;34m=\u001b[0m \u001b[0mhandler_map\u001b[0m\u001b[0;34m.\u001b[0m\u001b[0mget\u001b[0m\u001b[0;34m(\u001b[0m\u001b[0mfact_i\u001b[0m\u001b[0;34m)\u001b[0m\u001b[0;34m\u001b[0m\u001b[0;34m\u001b[0m\u001b[0m\n\u001b[1;32m    558\u001b[0m         \u001b[0;32mif\u001b[0m \u001b[0mhandler_i\u001b[0m \u001b[0;32mis\u001b[0m \u001b[0;32mnot\u001b[0m \u001b[0;32mNone\u001b[0m\u001b[0;34m:\u001b[0m\u001b[0;34m\u001b[0m\u001b[0;34m\u001b[0m\u001b[0m\n\u001b[0;32m--> 559\u001b[0;31m             \u001b[0mfact_i_value\u001b[0m \u001b[0;34m=\u001b[0m \u001b[0mhandler_i\u001b[0m\u001b[0;34m(\u001b[0m\u001b[0mobj\u001b[0m\u001b[0;34m)\u001b[0m\u001b[0;34m\u001b[0m\u001b[0;34m\u001b[0m\u001b[0m\n\u001b[0m\u001b[1;32m    560\u001b[0m \u001b[0;34m\u001b[0m\u001b[0m\n\u001b[1;32m    561\u001b[0m         \u001b[0;31m# If we get a new value for fact_i then we should update our knowledge\u001b[0m\u001b[0;34m\u001b[0m\u001b[0;34m\u001b[0m\u001b[0;34m\u001b[0m\u001b[0m\n",
      "\u001b[0;32m/usr/local/lib/python3.8/site-packages/sympy/core/add.py\u001b[0m in \u001b[0;36m_eval_is_extended_positive\u001b[0;34m(self)\u001b[0m\n\u001b[1;32m    777\u001b[0m         \u001b[0;32mif\u001b[0m \u001b[0;32mnot\u001b[0m \u001b[0mc\u001b[0m\u001b[0;34m.\u001b[0m\u001b[0mis_zero\u001b[0m\u001b[0;34m:\u001b[0m\u001b[0;34m\u001b[0m\u001b[0;34m\u001b[0m\u001b[0m\n\u001b[1;32m    778\u001b[0m             \u001b[0;32mfrom\u001b[0m \u001b[0;34m.\u001b[0m\u001b[0mexprtools\u001b[0m \u001b[0;32mimport\u001b[0m \u001b[0m_monotonic_sign\u001b[0m\u001b[0;34m\u001b[0m\u001b[0;34m\u001b[0m\u001b[0m\n\u001b[0;32m--> 779\u001b[0;31m             \u001b[0mv\u001b[0m \u001b[0;34m=\u001b[0m \u001b[0m_monotonic_sign\u001b[0m\u001b[0;34m(\u001b[0m\u001b[0ma\u001b[0m\u001b[0;34m)\u001b[0m\u001b[0;34m\u001b[0m\u001b[0;34m\u001b[0m\u001b[0m\n\u001b[0m\u001b[1;32m    780\u001b[0m             \u001b[0;32mif\u001b[0m \u001b[0mv\u001b[0m \u001b[0;32mis\u001b[0m \u001b[0;32mnot\u001b[0m \u001b[0;32mNone\u001b[0m\u001b[0;34m:\u001b[0m\u001b[0;34m\u001b[0m\u001b[0;34m\u001b[0m\u001b[0m\n\u001b[1;32m    781\u001b[0m                 \u001b[0ms\u001b[0m \u001b[0;34m=\u001b[0m \u001b[0mv\u001b[0m \u001b[0;34m+\u001b[0m \u001b[0mc\u001b[0m\u001b[0;34m\u001b[0m\u001b[0;34m\u001b[0m\u001b[0m\n",
      "\u001b[0;32m/usr/local/lib/python3.8/site-packages/sympy/core/exprtools.py\u001b[0m in \u001b[0;36m_monotonic_sign\u001b[0;34m(self)\u001b[0m\n\u001b[1;32m     67\u001b[0m     \u001b[0;34m>>\u001b[0m\u001b[0;34m>\u001b[0m \u001b[0mF\u001b[0m\u001b[0;34m(\u001b[0m\u001b[0mnn\u001b[0m \u001b[0;34m-\u001b[0m \u001b[0;36m1\u001b[0m\u001b[0;34m)\u001b[0m  \u001b[0;31m# could be negative, zero or positive\u001b[0m\u001b[0;34m\u001b[0m\u001b[0;34m\u001b[0m\u001b[0m\n\u001b[1;32m     68\u001b[0m     \"\"\"\n\u001b[0;32m---> 69\u001b[0;31m     \u001b[0;32mif\u001b[0m \u001b[0;32mnot\u001b[0m \u001b[0mself\u001b[0m\u001b[0;34m.\u001b[0m\u001b[0mis_extended_real\u001b[0m\u001b[0;34m:\u001b[0m\u001b[0;34m\u001b[0m\u001b[0;34m\u001b[0m\u001b[0m\n\u001b[0m\u001b[1;32m     70\u001b[0m         \u001b[0;32mreturn\u001b[0m\u001b[0;34m\u001b[0m\u001b[0;34m\u001b[0m\u001b[0m\n\u001b[1;32m     71\u001b[0m \u001b[0;34m\u001b[0m\u001b[0m\n",
      "\u001b[0;32m/usr/local/lib/python3.8/site-packages/sympy/core/assumptions.py\u001b[0m in \u001b[0;36mgetit\u001b[0;34m(self)\u001b[0m\n\u001b[1;32m    501\u001b[0m             \u001b[0;32mif\u001b[0m \u001b[0mself\u001b[0m\u001b[0;34m.\u001b[0m\u001b[0m_assumptions\u001b[0m \u001b[0;32mis\u001b[0m \u001b[0mself\u001b[0m\u001b[0;34m.\u001b[0m\u001b[0mdefault_assumptions\u001b[0m\u001b[0;34m:\u001b[0m\u001b[0;34m\u001b[0m\u001b[0;34m\u001b[0m\u001b[0m\n\u001b[1;32m    502\u001b[0m                 \u001b[0mself\u001b[0m\u001b[0;34m.\u001b[0m\u001b[0m_assumptions\u001b[0m \u001b[0;34m=\u001b[0m \u001b[0mself\u001b[0m\u001b[0;34m.\u001b[0m\u001b[0mdefault_assumptions\u001b[0m\u001b[0;34m.\u001b[0m\u001b[0mcopy\u001b[0m\u001b[0;34m(\u001b[0m\u001b[0;34m)\u001b[0m\u001b[0;34m\u001b[0m\u001b[0;34m\u001b[0m\u001b[0m\n\u001b[0;32m--> 503\u001b[0;31m             \u001b[0;32mreturn\u001b[0m \u001b[0m_ask\u001b[0m\u001b[0;34m(\u001b[0m\u001b[0mfact\u001b[0m\u001b[0;34m,\u001b[0m \u001b[0mself\u001b[0m\u001b[0;34m)\u001b[0m\u001b[0;34m\u001b[0m\u001b[0;34m\u001b[0m\u001b[0m\n\u001b[0m\u001b[1;32m    504\u001b[0m \u001b[0;34m\u001b[0m\u001b[0m\n\u001b[1;32m    505\u001b[0m     \u001b[0mgetit\u001b[0m\u001b[0;34m.\u001b[0m\u001b[0mfunc_name\u001b[0m \u001b[0;34m=\u001b[0m \u001b[0mas_property\u001b[0m\u001b[0;34m(\u001b[0m\u001b[0mfact\u001b[0m\u001b[0;34m)\u001b[0m\u001b[0;34m\u001b[0m\u001b[0;34m\u001b[0m\u001b[0m\n",
      "\u001b[0;32m/usr/local/lib/python3.8/site-packages/sympy/core/assumptions.py\u001b[0m in \u001b[0;36m_ask\u001b[0;34m(fact, obj)\u001b[0m\n\u001b[1;32m    557\u001b[0m         \u001b[0mhandler_i\u001b[0m \u001b[0;34m=\u001b[0m \u001b[0mhandler_map\u001b[0m\u001b[0;34m.\u001b[0m\u001b[0mget\u001b[0m\u001b[0;34m(\u001b[0m\u001b[0mfact_i\u001b[0m\u001b[0;34m)\u001b[0m\u001b[0;34m\u001b[0m\u001b[0;34m\u001b[0m\u001b[0m\n\u001b[1;32m    558\u001b[0m         \u001b[0;32mif\u001b[0m \u001b[0mhandler_i\u001b[0m \u001b[0;32mis\u001b[0m \u001b[0;32mnot\u001b[0m \u001b[0;32mNone\u001b[0m\u001b[0;34m:\u001b[0m\u001b[0;34m\u001b[0m\u001b[0;34m\u001b[0m\u001b[0m\n\u001b[0;32m--> 559\u001b[0;31m             \u001b[0mfact_i_value\u001b[0m \u001b[0;34m=\u001b[0m \u001b[0mhandler_i\u001b[0m\u001b[0;34m(\u001b[0m\u001b[0mobj\u001b[0m\u001b[0;34m)\u001b[0m\u001b[0;34m\u001b[0m\u001b[0;34m\u001b[0m\u001b[0m\n\u001b[0m\u001b[1;32m    560\u001b[0m \u001b[0;34m\u001b[0m\u001b[0m\n\u001b[1;32m    561\u001b[0m         \u001b[0;31m# If we get a new value for fact_i then we should update our knowledge\u001b[0m\u001b[0;34m\u001b[0m\u001b[0;34m\u001b[0m\u001b[0;34m\u001b[0m\u001b[0m\n",
      "\u001b[0;32m/usr/local/lib/python3.8/site-packages/sympy/core/add.py\u001b[0m in \u001b[0;36m_eval_is_irrational\u001b[0;34m(self)\u001b[0m\n\u001b[1;32m    743\u001b[0m \u001b[0;34m\u001b[0m\u001b[0m\n\u001b[1;32m    744\u001b[0m     \u001b[0;32mdef\u001b[0m \u001b[0m_eval_is_irrational\u001b[0m\u001b[0;34m(\u001b[0m\u001b[0mself\u001b[0m\u001b[0;34m)\u001b[0m\u001b[0;34m:\u001b[0m\u001b[0;34m\u001b[0m\u001b[0;34m\u001b[0m\u001b[0m\n\u001b[0;32m--> 745\u001b[0;31m         \u001b[0;32mfor\u001b[0m \u001b[0mt\u001b[0m \u001b[0;32min\u001b[0m \u001b[0mself\u001b[0m\u001b[0;34m.\u001b[0m\u001b[0margs\u001b[0m\u001b[0;34m:\u001b[0m\u001b[0;34m\u001b[0m\u001b[0;34m\u001b[0m\u001b[0m\n\u001b[0m\u001b[1;32m    746\u001b[0m             \u001b[0ma\u001b[0m \u001b[0;34m=\u001b[0m \u001b[0mt\u001b[0m\u001b[0;34m.\u001b[0m\u001b[0mis_irrational\u001b[0m\u001b[0;34m\u001b[0m\u001b[0;34m\u001b[0m\u001b[0m\n\u001b[1;32m    747\u001b[0m             \u001b[0;32mif\u001b[0m \u001b[0ma\u001b[0m\u001b[0;34m:\u001b[0m\u001b[0;34m\u001b[0m\u001b[0;34m\u001b[0m\u001b[0m\n",
      "\u001b[0;31mKeyboardInterrupt\u001b[0m: "
     ]
    }
   ],
   "source": [
    "b_res  = []\n",
    "for i, g_ in tqdm(enumerate(gammas)):\n",
    "    cand_alphas = alphas[alphas>starting_alphas[i]]\n",
    "#     cand_alphas = alphas\n",
    "    for a_ in cand_alphas:\n",
    "        temp = []\n",
    "        for b_ in betas:\n",
    "            ell_ = sp.nsolve(eq1.subs({a:a_, b:b_, g:g_}), ell, 0.1)\n",
    "            temp.append(attack_fixed.subs({a:a_, b:b_, g:g_, ell:ell_}))\n",
    "        bestBeta = betas[np.argmax(temp)]\n",
    "        bestEll  = sp.nsolve(eq1.subs({a:a_, b:bestBeta, g:g_}), ell, 0.1)\n",
    "        rew      = full_rews.subs({a:a_, b:bestBeta, g:g_, ell:bestEll})\n",
    "        if rew/3 > (a_):\n",
    "            b_res.append(a_)\n",
    "            break\n",
    "b_res = np.array(b_res)\n",
    "b_res.shape"
   ]
  },
  {
   "cell_type": "code",
   "execution_count": 695,
   "metadata": {},
   "outputs": [
    {
     "name": "stderr",
     "output_type": "stream",
     "text": [
      "11it [00:39,  3.61s/it]\n"
     ]
    },
    {
     "data": {
      "text/plain": [
       "(11,)"
      ]
     },
     "execution_count": 695,
     "metadata": {},
     "output_type": "execute_result"
    }
   ],
   "source": [
    "l_res  = []\n",
    "for i, g_ in tqdm(enumerate(gammas)):\n",
    "    cand_alphas = alphas[alphas>starting_alphas[i]]\n",
    "#     cand_alphas = alphas\n",
    "    for a_ in cand_alphas:\n",
    "        temp = []\n",
    "        for b_ in betas:\n",
    "            ell_ = sp.nsolve(eq1.subs({a:a_, b:b_, g:g_}), ell, 0.1)\n",
    "            temp.append(1/(1-ell_)*attack_lin.subs({a:a_, b:b_, g:g_, ell:ell_}))\n",
    "        bestBeta = betas[np.argmax(temp)]\n",
    "        bestEll  = sp.nsolve(eq1.subs({a:a_, b:bestBeta, g:g_}), ell, 0.1)\n",
    "        rew      = (1/(1-bestEll))*full_rews.subs({a:a_, b:bestBeta, g:g_, ell:bestEll})\n",
    "        if rew/3 > (a_+0.0015):\n",
    "            l_res.append(a_)\n",
    "            break\n",
    "l_res = np.array(l_res)\n",
    "l_res.shape"
   ]
  },
  {
   "cell_type": "code",
   "execution_count": 696,
   "metadata": {},
   "outputs": [
    {
     "name": "stderr",
     "output_type": "stream",
     "text": [
      "11it [00:20,  1.87s/it]\n"
     ]
    },
    {
     "data": {
      "text/plain": [
       "(11,)"
      ]
     },
     "execution_count": 696,
     "metadata": {},
     "output_type": "execute_result"
    }
   ],
   "source": [
    "f_res  = []\n",
    "for i, g_ in tqdm(enumerate(gammas)):\n",
    "    cand_alphas = alphas[alphas>starting_alphas[i]]\n",
    "#     cand_alphas = alphas\n",
    "    for a_ in cand_alphas:\n",
    "        temp = []\n",
    "        for b_ in betas:\n",
    "            ell_ = sp.nsolve(eq1.subs({a:a_, b:b_, g:g_}), ell, 0.1)\n",
    "            temp.append(1/(1-ell_)*full_rews.subs({a:a_, b:b_, g:g_, ell:ell_}))\n",
    "        bestBeta = betas[np.argmax(temp)]\n",
    "        bestEll  = sp.nsolve(eq1.subs({a:a_, b:bestBeta, g:g_}), ell, 0.1)\n",
    "        rew      = (1/(1-bestEll))*full_rews.subs({a:a_, b:bestBeta, g:g_, ell:bestEll})\n",
    "        if rew/3 > (a_+0.0015):\n",
    "            f_res.append(a_)\n",
    "            break\n",
    "f_res = np.array(f_res)\n",
    "f_res.shape"
   ]
  },
  {
   "cell_type": "code",
   "execution_count": 162,
   "metadata": {},
   "outputs": [],
   "source": [
    "starting_alphas = .7*np.linspace(0.25, 0.0, len(gammas))"
   ]
  },
  {
   "cell_type": "code",
   "execution_count": 701,
   "metadata": {},
   "outputs": [
    {
     "data": {
      "image/png": "[encoded data removed]",
      "text/plain": [
       "<Figure size 432x432 with 1 Axes>"
      ]
     },
     "metadata": {
      "needs_background": "light"
     },
     "output_type": "display_data"
    }
   ],
   "source": [
    "f, ax = plt.subplots(figsize=(6,6))\n",
    "\n",
    "ax.plot(gammas, b_res, label='block rewards', color='seagreen')\n",
    "ax.plot(gammas, l_res, label='linear rewards', color='deeppink')\n",
    "ax.plot(gammas, f_res, label='total rewards', color='cornflowerblue')\n",
    "# ax.plot(gammas, starting_alphas, color='black')\n",
    "\n",
    "\n",
    "ax.grid(alpha=0.3)\n",
    "ax.set_xlabel(r'$\\gamma$', size=15)\n",
    "ax.set_ylabel(r'$\\alpha$', size=15)\n",
    "ax.set_title(r'Profitability thresholds', size=17)\n",
    "\n",
    "ax.hlines(0.3, xmin=0, xmax=0.25, color='black', linestyles='dotted', alpha=0.3, \n",
    "          label=r'$\\gamma=0.25,\\alpha=0.30$')\n",
    "ax.vlines(0.25, ymin=0, ymax=0.3, color='black', linestyles='dotted', alpha=0.3)\n",
    "ax.hlines(0.25, xmin=0, xmax=0.5, color='black', linestyles='--', alpha=0.3, \n",
    "          label=r'$\\gamma=0.50,\\alpha=0.25$')\n",
    "ax.vlines(0.5, ymin=0, ymax=0.25, color='black', linestyles='--', alpha=0.3)\n",
    "\n",
    "ax.set_xlim(0,1)\n",
    "ax.set_ylim(0,.35)\n",
    "\n",
    "ax.legend()\n",
    "plt.savefig('out.png', dpi=150, bbox_inches='tight', facecolor='white')\n",
    "plt.show()"
   ]
  },
  {
   "cell_type": "code",
   "execution_count": null,
   "metadata": {},
   "outputs": [],
   "source": []
  },
  {
   "cell_type": "code",
   "execution_count": null,
   "metadata": {},
   "outputs": [],
   "source": []
  },
  {
   "cell_type": "code",
   "execution_count": null,
   "metadata": {},
   "outputs": [],
   "source": []
  },
  {
   "cell_type": "markdown",
   "metadata": {},
   "source": [
    "# interpolation"
   ]
  },
  {
   "cell_type": "code",
   "execution_count": 206,
   "metadata": {},
   "outputs": [],
   "source": [
    "alphas = np.arange(0.01, 0.5, 0.01)\n",
    "betas = np.arange(1.01, 5.01, 0.5)\n",
    "gammas = [0.0, 0.5, 1.0]\n",
    "p_     = 0.\n",
    "E_     = 4\n",
    "C_     = 1.\n",
    "g_     = 0."
   ]
  },
  {
   "cell_type": "code",
   "execution_count": 207,
   "metadata": {},
   "outputs": [],
   "source": [
    "subs = {C:C_, E:E_, p:p_}"
   ]
  },
  {
   "cell_type": "code",
   "execution_count": 208,
   "metadata": {},
   "outputs": [],
   "source": [
    "attack_fixed =  attack_full_fixed.subs({p1:p1_sym}).subs({C:1., p:0.})\n",
    "attack_lin   =  attack_full_lin.subs({p1:p1_sym}).subs({C:0., p:0.})\n",
    "attack_two   = ((1/(1-ell))*attack_full_fixed + attack_full_lin).subs({p1:p1_sym}).subs({C:1., p:0.})"
   ]
  },
  {
   "cell_type": "code",
   "execution_count": 209,
   "metadata": {},
   "outputs": [],
   "source": [
    "o_0p    = 1\n",
    "o_rest = p1*a*(1-a)/(1-2*a)\n",
    "orphan_full = p0p * o_0p + o_rest\n",
    "\n",
    "eq1 = sp.Eq(orphan_full.subs({p1:p1_sym}).subs(subs), ell)"
   ]
  },
  {
   "cell_type": "code",
   "execution_count": 211,
   "metadata": {},
   "outputs": [
    {
     "name": "stderr",
     "output_type": "stream",
     "text": [
      "49it [00:15,  3.24it/s]\n"
     ]
    },
    {
     "data": {
      "text/plain": [
       "((49,), (49,), (49,))"
      ]
     },
     "execution_count": 211,
     "metadata": {},
     "output_type": "execute_result"
    }
   ],
   "source": [
    "selfish_rews = []\n",
    "linear_rews  = []\n",
    "total_rews   = []\n",
    "for i, a_ in tqdm(enumerate(alphas)):\n",
    "    bestBeta = 100.\n",
    "    bestEll  = sp.nsolve(eq1.subs({a:a_, b:bestBeta, g:g_}), ell, 0.1)\n",
    "    rew      = attack_fixed.subs({a:a_, b:bestBeta, g:g_, ell:bestEll})\n",
    "    selfish_rews.append(1/(1-bestEll)*rew)\n",
    "\n",
    "    temp = []\n",
    "    # betas can start from 0.\n",
    "    betas = np.arange(0.01, 5.01, 0.5)\n",
    "    for b_ in betas:\n",
    "        ell_ = sp.nsolve(eq1.subs({a:a_, b:b_, g:g_}), ell, 0.1)\n",
    "        temp.append(attack_lin.subs({a:a_, b:b_, g:g_, ell:ell_}))\n",
    "    bestBeta = betas[np.argmax(temp)]\n",
    "    bestEll  = sp.nsolve(eq1.subs({a:a_, b:bestBeta, g:g_}), ell, 0.1)\n",
    "    rew      = attack_lin.subs({a:a_, b:bestBeta, g:g_, ell:bestEll})\n",
    "    linear_rews.append(1/(1-bestEll)*rew)\n",
    "    \n",
    "    temp = []\n",
    "    # betas can start from 1.\n",
    "    betas = np.arange(1.01, 5.01, 0.5)\n",
    "    for b_ in betas:\n",
    "        ell_ = sp.nsolve(eq1.subs({a:a_, b:b_, g:g_}), ell, 0.1)\n",
    "        temp.append(attack_two.subs({a:a_, b:b_, g:g_, ell:ell_}))\n",
    "    bestBeta = betas[np.argmax(temp)]\n",
    "    bestEll  = sp.nsolve(eq1.subs({a:a_, b:bestBeta, g:g_}), ell, 0.1)\n",
    "    rew      = attack_two.subs({a:a_, b:bestBeta, g:g_, ell:bestEll})\n",
    "    total_rews.append(1/(1-bestEll)*rew)\n",
    "\n",
    "selfish_rews = np.array(selfish_rews)\n",
    "linear_rews = np.array(linear_rews)\n",
    "total_rews = np.array(total_rews)\n",
    "selfish_rews.shape, linear_rews.shape, total_rews.shape"
   ]
  },
  {
   "cell_type": "code",
   "execution_count": 214,
   "metadata": {},
   "outputs": [
    {
     "data": {
      "image/png": "[encoded data removed]",
      "text/plain": [
       "<Figure size 576x432 with 1 Axes>"
      ]
     },
     "metadata": {
      "needs_background": "light"
     },
     "output_type": "display_data"
    }
   ],
   "source": [
    "f, ax = plt.subplots(figsize=(8,6))\n",
    "\n",
    "for ax_ in [ax]:\n",
    "    ax_.plot(alphas, alphas, label='Honest', color='black', linewidth=2)\n",
    "    ax_.plot(alphas, selfish_rews, label='Selfish (block)', color='maroon', linewidth=2)\n",
    "    ax_.plot(alphas, linear_rews, label=r'$\\beta-$cutoff (linear)', color='dodgerblue', linewidth=2)\n",
    "    ax_.plot(alphas, total_rews/2, label=r'$\\beta-$cutoff (linear and block)', color='peru', linewidth=2)\n",
    "    ax_.grid(alpha=0.3)\n",
    "\n",
    "ax.set_xlabel(r'$\\alpha$', size=15)\n",
    "ax.set_ylabel(r'Rewards', size=15)\n",
    "ax.set_xlim(0,0.5)\n",
    "# ax.set_ylim(0,1.)\n",
    "ax.legend(loc=2)\n",
    "\n",
    "plt.savefig('out.png', dpi=150, bbox_inches='tight', facecolor='white')\n",
    "plt.show()"
   ]
  },
  {
   "cell_type": "code",
   "execution_count": null,
   "metadata": {},
   "outputs": [],
   "source": [
    "# interpolation\n",
    "\n",
    "alphas = np.arange(0.01, 0.50, 0.01)\n",
    "betas = np.arange(1.01, 5.01, 0.5)\n",
    "gammas = [0.0, 0.5, 1.0]\n",
    "p_     = 0.25\n",
    "E_     = 4\n",
    "C_     = 1.\n",
    "g_     = 0.\n",
    "\n",
    "subs = {C:C_, E:E_, p:p_}\n",
    "\n",
    "attack_fixed =  attack_full_fixed.subs({p1:p1_sym}).subs(subs)\n",
    "attack_lin   =  attack_full_lin.subs({p1:p1_sym}).subs(subs)\n",
    "attack_two   = ((1/(1-ell))*attack_full_fixed + attack_full_lin).subs({p1:p1_sym}).subs(subs)\n",
    "\n",
    "o_0p    = 1\n",
    "o_rest = p1*a*(1-a)/(1-2*a)\n",
    "orphan_full = p0p * o_0p + o_rest\n",
    "\n",
    "eq1 = sp.Eq(orphan_full.subs({p1:p1_sym}).subs(subs), ell)\n",
    "\n",
    "betas\n",
    "\n",
    "selfish_rews = []\n",
    "linear_rews  = []\n",
    "total_rews   = []\n",
    "for i, a_ in tqdm(enumerate(alphas)):\n",
    "    bestBeta = 100.\n",
    "    bestEll  = sp.nsolve(eq1.subs({a:a_, b:bestBeta, g:g_}), ell, 0.1)\n",
    "    rew      = (1/(1-bestEll))*attack_fixed.subs({a:a_, b:bestBeta, g:g_, ell:bestEll})\n",
    "    selfish_rews.append(rew)\n",
    "\n",
    "    temp = []\n",
    "    for b_ in betas:\n",
    "        ell_ = sp.nsolve(eq1.subs({a:a_, b:b_, g:g_}), ell, 0.1)\n",
    "        temp.append(attack_lin.subs({a:a_, b:b_, g:g_, ell:ell_}))\n",
    "    bestBeta = betas[np.argmax(temp)]\n",
    "    bestEll  = sp.nsolve(eq1.subs({a:a_, b:bestBeta, g:g_}), ell, 0.1)\n",
    "    rew      = attack_lin.subs({a:a_, b:bestBeta, g:g_, ell:bestEll})\n",
    "    linear_rews.append(rew)\n",
    "    \n",
    "    temp = []\n",
    "    for b_ in betas:\n",
    "        ell_ = sp.nsolve(eq1.subs({a:a_, b:b_, g:g_}), ell, 0.1)\n",
    "        temp.append(attack_two.subs({a:a_, b:b_, g:g_, ell:ell_}))\n",
    "    bestBeta = betas[np.argmax(temp)]\n",
    "    bestEll  = sp.nsolve(eq1.subs({a:a_, b:bestBeta, g:g_}), ell, 0.1)\n",
    "    rew      = attack_two.subs({a:a_, b:bestBeta, g:g_, ell:bestEll})\n",
    "    total_rews.append(rew)\n",
    "\n",
    "selfish_rews = np.array(selfish_rews)\n",
    "linear_rews = np.array(linear_rews)\n",
    "total_rews = np.array(total_rews)\n",
    "selfish_rews.shape, linear_rews.shape, total_rews.shape\n",
    "\n",
    "f, ax = plt.subplots(figsize=(8,6))\n",
    "\n",
    "for ax_ in [ax]:\n",
    "    ax_.plot(alphas, alphas, label='Honest', color='black', linewidth=2)\n",
    "    ax_.plot(alphas, selfish_rews, label='Selfish (block)', color='maroon', linewidth=2)\n",
    "    ax_.plot(alphas, linear_rews, label=r'$\\beta-$cutoff (linear)', color='dodgerblue', linewidth=2)\n",
    "    ax_.plot(alphas, total_rews/2, label=r'$\\beta-$cutoff (linear and block)', color='peru', linewidth=2)\n",
    "    ax_.grid(alpha=0.3)\n",
    "\n",
    "ax.set_xlabel(r'$\\alpha$', size=15)\n",
    "ax.set_ylabel(r'Rewards', size=15)\n",
    "ax.set_xlim(0,0.5)\n",
    "# ax.set_ylim(0,1.)\n",
    "ax.legend(loc=2)\n",
    "\n",
    "plt.savefig('out.png', dpi=150, bbox_inches='tight', facecolor='white')\n",
    "plt.show()"
   ]
  },
  {
   "cell_type": "code",
   "execution_count": null,
   "metadata": {},
   "outputs": [],
   "source": []
  },
  {
   "cell_type": "code",
   "execution_count": null,
   "metadata": {},
   "outputs": [],
   "source": []
  },
  {
   "cell_type": "code",
   "execution_count": null,
   "metadata": {},
   "outputs": [],
   "source": []
  },
  {
   "cell_type": "code",
   "execution_count": 65,
   "metadata": {},
   "outputs": [],
   "source": [
    "# EXPERIMENT"
   ]
  },
  {
   "cell_type": "code",
   "execution_count": 89,
   "metadata": {},
   "outputs": [],
   "source": [
    "alphas = np.arange(0.01, 0.5, 0.01)\n",
    "betas = np.arange(1.01, 5.01, 0.5)\n",
    "gammas = [0.0, 0.25, 0.5]\n",
    "p_     = 0.25\n",
    "E_     = 4\n",
    "C_     = 1.\n",
    "g_     = 0.\n",
    "\n",
    "subs = {C:C_, E:E_, p:p_}\n",
    "\n",
    "attack_fixed =  attack_full_fixed.subs({p1:p1_sym}).subs(subs)"
   ]
  },
  {
   "cell_type": "code",
   "execution_count": 91,
   "metadata": {},
   "outputs": [
    {
     "name": "stderr",
     "output_type": "stream",
     "text": [
      "49it [00:01, 37.49it/s]\n",
      "49it [00:01, 38.05it/s]\n",
      "49it [00:01, 38.22it/s]\n"
     ]
    },
    {
     "data": {
      "text/plain": [
       "(3, 49)"
      ]
     },
     "execution_count": 91,
     "metadata": {},
     "output_type": "execute_result"
    }
   ],
   "source": [
    "selfish_rews = []\n",
    "for g_ in gammas:\n",
    "    temp = []\n",
    "    for i, a_ in tqdm(enumerate(alphas)):\n",
    "        bestBeta = 100.\n",
    "        bestEll  = sp.nsolve(eq1.subs({a:a_, b:bestBeta, g:g_}), ell, 0.1)\n",
    "        rew      = attack_fixed.subs({a:a_, b:bestBeta, g:g_, ell:bestEll})\n",
    "        temp.append(1/(1-bestEll)*rew)\n",
    "    selfish_rews.append(temp)\n",
    "\n",
    "selfish_rews = np.array(selfish_rews)\n",
    "selfish_rews.shape"
   ]
  },
  {
   "cell_type": "code",
   "execution_count": 94,
   "metadata": {},
   "outputs": [],
   "source": [
    "def EyalSirer(a_, g_):\n",
    "    num = a_*((1-a_)**2)*(4*a_+g_*(1-2*a_))-(a_**3)\n",
    "    den = 1 - a_*(1+(2-a_)*a_)\n",
    "    return num / den"
   ]
  },
  {
   "cell_type": "code",
   "execution_count": 95,
   "metadata": {},
   "outputs": [
    {
     "name": "stderr",
     "output_type": "stream",
     "text": [
      "49it [00:00, 54937.42it/s]\n",
      "49it [00:00, 67229.60it/s]\n",
      "49it [00:00, 81233.56it/s]\n"
     ]
    },
    {
     "data": {
      "text/plain": [
       "(3, 49)"
      ]
     },
     "execution_count": 95,
     "metadata": {},
     "output_type": "execute_result"
    }
   ],
   "source": [
    "ES_rews = []\n",
    "for g_ in gammas:\n",
    "    temp = []\n",
    "    for i, a_ in tqdm(enumerate(alphas)):\n",
    "        temp.append(EyalSirer(a_, g_))\n",
    "    ES_rews.append(temp)\n",
    "ES_rews = np.array(ES_rews)\n",
    "ES_rews.shape"
   ]
  },
  {
   "cell_type": "code",
   "execution_count": 100,
   "metadata": {},
   "outputs": [
    {
     "data": {
      "image/png": "[encoded data removed]",
      "text/plain": [
       "<Figure size 576x432 with 1 Axes>"
      ]
     },
     "metadata": {
      "needs_background": "light"
     },
     "output_type": "display_data"
    }
   ],
   "source": [
    "f, ax = plt.subplots(figsize=(8,6))\n",
    "\n",
    "for ax_ in [ax]:\n",
    "    ax_.plot(alphas, alphas, label='Honest', color='black', linewidth=2)\n",
    "    ax_.plot(alphas, selfish_rews[0,:], label=r'$\\gamma=0.00$ (ours)', color='maroon', linewidth=2, alpha=0.4)\n",
    "    ax_.plot(alphas, selfish_rews[1,:], label=r'$\\gamma=0.25$ (ours)', color='green', linewidth=2, alpha=0.4)\n",
    "    ax_.plot(alphas, selfish_rews[2,:], label=r'$\\gamma=0.50$ (ours)', color='blue', linewidth=2, alpha=0.4)\n",
    "    \n",
    "    ax_.plot(alphas, selfish_rews[0,:], label=r'$\\gamma=0.00$ (ES)', color='maroon',\n",
    "             marker='x', linestyle='none')\n",
    "    ax_.plot(alphas, selfish_rews[1,:], label=r'$\\gamma=0.25$ (ES)', color='green',\n",
    "             marker='x', linestyle='none')\n",
    "    ax_.plot(alphas, selfish_rews[2,:], label=r'$\\gamma=0.50$ (ES)', color='blue',\n",
    "             marker='x', linestyle='none')\n",
    "    ax_.grid(alpha=0.3)\n",
    "\n",
    "ax.set_xlabel(r'$\\alpha$', size=15)\n",
    "ax.set_ylabel(r'Rewards', size=15)\n",
    "ax.set_xlim(0,0.5)\n",
    "\n",
    "\n",
    "ax.axvline(0.25, color='k', alpha=0.3, label=r'$\\alpha=0.25$', linestyle='--')\n",
    "ax.axvline(0.3, color='k', alpha=0.3, label=r'$\\alpha=0.30$', linestyle='-.')\n",
    "ax.axvline(1/3, color='k', alpha=0.3, label=r'$\\alpha=1/3$', linestyle='dotted')\n",
    "\n",
    "ax.legend(loc=2)\n",
    "plt.savefig('out.png', dpi=150, bbox_inches='tight', facecolor='white')\n",
    "plt.show()"
   ]
  },
  {
   "cell_type": "code",
   "execution_count": null,
   "metadata": {},
   "outputs": [],
   "source": []
  }
 ],
 "metadata": {
  "kernelspec": {
   "display_name": "Python 3",
   "language": "python",
   "name": "python3"
  },
  "language_info": {
   "codemirror_mode": {
    "name": "ipython",
    "version": 3
   },
   "file_extension": ".py",
   "mimetype": "text/x-python",
   "name": "python",
   "nbconvert_exporter": "python",
   "pygments_lexer": "ipython3",
   "version": "3.8.16"
  }
 },
 "nbformat": 4,
 "nbformat_minor": 4
}
