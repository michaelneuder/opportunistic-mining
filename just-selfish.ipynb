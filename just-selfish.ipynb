{
 "cells": [
  {
   "cell_type": "code",
   "execution_count": 1,
   "metadata": {},
   "outputs": [],
   "source": [
    "import matplotlib.pyplot as plt\n",
    "import matplotlib.patches as mpatches\n",
    "import numpy as np\n",
    "from scipy.optimize import minimize\n",
    "import pandas as pd\n",
    "from scipy.stats import poisson, uniform, expon, pareto\n",
    "from tqdm import tqdm\n",
    "from mdptoolbox import mdp, util\n",
    "import itertools\n",
    "from scipy.sparse import csr_matrix, lil_matrix\n",
    "from matplotlib.patches import Patch\n",
    "import math\n",
    "import random\n",
    "import sympy as sp\n",
    "from sympy.printing.latex import print_latex"
   ]
  },
  {
   "cell_type": "markdown",
   "metadata": {},
   "source": [
    "# stationary dist"
   ]
  },
  {
   "cell_type": "code",
   "execution_count": 2,
   "metadata": {},
   "outputs": [],
   "source": [
    "p0, p0p, p1, p0pp = sp.symbols('p_0 p_{00} p_1 p_{000}')\n",
    "a, b, x, g, p, C, E, ell  = sp.symbols('a b x g p C E lambda')"
   ]
  },
  {
   "cell_type": "code",
   "execution_count": 3,
   "metadata": {},
   "outputs": [],
   "source": [
    "# p_i is the stationary distribution for State i\n",
    "p0    = p1 / (a*(1-p)*(1-sp.exp(-(b-C)/(1-ell))) + a*p*(1-sp.Min(sp.exp(-(b-C-E)/(1-ell)),1)))\n",
    "p0p   = p1 * (1-a)\n",
    "p0pp  = p1 * a\n",
    "p2    = p1*(a/(1-a))\n",
    "prest = p1*a/(1-2*a)"
   ]
  },
  {
   "cell_type": "code",
   "execution_count": 4,
   "metadata": {},
   "outputs": [],
   "source": [
    "eq = sp.Eq(p0+p0p+p0pp+prest+p1, 1)\n",
    "p1_sym = sp.solve(eq, p1)[0]"
   ]
  },
  {
   "cell_type": "code",
   "execution_count": 5,
   "metadata": {},
   "outputs": [
    {
     "data": {
      "text/latex": [
       "$\\displaystyle \\frac{a \\left(2 a p e^{\\frac{- C + b}{\\lambda - 1}} - 2 a p \\min\\left(1, e^{\\frac{- C - E + b}{\\lambda - 1}}\\right) - 2 a e^{\\frac{- C + b}{\\lambda - 1}} + 2 a - p e^{\\frac{- C + b}{\\lambda - 1}} + p \\min\\left(1, e^{\\frac{- C - E + b}{\\lambda - 1}}\\right) + e^{\\frac{- C + b}{\\lambda - 1}} - 1\\right)}{3 a^{2} p e^{\\frac{- C + b}{\\lambda - 1}} - 3 a^{2} p \\min\\left(1, e^{\\frac{- C - E + b}{\\lambda - 1}}\\right) - 3 a^{2} e^{\\frac{- C + b}{\\lambda - 1}} + 3 a^{2} - 2 a p e^{\\frac{- C + b}{\\lambda - 1}} + 2 a p \\min\\left(1, e^{\\frac{- C - E + b}{\\lambda - 1}}\\right) + 2 a e^{\\frac{- C + b}{\\lambda - 1}} - 1}$"
      ],
      "text/plain": [
       "a*(2*a*p*exp((-C + b)/(lambda - 1)) - 2*a*p*Min(1, exp((-C - E + b)/(lambda - 1))) - 2*a*exp((-C + b)/(lambda - 1)) + 2*a - p*exp((-C + b)/(lambda - 1)) + p*Min(1, exp((-C - E + b)/(lambda - 1))) + exp((-C + b)/(lambda - 1)) - 1)/(3*a**2*p*exp((-C + b)/(lambda - 1)) - 3*a**2*p*Min(1, exp((-C - E + b)/(lambda - 1))) - 3*a**2*exp((-C + b)/(lambda - 1)) + 3*a**2 - 2*a*p*exp((-C + b)/(lambda - 1)) + 2*a*p*Min(1, exp((-C - E + b)/(lambda - 1))) + 2*a*exp((-C + b)/(lambda - 1)) - 1)"
      ]
     },
     "execution_count": 5,
     "metadata": {},
     "output_type": "execute_result"
    }
   ],
   "source": [
    "p1_sym"
   ]
  },
  {
   "cell_type": "code",
   "execution_count": 6,
   "metadata": {},
   "outputs": [
    {
     "data": {
      "text/plain": [
       "(0.146274873287421, 0.146274873287421)"
      ]
     },
     "execution_count": 6,
     "metadata": {},
     "output_type": "execute_result"
    }
   ],
   "source": [
    "p1_me = (1/(a*(1-p)*(1-sp.exp(-(b-C)/(1-ell))) + a*p*(1-sp.Min(sp.exp(-(b-C-E)/(1-ell)),1))) + 1+ (1-a)/(1-2*a))**(-1)\n",
    "p1_sym.evalf(subs={a:0.3, b:3, ell:0.2, C:1, E:1, p:0.5}), p1_me.evalf(subs={a:0.3, b:3, ell:0.2, C:1, E:1, p:0.5})"
   ]
  },
  {
   "cell_type": "code",
   "execution_count": 7,
   "metadata": {},
   "outputs": [
    {
     "data": {
      "text/latex": [
       "$\\displaystyle \\frac{1}{1 + \\frac{1}{a p \\left(1 - \\min\\left(1, e^{\\frac{C + E - b}{1 - \\lambda}}\\right)\\right) + a \\left(1 - p\\right) \\left(1 - e^{\\frac{C - b}{1 - \\lambda}}\\right)} + \\frac{1 - a}{1 - 2 a}}$"
      ],
      "text/plain": [
       "1/(1 + 1/(a*p*(1 - Min(1, exp((C + E - b)/(1 - lambda)))) + a*(1 - p)*(1 - exp((C - b)/(1 - lambda)))) + (1 - a)/(1 - 2*a))"
      ]
     },
     "execution_count": 7,
     "metadata": {},
     "output_type": "execute_result"
    }
   ],
   "source": [
    "p1_me"
   ]
  },
  {
   "cell_type": "markdown",
   "metadata": {},
   "source": [
    "## FIXED"
   ]
  },
  {
   "cell_type": "code",
   "execution_count": 8,
   "metadata": {},
   "outputs": [
    {
     "data": {
      "text/latex": [
       "$\\displaystyle C a \\left(1 - a\\right) \\left(a + g \\left(1 - a\\right)\\right) \\left(p \\left(1 - \\min\\left(1, e^{\\frac{C + E - b}{1 - \\lambda}}\\right)\\right) + \\left(1 - p\\right) \\left(1 - e^{\\frac{C - b}{1 - \\lambda}}\\right)\\right)$"
      ],
      "text/plain": [
       "C*a*(1 - a)*(a + g*(1 - a))*(p*(1 - Min(1, exp((C + E - b)/(1 - lambda)))) + (1 - p)*(1 - exp((C - b)/(1 - lambda))))"
      ]
     },
     "execution_count": 8,
     "metadata": {},
     "output_type": "execute_result"
    }
   ],
   "source": [
    "# 3 cases for f0\n",
    "f0i_fixed   = a*C * (p*sp.Min(1,sp.exp(-(b-C-E)/(1-ell))) + (1-p)*sp.exp(-(b-C)/(1-ell)))\n",
    "f0ii_fixed  = (a**2)*C * (p*(1-sp.Min(1,sp.exp(-(b-C-E)/(1-ell)))) + (1-p)*(1-sp.exp(-(b-C)/(1-ell))))\n",
    "f0iii_fixed = a*(1-a)*(a+g*(1-a))*C * (p*(1-sp.Min(1,sp.exp(-(b-C-E)/(1-ell)))) + (1-p)*(1-sp.exp(-(b-C)/(1-ell))))\n",
    "f0iii_fixed"
   ]
  },
  {
   "cell_type": "code",
   "execution_count": 9,
   "metadata": {},
   "outputs": [],
   "source": [
    "# explicit for f0 and f1\n",
    "f0_fixed   = f0i_fixed + f0ii_fixed + f0iii_fixed\n",
    "f1_fixed   = C*(a+(1-a)*a)"
   ]
  },
  {
   "cell_type": "code",
   "execution_count": 11,
   "metadata": {},
   "outputs": [],
   "source": [
    "attack_full_fixed  = (p0*f0_fixed + p1*f1_fixed + C*p1*a*(2*a*(1-a)/(1-2*a)))"
   ]
  },
  {
   "cell_type": "code",
   "execution_count": 12,
   "metadata": {},
   "outputs": [],
   "source": [
    "alphas = np.arange(0.01, 0.5, 0.01)\n",
    "betas = np.arange(1.01, 5.01, 0.5)\n",
    "gammas = [0.0, 0.25, 0.5]\n",
    "p_     = 0.25\n",
    "E_     = 4\n",
    "C_     = 1.\n",
    "g_     = 0.\n",
    "\n",
    "subs = {C:C_, E:E_, p:p_}\n",
    "\n",
    "attack_fixed =  attack_full_fixed.subs({p1:p1_sym}).subs(subs)"
   ]
  },
  {
   "cell_type": "code",
   "execution_count": 14,
   "metadata": {},
   "outputs": [],
   "source": [
    "o_0p    = 1\n",
    "o_rest = p1*a*(1-a)/(1-2*a)\n",
    "orphan_full = p0p * o_0p + o_rest\n",
    "\n",
    "eq1 = sp.Eq(orphan_full.subs({p1:p1_sym}).subs(subs), ell)"
   ]
  },
  {
   "cell_type": "code",
   "execution_count": 15,
   "metadata": {},
   "outputs": [
    {
     "name": "stderr",
     "output_type": "stream",
     "text": [
      "49it [00:02, 24.38it/s]\n",
      "49it [00:01, 39.11it/s]\n",
      "49it [00:01, 38.78it/s]\n"
     ]
    },
    {
     "data": {
      "text/plain": [
       "(3, 49)"
      ]
     },
     "execution_count": 15,
     "metadata": {},
     "output_type": "execute_result"
    }
   ],
   "source": [
    "selfish_rews = []\n",
    "for g_ in gammas:\n",
    "    temp = []\n",
    "    for i, a_ in tqdm(enumerate(alphas)):\n",
    "        bestBeta = 100.\n",
    "        bestEll  = sp.nsolve(eq1.subs({a:a_, b:bestBeta, g:g_}), ell, 0.1)\n",
    "        rew      = attack_fixed.subs({a:a_, b:bestBeta, g:g_, ell:bestEll})\n",
    "        temp.append(1/(1-bestEll)*rew)\n",
    "    selfish_rews.append(temp)\n",
    "\n",
    "selfish_rews = np.array(selfish_rews)\n",
    "selfish_rews.shape"
   ]
  },
  {
   "cell_type": "code",
   "execution_count": 16,
   "metadata": {},
   "outputs": [],
   "source": [
    "def EyalSirer(a_, g_):\n",
    "    num = a_*((1-a_)**2)*(4*a_+g_*(1-2*a_))-(a_**3)\n",
    "    den = 1 - a_*(1+(2-a_)*a_)\n",
    "    return num / den"
   ]
  },
  {
   "cell_type": "code",
   "execution_count": 17,
   "metadata": {},
   "outputs": [
    {
     "name": "stderr",
     "output_type": "stream",
     "text": [
      "49it [00:00, 253729.50it/s]\n",
      "49it [00:00, 270778.52it/s]\n",
      "49it [00:00, 283086.63it/s]\n"
     ]
    },
    {
     "data": {
      "text/plain": [
       "(3, 49)"
      ]
     },
     "execution_count": 17,
     "metadata": {},
     "output_type": "execute_result"
    }
   ],
   "source": [
    "ES_rews = []\n",
    "for g_ in gammas:\n",
    "    temp = []\n",
    "    for i, a_ in tqdm(enumerate(alphas)):\n",
    "        temp.append(EyalSirer(a_, g_))\n",
    "    ES_rews.append(temp)\n",
    "ES_rews = np.array(ES_rews)\n",
    "ES_rews.shape"
   ]
  },
  {
   "cell_type": "code",
   "execution_count": 18,
   "metadata": {},
   "outputs": [
    {
     "data": {
      "image/png": "[encoded data removed]",
      "text/plain": [
       "<Figure size 576x432 with 1 Axes>"
      ]
     },
     "metadata": {
      "needs_background": "light"
     },
     "output_type": "display_data"
    }
   ],
   "source": [
    "f, ax = plt.subplots(figsize=(8,6))\n",
    "\n",
    "for ax_ in [ax]:\n",
    "    ax_.plot(alphas, alphas, label='Honest', color='black', linewidth=2)\n",
    "    ax_.plot(alphas, selfish_rews[0,:], label=r'$\\gamma=0.00$ (ours)', color='maroon', linewidth=2, alpha=0.4)\n",
    "    ax_.plot(alphas, selfish_rews[1,:], label=r'$\\gamma=0.25$ (ours)', color='green', linewidth=2, alpha=0.4)\n",
    "    ax_.plot(alphas, selfish_rews[2,:], label=r'$\\gamma=0.50$ (ours)', color='blue', linewidth=2, alpha=0.4)\n",
    "    \n",
    "    ax_.plot(alphas, selfish_rews[0,:], label=r'$\\gamma=0.00$ (ES)', color='maroon',\n",
    "             marker='x', linestyle='none')\n",
    "    ax_.plot(alphas, selfish_rews[1,:], label=r'$\\gamma=0.25$ (ES)', color='green',\n",
    "             marker='x', linestyle='none')\n",
    "    ax_.plot(alphas, selfish_rews[2,:], label=r'$\\gamma=0.50$ (ES)', color='blue',\n",
    "             marker='x', linestyle='none')\n",
    "    ax_.grid(alpha=0.3)\n",
    "\n",
    "ax.set_xlabel(r'$\\alpha$', size=15)\n",
    "ax.set_ylabel(r'Rewards', size=15)\n",
    "ax.set_xlim(0,0.5)\n",
    "\n",
    "\n",
    "ax.axvline(0.25, color='k', alpha=0.3, label=r'$\\alpha=0.25$', linestyle='--')\n",
    "ax.axvline(0.3, color='k', alpha=0.3, label=r'$\\alpha=0.30$', linestyle='-.')\n",
    "ax.axvline(1/3, color='k', alpha=0.3, label=r'$\\alpha=1/3$', linestyle='dotted')\n",
    "\n",
    "ax.legend(loc=2)\n",
    "plt.savefig('out.png', dpi=150, bbox_inches='tight', facecolor='white')\n",
    "plt.show()"
   ]
  },
  {
   "cell_type": "markdown",
   "metadata": {},
   "source": [
    "# selfish profitable"
   ]
  },
  {
   "cell_type": "markdown",
   "metadata": {},
   "source": [
    "## FIXED"
   ]
  },
  {
   "cell_type": "code",
   "execution_count": 19,
   "metadata": {},
   "outputs": [
    {
     "data": {
      "text/latex": [
       "$\\displaystyle C a \\left(1 - a\\right) \\left(a + g \\left(1 - a\\right)\\right) \\left(p \\left(1 - \\min\\left(1, e^{\\frac{C + E - b}{1 - \\lambda}}\\right)\\right) + \\left(1 - p\\right) \\left(1 - e^{\\frac{C - b}{1 - \\lambda}}\\right)\\right)$"
      ],
      "text/plain": [
       "C*a*(1 - a)*(a + g*(1 - a))*(p*(1 - Min(1, exp((C + E - b)/(1 - lambda)))) + (1 - p)*(1 - exp((C - b)/(1 - lambda))))"
      ]
     },
     "execution_count": 19,
     "metadata": {},
     "output_type": "execute_result"
    }
   ],
   "source": [
    "# 3 cases for f0\n",
    "f0i_fixed   = a*C * (p*sp.Min(1,sp.exp(-(b-C-E)/(1-ell))) + (1-p)*sp.exp(-(b-C)/(1-ell)))\n",
    "f0ii_fixed  = (a**2)*C * (p*(1-sp.Min(1,sp.exp(-(b-C-E)/(1-ell)))) + (1-p)*(1-sp.exp(-(b-C)/(1-ell))))\n",
    "f0iii_fixed = a*(1-a)*(a+g*(1-a))*C * (p*(1-sp.Min(1,sp.exp(-(b-C-E)/(1-ell)))) + (1-p)*(1-sp.exp(-(b-C)/(1-ell))))\n",
    "f0iii_fixed"
   ]
  },
  {
   "cell_type": "code",
   "execution_count": 20,
   "metadata": {},
   "outputs": [],
   "source": [
    "# explicit for f0 and f1\n",
    "f0_fixed   = f0i_fixed + f0ii_fixed + f0iii_fixed\n",
    "f1_fixed   = C*(a+(1-a)*a)"
   ]
  },
  {
   "cell_type": "code",
   "execution_count": 21,
   "metadata": {},
   "outputs": [],
   "source": [
    "attack_full_fixed  = (p0*f0_fixed + p1*f1_fixed + C*p1*a*(2*a*(1-a)/(1-2*a)))"
   ]
  },
  {
   "cell_type": "markdown",
   "metadata": {},
   "source": [
    "## Bernoulli"
   ]
  },
  {
   "cell_type": "code",
   "execution_count": 23,
   "metadata": {},
   "outputs": [
    {
     "data": {
      "text/latex": [
       "$\\displaystyle E a p \\left(1 - a\\right) \\left(1 - \\min\\left(1, e^{\\frac{C + E - b}{1 - \\lambda}}\\right)\\right) \\left(a + g \\left(1 - a\\right)\\right)$"
      ],
      "text/plain": [
       "E*a*p*(1 - a)*(1 - Min(1, exp((C + E - b)/(1 - lambda))))*(a + g*(1 - a))"
      ]
     },
     "execution_count": 23,
     "metadata": {},
     "output_type": "execute_result"
    }
   ],
   "source": [
    "f0i_bern   = a*E * (p*sp.Min(1,sp.exp(-(b-C-E)/(1-ell))))\n",
    "f0ii_bern  = (a**2)*E * (p*(1-sp.Min(1,sp.exp(-(b-C-E)/(1-ell)))))\n",
    "f0iii_bern = a*(1-a)*(a+g*(1-a))*E * (p*(1-sp.Min(1,sp.exp(-(b-C-E)/(1-ell)))))\n",
    "f0iii_bern"
   ]
  },
  {
   "cell_type": "code",
   "execution_count": 24,
   "metadata": {},
   "outputs": [],
   "source": [
    "f0_bern   = f0i_bern + f0ii_bern + f0iii_bern\n",
    "f1_bern   = p*E*(a+(1-a)*a)"
   ]
  },
  {
   "cell_type": "code",
   "execution_count": 25,
   "metadata": {},
   "outputs": [],
   "source": [
    "attack_full_bern  = (p0*f0_bern + p1*f1_bern + p*E*p1*a*(2*a*(1-a)/(1-2*a)))"
   ]
  },
  {
   "cell_type": "markdown",
   "metadata": {},
   "source": [
    "## Linear"
   ]
  },
  {
   "cell_type": "code",
   "execution_count": 26,
   "metadata": {},
   "outputs": [
    {
     "data": {
      "text/latex": [
       "$\\displaystyle a \\left(1 - a\\right) \\left(a + g \\left(1 - a\\right)\\right) \\left(p \\left(- \\lambda - \\left(- \\lambda + \\max\\left(0, - C - E + b\\right) + 1\\right) \\min\\left(1, e^{\\frac{C + E - b}{1 - \\lambda}}\\right) + 1\\right) + \\left(1 - p\\right) \\left(- \\lambda - \\left(- C + b - \\lambda + 1\\right) e^{\\frac{C - b}{1 - \\lambda}} + 1\\right)\\right)$"
      ],
      "text/plain": [
       "a*(1 - a)*(a + g*(1 - a))*(p*(-lambda - (-lambda + Max(0, -C - E + b) + 1)*Min(1, exp((C + E - b)/(1 - lambda))) + 1) + (1 - p)*(-lambda - (-C + b - lambda + 1)*exp((C - b)/(1 - lambda)) + 1))"
      ]
     },
     "execution_count": 26,
     "metadata": {},
     "output_type": "execute_result"
    }
   ],
   "source": [
    "f0i_lin   = a*p*(sp.Max(0,b-C-E)+(1-ell))*sp.Min(1,sp.exp(-(b-C-E)/(1-ell))) \\\n",
    "            + a*(1-p)*(1-ell+(b-C))*sp.exp(-(b-C)/(1-ell))\n",
    "f0ii_lin  = a**2 * (p*(1-ell-(sp.Max(0,b-C-E)+1-ell)*sp.Min(1,sp.exp(-(b-C-E)/(1-ell)))) \\\n",
    "            + (1-p)*(1-ell-(1-ell+(b-C))*sp.exp(-(b-C)/(1-ell))))\n",
    "f0iii_lin = a*((1-a)*(a+g*(1-a))) \\\n",
    "            * (p*(1-ell-(sp.Max(0,b-C-E)+1-ell)*sp.Min(1,sp.exp(-(b-C-E)/(1-ell)))) \\\n",
    "            + (1-p)*(1-ell-(1-ell+(b-C))*sp.exp(-(b-C)/(1-ell))))\n",
    "f0iii_lin"
   ]
  },
  {
   "cell_type": "code",
   "execution_count": 27,
   "metadata": {},
   "outputs": [
    {
     "data": {
      "text/latex": [
       "$\\displaystyle a \\left(1 - a\\right) \\left(a + g \\left(1 - a\\right)\\right) \\left(- \\lambda - \\left(b - \\lambda + 1\\right) e^{- \\frac{b}{1 - \\lambda}} + 1\\right)$"
      ],
      "text/plain": [
       "a*(1 - a)*(a + g*(1 - a))*(-lambda - (b - lambda + 1)*exp(-b/(1 - lambda)) + 1)"
      ]
     },
     "execution_count": 27,
     "metadata": {},
     "output_type": "execute_result"
    }
   ],
   "source": [
    "f0iii_lin.subs({p:0, C:0})"
   ]
  },
  {
   "cell_type": "code",
   "execution_count": 28,
   "metadata": {},
   "outputs": [],
   "source": [
    "f0_lin = f0i_lin + f0ii_lin + f0iii_lin\n",
    "f1_lin = (1-ell)*(a + 2*a*(1-a))"
   ]
  },
  {
   "cell_type": "code",
   "execution_count": 29,
   "metadata": {},
   "outputs": [],
   "source": [
    "attack_full_lin = p0*f0_lin + p1*f1_lin + (1-ell)*p1*a*a*(3-2*a)/(1-2*a)"
   ]
  },
  {
   "cell_type": "code",
   "execution_count": 30,
   "metadata": {},
   "outputs": [],
   "source": [
    "gammas = np.arange(0.001, 1.1, 0.1)\n",
    "alphas = np.arange(0.01, 0.50, 0.01)\n",
    "betas = np.arange(1.01, 5.01, 0.5)"
   ]
  },
  {
   "cell_type": "code",
   "execution_count": 31,
   "metadata": {},
   "outputs": [],
   "source": [
    "p_ = 0.5\n",
    "C_ = 1.\n",
    "E_ = 2."
   ]
  },
  {
   "cell_type": "code",
   "execution_count": 32,
   "metadata": {},
   "outputs": [],
   "source": [
    "subs = {C:C_, E:E_, p:p_}"
   ]
  },
  {
   "cell_type": "code",
   "execution_count": 33,
   "metadata": {},
   "outputs": [],
   "source": [
    "attack_fixed =  attack_full_fixed.subs({p1:p1_sym}).subs(subs)\n",
    "attack_lin   =  attack_full_lin.subs({p1:p1_sym}).subs(subs)"
   ]
  },
  {
   "cell_type": "code",
   "execution_count": 34,
   "metadata": {},
   "outputs": [],
   "source": [
    "full_rews = (attack_full_fixed + attack_full_bern + attack_full_lin).subs({p1:p1_sym}).subs(subs)"
   ]
  },
  {
   "cell_type": "code",
   "execution_count": null,
   "metadata": {},
   "outputs": [],
   "source": []
  }
 ],
 "metadata": {
  "kernelspec": {
   "display_name": "Python 3",
   "language": "python",
   "name": "python3"
  },
  "language_info": {
   "codemirror_mode": {
    "name": "ipython",
    "version": 3
   },
   "file_extension": ".py",
   "mimetype": "text/x-python",
   "name": "python",
   "nbconvert_exporter": "python",
   "pygments_lexer": "ipython3",
   "version": "3.8.16"
  }
 },
 "nbformat": 4,
 "nbformat_minor": 4
}
