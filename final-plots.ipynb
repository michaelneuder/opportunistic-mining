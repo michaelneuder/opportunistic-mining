{
 "cells": [
  {
   "cell_type": "code",
   "execution_count": 1,
   "metadata": {},
   "outputs": [],
   "source": [
    "import matplotlib.pyplot as plt\n",
    "import matplotlib.patches as mpatches\n",
    "import numpy as np\n",
    "from scipy.optimize import minimize\n",
    "import pandas as pd\n",
    "from scipy.stats import poisson, uniform, expon, pareto\n",
    "from tqdm import tqdm\n",
    "from mdptoolbox import mdp, util\n",
    "import itertools\n",
    "from scipy.sparse import csr_matrix, lil_matrix\n",
    "from matplotlib.patches import Patch\n",
    "import math\n",
    "import random\n",
    "import sympy as sp\n",
    "from sympy.printing.latex import print_latex"
   ]
  },
  {
   "cell_type": "markdown",
   "metadata": {},
   "source": [
    "# Linear rewards theo + sims\n",
    "\n",
    "```\n",
    "gamma = 0\n",
    "p     = [1/4, 1/2, 3/4]\n",
    "alpha = [0.2, 0.25, 0.3, 0.35, 0.4]\n",
    "beta  = np.arange(0.25, 4.1, 0.25) # sims\n",
    "beta  = np.arange(0.01, 4.1, 0.01) # theo\n",
    "E     = 1\n",
    "```"
   ]
  },
  {
   "cell_type": "code",
   "execution_count": 104,
   "metadata": {},
   "outputs": [],
   "source": [
    "p0, p0p, p1, p0pp = sp.symbols('p_0 p_{00} p_1 p_{000}')\n",
    "a, b, x, g, p, E  = sp.symbols('alpha beta x gamma p E')"
   ]
  },
  {
   "cell_type": "code",
   "execution_count": 105,
   "metadata": {},
   "outputs": [
    {
     "data": {
      "text/latex": [
       "$\\displaystyle \\frac{p_{1} \\cdot \\left(1 - p\\right) e^{- x}}{\\alpha p \\left(1 - \\min\\left(1, e^{E - \\beta}\\right)\\right) + \\alpha \\left(1 - p\\right) \\left(1 - e^{- \\beta}\\right)}$"
      ],
      "text/plain": [
       "p_1*(1 - p)*exp(-x)/(alpha*p*(1 - Min(1, exp(E - beta))) + alpha*(1 - p)*(1 - exp(-beta)))"
      ]
     },
     "execution_count": 105,
     "metadata": {},
     "output_type": "execute_result"
    }
   ],
   "source": [
    "p0fail = (1-p)*p1*sp.exp(-x) / (a*p*(1-sp.Min(1,sp.exp(-b+E)))+a*(1-p)*(1-sp.exp(-b)))\n",
    "p0fail"
   ]
  },
  {
   "cell_type": "code",
   "execution_count": 106,
   "metadata": {},
   "outputs": [
    {
     "data": {
      "text/latex": [
       "$\\displaystyle \\alpha^{2} \\cdot \\left(1 - e^{- \\beta + x}\\right) + \\alpha \\left(1 - \\alpha\\right) \\left(1 - e^{- \\beta + x}\\right) \\left(\\alpha + \\gamma \\left(1 - \\alpha\\right)\\right) + \\alpha e^{- \\beta + x}$"
      ],
      "text/plain": [
       "alpha**2*(1 - exp(-beta + x)) + alpha*(1 - alpha)*(1 - exp(-beta + x))*(alpha + gamma*(1 - alpha)) + alpha*exp(-beta + x)"
      ]
     },
     "execution_count": 106,
     "metadata": {},
     "output_type": "execute_result"
    }
   ],
   "source": [
    "f0failHi = a\n",
    "f0failLo = a*sp.exp(-b+x)+a**2*(1-sp.exp(-b+x)) + a*(1-a)*(1-sp.exp(-b+x))*(a+(1-a)*g)\n",
    "f0failLo"
   ]
  },
  {
   "cell_type": "code",
   "execution_count": 107,
   "metadata": {},
   "outputs": [],
   "source": [
    "loIntegrandFail = sp.simplify(p0fail * f0failLo)\n",
    "loIntegralFail  = sp.simplify(sp.integrate(loIntegrandFail, (x, 0, b)))"
   ]
  },
  {
   "cell_type": "code",
   "execution_count": 108,
   "metadata": {},
   "outputs": [],
   "source": [
    "hiIntegrandFail = sp.simplify(p0fail * f0failHi)\n",
    "hiIntegralFail  = sp.simplify(sp.integrate(hiIntegrandFail, (x, b, sp.oo)))"
   ]
  },
  {
   "cell_type": "code",
   "execution_count": 109,
   "metadata": {},
   "outputs": [
    {
     "data": {
      "text/latex": [
       "$\\displaystyle \\frac{p p_{1} e^{- x}}{\\alpha p \\left(1 - \\min\\left(1, e^{E - \\beta}\\right)\\right) + \\alpha \\left(1 - p\\right) \\left(1 - e^{- \\beta}\\right)}$"
      ],
      "text/plain": [
       "p*p_1*exp(-x)/(alpha*p*(1 - Min(1, exp(E - beta))) + alpha*(1 - p)*(1 - exp(-beta)))"
      ]
     },
     "execution_count": 109,
     "metadata": {},
     "output_type": "execute_result"
    }
   ],
   "source": [
    "p0success = p*p1*sp.exp(-x) / (a*p*(1-sp.Min(1,sp.exp(-b+E)))+a*(1-p)*(1-sp.exp(-b)))\n",
    "p0success"
   ]
  },
  {
   "cell_type": "code",
   "execution_count": 110,
   "metadata": {},
   "outputs": [
    {
     "data": {
      "text/latex": [
       "$\\displaystyle \\alpha^{2} \\cdot \\left(1 - e^{E - \\beta + x}\\right) + \\alpha \\left(1 - \\alpha\\right) \\left(1 - e^{E - \\beta + x}\\right) \\left(\\alpha + \\gamma \\left(1 - \\alpha\\right)\\right) + \\alpha e^{E - \\beta + x}$"
      ],
      "text/plain": [
       "alpha**2*(1 - exp(E - beta + x)) + alpha*(1 - alpha)*(1 - exp(E - beta + x))*(alpha + gamma*(1 - alpha)) + alpha*exp(E - beta + x)"
      ]
     },
     "execution_count": 110,
     "metadata": {},
     "output_type": "execute_result"
    }
   ],
   "source": [
    "f0successHi = a\n",
    "f0successLo = a*sp.exp(-b+E+x)+a**2*(1-sp.exp(-b+E+x)) + a*(1-a)*(1-sp.exp(-b+E+x))*(a+(1-a)*g)\n",
    "f0successLo"
   ]
  },
  {
   "cell_type": "code",
   "execution_count": 111,
   "metadata": {},
   "outputs": [],
   "source": [
    "loIntegrandSuccess = sp.simplify(p0success * f0successLo)\n",
    "loIntegralSuccess  = sp.simplify(sp.integrate(loIntegrandSuccess, (x, 0, sp.Max(0,b-E))))"
   ]
  },
  {
   "cell_type": "code",
   "execution_count": 112,
   "metadata": {},
   "outputs": [],
   "source": [
    "hiIntegrandSuccess = sp.simplify(p0success * f0successHi)\n",
    "hiIntegralSuccess  = sp.simplify(sp.integrate(hiIntegrandSuccess, (x, sp.Max(0,b-E), sp.oo)))"
   ]
  },
  {
   "cell_type": "code",
   "execution_count": 113,
   "metadata": {},
   "outputs": [
    {
     "data": {
      "text/latex": [
       "$\\displaystyle p_{1} \\left(- \\alpha^{2} + \\frac{2 \\alpha^{2}}{1 - 2 \\alpha} + 3 \\alpha\\right) + \\begin{cases} \\frac{p p_{1} \\left(\\left(- \\alpha^{2} \\gamma + \\alpha^{2} + 2 \\alpha \\gamma - 2 \\alpha - \\gamma\\right) e^{\\beta} + \\left(\\alpha^{2} \\gamma - \\alpha^{2} - 2 \\alpha \\gamma + 2 \\alpha + \\gamma\\right) e^{\\beta - \\max\\left(0, - E + \\beta\\right)} + \\left(\\alpha^{2} \\gamma - \\alpha^{2} - 2 \\alpha \\gamma + 2 \\alpha + \\gamma - 1\\right) e^{E} \\max\\left(0, - E + \\beta\\right)\\right)}{p e^{\\beta} - p - e^{\\beta} + 1} & \\text{for}\\: e^{E - \\beta} \\geq 1 \\wedge - p e^{\\beta} + p + e^{\\beta} \\neq 1 \\\\\\frac{p p_{1} \\left(- \\alpha^{2} \\gamma + \\alpha^{2} + 2 \\alpha \\gamma - 2 \\alpha - \\gamma + \\left(\\alpha^{2} \\gamma - \\alpha^{2} - 2 \\alpha \\gamma + 2 \\alpha + \\gamma - 1\\right) e^{E}\\right) \\max\\left(0, - E + \\beta\\right)}{p e^{\\beta} - p - e^{\\beta} + 1} & \\text{for}\\: \\left(e^{E - \\beta} \\geq 1 \\wedge - p e^{E} + p + e^{\\beta} \\neq 1\\right) \\vee e^{E - \\beta} \\geq 1 \\\\\\frac{p p_{1} \\left(\\left(- \\alpha^{2} \\gamma + \\alpha^{2} + 2 \\alpha \\gamma - 2 \\alpha - \\gamma\\right) e^{\\beta} + \\left(\\alpha^{2} \\gamma - \\alpha^{2} - 2 \\alpha \\gamma + 2 \\alpha + \\gamma\\right) e^{\\beta - \\max\\left(0, - E + \\beta\\right)} + \\left(\\alpha^{2} \\gamma - \\alpha^{2} - 2 \\alpha \\gamma + 2 \\alpha + \\gamma - 1\\right) e^{E} \\max\\left(0, - E + \\beta\\right)\\right)}{p e^{E} - p - e^{\\beta} + 1} & \\text{for}\\: - p e^{E} + p + e^{\\beta} \\neq 1 \\\\\\frac{p p_{1} \\left(- \\alpha^{2} \\gamma + \\alpha^{2} + 2 \\alpha \\gamma - 2 \\alpha - \\gamma + \\left(\\alpha^{2} \\gamma - \\alpha^{2} - 2 \\alpha \\gamma + 2 \\alpha + \\gamma - 1\\right) e^{E}\\right) \\max\\left(0, - E + \\beta\\right)}{p e^{E} - p - e^{\\beta} + 1} & \\text{otherwise} \\end{cases} + \\begin{cases} - \\frac{p p_{1} e^{\\beta - \\max\\left(0, - E + \\beta\\right)}}{p e^{\\beta} - p - e^{\\beta} + 1} & \\text{for}\\: e^{E - \\beta} \\geq 1 \\wedge - p e^{\\beta} + p + e^{\\beta} \\neq 1 \\\\\\begin{cases} \\text{NaN} & \\text{for}\\: \\frac{p p_{1}}{p e^{\\beta} - p - e^{\\beta} + 1} = 0 \\\\\\frac{p p_{1} \\left(\\left(- E + \\beta + \\left|{E - \\beta}\\right|\\right) \\left|{\\frac{p p_{1}}{p e^{\\beta} - p - e^{\\beta} + 1}}\\right| - \\infty\\right)}{2 \\left(p e^{\\beta} - p - e^{\\beta} + 1\\right) \\left|{\\frac{p p_{1}}{p e^{\\beta} - p - e^{\\beta} + 1}}\\right|} & \\text{otherwise} \\end{cases} & \\text{for}\\: \\left(e^{E - \\beta} \\geq 1 \\wedge - p e^{E} + p + e^{\\beta} \\neq 1\\right) \\vee e^{E - \\beta} \\geq 1 \\\\- \\frac{p p_{1} e^{\\beta - \\max\\left(0, - E + \\beta\\right)}}{p e^{E} - p - e^{\\beta} + 1} & \\text{for}\\: - p e^{E} + p + e^{\\beta} \\neq 1 \\\\\\begin{cases} \\text{NaN} & \\text{for}\\: \\frac{p p_{1}}{p e^{E} - p - e^{\\beta} + 1} = 0 \\\\\\frac{p p_{1} \\left(\\left(- E + \\beta + \\left|{E - \\beta}\\right|\\right) \\left|{\\frac{p p_{1}}{p e^{E} - p - e^{\\beta} + 1}}\\right| - \\infty\\right)}{2 \\left(p e^{E} - p - e^{\\beta} + 1\\right) \\left|{\\frac{p p_{1}}{p e^{E} - p - e^{\\beta} + 1}}\\right|} & \\text{otherwise} \\end{cases} & \\text{otherwise} \\end{cases} + \\begin{cases} \\frac{p_{1}}{e^{\\beta} - 1} & \\text{for}\\: e^{E - \\beta} \\geq 1 \\wedge e^{\\beta} \\neq 1 \\\\\\frac{p_{1} \\left(p - 1\\right)}{p e^{E} - p - e^{\\beta} + 1} & \\text{for}\\: - p e^{E} + p + e^{\\beta} \\neq 1 \\\\\\begin{cases} \\text{NaN} & \\text{for}\\: \\frac{p_{1} \\left(p - 1\\right)}{p e^{E} - p - e^{\\beta} + 1} = 0 \\\\\\frac{p_{1} \\left(p - 1\\right) \\left(- \\beta \\left|{\\frac{p_{1} \\left(p - 1\\right)}{p e^{E} - p - e^{\\beta} + 1}}\\right| + \\infty\\right)}{\\left(p e^{E} - p - e^{\\beta} + 1\\right) \\left|{\\frac{p_{1} \\left(p - 1\\right)}{p e^{E} - p - e^{\\beta} + 1}}\\right|} & \\text{otherwise} \\end{cases} & \\text{for}\\: \\beta \\neq 0 \\\\\\begin{cases} \\text{NaN} & \\text{for}\\: \\frac{p_{1}}{e^{\\beta} - 1} = 0 \\\\- \\frac{p_{1} \\left(\\beta \\left|{\\frac{p_{1}}{e^{\\beta} - 1}}\\right| - \\infty\\right)}{\\left(e^{\\beta} - 1\\right) \\left|{\\frac{p_{1}}{e^{\\beta} - 1}}\\right|} & \\text{otherwise} \\end{cases} & \\text{for}\\: \\left(e^{E - \\beta} \\geq 1 \\wedge - p e^{E} + p + e^{\\beta} \\neq 1\\right) \\vee e^{E - \\beta} \\geq 1 \\\\\\begin{cases} \\text{NaN} & \\text{for}\\: \\frac{p_{1} \\left(p - 1\\right)}{p e^{E} - p - e^{\\beta} + 1} = 0 \\\\\\frac{p_{1} \\left(p - 1\\right) \\left(- \\beta \\left|{\\frac{p_{1} \\left(p - 1\\right)}{p e^{E} - p - e^{\\beta} + 1}}\\right| + \\infty\\right)}{\\left(p e^{E} - p - e^{\\beta} + 1\\right) \\left|{\\frac{p_{1} \\left(p - 1\\right)}{p e^{E} - p - e^{\\beta} + 1}}\\right|} & \\text{otherwise} \\end{cases} & \\text{otherwise} \\end{cases} + \\begin{cases} - \\frac{p_{1} \\left(\\alpha^{2} \\gamma - \\alpha^{2} - 2 \\alpha \\gamma + 2 \\alpha + \\beta \\left(\\alpha^{2} \\gamma - \\alpha^{2} - 2 \\alpha \\gamma + 2 \\alpha + \\gamma - 1\\right) + \\gamma - \\left(\\alpha^{2} \\gamma - \\alpha^{2} - 2 \\alpha \\gamma + 2 \\alpha + \\gamma\\right) e^{\\beta}\\right)}{e^{\\beta} - 1} & \\text{for}\\: e^{E - \\beta} \\geq 1 \\wedge e^{\\beta} \\neq 1 \\\\\\frac{p_{1} \\left(- \\alpha^{2} \\gamma p + \\alpha^{2} \\gamma + \\alpha^{2} p - \\alpha^{2} + 2 \\alpha \\gamma p - 2 \\alpha \\gamma - 2 \\alpha p + 2 \\alpha - \\beta \\left(\\alpha^{2} \\gamma p - \\alpha^{2} \\gamma - \\alpha^{2} p + \\alpha^{2} - 2 \\alpha \\gamma p + 2 \\alpha \\gamma + 2 \\alpha p - 2 \\alpha + \\gamma p - \\gamma - p + 1\\right) - \\gamma p + \\gamma + \\left(\\alpha^{2} \\gamma p - \\alpha^{2} \\gamma - \\alpha^{2} p + \\alpha^{2} - 2 \\alpha \\gamma p + 2 \\alpha \\gamma + 2 \\alpha p - 2 \\alpha + \\gamma p - \\gamma\\right) e^{\\beta}\\right)}{p e^{E} - p - e^{\\beta} + 1} & \\text{for}\\: - p e^{E} + p + e^{\\beta} \\neq 1 \\\\\\frac{\\beta p_{1} \\left(p - 1\\right)}{p e^{E} - p - e^{\\beta} + 1} & \\text{for}\\: \\beta \\neq 0 \\\\\\frac{\\beta p_{1}}{e^{\\beta} - 1} & \\text{for}\\: \\left(e^{E - \\beta} \\geq 1 \\wedge - p e^{E} + p + e^{\\beta} \\neq 1\\right) \\vee e^{E - \\beta} \\geq 1 \\\\\\frac{\\beta p_{1} \\left(p - 1\\right)}{p e^{E} - p - e^{\\beta} + 1} & \\text{otherwise} \\end{cases}$"
      ],
      "text/plain": [
       "p_1*(-alpha**2 + 2*alpha**2/(1 - 2*alpha) + 3*alpha) + Piecewise((p*p_1*((-alpha**2*gamma + alpha**2 + 2*alpha*gamma - 2*alpha - gamma)*exp(beta) + (alpha**2*gamma - alpha**2 - 2*alpha*gamma + 2*alpha + gamma)*exp(beta - Max(0, -E + beta)) + (alpha**2*gamma - alpha**2 - 2*alpha*gamma + 2*alpha + gamma - 1)*exp(E)*Max(0, -E + beta))/(p*exp(beta) - p - exp(beta) + 1), (exp(E - beta) >= 1) & Ne(-p*exp(beta) + p + exp(beta), 1)), (p*p_1*(-alpha**2*gamma + alpha**2 + 2*alpha*gamma - 2*alpha - gamma + (alpha**2*gamma - alpha**2 - 2*alpha*gamma + 2*alpha + gamma - 1)*exp(E))*Max(0, -E + beta)/(p*exp(beta) - p - exp(beta) + 1), (exp(E - beta) >= 1) | ((exp(E - beta) >= 1) & Ne(-p*exp(E) + p + exp(beta), 1))), (p*p_1*((-alpha**2*gamma + alpha**2 + 2*alpha*gamma - 2*alpha - gamma)*exp(beta) + (alpha**2*gamma - alpha**2 - 2*alpha*gamma + 2*alpha + gamma)*exp(beta - Max(0, -E + beta)) + (alpha**2*gamma - alpha**2 - 2*alpha*gamma + 2*alpha + gamma - 1)*exp(E)*Max(0, -E + beta))/(p*exp(E) - p - exp(beta) + 1), Ne(-p*exp(E) + p + exp(beta), 1)), (p*p_1*(-alpha**2*gamma + alpha**2 + 2*alpha*gamma - 2*alpha - gamma + (alpha**2*gamma - alpha**2 - 2*alpha*gamma + 2*alpha + gamma - 1)*exp(E))*Max(0, -E + beta)/(p*exp(E) - p - exp(beta) + 1), True)) + Piecewise((-p*p_1*exp(beta - Max(0, -E + beta))/(p*exp(beta) - p - exp(beta) + 1), (exp(E - beta) >= 1) & Ne(-p*exp(beta) + p + exp(beta), 1)), (Piecewise((nan, Eq(p*p_1/(p*exp(beta) - p - exp(beta) + 1), 0)), (p*p_1*((-E + beta + Abs(E - beta))*Abs(p*p_1/(p*exp(beta) - p - exp(beta) + 1)) - oo)/(2*(p*exp(beta) - p - exp(beta) + 1)*Abs(p*p_1/(p*exp(beta) - p - exp(beta) + 1))), True)), (exp(E - beta) >= 1) | ((exp(E - beta) >= 1) & Ne(-p*exp(E) + p + exp(beta), 1))), (-p*p_1*exp(beta - Max(0, -E + beta))/(p*exp(E) - p - exp(beta) + 1), Ne(-p*exp(E) + p + exp(beta), 1)), (Piecewise((nan, Eq(p*p_1/(p*exp(E) - p - exp(beta) + 1), 0)), (p*p_1*((-E + beta + Abs(E - beta))*Abs(p*p_1/(p*exp(E) - p - exp(beta) + 1)) - oo)/(2*(p*exp(E) - p - exp(beta) + 1)*Abs(p*p_1/(p*exp(E) - p - exp(beta) + 1))), True)), True)) + Piecewise((p_1/(exp(beta) - 1), Ne(exp(beta), 1) & (exp(E - beta) >= 1)), (p_1*(p - 1)/(p*exp(E) - p - exp(beta) + 1), Ne(-p*exp(E) + p + exp(beta), 1)), (Piecewise((nan, Eq(p_1*(p - 1)/(p*exp(E) - p - exp(beta) + 1), 0)), (p_1*(p - 1)*(-beta*Abs(p_1*(p - 1)/(p*exp(E) - p - exp(beta) + 1)) + oo)/((p*exp(E) - p - exp(beta) + 1)*Abs(p_1*(p - 1)/(p*exp(E) - p - exp(beta) + 1))), True)), Ne(beta, 0)), (Piecewise((nan, Eq(p_1/(exp(beta) - 1), 0)), (-p_1*(beta*Abs(p_1/(exp(beta) - 1)) - oo)/((exp(beta) - 1)*Abs(p_1/(exp(beta) - 1))), True)), (exp(E - beta) >= 1) | ((exp(E - beta) >= 1) & Ne(-p*exp(E) + p + exp(beta), 1))), (Piecewise((nan, Eq(p_1*(p - 1)/(p*exp(E) - p - exp(beta) + 1), 0)), (p_1*(p - 1)*(-beta*Abs(p_1*(p - 1)/(p*exp(E) - p - exp(beta) + 1)) + oo)/((p*exp(E) - p - exp(beta) + 1)*Abs(p_1*(p - 1)/(p*exp(E) - p - exp(beta) + 1))), True)), True)) + Piecewise((-p_1*(alpha**2*gamma - alpha**2 - 2*alpha*gamma + 2*alpha + beta*(alpha**2*gamma - alpha**2 - 2*alpha*gamma + 2*alpha + gamma - 1) + gamma - (alpha**2*gamma - alpha**2 - 2*alpha*gamma + 2*alpha + gamma)*exp(beta))/(exp(beta) - 1), Ne(exp(beta), 1) & (exp(E - beta) >= 1)), (p_1*(-alpha**2*gamma*p + alpha**2*gamma + alpha**2*p - alpha**2 + 2*alpha*gamma*p - 2*alpha*gamma - 2*alpha*p + 2*alpha - beta*(alpha**2*gamma*p - alpha**2*gamma - alpha**2*p + alpha**2 - 2*alpha*gamma*p + 2*alpha*gamma + 2*alpha*p - 2*alpha + gamma*p - gamma - p + 1) - gamma*p + gamma + (alpha**2*gamma*p - alpha**2*gamma - alpha**2*p + alpha**2 - 2*alpha*gamma*p + 2*alpha*gamma + 2*alpha*p - 2*alpha + gamma*p - gamma)*exp(beta))/(p*exp(E) - p - exp(beta) + 1), Ne(-p*exp(E) + p + exp(beta), 1)), (beta*p_1*(p - 1)/(p*exp(E) - p - exp(beta) + 1), Ne(beta, 0)), (beta*p_1/(exp(beta) - 1), (exp(E - beta) >= 1) | ((exp(E - beta) >= 1) & Ne(-p*exp(E) + p + exp(beta), 1))), (beta*p_1*(p - 1)/(p*exp(E) - p - exp(beta) + 1), True))"
      ]
     },
     "execution_count": 113,
     "metadata": {},
     "output_type": "execute_result"
    }
   ],
   "source": [
    "full = loIntegralFail + hiIntegralFail + loIntegralSuccess + hiIntegralSuccess + p1*(3*a - a**2 + 2*a**2/(1-2*a))\n",
    "full"
   ]
  },
  {
   "cell_type": "code",
   "execution_count": 114,
   "metadata": {},
   "outputs": [
    {
     "data": {
      "text/latex": [
       "$\\displaystyle \\frac{1}{1 + \\frac{1}{\\alpha p \\left(1 - \\min\\left(1, e^{E - \\beta}\\right)\\right) + \\alpha \\left(1 - p\\right) \\left(1 - e^{- \\beta}\\right)} + \\frac{1 - \\alpha}{1 - 2 \\alpha}}$"
      ],
      "text/plain": [
       "1/(1 + 1/(alpha*p*(1 - Min(1, exp(E - beta))) + alpha*(1 - p)*(1 - exp(-beta))) + (1 - alpha)/(1 - 2*alpha))"
      ]
     },
     "execution_count": 114,
     "metadata": {},
     "output_type": "execute_result"
    }
   ],
   "source": [
    "p1_solved = 1/(1/(a*p*(1-sp.Min(1,sp.exp(-b+E))) + a*(1-p)*(1-sp.exp(-b))) + 1 + (1-a)/(1-2*a))\n",
    "p1_solved"
   ]
  },
  {
   "cell_type": "code",
   "execution_count": 115,
   "metadata": {},
   "outputs": [
    {
     "data": {
      "text/plain": [
       "<function _lambdifygenerated(alpha, beta, gamma, p, E)>"
      ]
     },
     "execution_count": 115,
     "metadata": {},
     "output_type": "execute_result"
    }
   ],
   "source": [
    "fullLambda = sp.lambdify((a, b, g, p, E), full.evalf(subs={p1:p1_solved}))\n",
    "fullLambda"
   ]
  },
  {
   "cell_type": "code",
   "execution_count": 116,
   "metadata": {},
   "outputs": [],
   "source": [
    "alphas = [0.2, 0.25, 0.3, 0.35, 0.4]\n",
    "betas  = np.arange(0.01, 4, 0.01)\n",
    "ps     = [0.25, 0.5, 0.75] # using E=1"
   ]
  },
  {
   "cell_type": "code",
   "execution_count": 117,
   "metadata": {},
   "outputs": [
    {
     "data": {
      "text/plain": [
       "(5, 399, 3)"
      ]
     },
     "execution_count": 117,
     "metadata": {},
     "output_type": "execute_result"
    }
   ],
   "source": [
    "theoRes = []\n",
    "for a in alphas:\n",
    "    temp1 = []\n",
    "    for b in betas:\n",
    "        temp2 = []\n",
    "        for p in ps:\n",
    "            temp2.append(fullLambda(alpha=a, beta=b, gamma=0.0, p=p, E=1.))\n",
    "        temp1.append(temp2)\n",
    "    theoRes.append(temp1)\n",
    "theoRes = np.array(theoRes)\n",
    "theoRes.shape"
   ]
  },
  {
   "cell_type": "code",
   "execution_count": 86,
   "metadata": {},
   "outputs": [
    {
     "data": {
      "text/plain": [
       "array([0.  , 0.25, 0.5 , 0.75, 1.  , 1.25, 1.5 , 1.75, 2.  , 2.25, 2.5 ,\n",
       "       2.75, 3.  , 3.25, 3.5 , 3.75, 4.  ])"
      ]
     },
     "execution_count": 86,
     "metadata": {},
     "output_type": "execute_result"
    }
   ],
   "source": [
    "simBetas  = np.arange(0., 4.01, 0.25)\n",
    "simBetas"
   ]
  },
  {
   "cell_type": "code",
   "execution_count": 121,
   "metadata": {},
   "outputs": [
    {
     "name": "stderr",
     "output_type": "stream",
     "text": [
      "100%|██████████| 17/17 [02:17<00:00,  8.09s/it]\n",
      "100%|██████████| 17/17 [02:20<00:00,  8.25s/it]\n",
      "100%|██████████| 17/17 [02:24<00:00,  8.52s/it]\n",
      "100%|██████████| 17/17 [02:25<00:00,  8.54s/it]\n",
      "100%|██████████| 17/17 [02:23<00:00,  8.42s/it]\n"
     ]
    },
    {
     "data": {
      "text/plain": [
       "(5, 17, 3)"
      ]
     },
     "execution_count": 121,
     "metadata": {},
     "output_type": "execute_result"
    }
   ],
   "source": [
    "simsRes = []\n",
    "for a in alphas:\n",
    "    temp1 = []\n",
    "    for b in tqdm(simBetas):\n",
    "        temp2 = []\n",
    "        for p in ps:\n",
    "            _, _, _, _, honestLin, attackLin = simAllRews(a=a, b=b, p=p, E=1, n=int(5e5))\n",
    "            temp2.append(attackLin/(attackLin+honestLin))\n",
    "        temp1.append(temp2)\n",
    "    simsRes.append(temp1)\n",
    "simsRes = np.array(simsRes)\n",
    "simsRes.shape"
   ]
  },
  {
   "cell_type": "code",
   "execution_count": 122,
   "metadata": {},
   "outputs": [
    {
     "data": {
      "image/png": "[encoded data removed]",
      "text/plain": [
       "<Figure size 1008x288 with 3 Axes>"
      ]
     },
     "metadata": {
      "needs_background": "light"
     },
     "output_type": "display_data"
    }
   ],
   "source": [
    "f, axarr = plt.subplots(ncols=3, figsize=(14,4))\n",
    "\n",
    "colors = ['maroon', 'lightseagreen', 'darkmagenta', 'peru', 'dodgerblue'] \n",
    "handles, labels = [], []\n",
    "\n",
    "for i in range(3):\n",
    "    ax = axarr[i]\n",
    "    for j, a in enumerate(alphas):\n",
    "        line, = ax.plot(betas, theoRes[j,:,i], linewidth=0.8, color=colors[j], \n",
    "                        label=r'$\\alpha$={:0.2f} theo'.format(a))\n",
    "        if i == 0:\n",
    "            handles.append(line)\n",
    "            labels.append(r'$\\alpha$={:0.2f} theo'.format(a))\n",
    "\n",
    "for i in range(3):\n",
    "    ax = axarr[i]\n",
    "    for j, a in enumerate(alphas):\n",
    "        marker, = ax.plot(simBetas, simsRes[j,:,i], marker='o', color=colors[j], linestyle='none', \n",
    "                          fillstyle='none', label=r'$\\alpha$={:0.2f} sim'.format(a))\n",
    "        if i == 0:\n",
    "            handles.append(marker)\n",
    "            labels.append(r'$\\alpha$={:0.2f} sim'.format(a))\n",
    "\n",
    "\n",
    "for i, ax in enumerate(axarr):\n",
    "    ax.grid(alpha=0.2)\n",
    "    ax.set_xlabel(r'$\\beta$', size=14)\n",
    "    ax.set_title(r'$p=${:0.2f}'.format(ps[i]))\n",
    "\n",
    "axarr[0].set_ylabel(r'linear rewards ($R_\\ell)$', size=14)\n",
    "f.legend(handles, labels, loc='upper center', bbox_to_anchor=(0.5, -0.02), ncol=2)\n",
    "\n",
    "plt.savefig('out.png', dpi=150, bbox_inches='tight', facecolor='white')\n",
    "plt.show()"
   ]
  },
  {
   "cell_type": "markdown",
   "metadata": {},
   "source": [
    "# block rewards theo + sims\n",
    "\n",
    "```\n",
    "gamma = 0\n",
    "p     = [1/4, 1/2, 3/4]\n",
    "alpha = [0.2, 0.25, 0.3, 0.35, 0.4]\n",
    "beta  = np.arange(0.25, 4.1, 0.25) # sims\n",
    "beta  = np.arange(0.01, 4.1, 0.01) # theo\n",
    "E     = 1\n",
    "```"
   ]
  },
  {
   "cell_type": "code",
   "execution_count": null,
   "metadata": {},
   "outputs": [],
   "source": [
    "def honestBlocksBernoulli(a, b, p, E):\n",
    "    expr1 = (1-a)/(a*p*(1-np.exp(-b+E))+a*(1-p)*(1-np.exp(-b)))\n",
    "    expr2 = expr1 + 2*((1-a)**2) + a*(1-a)\n",
    "    return expr2\n",
    "\n",
    "def attackBlocksBernoulli(a, b, p, E):\n",
    "    expr1 = (a*p*np.exp(-b+E)+a*(1-p)*np.exp(-b))/(a*p*(1-np.exp(-b+E))+a*(1-p)*(1-np.exp(-b)))\n",
    "    expr2 = (1-a)*(a**3) / ((1-2*a)*((1-a)**2))\n",
    "    expr3 = expr1 + 2*a*(1-a) + a**2 + a*(2-a)/(1-a) + expr2\n",
    "    return expr3\n",
    "\n",
    "def fixRewTheo(a, b, p, E):\n",
    "    A = attackBlocksBernoulli(a, b, p, E)\n",
    "    H = honestBlocksBernoulli(a, b, p, E)\n",
    "    return A/(A+H)"
   ]
  },
  {
   "cell_type": "code",
   "execution_count": 54,
   "metadata": {},
   "outputs": [],
   "source": [
    "def simAllRews(a, b, p, E, n):\n",
    "    gamma = 0\n",
    "    state = [0,0] # (attacker, honest)\n",
    "\n",
    "    honestBlcs = 0\n",
    "    attackBlcs = 0\n",
    "    honestRews = 0\n",
    "    attackRews = 0\n",
    "    honestBern = 0\n",
    "    attackBern = 0\n",
    "    curTime    = 0\n",
    "    lastState0 = 0\n",
    "    lastAttBlc = 0\n",
    "    prevBern   = 0\n",
    "    for _ in range(n):\n",
    "        attBlock = np.random.binomial(1, a)\n",
    "        execRews = np.random.exponential()\n",
    "        bernRews = np.random.binomial(1, p=p)\n",
    "        curTime += execRews\n",
    "\n",
    "        if state == [0,0]:\n",
    "            if attBlock:\n",
    "                if bernRews and execRews < (b-E):\n",
    "                    state      = [1,0]\n",
    "                    lastAttBlc = curTime\n",
    "                    prevBern   = bernRews\n",
    "                elif not bernRews and execRews < b:\n",
    "                    state      = [1,0]\n",
    "                    lastAttBlc = curTime\n",
    "                    prevBern   = 0\n",
    "                else:\n",
    "                    attackBlcs += 1\n",
    "                    attackRews += execRews\n",
    "                    attackBern += bernRews\n",
    "                    lastState0  = curTime\n",
    "                    lastAttBlc  = curTime\n",
    "            else:\n",
    "                honestBlcs += 1\n",
    "                honestRews += execRews\n",
    "                honestBern += bernRews\n",
    "                lastState0  = curTime\n",
    "                lastAttBlc  = curTime\n",
    "            continue\n",
    "\n",
    "        if state == [1,0]:\n",
    "            if attBlock:\n",
    "                state = [2,0]\n",
    "                lastAttBlc = curTime\n",
    "                attackBern += bernRews + prevBern\n",
    "                prevBern   = 0\n",
    "            else:\n",
    "                sample        = np.random.uniform()\n",
    "                nextExecRews  = np.random.exponential()\n",
    "                nextBern      = np.random.binomial(1, p=p)\n",
    "                if sample < a:\n",
    "                    attackBlcs += 2\n",
    "                    attackRews += (curTime - lastState0) + nextExecRews\n",
    "                    attackBern += (prevBern + nextBern)\n",
    "                elif sample <= a + ((1-a)*gamma):\n",
    "                    attackBlcs += 1\n",
    "                    honestBlcs += 1\n",
    "                    attackRews += (lastAttBlc - lastState0)\n",
    "                    honestRews += (curTime - lastAttBlc) + nextExecRews\n",
    "                    attackBern += prevBern\n",
    "                    honestBern += nextBern\n",
    "                else:\n",
    "                    honestBlcs += 2\n",
    "                    honestRews += (curTime - lastState0) + nextExecRews\n",
    "                    honestBern += (prevBern + nextBern)\n",
    "                curTime    += nextExecRews\n",
    "                lastState0  = curTime\n",
    "                lastAttBlc  = curTime\n",
    "                prevBern    = 0\n",
    "                state = [0,0]\n",
    "            continue\n",
    "\n",
    "        if attBlock:\n",
    "            state[0] += 1\n",
    "            lastAttBlc = curTime\n",
    "        else:\n",
    "            state[1] += 1\n",
    "\n",
    "        diff = state[0] - state[1]\n",
    "        if diff == 1:\n",
    "            attackBlcs += state[0]\n",
    "            if state[0] < 2:\n",
    "                raise KeyError(\"here\")\n",
    "            attackBern += (state[0]-2) * p * E\n",
    "            attackRews += (lastAttBlc - lastState0)\n",
    "\n",
    "            # 0'' state\n",
    "            remRews = (curTime - lastAttBlc)\n",
    "            attBlock = np.random.binomial(1, a)\n",
    "            execRews = np.random.exponential()\n",
    "            bernRews = np.random.binomial(1, p=p)\n",
    "            curTime += execRews\n",
    "            if attBlock:\n",
    "                attackBlcs += 1\n",
    "                attackRews += (remRews + execRews)\n",
    "                attackBern += bernRews\n",
    "            else:\n",
    "                honestBlcs += 1\n",
    "                honestRews += (remRews + execRews)\n",
    "                honestBern += bernRews\n",
    "\n",
    "            lastState0  = curTime\n",
    "            lastAttBlc  = curTime\n",
    "            state = [0,0]\n",
    " \n",
    "    return honestBlcs, attackBlcs, honestBern, attackBern, honestRews, attackRews"
   ]
  }
 ],
 "metadata": {
  "kernelspec": {
   "display_name": "Python 3",
   "language": "python",
   "name": "python3"
  },
  "language_info": {
   "codemirror_mode": {
    "name": "ipython",
    "version": 3
   },
   "file_extension": ".py",
   "mimetype": "text/x-python",
   "name": "python",
   "nbconvert_exporter": "python",
   "pygments_lexer": "ipython3",
   "version": "3.8.16"
  }
 },
 "nbformat": 4,
 "nbformat_minor": 4
}
