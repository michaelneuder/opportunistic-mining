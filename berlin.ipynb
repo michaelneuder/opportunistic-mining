{
 "cells": [
  {
   "cell_type": "code",
   "execution_count": 1,
   "metadata": {},
   "outputs": [],
   "source": [
    "import matplotlib.pyplot as plt\n",
    "import matplotlib.patches as mpatches\n",
    "import numpy as np\n",
    "from scipy.optimize import minimize\n",
    "import pandas as pd\n",
    "from scipy.stats import poisson, uniform, expon, pareto\n",
    "from tqdm import tqdm\n",
    "from mdptoolbox import mdp, util\n",
    "import itertools\n",
    "from scipy.sparse import csr_matrix, lil_matrix\n",
    "from matplotlib.patches import Patch\n",
    "import math\n",
    "import random\n",
    "import sympy as sp\n",
    "from sympy.printing.latex import print_latex"
   ]
  },
  {
   "cell_type": "code",
   "execution_count": 152,
   "metadata": {},
   "outputs": [],
   "source": [
    "p0, p0p, p1, p0pp = sp.symbols('p_0 p_{00} p_1 p_{000}')\n",
    "a, b, x, g, p, E  = sp.symbols('a b x g p E')"
   ]
  },
  {
   "cell_type": "code",
   "execution_count": 153,
   "metadata": {},
   "outputs": [
    {
     "data": {
      "text/latex": [
       "$\\displaystyle \\frac{p_{1} \\cdot \\left(1 - p\\right) e^{- x}}{a p \\left(1 - e^{E - b}\\right) + a \\left(1 - p\\right) \\left(1 - e^{- b}\\right)}$"
      ],
      "text/plain": [
       "p_1*(1 - p)*exp(-x)/(a*p*(1 - exp(E - b)) + a*(1 - p)*(1 - exp(-b)))"
      ]
     },
     "execution_count": 153,
     "metadata": {},
     "output_type": "execute_result"
    }
   ],
   "source": [
    "p0fail = (1-p)*p1*sp.exp(-x) / (a*p*(1-sp.exp(-b+E))+a*(1-p)*(1-sp.exp(-b)))\n",
    "p0fail"
   ]
  },
  {
   "cell_type": "code",
   "execution_count": 154,
   "metadata": {},
   "outputs": [
    {
     "data": {
      "text/latex": [
       "$\\displaystyle a^{2} \\cdot \\left(1 - e^{- b + x}\\right) + a \\left(1 - a\\right) \\left(1 - e^{- b + x}\\right) \\left(a + g \\left(1 - a\\right)\\right) + a e^{- b + x}$"
      ],
      "text/plain": [
       "a**2*(1 - exp(-b + x)) + a*(1 - a)*(1 - exp(-b + x))*(a + g*(1 - a)) + a*exp(-b + x)"
      ]
     },
     "execution_count": 154,
     "metadata": {},
     "output_type": "execute_result"
    }
   ],
   "source": [
    "f0failHi = a\n",
    "f0failLo = a*sp.exp(-b+x)+a**2*(1-sp.exp(-b+x)) + a*(1-a)*(1-sp.exp(-b+x))*(a+(1-a)*g)\n",
    "f0failLo"
   ]
  },
  {
   "cell_type": "code",
   "execution_count": 137,
   "metadata": {},
   "outputs": [
    {
     "data": {
      "text/latex": [
       "$\\displaystyle \\frac{1}{1 + \\frac{1}{a p \\left(1 - e^{E - b}\\right) + a \\left(1 - p\\right) \\left(1 - e^{- b}\\right)} + \\frac{1 - a}{1 - 2 a}}$"
      ],
      "text/plain": [
       "1/(1 + 1/(a*p*(1 - exp(E - b)) + a*(1 - p)*(1 - exp(-b))) + (1 - a)/(1 - 2*a))"
      ]
     },
     "execution_count": 137,
     "metadata": {},
     "output_type": "execute_result"
    }
   ],
   "source": [
    "p1_solved = 1/(1/(a*p*(1-sp.exp(-b+E)) + a*(1-p)*(1-sp.exp(-b))) + 1 + (1-a)/(1-2*a))\n",
    "p1_solved"
   ]
  },
  {
   "cell_type": "code",
   "execution_count": 149,
   "metadata": {},
   "outputs": [
    {
     "data": {
      "text/latex": [
       "$\\displaystyle 0.124637683091749$"
      ],
      "text/plain": [
       "0.124637683091749"
      ]
     },
     "execution_count": 149,
     "metadata": {},
     "output_type": "execute_result"
    }
   ],
   "source": [
    "p1_solved.evalf(subs={p:0}).evalf(subs={a:0.3, b:1.})"
   ]
  },
  {
   "cell_type": "markdown",
   "metadata": {},
   "source": [
    "loIntegrandFail = sp.simplify(p0fail.evalf(subs={p1:p1_solved}) * f0failLo)\n",
    "loIntegralFail  = sp.simplify(sp.integrate(loIntegrandFail, (x, 0, b)))"
   ]
  },
  {
   "cell_type": "code",
   "execution_count": 155,
   "metadata": {},
   "outputs": [],
   "source": [
    "loIntegrandFail = sp.simplify(p0fail * f0failLo)\n",
    "loIntegralFail  = sp.simplify(sp.integrate(loIntegrandFail, (x, 0, b)))"
   ]
  },
  {
   "cell_type": "code",
   "execution_count": 157,
   "metadata": {},
   "outputs": [
    {
     "data": {
      "text/latex": [
       "$\\displaystyle p_{1} \\cdot \\left(0.20483141363403 g + 0.79516858636597\\right)$"
      ],
      "text/plain": [
       "p_1*(0.20483141363403*g + 0.79516858636597)"
      ]
     },
     "execution_count": 157,
     "metadata": {},
     "output_type": "execute_result"
    }
   ],
   "source": [
    "sp.simplify(loIntegralFail.evalf(subs={p:0, a:0.3, b:1.}))"
   ]
  },
  {
   "cell_type": "markdown",
   "metadata": {},
   "source": [
    "hiIntegrandFail = sp.simplify(p0fail.evalf(subs={p1:p1_solved}) * f0failHi)\n",
    "hiIntegralFail  = sp.simplify(sp.integrate(hiIntegrandFail, (x, b, sp.oo)))"
   ]
  },
  {
   "cell_type": "code",
   "execution_count": 158,
   "metadata": {},
   "outputs": [],
   "source": [
    "hiIntegrandFail = sp.simplify(p0fail * f0failHi)\n",
    "hiIntegralFail  = sp.simplify(sp.integrate(hiIntegrandFail, (x, b, sp.oo)))"
   ]
  },
  {
   "cell_type": "code",
   "execution_count": 160,
   "metadata": {},
   "outputs": [
    {
     "data": {
      "text/latex": [
       "$\\displaystyle 0.581976706869326 p_{1}$"
      ],
      "text/plain": [
       "0.581976706869326*p_1"
      ]
     },
     "execution_count": 160,
     "metadata": {},
     "output_type": "execute_result"
    }
   ],
   "source": [
    "sp.simplify(hiIntegralFail.evalf(subs={p:0, a:0.3, b:1.}))"
   ]
  },
  {
   "cell_type": "code",
   "execution_count": 140,
   "metadata": {},
   "outputs": [
    {
     "data": {
      "text/latex": [
       "$\\displaystyle \\frac{p p_{1} e^{E - x}}{a p \\left(1 - e^{E - b}\\right) + a \\left(1 - p\\right) \\left(1 - e^{- b}\\right)}$"
      ],
      "text/plain": [
       "p*p_1*exp(E - x)/(a*p*(1 - exp(E - b)) + a*(1 - p)*(1 - exp(-b)))"
      ]
     },
     "execution_count": 140,
     "metadata": {},
     "output_type": "execute_result"
    }
   ],
   "source": [
    "p0success = p*p1*sp.exp(-x+E) / (a*p*(1-sp.exp(-b+E))+a*(1-p)*(1-sp.exp(-b)))\n",
    "p0success"
   ]
  },
  {
   "cell_type": "code",
   "execution_count": 118,
   "metadata": {},
   "outputs": [
    {
     "data": {
      "text/latex": [
       "$\\displaystyle a^{2} \\cdot \\left(1 - e^{E - b + x}\\right) + a \\left(1 - a\\right) \\left(1 - e^{E - b + x}\\right) \\left(a + g \\left(1 - a\\right)\\right) + a e^{E - b + x}$"
      ],
      "text/plain": [
       "a**2*(1 - exp(E - b + x)) + a*(1 - a)*(1 - exp(E - b + x))*(a + g*(1 - a)) + a*exp(E - b + x)"
      ]
     },
     "execution_count": 118,
     "metadata": {},
     "output_type": "execute_result"
    }
   ],
   "source": [
    "f0successHi = a\n",
    "f0successLo = a*sp.exp(-b+E+x)+a**2*(1-sp.exp(-b+E+x)) + a*(1-a)*(1-sp.exp(-b+E+x))*(a+(1-a)*g)\n",
    "f0successLo"
   ]
  },
  {
   "cell_type": "code",
   "execution_count": 119,
   "metadata": {},
   "outputs": [],
   "source": [
    "loIntegrandSuccess = sp.simplify(p0success.evalf(subs={p1:p1_solved}) * f0successLo)\n",
    "loIntegralSuccess  = sp.simplify(sp.integrate(loIntegrandSuccess, (x, 0, b-E)))"
   ]
  },
  {
   "cell_type": "code",
   "execution_count": 120,
   "metadata": {},
   "outputs": [],
   "source": [
    "hiIntegrandSuccess = sp.simplify(p0success.evalf(subs={p1:p1_solved}) * f0successHi)\n",
    "hiIntegralSuccess  = sp.simplify(sp.integrate(hiIntegrandSuccess, (x, b-E, sp.oo)))"
   ]
  },
  {
   "cell_type": "code",
   "execution_count": 121,
   "metadata": {},
   "outputs": [
    {
     "data": {
      "text/latex": [
       "$\\displaystyle - a^{2} + \\frac{2 a^{2}}{1 - 2 a} + 3 a + \\begin{cases} \\frac{a \\left(0.666666666666667 a p - 0.666666666666667 a - 0.333333333333333 p + 0.333333333333333\\right)}{1.0 a^{2} p e^{E} - 1.0 a^{2} p - 1.0 a^{2} e^{b} + 1.0 a^{2} - 0.666666666666667 a p e^{E} + 0.666666666666667 a p - 0.666666666666667 a + 0.333333333333333 e^{b}} & \\text{for}\\: 1.0 a^{2} p e^{E} - 1.0 a^{2} p - 1.0 a^{2} e^{b} + 1.0 a^{2} - 0.666666666666667 a p e^{E} + 0.666666666666667 a p - 0.666666666666667 a + 0.333333333333333 e^{b} \\neq 0 \\\\\\begin{cases} \\text{NaN} & \\text{for}\\: \\frac{a \\left(2 a p - 2 a - p + 1\\right)}{3 a^{2} p e^{E} - 3 a^{2} p - 3 a^{2} e^{b} + 3 a^{2} - 2 a p e^{E} + 2 a p - 2 a + e^{b}} = 0 \\\\\\frac{a \\left(- b \\left(0.666666666666667 a p - 0.666666666666667 a - 0.333333333333333 p + 0.333333333333333\\right) \\left(3 a^{2} p e^{E} - 3 a^{2} p - 3 a^{2} e^{b} + 3 a^{2} - 2 a p e^{E} + 2 a p - 2 a + e^{b}\\right) \\left|{\\frac{a \\left(2 a p - 2 a - p + 1\\right)}{3 a^{2} p e^{E} - 3 a^{2} p - 3 a^{2} e^{b} + 3 a^{2} - 2 a p e^{E} + 2 a p - 2 a + e^{b}}}\\right| + \\infty \\left(2 a p - 2 a - p + 1\\right) \\left(1.0 a^{2} p e^{E} - 1.0 a^{2} p - 1.0 a^{2} e^{b} + 1.0 a^{2} - 0.666666666666667 a p e^{E} + 0.666666666666667 a p - 0.666666666666667 a + 0.333333333333333 e^{b}\\right)\\right)}{\\left(1.0 a^{2} p e^{E} - 1.0 a^{2} p - 1.0 a^{2} e^{b} + 1.0 a^{2} - 0.666666666666667 a p e^{E} + 0.666666666666667 a p - 0.666666666666667 a + 0.333333333333333 e^{b}\\right) \\left(3 a^{2} p e^{E} - 3 a^{2} p - 3 a^{2} e^{b} + 3 a^{2} - 2 a p e^{E} + 2 a p - 2 a + e^{b}\\right) \\left|{\\frac{a \\left(2 a p - 2 a - p + 1\\right)}{3 a^{2} p e^{E} - 3 a^{2} p - 3 a^{2} e^{b} + 3 a^{2} - 2 a p e^{E} + 2 a p - 2 a + e^{b}}}\\right|} & \\text{otherwise} \\end{cases} & \\text{otherwise} \\end{cases} + \\begin{cases} \\frac{a \\left(- 0.666666666666667 a^{3} g p + 0.666666666666667 a^{3} g + 0.666666666666667 a^{3} p - 0.666666666666667 a^{3} + 1.66666666666667 a^{2} g p - 1.66666666666667 a^{2} g - 1.66666666666667 a^{2} p + 1.66666666666667 a^{2} - 1.33333333333333 a g p + 1.33333333333333 a g + 0.666666666666667 a p - 0.666666666666667 a - b \\left(0.666666666666667 a^{3} g p - 0.666666666666667 a^{3} g - 0.666666666666667 a^{3} p + 0.666666666666667 a^{3} - 1.66666666666667 a^{2} g p + 1.66666666666667 a^{2} g + 1.66666666666667 a^{2} p - 1.66666666666667 a^{2} + 1.33333333333333 a g p - 1.33333333333333 a g - 1.33333333333333 a p + 1.33333333333333 a - 0.333333333333333 g p + 0.333333333333333 g + 0.333333333333333 p - 0.333333333333333\\right) + 0.333333333333333 g p - 0.333333333333333 g + \\left(0.666666666666667 a^{3} g p - 0.666666666666667 a^{3} g - 0.666666666666667 a^{3} p + 0.666666666666667 a^{3} - 1.66666666666667 a^{2} g p + 1.66666666666667 a^{2} g + 1.66666666666667 a^{2} p - 1.66666666666667 a^{2} + 1.33333333333333 a g p - 1.33333333333333 a g - 0.666666666666667 a p + 0.666666666666667 a - 0.333333333333333 g p + 0.333333333333333 g\\right) e^{b}\\right)}{1.0 a^{2} p e^{E} - 1.0 a^{2} p - 1.0 a^{2} e^{b} + 1.0 a^{2} - 0.666666666666667 a p e^{E} + 0.666666666666667 a p - 0.666666666666667 a + 0.333333333333333 e^{b}} & \\text{for}\\: 1.0 a^{2} p e^{E} - 1.0 a^{2} p - 1.0 a^{2} e^{b} + 1.0 a^{2} - 0.666666666666667 a p e^{E} + 0.666666666666667 a p - 0.666666666666667 a + 0.333333333333333 e^{b} \\neq 0 \\\\\\frac{a b \\left(0.666666666666667 a p - 0.666666666666667 a - 0.333333333333333 p + 0.333333333333333\\right)}{1.0 a^{2} p e^{E} - 1.0 a^{2} p - 1.0 a^{2} e^{b} + 1.0 a^{2} - 0.666666666666667 a p e^{E} + 0.666666666666667 a p - 0.666666666666667 a + 0.333333333333333 e^{b}} & \\text{otherwise} \\end{cases} + \\begin{cases} \\frac{a p \\left(- \\left(E - b\\right) \\left(0.666666666666667 a^{3} g - 0.666666666666667 a^{3} - 1.66666666666667 a^{2} g + 1.66666666666667 a^{2} + 1.33333333333333 a g - 1.33333333333333 a - 0.333333333333333 g + 0.333333333333333\\right) e^{2 E} + \\left(- 0.666666666666667 a^{3} g + 0.666666666666667 a^{3} + 1.66666666666667 a^{2} g - 1.66666666666667 a^{2} - 1.33333333333333 a g + 0.666666666666667 a + 0.333333333333333 g + \\left(0.666666666666667 a^{3} g - 0.666666666666667 a^{3} - 1.66666666666667 a^{2} g + 1.66666666666667 a^{2} + 1.33333333333333 a g - 0.666666666666667 a - 0.333333333333333 g\\right) e^{E - b}\\right) e^{E + b}\\right)}{1.0 a^{2} p e^{E} - 1.0 a^{2} p - 1.0 a^{2} e^{b} + 1.0 a^{2} - 0.666666666666667 a p e^{E} + 0.666666666666667 a p - 0.666666666666667 a + 0.333333333333333 e^{b}} & \\text{for}\\: 1.0 a^{2} p e^{E} - 1.0 a^{2} p - 1.0 a^{2} e^{b} + 1.0 a^{2} - 0.666666666666667 a p e^{E} + 0.666666666666667 a p - 0.666666666666667 a + 0.333333333333333 e^{b} \\neq 0 \\\\\\frac{a p \\left(E - b\\right) \\left(0.666666666666667 a - 0.333333333333333\\right) e^{2 E}}{1.0 a^{2} p e^{E} - 1.0 a^{2} p - 1.0 a^{2} e^{b} + 1.0 a^{2} - 0.666666666666667 a p e^{E} + 0.666666666666667 a p - 0.666666666666667 a + 0.333333333333333 e^{b}} & \\text{otherwise} \\end{cases} + \\begin{cases} \\frac{a p \\left(0.333333333333333 - 0.666666666666667 a\\right) e^{2 E}}{1.0 a^{2} p e^{E} - 1.0 a^{2} p - 1.0 a^{2} e^{b} + 1.0 a^{2} - 0.666666666666667 a p e^{E} + 0.666666666666667 a p - 0.666666666666667 a + 0.333333333333333 e^{b}} & \\text{for}\\: 1.0 a^{2} p e^{E} - 1.0 a^{2} p - 1.0 a^{2} e^{b} + 1.0 a^{2} - 0.666666666666667 a p e^{E} + 0.666666666666667 a p - 0.666666666666667 a + 0.333333333333333 e^{b} \\neq 0 \\\\\\begin{cases} \\text{NaN} & \\text{for}\\: \\frac{a p \\left(2 a - 1\\right)}{3 a^{2} p e^{E} - 3 a^{2} p - 3 a^{2} e^{b} + 3 a^{2} - 2 a p e^{E} + 2 a p - 2 a + e^{b}} = 0 \\\\\\frac{a p \\left(- \\left(E - b\\right) \\left(0.666666666666667 a - 0.333333333333333\\right) \\left(3 a^{2} p e^{E} - 3 a^{2} p - 3 a^{2} e^{b} + 3 a^{2} - 2 a p e^{E} + 2 a p - 2 a + e^{b}\\right) \\left|{\\frac{a p \\left(2 a - 1\\right)}{3 a^{2} p e^{E} - 3 a^{2} p - 3 a^{2} e^{b} + 3 a^{2} - 2 a p e^{E} + 2 a p - 2 a + e^{b}}}\\right| - \\infty \\left(2 a - 1\\right) \\left(1.0 a^{2} p e^{E} - 1.0 a^{2} p - 1.0 a^{2} e^{b} + 1.0 a^{2} - 0.666666666666667 a p e^{E} + 0.666666666666667 a p - 0.666666666666667 a + 0.333333333333333 e^{b}\\right)\\right)}{\\left(1.0 a^{2} p e^{E} - 1.0 a^{2} p - 1.0 a^{2} e^{b} + 1.0 a^{2} - 0.666666666666667 a p e^{E} + 0.666666666666667 a p - 0.666666666666667 a + 0.333333333333333 e^{b}\\right) \\left(3 a^{2} p e^{E} - 3 a^{2} p - 3 a^{2} e^{b} + 3 a^{2} - 2 a p e^{E} + 2 a p - 2 a + e^{b}\\right) \\left|{\\frac{a p \\left(2 a - 1\\right)}{3 a^{2} p e^{E} - 3 a^{2} p - 3 a^{2} e^{b} + 3 a^{2} - 2 a p e^{E} + 2 a p - 2 a + e^{b}}}\\right|} & \\text{otherwise} \\end{cases} & \\text{otherwise} \\end{cases}$"
      ],
      "text/plain": [
       "-a**2 + 2*a**2/(1 - 2*a) + 3*a + Piecewise((a*(0.666666666666667*a*p - 0.666666666666667*a - 0.333333333333333*p + 0.333333333333333)/(1.0*a**2*p*exp(E) - 1.0*a**2*p - 1.0*a**2*exp(b) + 1.0*a**2 - 0.666666666666667*a*p*exp(E) + 0.666666666666667*a*p - 0.666666666666667*a + 0.333333333333333*exp(b)), Ne(1.0*a**2*p*exp(E) - 1.0*a**2*p - 1.0*a**2*exp(b) + 1.0*a**2 - 0.666666666666667*a*p*exp(E) + 0.666666666666667*a*p - 0.666666666666667*a + 0.333333333333333*exp(b), 0)), (Piecewise((nan, Eq(a*(2*a*p - 2*a - p + 1)/(3*a**2*p*exp(E) - 3*a**2*p - 3*a**2*exp(b) + 3*a**2 - 2*a*p*exp(E) + 2*a*p - 2*a + exp(b)), 0)), (a*(-b*(0.666666666666667*a*p - 0.666666666666667*a - 0.333333333333333*p + 0.333333333333333)*(3*a**2*p*exp(E) - 3*a**2*p - 3*a**2*exp(b) + 3*a**2 - 2*a*p*exp(E) + 2*a*p - 2*a + exp(b))*Abs(a*(2*a*p - 2*a - p + 1)/(3*a**2*p*exp(E) - 3*a**2*p - 3*a**2*exp(b) + 3*a**2 - 2*a*p*exp(E) + 2*a*p - 2*a + exp(b))) + oo*(2*a*p - 2*a - p + 1)*(1.0*a**2*p*exp(E) - 1.0*a**2*p - 1.0*a**2*exp(b) + 1.0*a**2 - 0.666666666666667*a*p*exp(E) + 0.666666666666667*a*p - 0.666666666666667*a + 0.333333333333333*exp(b)))/((1.0*a**2*p*exp(E) - 1.0*a**2*p - 1.0*a**2*exp(b) + 1.0*a**2 - 0.666666666666667*a*p*exp(E) + 0.666666666666667*a*p - 0.666666666666667*a + 0.333333333333333*exp(b))*(3*a**2*p*exp(E) - 3*a**2*p - 3*a**2*exp(b) + 3*a**2 - 2*a*p*exp(E) + 2*a*p - 2*a + exp(b))*Abs(a*(2*a*p - 2*a - p + 1)/(3*a**2*p*exp(E) - 3*a**2*p - 3*a**2*exp(b) + 3*a**2 - 2*a*p*exp(E) + 2*a*p - 2*a + exp(b)))), True)), True)) + Piecewise((a*(-0.666666666666667*a**3*g*p + 0.666666666666667*a**3*g + 0.666666666666667*a**3*p - 0.666666666666667*a**3 + 1.66666666666667*a**2*g*p - 1.66666666666667*a**2*g - 1.66666666666667*a**2*p + 1.66666666666667*a**2 - 1.33333333333333*a*g*p + 1.33333333333333*a*g + 0.666666666666667*a*p - 0.666666666666667*a - b*(0.666666666666667*a**3*g*p - 0.666666666666667*a**3*g - 0.666666666666667*a**3*p + 0.666666666666667*a**3 - 1.66666666666667*a**2*g*p + 1.66666666666667*a**2*g + 1.66666666666667*a**2*p - 1.66666666666667*a**2 + 1.33333333333333*a*g*p - 1.33333333333333*a*g - 1.33333333333333*a*p + 1.33333333333333*a - 0.333333333333333*g*p + 0.333333333333333*g + 0.333333333333333*p - 0.333333333333333) + 0.333333333333333*g*p - 0.333333333333333*g + (0.666666666666667*a**3*g*p - 0.666666666666667*a**3*g - 0.666666666666667*a**3*p + 0.666666666666667*a**3 - 1.66666666666667*a**2*g*p + 1.66666666666667*a**2*g + 1.66666666666667*a**2*p - 1.66666666666667*a**2 + 1.33333333333333*a*g*p - 1.33333333333333*a*g - 0.666666666666667*a*p + 0.666666666666667*a - 0.333333333333333*g*p + 0.333333333333333*g)*exp(b))/(1.0*a**2*p*exp(E) - 1.0*a**2*p - 1.0*a**2*exp(b) + 1.0*a**2 - 0.666666666666667*a*p*exp(E) + 0.666666666666667*a*p - 0.666666666666667*a + 0.333333333333333*exp(b)), Ne(1.0*a**2*p*exp(E) - 1.0*a**2*p - 1.0*a**2*exp(b) + 1.0*a**2 - 0.666666666666667*a*p*exp(E) + 0.666666666666667*a*p - 0.666666666666667*a + 0.333333333333333*exp(b), 0)), (a*b*(0.666666666666667*a*p - 0.666666666666667*a - 0.333333333333333*p + 0.333333333333333)/(1.0*a**2*p*exp(E) - 1.0*a**2*p - 1.0*a**2*exp(b) + 1.0*a**2 - 0.666666666666667*a*p*exp(E) + 0.666666666666667*a*p - 0.666666666666667*a + 0.333333333333333*exp(b)), True)) + Piecewise((a*p*(-(E - b)*(0.666666666666667*a**3*g - 0.666666666666667*a**3 - 1.66666666666667*a**2*g + 1.66666666666667*a**2 + 1.33333333333333*a*g - 1.33333333333333*a - 0.333333333333333*g + 0.333333333333333)*exp(2*E) + (-0.666666666666667*a**3*g + 0.666666666666667*a**3 + 1.66666666666667*a**2*g - 1.66666666666667*a**2 - 1.33333333333333*a*g + 0.666666666666667*a + 0.333333333333333*g + (0.666666666666667*a**3*g - 0.666666666666667*a**3 - 1.66666666666667*a**2*g + 1.66666666666667*a**2 + 1.33333333333333*a*g - 0.666666666666667*a - 0.333333333333333*g)*exp(E - b))*exp(E + b))/(1.0*a**2*p*exp(E) - 1.0*a**2*p - 1.0*a**2*exp(b) + 1.0*a**2 - 0.666666666666667*a*p*exp(E) + 0.666666666666667*a*p - 0.666666666666667*a + 0.333333333333333*exp(b)), Ne(1.0*a**2*p*exp(E) - 1.0*a**2*p - 1.0*a**2*exp(b) + 1.0*a**2 - 0.666666666666667*a*p*exp(E) + 0.666666666666667*a*p - 0.666666666666667*a + 0.333333333333333*exp(b), 0)), (a*p*(E - b)*(0.666666666666667*a - 0.333333333333333)*exp(2*E)/(1.0*a**2*p*exp(E) - 1.0*a**2*p - 1.0*a**2*exp(b) + 1.0*a**2 - 0.666666666666667*a*p*exp(E) + 0.666666666666667*a*p - 0.666666666666667*a + 0.333333333333333*exp(b)), True)) + Piecewise((a*p*(0.333333333333333 - 0.666666666666667*a)*exp(2*E)/(1.0*a**2*p*exp(E) - 1.0*a**2*p - 1.0*a**2*exp(b) + 1.0*a**2 - 0.666666666666667*a*p*exp(E) + 0.666666666666667*a*p - 0.666666666666667*a + 0.333333333333333*exp(b)), Ne(1.0*a**2*p*exp(E) - 1.0*a**2*p - 1.0*a**2*exp(b) + 1.0*a**2 - 0.666666666666667*a*p*exp(E) + 0.666666666666667*a*p - 0.666666666666667*a + 0.333333333333333*exp(b), 0)), (Piecewise((nan, Eq(a*p*(2*a - 1)/(3*a**2*p*exp(E) - 3*a**2*p - 3*a**2*exp(b) + 3*a**2 - 2*a*p*exp(E) + 2*a*p - 2*a + exp(b)), 0)), (a*p*(-(E - b)*(0.666666666666667*a - 0.333333333333333)*(3*a**2*p*exp(E) - 3*a**2*p - 3*a**2*exp(b) + 3*a**2 - 2*a*p*exp(E) + 2*a*p - 2*a + exp(b))*Abs(a*p*(2*a - 1)/(3*a**2*p*exp(E) - 3*a**2*p - 3*a**2*exp(b) + 3*a**2 - 2*a*p*exp(E) + 2*a*p - 2*a + exp(b))) - oo*(2*a - 1)*(1.0*a**2*p*exp(E) - 1.0*a**2*p - 1.0*a**2*exp(b) + 1.0*a**2 - 0.666666666666667*a*p*exp(E) + 0.666666666666667*a*p - 0.666666666666667*a + 0.333333333333333*exp(b)))/((1.0*a**2*p*exp(E) - 1.0*a**2*p - 1.0*a**2*exp(b) + 1.0*a**2 - 0.666666666666667*a*p*exp(E) + 0.666666666666667*a*p - 0.666666666666667*a + 0.333333333333333*exp(b))*(3*a**2*p*exp(E) - 3*a**2*p - 3*a**2*exp(b) + 3*a**2 - 2*a*p*exp(E) + 2*a*p - 2*a + exp(b))*Abs(a*p*(2*a - 1)/(3*a**2*p*exp(E) - 3*a**2*p - 3*a**2*exp(b) + 3*a**2 - 2*a*p*exp(E) + 2*a*p - 2*a + exp(b)))), True)), True))"
      ]
     },
     "execution_count": 121,
     "metadata": {},
     "output_type": "execute_result"
    }
   ],
   "source": [
    "full = loIntegralFail + hiIntegralFail + loIntegralSuccess + hiIntegralSuccess + 3*a - a**2 + 2*a**2/(1-2*a)\n",
    "full"
   ]
  },
  {
   "cell_type": "code",
   "execution_count": 164,
   "metadata": {},
   "outputs": [
    {
     "data": {
      "text/latex": [
       "$\\displaystyle p_{1} \\left(- a^{2} + \\frac{2 a^{2}}{1 - 2 a} + 3 a\\right) + \\begin{cases} \\frac{p_{1} \\left(p - 1\\right)}{p e^{E} - p - e^{b} + 1} & \\text{for}\\: - p e^{E} + p + e^{b} \\neq 1 \\\\\\begin{cases} \\text{NaN} & \\text{for}\\: \\frac{p_{1} \\left(p - 1\\right)}{p e^{E} - p - e^{b} + 1} = 0 \\\\\\frac{p_{1} \\left(p - 1\\right) \\left(- b \\left|{\\frac{p_{1} \\left(p - 1\\right)}{p e^{E} - p - e^{b} + 1}}\\right| + \\infty\\right)}{\\left(p e^{E} - p - e^{b} + 1\\right) \\left|{\\frac{p_{1} \\left(p - 1\\right)}{p e^{E} - p - e^{b} + 1}}\\right|} & \\text{otherwise} \\end{cases} & \\text{otherwise} \\end{cases} + \\begin{cases} \\frac{p_{1} \\left(- a^{2} g p + a^{2} g + a^{2} p - a^{2} + 2 a g p - 2 a g - 2 a p + 2 a - b \\left(a^{2} g p - a^{2} g - a^{2} p + a^{2} - 2 a g p + 2 a g + 2 a p - 2 a + g p - g - p + 1\\right) - g p + g + \\left(a^{2} g p - a^{2} g - a^{2} p + a^{2} - 2 a g p + 2 a g + 2 a p - 2 a + g p - g\\right) e^{b}\\right)}{p e^{E} - p - e^{b} + 1} & \\text{for}\\: - p e^{E} + p + e^{b} \\neq 1 \\\\\\frac{b p_{1} \\left(p - 1\\right)}{p e^{E} - p - e^{b} + 1} & \\text{otherwise} \\end{cases}$"
      ],
      "text/plain": [
       "p_1*(-a**2 + 2*a**2/(1 - 2*a) + 3*a) + Piecewise((p_1*(p - 1)/(p*exp(E) - p - exp(b) + 1), Ne(-p*exp(E) + p + exp(b), 1)), (Piecewise((nan, Eq(p_1*(p - 1)/(p*exp(E) - p - exp(b) + 1), 0)), (p_1*(p - 1)*(-b*Abs(p_1*(p - 1)/(p*exp(E) - p - exp(b) + 1)) + oo)/((p*exp(E) - p - exp(b) + 1)*Abs(p_1*(p - 1)/(p*exp(E) - p - exp(b) + 1))), True)), True)) + Piecewise((p_1*(-a**2*g*p + a**2*g + a**2*p - a**2 + 2*a*g*p - 2*a*g - 2*a*p + 2*a - b*(a**2*g*p - a**2*g - a**2*p + a**2 - 2*a*g*p + 2*a*g + 2*a*p - 2*a + g*p - g - p + 1) - g*p + g + (a**2*g*p - a**2*g - a**2*p + a**2 - 2*a*g*p + 2*a*g + 2*a*p - 2*a + g*p - g)*exp(b))/(p*exp(E) - p - exp(b) + 1), Ne(-p*exp(E) + p + exp(b), 1)), (b*p_1*(p - 1)/(p*exp(E) - p - exp(b) + 1), True))"
      ]
     },
     "execution_count": 164,
     "metadata": {},
     "output_type": "execute_result"
    }
   ],
   "source": [
    "full = loIntegralFail + hiIntegralFail + (3*a - a**2 + 2*a**2/(1-2*a))*p1\n",
    "full"
   ]
  },
  {
   "cell_type": "code",
   "execution_count": 172,
   "metadata": {},
   "outputs": [
    {
     "data": {
      "text/latex": [
       "$\\displaystyle 0.310876984825722$"
      ],
      "text/plain": [
       "0.310876984825722"
      ]
     },
     "execution_count": 172,
     "metadata": {},
     "output_type": "execute_result"
    }
   ],
   "source": [
    "full.evalf(subs={p1:p1_solved}).evalf(subs={a:0.3, b:.1, g:0.0, p:0.})"
   ]
  },
  {
   "cell_type": "code",
   "execution_count": 170,
   "metadata": {},
   "outputs": [
    {
     "data": {
      "text/plain": [
       "<function _lambdifygenerated(a, b, g)>"
      ]
     },
     "execution_count": 170,
     "metadata": {},
     "output_type": "execute_result"
    }
   ],
   "source": [
    "temp_ours        = full.evalf(subs={p:0})\n",
    "temp_ours_lambda = sp.lambdify((a, b, g), temp_ours)\n",
    "temp_ours_lambda"
   ]
  },
  {
   "cell_type": "code",
   "execution_count": 171,
   "metadata": {},
   "outputs": [
    {
     "data": {
      "text/latex": [
       "$\\displaystyle 2.6371452932353 p_{1}$"
      ],
      "text/plain": [
       "2.6371452932353*p_1"
      ]
     },
     "execution_count": 171,
     "metadata": {},
     "output_type": "execute_result"
    }
   ],
   "source": [
    "temp_ours_lambda(a=0.3, b=1., g=0.0)"
   ]
  },
  {
   "cell_type": "code",
   "execution_count": null,
   "metadata": {},
   "outputs": [],
   "source": []
  }
 ],
 "metadata": {
  "kernelspec": {
   "display_name": "Python 3",
   "language": "python",
   "name": "python3"
  },
  "language_info": {
   "codemirror_mode": {
    "name": "ipython",
    "version": 3
   },
   "file_extension": ".py",
   "mimetype": "text/x-python",
   "name": "python",
   "nbconvert_exporter": "python",
   "pygments_lexer": "ipython3",
   "version": "3.8.16"
  }
 },
 "nbformat": 4,
 "nbformat_minor": 4
}
