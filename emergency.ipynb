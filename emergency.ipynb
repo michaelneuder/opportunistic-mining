{
 "cells": [
  {
   "cell_type": "code",
   "execution_count": 1,
   "metadata": {},
   "outputs": [],
   "source": [
    "import matplotlib.pyplot as plt\n",
    "import matplotlib.patches as mpatches\n",
    "import numpy as np\n",
    "from scipy.optimize import minimize\n",
    "import pandas as pd\n",
    "from scipy.stats import poisson, uniform, expon, pareto\n",
    "from tqdm import tqdm\n",
    "from mdptoolbox import mdp, util\n",
    "import itertools\n",
    "from scipy.sparse import csr_matrix, lil_matrix\n",
    "from matplotlib.patches import Patch\n",
    "import math\n",
    "import random\n",
    "import sympy as sp\n",
    "from sympy.printing.latex import print_latex"
   ]
  },
  {
   "cell_type": "code",
   "execution_count": 78,
   "metadata": {},
   "outputs": [],
   "source": [
    "p0, p0p, p1, p0pp = sp.symbols('p_0 p_{00} p_1 p_{000}')\n",
    "a, b, x, g, p, C, E, ell  = sp.symbols('a b x g p C E lambda')"
   ]
  },
  {
   "cell_type": "code",
   "execution_count": 189,
   "metadata": {},
   "outputs": [],
   "source": [
    "# p_i is the stationary distribution for State i\n",
    "p0    = p1 / (a*(1-p)*(1-sp.exp(-(1-ell)*(b-C))) + a*p*(1-sp.Min(sp.exp(-(1-ell)*(b-C-E)),1)))\n",
    "p0p   = p1 * (1-a)\n",
    "p0pp  = p1 * a\n",
    "p2    = p1*(a/(1-a))\n",
    "prest = p1*a/(1-2*a)"
   ]
  },
  {
   "cell_type": "code",
   "execution_count": 190,
   "metadata": {},
   "outputs": [],
   "source": [
    "eq = sp.Eq(p0+p0p+p0pp+prest+p1, 1)\n",
    "p1_sym = sp.solve(eq, p1)[0]"
   ]
  },
  {
   "cell_type": "code",
   "execution_count": 191,
   "metadata": {},
   "outputs": [
    {
     "data": {
      "text/latex": [
       "$\\displaystyle \\frac{a \\left(\\left(2 a p - 2 a - p + 1\\right) e^{C \\lambda - C - b \\lambda + b} + \\left(- 2 a p \\min\\left(1, e^{- C \\lambda + C - E \\lambda + E + b \\lambda - b}\\right) + 2 a + p \\min\\left(1, e^{- C \\lambda + C - E \\lambda + E + b \\lambda - b}\\right) - 1\\right) e^{2 C \\lambda - 2 C - 2 b \\lambda + 2 b}\\right) e^{- C \\lambda + C + b \\lambda - b}}{3 a^{2} p - 3 a^{2} - 2 a p + 2 a + \\left(- 3 a^{2} p \\min\\left(1, e^{- C \\lambda + C - E \\lambda + E + b \\lambda - b}\\right) + 3 a^{2} + 2 a p \\min\\left(1, e^{- C \\lambda + C - E \\lambda + E + b \\lambda - b}\\right) - 1\\right) e^{C \\lambda - C - b \\lambda + b}}$"
      ],
      "text/plain": [
       "a*((2*a*p - 2*a - p + 1)*exp(C*lambda - C - b*lambda + b) + (-2*a*p*Min(1, exp(-C*lambda + C - E*lambda + E + b*lambda - b)) + 2*a + p*Min(1, exp(-C*lambda + C - E*lambda + E + b*lambda - b)) - 1)*exp(2*C*lambda - 2*C - 2*b*lambda + 2*b))*exp(-C*lambda + C + b*lambda - b)/(3*a**2*p - 3*a**2 - 2*a*p + 2*a + (-3*a**2*p*Min(1, exp(-C*lambda + C - E*lambda + E + b*lambda - b)) + 3*a**2 + 2*a*p*Min(1, exp(-C*lambda + C - E*lambda + E + b*lambda - b)) - 1)*exp(C*lambda - C - b*lambda + b))"
      ]
     },
     "execution_count": 191,
     "metadata": {},
     "output_type": "execute_result"
    }
   ],
   "source": [
    "p1_sym"
   ]
  },
  {
   "cell_type": "code",
   "execution_count": 192,
   "metadata": {},
   "outputs": [],
   "source": [
    "o_0p    = 1\n",
    "o_rest = p1*a*(1-a)/(1-2*a)"
   ]
  },
  {
   "cell_type": "code",
   "execution_count": 193,
   "metadata": {},
   "outputs": [
    {
     "data": {
      "text/latex": [
       "$\\displaystyle \\frac{a p_{1} \\cdot \\left(1 - a\\right)}{1 - 2 a} + p_{1} \\cdot \\left(1 - a\\right)$"
      ],
      "text/plain": [
       "a*p_1*(1 - a)/(1 - 2*a) + p_1*(1 - a)"
      ]
     },
     "execution_count": 193,
     "metadata": {},
     "output_type": "execute_result"
    }
   ],
   "source": [
    "orphan_full = p0p * o_0p + o_rest\n",
    "orphan_full"
   ]
  },
  {
   "cell_type": "code",
   "execution_count": 194,
   "metadata": {},
   "outputs": [
    {
     "data": {
      "text/latex": [
       "$\\displaystyle \\frac{a p_{1} \\cdot \\left(1 - a\\right)}{1 - 2 a} + p_{1} \\cdot \\left(1 - a\\right) = \\lambda$"
      ],
      "text/plain": [
       "Eq(a*p_1*(1 - a)/(1 - 2*a) + p_1*(1 - a), lambda)"
      ]
     },
     "execution_count": 194,
     "metadata": {},
     "output_type": "execute_result"
    }
   ],
   "source": [
    "eq1 = sp.Eq(orphan_full, ell)\n",
    "eq1"
   ]
  },
  {
   "cell_type": "code",
   "execution_count": 195,
   "metadata": {},
   "outputs": [],
   "source": [
    "sols = sp.nsolve(eq1.subs({p1:p1_sym}).subs({a:0.3, b:1000.00001, g:0., p:0, C:1., E:0.}), ell, 0.1)"
   ]
  },
  {
   "cell_type": "code",
   "execution_count": 196,
   "metadata": {},
   "outputs": [
    {
     "data": {
      "text/latex": [
       "$\\displaystyle 0.201369863013699$"
      ],
      "text/plain": [
       "0.201369863013699"
      ]
     },
     "execution_count": 196,
     "metadata": {},
     "output_type": "execute_result"
    }
   ],
   "source": [
    "sols"
   ]
  },
  {
   "cell_type": "code",
   "execution_count": 197,
   "metadata": {},
   "outputs": [],
   "source": [
    "# attacker rewards"
   ]
  },
  {
   "cell_type": "code",
   "execution_count": 198,
   "metadata": {},
   "outputs": [
    {
     "data": {
      "text/latex": [
       "$\\displaystyle C \\left(1 - a\\right) \\left(a + g \\left(1 - a\\right)\\right) \\left(a p \\left(1 - \\min\\left(1, e^{\\left(\\lambda - 1\\right) \\left(- C - E + b\\right)}\\right)\\right) + a \\left(1 - p\\right) \\left(1 - e^{\\left(- C + b\\right) \\left(\\lambda - 1\\right)}\\right)\\right)$"
      ],
      "text/plain": [
       "C*(1 - a)*(a + g*(1 - a))*(a*p*(1 - Min(1, exp((lambda - 1)*(-C - E + b)))) + a*(1 - p)*(1 - exp((-C + b)*(lambda - 1))))"
      ]
     },
     "execution_count": 198,
     "metadata": {},
     "output_type": "execute_result"
    }
   ],
   "source": [
    "# 3 cases for f0\n",
    "f0i_fixed   = C * (a*p*sp.Min(1,sp.exp(-(1-ell)*(b-C-E))) + a*(1-p)*sp.exp(-(1-ell)*(b-C)))\n",
    "f0ii_fixed  = a*C * (a*p*(1-sp.Min(1,sp.exp(-(1-ell)*(b-C-E)))) + a*(1-p)*(1-sp.exp(-(1-ell)*(b-C))))\n",
    "f0iii_fixed = (1-a)*(a+g*(1-a))*C * (a*p*(1-sp.Min(1,sp.exp(-(1-ell)*(b-C-E)))) + a*(1-p)*(1-sp.exp(-(1-ell)*(b-C))))\n",
    "f0iii_fixed"
   ]
  },
  {
   "cell_type": "code",
   "execution_count": 199,
   "metadata": {},
   "outputs": [
    {
     "data": {
      "text/latex": [
       "$\\displaystyle C a \\left(a p \\left(1 - \\min\\left(1, e^{\\left(\\lambda - 1\\right) \\left(- C - E + b\\right)}\\right)\\right) + a \\left(1 - p\\right) \\left(1 - e^{\\left(- C + b\\right) \\left(\\lambda - 1\\right)}\\right)\\right) + C \\left(1 - a\\right) \\left(a + g \\left(1 - a\\right)\\right) \\left(a p \\left(1 - \\min\\left(1, e^{\\left(\\lambda - 1\\right) \\left(- C - E + b\\right)}\\right)\\right) + a \\left(1 - p\\right) \\left(1 - e^{\\left(- C + b\\right) \\left(\\lambda - 1\\right)}\\right)\\right) + C \\left(a p \\min\\left(1, e^{\\left(\\lambda - 1\\right) \\left(- C - E + b\\right)}\\right) + a \\left(1 - p\\right) e^{\\left(- C + b\\right) \\left(\\lambda - 1\\right)}\\right)$"
      ],
      "text/plain": [
       "C*a*(a*p*(1 - Min(1, exp((lambda - 1)*(-C - E + b)))) + a*(1 - p)*(1 - exp((-C + b)*(lambda - 1)))) + C*(1 - a)*(a + g*(1 - a))*(a*p*(1 - Min(1, exp((lambda - 1)*(-C - E + b)))) + a*(1 - p)*(1 - exp((-C + b)*(lambda - 1)))) + C*(a*p*Min(1, exp((lambda - 1)*(-C - E + b))) + a*(1 - p)*exp((-C + b)*(lambda - 1)))"
      ]
     },
     "execution_count": 199,
     "metadata": {},
     "output_type": "execute_result"
    }
   ],
   "source": [
    "# explicit for f0 and f1\n",
    "f0_fixed   = f0i_fixed + f0ii_fixed + f0iii_fixed\n",
    "f1_fixed   = C*(a+(1-a)*a)\n",
    "f0_fixed"
   ]
  },
  {
   "cell_type": "code",
   "execution_count": 212,
   "metadata": {},
   "outputs": [],
   "source": [
    "attack_full_fixed  = p0*f0_fixed + p1*f1_fixed + C*p1*a*(2*a*(1-a)/(1-2*a))\n",
    "p1_ev = p1_sym.evalf(subs={C:1., E:0.})\n",
    "attack_final_fixed = attack_full_fixed.evalf(subs={p1:p1_ev, C:1., E:0.})"
   ]
  },
  {
   "cell_type": "code",
   "execution_count": 231,
   "metadata": {},
   "outputs": [],
   "source": [
    "subs = {a:0.26, b:20000., g:.5, p:0, C:1., E:0.}"
   ]
  },
  {
   "cell_type": "code",
   "execution_count": 232,
   "metadata": {},
   "outputs": [
    {
     "data": {
      "text/latex": [
       "$\\displaystyle 0.178595082789764$"
      ],
      "text/plain": [
       "0.178595082789764"
      ]
     },
     "execution_count": 232,
     "metadata": {},
     "output_type": "execute_result"
    }
   ],
   "source": [
    "sols = sp.nsolve(eq1.subs({p1:p1_sym}).subs(subs), ell, 0.1)\n",
    "sols"
   ]
  },
  {
   "cell_type": "code",
   "execution_count": 233,
   "metadata": {},
   "outputs": [
    {
     "data": {
      "text/latex": [
       "$\\displaystyle 0.264348527237853$"
      ],
      "text/plain": [
       "0.264348527237853"
      ]
     },
     "execution_count": 233,
     "metadata": {},
     "output_type": "execute_result"
    }
   ],
   "source": [
    "attack_final_fixed.subs(subs).subs({ell:sols})*1/(1-sols)"
   ]
  },
  {
   "cell_type": "code",
   "execution_count": 208,
   "metadata": {},
   "outputs": [
    {
     "data": {
      "text/latex": [
       "$\\displaystyle 0.15350467688614$"
      ],
      "text/plain": [
       "0.153504676886140"
      ]
     },
     "execution_count": 208,
     "metadata": {},
     "output_type": "execute_result"
    }
   ],
   "source": [
    "attacker_final_fixed.subs(subs)/(attacker_final_fixed.subs(subs)+honest_final_fixed.subs(subs))"
   ]
  },
  {
   "cell_type": "code",
   "execution_count": null,
   "metadata": {},
   "outputs": [],
   "source": []
  },
  {
   "cell_type": "code",
   "execution_count": null,
   "metadata": {},
   "outputs": [],
   "source": []
  },
  {
   "cell_type": "code",
   "execution_count": 177,
   "metadata": {},
   "outputs": [],
   "source": [
    "# p_i is the stationary distribution for State i\n",
    "p0    = p1 / (a*(1-p)*(1-sp.exp(-b+C)) + a*p*(1-sp.Min(sp.exp(-b+C+E),1)))\n",
    "p0p   = p1 * (1-a)\n",
    "p0pp  = p1 * a\n",
    "p2    = p1*(a/(1-a))\n",
    "prest = p1*a/(1-2*a)"
   ]
  },
  {
   "cell_type": "code",
   "execution_count": 178,
   "metadata": {},
   "outputs": [],
   "source": [
    "eq = sp.Eq(p0+p0p+p0pp+prest+p1, 1)\n",
    "p1_sym = sp.solve(eq, p1)[0]"
   ]
  },
  {
   "cell_type": "code",
   "execution_count": 179,
   "metadata": {},
   "outputs": [
    {
     "data": {
      "text/latex": [
       "$\\displaystyle \\frac{1}{1 + \\frac{1}{a p \\left(1 - \\min\\left(1, e^{C + E - b}\\right)\\right) + a \\left(1 - p\\right) \\left(1 - e^{C - b}\\right)} + \\frac{1 - a}{1 - 2 a}}$"
      ],
      "text/plain": [
       "1/(1 + 1/(a*p*(1 - Min(1, exp(C + E - b))) + a*(1 - p)*(1 - exp(C - b))) + (1 - a)/(1 - 2*a))"
      ]
     },
     "execution_count": 179,
     "metadata": {},
     "output_type": "execute_result"
    }
   ],
   "source": [
    "p1_me = (1/(a*(1-p)*(1-sp.exp(-b+C)) + a*p*(1-sp.Min(sp.exp(-b+C+E),1))) + 1 + (1-a)/(1-2*a))**(-1)\n",
    "p1_me"
   ]
  },
  {
   "cell_type": "code",
   "execution_count": 180,
   "metadata": {},
   "outputs": [
    {
     "data": {
      "text/plain": [
       "(0.138811963706275, 0.138811963706275)"
      ]
     },
     "execution_count": 180,
     "metadata": {},
     "output_type": "execute_result"
    }
   ],
   "source": [
    "# confirming the symbolic solver and my by hand solver have same values\n",
    "p1_sym.evalf(subs={a:0.3, b:3, p:0.5, C:1, E:1}), p1_me.evalf(subs={a:0.3, b:3, p:0.5, C:1, E:1})"
   ]
  },
  {
   "cell_type": "code",
   "execution_count": 181,
   "metadata": {},
   "outputs": [
    {
     "data": {
      "text/latex": [
       "$\\displaystyle C \\left(1 - a\\right) \\left(a + g \\left(1 - a\\right)\\right) \\left(a p \\left(1 - \\min\\left(1, e^{C + E - b}\\right)\\right) + a \\left(1 - p\\right) \\left(1 - e^{C - b}\\right)\\right)$"
      ],
      "text/plain": [
       "C*(1 - a)*(a + g*(1 - a))*(a*p*(1 - Min(1, exp(C + E - b))) + a*(1 - p)*(1 - exp(C - b)))"
      ]
     },
     "execution_count": 181,
     "metadata": {},
     "output_type": "execute_result"
    }
   ],
   "source": [
    "# 3 cases for f0\n",
    "f0i_fixed   = C * (a*p*sp.Min(1,sp.exp(-b+C+E)) + a*(1-p)*sp.exp(-b+C))\n",
    "f0ii_fixed  = a*C * (a*p*(1-sp.Min(1,sp.exp(-b+C+E))) + a*(1-p)*(1-sp.exp(-b+C)))\n",
    "f0iii_fixed = (1-a)*(a+g*(1-a))*C * (a*p*(1-sp.Min(1,sp.exp(-b+C+E))) + a*(1-p)*(1-sp.exp(-b+C)))\n",
    "f0iii_fixed"
   ]
  },
  {
   "cell_type": "code",
   "execution_count": 182,
   "metadata": {},
   "outputs": [
    {
     "data": {
      "text/latex": [
       "$\\displaystyle C a \\left(a p \\left(1 - \\min\\left(1, e^{C + E - b}\\right)\\right) + a \\left(1 - p\\right) \\left(1 - e^{C - b}\\right)\\right) + C \\left(1 - a\\right) \\left(a + g \\left(1 - a\\right)\\right) \\left(a p \\left(1 - \\min\\left(1, e^{C + E - b}\\right)\\right) + a \\left(1 - p\\right) \\left(1 - e^{C - b}\\right)\\right) + C \\left(a p \\min\\left(1, e^{C + E - b}\\right) + a \\left(1 - p\\right) e^{C - b}\\right)$"
      ],
      "text/plain": [
       "C*a*(a*p*(1 - Min(1, exp(C + E - b))) + a*(1 - p)*(1 - exp(C - b))) + C*(1 - a)*(a + g*(1 - a))*(a*p*(1 - Min(1, exp(C + E - b))) + a*(1 - p)*(1 - exp(C - b))) + C*(a*p*Min(1, exp(C + E - b)) + a*(1 - p)*exp(C - b))"
      ]
     },
     "execution_count": 182,
     "metadata": {},
     "output_type": "execute_result"
    }
   ],
   "source": [
    "# explicit for f0 and f1\n",
    "f0_fixed   = f0i_fixed + f0ii_fixed + f0iii_fixed\n",
    "f1_fixed   = C*(a+(1-a)*a)\n",
    "f0_fixed"
   ]
  },
  {
   "cell_type": "code",
   "execution_count": 183,
   "metadata": {},
   "outputs": [
    {
     "data": {
      "text/latex": [
       "$\\displaystyle \\frac{a \\left(0.245252960780962 a^{2} \\left(a - 1.0\\right) \\left(p \\left(\\min\\left(1.0, 2.71828182845905 e^{- b}\\right) - 1.0\\right) e^{b} + \\left(p - 1.0\\right) \\left(1.0 e^{b} - 2.71828182845905\\right)\\right) - 0.122626480390481 a \\left(a - 2.0\\right) \\left(2.0 a - 1.0\\right) \\left(p \\left(\\min\\left(1.0, 2.71828182845905 e^{- b}\\right) - 1.0\\right) e^{b} + \\left(p - 1.0\\right) \\left(1.0 e^{b} - 2.71828182845905\\right)\\right) - 0.122626480390481 \\cdot \\left(2.0 a - 1.0\\right) \\left(1.0 a \\left(a - 1.0\\right) \\left(p \\left(\\min\\left(1.0, 2.71828182845905 e^{- b}\\right) - 1.0\\right) e^{b} + \\left(p - 1.0\\right) \\left(1.0 e^{b} - 2.71828182845905\\right)\\right) - 1.0 a \\left(p \\left(\\min\\left(1.0, 2.71828182845905 e^{- b}\\right) - 1.0\\right) e^{b} + \\left(p - 1.0\\right) \\left(1.0 e^{b} - 2.71828182845905\\right)\\right) + 1.0 p e^{b} \\min\\left(1.0, 2.71828182845905 e^{- b}\\right) - 2.71828182845905 p + 2.71828182845905\\right)\\right) \\left(- 5.43656365691809 a p + 5.43656365691809 a + 2.71828182845905 p + \\left(2.0 a p \\min\\left(1.0, 2.71828182845905 e^{- b}\\right) - 2.0 a - p \\min\\left(1.0, 2.71828182845905 e^{- b}\\right) + 1.0\\right) e^{b} - 2.71828182845905\\right)}{\\left(2.0 a - 1.0\\right) \\left(p \\left(\\min\\left(1.0, 2.71828182845905 e^{- b}\\right) - 1.0\\right) e^{b} + \\left(p - 1.0\\right) \\left(1.0 e^{b} - 2.71828182845905\\right)\\right) \\left(- a^{2} p + a^{2} + 0.666666666666667 a p - 0.666666666666667 a + 0.122626480390481 \\cdot \\left(3.0 a^{2} p \\min\\left(1.0, 2.71828182845905 e^{- b}\\right) - 3.0 a^{2} - 2.0 a p \\min\\left(1.0, 2.71828182845905 e^{- b}\\right) + 1.0\\right) e^{b}\\right)}$"
      ],
      "text/plain": [
       "a*(0.245252960780962*a**2*(a - 1.0)*(p*(Min(1.0, 2.71828182845905*exp(-b)) - 1.0)*exp(b) + (p - 1.0)*(1.0*exp(b) - 2.71828182845905)) - 0.122626480390481*a*(a - 2.0)*(2.0*a - 1.0)*(p*(Min(1.0, 2.71828182845905*exp(-b)) - 1.0)*exp(b) + (p - 1.0)*(1.0*exp(b) - 2.71828182845905)) - 0.122626480390481*(2.0*a - 1.0)*(1.0*a*(a - 1.0)*(p*(Min(1.0, 2.71828182845905*exp(-b)) - 1.0)*exp(b) + (p - 1.0)*(1.0*exp(b) - 2.71828182845905)) - 1.0*a*(p*(Min(1.0, 2.71828182845905*exp(-b)) - 1.0)*exp(b) + (p - 1.0)*(1.0*exp(b) - 2.71828182845905)) + 1.0*p*exp(b)*Min(1.0, 2.71828182845905*exp(-b)) - 2.71828182845905*p + 2.71828182845905))*(-5.43656365691809*a*p + 5.43656365691809*a + 2.71828182845905*p + (2.0*a*p*Min(1.0, 2.71828182845905*exp(-b)) - 2.0*a - p*Min(1.0, 2.71828182845905*exp(-b)) + 1.0)*exp(b) - 2.71828182845905)/((2.0*a - 1.0)*(p*(Min(1.0, 2.71828182845905*exp(-b)) - 1.0)*exp(b) + (p - 1.0)*(1.0*exp(b) - 2.71828182845905))*(-a**2*p + a**2 + 0.666666666666667*a*p - 0.666666666666667*a + 0.122626480390481*(3.0*a**2*p*Min(1.0, 2.71828182845905*exp(-b)) - 3.0*a**2 - 2.0*a*p*Min(1.0, 2.71828182845905*exp(-b)) + 1.0)*exp(b)))"
      ]
     },
     "execution_count": 183,
     "metadata": {},
     "output_type": "execute_result"
    }
   ],
   "source": [
    "attacker_full_fixed  = p0*f0_fixed + p1*f1_fixed + C*p1*a*(2*a*(1-a)/(1-2*a))\n",
    "p1_ev = p1_sym.evalf(subs={C:1., E:0.})\n",
    "attacker_final_fixed = sp.simplify(attacker_full_fixed.evalf(subs={p1:p1_ev, C:1., E:0., g:0}))\n",
    "attacker_final_fixed"
   ]
  },
  {
   "cell_type": "code",
   "execution_count": 184,
   "metadata": {},
   "outputs": [],
   "source": [
    "g0_fixed   = C*(1-a)\n",
    "g1_fixed   = C*(1-a)*(1-a)*(1-g)\n",
    "g0p_fixed  = C*(1-a)\n",
    "g0pp_fixed = C*(1-a)"
   ]
  },
  {
   "cell_type": "code",
   "execution_count": 185,
   "metadata": {},
   "outputs": [
    {
     "data": {
      "text/latex": [
       "$\\displaystyle \\frac{1.0 a^{2} \\cdot \\left(1.0 - a\\right) \\left(- 2.0 a p \\min\\left(1.0, 2.71828182845905 e^{- b}\\right) + 5.43656365691809 a p e^{- b} + 2.0 a - 5.43656365691809 a e^{- b} + p \\min\\left(1.0, 2.71828182845905 e^{- b}\\right) - 2.71828182845905 p e^{- b} - 1.0 + 2.71828182845905 e^{- b}\\right)}{- 3.0 a^{2} p \\min\\left(1.0, 2.71828182845905 e^{- b}\\right) + 8.15484548537714 a^{2} p e^{- b} + 3.0 a^{2} - 8.15484548537714 a^{2} e^{- b} + 2.0 a p \\min\\left(1.0, 2.71828182845905 e^{- b}\\right) - 5.43656365691809 a p e^{- b} + 5.43656365691809 a e^{- b} - 1.0} + \\frac{2.0 a \\left(1.0 - a\\right)^{2} \\left(- 2.0 a p \\min\\left(1.0, 2.71828182845905 e^{- b}\\right) + 5.43656365691809 a p e^{- b} + 2.0 a - 5.43656365691809 a e^{- b} + p \\min\\left(1.0, 2.71828182845905 e^{- b}\\right) - 2.71828182845905 p e^{- b} - 1.0 + 2.71828182845905 e^{- b}\\right)}{- 3.0 a^{2} p \\min\\left(1.0, 2.71828182845905 e^{- b}\\right) + 8.15484548537714 a^{2} p e^{- b} + 3.0 a^{2} - 8.15484548537714 a^{2} e^{- b} + 2.0 a p \\min\\left(1.0, 2.71828182845905 e^{- b}\\right) - 5.43656365691809 a p e^{- b} + 5.43656365691809 a e^{- b} - 1.0} + \\frac{1.0 a \\left(1.0 - a\\right) \\left(- 2.0 a p \\min\\left(1.0, 2.71828182845905 e^{- b}\\right) + 5.43656365691809 a p e^{- b} + 2.0 a - 5.43656365691809 a e^{- b} + p \\min\\left(1.0, 2.71828182845905 e^{- b}\\right) - 2.71828182845905 p e^{- b} - 1.0 + 2.71828182845905 e^{- b}\\right)}{\\left(a p \\left(1.0 - \\min\\left(1.0, 2.71828182845905 e^{- b}\\right)\\right) + a \\left(1.0 - p\\right) \\left(1.0 - 2.71828182845905 e^{- b}\\right)\\right) \\left(- 3.0 a^{2} p \\min\\left(1.0, 2.71828182845905 e^{- b}\\right) + 8.15484548537714 a^{2} p e^{- b} + 3.0 a^{2} - 8.15484548537714 a^{2} e^{- b} + 2.0 a p \\min\\left(1.0, 2.71828182845905 e^{- b}\\right) - 5.43656365691809 a p e^{- b} + 5.43656365691809 a e^{- b} - 1.0\\right)}$"
      ],
      "text/plain": [
       "1.0*a**2*(1.0 - a)*(-2.0*a*p*Min(1.0, 2.71828182845905*exp(-b)) + 5.43656365691809*a*p*exp(-b) + 2.0*a - 5.43656365691809*a*exp(-b) + p*Min(1.0, 2.71828182845905*exp(-b)) - 2.71828182845905*p*exp(-b) - 1.0 + 2.71828182845905*exp(-b))/(-3.0*a**2*p*Min(1.0, 2.71828182845905*exp(-b)) + 8.15484548537714*a**2*p*exp(-b) + 3.0*a**2 - 8.15484548537714*a**2*exp(-b) + 2.0*a*p*Min(1.0, 2.71828182845905*exp(-b)) - 5.43656365691809*a*p*exp(-b) + 5.43656365691809*a*exp(-b) - 1.0) + 2.0*a*(1.0 - a)**2*(-2.0*a*p*Min(1.0, 2.71828182845905*exp(-b)) + 5.43656365691809*a*p*exp(-b) + 2.0*a - 5.43656365691809*a*exp(-b) + p*Min(1.0, 2.71828182845905*exp(-b)) - 2.71828182845905*p*exp(-b) - 1.0 + 2.71828182845905*exp(-b))/(-3.0*a**2*p*Min(1.0, 2.71828182845905*exp(-b)) + 8.15484548537714*a**2*p*exp(-b) + 3.0*a**2 - 8.15484548537714*a**2*exp(-b) + 2.0*a*p*Min(1.0, 2.71828182845905*exp(-b)) - 5.43656365691809*a*p*exp(-b) + 5.43656365691809*a*exp(-b) - 1.0) + 1.0*a*(1.0 - a)*(-2.0*a*p*Min(1.0, 2.71828182845905*exp(-b)) + 5.43656365691809*a*p*exp(-b) + 2.0*a - 5.43656365691809*a*exp(-b) + p*Min(1.0, 2.71828182845905*exp(-b)) - 2.71828182845905*p*exp(-b) - 1.0 + 2.71828182845905*exp(-b))/((a*p*(1.0 - Min(1.0, 2.71828182845905*exp(-b))) + a*(1.0 - p)*(1.0 - 2.71828182845905*exp(-b)))*(-3.0*a**2*p*Min(1.0, 2.71828182845905*exp(-b)) + 8.15484548537714*a**2*p*exp(-b) + 3.0*a**2 - 8.15484548537714*a**2*exp(-b) + 2.0*a*p*Min(1.0, 2.71828182845905*exp(-b)) - 5.43656365691809*a*p*exp(-b) + 5.43656365691809*a*exp(-b) - 1.0))"
      ]
     },
     "execution_count": 185,
     "metadata": {},
     "output_type": "execute_result"
    }
   ],
   "source": [
    "honest_full_fixed = p0*g0_fixed + p1*g1_fixed + p0p*g0p_fixed + p0pp*g0pp_fixed\n",
    "honest_final_fixed = honest_full_fixed.evalf(subs={p1:p1_ev, C:1., E:0., g:0})\n",
    "honest_final_fixed"
   ]
  },
  {
   "cell_type": "code",
   "execution_count": 186,
   "metadata": {},
   "outputs": [],
   "source": [
    "subs = {a:0.33, b:2., g:0., p:0, C:1., E:0.}"
   ]
  },
  {
   "cell_type": "code",
   "execution_count": 187,
   "metadata": {},
   "outputs": [
    {
     "data": {
      "text/latex": [
       "$\\displaystyle 0.32795117824807$"
      ],
      "text/plain": [
       "0.327951178248070"
      ]
     },
     "execution_count": 187,
     "metadata": {},
     "output_type": "execute_result"
    }
   ],
   "source": [
    "attacker_final_fixed.subs(subs)/(attacker_final_fixed.subs(subs)+honest_final_fixed.subs(subs))"
   ]
  },
  {
   "cell_type": "code",
   "execution_count": null,
   "metadata": {},
   "outputs": [],
   "source": []
  }
 ],
 "metadata": {
  "kernelspec": {
   "display_name": "Python 3",
   "language": "python",
   "name": "python3"
  },
  "language_info": {
   "codemirror_mode": {
    "name": "ipython",
    "version": 3
   },
   "file_extension": ".py",
   "mimetype": "text/x-python",
   "name": "python",
   "nbconvert_exporter": "python",
   "pygments_lexer": "ipython3",
   "version": "3.8.16"
  }
 },
 "nbformat": 4,
 "nbformat_minor": 4
}
