{
 "cells": [
  {
   "cell_type": "code",
   "execution_count": 2,
   "metadata": {},
   "outputs": [],
   "source": [
    "import matplotlib.pyplot as plt\n",
    "import matplotlib.patches as mpatches\n",
    "import numpy as np\n",
    "from scipy.optimize import minimize\n",
    "import pandas as pd\n",
    "from scipy.stats import poisson, uniform, expon, pareto\n",
    "from tqdm import tqdm\n",
    "from mdptoolbox import mdp, util\n",
    "import itertools\n",
    "from scipy.sparse import csr_matrix, lil_matrix\n",
    "from matplotlib.patches import Patch\n",
    "import math\n",
    "import random\n",
    "import sympy as sp\n",
    "from sympy.printing.latex import print_latex"
   ]
  },
  {
   "cell_type": "markdown",
   "metadata": {},
   "source": [
    "# Simulations & Theory for fixed block rewards under \\beta cutoff strategy"
   ]
  },
  {
   "cell_type": "code",
   "execution_count": 211,
   "metadata": {},
   "outputs": [],
   "source": [
    "# simluation code\n",
    "def simAllRews(a, b, g, p, C, E, n):\n",
    "    gamma = g\n",
    "    state = [0,0] # (attacker, honest)\n",
    "\n",
    "    honestBlcs = 0\n",
    "    attackBlcs = 0\n",
    "    honestRews = 0\n",
    "    attackRews = 0\n",
    "    honestBern = 0\n",
    "    attackBern = 0\n",
    "    curTime    = 0\n",
    "    lastState0 = 0\n",
    "    lastAttBlc = 0\n",
    "    prevBern   = 0\n",
    "    for _ in range(n):\n",
    "        attBlock = np.random.binomial(1, a)\n",
    "        execRews = np.random.exponential()\n",
    "        bernRews = np.random.binomial(1, p=p)\n",
    "        curTime += execRews\n",
    "\n",
    "        if state == [0,0]:\n",
    "            if attBlock:\n",
    "                if bernRews and execRews < (b-C-E):\n",
    "                    state      = [1,0]\n",
    "                    lastAttBlc = curTime\n",
    "                    prevBern   = bernRews\n",
    "                elif not bernRews and execRews < b-C:\n",
    "                    state      = [1,0]\n",
    "                    lastAttBlc = curTime\n",
    "                    prevBern   = 0\n",
    "                else:\n",
    "                    attackBlcs += 1*C\n",
    "                    attackRews += execRews\n",
    "                    attackBern += bernRews\n",
    "                    lastState0  = curTime\n",
    "                    lastAttBlc  = curTime\n",
    "            else:\n",
    "                honestBlcs += 1*C\n",
    "                honestRews += execRews\n",
    "                honestBern += bernRews\n",
    "                lastState0  = curTime\n",
    "                lastAttBlc  = curTime\n",
    "            continue\n",
    "\n",
    "        if state == [1,0]:\n",
    "            if attBlock:\n",
    "                state = [2,0]\n",
    "                lastAttBlc = curTime\n",
    "                attackBern += bernRews + prevBern\n",
    "                prevBern   = 0\n",
    "            else:\n",
    "                sample        = np.random.uniform()\n",
    "                nextExecRews  = np.random.exponential()\n",
    "                nextBern      = np.random.binomial(1, p=p)\n",
    "                if sample < a:\n",
    "                    attackBlcs += 2*C\n",
    "                    attackRews += (curTime - lastState0) + nextExecRews\n",
    "                    attackBern += (prevBern + nextBern)\n",
    "                elif sample <= a + ((1-a)*gamma):\n",
    "                    attackBlcs += 1*C\n",
    "                    honestBlcs += 1*C\n",
    "                    attackRews += (lastAttBlc - lastState0)\n",
    "                    honestRews += (curTime - lastAttBlc) + nextExecRews\n",
    "                    attackBern += prevBern\n",
    "                    honestBern += nextBern\n",
    "                else:\n",
    "                    honestBlcs += 2*C\n",
    "                    honestRews += (curTime - lastState0) + nextExecRews\n",
    "                    # honest bern is a random trial\n",
    "                    prevHonest  = np.random.binomial(1, p=p)\n",
    "                    honestBern += (prevHonest + nextBern)\n",
    "                curTime    += nextExecRews\n",
    "                lastState0  = curTime\n",
    "                lastAttBlc  = curTime\n",
    "                prevBern    = 0\n",
    "                state = [0,0]\n",
    "            continue\n",
    "\n",
    "        if attBlock:\n",
    "            state[0] += 1\n",
    "            lastAttBlc = curTime\n",
    "        else:\n",
    "            state[1] += 1\n",
    "\n",
    "        diff = state[0] - state[1]\n",
    "        if diff == 1:\n",
    "            attackBlcs += state[0]*C\n",
    "            if state[0] < 2:\n",
    "                raise KeyError(\"here\")\n",
    "            attackBern += (state[0]-2) * p\n",
    "            attackRews += (lastAttBlc - lastState0)\n",
    "\n",
    "            # 0'' state\n",
    "            remRews = (curTime - lastAttBlc)\n",
    "            attBlock = np.random.binomial(1, a)\n",
    "            execRews = np.random.exponential()\n",
    "            bernRews = np.random.binomial(1, p=p)\n",
    "            curTime += execRews\n",
    "            if attBlock:\n",
    "                attackBlcs += 1*C\n",
    "                attackRews += (remRews + execRews)\n",
    "                attackBern += bernRews\n",
    "            else:\n",
    "                honestBlcs += 1*C\n",
    "                honestRews += (remRews + execRews)\n",
    "                honestBern += bernRews\n",
    "\n",
    "            lastState0  = curTime\n",
    "            lastAttBlc  = curTime\n",
    "            state = [0,0]\n",
    " \n",
    "    return honestBlcs, attackBlcs, honestBern, attackBern, honestRews, attackRews, curTime"
   ]
  },
  {
   "cell_type": "code",
   "execution_count": 212,
   "metadata": {},
   "outputs": [
    {
     "data": {
      "text/plain": [
       "array([1.751, 1.876, 2.001, 2.126, 2.251, 2.376, 2.501, 2.626, 2.751,\n",
       "       2.876, 3.001, 3.126, 3.251, 3.376, 3.501, 3.626, 3.751, 3.876,\n",
       "       4.001])"
      ]
     },
     "execution_count": 212,
     "metadata": {},
     "output_type": "execute_result"
    }
   ],
   "source": [
    "alphas    = [0.2, 0.25, 0.3, 0.35, 0.4]\n",
    "betas     = np.arange(1.751, 4, 0.01)\n",
    "ps        = [0.5] # using E=1, C=1\n",
    "sim_betas = np.arange(1.751, 4.1, 0.125)\n",
    "sim_betas"
   ]
  },
  {
   "cell_type": "code",
   "execution_count": 123,
   "metadata": {},
   "outputs": [],
   "source": [
    "n=int(5e4)"
   ]
  },
  {
   "cell_type": "code",
   "execution_count": 214,
   "metadata": {},
   "outputs": [],
   "source": [
    "honestBlc, attackBlc, honestBer, attackBer, honestLin, attackLin, time = simAllRews(\n",
    "                a=0.3, b=2., g=0., p=0.5, C=1., E=4., n=n)"
   ]
  },
  {
   "cell_type": "code",
   "execution_count": 215,
   "metadata": {},
   "outputs": [
    {
     "data": {
      "text/plain": [
       "(0.2654329687608836, 0.26314822843162106)"
      ]
     },
     "execution_count": 215,
     "metadata": {},
     "output_type": "execute_result"
    }
   ],
   "source": [
    "attackBlc/(time), attacker_final_fixed_lambda(a=0.3, b=2., p=0.5)"
   ]
  },
  {
   "cell_type": "code",
   "execution_count": 216,
   "metadata": {},
   "outputs": [
    {
     "data": {
      "text/plain": [
       "(0.3157838807920202, 0.3173104493203571)"
      ]
     },
     "execution_count": 216,
     "metadata": {},
     "output_type": "execute_result"
    }
   ],
   "source": [
    "attackLin/time, attack_final_lin_lambda(a=0.3, b=2., p=0.5)"
   ]
  },
  {
   "cell_type": "code",
   "execution_count": 224,
   "metadata": {},
   "outputs": [
    {
     "data": {
      "text/latex": [
       "$\\displaystyle \\frac{E a p \\left(0.245252960780962 a^{2} \\left(a - 1.0\\right) \\left(p \\left(\\min\\left(1.0, 2.71828182845905 e^{E - b}\\right) - 1.0\\right) e^{b} + \\left(p - 1.0\\right) \\left(1.0 e^{b} - 2.71828182845905\\right)\\right) - 0.122626480390481 a \\left(a - 2.0\\right) \\left(2.0 a - 1.0\\right) \\left(p \\left(\\min\\left(1.0, 2.71828182845905 e^{E - b}\\right) - 1.0\\right) e^{b} + \\left(p - 1.0\\right) \\left(1.0 e^{b} - 2.71828182845905\\right)\\right) - 0.122626480390481 \\cdot \\left(2.0 a - 1.0\\right) \\left(a \\left(a - 1.0\\right) \\left(\\min\\left(1.0, 2.71828182845905 e^{E - b}\\right) - 1.0\\right) - a \\left(\\min\\left(1.0, 2.71828182845905 e^{E - b}\\right) - 1.0\\right) + \\min\\left(1.0, 2.71828182845905 e^{E - b}\\right)\\right) e^{b}\\right) \\left(- 5.43656365691809 a p + 5.43656365691809 a + 2.71828182845905 p + \\left(2.0 a p \\min\\left(1.0, 2.71828182845905 e^{E - b}\\right) - 2.0 a - p \\min\\left(1.0, 2.71828182845905 e^{E - b}\\right) + 1.0\\right) e^{b} - 2.71828182845905\\right)}{\\left(2.0 a - 1.0\\right) \\left(p \\left(\\min\\left(1.0, 2.71828182845905 e^{E - b}\\right) - 1.0\\right) e^{b} + \\left(p - 1.0\\right) \\left(1.0 e^{b} - 2.71828182845905\\right)\\right) \\left(- a^{2} p + a^{2} + 0.666666666666667 a p - 0.666666666666667 a + 0.122626480390481 \\cdot \\left(3.0 a^{2} p \\min\\left(1.0, 2.71828182845905 e^{E - b}\\right) - 3.0 a^{2} - 2.0 a p \\min\\left(1.0, 2.71828182845905 e^{E - b}\\right) + 1.0\\right) e^{b}\\right)}$"
      ],
      "text/plain": [
       "E*a*p*(0.245252960780962*a**2*(a - 1.0)*(p*(Min(1.0, 2.71828182845905*exp(E - b)) - 1.0)*exp(b) + (p - 1.0)*(1.0*exp(b) - 2.71828182845905)) - 0.122626480390481*a*(a - 2.0)*(2.0*a - 1.0)*(p*(Min(1.0, 2.71828182845905*exp(E - b)) - 1.0)*exp(b) + (p - 1.0)*(1.0*exp(b) - 2.71828182845905)) - 0.122626480390481*(2.0*a - 1.0)*(a*(a - 1.0)*(Min(1.0, 2.71828182845905*exp(E - b)) - 1.0) - a*(Min(1.0, 2.71828182845905*exp(E - b)) - 1.0) + Min(1.0, 2.71828182845905*exp(E - b)))*exp(b))*(-5.43656365691809*a*p + 5.43656365691809*a + 2.71828182845905*p + (2.0*a*p*Min(1.0, 2.71828182845905*exp(E - b)) - 2.0*a - p*Min(1.0, 2.71828182845905*exp(E - b)) + 1.0)*exp(b) - 2.71828182845905)/((2.0*a - 1.0)*(p*(Min(1.0, 2.71828182845905*exp(E - b)) - 1.0)*exp(b) + (p - 1.0)*(1.0*exp(b) - 2.71828182845905))*(-a**2*p + a**2 + 0.666666666666667*a*p - 0.666666666666667*a + 0.122626480390481*(3.0*a**2*p*Min(1.0, 2.71828182845905*exp(E - b)) - 3.0*a**2 - 2.0*a*p*Min(1.0, 2.71828182845905*exp(E - b)) + 1.0)*exp(b)))"
      ]
     },
     "execution_count": 224,
     "metadata": {},
     "output_type": "execute_result"
    }
   ],
   "source": [
    "attack_final_bern"
   ]
  },
  {
   "cell_type": "code",
   "execution_count": 243,
   "metadata": {},
   "outputs": [
    {
     "data": {
      "text/latex": [
       "$\\displaystyle \\frac{2 E a^{3} p \\left(1 - a\\right) \\left(- 2 a p \\min\\left(1, 2.71828182845905 e^{E - b}\\right) + 5.43656365691809 a p e^{- b} + 2 a - 5.43656365691809 a e^{- b} + p \\min\\left(1, 2.71828182845905 e^{E - b}\\right) - 2.71828182845905 p e^{- b} - 1 + 2.71828182845905 e^{- b}\\right)}{\\left(1 - 2 a\\right) \\left(- 3 a^{2} p \\min\\left(1, 2.71828182845905 e^{E - b}\\right) + 8.15484548537714 a^{2} p e^{- b} + 3 a^{2} - 8.15484548537714 a^{2} e^{- b} + 2 a p \\min\\left(1, 2.71828182845905 e^{E - b}\\right) - 5.43656365691809 a p e^{- b} + 5.43656365691809 a e^{- b} - 1\\right)} + \\frac{E a p \\left(a \\left(1 - a\\right) + a\\right) \\left(- 2 a p \\min\\left(1, 2.71828182845905 e^{E - b}\\right) + 5.43656365691809 a p e^{- b} + 2 a - 5.43656365691809 a e^{- b} + p \\min\\left(1, 2.71828182845905 e^{E - b}\\right) - 2.71828182845905 p e^{- b} - 1 + 2.71828182845905 e^{- b}\\right)}{- 3 a^{2} p \\min\\left(1, 2.71828182845905 e^{E - b}\\right) + 8.15484548537714 a^{2} p e^{- b} + 3 a^{2} - 8.15484548537714 a^{2} e^{- b} + 2 a p \\min\\left(1, 2.71828182845905 e^{E - b}\\right) - 5.43656365691809 a p e^{- b} + 5.43656365691809 a e^{- b} - 1} + \\frac{a \\left(E a^{2} p \\left(1 - \\min\\left(1, e^{E - b + 1}\\right)\\right) + E a p \\left(1 - a\\right) \\left(1 - \\min\\left(1, e^{E - b + 1}\\right)\\right) \\left(a + g \\left(1 - a\\right)\\right) + E a p \\min\\left(1, e^{E - b + 1}\\right)\\right) \\left(- 2 a p \\min\\left(1, 2.71828182845905 e^{E - b}\\right) + 5.43656365691809 a p e^{- b} + 2 a - 5.43656365691809 a e^{- b} + p \\min\\left(1, 2.71828182845905 e^{E - b}\\right) - 2.71828182845905 p e^{- b} - 1 + 2.71828182845905 e^{- b}\\right)}{\\left(a p \\left(1 - \\min\\left(1, e^{E - b + 1}\\right)\\right) + a \\left(1 - p\\right) \\left(1 - e^{1 - b}\\right)\\right) \\left(- 3 a^{2} p \\min\\left(1, 2.71828182845905 e^{E - b}\\right) + 8.15484548537714 a^{2} p e^{- b} + 3 a^{2} - 8.15484548537714 a^{2} e^{- b} + 2 a p \\min\\left(1, 2.71828182845905 e^{E - b}\\right) - 5.43656365691809 a p e^{- b} + 5.43656365691809 a e^{- b} - 1\\right)}$"
      ],
      "text/plain": [
       "2*E*a**3*p*(1 - a)*(-2*a*p*Min(1, 2.71828182845905*exp(E - b)) + 5.43656365691809*a*p*exp(-b) + 2*a - 5.43656365691809*a*exp(-b) + p*Min(1, 2.71828182845905*exp(E - b)) - 2.71828182845905*p*exp(-b) - 1 + 2.71828182845905*exp(-b))/((1 - 2*a)*(-3*a**2*p*Min(1, 2.71828182845905*exp(E - b)) + 8.15484548537714*a**2*p*exp(-b) + 3*a**2 - 8.15484548537714*a**2*exp(-b) + 2*a*p*Min(1, 2.71828182845905*exp(E - b)) - 5.43656365691809*a*p*exp(-b) + 5.43656365691809*a*exp(-b) - 1)) + E*a*p*(a*(1 - a) + a)*(-2*a*p*Min(1, 2.71828182845905*exp(E - b)) + 5.43656365691809*a*p*exp(-b) + 2*a - 5.43656365691809*a*exp(-b) + p*Min(1, 2.71828182845905*exp(E - b)) - 2.71828182845905*p*exp(-b) - 1 + 2.71828182845905*exp(-b))/(-3*a**2*p*Min(1, 2.71828182845905*exp(E - b)) + 8.15484548537714*a**2*p*exp(-b) + 3*a**2 - 8.15484548537714*a**2*exp(-b) + 2*a*p*Min(1, 2.71828182845905*exp(E - b)) - 5.43656365691809*a*p*exp(-b) + 5.43656365691809*a*exp(-b) - 1) + a*(E*a**2*p*(1 - Min(1, exp(E - b + 1))) + E*a*p*(1 - a)*(1 - Min(1, exp(E - b + 1)))*(a + g*(1 - a)) + E*a*p*Min(1, exp(E - b + 1)))*(-2*a*p*Min(1, 2.71828182845905*exp(E - b)) + 5.43656365691809*a*p*exp(-b) + 2*a - 5.43656365691809*a*exp(-b) + p*Min(1, 2.71828182845905*exp(E - b)) - 2.71828182845905*p*exp(-b) - 1 + 2.71828182845905*exp(-b))/((a*p*(1 - Min(1, exp(E - b + 1))) + a*(1 - p)*(1 - exp(1 - b)))*(-3*a**2*p*Min(1, 2.71828182845905*exp(E - b)) + 8.15484548537714*a**2*p*exp(-b) + 3*a**2 - 8.15484548537714*a**2*exp(-b) + 2*a*p*Min(1, 2.71828182845905*exp(E - b)) - 5.43656365691809*a*p*exp(-b) + 5.43656365691809*a*exp(-b) - 1))"
      ]
     },
     "execution_count": 243,
     "metadata": {},
     "output_type": "execute_result"
    }
   ],
   "source": [
    "attack_full_bern.subs({p1:p1_sym.subs({C:1.})}).subs({C:1})"
   ]
  },
  {
   "cell_type": "code",
   "execution_count": 234,
   "metadata": {},
   "outputs": [
    {
     "data": {
      "text/latex": [
       "$\\displaystyle C$"
      ],
      "text/plain": [
       "C"
      ]
     },
     "execution_count": 234,
     "metadata": {},
     "output_type": "execute_result"
    }
   ],
   "source": [
    "C"
   ]
  },
  {
   "cell_type": "code",
   "execution_count": 217,
   "metadata": {},
   "outputs": [
    {
     "data": {
      "text/plain": [
       "(0.3043400207207069, 0.5999999999999996)"
      ]
     },
     "execution_count": 217,
     "metadata": {},
     "output_type": "execute_result"
    }
   ],
   "source": [
    "attackBer*4/(time*0.5*4), attack_final_bern_lambda(a=0.3, b=4., p=0.5, E=4.)"
   ]
  },
  {
   "cell_type": "code",
   "execution_count": 239,
   "metadata": {},
   "outputs": [
    {
     "data": {
      "text/latex": [
       "$\\displaystyle \\frac{a \\left(- 2 a p \\min\\left(1, 2.71828182845905 e^{E - b}\\right) + 5.43656365691809 a p e^{- b} + 2 a - 5.43656365691809 a e^{- b} + p \\min\\left(1, 2.71828182845905 e^{E - b}\\right) - 2.71828182845905 p e^{- b} - 1 + 2.71828182845905 e^{- b}\\right)}{- 3 a^{2} p \\min\\left(1, 2.71828182845905 e^{E - b}\\right) + 8.15484548537714 a^{2} p e^{- b} + 3 a^{2} - 8.15484548537714 a^{2} e^{- b} + 2 a p \\min\\left(1, 2.71828182845905 e^{E - b}\\right) - 5.43656365691809 a p e^{- b} + 5.43656365691809 a e^{- b} - 1}$"
      ],
      "text/plain": [
       "a*(-2*a*p*Min(1, 2.71828182845905*exp(E - b)) + 5.43656365691809*a*p*exp(-b) + 2*a - 5.43656365691809*a*exp(-b) + p*Min(1, 2.71828182845905*exp(E - b)) - 2.71828182845905*p*exp(-b) - 1 + 2.71828182845905*exp(-b))/(-3*a**2*p*Min(1, 2.71828182845905*exp(E - b)) + 8.15484548537714*a**2*p*exp(-b) + 3*a**2 - 8.15484548537714*a**2*exp(-b) + 2*a*p*Min(1, 2.71828182845905*exp(E - b)) - 5.43656365691809*a*p*exp(-b) + 5.43656365691809*a*exp(-b) - 1)"
      ]
     },
     "execution_count": 239,
     "metadata": {},
     "output_type": "execute_result"
    }
   ],
   "source": [
    "p1_sym.subs({C:1.})"
   ]
  },
  {
   "cell_type": "code",
   "execution_count": 231,
   "metadata": {},
   "outputs": [
    {
     "data": {
      "text/latex": [
       "$\\displaystyle \\frac{a \\left(- 2.0 a p \\min\\left(1.0, 2.71828182845905 e^{E - b}\\right) + 5.43656365691809 a p e^{- b} + 2.0 a - 5.43656365691809 a e^{- b} + p \\min\\left(1.0, 2.71828182845905 e^{E - b}\\right) - 2.71828182845905 p e^{- b} - 1.0 + 2.71828182845905 e^{- b}\\right)}{- 3.0 a^{2} p \\min\\left(1.0, 2.71828182845905 e^{E - b}\\right) + 8.15484548537714 a^{2} p e^{- b} + 3.0 a^{2} - 8.15484548537714 a^{2} e^{- b} + 2.0 a p \\min\\left(1.0, 2.71828182845905 e^{E - b}\\right) - 5.43656365691809 a p e^{- b} + 5.43656365691809 a e^{- b} - 1.0}$"
      ],
      "text/plain": [
       "a*(-2.0*a*p*Min(1.0, 2.71828182845905*exp(E - b)) + 5.43656365691809*a*p*exp(-b) + 2.0*a - 5.43656365691809*a*exp(-b) + p*Min(1.0, 2.71828182845905*exp(E - b)) - 2.71828182845905*p*exp(-b) - 1.0 + 2.71828182845905*exp(-b))/(-3.0*a**2*p*Min(1.0, 2.71828182845905*exp(E - b)) + 8.15484548537714*a**2*p*exp(-b) + 3.0*a**2 - 8.15484548537714*a**2*exp(-b) + 2.0*a*p*Min(1.0, 2.71828182845905*exp(E - b)) - 5.43656365691809*a*p*exp(-b) + 5.43656365691809*a*exp(-b) - 1.0)"
      ]
     },
     "execution_count": 231,
     "metadata": {},
     "output_type": "execute_result"
    }
   ],
   "source": [
    "p1_sym.evalf(subs={C:1.})"
   ]
  },
  {
   "cell_type": "code",
   "execution_count": 223,
   "metadata": {},
   "outputs": [
    {
     "data": {
      "text/plain": [
       "<function _lambdifygenerated(a, b, p, E)>"
      ]
     },
     "execution_count": 223,
     "metadata": {},
     "output_type": "execute_result"
    }
   ],
   "source": [
    "p0, p0p, p1, p0pp = sp.symbols('p_0 p_{00} p_1 p_{000}')\n",
    "a, b, x, g, p, C, E  = sp.symbols('a b x g p C E')\n",
    "p0    = p1 / (a*(1-p)*(1-sp.exp(-b+C)) + a*p*(1-sp.Min(sp.exp(-b+C+E),1)))\n",
    "p0p   = p1 * (1-a)\n",
    "p0pp  = p1 * a\n",
    "p2    = p1*(a/(1-a))\n",
    "prest = p1*a/(1-2*a)\n",
    "\n",
    "eq = sp.Eq(p0+p0p+p0pp+prest+p1, 1)\n",
    "p1_sym = sp.solve(eq, p1)[0]\n",
    "f0i_bern   = E * (a*p*sp.Min(1,sp.exp(-b+C+E)))\n",
    "f0ii_bern  = a*E * (a*p*(1-sp.Min(1,sp.exp(-b+C+E))))\n",
    "f0iii_bern = (1-a)*(a+g*(1-a))*E * (a*p*(1-sp.Min(1,sp.exp(-b+C+E))))\n",
    "f0_bern   = f0i_bern + f0ii_bern + f0iii_bern\n",
    "f1_bern   = p*E*(a+(1-a)*a)\n",
    "\n",
    "attack_full_bern  = p0*f0_bern + p1*f1_bern + p*E*p1*a*(2*a*(1-a)/(1-2*a))\n",
    "p1_ev = p1_sym.evalf(subs={C:1.})\n",
    "attack_final_bern = sp.simplify(attack_full_bern.evalf(subs={p1:p1_ev, C:1., g:0}))\n",
    "attack_final_bern_lambda = sp.lambdify((a, b, p, E), attack_final_bern)\n",
    "attack_final_bern_lambda"
   ]
  },
  {
   "cell_type": "code",
   "execution_count": 267,
   "metadata": {},
   "outputs": [
    {
     "data": {
      "text/latex": [
       "$\\displaystyle 0.12$"
      ],
      "text/plain": [
       "0.120000000000000"
      ]
     },
     "execution_count": 267,
     "metadata": {},
     "output_type": "execute_result"
    }
   ],
   "source": [
    "(attack_full_bern.evalf(subs={p1:p1_ev, C:1., g:0}).subs({E:4., a:0.3, p:0.1, b:4.01})).evalf()"
   ]
  },
  {
   "cell_type": "code",
   "execution_count": 209,
   "metadata": {},
   "outputs": [
    {
     "data": {
      "text/plain": [
       "(0.3515725751502587, 0.11365577555940919)"
      ]
     },
     "execution_count": 209,
     "metadata": {},
     "output_type": "execute_result"
    }
   ],
   "source": [
    "attackBer*4/(time*0.5*4), attack_final_bern_lambda(a=0.3, b=4., p=0.5, E=1.)"
   ]
  },
  {
   "cell_type": "code",
   "execution_count": 183,
   "metadata": {},
   "outputs": [
    {
     "name": "stderr",
     "output_type": "stream",
     "text": [
      "100%|██████████| 19/19 [00:05<00:00,  3.73it/s]\n",
      "100%|██████████| 19/19 [00:05<00:00,  3.70it/s]\n",
      "100%|██████████| 19/19 [00:05<00:00,  3.63it/s]\n",
      "100%|██████████| 19/19 [00:05<00:00,  3.62it/s]\n",
      "100%|██████████| 19/19 [00:05<00:00,  3.66it/s]\n"
     ]
    },
    {
     "data": {
      "text/plain": [
       "((5, 19, 1), (5, 19, 1), (5, 19, 1))"
      ]
     },
     "execution_count": 183,
     "metadata": {},
     "output_type": "execute_result"
    }
   ],
   "source": [
    "sim_res_fixed = []\n",
    "sim_res_bern  = []\n",
    "sim_res_lin   = []\n",
    "for a in alphas:\n",
    "    temp1_fixed = []\n",
    "    temp1_bern  = []\n",
    "    temp1_lin  = []\n",
    "    for b in tqdm(sim_betas):\n",
    "        temp2_fixed = []\n",
    "        temp2_bern  = []\n",
    "        temp2_lin  = []\n",
    "        for p in ps:\n",
    "            honestBlc, attackBlc, honestBer, attackBer, honestLin, attackLin, time = simAllRews(\n",
    "                a=a, b=b, g=0., p=p, C=1., E=1., n=n)\n",
    "#             temp2_fixed.append(attackBlc/(attackBlc+honestBlc))\n",
    "#             temp2_bern.append(attackBer/(attackBer+honestBer))\n",
    "#             temp2_lin.append(attackLin/(attackLin+honestLin))\n",
    "            temp2_fixed.append(attackBlc/time)\n",
    "            temp2_bern.append(attackBer/time)\n",
    "            temp2_lin.append(attackLin/time)\n",
    "        temp1_fixed.append(temp2_fixed)\n",
    "        temp1_bern.append(temp2_bern)\n",
    "        temp1_lin.append(temp2_lin)\n",
    "    sim_res_fixed.append(temp1_fixed)\n",
    "    sim_res_bern.append(temp1_bern)\n",
    "    sim_res_lin.append(temp1_lin)\n",
    "sim_res_fixed = np.array(sim_res_fixed)\n",
    "sim_res_bern = np.array(sim_res_bern)\n",
    "sim_res_lin = np.array(sim_res_lin)\n",
    "sim_res_fixed.shape, sim_res_bern.shape, sim_res_lin.shape"
   ]
  },
  {
   "cell_type": "markdown",
   "metadata": {},
   "source": [
    "# Theoretical for fixed rewards"
   ]
  },
  {
   "cell_type": "code",
   "execution_count": 136,
   "metadata": {},
   "outputs": [],
   "source": [
    "p0, p0p, p1, p0pp = sp.symbols('p_0 p_{00} p_1 p_{000}')\n",
    "a, b, x, g, p, C, E  = sp.symbols('a b x g p C E')"
   ]
  },
  {
   "cell_type": "code",
   "execution_count": 137,
   "metadata": {},
   "outputs": [],
   "source": [
    "# p_i is the stationary distribution for State i\n",
    "p0    = p1 / (a*(1-p)*(1-sp.exp(-b+C)) + a*p*(1-sp.Min(sp.exp(-b+C+E),1)))\n",
    "p0p   = p1 * (1-a)\n",
    "p0pp  = p1 * a\n",
    "p2    = p1*(a/(1-a))\n",
    "prest = p1*a/(1-2*a)"
   ]
  },
  {
   "cell_type": "code",
   "execution_count": 138,
   "metadata": {},
   "outputs": [],
   "source": [
    "eq = sp.Eq(p0+p0p+p0pp+prest+p1, 1)\n",
    "p1_sym = sp.solve(eq, p1)[0]"
   ]
  },
  {
   "cell_type": "code",
   "execution_count": 139,
   "metadata": {},
   "outputs": [
    {
     "data": {
      "text/latex": [
       "$\\displaystyle \\frac{1}{1 + \\frac{1}{a p \\left(1 - \\min\\left(1, e^{C + E - b}\\right)\\right) + a \\left(1 - p\\right) \\left(1 - e^{C - b}\\right)} + \\frac{1 - a}{1 - 2 a}}$"
      ],
      "text/plain": [
       "1/(1 + 1/(a*p*(1 - Min(1, exp(C + E - b))) + a*(1 - p)*(1 - exp(C - b))) + (1 - a)/(1 - 2*a))"
      ]
     },
     "execution_count": 139,
     "metadata": {},
     "output_type": "execute_result"
    }
   ],
   "source": [
    "p1_me = (1/(a*(1-p)*(1-sp.exp(-b+C)) + a*p*(1-sp.Min(sp.exp(-b+C+E),1))) + 1 + (1-a)/(1-2*a))**(-1)\n",
    "p1_me"
   ]
  },
  {
   "cell_type": "code",
   "execution_count": 140,
   "metadata": {},
   "outputs": [
    {
     "data": {
      "text/plain": [
       "(0.138811963706275, 0.138811963706275)"
      ]
     },
     "execution_count": 140,
     "metadata": {},
     "output_type": "execute_result"
    }
   ],
   "source": [
    "# confirming the symbolic solver and my by hand solver have same values\n",
    "p1_sym.evalf(subs={a:0.3, b:3, p:0.5, C:1, E:1}), p1_me.evalf(subs={a:0.3, b:3, p:0.5, C:1, E:1})"
   ]
  },
  {
   "cell_type": "code",
   "execution_count": 141,
   "metadata": {},
   "outputs": [
    {
     "data": {
      "text/latex": [
       "$\\displaystyle C \\left(1 - a\\right) \\left(a + g \\left(1 - a\\right)\\right) \\left(a p \\left(1 - \\min\\left(1, e^{C + E - b}\\right)\\right) + a \\left(1 - p\\right) \\left(1 - e^{C - b}\\right)\\right)$"
      ],
      "text/plain": [
       "C*(1 - a)*(a + g*(1 - a))*(a*p*(1 - Min(1, exp(C + E - b))) + a*(1 - p)*(1 - exp(C - b)))"
      ]
     },
     "execution_count": 141,
     "metadata": {},
     "output_type": "execute_result"
    }
   ],
   "source": [
    "# 3 cases for f0\n",
    "f0i_fixed   = C * (a*p*sp.Min(1,sp.exp(-b+C+E)) + a*(1-p)*sp.exp(-b+C))\n",
    "f0ii_fixed  = a*C * (a*p*(1-sp.Min(1,sp.exp(-b+C+E))) + a*(1-p)*(1-sp.exp(-b+C)))\n",
    "f0iii_fixed = (1-a)*(a+g*(1-a))*C * (a*p*(1-sp.Min(1,sp.exp(-b+C+E))) + a*(1-p)*(1-sp.exp(-b+C)))\n",
    "f0iii_fixed"
   ]
  },
  {
   "cell_type": "code",
   "execution_count": 142,
   "metadata": {},
   "outputs": [
    {
     "data": {
      "text/latex": [
       "$\\displaystyle C a \\left(a p \\left(1 - \\min\\left(1, e^{C + E - b}\\right)\\right) + a \\left(1 - p\\right) \\left(1 - e^{C - b}\\right)\\right) + C \\left(1 - a\\right) \\left(a + g \\left(1 - a\\right)\\right) \\left(a p \\left(1 - \\min\\left(1, e^{C + E - b}\\right)\\right) + a \\left(1 - p\\right) \\left(1 - e^{C - b}\\right)\\right) + C \\left(a p \\min\\left(1, e^{C + E - b}\\right) + a \\left(1 - p\\right) e^{C - b}\\right)$"
      ],
      "text/plain": [
       "C*a*(a*p*(1 - Min(1, exp(C + E - b))) + a*(1 - p)*(1 - exp(C - b))) + C*(1 - a)*(a + g*(1 - a))*(a*p*(1 - Min(1, exp(C + E - b))) + a*(1 - p)*(1 - exp(C - b))) + C*(a*p*Min(1, exp(C + E - b)) + a*(1 - p)*exp(C - b))"
      ]
     },
     "execution_count": 142,
     "metadata": {},
     "output_type": "execute_result"
    }
   ],
   "source": [
    "# explicit for f0 and f1\n",
    "f0_fixed   = f0i_fixed + f0ii_fixed + f0iii_fixed\n",
    "f1_fixed   = C*(a+(1-a)*a)\n",
    "f0_fixed"
   ]
  },
  {
   "cell_type": "code",
   "execution_count": 143,
   "metadata": {},
   "outputs": [
    {
     "data": {
      "text/latex": [
       "$\\displaystyle \\frac{a \\left(0.245252960780962 a^{2} \\left(a - 1.0\\right) \\left(p \\left(\\min\\left(1.0, 7.38905609893065 e^{- b}\\right) - 1.0\\right) e^{b} + \\left(p - 1.0\\right) \\left(1.0 e^{b} - 2.71828182845905\\right)\\right) - 0.122626480390481 a \\left(a - 2.0\\right) \\left(2.0 a - 1.0\\right) \\left(p \\left(\\min\\left(1.0, 7.38905609893065 e^{- b}\\right) - 1.0\\right) e^{b} + \\left(p - 1.0\\right) \\left(1.0 e^{b} - 2.71828182845905\\right)\\right) - 0.122626480390481 \\cdot \\left(2.0 a - 1.0\\right) \\left(1.0 a \\left(a - 1.0\\right) \\left(p \\left(\\min\\left(1.0, 7.38905609893065 e^{- b}\\right) - 1.0\\right) e^{b} + \\left(p - 1.0\\right) \\left(1.0 e^{b} - 2.71828182845905\\right)\\right) - 1.0 a \\left(p \\left(\\min\\left(1.0, 7.38905609893065 e^{- b}\\right) - 1.0\\right) e^{b} + \\left(p - 1.0\\right) \\left(1.0 e^{b} - 2.71828182845905\\right)\\right) + 1.0 p e^{b} \\min\\left(1.0, 7.38905609893065 e^{- b}\\right) - 2.71828182845905 p + 2.71828182845905\\right)\\right) \\left(- 5.43656365691809 a p + 5.43656365691809 a + 2.71828182845905 p + \\left(2.0 a p \\min\\left(1.0, 7.38905609893065 e^{- b}\\right) - 2.0 a - p \\min\\left(1.0, 7.38905609893065 e^{- b}\\right) + 1.0\\right) e^{b} - 2.71828182845905\\right)}{\\left(2.0 a - 1.0\\right) \\left(p \\left(\\min\\left(1.0, 7.38905609893065 e^{- b}\\right) - 1.0\\right) e^{b} + \\left(p - 1.0\\right) \\left(1.0 e^{b} - 2.71828182845905\\right)\\right) \\left(- a^{2} p + a^{2} + 0.666666666666667 a p - 0.666666666666667 a + 0.122626480390481 \\cdot \\left(3.0 a^{2} p \\min\\left(1.0, 7.38905609893065 e^{- b}\\right) - 3.0 a^{2} - 2.0 a p \\min\\left(1.0, 7.38905609893065 e^{- b}\\right) + 1.0\\right) e^{b}\\right)}$"
      ],
      "text/plain": [
       "a*(0.245252960780962*a**2*(a - 1.0)*(p*(Min(1.0, 7.38905609893065*exp(-b)) - 1.0)*exp(b) + (p - 1.0)*(1.0*exp(b) - 2.71828182845905)) - 0.122626480390481*a*(a - 2.0)*(2.0*a - 1.0)*(p*(Min(1.0, 7.38905609893065*exp(-b)) - 1.0)*exp(b) + (p - 1.0)*(1.0*exp(b) - 2.71828182845905)) - 0.122626480390481*(2.0*a - 1.0)*(1.0*a*(a - 1.0)*(p*(Min(1.0, 7.38905609893065*exp(-b)) - 1.0)*exp(b) + (p - 1.0)*(1.0*exp(b) - 2.71828182845905)) - 1.0*a*(p*(Min(1.0, 7.38905609893065*exp(-b)) - 1.0)*exp(b) + (p - 1.0)*(1.0*exp(b) - 2.71828182845905)) + 1.0*p*exp(b)*Min(1.0, 7.38905609893065*exp(-b)) - 2.71828182845905*p + 2.71828182845905))*(-5.43656365691809*a*p + 5.43656365691809*a + 2.71828182845905*p + (2.0*a*p*Min(1.0, 7.38905609893065*exp(-b)) - 2.0*a - p*Min(1.0, 7.38905609893065*exp(-b)) + 1.0)*exp(b) - 2.71828182845905)/((2.0*a - 1.0)*(p*(Min(1.0, 7.38905609893065*exp(-b)) - 1.0)*exp(b) + (p - 1.0)*(1.0*exp(b) - 2.71828182845905))*(-a**2*p + a**2 + 0.666666666666667*a*p - 0.666666666666667*a + 0.122626480390481*(3.0*a**2*p*Min(1.0, 7.38905609893065*exp(-b)) - 3.0*a**2 - 2.0*a*p*Min(1.0, 7.38905609893065*exp(-b)) + 1.0)*exp(b)))"
      ]
     },
     "execution_count": 143,
     "metadata": {},
     "output_type": "execute_result"
    }
   ],
   "source": [
    "attacker_full_fixed  = p0*f0_fixed + p1*f1_fixed + C*p1*a*(2*a*(1-a)/(1-2*a))\n",
    "p1_ev = p1_sym.evalf(subs={C:1., E:1.})\n",
    "attacker_final_fixed = sp.simplify(attacker_full_fixed.evalf(subs={p1:p1_ev, C:1., E:1., g:0}))\n",
    "attacker_final_fixed"
   ]
  },
  {
   "cell_type": "code",
   "execution_count": 144,
   "metadata": {},
   "outputs": [
    {
     "data": {
      "text/plain": [
       "<function _lambdifygenerated(a, b, p)>"
      ]
     },
     "execution_count": 144,
     "metadata": {},
     "output_type": "execute_result"
    }
   ],
   "source": [
    "attacker_final_fixed_lambda = sp.lambdify((a, b, p), attacker_final_fixed)\n",
    "attacker_final_fixed_lambda"
   ]
  },
  {
   "cell_type": "code",
   "execution_count": 145,
   "metadata": {},
   "outputs": [
    {
     "data": {
      "text/plain": [
       "(5, 225, 1)"
      ]
     },
     "execution_count": 145,
     "metadata": {},
     "output_type": "execute_result"
    }
   ],
   "source": [
    "theo_res_fixed = []\n",
    "for a_ in alphas:\n",
    "    temp1 = []\n",
    "    for b_ in betas:\n",
    "        temp2 = []\n",
    "        for p_ in ps:\n",
    "            attack = attacker_final_fixed_lambda(a=a_, b=b_, p=p_)\n",
    "            temp2.append(attack)\n",
    "        temp1.append(temp2)\n",
    "    theo_res_fixed.append(temp1)\n",
    "theo_res_fixed = np.array(theo_res_fixed)\n",
    "theo_res_fixed.shape"
   ]
  },
  {
   "cell_type": "markdown",
   "metadata": {},
   "source": [
    "# Theoretical for Bernoulli rewards"
   ]
  },
  {
   "cell_type": "code",
   "execution_count": 146,
   "metadata": {},
   "outputs": [
    {
     "data": {
      "text/latex": [
       "$\\displaystyle E a p \\left(1 - a\\right) \\left(1 - \\min\\left(1, e^{C + E - b}\\right)\\right) \\left(a + g \\left(1 - a\\right)\\right)$"
      ],
      "text/plain": [
       "E*a*p*(1 - a)*(1 - Min(1, exp(C + E - b)))*(a + g*(1 - a))"
      ]
     },
     "execution_count": 146,
     "metadata": {},
     "output_type": "execute_result"
    }
   ],
   "source": [
    "f0i_bern   = E * (a*p*sp.Min(1,sp.exp(-b+C+E)))\n",
    "f0ii_bern  = a*E * (a*p*(1-sp.Min(1,sp.exp(-b+C+E))))\n",
    "f0iii_bern = (1-a)*(a+g*(1-a))*E * (a*p*(1-sp.Min(1,sp.exp(-b+C+E))))\n",
    "f0iii_bern"
   ]
  },
  {
   "cell_type": "code",
   "execution_count": 147,
   "metadata": {},
   "outputs": [],
   "source": [
    "f0_bern   = f0i_bern + f0ii_bern + f0iii_bern\n",
    "f1_bern   = p*E*(a+(1-a)*a)"
   ]
  },
  {
   "cell_type": "code",
   "execution_count": 148,
   "metadata": {},
   "outputs": [
    {
     "data": {
      "text/latex": [
       "$\\displaystyle \\frac{a p \\left(0.245252960780962 a^{2} \\left(a - 1.0\\right) \\left(p \\left(\\min\\left(1.0, 7.38905609893065 e^{- b}\\right) - 1.0\\right) e^{b} + \\left(p - 1.0\\right) \\left(1.0 e^{b} - 2.71828182845905\\right)\\right) - 0.122626480390481 a \\left(a - 2.0\\right) \\left(2.0 a - 1.0\\right) \\left(p \\left(\\min\\left(1.0, 7.38905609893065 e^{- b}\\right) - 1.0\\right) e^{b} + \\left(p - 1.0\\right) \\left(1.0 e^{b} - 2.71828182845905\\right)\\right) - 0.122626480390481 \\cdot \\left(2.0 a - 1.0\\right) \\left(a \\left(a - 1.0\\right) \\left(\\min\\left(1.0, 7.38905609893065 e^{- b}\\right) - 1.0\\right) - a \\left(\\min\\left(1.0, 7.38905609893065 e^{- b}\\right) - 1.0\\right) + \\min\\left(1.0, 7.38905609893065 e^{- b}\\right)\\right) e^{b}\\right) \\left(- 5.43656365691809 a p + 5.43656365691809 a + 2.71828182845905 p + \\left(2.0 a p \\min\\left(1.0, 7.38905609893065 e^{- b}\\right) - 2.0 a - p \\min\\left(1.0, 7.38905609893065 e^{- b}\\right) + 1.0\\right) e^{b} - 2.71828182845905\\right)}{\\left(2.0 a - 1.0\\right) \\left(p \\left(\\min\\left(1.0, 7.38905609893065 e^{- b}\\right) - 1.0\\right) e^{b} + \\left(p - 1.0\\right) \\left(1.0 e^{b} - 2.71828182845905\\right)\\right) \\left(- a^{2} p + a^{2} + 0.666666666666667 a p - 0.666666666666667 a + 0.122626480390481 \\cdot \\left(3.0 a^{2} p \\min\\left(1.0, 7.38905609893065 e^{- b}\\right) - 3.0 a^{2} - 2.0 a p \\min\\left(1.0, 7.38905609893065 e^{- b}\\right) + 1.0\\right) e^{b}\\right)}$"
      ],
      "text/plain": [
       "a*p*(0.245252960780962*a**2*(a - 1.0)*(p*(Min(1.0, 7.38905609893065*exp(-b)) - 1.0)*exp(b) + (p - 1.0)*(1.0*exp(b) - 2.71828182845905)) - 0.122626480390481*a*(a - 2.0)*(2.0*a - 1.0)*(p*(Min(1.0, 7.38905609893065*exp(-b)) - 1.0)*exp(b) + (p - 1.0)*(1.0*exp(b) - 2.71828182845905)) - 0.122626480390481*(2.0*a - 1.0)*(a*(a - 1.0)*(Min(1.0, 7.38905609893065*exp(-b)) - 1.0) - a*(Min(1.0, 7.38905609893065*exp(-b)) - 1.0) + Min(1.0, 7.38905609893065*exp(-b)))*exp(b))*(-5.43656365691809*a*p + 5.43656365691809*a + 2.71828182845905*p + (2.0*a*p*Min(1.0, 7.38905609893065*exp(-b)) - 2.0*a - p*Min(1.0, 7.38905609893065*exp(-b)) + 1.0)*exp(b) - 2.71828182845905)/((2.0*a - 1.0)*(p*(Min(1.0, 7.38905609893065*exp(-b)) - 1.0)*exp(b) + (p - 1.0)*(1.0*exp(b) - 2.71828182845905))*(-a**2*p + a**2 + 0.666666666666667*a*p - 0.666666666666667*a + 0.122626480390481*(3.0*a**2*p*Min(1.0, 7.38905609893065*exp(-b)) - 3.0*a**2 - 2.0*a*p*Min(1.0, 7.38905609893065*exp(-b)) + 1.0)*exp(b)))"
      ]
     },
     "execution_count": 148,
     "metadata": {},
     "output_type": "execute_result"
    }
   ],
   "source": [
    "attack_full_bern  = p0*f0_bern + p1*f1_bern + p*E*p1*a*(2*a*(1-a)/(1-2*a))\n",
    "p1_ev = p1_sym.evalf(subs={C:1., E:1.})\n",
    "attack_final_bern = sp.simplify(attack_full_bern.evalf(subs={p1:p1_ev, C:1., E:1., g:0}))\n",
    "attack_final_bern"
   ]
  },
  {
   "cell_type": "code",
   "execution_count": 149,
   "metadata": {},
   "outputs": [
    {
     "data": {
      "text/plain": [
       "<function _lambdifygenerated(a, b, p)>"
      ]
     },
     "execution_count": 149,
     "metadata": {},
     "output_type": "execute_result"
    }
   ],
   "source": [
    "attack_final_bern_lambda = sp.lambdify((a, b, p), attack_final_bern)\n",
    "attack_final_bern_lambda"
   ]
  },
  {
   "cell_type": "code",
   "execution_count": 150,
   "metadata": {},
   "outputs": [
    {
     "data": {
      "text/plain": [
       "(5, 225, 1)"
      ]
     },
     "execution_count": 150,
     "metadata": {},
     "output_type": "execute_result"
    }
   ],
   "source": [
    "theo_res_bern = []\n",
    "for a_ in alphas:\n",
    "    temp1 = []\n",
    "    for b_ in betas:\n",
    "        temp2 = []\n",
    "        for p_ in ps:\n",
    "            attack = attack_final_bern_lambda(a=a_, b=b_, p=p_)\n",
    "            temp2.append(attack)\n",
    "        temp1.append(temp2)\n",
    "    theo_res_bern.append(temp1)\n",
    "theo_res_bern = np.array(theo_res_bern)\n",
    "theo_res_bern.shape"
   ]
  },
  {
   "cell_type": "markdown",
   "metadata": {},
   "source": [
    "# Theoretical for linear rewards"
   ]
  },
  {
   "cell_type": "code",
   "execution_count": 151,
   "metadata": {},
   "outputs": [
    {
     "data": {
      "text/latex": [
       "$\\displaystyle \\left(1 - a\\right) \\left(a + g \\left(1 - a\\right)\\right) \\left(a p \\left(- \\left(\\max\\left(0, - C - E + b\\right) + 1\\right) \\min\\left(1, e^{C + E - b}\\right) + 1\\right) + a \\left(1 - p\\right) \\left(- \\left(- C + b + 1\\right) e^{C - b} + 1\\right)\\right)$"
      ],
      "text/plain": [
       "(1 - a)*(a + g*(1 - a))*(a*p*(-(Max(0, -C - E + b) + 1)*Min(1, exp(C + E - b)) + 1) + a*(1 - p)*(-(-C + b + 1)*exp(C - b) + 1))"
      ]
     },
     "execution_count": 151,
     "metadata": {},
     "output_type": "execute_result"
    }
   ],
   "source": [
    "f0i_lin   = a*p*(sp.Max(0,b-C-E)+1)*sp.Min(1,sp.exp(-b+C+E)) + a*(1-p)*(b-C+1)*sp.exp(-b+C)\n",
    "f0ii_lin  = a* (a*p*(1-(sp.Max(0,b-C-E)+1)*sp.Min(1,sp.exp(-b+C+E))) + a*(1-p)*(1-(b-C+1)*sp.exp(-b+C))) \n",
    "f0iii_lin = ((1-a)*(a+g*(1-a)))* (a*p*(1-(sp.Max(0,b-C-E)+1)*sp.Min(1,sp.exp(-b+C+E))) + a*(1-p)*(1-(b-C+1)*sp.exp(-b+C)))\n",
    "f0iii_lin"
   ]
  },
  {
   "cell_type": "code",
   "execution_count": 152,
   "metadata": {},
   "outputs": [],
   "source": [
    "f0_lin = f0i_lin + f0ii_lin + f0iii_lin\n",
    "f1_lin = a + 2*a*(1-a)"
   ]
  },
  {
   "cell_type": "code",
   "execution_count": 153,
   "metadata": {},
   "outputs": [
    {
     "data": {
      "text/latex": [
       "$\\displaystyle \\frac{0.122626480390481 a \\left(a^{2} \\cdot \\left(2.0 a - 3.0\\right) \\left(p \\left(\\min\\left(1.0, 7.38905609893065 e^{- b}\\right) - 1.0\\right) e^{b} + \\left(p - 1.0\\right) \\left(1.0 e^{b} - 2.71828182845905\\right)\\right) - a \\left(2.0 a - 3.0\\right) \\left(2.0 a - 1.0\\right) \\left(p \\left(\\min\\left(1.0, 7.38905609893065 e^{- b}\\right) - 1.0\\right) e^{b} + \\left(p - 1.0\\right) \\left(1.0 e^{b} - 2.71828182845905\\right)\\right) + \\left(2.0 a - 1.0\\right) \\left(- a \\left(a - 1.0\\right) \\left(p \\left(\\left(\\max\\left(0, b - 2.0\\right) + 1.0\\right) \\min\\left(1.0, 7.38905609893065 e^{- b}\\right) - 1.0\\right) e^{b} - \\left(2.71828182845905 b - 1.0 e^{b}\\right) \\left(p - 1.0\\right)\\right) + a \\left(p \\left(\\left(\\max\\left(0, b - 2.0\\right) + 1.0\\right) \\min\\left(1.0, 7.38905609893065 e^{- b}\\right) - 1.0\\right) e^{b} - \\left(2.71828182845905 b - 1.0 e^{b}\\right) \\left(p - 1.0\\right)\\right) + 2.71828182845905 b \\left(p - 1.0\\right) - p \\left(\\max\\left(0, b - 2.0\\right) + 1.0\\right) e^{b} \\min\\left(1.0, 7.38905609893065 e^{- b}\\right)\\right)\\right) \\left(- 5.43656365691809 a p + 5.43656365691809 a + 2.71828182845905 p + \\left(2.0 a p \\min\\left(1.0, 7.38905609893065 e^{- b}\\right) - 2.0 a - p \\min\\left(1.0, 7.38905609893065 e^{- b}\\right) + 1.0\\right) e^{b} - 2.71828182845905\\right)}{\\left(2.0 a - 1.0\\right) \\left(p \\left(\\min\\left(1.0, 7.38905609893065 e^{- b}\\right) - 1.0\\right) e^{b} + \\left(p - 1.0\\right) \\left(1.0 e^{b} - 2.71828182845905\\right)\\right) \\left(- a^{2} p + a^{2} + 0.666666666666667 a p - 0.666666666666667 a + 0.122626480390481 \\cdot \\left(3.0 a^{2} p \\min\\left(1.0, 7.38905609893065 e^{- b}\\right) - 3.0 a^{2} - 2.0 a p \\min\\left(1.0, 7.38905609893065 e^{- b}\\right) + 1.0\\right) e^{b}\\right)}$"
      ],
      "text/plain": [
       "0.122626480390481*a*(a**2*(2.0*a - 3.0)*(p*(Min(1.0, 7.38905609893065*exp(-b)) - 1.0)*exp(b) + (p - 1.0)*(1.0*exp(b) - 2.71828182845905)) - a*(2.0*a - 3.0)*(2.0*a - 1.0)*(p*(Min(1.0, 7.38905609893065*exp(-b)) - 1.0)*exp(b) + (p - 1.0)*(1.0*exp(b) - 2.71828182845905)) + (2.0*a - 1.0)*(-a*(a - 1.0)*(p*((Max(0, b - 2.0) + 1.0)*Min(1.0, 7.38905609893065*exp(-b)) - 1.0)*exp(b) - (2.71828182845905*b - 1.0*exp(b))*(p - 1.0)) + a*(p*((Max(0, b - 2.0) + 1.0)*Min(1.0, 7.38905609893065*exp(-b)) - 1.0)*exp(b) - (2.71828182845905*b - 1.0*exp(b))*(p - 1.0)) + 2.71828182845905*b*(p - 1.0) - p*(Max(0, b - 2.0) + 1.0)*exp(b)*Min(1.0, 7.38905609893065*exp(-b))))*(-5.43656365691809*a*p + 5.43656365691809*a + 2.71828182845905*p + (2.0*a*p*Min(1.0, 7.38905609893065*exp(-b)) - 2.0*a - p*Min(1.0, 7.38905609893065*exp(-b)) + 1.0)*exp(b) - 2.71828182845905)/((2.0*a - 1.0)*(p*(Min(1.0, 7.38905609893065*exp(-b)) - 1.0)*exp(b) + (p - 1.0)*(1.0*exp(b) - 2.71828182845905))*(-a**2*p + a**2 + 0.666666666666667*a*p - 0.666666666666667*a + 0.122626480390481*(3.0*a**2*p*Min(1.0, 7.38905609893065*exp(-b)) - 3.0*a**2 - 2.0*a*p*Min(1.0, 7.38905609893065*exp(-b)) + 1.0)*exp(b)))"
      ]
     },
     "execution_count": 153,
     "metadata": {},
     "output_type": "execute_result"
    }
   ],
   "source": [
    "attack_full_lin = p0*f0_lin + p1*f1_lin + p1*a*a*(3-2*a)/(1-2*a)\n",
    "p1_ev = p1_sym.evalf(subs={C:1., E:1.})\n",
    "attack_final_lin = sp.simplify(attack_full_lin.evalf(subs={p1:p1_ev, C:1., E:1., g:0}))\n",
    "attack_final_lin"
   ]
  },
  {
   "cell_type": "code",
   "execution_count": 154,
   "metadata": {},
   "outputs": [
    {
     "data": {
      "text/plain": [
       "<function _lambdifygenerated(a, b, p)>"
      ]
     },
     "execution_count": 154,
     "metadata": {},
     "output_type": "execute_result"
    }
   ],
   "source": [
    "attack_final_lin_lambda = sp.lambdify((a, b, p), attack_final_lin)\n",
    "attack_final_lin_lambda"
   ]
  },
  {
   "cell_type": "code",
   "execution_count": 155,
   "metadata": {},
   "outputs": [
    {
     "data": {
      "text/plain": [
       "(5, 225, 1)"
      ]
     },
     "execution_count": 155,
     "metadata": {},
     "output_type": "execute_result"
    }
   ],
   "source": [
    "theo_res_lin = []\n",
    "for a_ in alphas:\n",
    "    temp1 = []\n",
    "    for b_ in betas:\n",
    "        temp2 = []\n",
    "        for p_ in ps:\n",
    "            attack = attack_final_lin_lambda(a=a_, b=b_, p=p_)\n",
    "            temp2.append(attack)\n",
    "        temp1.append(temp2)\n",
    "    theo_res_lin.append(temp1)\n",
    "theo_res_lin = np.array(theo_res_lin)\n",
    "theo_res_lin.shape"
   ]
  },
  {
   "cell_type": "code",
   "execution_count": 184,
   "metadata": {},
   "outputs": [
    {
     "data": {
      "image/png": "[encoded data removed]",
      "text/plain": [
       "<Figure size 1008x216 with 4 Axes>"
      ]
     },
     "metadata": {
      "needs_background": "light"
     },
     "output_type": "display_data"
    }
   ],
   "source": [
    "f, axarr = plt.subplots(nrows=1, ncols=4, figsize=(14,3))\n",
    "\n",
    "colors = ['maroon', 'lightseagreen', 'darkmagenta', 'peru', 'dodgerblue'] \n",
    "handles, labels = [], []\n",
    "\n",
    "\n",
    "ax = axarr[0]\n",
    "for j, a_ in enumerate(alphas):\n",
    "    line, = ax.plot(betas, theo_res_fixed[j,:,0], linewidth=2, color=colors[j], alpha=0.4,\n",
    "                    label=r'$\\alpha$={:0.2f} theoretical values'.format(a_))\n",
    "ax = axarr[1]\n",
    "for j, a_ in enumerate(alphas):\n",
    "    line, = ax.plot(betas, theo_res_bern[j,:,0], linewidth=2, color=colors[j], alpha=0.4,\n",
    "                    label=r'$\\alpha$={:0.2f} theoretical values'.format(a_))\n",
    "ax = axarr[2]\n",
    "for j, a_ in enumerate(alphas):\n",
    "    line, = ax.plot(betas, theo_res_lin[j,:,0], linewidth=2, color=colors[j], alpha=0.4,\n",
    "                    label=r'$\\alpha$={:0.2f} theoretical values'.format(a_))\n",
    "\n",
    "\n",
    "ax = axarr[0]\n",
    "for j, a_ in enumerate(alphas):\n",
    "    marker, = ax.plot(sim_betas, sim_res_fixed[j,:,0], marker='o', color=colors[j], linestyle='none', \n",
    "                      fillstyle='none', label=r'$\\alpha$={:0.2f} simulation values'.format(a_))\n",
    "ax = axarr[1]\n",
    "for j, a_ in enumerate(alphas):\n",
    "    marker, = ax.plot(sim_betas, sim_res_bern[j,:,0], marker='o', color=colors[j], linestyle='none', \n",
    "                      fillstyle='none', label=r'$\\alpha$={:0.2f} simulation values'.format(a_))\n",
    "ax = axarr[2]\n",
    "for j, a_ in enumerate(alphas):\n",
    "    marker, = ax.plot(sim_betas, sim_res_lin[j,:,0], marker='o', color=colors[j], linestyle='none', \n",
    "                      fillstyle='none', label=r'$\\alpha$={:0.2f} simulation values'.format(a_))\n",
    "\n",
    "\n",
    "axarr[0].set_title(r'block rewards', size=16)\n",
    "axarr[1].set_title(r'bernoulli rewards', size=16)\n",
    "axarr[2].set_title(r'linear rewards', size=16)\n",
    "axarr[3].set_title(r'total rewards', size=16)\n",
    "\n",
    "plt.savefig('out.png', dpi=150, bbox_inches='tight', facecolor='white')\n",
    "plt.show()"
   ]
  },
  {
   "cell_type": "code",
   "execution_count": null,
   "metadata": {},
   "outputs": [],
   "source": []
  }
 ],
 "metadata": {
  "kernelspec": {
   "display_name": "Python 3",
   "language": "python",
   "name": "python3"
  },
  "language_info": {
   "codemirror_mode": {
    "name": "ipython",
    "version": 3
   },
   "file_extension": ".py",
   "mimetype": "text/x-python",
   "name": "python",
   "nbconvert_exporter": "python",
   "pygments_lexer": "ipython3",
   "version": "3.8.16"
  }
 },
 "nbformat": 4,
 "nbformat_minor": 4
}
