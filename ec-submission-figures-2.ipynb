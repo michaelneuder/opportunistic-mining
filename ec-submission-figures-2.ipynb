{
 "cells": [
  {
   "cell_type": "code",
   "execution_count": 1,
   "metadata": {},
   "outputs": [],
   "source": [
    "import matplotlib.pyplot as plt\n",
    "import matplotlib.patches as mpatches\n",
    "import numpy as np\n",
    "from scipy.optimize import minimize\n",
    "import pandas as pd\n",
    "from scipy.stats import poisson, uniform, expon, pareto\n",
    "from tqdm import tqdm\n",
    "from mdptoolbox import mdp, util\n",
    "import itertools\n",
    "from scipy.sparse import csr_matrix, lil_matrix\n",
    "from matplotlib.patches import Patch\n",
    "import math\n",
    "import random\n",
    "import sympy as sp\n",
    "from sympy.printing.latex import print_latex"
   ]
  },
  {
   "cell_type": "markdown",
   "metadata": {},
   "source": [
    "# Simulations & Theory for fixed block rewards under \\beta cutoff strategy"
   ]
  },
  {
   "cell_type": "code",
   "execution_count": 2,
   "metadata": {},
   "outputs": [],
   "source": [
    "# simluation code\n",
    "def simAllRews(a, b, g, p, C, E, n):\n",
    "    gamma = g\n",
    "    state = [0,0] # (attacker, honest)\n",
    "\n",
    "    honestBlcs = 0\n",
    "    attackBlcs = 0\n",
    "    honestRews = 0\n",
    "    attackRews = 0\n",
    "    honestBern = 0\n",
    "    attackBern = 0\n",
    "    curTime    = 0\n",
    "    lastState0 = 0\n",
    "    lastAttBlc = 0\n",
    "    prevBern   = 0\n",
    "    for _ in range(n):\n",
    "        attBlock = np.random.binomial(1, a)\n",
    "        execRews = np.random.exponential()\n",
    "        bernRews = np.random.binomial(1, p=p)\n",
    "        curTime += execRews\n",
    "\n",
    "        if state == [0,0]:\n",
    "            if attBlock:\n",
    "                if bernRews and execRews < (b-C-E):\n",
    "                    state      = [1,0]\n",
    "                    lastAttBlc = curTime\n",
    "                    prevBern   = bernRews\n",
    "                elif not bernRews and execRews < b-C:\n",
    "                    state      = [1,0]\n",
    "                    lastAttBlc = curTime\n",
    "                    prevBern   = 0\n",
    "                else:\n",
    "                    attackBlcs += 1*C\n",
    "                    attackRews += execRews\n",
    "                    attackBern += bernRews\n",
    "                    lastState0  = curTime\n",
    "                    lastAttBlc  = curTime\n",
    "            else:\n",
    "                honestBlcs += 1*C\n",
    "                honestRews += execRews\n",
    "                honestBern += bernRews\n",
    "                lastState0  = curTime\n",
    "                lastAttBlc  = curTime\n",
    "            continue\n",
    "\n",
    "        if state == [1,0]:\n",
    "            if attBlock:\n",
    "                state = [2,0]\n",
    "                lastAttBlc = curTime\n",
    "                attackBern += bernRews + prevBern\n",
    "                prevBern   = 0\n",
    "            else:\n",
    "                sample        = np.random.uniform()\n",
    "                nextExecRews  = np.random.exponential()\n",
    "                nextBern      = np.random.binomial(1, p=p)\n",
    "                if sample < a:\n",
    "                    attackBlcs += 2*C\n",
    "                    attackRews += (curTime - lastState0) + nextExecRews\n",
    "                    attackBern += (prevBern + nextBern)\n",
    "                elif sample <= a + ((1-a)*gamma):\n",
    "                    attackBlcs += 1*C\n",
    "                    honestBlcs += 1*C\n",
    "                    attackRews += (lastAttBlc - lastState0)\n",
    "                    honestRews += (curTime - lastAttBlc) + nextExecRews\n",
    "                    attackBern += prevBern\n",
    "                    honestBern += nextBern\n",
    "                else:\n",
    "                    honestBlcs += 2*C\n",
    "                    honestRews += (curTime - lastState0) + nextExecRews\n",
    "                    # honest bern is a random trial\n",
    "                    prevHonest  = np.random.binomial(1, p=p)\n",
    "                    honestBern += (prevHonest + nextBern)\n",
    "                curTime    += nextExecRews\n",
    "                lastState0  = curTime\n",
    "                lastAttBlc  = curTime\n",
    "                prevBern    = 0\n",
    "                state = [0,0]\n",
    "            continue\n",
    "\n",
    "        if attBlock:\n",
    "            state[0] += 1\n",
    "            lastAttBlc = curTime\n",
    "        else:\n",
    "            state[1] += 1\n",
    "\n",
    "        diff = state[0] - state[1]\n",
    "        if diff == 1:\n",
    "            attackBlcs += state[0]*C\n",
    "            if state[0] < 2:\n",
    "                raise KeyError(\"here\")\n",
    "            attackBern += (state[0]-2) * p\n",
    "            attackRews += (lastAttBlc - lastState0)\n",
    "\n",
    "            # 0'' state\n",
    "            remRews = (curTime - lastAttBlc)\n",
    "            attBlock = np.random.binomial(1, a)\n",
    "            execRews = np.random.exponential()\n",
    "            bernRews = np.random.binomial(1, p=p)\n",
    "            curTime += execRews\n",
    "            if attBlock:\n",
    "                attackBlcs += 1*C\n",
    "                attackRews += (remRews + execRews)\n",
    "                attackBern += bernRews\n",
    "            else:\n",
    "                honestBlcs += 1*C\n",
    "                honestRews += (remRews + execRews)\n",
    "                honestBern += bernRews\n",
    "\n",
    "            lastState0  = curTime\n",
    "            lastAttBlc  = curTime\n",
    "            state = [0,0]\n",
    " \n",
    "    return honestBlcs, attackBlcs, honestBern, attackBern, honestRews, attackRews, curTime"
   ]
  },
  {
   "cell_type": "code",
   "execution_count": 16,
   "metadata": {},
   "outputs": [
    {
     "data": {
      "text/plain": [
       "array([1.751, 1.876, 2.001, 2.126, 2.251, 2.376, 2.501, 2.626, 2.751,\n",
       "       2.876, 3.001, 3.126, 3.251, 3.376, 3.501, 3.626, 3.751, 3.876,\n",
       "       4.001])"
      ]
     },
     "execution_count": 16,
     "metadata": {},
     "output_type": "execute_result"
    }
   ],
   "source": [
    "alphas    = [0.2, 0.25, 0.3, 0.35, 0.4]\n",
    "betas     = np.arange(1.751, 4, 0.01)\n",
    "ps        = [0.25, 0.5, 0.75] # using E=1, C=1\n",
    "sim_betas = np.arange(1.751, 4.1, 0.125)\n",
    "sim_betas"
   ]
  },
  {
   "cell_type": "code",
   "execution_count": 43,
   "metadata": {},
   "outputs": [
    {
     "name": "stderr",
     "output_type": "stream",
     "text": [
      "100%|██████████| 19/19 [48:14<00:00, 152.33s/it]\n",
      "100%|██████████| 19/19 [08:12<00:00, 25.93s/it]\n",
      "100%|██████████| 19/19 [08:31<00:00, 26.93s/it]\n",
      "100%|██████████| 19/19 [08:37<00:00, 27.23s/it]\n",
      "100%|██████████| 19/19 [08:28<00:00, 26.77s/it]\n"
     ]
    },
    {
     "data": {
      "text/plain": [
       "((5, 19, 3), (5, 19, 3), (5, 19, 3))"
      ]
     },
     "execution_count": 43,
     "metadata": {},
     "output_type": "execute_result"
    }
   ],
   "source": [
    "sim_res_fixed = []\n",
    "sim_res_bern  = []\n",
    "sim_res_lin   = []\n",
    "for a in alphas:\n",
    "    temp1_fixed = []\n",
    "    temp1_bern  = []\n",
    "    temp1_lin  = []\n",
    "    for b in tqdm(sim_betas):\n",
    "        temp2_fixed = []\n",
    "        temp2_bern  = []\n",
    "        temp2_lin  = []\n",
    "        for p in ps:\n",
    "            honestBlc, attackBlc, honestBer, attackBer, honestLin, attackLin = simAllRews(\n",
    "                a=a, b=b, p=p, C=1, E=1, n=int(15e5))\n",
    "            temp2_fixed.append(attackBlc/(attackBlc+honestBlc))\n",
    "            temp2_bern.append(attackBer/(attackBer+honestBer))\n",
    "            temp2_lin.append(attackLin/(attackLin+honestLin))\n",
    "        temp1_fixed.append(temp2_fixed)\n",
    "        temp1_bern.append(temp2_bern)\n",
    "        temp1_lin.append(temp2_lin)\n",
    "    sim_res_fixed.append(temp1_fixed)\n",
    "    sim_res_bern.append(temp1_bern)\n",
    "    sim_res_lin.append(temp1_lin)\n",
    "sim_res_fixed = np.array(sim_res_fixed)\n",
    "sim_res_bern = np.array(sim_res_bern)\n",
    "sim_res_lin = np.array(sim_res_lin)\n",
    "sim_res_fixed.shape, sim_res_bern.shape, sim_res_lin.shape"
   ]
  },
  {
   "cell_type": "markdown",
   "metadata": {},
   "source": [
    "# Theoretical for fixed rewards"
   ]
  },
  {
   "cell_type": "code",
   "execution_count": 21,
   "metadata": {},
   "outputs": [],
   "source": [
    "p0, p0p, p1, p0pp = sp.symbols('p_0 p_{00} p_1 p_{000}')\n",
    "a, b, x, g, p, C, E  = sp.symbols('a b x g p C E')"
   ]
  },
  {
   "cell_type": "code",
   "execution_count": 22,
   "metadata": {},
   "outputs": [],
   "source": [
    "# p_i is the stationary distribution for State i\n",
    "p0    = p1 / (a*(1-p)*(1-sp.exp(-b+C)) + a*p*(1-sp.Min(sp.exp(-b+C+E),1)))\n",
    "p0p   = p1 * (1-a)\n",
    "p0pp  = p1 * a\n",
    "p2    = p1*(a/(1-a))\n",
    "prest = p1*a/(1-2*a)"
   ]
  },
  {
   "cell_type": "code",
   "execution_count": 23,
   "metadata": {},
   "outputs": [],
   "source": [
    "eq = sp.Eq(p0+p0p+p0pp+prest+p1, 1)\n",
    "p1_sym = sp.solve(eq, p1)[0]"
   ]
  },
  {
   "cell_type": "code",
   "execution_count": 24,
   "metadata": {},
   "outputs": [
    {
     "data": {
      "text/latex": [
       "$\\displaystyle \\frac{1}{1 + \\frac{1}{a p \\left(1 - \\min\\left(1, e^{C + E - b}\\right)\\right) + a \\left(1 - p\\right) \\left(1 - e^{C - b}\\right)} + \\frac{1 - a}{1 - 2 a}}$"
      ],
      "text/plain": [
       "1/(1 + 1/(a*p*(1 - Min(1, exp(C + E - b))) + a*(1 - p)*(1 - exp(C - b))) + (1 - a)/(1 - 2*a))"
      ]
     },
     "execution_count": 24,
     "metadata": {},
     "output_type": "execute_result"
    }
   ],
   "source": [
    "p1_me = (1/(a*(1-p)*(1-sp.exp(-b+C)) + a*p*(1-sp.Min(sp.exp(-b+C+E),1))) + 1 + (1-a)/(1-2*a))**(-1)\n",
    "p1_me"
   ]
  },
  {
   "cell_type": "code",
   "execution_count": 25,
   "metadata": {},
   "outputs": [
    {
     "data": {
      "text/plain": [
       "(0.138811963706275, 0.138811963706275)"
      ]
     },
     "execution_count": 25,
     "metadata": {},
     "output_type": "execute_result"
    }
   ],
   "source": [
    "# confirming the symbolic solver and my by hand solver have same values\n",
    "p1_sym.evalf(subs={a:0.3, b:3, p:0.5, C:1, E:1}), p1_me.evalf(subs={a:0.3, b:3, p:0.5, C:1, E:1})"
   ]
  },
  {
   "cell_type": "code",
   "execution_count": 26,
   "metadata": {},
   "outputs": [
    {
     "data": {
      "text/latex": [
       "$\\displaystyle C \\left(1 - a\\right) \\left(a + g \\left(1 - a\\right)\\right) \\left(a p \\left(1 - \\min\\left(1, e^{C + E - b}\\right)\\right) + a \\left(1 - p\\right) \\left(1 - e^{C - b}\\right)\\right)$"
      ],
      "text/plain": [
       "C*(1 - a)*(a + g*(1 - a))*(a*p*(1 - Min(1, exp(C + E - b))) + a*(1 - p)*(1 - exp(C - b)))"
      ]
     },
     "execution_count": 26,
     "metadata": {},
     "output_type": "execute_result"
    }
   ],
   "source": [
    "# 3 cases for f0\n",
    "f0i_fixed   = C * (a*p*sp.Min(1,sp.exp(-b+C+E)) + a*(1-p)*sp.exp(-b+C))\n",
    "f0ii_fixed  = a*C * (a*p*(1-sp.Min(1,sp.exp(-b+C+E))) + a*(1-p)*(1-sp.exp(-b+C)))\n",
    "f0iii_fixed = (1-a)*(a+g*(1-a))*C * (a*p*(1-sp.Min(1,sp.exp(-b+C+E))) + a*(1-p)*(1-sp.exp(-b+C)))\n",
    "f0iii_fixed"
   ]
  },
  {
   "cell_type": "code",
   "execution_count": 27,
   "metadata": {},
   "outputs": [
    {
     "data": {
      "text/latex": [
       "$\\displaystyle C a \\left(a p \\left(1 - \\min\\left(1, e^{C + E - b}\\right)\\right) + a \\left(1 - p\\right) \\left(1 - e^{C - b}\\right)\\right) + C \\left(1 - a\\right) \\left(a + g \\left(1 - a\\right)\\right) \\left(a p \\left(1 - \\min\\left(1, e^{C + E - b}\\right)\\right) + a \\left(1 - p\\right) \\left(1 - e^{C - b}\\right)\\right) + C \\left(a p \\min\\left(1, e^{C + E - b}\\right) + a \\left(1 - p\\right) e^{C - b}\\right)$"
      ],
      "text/plain": [
       "C*a*(a*p*(1 - Min(1, exp(C + E - b))) + a*(1 - p)*(1 - exp(C - b))) + C*(1 - a)*(a + g*(1 - a))*(a*p*(1 - Min(1, exp(C + E - b))) + a*(1 - p)*(1 - exp(C - b))) + C*(a*p*Min(1, exp(C + E - b)) + a*(1 - p)*exp(C - b))"
      ]
     },
     "execution_count": 27,
     "metadata": {},
     "output_type": "execute_result"
    }
   ],
   "source": [
    "# explicit for f0 and f1\n",
    "f0_fixed   = f0i_fixed + f0ii_fixed + f0iii_fixed\n",
    "f1_fixed   = C*(a+(1-a)*a)\n",
    "f0_fixed"
   ]
  },
  {
   "cell_type": "code",
   "execution_count": 28,
   "metadata": {},
   "outputs": [
    {
     "data": {
      "text/latex": [
       "$\\displaystyle \\frac{a \\left(0.245252960780962 a^{2} \\left(a - 1.0\\right) \\left(p \\left(\\min\\left(1.0, 7.38905609893065 e^{- b}\\right) - 1.0\\right) e^{b} + \\left(p - 1.0\\right) \\left(1.0 e^{b} - 2.71828182845905\\right)\\right) - 0.122626480390481 a \\left(a - 2.0\\right) \\left(2.0 a - 1.0\\right) \\left(p \\left(\\min\\left(1.0, 7.38905609893065 e^{- b}\\right) - 1.0\\right) e^{b} + \\left(p - 1.0\\right) \\left(1.0 e^{b} - 2.71828182845905\\right)\\right) - 0.122626480390481 \\cdot \\left(2.0 a - 1.0\\right) \\left(1.0 a \\left(a - 1.0\\right) \\left(p \\left(\\min\\left(1.0, 7.38905609893065 e^{- b}\\right) - 1.0\\right) e^{b} + \\left(p - 1.0\\right) \\left(1.0 e^{b} - 2.71828182845905\\right)\\right) - 1.0 a \\left(p \\left(\\min\\left(1.0, 7.38905609893065 e^{- b}\\right) - 1.0\\right) e^{b} + \\left(p - 1.0\\right) \\left(1.0 e^{b} - 2.71828182845905\\right)\\right) + 1.0 p e^{b} \\min\\left(1.0, 7.38905609893065 e^{- b}\\right) - 2.71828182845905 p + 2.71828182845905\\right)\\right) \\left(- 5.43656365691809 a p + 5.43656365691809 a + 2.71828182845905 p + \\left(2.0 a p \\min\\left(1.0, 7.38905609893065 e^{- b}\\right) - 2.0 a - p \\min\\left(1.0, 7.38905609893065 e^{- b}\\right) + 1.0\\right) e^{b} - 2.71828182845905\\right)}{\\left(2.0 a - 1.0\\right) \\left(p \\left(\\min\\left(1.0, 7.38905609893065 e^{- b}\\right) - 1.0\\right) e^{b} + \\left(p - 1.0\\right) \\left(1.0 e^{b} - 2.71828182845905\\right)\\right) \\left(- a^{2} p + a^{2} + 0.666666666666667 a p - 0.666666666666667 a + 0.122626480390481 \\cdot \\left(3.0 a^{2} p \\min\\left(1.0, 7.38905609893065 e^{- b}\\right) - 3.0 a^{2} - 2.0 a p \\min\\left(1.0, 7.38905609893065 e^{- b}\\right) + 1.0\\right) e^{b}\\right)}$"
      ],
      "text/plain": [
       "a*(0.245252960780962*a**2*(a - 1.0)*(p*(Min(1.0, 7.38905609893065*exp(-b)) - 1.0)*exp(b) + (p - 1.0)*(1.0*exp(b) - 2.71828182845905)) - 0.122626480390481*a*(a - 2.0)*(2.0*a - 1.0)*(p*(Min(1.0, 7.38905609893065*exp(-b)) - 1.0)*exp(b) + (p - 1.0)*(1.0*exp(b) - 2.71828182845905)) - 0.122626480390481*(2.0*a - 1.0)*(1.0*a*(a - 1.0)*(p*(Min(1.0, 7.38905609893065*exp(-b)) - 1.0)*exp(b) + (p - 1.0)*(1.0*exp(b) - 2.71828182845905)) - 1.0*a*(p*(Min(1.0, 7.38905609893065*exp(-b)) - 1.0)*exp(b) + (p - 1.0)*(1.0*exp(b) - 2.71828182845905)) + 1.0*p*exp(b)*Min(1.0, 7.38905609893065*exp(-b)) - 2.71828182845905*p + 2.71828182845905))*(-5.43656365691809*a*p + 5.43656365691809*a + 2.71828182845905*p + (2.0*a*p*Min(1.0, 7.38905609893065*exp(-b)) - 2.0*a - p*Min(1.0, 7.38905609893065*exp(-b)) + 1.0)*exp(b) - 2.71828182845905)/((2.0*a - 1.0)*(p*(Min(1.0, 7.38905609893065*exp(-b)) - 1.0)*exp(b) + (p - 1.0)*(1.0*exp(b) - 2.71828182845905))*(-a**2*p + a**2 + 0.666666666666667*a*p - 0.666666666666667*a + 0.122626480390481*(3.0*a**2*p*Min(1.0, 7.38905609893065*exp(-b)) - 3.0*a**2 - 2.0*a*p*Min(1.0, 7.38905609893065*exp(-b)) + 1.0)*exp(b)))"
      ]
     },
     "execution_count": 28,
     "metadata": {},
     "output_type": "execute_result"
    }
   ],
   "source": [
    "attack_full_fixed  = p0*f0_fixed + p1*f1_fixed + C*p1*a*(2*a*(1-a)/(1-2*a))\n",
    "p1_ev = p1_sym.evalf(subs={C:1., E:1.})\n",
    "attack_final_fixed = sp.simplify(attack_full_fixed.evalf(subs={p1:p1_ev, C:1., E:1., g:0}))\n",
    "attack_final_fixed"
   ]
  },
  {
   "cell_type": "code",
   "execution_count": 10,
   "metadata": {},
   "outputs": [
    {
     "data": {
      "text/plain": [
       "<function _lambdifygenerated(a, b, p)>"
      ]
     },
     "execution_count": 10,
     "metadata": {},
     "output_type": "execute_result"
    }
   ],
   "source": [
    "attack_final_fixed_lambda = sp.lambdify((a, b, p), attack_final_fixed)\n",
    "attack_final_fixed_lambda"
   ]
  },
  {
   "cell_type": "code",
   "execution_count": 11,
   "metadata": {},
   "outputs": [],
   "source": [
    "g0_fixed   = C*(1-a)\n",
    "g1_fixed   = C*(1-a)*(1-a)*(1-g)\n",
    "g0p_fixed  = C*(1-a)\n",
    "g0pp_fixed = C*(1-a)"
   ]
  },
  {
   "cell_type": "code",
   "execution_count": 12,
   "metadata": {},
   "outputs": [
    {
     "data": {
      "text/latex": [
       "$\\displaystyle \\frac{1.0 a^{2} \\cdot \\left(1.0 - a\\right) \\left(- 2.0 a p \\min\\left(1.0, 7.38905609893065 e^{- b}\\right) + 5.43656365691809 a p e^{- b} + 2.0 a - 5.43656365691809 a e^{- b} + p \\min\\left(1.0, 7.38905609893065 e^{- b}\\right) - 2.71828182845905 p e^{- b} - 1.0 + 2.71828182845905 e^{- b}\\right)}{- 3.0 a^{2} p \\min\\left(1.0, 7.38905609893065 e^{- b}\\right) + 8.15484548537714 a^{2} p e^{- b} + 3.0 a^{2} - 8.15484548537714 a^{2} e^{- b} + 2.0 a p \\min\\left(1.0, 7.38905609893065 e^{- b}\\right) - 5.43656365691809 a p e^{- b} + 5.43656365691809 a e^{- b} - 1.0} + \\frac{2.0 a \\left(1.0 - a\\right)^{2} \\left(- 2.0 a p \\min\\left(1.0, 7.38905609893065 e^{- b}\\right) + 5.43656365691809 a p e^{- b} + 2.0 a - 5.43656365691809 a e^{- b} + p \\min\\left(1.0, 7.38905609893065 e^{- b}\\right) - 2.71828182845905 p e^{- b} - 1.0 + 2.71828182845905 e^{- b}\\right)}{- 3.0 a^{2} p \\min\\left(1.0, 7.38905609893065 e^{- b}\\right) + 8.15484548537714 a^{2} p e^{- b} + 3.0 a^{2} - 8.15484548537714 a^{2} e^{- b} + 2.0 a p \\min\\left(1.0, 7.38905609893065 e^{- b}\\right) - 5.43656365691809 a p e^{- b} + 5.43656365691809 a e^{- b} - 1.0} + \\frac{1.0 a \\left(1.0 - a\\right) \\left(- 2.0 a p \\min\\left(1.0, 7.38905609893065 e^{- b}\\right) + 5.43656365691809 a p e^{- b} + 2.0 a - 5.43656365691809 a e^{- b} + p \\min\\left(1.0, 7.38905609893065 e^{- b}\\right) - 2.71828182845905 p e^{- b} - 1.0 + 2.71828182845905 e^{- b}\\right)}{\\left(a p \\left(1.0 - \\min\\left(1.0, 7.38905609893065 e^{- b}\\right)\\right) + a \\left(1.0 - p\\right) \\left(1.0 - 2.71828182845905 e^{- b}\\right)\\right) \\left(- 3.0 a^{2} p \\min\\left(1.0, 7.38905609893065 e^{- b}\\right) + 8.15484548537714 a^{2} p e^{- b} + 3.0 a^{2} - 8.15484548537714 a^{2} e^{- b} + 2.0 a p \\min\\left(1.0, 7.38905609893065 e^{- b}\\right) - 5.43656365691809 a p e^{- b} + 5.43656365691809 a e^{- b} - 1.0\\right)}$"
      ],
      "text/plain": [
       "1.0*a**2*(1.0 - a)*(-2.0*a*p*Min(1.0, 7.38905609893065*exp(-b)) + 5.43656365691809*a*p*exp(-b) + 2.0*a - 5.43656365691809*a*exp(-b) + p*Min(1.0, 7.38905609893065*exp(-b)) - 2.71828182845905*p*exp(-b) - 1.0 + 2.71828182845905*exp(-b))/(-3.0*a**2*p*Min(1.0, 7.38905609893065*exp(-b)) + 8.15484548537714*a**2*p*exp(-b) + 3.0*a**2 - 8.15484548537714*a**2*exp(-b) + 2.0*a*p*Min(1.0, 7.38905609893065*exp(-b)) - 5.43656365691809*a*p*exp(-b) + 5.43656365691809*a*exp(-b) - 1.0) + 2.0*a*(1.0 - a)**2*(-2.0*a*p*Min(1.0, 7.38905609893065*exp(-b)) + 5.43656365691809*a*p*exp(-b) + 2.0*a - 5.43656365691809*a*exp(-b) + p*Min(1.0, 7.38905609893065*exp(-b)) - 2.71828182845905*p*exp(-b) - 1.0 + 2.71828182845905*exp(-b))/(-3.0*a**2*p*Min(1.0, 7.38905609893065*exp(-b)) + 8.15484548537714*a**2*p*exp(-b) + 3.0*a**2 - 8.15484548537714*a**2*exp(-b) + 2.0*a*p*Min(1.0, 7.38905609893065*exp(-b)) - 5.43656365691809*a*p*exp(-b) + 5.43656365691809*a*exp(-b) - 1.0) + 1.0*a*(1.0 - a)*(-2.0*a*p*Min(1.0, 7.38905609893065*exp(-b)) + 5.43656365691809*a*p*exp(-b) + 2.0*a - 5.43656365691809*a*exp(-b) + p*Min(1.0, 7.38905609893065*exp(-b)) - 2.71828182845905*p*exp(-b) - 1.0 + 2.71828182845905*exp(-b))/((a*p*(1.0 - Min(1.0, 7.38905609893065*exp(-b))) + a*(1.0 - p)*(1.0 - 2.71828182845905*exp(-b)))*(-3.0*a**2*p*Min(1.0, 7.38905609893065*exp(-b)) + 8.15484548537714*a**2*p*exp(-b) + 3.0*a**2 - 8.15484548537714*a**2*exp(-b) + 2.0*a*p*Min(1.0, 7.38905609893065*exp(-b)) - 5.43656365691809*a*p*exp(-b) + 5.43656365691809*a*exp(-b) - 1.0))"
      ]
     },
     "execution_count": 12,
     "metadata": {},
     "output_type": "execute_result"
    }
   ],
   "source": [
    "honest_full_fixed = p0*g0_fixed + p1*g1_fixed + p0p*g0p_fixed + p0pp*g0pp_fixed\n",
    "honest_final_fixed = honest_full_fixed.evalf(subs={p1:p1_ev, C:1., E:1., g:0})\n",
    "honest_final_fixed"
   ]
  },
  {
   "cell_type": "code",
   "execution_count": 13,
   "metadata": {},
   "outputs": [
    {
     "data": {
      "text/plain": [
       "<function _lambdifygenerated(a, b, p)>"
      ]
     },
     "execution_count": 13,
     "metadata": {},
     "output_type": "execute_result"
    }
   ],
   "source": [
    "honest_final_fixed_lambda = sp.lambdify((a, b, p), honest_final_fixed)\n",
    "honest_final_fixed_lambda"
   ]
  },
  {
   "cell_type": "code",
   "execution_count": 14,
   "metadata": {},
   "outputs": [
    {
     "ename": "NameError",
     "evalue": "name 'alphas' is not defined",
     "output_type": "error",
     "traceback": [
      "\u001b[0;31m---------------------------------------------------------------------------\u001b[0m",
      "\u001b[0;31mNameError\u001b[0m                                 Traceback (most recent call last)",
      "\u001b[0;32m<ipython-input-14-72368d2a38aa>\u001b[0m in \u001b[0;36m<module>\u001b[0;34m\u001b[0m\n\u001b[1;32m      1\u001b[0m \u001b[0mtheo_res_fixed\u001b[0m \u001b[0;34m=\u001b[0m \u001b[0;34m[\u001b[0m\u001b[0;34m]\u001b[0m\u001b[0;34m\u001b[0m\u001b[0;34m\u001b[0m\u001b[0m\n\u001b[0;32m----> 2\u001b[0;31m \u001b[0;32mfor\u001b[0m \u001b[0ma_\u001b[0m \u001b[0;32min\u001b[0m \u001b[0malphas\u001b[0m\u001b[0;34m:\u001b[0m\u001b[0;34m\u001b[0m\u001b[0;34m\u001b[0m\u001b[0m\n\u001b[0m\u001b[1;32m      3\u001b[0m     \u001b[0mtemp1\u001b[0m \u001b[0;34m=\u001b[0m \u001b[0;34m[\u001b[0m\u001b[0;34m]\u001b[0m\u001b[0;34m\u001b[0m\u001b[0;34m\u001b[0m\u001b[0m\n\u001b[1;32m      4\u001b[0m     \u001b[0;32mfor\u001b[0m \u001b[0mb_\u001b[0m \u001b[0;32min\u001b[0m \u001b[0mbetas\u001b[0m\u001b[0;34m:\u001b[0m\u001b[0;34m\u001b[0m\u001b[0;34m\u001b[0m\u001b[0m\n\u001b[1;32m      5\u001b[0m         \u001b[0mtemp2\u001b[0m \u001b[0;34m=\u001b[0m \u001b[0;34m[\u001b[0m\u001b[0;34m]\u001b[0m\u001b[0;34m\u001b[0m\u001b[0;34m\u001b[0m\u001b[0m\n",
      "\u001b[0;31mNameError\u001b[0m: name 'alphas' is not defined"
     ]
    }
   ],
   "source": [
    "theo_res_fixed = []\n",
    "for a_ in alphas:\n",
    "    temp1 = []\n",
    "    for b_ in betas:\n",
    "        temp2 = []\n",
    "        for p_ in ps:\n",
    "            attack = attack_final_fixed_lambda(a=a_, b=b_, p=p_)\n",
    "            honest = honest_final_fixed_lambda(a=a_, b=b_, p=p_)\n",
    "            temp2.append(attack/(attack+honest))\n",
    "        temp1.append(temp2)\n",
    "    theo_res_fixed.append(temp1)\n",
    "theo_res_fixed = np.array(theo_res_fixed)\n",
    "theo_res_fixed.shape"
   ]
  },
  {
   "cell_type": "markdown",
   "metadata": {},
   "source": [
    "# Theoretical for Bernoulli rewards"
   ]
  },
  {
   "cell_type": "code",
   "execution_count": 29,
   "metadata": {},
   "outputs": [
    {
     "data": {
      "text/latex": [
       "$\\displaystyle E a p \\left(1 - a\\right) \\left(1 - \\min\\left(1, e^{C + E - b}\\right)\\right) \\left(a + g \\left(1 - a\\right)\\right)$"
      ],
      "text/plain": [
       "E*a*p*(1 - a)*(1 - Min(1, exp(C + E - b)))*(a + g*(1 - a))"
      ]
     },
     "execution_count": 29,
     "metadata": {},
     "output_type": "execute_result"
    }
   ],
   "source": [
    "f0i_bern   = E * (a*p*sp.Min(1,sp.exp(-b+C+E)))\n",
    "f0ii_bern  = a*E * (a*p*(1-sp.Min(1,sp.exp(-b+C+E))))\n",
    "f0iii_bern = (1-a)*(a+g*(1-a))*E * (a*p*(1-sp.Min(1,sp.exp(-b+C+E))))\n",
    "f0iii_bern"
   ]
  },
  {
   "cell_type": "code",
   "execution_count": 30,
   "metadata": {},
   "outputs": [],
   "source": [
    "f0_bern   = f0i_bern + f0ii_bern + f0iii_bern\n",
    "f1_bern   = p*E*(a+(1-a)*a)"
   ]
  },
  {
   "cell_type": "code",
   "execution_count": 31,
   "metadata": {},
   "outputs": [
    {
     "data": {
      "text/latex": [
       "$\\displaystyle \\frac{a p \\left(0.245252960780962 a^{2} \\left(a - 1.0\\right) \\left(p \\left(\\min\\left(1.0, 7.38905609893065 e^{- b}\\right) - 1.0\\right) e^{b} + \\left(p - 1.0\\right) \\left(1.0 e^{b} - 2.71828182845905\\right)\\right) - 0.122626480390481 a \\left(a - 2.0\\right) \\left(2.0 a - 1.0\\right) \\left(p \\left(\\min\\left(1.0, 7.38905609893065 e^{- b}\\right) - 1.0\\right) e^{b} + \\left(p - 1.0\\right) \\left(1.0 e^{b} - 2.71828182845905\\right)\\right) - 0.122626480390481 \\cdot \\left(2.0 a - 1.0\\right) \\left(a \\left(a - 1.0\\right) \\left(\\min\\left(1.0, 7.38905609893065 e^{- b}\\right) - 1.0\\right) - a \\left(\\min\\left(1.0, 7.38905609893065 e^{- b}\\right) - 1.0\\right) + \\min\\left(1.0, 7.38905609893065 e^{- b}\\right)\\right) e^{b}\\right) \\left(- 5.43656365691809 a p + 5.43656365691809 a + 2.71828182845905 p + \\left(2.0 a p \\min\\left(1.0, 7.38905609893065 e^{- b}\\right) - 2.0 a - p \\min\\left(1.0, 7.38905609893065 e^{- b}\\right) + 1.0\\right) e^{b} - 2.71828182845905\\right)}{\\left(2.0 a - 1.0\\right) \\left(p \\left(\\min\\left(1.0, 7.38905609893065 e^{- b}\\right) - 1.0\\right) e^{b} + \\left(p - 1.0\\right) \\left(1.0 e^{b} - 2.71828182845905\\right)\\right) \\left(- a^{2} p + a^{2} + 0.666666666666667 a p - 0.666666666666667 a + 0.122626480390481 \\cdot \\left(3.0 a^{2} p \\min\\left(1.0, 7.38905609893065 e^{- b}\\right) - 3.0 a^{2} - 2.0 a p \\min\\left(1.0, 7.38905609893065 e^{- b}\\right) + 1.0\\right) e^{b}\\right)}$"
      ],
      "text/plain": [
       "a*p*(0.245252960780962*a**2*(a - 1.0)*(p*(Min(1.0, 7.38905609893065*exp(-b)) - 1.0)*exp(b) + (p - 1.0)*(1.0*exp(b) - 2.71828182845905)) - 0.122626480390481*a*(a - 2.0)*(2.0*a - 1.0)*(p*(Min(1.0, 7.38905609893065*exp(-b)) - 1.0)*exp(b) + (p - 1.0)*(1.0*exp(b) - 2.71828182845905)) - 0.122626480390481*(2.0*a - 1.0)*(a*(a - 1.0)*(Min(1.0, 7.38905609893065*exp(-b)) - 1.0) - a*(Min(1.0, 7.38905609893065*exp(-b)) - 1.0) + Min(1.0, 7.38905609893065*exp(-b)))*exp(b))*(-5.43656365691809*a*p + 5.43656365691809*a + 2.71828182845905*p + (2.0*a*p*Min(1.0, 7.38905609893065*exp(-b)) - 2.0*a - p*Min(1.0, 7.38905609893065*exp(-b)) + 1.0)*exp(b) - 2.71828182845905)/((2.0*a - 1.0)*(p*(Min(1.0, 7.38905609893065*exp(-b)) - 1.0)*exp(b) + (p - 1.0)*(1.0*exp(b) - 2.71828182845905))*(-a**2*p + a**2 + 0.666666666666667*a*p - 0.666666666666667*a + 0.122626480390481*(3.0*a**2*p*Min(1.0, 7.38905609893065*exp(-b)) - 3.0*a**2 - 2.0*a*p*Min(1.0, 7.38905609893065*exp(-b)) + 1.0)*exp(b)))"
      ]
     },
     "execution_count": 31,
     "metadata": {},
     "output_type": "execute_result"
    }
   ],
   "source": [
    "attack_full_bern  = p0*f0_bern + p1*f1_bern + p*E*p1*a*(2*a*(1-a)/(1-2*a))\n",
    "p1_ev = p1_sym.evalf(subs={C:1., E:1.})\n",
    "attack_final_bern = sp.simplify(attack_full_bern.evalf(subs={p1:p1_ev, C:1., E:1., g:0}))\n",
    "attack_final_bern"
   ]
  },
  {
   "cell_type": "code",
   "execution_count": 32,
   "metadata": {},
   "outputs": [
    {
     "data": {
      "text/plain": [
       "<function _lambdifygenerated(a, b, p)>"
      ]
     },
     "execution_count": 32,
     "metadata": {},
     "output_type": "execute_result"
    }
   ],
   "source": [
    "attack_final_bern_lambda = sp.lambdify((a, b, p), attack_final_bern)\n",
    "attack_final_bern_lambda"
   ]
  },
  {
   "cell_type": "code",
   "execution_count": 33,
   "metadata": {},
   "outputs": [],
   "source": [
    "g0_bern   = p*E*(1-a)\n",
    "g1_bern   = p*E*(1-a)*(1-a)*(1-g)\n",
    "g0p_bern  = p*E*(1-a)\n",
    "g0pp_bern = p*E*(1-a)"
   ]
  },
  {
   "cell_type": "code",
   "execution_count": 34,
   "metadata": {},
   "outputs": [
    {
     "data": {
      "text/latex": [
       "$\\displaystyle \\frac{1.0 a^{2} p \\left(1.0 - a\\right) \\left(- 2.0 a p \\min\\left(1.0, 7.38905609893065 e^{- b}\\right) + 5.43656365691809 a p e^{- b} + 2.0 a - 5.43656365691809 a e^{- b} + p \\min\\left(1.0, 7.38905609893065 e^{- b}\\right) - 2.71828182845905 p e^{- b} - 1.0 + 2.71828182845905 e^{- b}\\right)}{- 3.0 a^{2} p \\min\\left(1.0, 7.38905609893065 e^{- b}\\right) + 8.15484548537714 a^{2} p e^{- b} + 3.0 a^{2} - 8.15484548537714 a^{2} e^{- b} + 2.0 a p \\min\\left(1.0, 7.38905609893065 e^{- b}\\right) - 5.43656365691809 a p e^{- b} + 5.43656365691809 a e^{- b} - 1.0} + \\frac{2.0 a p \\left(1.0 - a\\right)^{2} \\left(- 2.0 a p \\min\\left(1.0, 7.38905609893065 e^{- b}\\right) + 5.43656365691809 a p e^{- b} + 2.0 a - 5.43656365691809 a e^{- b} + p \\min\\left(1.0, 7.38905609893065 e^{- b}\\right) - 2.71828182845905 p e^{- b} - 1.0 + 2.71828182845905 e^{- b}\\right)}{- 3.0 a^{2} p \\min\\left(1.0, 7.38905609893065 e^{- b}\\right) + 8.15484548537714 a^{2} p e^{- b} + 3.0 a^{2} - 8.15484548537714 a^{2} e^{- b} + 2.0 a p \\min\\left(1.0, 7.38905609893065 e^{- b}\\right) - 5.43656365691809 a p e^{- b} + 5.43656365691809 a e^{- b} - 1.0} + \\frac{1.0 a p \\left(1.0 - a\\right) \\left(- 2.0 a p \\min\\left(1.0, 7.38905609893065 e^{- b}\\right) + 5.43656365691809 a p e^{- b} + 2.0 a - 5.43656365691809 a e^{- b} + p \\min\\left(1.0, 7.38905609893065 e^{- b}\\right) - 2.71828182845905 p e^{- b} - 1.0 + 2.71828182845905 e^{- b}\\right)}{\\left(a p \\left(1.0 - \\min\\left(1.0, 7.38905609893065 e^{- b}\\right)\\right) + a \\left(1.0 - p\\right) \\left(1.0 - 2.71828182845905 e^{- b}\\right)\\right) \\left(- 3.0 a^{2} p \\min\\left(1.0, 7.38905609893065 e^{- b}\\right) + 8.15484548537714 a^{2} p e^{- b} + 3.0 a^{2} - 8.15484548537714 a^{2} e^{- b} + 2.0 a p \\min\\left(1.0, 7.38905609893065 e^{- b}\\right) - 5.43656365691809 a p e^{- b} + 5.43656365691809 a e^{- b} - 1.0\\right)}$"
      ],
      "text/plain": [
       "1.0*a**2*p*(1.0 - a)*(-2.0*a*p*Min(1.0, 7.38905609893065*exp(-b)) + 5.43656365691809*a*p*exp(-b) + 2.0*a - 5.43656365691809*a*exp(-b) + p*Min(1.0, 7.38905609893065*exp(-b)) - 2.71828182845905*p*exp(-b) - 1.0 + 2.71828182845905*exp(-b))/(-3.0*a**2*p*Min(1.0, 7.38905609893065*exp(-b)) + 8.15484548537714*a**2*p*exp(-b) + 3.0*a**2 - 8.15484548537714*a**2*exp(-b) + 2.0*a*p*Min(1.0, 7.38905609893065*exp(-b)) - 5.43656365691809*a*p*exp(-b) + 5.43656365691809*a*exp(-b) - 1.0) + 2.0*a*p*(1.0 - a)**2*(-2.0*a*p*Min(1.0, 7.38905609893065*exp(-b)) + 5.43656365691809*a*p*exp(-b) + 2.0*a - 5.43656365691809*a*exp(-b) + p*Min(1.0, 7.38905609893065*exp(-b)) - 2.71828182845905*p*exp(-b) - 1.0 + 2.71828182845905*exp(-b))/(-3.0*a**2*p*Min(1.0, 7.38905609893065*exp(-b)) + 8.15484548537714*a**2*p*exp(-b) + 3.0*a**2 - 8.15484548537714*a**2*exp(-b) + 2.0*a*p*Min(1.0, 7.38905609893065*exp(-b)) - 5.43656365691809*a*p*exp(-b) + 5.43656365691809*a*exp(-b) - 1.0) + 1.0*a*p*(1.0 - a)*(-2.0*a*p*Min(1.0, 7.38905609893065*exp(-b)) + 5.43656365691809*a*p*exp(-b) + 2.0*a - 5.43656365691809*a*exp(-b) + p*Min(1.0, 7.38905609893065*exp(-b)) - 2.71828182845905*p*exp(-b) - 1.0 + 2.71828182845905*exp(-b))/((a*p*(1.0 - Min(1.0, 7.38905609893065*exp(-b))) + a*(1.0 - p)*(1.0 - 2.71828182845905*exp(-b)))*(-3.0*a**2*p*Min(1.0, 7.38905609893065*exp(-b)) + 8.15484548537714*a**2*p*exp(-b) + 3.0*a**2 - 8.15484548537714*a**2*exp(-b) + 2.0*a*p*Min(1.0, 7.38905609893065*exp(-b)) - 5.43656365691809*a*p*exp(-b) + 5.43656365691809*a*exp(-b) - 1.0))"
      ]
     },
     "execution_count": 34,
     "metadata": {},
     "output_type": "execute_result"
    }
   ],
   "source": [
    "honest_full_bern = p0*g0_bern + p1*g1_bern + p0p*g0p_bern + p0pp*g0pp_bern\n",
    "honest_final_bern = honest_full_bern.evalf(subs={p1:p1_ev, C:1., E:1., g:0})\n",
    "honest_final_bern"
   ]
  },
  {
   "cell_type": "code",
   "execution_count": 35,
   "metadata": {},
   "outputs": [
    {
     "data": {
      "text/plain": [
       "<function _lambdifygenerated(a, b, p)>"
      ]
     },
     "execution_count": 35,
     "metadata": {},
     "output_type": "execute_result"
    }
   ],
   "source": [
    "honest_final_bern_lambda = sp.lambdify((a, b, p), honest_final_bern)\n",
    "honest_final_bern_lambda"
   ]
  },
  {
   "cell_type": "code",
   "execution_count": 25,
   "metadata": {},
   "outputs": [
    {
     "data": {
      "text/plain": [
       "(5, 225, 3)"
      ]
     },
     "execution_count": 25,
     "metadata": {},
     "output_type": "execute_result"
    }
   ],
   "source": [
    "theo_res_bern = []\n",
    "for a_ in alphas:\n",
    "    temp1 = []\n",
    "    for b_ in betas:\n",
    "        temp2 = []\n",
    "        for p_ in ps:\n",
    "            attack = attack_final_bern_lambda(a=a_, b=b_, p=p_)\n",
    "            honest = honest_final_bern_lambda(a=a_, b=b_, p=p_)\n",
    "            temp2.append(attack/(attack+honest))\n",
    "        temp1.append(temp2)\n",
    "    theo_res_bern.append(temp1)\n",
    "theo_res_bern = np.array(theo_res_bern)\n",
    "theo_res_bern.shape"
   ]
  },
  {
   "cell_type": "markdown",
   "metadata": {},
   "source": [
    "# Theoretical for linear rewards"
   ]
  },
  {
   "cell_type": "code",
   "execution_count": 36,
   "metadata": {},
   "outputs": [
    {
     "data": {
      "text/latex": [
       "$\\displaystyle \\left(1 - a\\right) \\left(a + g \\left(1 - a\\right)\\right) \\left(a p \\left(- \\left(\\max\\left(0, - C - E + b\\right) + 1\\right) \\min\\left(1, e^{C + E - b}\\right) + 1\\right) + a \\left(1 - p\\right) \\left(- \\left(- C + b + 1\\right) e^{C - b} + 1\\right)\\right)$"
      ],
      "text/plain": [
       "(1 - a)*(a + g*(1 - a))*(a*p*(-(Max(0, -C - E + b) + 1)*Min(1, exp(C + E - b)) + 1) + a*(1 - p)*(-(-C + b + 1)*exp(C - b) + 1))"
      ]
     },
     "execution_count": 36,
     "metadata": {},
     "output_type": "execute_result"
    }
   ],
   "source": [
    "f0i_lin   = a*p*(sp.Max(0,b-C-E)+1)*sp.Min(1,sp.exp(-b+C+E)) + a*(1-p)*(b-C+1)*sp.exp(-b+C)\n",
    "f0ii_lin  = a* (a*p*(1-(sp.Max(0,b-C-E)+1)*sp.Min(1,sp.exp(-b+C+E))) + a*(1-p)*(1-(b-C+1)*sp.exp(-b+C))) \n",
    "f0iii_lin = ((1-a)*(a+g*(1-a)))* (a*p*(1-(sp.Max(0,b-C-E)+1)*sp.Min(1,sp.exp(-b+C+E))) + a*(1-p)*(1-(b-C+1)*sp.exp(-b+C)))\n",
    "f0iii_lin"
   ]
  },
  {
   "cell_type": "code",
   "execution_count": 37,
   "metadata": {},
   "outputs": [],
   "source": [
    "f0_lin = f0i_lin + f0ii_lin + f0iii_lin\n",
    "f1_lin = a + 2*a*(1-a)"
   ]
  },
  {
   "cell_type": "code",
   "execution_count": 38,
   "metadata": {},
   "outputs": [
    {
     "data": {
      "text/latex": [
       "$\\displaystyle \\frac{0.122626480390481 a \\left(a^{2} \\cdot \\left(2.0 a - 3.0\\right) \\left(p \\left(\\min\\left(1.0, 7.38905609893065 e^{- b}\\right) - 1.0\\right) e^{b} + \\left(p - 1.0\\right) \\left(1.0 e^{b} - 2.71828182845905\\right)\\right) - a \\left(2.0 a - 3.0\\right) \\left(2.0 a - 1.0\\right) \\left(p \\left(\\min\\left(1.0, 7.38905609893065 e^{- b}\\right) - 1.0\\right) e^{b} + \\left(p - 1.0\\right) \\left(1.0 e^{b} - 2.71828182845905\\right)\\right) + \\left(2.0 a - 1.0\\right) \\left(- a \\left(a - 1.0\\right) \\left(p \\left(\\left(\\max\\left(0, b - 2.0\\right) + 1.0\\right) \\min\\left(1.0, 7.38905609893065 e^{- b}\\right) - 1.0\\right) e^{b} - \\left(2.71828182845905 b - 1.0 e^{b}\\right) \\left(p - 1.0\\right)\\right) + a \\left(p \\left(\\left(\\max\\left(0, b - 2.0\\right) + 1.0\\right) \\min\\left(1.0, 7.38905609893065 e^{- b}\\right) - 1.0\\right) e^{b} - \\left(2.71828182845905 b - 1.0 e^{b}\\right) \\left(p - 1.0\\right)\\right) + 2.71828182845905 b \\left(p - 1.0\\right) - p \\left(\\max\\left(0, b - 2.0\\right) + 1.0\\right) e^{b} \\min\\left(1.0, 7.38905609893065 e^{- b}\\right)\\right)\\right) \\left(- 5.43656365691809 a p + 5.43656365691809 a + 2.71828182845905 p + \\left(2.0 a p \\min\\left(1.0, 7.38905609893065 e^{- b}\\right) - 2.0 a - p \\min\\left(1.0, 7.38905609893065 e^{- b}\\right) + 1.0\\right) e^{b} - 2.71828182845905\\right)}{\\left(2.0 a - 1.0\\right) \\left(p \\left(\\min\\left(1.0, 7.38905609893065 e^{- b}\\right) - 1.0\\right) e^{b} + \\left(p - 1.0\\right) \\left(1.0 e^{b} - 2.71828182845905\\right)\\right) \\left(- a^{2} p + a^{2} + 0.666666666666667 a p - 0.666666666666667 a + 0.122626480390481 \\cdot \\left(3.0 a^{2} p \\min\\left(1.0, 7.38905609893065 e^{- b}\\right) - 3.0 a^{2} - 2.0 a p \\min\\left(1.0, 7.38905609893065 e^{- b}\\right) + 1.0\\right) e^{b}\\right)}$"
      ],
      "text/plain": [
       "0.122626480390481*a*(a**2*(2.0*a - 3.0)*(p*(Min(1.0, 7.38905609893065*exp(-b)) - 1.0)*exp(b) + (p - 1.0)*(1.0*exp(b) - 2.71828182845905)) - a*(2.0*a - 3.0)*(2.0*a - 1.0)*(p*(Min(1.0, 7.38905609893065*exp(-b)) - 1.0)*exp(b) + (p - 1.0)*(1.0*exp(b) - 2.71828182845905)) + (2.0*a - 1.0)*(-a*(a - 1.0)*(p*((Max(0, b - 2.0) + 1.0)*Min(1.0, 7.38905609893065*exp(-b)) - 1.0)*exp(b) - (2.71828182845905*b - 1.0*exp(b))*(p - 1.0)) + a*(p*((Max(0, b - 2.0) + 1.0)*Min(1.0, 7.38905609893065*exp(-b)) - 1.0)*exp(b) - (2.71828182845905*b - 1.0*exp(b))*(p - 1.0)) + 2.71828182845905*b*(p - 1.0) - p*(Max(0, b - 2.0) + 1.0)*exp(b)*Min(1.0, 7.38905609893065*exp(-b))))*(-5.43656365691809*a*p + 5.43656365691809*a + 2.71828182845905*p + (2.0*a*p*Min(1.0, 7.38905609893065*exp(-b)) - 2.0*a - p*Min(1.0, 7.38905609893065*exp(-b)) + 1.0)*exp(b) - 2.71828182845905)/((2.0*a - 1.0)*(p*(Min(1.0, 7.38905609893065*exp(-b)) - 1.0)*exp(b) + (p - 1.0)*(1.0*exp(b) - 2.71828182845905))*(-a**2*p + a**2 + 0.666666666666667*a*p - 0.666666666666667*a + 0.122626480390481*(3.0*a**2*p*Min(1.0, 7.38905609893065*exp(-b)) - 3.0*a**2 - 2.0*a*p*Min(1.0, 7.38905609893065*exp(-b)) + 1.0)*exp(b)))"
      ]
     },
     "execution_count": 38,
     "metadata": {},
     "output_type": "execute_result"
    }
   ],
   "source": [
    "attack_full_lin = p0*f0_lin + p1*f1_lin + p1*a*a*(3-2*a)/(1-2*a)\n",
    "p1_ev = p1_sym.evalf(subs={C:1., E:1.})\n",
    "attack_final_lin = sp.simplify(attack_full_lin.evalf(subs={p1:p1_ev, C:1., E:1., g:0}))\n",
    "attack_final_lin"
   ]
  },
  {
   "cell_type": "code",
   "execution_count": 40,
   "metadata": {},
   "outputs": [
    {
     "data": {
      "text/plain": [
       "<function _lambdifygenerated(a, b, p)>"
      ]
     },
     "execution_count": 40,
     "metadata": {},
     "output_type": "execute_result"
    }
   ],
   "source": [
    "attack_final_lin_lambda = sp.lambdify((a, b, p), attack_final_lin)\n",
    "attack_final_lin_lambda"
   ]
  },
  {
   "cell_type": "code",
   "execution_count": 30,
   "metadata": {},
   "outputs": [
    {
     "data": {
      "text/plain": [
       "(5, 225, 3)"
      ]
     },
     "execution_count": 30,
     "metadata": {},
     "output_type": "execute_result"
    }
   ],
   "source": [
    "theo_res_lin = []\n",
    "for a_ in alphas:\n",
    "    temp1 = []\n",
    "    for b_ in betas:\n",
    "        temp2 = []\n",
    "        for p_ in ps:\n",
    "            attack = attack_final_lin_lambda(a=a_, b=b_, p=p_)\n",
    "            temp2.append(attack)\n",
    "        temp1.append(temp2)\n",
    "    theo_res_lin.append(temp1)\n",
    "theo_res_lin = np.array(theo_res_lin)\n",
    "theo_res_lin.shape"
   ]
  },
  {
   "cell_type": "code",
   "execution_count": 31,
   "metadata": {},
   "outputs": [
    {
     "ename": "NameError",
     "evalue": "name 'sim_res_fixed' is not defined",
     "output_type": "error",
     "traceback": [
      "\u001b[0;31m---------------------------------------------------------------------------\u001b[0m",
      "\u001b[0;31mNameError\u001b[0m                                 Traceback (most recent call last)",
      "\u001b[0;32m<ipython-input-31-c09c38a50124>\u001b[0m in \u001b[0;36m<module>\u001b[0;34m\u001b[0m\n\u001b[1;32m     24\u001b[0m     \u001b[0max\u001b[0m \u001b[0;34m=\u001b[0m \u001b[0maxarr\u001b[0m\u001b[0;34m[\u001b[0m\u001b[0;36m0\u001b[0m\u001b[0;34m,\u001b[0m\u001b[0mi\u001b[0m\u001b[0;34m]\u001b[0m\u001b[0;34m\u001b[0m\u001b[0;34m\u001b[0m\u001b[0m\n\u001b[1;32m     25\u001b[0m     \u001b[0;32mfor\u001b[0m \u001b[0mj\u001b[0m\u001b[0;34m,\u001b[0m \u001b[0ma_\u001b[0m \u001b[0;32min\u001b[0m \u001b[0menumerate\u001b[0m\u001b[0;34m(\u001b[0m\u001b[0malphas\u001b[0m\u001b[0;34m)\u001b[0m\u001b[0;34m:\u001b[0m\u001b[0;34m\u001b[0m\u001b[0;34m\u001b[0m\u001b[0m\n\u001b[0;32m---> 26\u001b[0;31m         marker, = ax.plot(sim_betas, sim_res_fixed[j,:,i], marker='o', color=colors[j], linestyle='none', \n\u001b[0m\u001b[1;32m     27\u001b[0m                           fillstyle='none', label=r'$\\alpha$={:0.2f} simulation values'.format(a_))\n\u001b[1;32m     28\u001b[0m         \u001b[0;32mif\u001b[0m \u001b[0mi\u001b[0m \u001b[0;34m==\u001b[0m \u001b[0;36m0\u001b[0m\u001b[0;34m:\u001b[0m\u001b[0;34m\u001b[0m\u001b[0;34m\u001b[0m\u001b[0m\n",
      "\u001b[0;31mNameError\u001b[0m: name 'sim_res_fixed' is not defined"
     ]
    },
    {
     "data": {
      "image/png": "[encoded data removed]",
      "text/plain": [
       "<Figure size 1008x1296 with 12 Axes>"
      ]
     },
     "metadata": {
      "needs_background": "light"
     },
     "output_type": "display_data"
    }
   ],
   "source": [
    "f, axarr = plt.subplots(nrows=4, ncols=3, figsize=(14,18))\n",
    "\n",
    "colors = ['maroon', 'lightseagreen', 'darkmagenta', 'peru', 'dodgerblue'] \n",
    "handles, labels = [], []\n",
    "\n",
    "for i in range(3):\n",
    "    ax = axarr[0,i]\n",
    "    for j, a_ in enumerate(alphas):\n",
    "        line, = ax.plot(betas, theo_res_fixed[j,:,i], linewidth=2, color=colors[j], alpha=0.4,\n",
    "                        label=r'$\\alpha$={:0.2f} theoretical values'.format(a_))\n",
    "        if i == 0:\n",
    "            handles.append(line)\n",
    "            labels.append(r'$\\alpha$={:0.2f} theoretical values'.format(a_))\n",
    "    ax = axarr[1,i]\n",
    "    for j, a_ in enumerate(alphas):\n",
    "        line, = ax.plot(betas, theo_res_bern[j,:,i], linewidth=2, color=colors[j], alpha=0.4,\n",
    "                        label=r'$\\alpha$={:0.2f} theoretical values'.format(a_))\n",
    "    ax = axarr[2,i]\n",
    "    for j, a_ in enumerate(alphas):\n",
    "        line, = ax.plot(betas, theo_res_lin[j,:,i], linewidth=2, color=colors[j], alpha=0.4,\n",
    "                        label=r'$\\alpha$={:0.2f} theoretical values'.format(a_))\n",
    "\n",
    "for i in range(3):\n",
    "    ax = axarr[0,i]\n",
    "    for j, a_ in enumerate(alphas):\n",
    "        marker, = ax.plot(sim_betas, sim_res_fixed[j,:,i], marker='o', color=colors[j], linestyle='none', \n",
    "                          fillstyle='none', label=r'$\\alpha$={:0.2f} simulation values'.format(a_))\n",
    "        if i == 0:\n",
    "            handles.append(marker)\n",
    "            labels.append(r'$\\alpha$={:0.2f} simulation values'.format(a_))\n",
    "    ax = axarr[1,i]\n",
    "    for j, a_ in enumerate(alphas):\n",
    "        marker, = ax.plot(sim_betas, sim_res_bern[j,:,i], marker='o', color=colors[j], linestyle='none', \n",
    "                          fillstyle='none', label=r'$\\alpha$={:0.2f} simulation values'.format(a_))\n",
    "    ax = axarr[2,i]\n",
    "    for j, a_ in enumerate(alphas):\n",
    "        marker, = ax.plot(sim_betas, sim_res_lin[j,:,i], marker='o', color=colors[j], linestyle='none', \n",
    "                          fillstyle='none', label=r'$\\alpha$={:0.2f} simulation values'.format(a_))\n",
    "\n",
    "for i in range(3):\n",
    "    ax = axarr[3,i]\n",
    "    for j, a_ in enumerate(alphas):\n",
    "        all_rews = theo_res_fixed[j,:,i] + theo_res_bern[j,:,i] + theo_res_lin[j,:,i]\n",
    "        line, = ax.plot(betas, all_rews, linewidth=3, color=colors[j], alpha=0.9, linestyle='--',\n",
    "                       label=r'$\\alpha$={:0.2f} total rewards'.format(a_))\n",
    "        if i == 0:\n",
    "            handles.append(line)\n",
    "            labels.append(r'$\\alpha$={:0.2f} total rewards'.format(a_))\n",
    "\n",
    "        \n",
    "for i, ax in enumerate(axarr.flatten()):\n",
    "    ax.grid(alpha=0.2)\n",
    "    ax.set_xlim(1.5, 4.25)\n",
    "    ax.set_xticks(np.arange(1.75,4.01,0.5))\n",
    "    \n",
    "\n",
    "f.subplots_adjust(wspace=0.03, hspace=0.03)\n",
    "\n",
    "\n",
    "for i, ax in enumerate(axarr[0]):\n",
    "    ax.set_yticks(np.arange(0.15,0.451,0.05))\n",
    "    ax.set_title(r'$p={:0.2f}$'.format(ps[i]), size=16)\n",
    "    \n",
    "for i, ax in enumerate(axarr[1]):\n",
    "    ax.set_yticks(np.arange(0.15,0.451,0.05))\n",
    "\n",
    "for i, ax in enumerate(axarr[3]):\n",
    "    ax.set_xlabel(r'$\\beta$', size=14)\n",
    "    \n",
    "for i in range(4):\n",
    "    axarr[i,1].set_yticklabels([])\n",
    "    axarr[i,2].set_yticklabels([])\n",
    "#     axarr[i,1].set_xticklabels([])\n",
    "#     axarr[i,2].set_xticklabels([])\n",
    "\n",
    "axarr[0,0].set_ylabel(r'block rewards', size=16)\n",
    "axarr[1,0].set_ylabel(r'bernoulli rewards', size=16)\n",
    "axarr[2,0].set_ylabel(r'linear rewards', size=16)\n",
    "axarr[3,0].set_ylabel(r'all rewards', size=16)\n",
    "f.legend(handles, labels, loc='upper center', bbox_to_anchor=(0.5, 0.09), ncol=3)\n",
    "\n",
    "plt.savefig('out.png', dpi=150, bbox_inches='tight', facecolor='white')\n",
    "plt.show()"
   ]
  },
  {
   "cell_type": "markdown",
   "metadata": {},
   "source": [
    "# optimal betas with both types of rewards"
   ]
  },
  {
   "cell_type": "code",
   "execution_count": 41,
   "metadata": {},
   "outputs": [],
   "source": [
    "honest_final_fixed   = honest_full_fixed.evalf(subs={p1:p1_ev, E:1.})\n",
    "attack_final_fixed   = attack_full_fixed.evalf(subs={p1:p1_ev, E:1.})\n",
    "attack_final_lin     = attack_full_lin.evalf(subs={p1:p1_ev, E:1.})\n",
    "attack_final_bern    = attack_full_bern.evalf(subs={p1:p1_ev, E:1.})"
   ]
  },
  {
   "cell_type": "code",
   "execution_count": 42,
   "metadata": {},
   "outputs": [
    {
     "data": {
      "text/plain": [
       "<function _lambdifygenerated(a, b, p, g, C)>"
      ]
     },
     "execution_count": 42,
     "metadata": {},
     "output_type": "execute_result"
    }
   ],
   "source": [
    "attack_final_fixed_lambda   = sp.lambdify((a, b, p, g, C), attack_final_fixed)\n",
    "attack_final_lin_lambda     = sp.lambdify((a, b, p, g, C), attack_final_lin)\n",
    "attack_final_bern_lambda    = sp.lambdify((a, b, p, g, C), attack_final_bern)\n",
    "attack_final_lin_lambda"
   ]
  },
  {
   "cell_type": "code",
   "execution_count": 46,
   "metadata": {},
   "outputs": [],
   "source": [
    "def LinRewards(a_, b_, p_, g_, C_):\n",
    "    return attack_final_lin_lambda(a_, b_, p_, g_, C_)\n",
    "\n",
    "def LinAndBlockRewards(a_, b_, p_, g_, C_):\n",
    "    lin  = attack_final_lin_lambda(a_, b_, p_, g_, C_)\n",
    "    a_fixed = attack_final_fixed_lambda(a_, b_, p_, g_, C_)\n",
    "    return lin + a_fixed\n",
    "\n",
    "def LinBlockBernRewards(a_, b_, p_, g_, C_):\n",
    "    lin  = attack_final_lin_lambda(a_, b_, p_, g_, C_)\n",
    "    fixed = attack_final_fixed_lambda(a_, b_, p_, g_, C_)\n",
    "    bern = attack_final_bern_lambda(a_, b_, p_, g_, C_)\n",
    "    return lin + fixed + bern"
   ]
  },
  {
   "cell_type": "code",
   "execution_count": 50,
   "metadata": {},
   "outputs": [
    {
     "name": "stderr",
     "output_type": "stream",
     "text": [
      "100%|██████████| 49/49 [00:36<00:00,  1.36it/s]\n",
      "100%|██████████| 49/49 [00:36<00:00,  1.34it/s]\n",
      "100%|██████████| 49/49 [00:36<00:00,  1.35it/s]\n"
     ]
    },
    {
     "data": {
      "text/plain": [
       "((3, 49), (3, 49), (3, 49))"
      ]
     },
     "execution_count": 50,
     "metadata": {},
     "output_type": "execute_result"
    }
   ],
   "source": [
    "alphas = np.arange(0.01, 0.5, 0.01)\n",
    "betas  = np.arange(1.01, 8.1, 0.01)\n",
    "p_     = 0.25\n",
    "gammas = [0., 0.25, 0.5]\n",
    "\n",
    "opt_beta_linear = []\n",
    "opt_beta_total  = []\n",
    "opt_beta_three  = []\n",
    "for g_ in gammas:\n",
    "    temp1, temp2, temp3 = [], [], []\n",
    "    for a_ in tqdm(alphas):\n",
    "        three = [LinBlockBernRewards(a_=a_, b_=b_, p_=p_, g_=g_, C_=1.) for b_ in betas]\n",
    "        fulls = [LinAndBlockRewards(a_=a_, b_=b_, p_=p_, g_=g_, C_=1.) for b_ in betas]\n",
    "        lins  = [LinRewards(a_=a_, b_=b_, p_=p_, g_=g_, C_=1.) for b_ in betas]\n",
    "        temp1.append(betas[np.argmax(fulls)])\n",
    "        temp2.append(betas[np.argmax(lins)])\n",
    "        temp3.append(betas[np.argmax(three)])\n",
    "    opt_beta_total.append(temp1)\n",
    "    opt_beta_linear.append(temp2)\n",
    "    opt_beta_three.append(temp3)\n",
    "opt_beta_total  = np.array(opt_beta_total)\n",
    "opt_beta_linear = np.array(opt_beta_linear)\n",
    "opt_beta_three = np.array(opt_beta_three)\n",
    "opt_beta_linear.shape, opt_beta_total.shape, opt_beta_three.shape"
   ]
  },
  {
   "cell_type": "code",
   "execution_count": 51,
   "metadata": {},
   "outputs": [
    {
     "data": {
      "image/png": "[encoded data removed]",
      "text/plain": [
       "<Figure size 936x288 with 3 Axes>"
      ]
     },
     "metadata": {
      "needs_background": "light"
     },
     "output_type": "display_data"
    }
   ],
   "source": [
    "f, axarr = plt.subplots(ncols=3, figsize=(13,4))\n",
    "for i in range(3):\n",
    "    axarr[i].plot(alphas, opt_beta_linear[i], label=r'Linear', color='peru', \n",
    "                  linestyle='-', linewidth=3, alpha=0.7) \n",
    "    axarr[i].plot(alphas, opt_beta_total[i], label=r'Linear+Block Reward', color='royalblue', \n",
    "                  linestyle='-', linewidth=3, alpha=0.7)\n",
    "    axarr[i].plot(alphas, opt_beta_three[i], label=r'Linear+Block+Bernoulli Reward', color='olive', \n",
    "                  linestyle='-', linewidth=3, alpha=0.7)\n",
    "\n",
    "for ax in axarr:\n",
    "    ax.grid(alpha=0.3)\n",
    "    ax.set_xlabel(r'$\\alpha$', size=15)\n",
    "    ax.set_xlim(0,0.5)\n",
    "    \n",
    "axarr[0].set_ylabel(r'Optimal $\\beta$', size=15)\n",
    "axarr[0].set_title(r'$\\gamma=0.00, \\alpha^*=1/3$', size=15)\n",
    "axarr[1].set_title(r'$\\gamma=0.25, \\alpha^*=0.3$', size=15)\n",
    "axarr[2].set_title(r'$\\gamma=0.50, \\alpha^*=1/4$', size=15)\n",
    "\n",
    "axarr[0].axvline(1/3, color='k', linewidth=3, alpha=0.7, linestyle='--', label='Selfish Mining Profitability Threshold')\n",
    "axarr[1].axvline(0.3, color='k', linewidth=3, alpha=0.7, linestyle='--')\n",
    "axarr[2].axvline(1/4, color='k', linewidth=3, alpha=0.7, linestyle='--')\n",
    "\n",
    "\n",
    "handles, labels = axarr[0].get_legend_handles_labels()\n",
    "f.legend(handles, labels, loc='lower center', bbox_to_anchor=(0.51, -0.12), ncol=3, fontsize=12)\n",
    "\n",
    "plt.savefig('out.png', dpi=150, bbox_inches='tight', facecolor='white')\n",
    "plt.show()"
   ]
  },
  {
   "cell_type": "markdown",
   "metadata": {},
   "source": [
    "# Threshold alphas"
   ]
  },
  {
   "cell_type": "code",
   "execution_count": 44,
   "metadata": {},
   "outputs": [],
   "source": [
    "honest_final_fixed   = honest_full_fixed.evalf(subs={p1:p1_ev, E:1.})\n",
    "attack_final_fixed   = attack_full_fixed.evalf(subs={p1:p1_ev, E:1.})\n",
    "honest_final_bern    = honest_full_bern.evalf(subs={p1:p1_ev, E:1.})\n",
    "attack_final_bern    = attack_full_bern.evalf(subs={p1:p1_ev, E:1.})\n",
    "attack_final_lin     = attack_full_lin.evalf(subs={p1:p1_ev, E:1.})"
   ]
  },
  {
   "cell_type": "code",
   "execution_count": 57,
   "metadata": {},
   "outputs": [
    {
     "data": {
      "text/plain": [
       "<function _lambdifygenerated(a, b, p, g, C)>"
      ]
     },
     "execution_count": 57,
     "metadata": {},
     "output_type": "execute_result"
    }
   ],
   "source": [
    "honest_final_fixed_lambda   = sp.lambdify((a, b, p, g, C), honest_final_fixed)\n",
    "attack_final_fixed_lambda   = sp.lambdify((a, b, p, g, C), attack_final_fixed)\n",
    "honest_final_bern_lambda    = sp.lambdify((a, b, p, g, C), honest_final_bern)\n",
    "attack_final_bern_lambda    = sp.lambdify((a, b, p, g, C), attack_final_bern)\n",
    "attack_final_lin_lambda     = sp.lambdify((a, b, p, g, C), attack_final_lin)\n",
    "attack_final_lin_lambda"
   ]
  },
  {
   "cell_type": "code",
   "execution_count": 495,
   "metadata": {},
   "outputs": [],
   "source": [
    "def BlockRewards(a_, b_, p_, g_, C_):\n",
    "    a_fixed = attack_final_fixed_lambda(a_, b_, p_, g_, C_)\n",
    "    h_fixed = honest_final_fixed_lambda(a_, b_, p_, g_, C_)\n",
    "    return a_fixed/(a_fixed+h_fixed)\n",
    "\n",
    "def LinRewards(a_, b_, p_, g_, C_):\n",
    "    return attack_final_lin_lambda(a_, b_, p_, g_, C_)\n",
    "\n",
    "def LinAndBlockRewards(a_, b_, p_, g_, C_):\n",
    "    lin  = attack_final_lin_lambda(a_, b_, p_, g_, C_)\n",
    "    a_fixed = attack_final_fixed_lambda(a_, b_, p_, g_, C_)\n",
    "    h_fixed = honest_final_fixed_lambda(a_, b_, p_, g_, C_)\n",
    "    return lin + a_fixed/(a_fixed+h_fixed)\n",
    "\n",
    "def FullRewards(a_, b_, p_, g_, C_):\n",
    "    lin  = attack_final_lin_lambda(a_, b_, p_, g_, C_)\n",
    "    a_fixed = attack_final_fixed_lambda(a_, b_, p_, g_, C_)\n",
    "    h_fixed = honest_final_fixed_lambda(a_, b_, p_, g_, C_)\n",
    "    a_bern  = attack_final_bern_lambda(a_, b_, p_, g_, C_)\n",
    "    h_bern  = honest_final_bern_lambda(a_, b_, p_, g_, C_)\n",
    "    return (lin + a_fixed/(a_fixed+h_fixed) + a_bern/(a_bern+h_bern))/3"
   ]
  },
  {
   "cell_type": "code",
   "execution_count": 545,
   "metadata": {},
   "outputs": [],
   "source": [
    "gammas = np.arange(0.01, 1, 0.01)\n",
    "alphas = np.arange(0.01, 0.50, 0.005)\n",
    "betas = np.arange(1.01, 5.01, 0.05)\n",
    "p_ = 0.5\n",
    "C_ = 1."
   ]
  },
  {
   "cell_type": "code",
   "execution_count": 422,
   "metadata": {},
   "outputs": [
    {
     "data": {
      "text/plain": [
       "0.19648202274333584"
      ]
     },
     "execution_count": 422,
     "metadata": {},
     "output_type": "execute_result"
    }
   ],
   "source": [
    "FullRewards(a_, bestBeta, p_, g_, C_)"
   ]
  },
  {
   "cell_type": "code",
   "execution_count": 546,
   "metadata": {},
   "outputs": [
    {
     "name": "stderr",
     "output_type": "stream",
     "text": [
      "100%|██████████| 99/99 [01:31<00:00,  1.08it/s]\n"
     ]
    },
    {
     "data": {
      "text/plain": [
       "(99,)"
      ]
     },
     "execution_count": 546,
     "metadata": {},
     "output_type": "execute_result"
    }
   ],
   "source": [
    "b_res  = []\n",
    "for g_ in tqdm(gammas):\n",
    "    for a_ in alphas:\n",
    "        bs = [BlockRewards(a_, b_, p_, g_, C_) for b_ in betas]\n",
    "        bestBeta = betas[np.argmax(bs)]\n",
    "        if FullRewards(a_, bestBeta, p_, g_, C_) > a_:\n",
    "            b_res.append(a_)\n",
    "            break        \n",
    "b_res = np.array(b_res)\n",
    "b_res.shape"
   ]
  },
  {
   "cell_type": "code",
   "execution_count": 547,
   "metadata": {},
   "outputs": [
    {
     "name": "stderr",
     "output_type": "stream",
     "text": [
      "100%|██████████| 99/99 [00:36<00:00,  2.73it/s]\n"
     ]
    },
    {
     "data": {
      "text/plain": [
       "(99,)"
      ]
     },
     "execution_count": 547,
     "metadata": {},
     "output_type": "execute_result"
    }
   ],
   "source": [
    "l_res  = []\n",
    "for g_ in tqdm(gammas):\n",
    "    for a_ in alphas:\n",
    "        bs = [LinRewards(a_, b_, p_, g_, C_) for b_ in betas]\n",
    "        bestBeta = betas[np.argmax(bs)]\n",
    "        if FullRewards(a_, bestBeta, p_, g_, C_) > a_:\n",
    "            l_res.append(a_)\n",
    "            break        \n",
    "l_res = np.array(l_res)\n",
    "l_res.shape"
   ]
  },
  {
   "cell_type": "code",
   "execution_count": 548,
   "metadata": {},
   "outputs": [
    {
     "name": "stderr",
     "output_type": "stream",
     "text": [
      "100%|██████████| 99/99 [02:38<00:00,  1.60s/it]\n"
     ]
    },
    {
     "data": {
      "text/plain": [
       "(99,)"
      ]
     },
     "execution_count": 548,
     "metadata": {},
     "output_type": "execute_result"
    }
   ],
   "source": [
    "f_res = []\n",
    "for g_ in tqdm(gammas):\n",
    "    for a_ in alphas:\n",
    "        bs = [FullRewards(a_, b_, p_, g_, C_) for b_ in betas]\n",
    "        bestBeta = betas[np.argmax(bs)]\n",
    "        if FullRewards(a_, bestBeta, p_, g_, C_) > a_:\n",
    "            f_res.append(a_)\n",
    "            break        \n",
    "f_res = np.array(bl_res)\n",
    "f_res.shape"
   ]
  },
  {
   "cell_type": "code",
   "execution_count": 549,
   "metadata": {},
   "outputs": [
    {
     "data": {
      "image/png": "[encoded data removed]",
      "text/plain": [
       "<Figure size 432x432 with 1 Axes>"
      ]
     },
     "metadata": {
      "needs_background": "light"
     },
     "output_type": "display_data"
    }
   ],
   "source": [
    "f, ax = plt.subplots(figsize=(6,6))\n",
    "\n",
    "ax.plot(gammas, b_res, label='block rewards', color='seagreen')\n",
    "ax.plot(gammas, l_res, label='linear rewards', color='deeppink')\n",
    "ax.plot(gammas, f_res, label='total rewards', color='cornflowerblue')\n",
    "\n",
    "ax.grid(alpha=0.3)\n",
    "ax.set_xlabel(r'$\\gamma$', size=15)\n",
    "ax.set_ylabel(r'$\\alpha$', size=15)\n",
    "ax.set_title(r'Profitability thresholds', size=17)\n",
    "\n",
    "ax.hlines(0.3, xmin=0, xmax=0.25, color='black', linestyles='dotted', alpha=0.3, \n",
    "          label=r'$\\gamma=0.25,\\alpha=0.30$')\n",
    "ax.vlines(0.25, ymin=0, ymax=0.3, color='black', linestyles='dotted', alpha=0.3)\n",
    "ax.hlines(0.25, xmin=0, xmax=0.5, color='black', linestyles='--', alpha=0.3, \n",
    "          label=r'$\\gamma=0.50,\\alpha=0.25$')\n",
    "ax.vlines(0.5, ymin=0, ymax=0.25, color='black', linestyles='--', alpha=0.3)\n",
    "\n",
    "ax.set_xlim(0,1)\n",
    "ax.set_ylim(0,1/3)\n",
    "\n",
    "ax.legend()\n",
    "plt.savefig('out.png', dpi=150, bbox_inches='tight', facecolor='white')\n",
    "plt.show()"
   ]
  },
  {
   "cell_type": "markdown",
   "metadata": {},
   "source": [
    "# making it more efficient"
   ]
  },
  {
   "cell_type": "code",
   "execution_count": 63,
   "metadata": {},
   "outputs": [],
   "source": [
    "gammas = np.arange(0.01, 1, 0.01)\n",
    "alphas = np.arange(0.01, 0.50, 0.025)\n",
    "betas = np.arange(1.01, 5.01, 0.01)"
   ]
  },
  {
   "cell_type": "code",
   "execution_count": 64,
   "metadata": {},
   "outputs": [],
   "source": [
    "p_ = 0.5\n",
    "C_ = 1."
   ]
  },
  {
   "cell_type": "code",
   "execution_count": 65,
   "metadata": {},
   "outputs": [
    {
     "data": {
      "text/latex": [
       "$\\displaystyle \\frac{a \\left(- 1.0 a \\min\\left(1.0, 20.0855369231877 e^{- b}\\right) + 2.0 a - 2.71828182845905 a e^{- b} + 0.5 \\min\\left(1.0, 20.0855369231877 e^{- b}\\right) - 1.0 + 1.35914091422952 e^{- b}\\right)}{- 1.5 a^{2} \\min\\left(1.0, 20.0855369231877 e^{- b}\\right) + 3.0 a^{2} - 4.07742274268857 a^{2} e^{- b} + 1.0 a \\min\\left(1.0, 20.0855369231877 e^{- b}\\right) + 2.71828182845905 a e^{- b} - 1.0}$"
      ],
      "text/plain": [
       "a*(-1.0*a*Min(1.0, 20.0855369231877*exp(-b)) + 2.0*a - 2.71828182845905*a*exp(-b) + 0.5*Min(1.0, 20.0855369231877*exp(-b)) - 1.0 + 1.35914091422952*exp(-b))/(-1.5*a**2*Min(1.0, 20.0855369231877*exp(-b)) + 3.0*a**2 - 4.07742274268857*a**2*exp(-b) + 1.0*a*Min(1.0, 20.0855369231877*exp(-b)) + 2.71828182845905*a*exp(-b) - 1.0)"
      ]
     },
     "execution_count": 65,
     "metadata": {},
     "output_type": "execute_result"
    }
   ],
   "source": [
    "p1_ev = p1_sym.evalf(subs={C:1., E:2., p:0.5})\n",
    "p1_ev"
   ]
  },
  {
   "cell_type": "code",
   "execution_count": 66,
   "metadata": {},
   "outputs": [],
   "source": [
    "attacker_final_fixed = attack_full_fixed.evalf(subs={p1:p1_ev, E:2., p:0.5, C:1.})\n",
    "attack_final_bern    = attack_full_bern.evalf(subs={p1:p1_ev, E:2., p:0.5, C:1.})\n",
    "attack_final_lin     = attack_full_lin.evalf(subs={p1:p1_ev, E:2., p:0.5, C:1.})"
   ]
  },
  {
   "cell_type": "code",
   "execution_count": 67,
   "metadata": {},
   "outputs": [
    {
     "data": {
      "text/plain": [
       "<numpy.vectorize at 0x1554bf400>"
      ]
     },
     "execution_count": 67,
     "metadata": {},
     "output_type": "execute_result"
    }
   ],
   "source": [
    "br = sp.simplify(attacker_final_fixed)\n",
    "br_lambda = sp.lambdify((a,b,g), br, 'numpy')\n",
    "br_lambda = np.vectorize(br_lambda)\n",
    "br_lambda"
   ]
  },
  {
   "cell_type": "code",
   "execution_count": 68,
   "metadata": {},
   "outputs": [
    {
     "data": {
      "text/plain": [
       "<function _lambdifygenerated(a, b, g)>"
      ]
     },
     "execution_count": 68,
     "metadata": {},
     "output_type": "execute_result"
    }
   ],
   "source": [
    "lin = sp.simplify(attack_final_lin)\n",
    "lin_lambda = sp.lambdify((a,b,g), lin)\n",
    "lin_lambda"
   ]
  },
  {
   "cell_type": "code",
   "execution_count": 69,
   "metadata": {},
   "outputs": [],
   "source": [
    "bern = sp.simplify(attack_final_bern)"
   ]
  },
  {
   "cell_type": "code",
   "execution_count": 70,
   "metadata": {},
   "outputs": [],
   "source": [
    "full = (br + lin + bern)/3\n",
    "full_lambda = sp.lambdify((a,b,g), full)"
   ]
  },
  {
   "cell_type": "code",
   "execution_count": 71,
   "metadata": {},
   "outputs": [],
   "source": [
    "starting_alphas = np.linspace(0.25, 0.0, len(gammas))\n",
    "starting_alphas = starting_alphas**(1/6)-0.57"
   ]
  },
  {
   "cell_type": "code",
   "execution_count": 72,
   "metadata": {},
   "outputs": [
    {
     "name": "stderr",
     "output_type": "stream",
     "text": [
      "99it [00:13,  7.35it/s]\n"
     ]
    },
    {
     "data": {
      "text/plain": [
       "(99,)"
      ]
     },
     "execution_count": 72,
     "metadata": {},
     "output_type": "execute_result"
    }
   ],
   "source": [
    "b_res  = []\n",
    "for i, g_ in tqdm(enumerate(gammas)):\n",
    "    cand_alphas = alphas[alphas>starting_alphas[i]]\n",
    "    for a_ in cand_alphas:\n",
    "        br_lambda = np.vectorize(sp.lambdify((b), br.evalf(subs={a:a_, g:g_}), 'numpy'))\n",
    "        bs = br_lambda(betas)\n",
    "        bestBeta = betas[np.argmax(bs)]\n",
    "        if full_lambda(a_, bestBeta, g_) > a_:\n",
    "            b_res.append(a_)\n",
    "            break\n",
    "b_res = np.array(b_res)\n",
    "b_res.shape"
   ]
  },
  {
   "cell_type": "code",
   "execution_count": 73,
   "metadata": {},
   "outputs": [
    {
     "name": "stderr",
     "output_type": "stream",
     "text": [
      "99it [00:31,  3.12it/s]\n"
     ]
    },
    {
     "data": {
      "text/plain": [
       "(99,)"
      ]
     },
     "execution_count": 73,
     "metadata": {},
     "output_type": "execute_result"
    }
   ],
   "source": [
    "l_res  = []\n",
    "for i, g_ in tqdm(enumerate(gammas)):\n",
    "    cand_alphas = alphas[alphas>starting_alphas[i]]\n",
    "    for a_ in cand_alphas:\n",
    "        lin_lambda = np.vectorize(sp.lambdify((b), lin.evalf(subs={a:a_, g:g_}), 'numpy'))\n",
    "        bs = lin_lambda(betas)\n",
    "        bestBeta = betas[np.argmax(bs)]\n",
    "        if full_lambda(a_, bestBeta, g_) > a_:\n",
    "            l_res.append(a_)\n",
    "            break        \n",
    "l_res = np.array(l_res)\n",
    "l_res.shape"
   ]
  },
  {
   "cell_type": "code",
   "execution_count": 74,
   "metadata": {},
   "outputs": [
    {
     "name": "stderr",
     "output_type": "stream",
     "text": [
      "99it [00:41,  2.38it/s]\n"
     ]
    },
    {
     "ename": "NameError",
     "evalue": "name 'bl_res' is not defined",
     "output_type": "error",
     "traceback": [
      "\u001b[0;31m---------------------------------------------------------------------------\u001b[0m",
      "\u001b[0;31mNameError\u001b[0m                                 Traceback (most recent call last)",
      "\u001b[0;32m<ipython-input-74-3a1bf7f084a1>\u001b[0m in \u001b[0;36m<module>\u001b[0;34m\u001b[0m\n\u001b[1;32m      9\u001b[0m             \u001b[0mf_res\u001b[0m\u001b[0;34m.\u001b[0m\u001b[0mappend\u001b[0m\u001b[0;34m(\u001b[0m\u001b[0ma_\u001b[0m\u001b[0;34m)\u001b[0m\u001b[0;34m\u001b[0m\u001b[0;34m\u001b[0m\u001b[0m\n\u001b[1;32m     10\u001b[0m             \u001b[0;32mbreak\u001b[0m\u001b[0;34m\u001b[0m\u001b[0;34m\u001b[0m\u001b[0m\n\u001b[0;32m---> 11\u001b[0;31m \u001b[0mf_res\u001b[0m \u001b[0;34m=\u001b[0m \u001b[0mnp\u001b[0m\u001b[0;34m.\u001b[0m\u001b[0marray\u001b[0m\u001b[0;34m(\u001b[0m\u001b[0mbl_res\u001b[0m\u001b[0;34m)\u001b[0m\u001b[0;34m\u001b[0m\u001b[0;34m\u001b[0m\u001b[0m\n\u001b[0m\u001b[1;32m     12\u001b[0m \u001b[0mf_res\u001b[0m\u001b[0;34m.\u001b[0m\u001b[0mshape\u001b[0m\u001b[0;34m\u001b[0m\u001b[0;34m\u001b[0m\u001b[0m\n",
      "\u001b[0;31mNameError\u001b[0m: name 'bl_res' is not defined"
     ]
    }
   ],
   "source": [
    "f_res = []\n",
    "for i, g_ in tqdm(enumerate(gammas)):\n",
    "    cand_alphas = alphas[alphas>starting_alphas[i]]\n",
    "    for a_ in cand_alphas:\n",
    "        full_lambda_inner = np.vectorize(sp.lambdify((b), full.evalf(subs={a:a_, g:g_}), 'numpy'))\n",
    "        bs = full_lambda_inner(betas)\n",
    "        bestBeta = betas[np.argmax(bs)]\n",
    "        if full_lambda(a_, bestBeta, g_) > a_:\n",
    "            f_res.append(a_)\n",
    "            break        \n",
    "f_res = np.array(f_res)\n",
    "f_res.shape"
   ]
  },
  {
   "cell_type": "code",
   "execution_count": 75,
   "metadata": {},
   "outputs": [
    {
     "data": {
      "text/plain": [
       "(99,)"
      ]
     },
     "execution_count": 75,
     "metadata": {},
     "output_type": "execute_result"
    }
   ],
   "source": [
    "f_res = np.array(f_res)\n",
    "f_res.shape"
   ]
  },
  {
   "cell_type": "code",
   "execution_count": 77,
   "metadata": {},
   "outputs": [
    {
     "data": {
      "image/png": "[encoded data removed]",
      "text/plain": [
       "<Figure size 432x432 with 1 Axes>"
      ]
     },
     "metadata": {
      "needs_background": "light"
     },
     "output_type": "display_data"
    }
   ],
   "source": [
    "f, ax = plt.subplots(figsize=(6,6))\n",
    "\n",
    "ax.plot(gammas, b_res, label='block rewards', color='seagreen')\n",
    "ax.plot(gammas, l_res, label='linear rewards', color='deeppink')\n",
    "ax.plot(gammas, f_res, label='total rewards', color='cornflowerblue')\n",
    "# ax.plot(gammas, starting_alphas, label='total rewards', color='cornflowerblue')\n",
    "# ax.plot(gammas, starting_alphas**(1/6)-0.57, label='total rewards', color='cornflowerblue')\n",
    "\n",
    "\n",
    "ax.grid(alpha=0.3)\n",
    "ax.set_xlabel(r'$\\gamma$', size=15)\n",
    "ax.set_ylabel(r'$\\alpha$', size=15)\n",
    "ax.set_title(r'Profitability thresholds', size=17)\n",
    "\n",
    "ax.hlines(0.3, xmin=0, xmax=0.25, color='black', linestyles='dotted', alpha=0.3, \n",
    "          label=r'$\\gamma=0.25,\\alpha=0.30$')\n",
    "ax.vlines(0.25, ymin=0, ymax=0.3, color='black', linestyles='dotted', alpha=0.3)\n",
    "ax.hlines(0.25, xmin=0, xmax=0.5, color='black', linestyles='--', alpha=0.3, \n",
    "          label=r'$\\gamma=0.50,\\alpha=0.25$')\n",
    "ax.vlines(0.5, ymin=0, ymax=0.25, color='black', linestyles='--', alpha=0.3)\n",
    "\n",
    "# ax.set_xlim(0,1)\n",
    "# ax.set_ylim(0,1/3)\n",
    "\n",
    "ax.legend()\n",
    "plt.savefig('out.png', dpi=150, bbox_inches='tight', facecolor='white')\n",
    "plt.show()"
   ]
  },
  {
   "cell_type": "code",
   "execution_count": 632,
   "metadata": {},
   "outputs": [
    {
     "data": {
      "text/plain": [
       "[<matplotlib.lines.Line2D at 0x1572e3b80>]"
      ]
     },
     "execution_count": 632,
     "metadata": {},
     "output_type": "execute_result"
    },
    {
     "data": {
      "image/png": "[encoded data removed]",
      "text/plain": [
       "<Figure size 432x288 with 1 Axes>"
      ]
     },
     "metadata": {
      "needs_background": "light"
     },
     "output_type": "display_data"
    }
   ],
   "source": [
    "plt.plot(b_res)"
   ]
  },
  {
   "cell_type": "markdown",
   "metadata": {},
   "source": [
    "# profit as function of alpha"
   ]
  },
  {
   "cell_type": "code",
   "execution_count": 412,
   "metadata": {},
   "outputs": [],
   "source": [
    "p0, p0p, p1, p0pp = sp.symbols('p_0 p_{00} p_1 p_{000}')\n",
    "a, b, x, g, p, C, E  = sp.symbols('a b x g p C E')"
   ]
  },
  {
   "cell_type": "code",
   "execution_count": 413,
   "metadata": {},
   "outputs": [],
   "source": [
    "# p_i is the stationary distribution for State i\n",
    "p0    = p1 / (a*(1-p)*(1-sp.exp(-b+C)) + a*p*(1-sp.Min(sp.exp(-b+C+E),1)))\n",
    "p0p   = p1 * (1-a)\n",
    "p0pp  = p1 * a\n",
    "p2    = p1*(a/(1-a))\n",
    "prest = p1*a/(1-2*a)"
   ]
  },
  {
   "cell_type": "code",
   "execution_count": 414,
   "metadata": {},
   "outputs": [],
   "source": [
    "eq = sp.Eq(p0+p0p+p0pp+prest+p1, 1)\n",
    "p1_sym = sp.solve(eq, p1)[0]"
   ]
  },
  {
   "cell_type": "code",
   "execution_count": 415,
   "metadata": {},
   "outputs": [
    {
     "data": {
      "text/latex": [
       "$\\displaystyle \\frac{1}{1 + \\frac{1}{a p \\left(1 - \\min\\left(1, e^{C + E - b}\\right)\\right) + a \\left(1 - p\\right) \\left(1 - e^{C - b}\\right)} + \\frac{1 - a}{1 - 2 a}}$"
      ],
      "text/plain": [
       "1/(1 + 1/(a*p*(1 - Min(1, exp(C + E - b))) + a*(1 - p)*(1 - exp(C - b))) + (1 - a)/(1 - 2*a))"
      ]
     },
     "execution_count": 415,
     "metadata": {},
     "output_type": "execute_result"
    }
   ],
   "source": [
    "p1_me = (1/(a*(1-p)*(1-sp.exp(-b+C)) + a*p*(1-sp.Min(sp.exp(-b+C+E),1))) + 1 + (1-a)/(1-2*a))**(-1)\n",
    "p1_me"
   ]
  },
  {
   "cell_type": "code",
   "execution_count": 416,
   "metadata": {},
   "outputs": [
    {
     "data": {
      "text/plain": [
       "(0.138811963706275, 0.138811963706275)"
      ]
     },
     "execution_count": 416,
     "metadata": {},
     "output_type": "execute_result"
    }
   ],
   "source": [
    "# confirming the symbolic solver and my by hand solver have same values\n",
    "p1_sym.evalf(subs={a:0.3, b:3, p:0.5, C:1, E:1}), p1_me.evalf(subs={a:0.3, b:3, p:0.5, C:1, E:1})"
   ]
  },
  {
   "cell_type": "code",
   "execution_count": 417,
   "metadata": {},
   "outputs": [
    {
     "data": {
      "text/latex": [
       "$\\displaystyle C \\left(1 - a\\right) \\left(a + g \\left(1 - a\\right)\\right) \\left(a p \\left(1 - \\min\\left(1, e^{C + E - b}\\right)\\right) + a \\left(1 - p\\right) \\left(1 - e^{C - b}\\right)\\right)$"
      ],
      "text/plain": [
       "C*(1 - a)*(a + g*(1 - a))*(a*p*(1 - Min(1, exp(C + E - b))) + a*(1 - p)*(1 - exp(C - b)))"
      ]
     },
     "execution_count": 417,
     "metadata": {},
     "output_type": "execute_result"
    }
   ],
   "source": [
    "# 3 cases for f0\n",
    "f0i_fixed   = C * (a*p*sp.Min(1,sp.exp(-b+C+E)) + a*(1-p)*sp.exp(-b+C))\n",
    "f0ii_fixed  = a*C * (a*p*(1-sp.Min(1,sp.exp(-b+C+E))) + a*(1-p)*(1-sp.exp(-b+C)))\n",
    "f0iii_fixed = (1-a)*(a+g*(1-a))*C * (a*p*(1-sp.Min(1,sp.exp(-b+C+E))) + a*(1-p)*(1-sp.exp(-b+C)))\n",
    "f0iii_fixed"
   ]
  },
  {
   "cell_type": "code",
   "execution_count": 418,
   "metadata": {},
   "outputs": [
    {
     "data": {
      "text/latex": [
       "$\\displaystyle C a \\left(a p \\left(1 - \\min\\left(1, e^{C + E - b}\\right)\\right) + a \\left(1 - p\\right) \\left(1 - e^{C - b}\\right)\\right) + C \\left(1 - a\\right) \\left(a + g \\left(1 - a\\right)\\right) \\left(a p \\left(1 - \\min\\left(1, e^{C + E - b}\\right)\\right) + a \\left(1 - p\\right) \\left(1 - e^{C - b}\\right)\\right) + C \\left(a p \\min\\left(1, e^{C + E - b}\\right) + a \\left(1 - p\\right) e^{C - b}\\right)$"
      ],
      "text/plain": [
       "C*a*(a*p*(1 - Min(1, exp(C + E - b))) + a*(1 - p)*(1 - exp(C - b))) + C*(1 - a)*(a + g*(1 - a))*(a*p*(1 - Min(1, exp(C + E - b))) + a*(1 - p)*(1 - exp(C - b))) + C*(a*p*Min(1, exp(C + E - b)) + a*(1 - p)*exp(C - b))"
      ]
     },
     "execution_count": 418,
     "metadata": {},
     "output_type": "execute_result"
    }
   ],
   "source": [
    "# explicit for f0 and f1\n",
    "f0_fixed   = f0i_fixed + f0ii_fixed + f0iii_fixed\n",
    "f1_fixed   = C*(a+(1-a)*a)\n",
    "f0_fixed"
   ]
  },
  {
   "cell_type": "code",
   "execution_count": 419,
   "metadata": {},
   "outputs": [
    {
     "data": {
      "text/latex": [
       "$\\displaystyle \\frac{C p_{1} \\cdot \\left(2 a^{2} \\left(a - 1\\right) \\left(p \\left(\\min\\left(1, e^{C + E - b}\\right) - 1\\right) + \\left(1 - e^{C - b}\\right) \\left(p - 1\\right)\\right) - a \\left(a - 2\\right) \\left(2 a - 1\\right) \\left(p \\left(\\min\\left(1, e^{C + E - b}\\right) - 1\\right) + \\left(1 - e^{C - b}\\right) \\left(p - 1\\right)\\right) - \\left(2 a - 1\\right) \\left(- a \\left(p \\left(\\min\\left(1, e^{C + E - b}\\right) - 1\\right) + \\left(1 - e^{C - b}\\right) \\left(p - 1\\right)\\right) + p \\min\\left(1, e^{C + E - b}\\right) + \\left(a - 1\\right) \\left(a - g \\left(a - 1\\right)\\right) \\left(p \\left(\\min\\left(1, e^{C + E - b}\\right) - 1\\right) + \\left(1 - e^{C - b}\\right) \\left(p - 1\\right)\\right) - \\left(p - 1\\right) e^{C - b}\\right)\\right)}{\\left(2 a - 1\\right) \\left(p \\left(\\min\\left(1, e^{C + E - b}\\right) - 1\\right) + \\left(1 - e^{C - b}\\right) \\left(p - 1\\right)\\right)}$"
      ],
      "text/plain": [
       "C*p_1*(2*a**2*(a - 1)*(p*(Min(1, exp(C + E - b)) - 1) + (1 - exp(C - b))*(p - 1)) - a*(a - 2)*(2*a - 1)*(p*(Min(1, exp(C + E - b)) - 1) + (1 - exp(C - b))*(p - 1)) - (2*a - 1)*(-a*(p*(Min(1, exp(C + E - b)) - 1) + (1 - exp(C - b))*(p - 1)) + p*Min(1, exp(C + E - b)) + (a - 1)*(a - g*(a - 1))*(p*(Min(1, exp(C + E - b)) - 1) + (1 - exp(C - b))*(p - 1)) - (p - 1)*exp(C - b)))/((2*a - 1)*(p*(Min(1, exp(C + E - b)) - 1) + (1 - exp(C - b))*(p - 1)))"
      ]
     },
     "execution_count": 419,
     "metadata": {},
     "output_type": "execute_result"
    }
   ],
   "source": [
    "attack_full_fixed  = p0*f0_fixed + p1*f1_fixed + C*p1*a*(2*a*(1-a)/(1-2*a))\n",
    "sp.simplify(attack_full_fixed)"
   ]
  },
  {
   "cell_type": "code",
   "execution_count": 420,
   "metadata": {},
   "outputs": [
    {
     "data": {
      "text/latex": [
       "$\\displaystyle E a p \\left(1 - a\\right) \\left(1 - \\min\\left(1, e^{C + E - b}\\right)\\right) \\left(a + g \\left(1 - a\\right)\\right)$"
      ],
      "text/plain": [
       "E*a*p*(1 - a)*(1 - Min(1, exp(C + E - b)))*(a + g*(1 - a))"
      ]
     },
     "execution_count": 420,
     "metadata": {},
     "output_type": "execute_result"
    }
   ],
   "source": [
    "f0i_bern   = E * (a*p*sp.Min(1,sp.exp(-b+C+E)))\n",
    "f0ii_bern  = a*E * (a*p*(1-sp.Min(1,sp.exp(-b+C+E))))\n",
    "f0iii_bern = (1-a)*(a+g*(1-a))*E * (a*p*(1-sp.Min(1,sp.exp(-b+C+E))))\n",
    "f0iii_bern"
   ]
  },
  {
   "cell_type": "code",
   "execution_count": 421,
   "metadata": {},
   "outputs": [],
   "source": [
    "f0_bern   = f0i_bern + f0ii_bern + f0iii_bern\n",
    "f1_bern   = p*E*(a+(1-a)*a)"
   ]
  },
  {
   "cell_type": "code",
   "execution_count": 422,
   "metadata": {},
   "outputs": [
    {
     "data": {
      "text/latex": [
       "$\\displaystyle \\frac{E p p_{1} \\cdot \\left(2 a^{2} \\left(a - 1\\right) \\left(p \\left(\\min\\left(1, e^{C + E - b}\\right) - 1\\right) + \\left(1 - e^{C - b}\\right) \\left(p - 1\\right)\\right) - a \\left(a - 2\\right) \\left(2 a - 1\\right) \\left(p \\left(\\min\\left(1, e^{C + E - b}\\right) - 1\\right) + \\left(1 - e^{C - b}\\right) \\left(p - 1\\right)\\right) - \\left(2 a - 1\\right) \\left(- a \\left(\\min\\left(1, e^{C + E - b}\\right) - 1\\right) + \\left(a - 1\\right) \\left(a - g \\left(a - 1\\right)\\right) \\left(\\min\\left(1, e^{C + E - b}\\right) - 1\\right) + \\min\\left(1, e^{C + E - b}\\right)\\right)\\right)}{\\left(2 a - 1\\right) \\left(p \\left(\\min\\left(1, e^{C + E - b}\\right) - 1\\right) + \\left(1 - e^{C - b}\\right) \\left(p - 1\\right)\\right)}$"
      ],
      "text/plain": [
       "E*p*p_1*(2*a**2*(a - 1)*(p*(Min(1, exp(C + E - b)) - 1) + (1 - exp(C - b))*(p - 1)) - a*(a - 2)*(2*a - 1)*(p*(Min(1, exp(C + E - b)) - 1) + (1 - exp(C - b))*(p - 1)) - (2*a - 1)*(-a*(Min(1, exp(C + E - b)) - 1) + (a - 1)*(a - g*(a - 1))*(Min(1, exp(C + E - b)) - 1) + Min(1, exp(C + E - b))))/((2*a - 1)*(p*(Min(1, exp(C + E - b)) - 1) + (1 - exp(C - b))*(p - 1)))"
      ]
     },
     "execution_count": 422,
     "metadata": {},
     "output_type": "execute_result"
    }
   ],
   "source": [
    "attack_full_bern  = p0*f0_bern + p1*f1_bern + p*E*p1*a*(2*a*(1-a)/(1-2*a))\n",
    "sp.simplify(attack_full_bern)"
   ]
  },
  {
   "cell_type": "code",
   "execution_count": 423,
   "metadata": {},
   "outputs": [
    {
     "data": {
      "text/latex": [
       "$\\displaystyle \\left(1 - a\\right) \\left(a + g \\left(1 - a\\right)\\right) \\left(a p \\left(- \\left(\\max\\left(0, - C - E + b\\right) + 1\\right) \\min\\left(1, e^{C + E - b}\\right) + 1\\right) + a \\left(1 - p\\right) \\left(- \\left(- C + b + 1\\right) e^{C - b} + 1\\right)\\right)$"
      ],
      "text/plain": [
       "(1 - a)*(a + g*(1 - a))*(a*p*(-(Max(0, -C - E + b) + 1)*Min(1, exp(C + E - b)) + 1) + a*(1 - p)*(-(-C + b + 1)*exp(C - b) + 1))"
      ]
     },
     "execution_count": 423,
     "metadata": {},
     "output_type": "execute_result"
    }
   ],
   "source": [
    "f0i_lin   = a*p*(sp.Max(0,b-C-E)+1)*sp.Min(1,sp.exp(-b+C+E)) + a*(1-p)*(b-C+1)*sp.exp(-b+C)\n",
    "f0ii_lin  = a* (a*p*(1-(sp.Max(0,b-C-E)+1)*sp.Min(1,sp.exp(-b+C+E))) + a*(1-p)*(1-(b-C+1)*sp.exp(-b+C))) \n",
    "f0iii_lin = ((1-a)*(a+g*(1-a)))* (a*p*(1-(sp.Max(0,b-C-E)+1)*sp.Min(1,sp.exp(-b+C+E))) + a*(1-p)*(1-(b-C+1)*sp.exp(-b+C)))\n",
    "f0iii_lin"
   ]
  },
  {
   "cell_type": "code",
   "execution_count": 424,
   "metadata": {},
   "outputs": [],
   "source": [
    "f0_lin = f0i_lin + f0ii_lin + f0iii_lin\n",
    "f1_lin = a + 2*a*(1-a)"
   ]
  },
  {
   "cell_type": "code",
   "execution_count": 425,
   "metadata": {},
   "outputs": [
    {
     "data": {
      "text/latex": [
       "$\\displaystyle \\frac{p_{1} \\left(a^{2} \\cdot \\left(2 a - 3\\right) \\left(p \\left(\\min\\left(1, e^{C + E - b}\\right) - 1\\right) + \\left(1 - e^{C - b}\\right) \\left(p - 1\\right)\\right) - a \\left(2 a - 3\\right) \\left(2 a - 1\\right) \\left(p \\left(\\min\\left(1, e^{C + E - b}\\right) - 1\\right) + \\left(1 - e^{C - b}\\right) \\left(p - 1\\right)\\right) - \\left(2 a - 1\\right) \\left(- a \\left(p \\left(\\left(\\max\\left(0, - C - E + b\\right) + 1\\right) \\min\\left(1, e^{C + E - b}\\right) - 1\\right) - \\left(p - 1\\right) \\left(\\left(- C + b + 1\\right) e^{C - b} - 1\\right)\\right) + p \\left(\\max\\left(0, - C - E + b\\right) + 1\\right) \\min\\left(1, e^{C + E - b}\\right) + \\left(a - 1\\right) \\left(a - g \\left(a - 1\\right)\\right) \\left(p \\left(\\left(\\max\\left(0, - C - E + b\\right) + 1\\right) \\min\\left(1, e^{C + E - b}\\right) - 1\\right) - \\left(p - 1\\right) \\left(\\left(- C + b + 1\\right) e^{C - b} - 1\\right)\\right) - \\left(p - 1\\right) \\left(- C + b + 1\\right) e^{C - b}\\right)\\right)}{\\left(2 a - 1\\right) \\left(p \\left(\\min\\left(1, e^{C + E - b}\\right) - 1\\right) + \\left(1 - e^{C - b}\\right) \\left(p - 1\\right)\\right)}$"
      ],
      "text/plain": [
       "p_1*(a**2*(2*a - 3)*(p*(Min(1, exp(C + E - b)) - 1) + (1 - exp(C - b))*(p - 1)) - a*(2*a - 3)*(2*a - 1)*(p*(Min(1, exp(C + E - b)) - 1) + (1 - exp(C - b))*(p - 1)) - (2*a - 1)*(-a*(p*((Max(0, -C - E + b) + 1)*Min(1, exp(C + E - b)) - 1) - (p - 1)*((-C + b + 1)*exp(C - b) - 1)) + p*(Max(0, -C - E + b) + 1)*Min(1, exp(C + E - b)) + (a - 1)*(a - g*(a - 1))*(p*((Max(0, -C - E + b) + 1)*Min(1, exp(C + E - b)) - 1) - (p - 1)*((-C + b + 1)*exp(C - b) - 1)) - (p - 1)*(-C + b + 1)*exp(C - b)))/((2*a - 1)*(p*(Min(1, exp(C + E - b)) - 1) + (1 - exp(C - b))*(p - 1)))"
      ]
     },
     "execution_count": 425,
     "metadata": {},
     "output_type": "execute_result"
    }
   ],
   "source": [
    "attack_full_lin = p0*f0_lin + p1*f1_lin + p1*a*a*(3-2*a)/(1-2*a)\n",
    "sp.simplify(attack_full_lin)"
   ]
  },
  {
   "cell_type": "code",
   "execution_count": 142,
   "metadata": {},
   "outputs": [],
   "source": [
    "# params: a, b, g, p, C, E"
   ]
  },
  {
   "cell_type": "code",
   "execution_count": 426,
   "metadata": {},
   "outputs": [
    {
     "data": {
      "text/plain": [
       "(0.670148302278976, 0.675420045583400)"
      ]
     },
     "execution_count": 426,
     "metadata": {},
     "output_type": "execute_result"
    }
   ],
   "source": [
    "full      = (attack_full_fixed + attack_full_bern + attack_full_lin).subs({p1:p1_sym})\n",
    "linAndFix = (attack_full_fixed + attack_full_lin).subs({p1:p1_sym})\n",
    "full.subs({a:0.3, b:3.3, g:0.5, p:0.25, C:1., E:1.}),full.subs({a:0.3, b:1.01, g:0.5, p:0.25, C:1., E:1.})"
   ]
  },
  {
   "cell_type": "code",
   "execution_count": 427,
   "metadata": {},
   "outputs": [
    {
     "data": {
      "text/latex": [
       "$\\displaystyle 0.299999999999998$"
      ],
      "text/plain": [
       "0.299999999999998"
      ]
     },
     "execution_count": 427,
     "metadata": {},
     "output_type": "execute_result"
    }
   ],
   "source": [
    "attack_full_bern.subs({p1:p1_sym}).subs({a:0.3, b:1.01, p:0.25, C:1., E:4.})"
   ]
  },
  {
   "cell_type": "code",
   "execution_count": 428,
   "metadata": {},
   "outputs": [
    {
     "data": {
      "text/latex": [
       "$\\displaystyle 2.3646257466072 p_{1}$"
      ],
      "text/plain": [
       "2.3646257466072*p_1"
      ]
     },
     "execution_count": 428,
     "metadata": {},
     "output_type": "execute_result"
    }
   ],
   "source": [
    "attack_full_bern.subs({a:0.3, b:3.01, p:0.25, C:1., E:4.})"
   ]
  },
  {
   "cell_type": "code",
   "execution_count": 429,
   "metadata": {},
   "outputs": [],
   "source": [
    "alphas = np.arange(0.01, 0.50, 0.01)\n",
    "betas  = np.arange(1.001, 10, 0.01)\n",
    "gammas = [0.0, 0.5, 1.0]\n",
    "p_     = 0.25\n",
    "E_     = 4\n",
    "C_     = 1.\n",
    "g_     = 0.33"
   ]
  },
  {
   "cell_type": "code",
   "execution_count": 430,
   "metadata": {},
   "outputs": [
    {
     "name": "stderr",
     "output_type": "stream",
     "text": [
      "49it [00:11,  4.40it/s]\n"
     ]
    },
    {
     "data": {
      "text/plain": [
       "((49,), (49,), (49,))"
      ]
     },
     "execution_count": 430,
     "metadata": {},
     "output_type": "execute_result"
    }
   ],
   "source": [
    "selfish_rews = []\n",
    "total_rews   = []\n",
    "lin_fix_rews = []\n",
    "for i, a_ in tqdm(enumerate(alphas)):\n",
    "    selfish = full.subs({a:a_, b:100., g:g_, p:p_, C:C_, E:E_})\n",
    "    selfish_rews.append(selfish)\n",
    "    \n",
    "    opt_over = np.vectorize(sp.lambdify(b, full.subs({a:a_, g:g_, p:p_, C:C_, E:E_})))\n",
    "    totals   = opt_over(betas)\n",
    "    opt_beta = betas[np.argmax(totals)]\n",
    "    total    = full.subs({a:a_, b:opt_beta, g:g_, p:p_, C:C_, E:E_})\n",
    "    total_rews.append(total)\n",
    "    \n",
    "    opt_over   = np.vectorize(sp.lambdify(b, linAndFix.subs({a:a_, g:g_, p:p_, C:C_, E:E_})))\n",
    "    linAndFixs = opt_over(betas)\n",
    "    opt_beta   = betas[np.argmax(linAndFixs)]\n",
    "    linfix     = full.subs({a:a_, b:opt_beta, g:g_, p:p_, C:C_, E:E_})\n",
    "    lin_fix_rews.append(linfix)\n",
    "    \n",
    "\n",
    "selfish_rews = np.array(selfish_rews)\n",
    "total_rews = np.array(total_rews)\n",
    "lin_fix_rews = np.array(lin_fix_rews)\n",
    "selfish_rews.shape, total_rews.shape, lin_fix_rews.shape"
   ]
  },
  {
   "cell_type": "code",
   "execution_count": 431,
   "metadata": {},
   "outputs": [
    {
     "data": {
      "text/plain": [
       "(49,)"
      ]
     },
     "execution_count": 431,
     "metadata": {},
     "output_type": "execute_result"
    }
   ],
   "source": [
    "total_rews.shape"
   ]
  },
  {
   "cell_type": "code",
   "execution_count": 439,
   "metadata": {},
   "outputs": [
    {
     "data": {
      "image/png": "[encoded data removed]",
      "text/plain": [
       "<Figure size 576x432 with 1 Axes>"
      ]
     },
     "metadata": {
      "needs_background": "light"
     },
     "output_type": "display_data"
    }
   ],
   "source": [
    "f, ax = plt.subplots(figsize=(8,6))\n",
    "\n",
    "axins = ax.inset_axes(\n",
    "    [1.1, 0.15, 0.7, 0.7],\n",
    "    xlim=(.35, .425), ylim=(1/3, 1.375/3))\n",
    "\n",
    "ax.indicate_inset_zoom(axins, edgecolor=\"black\", label=None, alpha=0.25)\n",
    "\n",
    "\n",
    "for ax_ in [ax, axins]:\n",
    "    ax_.plot(alphas, alphas, label='Honest', color='black')\n",
    "    ax_.plot(alphas, selfish_rews/3, label='Selfish', color='maroon')\n",
    "    ax_.plot(alphas, lin_fix_rews/3, label=r'$\\beta-$cutoff (linear and fixed)', color='dodgerblue',\n",
    "         linestyle='--')\n",
    "    ax_.plot(alphas, total_rews/3, label=r'$\\beta-$cutoff (total)', color='peru')\n",
    "    ax_.grid(alpha=0.3)\n",
    "\n",
    "ax.set_xlabel(r'$\\alpha$', size=15)\n",
    "ax.set_ylabel(r'Total rewards', size=15)\n",
    "ax.set_xlim(0,0.5)\n",
    "ax.set_ylim(0,0.6)\n",
    "ax.legend()\n",
    "\n",
    "plt.savefig('out.png', dpi=150, bbox_inches='tight', facecolor='white')\n",
    "plt.show()"
   ]
  },
  {
   "cell_type": "markdown",
   "metadata": {},
   "source": [
    "# total as a function of gamma w/ sims"
   ]
  },
  {
   "cell_type": "code",
   "execution_count": 399,
   "metadata": {},
   "outputs": [],
   "source": [
    "alphas = np.arange(0.01, 0.50, 0.01)\n",
    "betas  = np.arange(1.001, 10, 0.01)\n",
    "gammas = [0.0, 1/3, 2/3, 1]\n",
    "p_     = 0.25\n",
    "E_     = 4.\n",
    "C_     = 1."
   ]
  },
  {
   "cell_type": "code",
   "execution_count": 400,
   "metadata": {},
   "outputs": [
    {
     "name": "stderr",
     "output_type": "stream",
     "text": [
      "49it [00:07,  6.79it/s]\n",
      "49it [00:07,  6.83it/s]\n",
      "49it [00:07,  6.86it/s]\n",
      "49it [00:04, 10.77it/s]\n"
     ]
    },
    {
     "data": {
      "text/plain": [
       "(4, 49)"
      ]
     },
     "execution_count": 400,
     "metadata": {},
     "output_type": "execute_result"
    }
   ],
   "source": [
    "total_rews   = []\n",
    "for g_ in gammas:\n",
    "    temp = []\n",
    "    for i, a_ in tqdm(enumerate(alphas)):\n",
    "        opt_over = np.vectorize(sp.lambdify(b, full.subs({a:a_, g:g_, p:p_, C:C_, E:E_})))\n",
    "        totals   = opt_over(betas)\n",
    "        opt_beta = betas[np.argmax(totals)]\n",
    "        total    = full.subs({a:a_, b:opt_beta, g:g_, p:p_, C:C_, E:E_})\n",
    "        temp.append(total)\n",
    "    total_rews.append(temp)\n",
    "total_rews = np.array(total_rews)\n",
    "total_rews.shape"
   ]
  },
  {
   "cell_type": "code",
   "execution_count": 393,
   "metadata": {},
   "outputs": [
    {
     "data": {
      "text/plain": [
       "array([0.32, 0.34, 0.36, 0.38, 0.4 , 0.42, 0.44, 0.46, 0.48])"
      ]
     },
     "execution_count": 393,
     "metadata": {},
     "output_type": "execute_result"
    }
   ],
   "source": [
    "simAlphas = np.arange(0.32, 0.481, 0.02)\n",
    "simAlphas"
   ]
  },
  {
   "cell_type": "code",
   "execution_count": 394,
   "metadata": {},
   "outputs": [
    {
     "name": "stderr",
     "output_type": "stream",
     "text": [
      "100%|██████████| 9/9 [00:03<00:00,  2.80it/s]\n",
      "100%|██████████| 9/9 [00:03<00:00,  2.79it/s]\n",
      "100%|██████████| 9/9 [00:03<00:00,  2.73it/s]\n",
      "100%|██████████| 9/9 [00:03<00:00,  2.91it/s]\n"
     ]
    },
    {
     "data": {
      "text/plain": [
       "(4, 9)"
      ]
     },
     "execution_count": 394,
     "metadata": {},
     "output_type": "execute_result"
    }
   ],
   "source": [
    "sim_res = []\n",
    "n = int(4e4)\n",
    "for g_ in gammas:\n",
    "    temp = []\n",
    "    for a_ in tqdm(simAlphas):\n",
    "        opt_over = np.vectorize(sp.lambdify(b, full.subs({a:a_, g:g_, p:p_, C:C_, E:E_})))\n",
    "        totals   = opt_over(betas)\n",
    "        opt_beta = betas[np.argmax(totals)]\n",
    "        honestBlc, attackBlc, honestBer, attackBer, honestLin, attackLin, time = simAllRews(\n",
    "            a=a_, b=opt_beta, g=g_, p=p_, C=C_, E=E_, n=n)\n",
    "#         temp.append(attackBlc/time + attackLin/time + attackBer*E/(time*p_*E_))\n",
    "        temp.append((attackBlc + attackBer + attackLin)/time)\n",
    "            \n",
    "    sim_res.append(temp)\n",
    "sim_res = np.array(sim_res)\n",
    "sim_res.shape"
   ]
  },
  {
   "cell_type": "code",
   "execution_count": 410,
   "metadata": {},
   "outputs": [
    {
     "data": {
      "image/png": "[encoded data removed]",
      "text/plain": [
       "<Figure size 576x432 with 1 Axes>"
      ]
     },
     "metadata": {
      "needs_background": "light"
     },
     "output_type": "display_data"
    }
   ],
   "source": [
    "f, ax = plt.subplots(figsize=(8,6))\n",
    "\n",
    "axins = ax.inset_axes(\n",
    "    [1.1, 0.15, 0.7, 0.7],\n",
    "    xlim=(.3, .45), ylim=(0.9, 1.5))\n",
    "\n",
    "ax.indicate_inset_zoom(axins, edgecolor=\"black\", label=None, alpha=0.25)\n",
    "\n",
    "\n",
    "\n",
    "for ax_ in [ax, axins]:\n",
    "    ax_.plot(alphas, 3*alphas, label='Honest', color='black')\n",
    "    ax_.plot(alphas, total_rews[0,:], label=r'$\\gamma=0$', color='peru', linewidth=1)\n",
    "    ax_.plot(alphas, total_rews[1,:], label=r'$\\gamma=1/3$', color='darkcyan', linewidth=1)\n",
    "    ax_.plot(alphas, total_rews[2,:], label=r'$\\gamma=2/3$', color='firebrick', linewidth=1)\n",
    "    ax_.plot(alphas, total_rews[3,:], label=r'$\\gamma=2/3$', color='rebeccapurple', linewidth=1)\n",
    "    ax_.grid(alpha=0.3)\n",
    "\n",
    "\n",
    "ax.set_xlabel(r'$\\alpha$', size=15)\n",
    "ax.set_ylabel(r'Total rewards', size=15)\n",
    "ax.set_xlim(0.01,0.49)\n",
    "ax.legend()\n",
    "\n",
    "plt.savefig('out.png', dpi=150, bbox_inches='tight', facecolor='white')\n",
    "plt.show()"
   ]
  },
  {
   "cell_type": "code",
   "execution_count": null,
   "metadata": {},
   "outputs": [],
   "source": []
  },
  {
   "cell_type": "code",
   "execution_count": null,
   "metadata": {},
   "outputs": [],
   "source": []
  },
  {
   "cell_type": "code",
   "execution_count": null,
   "metadata": {},
   "outputs": [],
   "source": []
  },
  {
   "cell_type": "code",
   "execution_count": null,
   "metadata": {},
   "outputs": [],
   "source": []
  },
  {
   "cell_type": "code",
   "execution_count": null,
   "metadata": {},
   "outputs": [],
   "source": []
  },
  {
   "cell_type": "markdown",
   "metadata": {},
   "source": [
    "# simplifications "
   ]
  },
  {
   "cell_type": "code",
   "execution_count": 45,
   "metadata": {},
   "outputs": [],
   "source": [
    "p0, p0p, p1, p0pp = sp.symbols('p_0 p_{00} p_1 p_{000}')\n",
    "a, b, x, g, p, C, E  = sp.symbols('a b x g p C E')"
   ]
  },
  {
   "cell_type": "code",
   "execution_count": 46,
   "metadata": {},
   "outputs": [],
   "source": [
    "# p_i is the stationary distribution for State i\n",
    "p0    = p1 / (a*(1-p)*(1-sp.exp(-b+C)) + a*p*(1-sp.Min(sp.exp(-b+C+E),1)))\n",
    "p0p   = p1 * (1-a)\n",
    "p0pp  = p1 * a\n",
    "p2    = p1*(a/(1-a))\n",
    "prest = p1*a/(1-2*a)"
   ]
  },
  {
   "cell_type": "code",
   "execution_count": 47,
   "metadata": {},
   "outputs": [],
   "source": [
    "eq = sp.Eq(p0+p0p+p0pp+prest+p1, 1)\n",
    "p1_sym = sp.solve(eq, p1)[0]"
   ]
  },
  {
   "cell_type": "code",
   "execution_count": 48,
   "metadata": {},
   "outputs": [
    {
     "data": {
      "text/latex": [
       "$\\displaystyle \\frac{1}{1 + \\frac{1}{a p \\left(1 - \\min\\left(1, e^{C + E - b}\\right)\\right) + a \\left(1 - p\\right) \\left(1 - e^{C - b}\\right)} + \\frac{1 - a}{1 - 2 a}}$"
      ],
      "text/plain": [
       "1/(1 + 1/(a*p*(1 - Min(1, exp(C + E - b))) + a*(1 - p)*(1 - exp(C - b))) + (1 - a)/(1 - 2*a))"
      ]
     },
     "execution_count": 48,
     "metadata": {},
     "output_type": "execute_result"
    }
   ],
   "source": [
    "p1_me = (1/(a*(1-p)*(1-sp.exp(-b+C)) + a*p*(1-sp.Min(sp.exp(-b+C+E),1))) + 1 + (1-a)/(1-2*a))**(-1)\n",
    "p1_me"
   ]
  },
  {
   "cell_type": "code",
   "execution_count": 49,
   "metadata": {},
   "outputs": [
    {
     "data": {
      "text/plain": [
       "(0.138811963706275, 0.138811963706275)"
      ]
     },
     "execution_count": 49,
     "metadata": {},
     "output_type": "execute_result"
    }
   ],
   "source": [
    "# confirming the symbolic solver and my by hand solver have same values\n",
    "p1_sym.evalf(subs={a:0.3, b:3, p:0.5, C:1, E:1}), p1_me.evalf(subs={a:0.3, b:3, p:0.5, C:1, E:1})"
   ]
  },
  {
   "cell_type": "code",
   "execution_count": 55,
   "metadata": {},
   "outputs": [
    {
     "data": {
      "text/latex": [
       "$\\displaystyle C \\left(1 - a\\right) \\left(a + g \\left(1 - a\\right)\\right) \\left(a p \\left(1 - \\min\\left(1, e^{C + E - b}\\right)\\right) + a \\left(1 - p\\right) \\left(1 - e^{C - b}\\right)\\right)$"
      ],
      "text/plain": [
       "C*(1 - a)*(a + g*(1 - a))*(a*p*(1 - Min(1, exp(C + E - b))) + a*(1 - p)*(1 - exp(C - b)))"
      ]
     },
     "execution_count": 55,
     "metadata": {},
     "output_type": "execute_result"
    }
   ],
   "source": [
    "# 3 cases for f0\n",
    "f0i_fixed   = C * (a*p*sp.Min(1,sp.exp(-b+C+E)) + a*(1-p)*sp.exp(-b+C))\n",
    "f0ii_fixed  = a*C * (a*p*(1-sp.Min(1,sp.exp(-b+C+E))) + a*(1-p)*(1-sp.exp(-b+C)))\n",
    "f0iii_fixed = (1-a)*(a+g*(1-a))*C * (a*p*(1-sp.Min(1,sp.exp(-b+C+E))) + a*(1-p)*(1-sp.exp(-b+C)))\n",
    "f0iii_fixed"
   ]
  },
  {
   "cell_type": "code",
   "execution_count": 56,
   "metadata": {},
   "outputs": [
    {
     "data": {
      "text/latex": [
       "$\\displaystyle C a \\left(a p \\left(1 - \\min\\left(1, e^{C + E - b}\\right)\\right) + a \\left(1 - p\\right) \\left(1 - e^{C - b}\\right)\\right) + C \\left(1 - a\\right) \\left(a + g \\left(1 - a\\right)\\right) \\left(a p \\left(1 - \\min\\left(1, e^{C + E - b}\\right)\\right) + a \\left(1 - p\\right) \\left(1 - e^{C - b}\\right)\\right) + C \\left(a p \\min\\left(1, e^{C + E - b}\\right) + a \\left(1 - p\\right) e^{C - b}\\right)$"
      ],
      "text/plain": [
       "C*a*(a*p*(1 - Min(1, exp(C + E - b))) + a*(1 - p)*(1 - exp(C - b))) + C*(1 - a)*(a + g*(1 - a))*(a*p*(1 - Min(1, exp(C + E - b))) + a*(1 - p)*(1 - exp(C - b))) + C*(a*p*Min(1, exp(C + E - b)) + a*(1 - p)*exp(C - b))"
      ]
     },
     "execution_count": 56,
     "metadata": {},
     "output_type": "execute_result"
    }
   ],
   "source": [
    "# explicit for f0 and f1\n",
    "f0_fixed   = f0i_fixed + f0ii_fixed + f0iii_fixed\n",
    "f1_fixed   = C*(a+(1-a)*a)\n",
    "f0_fixed"
   ]
  },
  {
   "cell_type": "code",
   "execution_count": 57,
   "metadata": {},
   "outputs": [
    {
     "data": {
      "text/latex": [
       "$\\displaystyle \\frac{C p_{1} \\cdot \\left(2 a^{2} \\left(a - 1\\right) \\left(p \\left(\\min\\left(1, e^{C + E - b}\\right) - 1\\right) + \\left(1 - e^{C - b}\\right) \\left(p - 1\\right)\\right) - a \\left(a - 2\\right) \\left(2 a - 1\\right) \\left(p \\left(\\min\\left(1, e^{C + E - b}\\right) - 1\\right) + \\left(1 - e^{C - b}\\right) \\left(p - 1\\right)\\right) - \\left(2 a - 1\\right) \\left(- a \\left(p \\left(\\min\\left(1, e^{C + E - b}\\right) - 1\\right) + \\left(1 - e^{C - b}\\right) \\left(p - 1\\right)\\right) + p \\min\\left(1, e^{C + E - b}\\right) + \\left(a - 1\\right) \\left(a - g \\left(a - 1\\right)\\right) \\left(p \\left(\\min\\left(1, e^{C + E - b}\\right) - 1\\right) + \\left(1 - e^{C - b}\\right) \\left(p - 1\\right)\\right) - \\left(p - 1\\right) e^{C - b}\\right)\\right)}{\\left(2 a - 1\\right) \\left(p \\left(\\min\\left(1, e^{C + E - b}\\right) - 1\\right) + \\left(1 - e^{C - b}\\right) \\left(p - 1\\right)\\right)}$"
      ],
      "text/plain": [
       "C*p_1*(2*a**2*(a - 1)*(p*(Min(1, exp(C + E - b)) - 1) + (1 - exp(C - b))*(p - 1)) - a*(a - 2)*(2*a - 1)*(p*(Min(1, exp(C + E - b)) - 1) + (1 - exp(C - b))*(p - 1)) - (2*a - 1)*(-a*(p*(Min(1, exp(C + E - b)) - 1) + (1 - exp(C - b))*(p - 1)) + p*Min(1, exp(C + E - b)) + (a - 1)*(a - g*(a - 1))*(p*(Min(1, exp(C + E - b)) - 1) + (1 - exp(C - b))*(p - 1)) - (p - 1)*exp(C - b)))/((2*a - 1)*(p*(Min(1, exp(C + E - b)) - 1) + (1 - exp(C - b))*(p - 1)))"
      ]
     },
     "execution_count": 57,
     "metadata": {},
     "output_type": "execute_result"
    }
   ],
   "source": [
    "attack_full_fixed  = p0*f0_fixed + p1*f1_fixed + C*p1*a*(2*a*(1-a)/(1-2*a))\n",
    "sp.simplify(attack_full_fixed)"
   ]
  },
  {
   "cell_type": "code",
   "execution_count": 58,
   "metadata": {},
   "outputs": [
    {
     "data": {
      "text/latex": [
       "$\\displaystyle E a p \\left(1 - a\\right) \\left(1 - \\min\\left(1, e^{C + E - b}\\right)\\right) \\left(a + g \\left(1 - a\\right)\\right)$"
      ],
      "text/plain": [
       "E*a*p*(1 - a)*(1 - Min(1, exp(C + E - b)))*(a + g*(1 - a))"
      ]
     },
     "execution_count": 58,
     "metadata": {},
     "output_type": "execute_result"
    }
   ],
   "source": [
    "f0i_bern   = E * (a*p*sp.Min(1,sp.exp(-b+C+E)))\n",
    "f0ii_bern  = a*E * (a*p*(1-sp.Min(1,sp.exp(-b+C+E))))\n",
    "f0iii_bern = (1-a)*(a+g*(1-a))*E * (a*p*(1-sp.Min(1,sp.exp(-b+C+E))))\n",
    "f0iii_bern"
   ]
  },
  {
   "cell_type": "code",
   "execution_count": 59,
   "metadata": {},
   "outputs": [],
   "source": [
    "f0_bern   = f0i_bern + f0ii_bern + f0iii_bern\n",
    "f1_bern   = p*E*(a+(1-a)*a)"
   ]
  },
  {
   "cell_type": "code",
   "execution_count": 60,
   "metadata": {},
   "outputs": [
    {
     "data": {
      "text/latex": [
       "$\\displaystyle \\frac{E p p_{1} \\cdot \\left(2 a^{2} \\left(a - 1\\right) \\left(p \\left(\\min\\left(1, e^{C + E - b}\\right) - 1\\right) + \\left(1 - e^{C - b}\\right) \\left(p - 1\\right)\\right) - a \\left(a - 2\\right) \\left(2 a - 1\\right) \\left(p \\left(\\min\\left(1, e^{C + E - b}\\right) - 1\\right) + \\left(1 - e^{C - b}\\right) \\left(p - 1\\right)\\right) - \\left(2 a - 1\\right) \\left(- a \\left(\\min\\left(1, e^{C + E - b}\\right) - 1\\right) + \\left(a - 1\\right) \\left(a - g \\left(a - 1\\right)\\right) \\left(\\min\\left(1, e^{C + E - b}\\right) - 1\\right) + \\min\\left(1, e^{C + E - b}\\right)\\right)\\right)}{\\left(2 a - 1\\right) \\left(p \\left(\\min\\left(1, e^{C + E - b}\\right) - 1\\right) + \\left(1 - e^{C - b}\\right) \\left(p - 1\\right)\\right)}$"
      ],
      "text/plain": [
       "E*p*p_1*(2*a**2*(a - 1)*(p*(Min(1, exp(C + E - b)) - 1) + (1 - exp(C - b))*(p - 1)) - a*(a - 2)*(2*a - 1)*(p*(Min(1, exp(C + E - b)) - 1) + (1 - exp(C - b))*(p - 1)) - (2*a - 1)*(-a*(Min(1, exp(C + E - b)) - 1) + (a - 1)*(a - g*(a - 1))*(Min(1, exp(C + E - b)) - 1) + Min(1, exp(C + E - b))))/((2*a - 1)*(p*(Min(1, exp(C + E - b)) - 1) + (1 - exp(C - b))*(p - 1)))"
      ]
     },
     "execution_count": 60,
     "metadata": {},
     "output_type": "execute_result"
    }
   ],
   "source": [
    "attack_full_bern  = p0*f0_bern + p1*f1_bern + p*E*p1*a*(2*a*(1-a)/(1-2*a))\n",
    "sp.simplify(attack_full_bern)"
   ]
  },
  {
   "cell_type": "code",
   "execution_count": 61,
   "metadata": {},
   "outputs": [
    {
     "data": {
      "text/latex": [
       "$\\displaystyle \\left(1 - a\\right) \\left(a + g \\left(1 - a\\right)\\right) \\left(a p \\left(- \\left(\\max\\left(0, - C - E + b\\right) + 1\\right) \\min\\left(1, e^{C + E - b}\\right) + 1\\right) + a \\left(1 - p\\right) \\left(- \\left(- C + b + 1\\right) e^{C - b} + 1\\right)\\right)$"
      ],
      "text/plain": [
       "(1 - a)*(a + g*(1 - a))*(a*p*(-(Max(0, -C - E + b) + 1)*Min(1, exp(C + E - b)) + 1) + a*(1 - p)*(-(-C + b + 1)*exp(C - b) + 1))"
      ]
     },
     "execution_count": 61,
     "metadata": {},
     "output_type": "execute_result"
    }
   ],
   "source": [
    "f0i_lin   = a*p*(sp.Max(0,b-C-E)+1)*sp.Min(1,sp.exp(-b+C+E)) + a*(1-p)*(b-C+1)*sp.exp(-b+C)\n",
    "f0ii_lin  = a* (a*p*(1-(sp.Max(0,b-C-E)+1)*sp.Min(1,sp.exp(-b+C+E))) + a*(1-p)*(1-(b-C+1)*sp.exp(-b+C))) \n",
    "f0iii_lin = ((1-a)*(a+g*(1-a)))* (a*p*(1-(sp.Max(0,b-C-E)+1)*sp.Min(1,sp.exp(-b+C+E))) + a*(1-p)*(1-(b-C+1)*sp.exp(-b+C)))\n",
    "f0iii_lin"
   ]
  },
  {
   "cell_type": "code",
   "execution_count": 62,
   "metadata": {},
   "outputs": [],
   "source": [
    "f0_lin = f0i_lin + f0ii_lin + f0iii_lin\n",
    "f1_lin = a + 2*a*(1-a)"
   ]
  },
  {
   "cell_type": "code",
   "execution_count": 63,
   "metadata": {},
   "outputs": [
    {
     "data": {
      "text/latex": [
       "$\\displaystyle \\frac{p_{1} \\left(a^{2} \\cdot \\left(2 a - 3\\right) \\left(p \\left(\\min\\left(1, e^{C + E - b}\\right) - 1\\right) + \\left(1 - e^{C - b}\\right) \\left(p - 1\\right)\\right) - a \\left(2 a - 3\\right) \\left(2 a - 1\\right) \\left(p \\left(\\min\\left(1, e^{C + E - b}\\right) - 1\\right) + \\left(1 - e^{C - b}\\right) \\left(p - 1\\right)\\right) - \\left(2 a - 1\\right) \\left(- a \\left(p \\left(\\left(\\max\\left(0, - C - E + b\\right) + 1\\right) \\min\\left(1, e^{C + E - b}\\right) - 1\\right) - \\left(p - 1\\right) \\left(\\left(- C + b + 1\\right) e^{C - b} - 1\\right)\\right) + p \\left(\\max\\left(0, - C - E + b\\right) + 1\\right) \\min\\left(1, e^{C + E - b}\\right) + \\left(a - 1\\right) \\left(a - g \\left(a - 1\\right)\\right) \\left(p \\left(\\left(\\max\\left(0, - C - E + b\\right) + 1\\right) \\min\\left(1, e^{C + E - b}\\right) - 1\\right) - \\left(p - 1\\right) \\left(\\left(- C + b + 1\\right) e^{C - b} - 1\\right)\\right) - \\left(p - 1\\right) \\left(- C + b + 1\\right) e^{C - b}\\right)\\right)}{\\left(2 a - 1\\right) \\left(p \\left(\\min\\left(1, e^{C + E - b}\\right) - 1\\right) + \\left(1 - e^{C - b}\\right) \\left(p - 1\\right)\\right)}$"
      ],
      "text/plain": [
       "p_1*(a**2*(2*a - 3)*(p*(Min(1, exp(C + E - b)) - 1) + (1 - exp(C - b))*(p - 1)) - a*(2*a - 3)*(2*a - 1)*(p*(Min(1, exp(C + E - b)) - 1) + (1 - exp(C - b))*(p - 1)) - (2*a - 1)*(-a*(p*((Max(0, -C - E + b) + 1)*Min(1, exp(C + E - b)) - 1) - (p - 1)*((-C + b + 1)*exp(C - b) - 1)) + p*(Max(0, -C - E + b) + 1)*Min(1, exp(C + E - b)) + (a - 1)*(a - g*(a - 1))*(p*((Max(0, -C - E + b) + 1)*Min(1, exp(C + E - b)) - 1) - (p - 1)*((-C + b + 1)*exp(C - b) - 1)) - (p - 1)*(-C + b + 1)*exp(C - b)))/((2*a - 1)*(p*(Min(1, exp(C + E - b)) - 1) + (1 - exp(C - b))*(p - 1)))"
      ]
     },
     "execution_count": 63,
     "metadata": {},
     "output_type": "execute_result"
    }
   ],
   "source": [
    "attack_full_lin = p0*f0_lin + p1*f1_lin + p1*a*a*(3-2*a)/(1-2*a)\n",
    "sp.simplify(attack_full_lin)"
   ]
  },
  {
   "cell_type": "code",
   "execution_count": 67,
   "metadata": {},
   "outputs": [
    {
     "data": {
      "text/latex": [
       "$\\displaystyle \\frac{p_{1} \\left(C \\left(2 a^{2} \\left(a - 1\\right) \\left(p \\left(\\min\\left(1, e^{C + E - b}\\right) - 1\\right) + \\left(1 - e^{C - b}\\right) \\left(p - 1\\right)\\right) - a \\left(a - 2\\right) \\left(2 a - 1\\right) \\left(p \\left(\\min\\left(1, e^{C + E - b}\\right) - 1\\right) + \\left(1 - e^{C - b}\\right) \\left(p - 1\\right)\\right) + \\left(2 a - 1\\right) \\left(a \\left(p \\left(\\min\\left(1, e^{C + E - b}\\right) - 1\\right) + \\left(1 - e^{C - b}\\right) \\left(p - 1\\right)\\right) - p \\min\\left(1, e^{C + E - b}\\right) - \\left(a - 1\\right) \\left(a - g \\left(a - 1\\right)\\right) \\left(p \\left(\\min\\left(1, e^{C + E - b}\\right) - 1\\right) + \\left(1 - e^{C - b}\\right) \\left(p - 1\\right)\\right) + \\left(p - 1\\right) e^{C - b}\\right)\\right) - E p \\left(- 2 a^{2} \\left(a - 1\\right) \\left(p \\left(\\min\\left(1, e^{C + E - b}\\right) - 1\\right) + \\left(1 - e^{C - b}\\right) \\left(p - 1\\right)\\right) + a \\left(a - 2\\right) \\left(2 a - 1\\right) \\left(p \\left(\\min\\left(1, e^{C + E - b}\\right) - 1\\right) + \\left(1 - e^{C - b}\\right) \\left(p - 1\\right)\\right) + \\left(2 a - 1\\right) \\left(- a \\left(\\min\\left(1, e^{C + E - b}\\right) - 1\\right) + \\left(a - 1\\right) \\left(a - g \\left(a - 1\\right)\\right) \\left(\\min\\left(1, e^{C + E - b}\\right) - 1\\right) + \\min\\left(1, e^{C + E - b}\\right)\\right)\\right) + a^{2} \\cdot \\left(2 a - 3\\right) \\left(p \\left(\\min\\left(1, e^{C + E - b}\\right) - 1\\right) + \\left(1 - e^{C - b}\\right) \\left(p - 1\\right)\\right) - a \\left(2 a - 3\\right) \\left(2 a - 1\\right) \\left(p \\left(\\min\\left(1, e^{C + E - b}\\right) - 1\\right) + \\left(1 - e^{C - b}\\right) \\left(p - 1\\right)\\right) + \\left(2 a - 1\\right) \\left(a \\left(p \\left(\\left(\\max\\left(0, - C - E + b\\right) + 1\\right) \\min\\left(1, e^{C + E - b}\\right) - 1\\right) - \\left(p - 1\\right) \\left(\\left(- C + b + 1\\right) e^{C - b} - 1\\right)\\right) - p \\left(\\max\\left(0, - C - E + b\\right) + 1\\right) \\min\\left(1, e^{C + E - b}\\right) - \\left(a - 1\\right) \\left(a - g \\left(a - 1\\right)\\right) \\left(p \\left(\\left(\\max\\left(0, - C - E + b\\right) + 1\\right) \\min\\left(1, e^{C + E - b}\\right) - 1\\right) - \\left(p - 1\\right) \\left(\\left(- C + b + 1\\right) e^{C - b} - 1\\right)\\right) + \\left(p - 1\\right) \\left(- C + b + 1\\right) e^{C - b}\\right)\\right)}{\\left(2 a - 1\\right) \\left(p \\left(\\min\\left(1, e^{C + E - b}\\right) - 1\\right) + \\left(1 - e^{C - b}\\right) \\left(p - 1\\right)\\right)}$"
      ],
      "text/plain": [
       "p_1*(C*(2*a**2*(a - 1)*(p*(Min(1, exp(C + E - b)) - 1) + (1 - exp(C - b))*(p - 1)) - a*(a - 2)*(2*a - 1)*(p*(Min(1, exp(C + E - b)) - 1) + (1 - exp(C - b))*(p - 1)) + (2*a - 1)*(a*(p*(Min(1, exp(C + E - b)) - 1) + (1 - exp(C - b))*(p - 1)) - p*Min(1, exp(C + E - b)) - (a - 1)*(a - g*(a - 1))*(p*(Min(1, exp(C + E - b)) - 1) + (1 - exp(C - b))*(p - 1)) + (p - 1)*exp(C - b))) - E*p*(-2*a**2*(a - 1)*(p*(Min(1, exp(C + E - b)) - 1) + (1 - exp(C - b))*(p - 1)) + a*(a - 2)*(2*a - 1)*(p*(Min(1, exp(C + E - b)) - 1) + (1 - exp(C - b))*(p - 1)) + (2*a - 1)*(-a*(Min(1, exp(C + E - b)) - 1) + (a - 1)*(a - g*(a - 1))*(Min(1, exp(C + E - b)) - 1) + Min(1, exp(C + E - b)))) + a**2*(2*a - 3)*(p*(Min(1, exp(C + E - b)) - 1) + (1 - exp(C - b))*(p - 1)) - a*(2*a - 3)*(2*a - 1)*(p*(Min(1, exp(C + E - b)) - 1) + (1 - exp(C - b))*(p - 1)) + (2*a - 1)*(a*(p*((Max(0, -C - E + b) + 1)*Min(1, exp(C + E - b)) - 1) - (p - 1)*((-C + b + 1)*exp(C - b) - 1)) - p*(Max(0, -C - E + b) + 1)*Min(1, exp(C + E - b)) - (a - 1)*(a - g*(a - 1))*(p*((Max(0, -C - E + b) + 1)*Min(1, exp(C + E - b)) - 1) - (p - 1)*((-C + b + 1)*exp(C - b) - 1)) + (p - 1)*(-C + b + 1)*exp(C - b)))/((2*a - 1)*(p*(Min(1, exp(C + E - b)) - 1) + (1 - exp(C - b))*(p - 1)))"
      ]
     },
     "execution_count": 67,
     "metadata": {},
     "output_type": "execute_result"
    }
   ],
   "source": [
    "sp.simplify(sp.simplify(attack_full_lin) + sp.simplify(attack_full_bern) + sp.simplify(attack_full_fixed))"
   ]
  },
  {
   "cell_type": "code",
   "execution_count": null,
   "metadata": {},
   "outputs": [],
   "source": []
  },
  {
   "cell_type": "code",
   "execution_count": null,
   "metadata": {},
   "outputs": [],
   "source": []
  },
  {
   "cell_type": "code",
   "execution_count": null,
   "metadata": {},
   "outputs": [],
   "source": []
  },
  {
   "cell_type": "code",
   "execution_count": null,
   "metadata": {},
   "outputs": [],
   "source": []
  },
  {
   "cell_type": "code",
   "execution_count": 494,
   "metadata": {},
   "outputs": [
    {
     "data": {
      "text/plain": [
       "<function _lambdifygenerated(a, b, p, g, C)>"
      ]
     },
     "execution_count": 494,
     "metadata": {},
     "output_type": "execute_result"
    }
   ],
   "source": [
    "honest_final_fixed_lambda   = sp.lambdify((a, b, p, g, C), honest_final_fixed)\n",
    "attacker_final_fixed_lambda = sp.lambdify((a, b, p, g, C), attacker_final_fixed)\n",
    "honest_final_bern_lambda    = sp.lambdify((a, b, p, g, C), honest_final_bern)\n",
    "attacker_final_bern_lambda  = sp.lambdify((a, b, p, g, C), attacker_final_bern)\n",
    "attack_final_lin_lambda     = sp.lambdify((a, b, p, g, C), attack_final_lin)\n",
    "attack_final_lin_lambda"
   ]
  },
  {
   "cell_type": "code",
   "execution_count": 495,
   "metadata": {},
   "outputs": [],
   "source": [
    "def BlockRewards(a_, b_, p_, g_, C_):\n",
    "    a_fixed = attacker_final_fixed_lambda(a_, b_, p_, g_, C_)\n",
    "    h_fixed = honest_final_fixed_lambda(a_, b_, p_, g_, C_)\n",
    "    return a_fixed/(a_fixed+h_fixed)\n",
    "\n",
    "def LinRewards(a_, b_, p_, g_, C_):\n",
    "    return attack_final_lin_lambda(a_, b_, p_, g_, C_)\n",
    "\n",
    "def LinAndBlockRewards(a_, b_, p_, g_, C_):\n",
    "    lin  = attack_final_lin_lambda(a_, b_, p_, g_, C_)\n",
    "    a_fixed = attacker_final_fixed_lambda(a_, b_, p_, g_, C_)\n",
    "    h_fixed = honest_final_fixed_lambda(a_, b_, p_, g_, C_)\n",
    "    return lin + a_fixed/(a_fixed+h_fixed)\n",
    "\n",
    "def FullRewards(a_, b_, p_, g_, C_):\n",
    "    lin  = attack_final_lin_lambda(a_, b_, p_, g_, C_)\n",
    "    a_fixed = attacker_final_fixed_lambda(a_, b_, p_, g_, C_)\n",
    "    h_fixed = honest_final_fixed_lambda(a_, b_, p_, g_, C_)\n",
    "    a_bern  = attacker_final_bern_lambda(a_, b_, p_, g_, C_)\n",
    "    h_bern  = honest_final_bern_lambda(a_, b_, p_, g_, C_)\n",
    "    return (lin + a_fixed/(a_fixed+h_fixed) + a_bern/(a_bern+h_bern))/3"
   ]
  },
  {
   "cell_type": "code",
   "execution_count": 545,
   "metadata": {},
   "outputs": [],
   "source": [
    "gammas = np.arange(0.01, 1, 0.01)\n",
    "alphas = np.arange(0.01, 0.50, 0.005)\n",
    "betas = np.arange(1.01, 5.01, 0.05)\n",
    "p_ = 0.5\n",
    "C_ = 1."
   ]
  },
  {
   "cell_type": "code",
   "execution_count": null,
   "metadata": {},
   "outputs": [],
   "source": []
  },
  {
   "cell_type": "code",
   "execution_count": null,
   "metadata": {},
   "outputs": [],
   "source": []
  },
  {
   "cell_type": "code",
   "execution_count": null,
   "metadata": {},
   "outputs": [],
   "source": []
  },
  {
   "cell_type": "code",
   "execution_count": null,
   "metadata": {},
   "outputs": [],
   "source": []
  },
  {
   "cell_type": "code",
   "execution_count": null,
   "metadata": {},
   "outputs": [],
   "source": []
  },
  {
   "cell_type": "code",
   "execution_count": null,
   "metadata": {},
   "outputs": [],
   "source": [
    "p_ = 0.5\n",
    "g_ = 0.1"
   ]
  },
  {
   "cell_type": "code",
   "execution_count": 508,
   "metadata": {},
   "outputs": [],
   "source": [
    "a_ = 0.26"
   ]
  },
  {
   "cell_type": "code",
   "execution_count": 509,
   "metadata": {},
   "outputs": [
    {
     "data": {
      "text/plain": [
       "(2.360000000000001, 0.2551061712501037)"
      ]
     },
     "execution_count": 509,
     "metadata": {},
     "output_type": "execute_result"
    }
   ],
   "source": [
    "bs = [LinRewards(a_, b_, p_, g_, C_) for b_ in betas]\n",
    "bestBeta = betas[np.argmax(bs)]\n",
    "bestBeta, FullRewards(a_, bestBeta, p_, g_, C_)"
   ]
  },
  {
   "cell_type": "code",
   "execution_count": 510,
   "metadata": {},
   "outputs": [
    {
     "data": {
      "text/plain": [
       "(1.8600000000000008, 0.26223290139728433)"
      ]
     },
     "execution_count": 510,
     "metadata": {},
     "output_type": "execute_result"
    }
   ],
   "source": [
    "bs = [FullRewards(a_, b_, p_, g_, C_) for b_ in betas]\n",
    "bestBeta = betas[np.argmax(bs)]\n",
    "bestBeta, FullRewards(a_, bestBeta, p_, g_, C_)"
   ]
  },
  {
   "cell_type": "code",
   "execution_count": 519,
   "metadata": {},
   "outputs": [
    {
     "data": {
      "text/plain": [
       "[<matplotlib.lines.Line2D at 0x1570b42e0>]"
      ]
     },
     "execution_count": 519,
     "metadata": {},
     "output_type": "execute_result"
    },
    {
     "data": {
      "image/png": "[encoded data removed]",
      "text/plain": [
       "<Figure size 432x288 with 1 Axes>"
      ]
     },
     "metadata": {
      "needs_background": "light"
     },
     "output_type": "display_data"
    }
   ],
   "source": [
    "plt.plot(betas,[FullRewards(a_, b_, p_, g_, C_)for b_ in betas])\n",
    "plt.plot(betas, [LinRewards(a_, b_, p_, g_, C_)for b_ in betas])"
   ]
  },
  {
   "cell_type": "code",
   "execution_count": 517,
   "metadata": {},
   "outputs": [
    {
     "data": {
      "text/plain": [
       "[<matplotlib.lines.Line2D at 0x1569664c0>]"
      ]
     },
     "execution_count": 517,
     "metadata": {},
     "output_type": "execute_result"
    },
    {
     "data": {
      "image/png": "[encoded data removed]",
      "text/plain": [
       "<Figure size 432x288 with 1 Axes>"
      ]
     },
     "metadata": {
      "needs_background": "light"
     },
     "output_type": "display_data"
    }
   ],
   "source": [
    "plt.plot(gammas, b_res)\n",
    "plt.plot(gammas, l_res)\n",
    "# plt.plot(gammas, bl_res)\n",
    "plt.plot(gammas, f_res)"
   ]
  }
 ],
 "metadata": {
  "kernelspec": {
   "display_name": "Python 3",
   "language": "python",
   "name": "python3"
  },
  "language_info": {
   "codemirror_mode": {
    "name": "ipython",
    "version": 3
   },
   "file_extension": ".py",
   "mimetype": "text/x-python",
   "name": "python",
   "nbconvert_exporter": "python",
   "pygments_lexer": "ipython3",
   "version": "3.8.16"
  }
 },
 "nbformat": 4,
 "nbformat_minor": 4
}
