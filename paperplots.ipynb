{
 "cells": [
  {
   "cell_type": "code",
   "execution_count": 1,
   "metadata": {},
   "outputs": [],
   "source": [
    "import matplotlib.pyplot as plt\n",
    "import matplotlib.patches as mpatches\n",
    "import numpy as np\n",
    "from scipy.optimize import minimize\n",
    "import pandas as pd\n",
    "from scipy.stats import poisson, uniform, expon, pareto\n",
    "from tqdm import tqdm\n",
    "from mdptoolbox import mdp, util\n",
    "import itertools\n",
    "from scipy.sparse import csr_matrix, lil_matrix\n",
    "from matplotlib.patches import Patch\n",
    "import math\n",
    "import random\n",
    "import sympy as sp\n",
    "from sympy.printing.latex import print_latex"
   ]
  },
  {
   "cell_type": "code",
   "execution_count": 18,
   "metadata": {},
   "outputs": [],
   "source": [
    "p0, p0p, p1, p0pp = sp.symbols('p_0 p_{00} p_1 p_{000}')\n",
    "a, b, x, g, p, E  = sp.symbols('a b x g p E')"
   ]
  },
  {
   "cell_type": "code",
   "execution_count": 20,
   "metadata": {},
   "outputs": [
    {
     "data": {
      "text/latex": [
       "$\\displaystyle \\left(1 - p\\right) \\left(a^{2} \\cdot \\left(1 - e^{- b + x}\\right) + a \\left(1 - a\\right) \\left(1 - e^{- b + x}\\right) \\left(a + g \\left(1 - a\\right)\\right) + a e^{- b + x}\\right)$"
      ],
      "text/plain": [
       "(1 - p)*(a**2*(1 - exp(-b + x)) + a*(1 - a)*(1 - exp(-b + x))*(a + g*(1 - a)) + a*exp(-b + x))"
      ]
     },
     "execution_count": 20,
     "metadata": {},
     "output_type": "execute_result"
    }
   ],
   "source": [
    "EXPR1 = (1-p) * (a*sp.exp(-b+x) + a**2*(1-sp.exp(-b+x))+ a*(1-a)*(1-sp.exp(-b+x))*(a+(1-a)*g))\n",
    "EXPR1"
   ]
  },
  {
   "cell_type": "code",
   "execution_count": 21,
   "metadata": {},
   "outputs": [
    {
     "data": {
      "text/latex": [
       "$\\displaystyle p \\left(a^{2} \\cdot \\left(1 - e^{E - b + x}\\right) + a \\left(1 - a\\right) \\left(1 - e^{E - b + x}\\right) \\left(a + g \\left(1 - a\\right)\\right) + a e^{E - b + x}\\right)$"
      ],
      "text/plain": [
       "p*(a**2*(1 - exp(E - b + x)) + a*(1 - a)*(1 - exp(E - b + x))*(a + g*(1 - a)) + a*exp(E - b + x))"
      ]
     },
     "execution_count": 21,
     "metadata": {},
     "output_type": "execute_result"
    }
   ],
   "source": [
    "EXPR2 = p * (a*sp.exp(-b+E+x)+a**2*(1-sp.exp(-b+E+x))+a*(1-a)*(1-sp.exp(-b+E+x))*(a+(1-a)*g))\n",
    "EXPR2"
   ]
  },
  {
   "cell_type": "code",
   "execution_count": 22,
   "metadata": {},
   "outputs": [
    {
     "data": {
      "text/latex": [
       "$\\displaystyle \\frac{p_{1}}{a p \\left(1 - e^{E - b}\\right) + a \\left(1 - p\\right) \\left(1 - e^{- b}\\right)}$"
      ],
      "text/plain": [
       "p_1/(a*p*(1 - exp(E - b)) + a*(1 - p)*(1 - exp(-b)))"
      ]
     },
     "execution_count": 22,
     "metadata": {},
     "output_type": "execute_result"
    }
   ],
   "source": [
    "p0 = p1 / (a*p*(1-sp.exp(-b+E))+a*(1-p)*(1-sp.exp(-b)))\n",
    "p0"
   ]
  },
  {
   "cell_type": "code",
   "execution_count": 25,
   "metadata": {},
   "outputs": [
    {
     "data": {
      "text/latex": [
       "$\\displaystyle \\begin{cases} \\frac{p_{1} \\left(- \\left(E - b\\right) \\left(a^{2} g p e^{E} - a^{2} g p + a^{2} g - a^{2} p e^{E} + a^{2} p - a^{2} - 2 a g p e^{E} + 2 a g p - 2 a g + 2 a p e^{E} - 2 a p + 2 a + g p e^{E} - g p + g - p e^{E} + p - 1\\right) + \\left(- a^{2} g + a^{2} + 2 a g - 2 a - g\\right) e^{b} + \\left(a^{2} g - a^{2} - 2 a g + 2 a + g\\right) e^{E}\\right)}{p e^{E} - p - e^{b} + 1} & \\text{for}\\: - p e^{E} + p + e^{b} \\neq 1 \\\\\\frac{p_{1} \\left(E - b\\right) \\left(- a^{2} g p e^{E} + a^{2} g p + a^{2} p e^{E} - a^{2} p + 2 a g p e^{E} - 2 a g p - 2 a p e^{E} + 2 a p - g p e^{E} + g p + p e^{E} - p + 1\\right)}{p e^{E} - p - e^{b} + 1} & \\text{otherwise} \\end{cases}$"
      ],
      "text/plain": [
       "Piecewise((p_1*(-(E - b)*(a**2*g*p*exp(E) - a**2*g*p + a**2*g - a**2*p*exp(E) + a**2*p - a**2 - 2*a*g*p*exp(E) + 2*a*g*p - 2*a*g + 2*a*p*exp(E) - 2*a*p + 2*a + g*p*exp(E) - g*p + g - p*exp(E) + p - 1) + (-a**2*g + a**2 + 2*a*g - 2*a - g)*exp(b) + (a**2*g - a**2 - 2*a*g + 2*a + g)*exp(E))/(p*exp(E) - p - exp(b) + 1), Ne(-p*exp(E) + p + exp(b), 1)), (p_1*(E - b)*(-a**2*g*p*exp(E) + a**2*g*p + a**2*p*exp(E) - a**2*p + 2*a*g*p*exp(E) - 2*a*g*p - 2*a*p*exp(E) + 2*a*p - g*p*exp(E) + g*p + p*exp(E) - p + 1)/(p*exp(E) - p - exp(b) + 1), True))"
      ]
     },
     "execution_count": 25,
     "metadata": {},
     "output_type": "execute_result"
    }
   ],
   "source": [
    "lowIntegrand = sp.simplify(p0 *(EXPR1 + EXPR2)*sp.exp(-x))\n",
    "lowIntegral  = sp.simplify(sp.integrate(lowIntegrand, (x, 0, b-E)))\n",
    "lowIntegral"
   ]
  },
  {
   "cell_type": "code",
   "execution_count": 26,
   "metadata": {},
   "outputs": [
    {
     "data": {
      "text/latex": [
       "$\\displaystyle \\begin{cases} \\frac{p p_{1} \\left(a^{2} g - a^{2} - 2 a g + 2 a + b \\left(a^{2} g - a^{2} - 2 a g + 2 a + g - 1\\right) e^{E} + g + \\left(E - b\\right) \\left(a^{2} g - a^{2} - 2 a g + 2 a + g - 1\\right) e^{E} + \\left(- a^{2} g + a^{2} + 2 a g - 2 a - g - 1\\right) e^{E} + 1\\right)}{p e^{E} - p - e^{b} + 1} & \\text{for}\\: - p e^{E} + p + e^{b} \\neq 1 \\\\\\frac{E p p_{1} \\left(a^{2} g e^{E} - a^{2} g - a^{2} e^{E} + a^{2} - 2 a g e^{E} + 2 a g + 2 a e^{E} - 2 a + g e^{E} - g - e^{E} - 1\\right)}{p e^{E} - p - e^{b} + 1} & \\text{otherwise} \\end{cases}$"
      ],
      "text/plain": [
       "Piecewise((p*p_1*(a**2*g - a**2 - 2*a*g + 2*a + b*(a**2*g - a**2 - 2*a*g + 2*a + g - 1)*exp(E) + g + (E - b)*(a**2*g - a**2 - 2*a*g + 2*a + g - 1)*exp(E) + (-a**2*g + a**2 + 2*a*g - 2*a - g - 1)*exp(E) + 1)/(p*exp(E) - p - exp(b) + 1), Ne(-p*exp(E) + p + exp(b), 1)), (E*p*p_1*(a**2*g*exp(E) - a**2*g - a**2*exp(E) + a**2 - 2*a*g*exp(E) + 2*a*g + 2*a*exp(E) - 2*a + g*exp(E) - g - exp(E) - 1)/(p*exp(E) - p - exp(b) + 1), True))"
      ]
     },
     "execution_count": 26,
     "metadata": {},
     "output_type": "execute_result"
    }
   ],
   "source": [
    "medIntegrand = sp.simplify(p0 *(p*a + EXPR2)*sp.exp(-x))\n",
    "medIntegral  = sp.simplify(sp.integrate(medIntegrand, (x, b-E, b)))\n",
    "medIntegral"
   ]
  },
  {
   "cell_type": "code",
   "execution_count": 27,
   "metadata": {},
   "outputs": [
    {
     "data": {
      "text/latex": [
       "$\\displaystyle \\begin{cases} - \\frac{p_{1}}{p e^{E} - p - e^{b} + 1} & \\text{for}\\: - p e^{E} + p + e^{b} \\neq 1 \\\\\\begin{cases} \\text{NaN} & \\text{for}\\: \\frac{p_{1}}{p e^{E} - p - e^{b} + 1} = 0 \\\\\\frac{p_{1} \\left(b \\left|{\\frac{p_{1}}{p e^{E} - p - e^{b} + 1}}\\right| - \\infty\\right)}{\\left(p e^{E} - p - e^{b} + 1\\right) \\left|{\\frac{p_{1}}{p e^{E} - p - e^{b} + 1}}\\right|} & \\text{otherwise} \\end{cases} & \\text{otherwise} \\end{cases}$"
      ],
      "text/plain": [
       "Piecewise((-p_1/(p*exp(E) - p - exp(b) + 1), Ne(-p*exp(E) + p + exp(b), 1)), (Piecewise((nan, Eq(p_1/(p*exp(E) - p - exp(b) + 1), 0)), (p_1*(b*Abs(p_1/(p*exp(E) - p - exp(b) + 1)) - oo)/((p*exp(E) - p - exp(b) + 1)*Abs(p_1/(p*exp(E) - p - exp(b) + 1))), True)), True))"
      ]
     },
     "execution_count": 27,
     "metadata": {},
     "output_type": "execute_result"
    }
   ],
   "source": [
    "highIntegrand = sp.simplify(p0*a*sp.exp(-x))\n",
    "highIntegral  = sp.simplify(sp.integrate(highIntegrand, (x, b, sp.oo)))\n",
    "highIntegral"
   ]
  },
  {
   "cell_type": "code",
   "execution_count": 28,
   "metadata": {},
   "outputs": [
    {
     "data": {
      "text/latex": [
       "$\\displaystyle \\begin{cases} \\frac{p_{1} \\left(p \\left(a^{2} g - a^{2} - 2 a g + 2 a + b \\left(a^{2} g - a^{2} - 2 a g + 2 a + g - 1\\right) e^{E} + g + \\left(E - b\\right) \\left(a^{2} g - a^{2} - 2 a g + 2 a + g - 1\\right) e^{E} + \\left(- a^{2} g + a^{2} + 2 a g - 2 a - g - 1\\right) e^{E} + 1\\right) - \\left(E - b\\right) \\left(a^{2} g p e^{E} - a^{2} g p + a^{2} g - a^{2} p e^{E} + a^{2} p - a^{2} - 2 a g p e^{E} + 2 a g p - 2 a g + 2 a p e^{E} - 2 a p + 2 a + g p e^{E} - g p + g - p e^{E} + p - 1\\right) - \\left(- a^{2} g + a^{2} + 2 a g - 2 a - g\\right) e^{E} - \\left(a^{2} g - a^{2} - 2 a g + 2 a + g\\right) e^{b} - 1\\right)}{p e^{E} - p - e^{b} + 1} & \\text{for}\\: - p e^{E} + p + e^{b} \\neq 1 \\\\\\text{NaN} & \\text{for}\\: \\frac{p_{1}}{p e^{E} - p - e^{b} + 1} = 0 \\\\\\frac{p_{1} \\left(b \\left|{\\frac{p_{1}}{p e^{E} - p - e^{b} + 1}}\\right| + \\left(- E p \\left(- a^{2} g e^{E} + a^{2} g + a^{2} e^{E} - a^{2} + 2 a g e^{E} - 2 a g - 2 a e^{E} + 2 a - g e^{E} + g + e^{E} + 1\\right) + \\left(E - b\\right) \\left(- a^{2} g p e^{E} + a^{2} g p + a^{2} p e^{E} - a^{2} p + 2 a g p e^{E} - 2 a g p - 2 a p e^{E} + 2 a p - g p e^{E} + g p + p e^{E} - p + 1\\right)\\right) \\left|{\\frac{p_{1}}{p e^{E} - p - e^{b} + 1}}\\right| - \\infty\\right)}{\\left(p e^{E} - p - e^{b} + 1\\right) \\left|{\\frac{p_{1}}{p e^{E} - p - e^{b} + 1}}\\right|} & \\text{otherwise} \\end{cases}$"
      ],
      "text/plain": [
       "Piecewise((p_1*(p*(a**2*g - a**2 - 2*a*g + 2*a + b*(a**2*g - a**2 - 2*a*g + 2*a + g - 1)*exp(E) + g + (E - b)*(a**2*g - a**2 - 2*a*g + 2*a + g - 1)*exp(E) + (-a**2*g + a**2 + 2*a*g - 2*a - g - 1)*exp(E) + 1) - (E - b)*(a**2*g*p*exp(E) - a**2*g*p + a**2*g - a**2*p*exp(E) + a**2*p - a**2 - 2*a*g*p*exp(E) + 2*a*g*p - 2*a*g + 2*a*p*exp(E) - 2*a*p + 2*a + g*p*exp(E) - g*p + g - p*exp(E) + p - 1) - (-a**2*g + a**2 + 2*a*g - 2*a - g)*exp(E) - (a**2*g - a**2 - 2*a*g + 2*a + g)*exp(b) - 1)/(p*exp(E) - p - exp(b) + 1), Ne(-p*exp(E) + p + exp(b), 1)), (nan, Eq(p_1/(p*exp(E) - p - exp(b) + 1), 0)), (p_1*(b*Abs(p_1/(p*exp(E) - p - exp(b) + 1)) + (-E*p*(-a**2*g*exp(E) + a**2*g + a**2*exp(E) - a**2 + 2*a*g*exp(E) - 2*a*g - 2*a*exp(E) + 2*a - g*exp(E) + g + exp(E) + 1) + (E - b)*(-a**2*g*p*exp(E) + a**2*g*p + a**2*p*exp(E) - a**2*p + 2*a*g*p*exp(E) - 2*a*g*p - 2*a*p*exp(E) + 2*a*p - g*p*exp(E) + g*p + p*exp(E) - p + 1))*Abs(p_1/(p*exp(E) - p - exp(b) + 1)) - oo)/((p*exp(E) - p - exp(b) + 1)*Abs(p_1/(p*exp(E) - p - exp(b) + 1))), True))"
      ]
     },
     "execution_count": 28,
     "metadata": {},
     "output_type": "execute_result"
    }
   ],
   "source": [
    "sp.simplify(lowIntegral + medIntegral + highIntegral)"
   ]
  },
  {
   "cell_type": "markdown",
   "metadata": {},
   "source": [
    "# SIM for block reward under bernoulli"
   ]
  },
  {
   "cell_type": "code",
   "execution_count": 40,
   "metadata": {},
   "outputs": [],
   "source": [
    "def p1Bernoulli(a, b, p, E):\n",
    "    expr = 1/(a*p*(1-np.exp(-b+E))+a*(1-p)*(1-np.exp(-b)))\n",
    "    return 1/(expr+1+(1-a)/(1-2*a))\n",
    "\n",
    "def honestBlocksBernoulli(a, b, p, E):\n",
    "    expr1 = (1-a)/(a*p*(1-np.exp(-b+E))+a*(1-p)*(1-np.exp(-b)))\n",
    "    expr2 = expr1 + 2*((1-a)**2) + a*(1-a)\n",
    "    p1    = p1Bernoulli(a, b, p, E)\n",
    "    return p1 * expr2\n",
    "\n",
    "def attackBlocksBernoulli(a, b, p, E):\n",
    "    expr1 = (a*p*np.exp(-b+E)+a*(1-p)*np.exp(-b))/(a*p*(1-np.exp(-b+E))+a*(1-p)*(1-np.exp(-b)))\n",
    "    expr2 = (1-a)*(a**3) / ((1-2*a)*((1-a)**2))\n",
    "    expr3 = expr1 + 2*a*(1-a) + a**2 + a*(2-a)/(1-a) + expr2\n",
    "    p1    = p1Bernoulli(a, b, p, E)\n",
    "    return p1 * expr3\n",
    "\n",
    "def fixedRewBernoulli(a, b, p, E):\n",
    "    A = attackBlocksBernoulli(a, b, p, E)\n",
    "    H = honestBlocksBernoulli(a, b, p, E)\n",
    "    return A/(A+H)"
   ]
  },
  {
   "cell_type": "code",
   "execution_count": 176,
   "metadata": {},
   "outputs": [
    {
     "data": {
      "text/plain": [
       "0.1632488076308718"
      ]
     },
     "execution_count": 176,
     "metadata": {},
     "output_type": "execute_result"
    }
   ],
   "source": [
    "p1Bernoulli(a=0.3, b=5, p=0.5, E=1)"
   ]
  },
  {
   "cell_type": "code",
   "execution_count": 197,
   "metadata": {},
   "outputs": [
    {
     "data": {
      "text/plain": [
       "0.3288251553752685"
      ]
     },
     "execution_count": 197,
     "metadata": {},
     "output_type": "execute_result"
    }
   ],
   "source": [
    "fixedRewBernoulli(a=0.33, b=1, p=0.5, E=1)"
   ]
  },
  {
   "cell_type": "code",
   "execution_count": 86,
   "metadata": {},
   "outputs": [],
   "source": [
    "def simFixedRewardBernoulli(a, b, p, E, n):\n",
    "    gamma = 0\n",
    "    state = [0,0] # (attacker, honest)\n",
    "\n",
    "    honestBlcs = 0\n",
    "    attackBlcs = 0\n",
    "    honestRews = 0\n",
    "    attackRews = 0\n",
    "    honestBern = 0\n",
    "    attackBern = 0\n",
    "    curTime    = 0\n",
    "    lastState0 = 0\n",
    "    lastAttBlc = 0\n",
    "\n",
    "    for _ in range(n):\n",
    "        attBlock = np.random.binomial(1, a)\n",
    "        execRews = np.random.exponential()\n",
    "        bernRews = np.random.binomial(1, p=p)\n",
    "        curTime += execRews\n",
    "\n",
    "        if state == [0,0]:\n",
    "            if attBlock:\n",
    "                if bernRews and execRews < (b-E):\n",
    "                    state = [1,0]\n",
    "                    lastAttBlc = curTime\n",
    "                elif not bernRews and execRews < b:\n",
    "                    state = [1,0]\n",
    "                    lastAttBlc = curTime\n",
    "                else:\n",
    "                    attackBlcs += 1\n",
    "                    attackRews += execRews\n",
    "                    attackBern += bernRews\n",
    "                    lastState0  = curTime\n",
    "                    lastAttBlc  = curTime\n",
    "            else:\n",
    "                honestBlcs += 1\n",
    "                honestRews += execRews\n",
    "                honestBern += bernRews\n",
    "                lastState0  = curTime\n",
    "                lastAttBlc  = curTime\n",
    "            continue\n",
    "\n",
    "        if state == [1,0]:\n",
    "            if attBlock:\n",
    "                state = [2,0]\n",
    "                lastAttBlc = curTime\n",
    "            else:\n",
    "                sample        = np.random.uniform()\n",
    "                nextExecRews  = np.random.exponential()\n",
    "                nextBern      = np.random.binomial(1, p=p)\n",
    "                if sample < a:\n",
    "                    attackBlcs += 2\n",
    "                    attackRews += (curTime - lastState0) + nextExecRews\n",
    "                    attackBern += (bernRews + nextBern)\n",
    "                elif sample <= a + ((1-a)*gamma):\n",
    "                    attackBlcs += 1\n",
    "                    honestBlcs += 1\n",
    "                    attackRews += (lastAttBlc - lastState0)\n",
    "                    honestRews += (curTime - lastAttBlc) + nextExecRews\n",
    "                    attackBern += bernRews\n",
    "                    honestBern += nextBern\n",
    "                else:\n",
    "                    honestBlcs += 2\n",
    "                    honestRews += (curTime - lastState0) + nextExecRews\n",
    "                    honestBern += (bernRews + nextBern)\n",
    "                curTime    += nextExecRews\n",
    "                lastState0  = curTime\n",
    "                lastAttBlc  = curTime\n",
    "                state = [0,0]\n",
    "            continue\n",
    "\n",
    "        if attBlock:\n",
    "            state[0] += 1\n",
    "            lastAttBlc = curTime\n",
    "        else:\n",
    "            state[1] += 1\n",
    "\n",
    "        diff = state[0] - state[1]\n",
    "        if diff == 1:\n",
    "            attackBlcs += state[0]\n",
    "            attackRews += (lastAttBlc - lastState0)\n",
    "\n",
    "            # 0'' state\n",
    "            remRews = (curTime - lastAttBlc)\n",
    "            attBlock = np.random.binomial(1, alpha)\n",
    "            execRews = np.random.exponential()\n",
    "            curTime += execRews\n",
    "            if attBlock:\n",
    "                attackBlcs += 1\n",
    "                attackRews += (remRews + execRews)\n",
    "            else:\n",
    "                honestBlcs += 1\n",
    "                honestRews += (remRews + execRews)\n",
    "\n",
    "            lastState0  = curTime\n",
    "            lastAttBlc  = curTime\n",
    "            state = [0,0]\n",
    " \n",
    "    return honestBlcs, attackBlcs"
   ]
  },
  {
   "cell_type": "code",
   "execution_count": 198,
   "metadata": {},
   "outputs": [
    {
     "data": {
      "text/plain": [
       "0.36095612409908223"
      ]
     },
     "execution_count": 198,
     "metadata": {},
     "output_type": "execute_result"
    }
   ],
   "source": [
    "hB, aB = simFixedRewardBernoulli(a=0.35, b=2, p=0.5, E=1, n=int(1e5))\n",
    "aB/(aB+hB)"
   ]
  },
  {
   "cell_type": "code",
   "execution_count": 200,
   "metadata": {},
   "outputs": [
    {
     "data": {
      "text/plain": [
       "0.36262843856402993"
      ]
     },
     "execution_count": 200,
     "metadata": {},
     "output_type": "execute_result"
    }
   ],
   "source": [
    "fixedRewBernoulli(a=0.35, b=2, p=0.5, E=1)"
   ]
  },
  {
   "cell_type": "code",
   "execution_count": 201,
   "metadata": {},
   "outputs": [],
   "source": [
    "alphas = [0.2, 0.25, 0.3, 0.35, 0.4]\n",
    "betas  = np.arange(1, 4, 0.01)\n",
    "ps     = [0.2, 0.5, 0.8] # using E=1"
   ]
  },
  {
   "cell_type": "code",
   "execution_count": 202,
   "metadata": {},
   "outputs": [
    {
     "data": {
      "text/plain": [
       "(5, 300, 3)"
      ]
     },
     "execution_count": 202,
     "metadata": {},
     "output_type": "execute_result"
    }
   ],
   "source": [
    "theoRes = []\n",
    "for a in alphas:\n",
    "    temp1 = []\n",
    "    for b in betas:\n",
    "        temp2 = []\n",
    "        for p in ps:\n",
    "            temp2.append(fixedRewBernoulli(a=a, b=b, p=p, E=1))\n",
    "        temp1.append(temp2)\n",
    "    theoRes.append(temp1)\n",
    "theoRes = np.array(theoRes)\n",
    "theoRes.shape"
   ]
  },
  {
   "cell_type": "code",
   "execution_count": 205,
   "metadata": {},
   "outputs": [
    {
     "data": {
      "text/plain": [
       "array([1.  , 1.25, 1.5 , 1.75, 2.  , 2.25, 2.5 , 2.75, 3.  , 3.25, 3.5 ,\n",
       "       3.75])"
      ]
     },
     "execution_count": 205,
     "metadata": {},
     "output_type": "execute_result"
    }
   ],
   "source": [
    "simBetas  = np.arange(1, 4, 0.25)\n",
    "simBetas"
   ]
  },
  {
   "cell_type": "code",
   "execution_count": 208,
   "metadata": {},
   "outputs": [
    {
     "name": "stderr",
     "output_type": "stream",
     "text": [
      "100%|██████████| 12/12 [00:38<00:00,  3.18s/it]\n",
      "100%|██████████| 12/12 [00:40<00:00,  3.33s/it]\n",
      "100%|██████████| 12/12 [00:42<00:00,  3.51s/it]\n",
      "100%|██████████| 12/12 [00:38<00:00,  3.23s/it]\n",
      "100%|██████████| 12/12 [00:37<00:00,  3.14s/it]\n"
     ]
    },
    {
     "data": {
      "text/plain": [
       "(5, 12, 3)"
      ]
     },
     "execution_count": 208,
     "metadata": {},
     "output_type": "execute_result"
    }
   ],
   "source": [
    "simsRes = []\n",
    "for a in alphas:\n",
    "    temp1 = []\n",
    "    for b in tqdm(simBetas):\n",
    "        temp2 = []\n",
    "        for p in ps:\n",
    "            hb, ab = simFixedRewardBernoulli(a=a, b=b, p=p, E=1, n=int(1e5))\n",
    "            temp2.append(ab/(ab+hb))\n",
    "        temp1.append(temp2)\n",
    "    simsRes.append(temp1)\n",
    "simsRes = np.array(simsRes)\n",
    "simsRes.shape"
   ]
  },
  {
   "cell_type": "code",
   "execution_count": 218,
   "metadata": {},
   "outputs": [
    {
     "data": {
      "image/png": "[encoded data removed]",
      "text/plain": [
       "<Figure size 1008x288 with 3 Axes>"
      ]
     },
     "metadata": {
      "needs_background": "light"
     },
     "output_type": "display_data"
    }
   ],
   "source": [
    "f, axarr = plt.subplots(ncols=3, figsize=(14,4))\n",
    "\n",
    "colors = ['maroon', 'lightseagreen', 'darkmagenta', 'peru', 'dodgerblue'] \n",
    "for i in range(3):\n",
    "    ax = axarr[i]\n",
    "    for j,a in enumerate(alphas):\n",
    "        ax.plot(betas, theoRes[j,:,i], linewidth=1, color=colors[j], label=r'$\\alpha$={:0.2f} theo'.format(a))\n",
    "        \n",
    "for i in range(3):\n",
    "    ax = axarr[i]\n",
    "    for j,a in enumerate(alphas):\n",
    "        ax.plot(simBetas, simsRes[j,:,i], marker='o', color=colors[j], linestyle='none', fillstyle='none',\n",
    "                label=r'$\\alpha$={:0.2f} sim'.format(a))\n",
    "        \n",
    "        \n",
    "for i, ax in enumerate(axarr):\n",
    "    ax.grid(alpha=0.2)\n",
    "    ax.set_xlabel(r'$\\beta$', size=14)\n",
    "    ax.set_title(r'$p=${:0.2f}'.format(ps[i]))\n",
    "\n",
    "axarr[1].legend(bbox_to_anchor=(0.95, -0.2), ncol=2)\n",
    "axarr[0].set_ylabel(r'fixed rewards', size=14)\n",
    "plt.savefig('out.png', dpi=150, bbox_inches='tight', facecolor='white')\n",
    "plt.show()"
   ]
  },
  {
   "cell_type": "code",
   "execution_count": null,
   "metadata": {},
   "outputs": [],
   "source": []
  },
  {
   "cell_type": "code",
   "execution_count": null,
   "metadata": {},
   "outputs": [],
   "source": []
  },
  {
   "cell_type": "code",
   "execution_count": null,
   "metadata": {},
   "outputs": [],
   "source": []
  },
  {
   "cell_type": "code",
   "execution_count": null,
   "metadata": {},
   "outputs": [],
   "source": []
  },
  {
   "cell_type": "code",
   "execution_count": null,
   "metadata": {},
   "outputs": [],
   "source": []
  },
  {
   "cell_type": "code",
   "execution_count": null,
   "metadata": {},
   "outputs": [],
   "source": []
  },
  {
   "cell_type": "code",
   "execution_count": null,
   "metadata": {},
   "outputs": [],
   "source": []
  },
  {
   "cell_type": "code",
   "execution_count": 3,
   "metadata": {},
   "outputs": [
    {
     "data": {
      "text/latex": [
       "$\\displaystyle \\frac{p_{1} e^{- b}}{1 - e^{- b}}$"
      ],
      "text/plain": [
       "p_1*exp(-b)/(1 - exp(-b))"
      ]
     },
     "execution_count": 3,
     "metadata": {},
     "output_type": "execute_result"
    }
   ],
   "source": [
    "f0p0high = p1 / (1-sp.exp(-b)) * sp.integrate(sp.exp(-x), (x, b, sp.oo))\n",
    "f0p0high"
   ]
  },
  {
   "cell_type": "code",
   "execution_count": 4,
   "metadata": {},
   "outputs": [
    {
     "data": {
      "text/latex": [
       "$\\displaystyle \\frac{b \\left(- a^{2} g p_{1} + a^{2} p_{1} + 2 a g p_{1} - 2 a p_{1} - g p_{1} + p_{1}\\right)}{e^{b} - 1} + \\begin{cases} - \\frac{- a^{2} g p_{1} e^{b} + a^{2} p_{1} e^{b} + 2 a g p_{1} e^{b} - 2 a p_{1} e^{b} - g p_{1} e^{b}}{e^{b} - 1} + \\frac{\\left(- a^{2} g p_{1} e^{b} + a^{2} p_{1} e^{b} + 2 a g p_{1} e^{b} - 2 a p_{1} e^{b} - g p_{1} e^{b}\\right) e^{- b}}{e^{b} - 1} & \\text{for}\\: b \\neq 0 \\\\b \\left(- \\frac{- a^{2} g p_{1} + a^{2} p_{1} + 2 a g p_{1} - 2 a p_{1} - g p_{1} + p_{1}}{e^{b} - 1} + \\frac{a^{2} g p_{1} e^{b} - a^{2} g p_{1} - a^{2} p_{1} e^{b} + a^{2} p_{1} - 2 a g p_{1} e^{b} + 2 a g p_{1} + 2 a p_{1} e^{b} - 2 a p_{1} + g p_{1} e^{b} - g p_{1} + p_{1}}{e^{b} - 1}\\right) & \\text{otherwise} \\end{cases}$"
      ],
      "text/plain": [
       "b*(-a**2*g*p_1 + a**2*p_1 + 2*a*g*p_1 - 2*a*p_1 - g*p_1 + p_1)/(exp(b) - 1) + Piecewise((-(-a**2*g*p_1*exp(b) + a**2*p_1*exp(b) + 2*a*g*p_1*exp(b) - 2*a*p_1*exp(b) - g*p_1*exp(b))/(exp(b) - 1) + (-a**2*g*p_1*exp(b) + a**2*p_1*exp(b) + 2*a*g*p_1*exp(b) - 2*a*p_1*exp(b) - g*p_1*exp(b))*exp(-b)/(exp(b) - 1), Ne(b, 0)), (b*(-(-a**2*g*p_1 + a**2*p_1 + 2*a*g*p_1 - 2*a*p_1 - g*p_1 + p_1)/(exp(b) - 1) + (a**2*g*p_1*exp(b) - a**2*g*p_1 - a**2*p_1*exp(b) + a**2*p_1 - 2*a*g*p_1*exp(b) + 2*a*g*p_1 + 2*a*p_1*exp(b) - 2*a*p_1 + g*p_1*exp(b) - g*p_1 + p_1)/(exp(b) - 1)), True))"
      ]
     },
     "execution_count": 4,
     "metadata": {},
     "output_type": "execute_result"
    }
   ],
   "source": [
    "integrand = p1 * sp.exp(-x) * (sp.exp(-b+x) + a*(1-sp.exp(-b+x)) + (1-a)*(1-sp.exp(-b+x))*(a+(1-a)*g)) / (1-sp.exp(-b))\n",
    "f0p0low = sp.integrate(integrand, (x,0,b))\n",
    "f0p0low"
   ]
  },
  {
   "cell_type": "code",
   "execution_count": 5,
   "metadata": {},
   "outputs": [
    {
     "data": {
      "text/latex": [
       "$\\displaystyle \\frac{2 a^{2} p_{1}}{1 - 2 a}$"
      ],
      "text/plain": [
       "2*a**2*p_1/(1 - 2*a)"
      ]
     },
     "execution_count": 5,
     "metadata": {},
     "output_type": "execute_result"
    }
   ],
   "source": [
    "f0pp0p     = a*(1-a)*p1\n",
    "f0ppp0pp   = a**2*p1\n",
    "f1p1       = a*(2-a)*p1\n",
    "fRestpRest = p1*2*(1-a)*a**2 / ((1-a)*(1-2*a))\n",
    "fRestpRest"
   ]
  },
  {
   "cell_type": "code",
   "execution_count": 6,
   "metadata": {},
   "outputs": [
    {
     "data": {
      "text/latex": [
       "$\\displaystyle \\begin{cases} - \\frac{p_{1} \\cdot \\left(2 a^{2} \\left(e^{b} - 1\\right) + \\left(2 a - 1\\right) \\left(b \\left(a^{2} g - a^{2} - 2 a g + 2 a + g - 1\\right) - 1\\right) - \\left(2 a - 1\\right) \\left(e^{b} - 1\\right) \\left(a^{2} g - 2 a g - a \\left(a - 2\\right) - a \\left(a - 1\\right) + 2 a + g\\right)\\right)}{\\left(2 a - 1\\right) \\left(e^{b} - 1\\right)} & \\text{for}\\: b > 0 \\vee b < 0 \\\\- \\frac{p_{1} \\cdot \\left(2 a^{2} \\left(e^{b} - 1\\right) + \\left(2 a - 1\\right) \\left(b \\left(a^{2} g - a^{2} - 2 a g + 2 a + g - 1\\right) - 1\\right) + \\left(2 a - 1\\right) \\left(a \\left(1 - e^{b}\\right) \\left(3 - a\\right) - b \\left(a^{2} g - a^{2} - 2 a g + 2 a + g\\right) e^{b}\\right)\\right)}{\\left(2 a - 1\\right) \\left(e^{b} - 1\\right)} & \\text{otherwise} \\end{cases}$"
      ],
      "text/plain": [
       "Piecewise((-p_1*(2*a**2*(exp(b) - 1) + (2*a - 1)*(b*(a**2*g - a**2 - 2*a*g + 2*a + g - 1) - 1) - (2*a - 1)*(exp(b) - 1)*(a**2*g - 2*a*g - a*(a - 2) - a*(a - 1) + 2*a + g))/((2*a - 1)*(exp(b) - 1)), (b > 0) | (b < 0)), (-p_1*(2*a**2*(exp(b) - 1) + (2*a - 1)*(b*(a**2*g - a**2 - 2*a*g + 2*a + g - 1) - 1) + (2*a - 1)*(a*(1 - exp(b))*(3 - a) - b*(a**2*g - a**2 - 2*a*g + 2*a + g)*exp(b)))/((2*a - 1)*(exp(b) - 1)), True))"
      ]
     },
     "execution_count": 6,
     "metadata": {},
     "output_type": "execute_result"
    }
   ],
   "source": [
    "full = f0p0low + f0p0high + f0pp0p + f0ppp0pp + f1p1 + fRestpRest\n",
    "full = sp.simplify(full)\n",
    "full"
   ]
  },
  {
   "cell_type": "code",
   "execution_count": 7,
   "metadata": {},
   "outputs": [],
   "source": [
    "p0pp  = a*p1\n",
    "p0p   = (1-a)*p1\n",
    "p0    = p1 / (a*(1-sp.exp(-b)))\n",
    "pRest = (1-a)*a/((1-a)*(1-2*a)) * p1"
   ]
  },
  {
   "cell_type": "code",
   "execution_count": 8,
   "metadata": {},
   "outputs": [
    {
     "data": {
      "text/latex": [
       "$\\displaystyle \\frac{a \\left(2 a e^{b} - 2 a - e^{b} + 1\\right)}{3 a^{2} e^{b} - 3 a^{2} + 2 a - e^{b}}$"
      ],
      "text/plain": [
       "a*(2*a*exp(b) - 2*a - exp(b) + 1)/(3*a**2*exp(b) - 3*a**2 + 2*a - exp(b))"
      ]
     },
     "execution_count": 8,
     "metadata": {},
     "output_type": "execute_result"
    }
   ],
   "source": [
    "p1solved = sp.solve(sp.Eq(p0 + p0p + p0pp + p1 + pRest, 1), p1)[0]\n",
    "p1solved"
   ]
  },
  {
   "cell_type": "code",
   "execution_count": 9,
   "metadata": {},
   "outputs": [
    {
     "data": {
      "text/latex": [
       "$\\displaystyle \\begin{cases} \\frac{a \\left(- 2.0 a^{2} \\left(e^{b} - 1\\right) - \\left(2.0 a - 1.0\\right) \\left(b \\left(a^{2} g - a^{2} - 2.0 a g + 2.0 a + g - 1.0\\right) - 1.0\\right) + \\left(2.0 a - 1.0\\right) \\left(e^{b} - 1.0\\right) \\left(a^{2} g - 2.0 a g - a \\left(a - 2.0\\right) - a \\left(a - 1.0\\right) + 2.0 a + g\\right)\\right) \\left(2.0 a e^{b} - 2.0 a - e^{b} + 1.0\\right)}{\\left(2.0 a - 1.0\\right) \\left(e^{b} - 1.0\\right) \\left(3.0 a^{2} e^{b} - 3.0 a^{2} + 2.0 a - e^{b}\\right)} & \\text{for}\\: b > 0 \\vee b < 0 \\\\- \\frac{a \\left(2.0 a^{2} \\left(e^{b} - 1\\right) + \\left(2.0 a - 1.0\\right) \\left(b \\left(a^{2} g - a^{2} - 2.0 a g + 2.0 a + g - 1.0\\right) - 1.0\\right) + \\left(2.0 a - 1.0\\right) \\left(a \\left(a - 3.0\\right) \\left(e^{b} - 1.0\\right) - b \\left(a^{2} g - a^{2} - 2.0 a g + 2.0 a + g\\right) e^{b}\\right)\\right) \\left(2.0 a e^{b} - 2.0 a - e^{b} + 1.0\\right)}{\\left(2.0 a - 1.0\\right) \\left(e^{b} - 1.0\\right) \\left(3.0 a^{2} e^{b} - 3.0 a^{2} + 2.0 a - e^{b}\\right)} & \\text{otherwise} \\end{cases}$"
      ],
      "text/plain": [
       "Piecewise((a*(-2.0*a**2*(exp(b) - 1) - (2.0*a - 1.0)*(b*(a**2*g - a**2 - 2.0*a*g + 2.0*a + g - 1.0) - 1.0) + (2.0*a - 1.0)*(exp(b) - 1.0)*(a**2*g - 2.0*a*g - a*(a - 2.0) - a*(a - 1.0) + 2.0*a + g))*(2.0*a*exp(b) - 2.0*a - exp(b) + 1.0)/((2.0*a - 1.0)*(exp(b) - 1.0)*(3.0*a**2*exp(b) - 3.0*a**2 + 2.0*a - exp(b))), (b > 0) | (b < 0)), (-a*(2.0*a**2*(exp(b) - 1) + (2.0*a - 1.0)*(b*(a**2*g - a**2 - 2.0*a*g + 2.0*a + g - 1.0) - 1.0) + (2.0*a - 1.0)*(a*(a - 3.0)*(exp(b) - 1.0) - b*(a**2*g - a**2 - 2.0*a*g + 2.0*a + g)*exp(b)))*(2.0*a*exp(b) - 2.0*a - exp(b) + 1.0)/((2.0*a - 1.0)*(exp(b) - 1.0)*(3.0*a**2*exp(b) - 3.0*a**2 + 2.0*a - exp(b))), True))"
      ]
     },
     "execution_count": 9,
     "metadata": {},
     "output_type": "execute_result"
    }
   ],
   "source": [
    "final = sp.simplify(full.evalf(subs={p1:p1solved}))\n",
    "final"
   ]
  },
  {
   "cell_type": "code",
   "execution_count": 10,
   "metadata": {},
   "outputs": [
    {
     "data": {
      "text/plain": [
       "<function _lambdifygenerated(a, b, g)>"
      ]
     },
     "execution_count": 10,
     "metadata": {},
     "output_type": "execute_result"
    }
   ],
   "source": [
    "finalLambda = sp.lambdify((a, b, g), final)\n",
    "finalLambda"
   ]
  },
  {
   "cell_type": "code",
   "execution_count": 11,
   "metadata": {},
   "outputs": [],
   "source": [
    "def Carlsten(alpha, beta, gamma=0):\n",
    "    num1 = 1 + (beta * np.power(1-alpha,2) * (1-gamma))\n",
    "    den1 = np.exp(beta) - 1\n",
    "    exp1 = num1 / den1\n",
    "    \n",
    "    exp2 = exp1 + (5 * alpha) + (np.power(1-alpha, 2) * gamma) \n",
    "    exp3 = (2 * np.power(alpha, 2)) / (1-2 * alpha) - (2 * np.power(alpha,2))\n",
    "    \n",
    "    exp4 = exp2 + exp3\n",
    "    \n",
    "    num2 = alpha * (1-2*alpha) * (1 - np.exp(-beta))\n",
    "    den2 = 1 - 2 * np.exp(-beta) * alpha - 3 * (1 - np.exp(-beta)) * np.power(alpha,2)\n",
    "    \n",
    "    exp5 = num2 / den2\n",
    "    \n",
    "    return exp4 * exp5"
   ]
  },
  {
   "cell_type": "code",
   "execution_count": 16,
   "metadata": {},
   "outputs": [],
   "source": [
    "alpha  = 0.33\n",
    "betas  = np.arange(0.1, 10, 0.01)\n",
    "gammas = [0., 0.5, 1.]\n",
    "\n",
    "resMines = []\n",
    "resTheir = []\n",
    "for g in gammas:\n",
    "    resMines.append(finalLambda(alpha, betas, g))\n",
    "    resTheir.append(Carlsten(alpha, betas, g))"
   ]
  },
  {
   "cell_type": "code",
   "execution_count": 17,
   "metadata": {},
   "outputs": [
    {
     "data": {
      "image/png": "[encoded data removed]",
      "text/plain": [
       "<Figure size 648x432 with 1 Axes>"
      ]
     },
     "metadata": {
      "needs_background": "light"
     },
     "output_type": "display_data"
    }
   ],
   "source": [
    "f, ax = plt.subplots(figsize=(9,6))\n",
    "\n",
    "colors = ['goldenrod', 'mediumseagreen', 'mediumvioletred']\n",
    "for i in [0, 1, 2]:\n",
    "    ax.plot(betas, resTheir[i], color=colors[i], alpha=0.2,\n",
    "            label='$\\gamma={:0.1f}$, theirs'.format(gammas[i]), \n",
    "            linestyle='-', linewidth=5)\n",
    "    ax.plot(betas, resMines[i], color='k', alpha=1, \n",
    "            label='$\\gamma={:0.1f}$, mine'.format(gammas[i]),\n",
    "            linestyle='dotted', linewidth=2)\n",
    "\n",
    "\n",
    "ax.set_xlabel(r'$\\beta$', size=15)\n",
    "ax.set_ylabel(r'proportion of rewards', size=15)\n",
    "ax.grid(alpha=0.2)\n",
    "ax.legend(bbox_to_anchor=(1,.95))\n",
    "\n",
    "# plt.savefig('out.png', dpi=400, bbox_inches='tight', facecolor='white')\n",
    "plt.show()"
   ]
  },
  {
   "cell_type": "code",
   "execution_count": null,
   "metadata": {},
   "outputs": [],
   "source": []
  }
 ],
 "metadata": {
  "kernelspec": {
   "display_name": "Python 3",
   "language": "python",
   "name": "python3"
  },
  "language_info": {
   "codemirror_mode": {
    "name": "ipython",
    "version": 3
   },
   "file_extension": ".py",
   "mimetype": "text/x-python",
   "name": "python",
   "nbconvert_exporter": "python",
   "pygments_lexer": "ipython3",
   "version": "3.8.16"
  }
 },
 "nbformat": 4,
 "nbformat_minor": 4
}
