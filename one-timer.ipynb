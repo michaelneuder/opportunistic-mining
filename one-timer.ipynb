{
 "cells": [
  {
   "cell_type": "code",
   "execution_count": 1,
   "metadata": {},
   "outputs": [],
   "source": [
    "import matplotlib.pyplot as plt\n",
    "import matplotlib.patches as mpatches\n",
    "import numpy as np\n",
    "from scipy.optimize import minimize\n",
    "import pandas as pd\n",
    "from scipy.stats import poisson, uniform, expon, pareto\n",
    "from tqdm import tqdm\n",
    "from mdptoolbox import mdp, util\n",
    "import itertools\n",
    "from scipy.sparse import csr_matrix, lil_matrix\n",
    "from matplotlib.patches import Patch\n",
    "import math\n",
    "import random\n",
    "import sympy as sp\n",
    "from sympy.printing.latex import print_latex"
   ]
  },
  {
   "cell_type": "markdown",
   "metadata": {},
   "source": [
    "# sim for avg. block length\n",
    "- sim the markov chain\n",
    "- for state 2, check that the average amount of time until the next attacker block is \n",
    "\n",
    "$\\alpha \\cdot \\lambda + (1-\\alpha)\\alpha\\cdot2\\lambda $"
   ]
  },
  {
   "cell_type": "code",
   "execution_count": 6,
   "metadata": {},
   "outputs": [],
   "source": [
    "alpha, beta, gamma = 0.3, 1., 0.0"
   ]
  },
  {
   "cell_type": "code",
   "execution_count": 18,
   "metadata": {},
   "outputs": [
    {
     "data": {
      "text/plain": [
       "array([1., 1., 1., 1., 1., 1., 1., 1., 1., 1., 1., 1., 1., 1., 1., 1., 1.,\n",
       "       1., 1., 1., 1., 1., 1., 1., 1., 1., 1., 1., 1., 1., 1., 1., 1., 1.,\n",
       "       1., 1., 1., 1., 1., 1., 1., 1., 1., 1., 1., 1., 1., 1., 1., 0.])"
      ]
     },
     "execution_count": 18,
     "metadata": {},
     "output_type": "execute_result"
    }
   ],
   "source": [
    "# 0 = 0, 0' = 1, 0'' = 2, 1 = 3, 2 = 4, ... \n",
    "markov = np.zeros(shape=(50,50))\n",
    "\n",
    "# state 0\n",
    "markov[0,0] = (1-alpha) + alpha*np.exp(-beta)\n",
    "markov[0,3] = alpha*(1-np.exp(-beta))\n",
    "\n",
    "# state 0'\n",
    "markov[1,0] = 1\n",
    "\n",
    "# state 0''\n",
    "markov[2,0] = 1\n",
    "\n",
    "# state 1\n",
    "markov[3,1] = 1-alpha\n",
    "markov[3,4] = alpha\n",
    "\n",
    "# state 2\n",
    "markov[4,2] = 1-alpha\n",
    "markov[4,5] = alpha\n",
    "\n",
    "for i in range(5,49):\n",
    "    markov[i,i-1] = 1-alpha\n",
    "    markov[i,i+1] = alpha\n",
    "\n",
    "np.sum(markov, axis=1)"
   ]
  },
  {
   "cell_type": "code",
   "execution_count": 178,
   "metadata": {},
   "outputs": [
    {
     "name": "stderr",
     "output_type": "stream",
     "text": [
      "100%|██████████| 1000000/1000000 [00:17<00:00, 58745.79it/s]\n"
     ]
    },
    {
     "data": {
      "text/plain": [
       "array([0, 0, 0, ..., 0, 3, 4])"
      ]
     },
     "execution_count": 178,
     "metadata": {},
     "output_type": "execute_result"
    }
   ],
   "source": [
    "states   = np.arange(50)\n",
    "curState = 0\n",
    "transcript = []\n",
    "blkTimes   = []\n",
    "zeroPrimes = {}\n",
    "zeroP2s    = {}\n",
    "for i in tqdm(range(int(1e6))):\n",
    "    \n",
    "    nextState = np.random.choice(states, p=markov[curState])\n",
    "    blockTime = np.random.exponential()\n",
    "    transcript.append(nextState)\n",
    "    blkTimes.append(blockTime)\n",
    "\n",
    "    if curState == 1: # 0'\n",
    "        assert(nextState == 0)\n",
    "        attBlock     = np.random.binomial(1, alpha)\n",
    "        blockTime    = np.random.exponential()\n",
    "        zeroPrimes[i] = [attBlock, blockTime]\n",
    "    if curState == 2: # 0''\n",
    "        assert(nextState == 0)\n",
    "        attBlock   = np.random.binomial(1, alpha)\n",
    "        blockTime  = np.random.exponential()\n",
    "        zeroP2s[i] = [attBlock, blockTime]       \n",
    "    curState = nextState\n",
    "    \n",
    "transcript = np.asarray(transcript)\n",
    "blkTimes = np.asarray(blkTimes)\n",
    "transcript"
   ]
  },
  {
   "cell_type": "code",
   "execution_count": 179,
   "metadata": {},
   "outputs": [
    {
     "data": {
      "text/plain": [
       "0.7211903040442489"
      ]
     },
     "execution_count": 179,
     "metadata": {},
     "output_type": "execute_result"
    }
   ],
   "source": [
    "times = []\n",
    "for i, val in enumerate(transcript[:-2]):\n",
    "    if transcript[i] == 4 and transcript[i-1] == 3:\n",
    "        if transcript[i+1] == 5:\n",
    "            times.append(blkTimes[i+1])\n",
    "        else:\n",
    "            assert(transcript[i+1] == 2)\n",
    "            attBlock, blockTime = zeroP2s[i+2]\n",
    "            if attBlock:\n",
    "                times.append(blkTimes[i+1] + blockTime)\n",
    "            else:\n",
    "                times.append(0)\n",
    "times = np.array(times)\n",
    "np.mean(times)"
   ]
  },
  {
   "cell_type": "code",
   "execution_count": 172,
   "metadata": {},
   "outputs": [
    {
     "data": {
      "text/plain": [
       "0.72"
      ]
     },
     "execution_count": 172,
     "metadata": {},
     "output_type": "execute_result"
    }
   ],
   "source": [
    "alpha + (1-alpha)*alpha*2"
   ]
  },
  {
   "cell_type": "code",
   "execution_count": null,
   "metadata": {},
   "outputs": [],
   "source": []
  },
  {
   "cell_type": "code",
   "execution_count": null,
   "metadata": {},
   "outputs": [],
   "source": []
  },
  {
   "cell_type": "code",
   "execution_count": null,
   "metadata": {},
   "outputs": [],
   "source": []
  },
  {
   "cell_type": "code",
   "execution_count": null,
   "metadata": {},
   "outputs": [],
   "source": []
  },
  {
   "cell_type": "code",
   "execution_count": null,
   "metadata": {},
   "outputs": [],
   "source": []
  },
  {
   "cell_type": "code",
   "execution_count": null,
   "metadata": {},
   "outputs": [],
   "source": []
  },
  {
   "cell_type": "code",
   "execution_count": null,
   "metadata": {},
   "outputs": [],
   "source": []
  },
  {
   "cell_type": "code",
   "execution_count": 126,
   "metadata": {},
   "outputs": [
    {
     "data": {
      "text/plain": [
       "0.9987869497789296"
      ]
     },
     "execution_count": 126,
     "metadata": {},
     "output_type": "execute_result"
    }
   ],
   "source": [
    "np.mean(np.random.exponential(size=10000))"
   ]
  },
  {
   "cell_type": "code",
   "execution_count": null,
   "metadata": {},
   "outputs": [],
   "source": []
  },
  {
   "cell_type": "code",
   "execution_count": 102,
   "metadata": {},
   "outputs": [
    {
     "data": {
      "text/plain": [
       "[1, 0.018453481021762034]"
      ]
     },
     "execution_count": 102,
     "metadata": {},
     "output_type": "execute_result"
    }
   ],
   "source": [
    "zeroP2s[6]"
   ]
  },
  {
   "cell_type": "markdown",
   "metadata": {},
   "source": [
    "```\n",
    "0 = 0\n",
    "1 = 0'\n",
    "2 = 0''\n",
    "3 = 1\n",
    "4 = 2\n",
    "5 = 3\n",
    "```"
   ]
  },
  {
   "cell_type": "code",
   "execution_count": null,
   "metadata": {},
   "outputs": [],
   "source": []
  },
  {
   "cell_type": "code",
   "execution_count": null,
   "metadata": {},
   "outputs": [],
   "source": [
    "def sim(alpha, gamma, beta, n=int(1e5)):\n",
    "    state      = [0,0] # (attacker, honest)\n",
    "    transcript = []\n",
    "    times      = []\n",
    "    for _ in range(n):\n",
    "        attBlock  = np.random.binomial(1, alpha)\n",
    "        blockTime = np.random.exponential()\n",
    "\n",
    "        if state == [0,0]:\n",
    "            if attBlock:\n",
    "                if execRews < beta:\n",
    "                    state = [1,0]\n",
    "                    transcript.append(1)\n",
    "                    times.append(blockTime)\n",
    "                else:\n",
    "                    transcript.append(0)\n",
    "                    times.append(blockTime)\n",
    "            else:\n",
    "                transcript.append(0)\n",
    "                times.append(blockTime)\n",
    "            continue\n",
    "\n",
    "        if state == [1,0]:\n",
    "            if attBlock:\n",
    "                state = [2,0]\n",
    "                transcript.append(2)\n",
    "                times.append(blockTime)\n",
    "            # 0' state\n",
    "            else:\n",
    "                transcript.append(-1)\n",
    "                times.append(blockTime)\n",
    "                sample         = np.random.uniform()\n",
    "                nextBlockTime  = np.random.exponential()\n",
    "                if sample < alpha:\n",
    "                    pass\n",
    "                elif sample <= alpha + ((1-alpha)*gamma):\n",
    "                    pass\n",
    "                else:\n",
    "                    pass\n",
    "                state = [0,0]\n",
    "                transcript.append(0)\n",
    "                times.append(nextBlockTime)\n",
    "            continue\n",
    "\n",
    "        if attBlock:\n",
    "            state[0] += 1\n",
    "            transcript.append(state[0]-state[1])\n",
    "            times.append(blockTime)\n",
    "        else:\n",
    "            state[1] += 1\n",
    "            transcript.append(state[0]-state[1])\n",
    "            times.append(blockTime)\n",
    "            \n",
    "        \n",
    "\n",
    "        diff = state[0] - state[1]\n",
    "        if diff == 1:\n",
    "            # 0'' state\n",
    "            attBlock  = np.random.binomial(1, alpha)\n",
    "            blockTime = np.random.exponential()\n",
    "            if attBlock:\n",
    "                pass\n",
    "            else:\n",
    "                pass\n",
    "            state = [0,0]\n",
    "    return"
   ]
  }
 ],
 "metadata": {
  "kernelspec": {
   "display_name": "Python 3",
   "language": "python",
   "name": "python3"
  },
  "language_info": {
   "codemirror_mode": {
    "name": "ipython",
    "version": 3
   },
   "file_extension": ".py",
   "mimetype": "text/x-python",
   "name": "python",
   "nbconvert_exporter": "python",
   "pygments_lexer": "ipython3",
   "version": "3.8.16"
  }
 },
 "nbformat": 4,
 "nbformat_minor": 4
}
