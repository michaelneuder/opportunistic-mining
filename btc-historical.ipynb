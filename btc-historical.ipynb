{
 "cells": [
  {
   "cell_type": "code",
   "execution_count": 49,
   "metadata": {},
   "outputs": [],
   "source": [
    "import matplotlib.pyplot as plt\n",
    "import matplotlib as mpl\n",
    "import matplotlib.patches as mpatches\n",
    "import numpy as np\n",
    "import pandas as pd\n",
    "import cvxpy as cp\n",
    "from scipy.stats import poisson, uniform, expon, pareto\n",
    "from scipy.optimize import minimize, fsolve\n",
    "from tqdm import tqdm\n",
    "from mdptoolbox import mdp, util\n",
    "import itertools\n",
    "from scipy.sparse import csr_matrix, lil_matrix\n",
    "from matplotlib.patches import Patch\n",
    "import math\n",
    "import random\n",
    "import sympy as sp\n",
    "from sympy.printing.latex import print_latex\n",
    "import requests\n",
    "import json\n",
    "import time\n",
    "import csv"
   ]
  },
  {
   "cell_type": "code",
   "execution_count": 3,
   "metadata": {},
   "outputs": [],
   "source": [
    "start_block_height = 500000\n",
    "end_block_height   = 800000\n",
    "batch_size         = 10"
   ]
  },
  {
   "cell_type": "code",
   "execution_count": 5,
   "metadata": {},
   "outputs": [
    {
     "data": {
      "text/plain": [
       "500000"
      ]
     },
     "execution_count": 5,
     "metadata": {},
     "output_type": "execute_result"
    }
   ],
   "source": [
    "500000"
   ]
  },
  {
   "cell_type": "code",
   "execution_count": null,
   "metadata": {},
   "outputs": [],
   "source": [
    "https://api.blockchair.com/bitcoin/blocks?q=id(499999..500099)&limit=100"
   ]
  },
  {
   "cell_type": "code",
   "execution_count": 6,
   "metadata": {},
   "outputs": [],
   "source": [
    "url = f\"https://api.blockchair.com/bitcoin/blocks?q=id(499999..500099)&limit=100\"\n",
    "response = requests.get(url)"
   ]
  },
  {
   "cell_type": "code",
   "execution_count": 11,
   "metadata": {},
   "outputs": [
    {
     "data": {
      "text/plain": [
       "100"
      ]
     },
     "execution_count": 11,
     "metadata": {},
     "output_type": "execute_result"
    }
   ],
   "source": [
    "len(response.json()['data'])"
   ]
  },
  {
   "cell_type": "code",
   "execution_count": 26,
   "metadata": {},
   "outputs": [
    {
     "data": {
      "text/plain": [
       "(500000, '2017-12-18 18:35:25', 339351625, 1250000000)"
      ]
     },
     "execution_count": 26,
     "metadata": {},
     "output_type": "execute_result"
    }
   ],
   "source": [
    "(\n",
    "    response.json()['data'][-1]['id'], \n",
    "    response.json()['data'][-1]['time'], \n",
    "    response.json()['data'][-1]['fee_total'], \n",
    "    response.json()['data'][-1]['generation'],\n",
    ")"
   ]
  },
  {
   "cell_type": "code",
   "execution_count": 22,
   "metadata": {},
   "outputs": [
    {
     "data": {
      "text/plain": [
       "array([499999, 500099, 500199, 500299])"
      ]
     },
     "execution_count": 22,
     "metadata": {},
     "output_type": "execute_result"
    }
   ],
   "source": [
    "blockRanges = np.arange(499999, 859726, 100)\n",
    "blockRanges[0:4]"
   ]
  },
  {
   "cell_type": "code",
   "execution_count": 31,
   "metadata": {},
   "outputs": [],
   "source": [
    "url = 'https://api.blockchair.com/bitcoin/blocks?q=id({}..{})&limit=100'.format(start, end)\n",
    "response = requests.get(url)"
   ]
  },
  {
   "cell_type": "code",
   "execution_count": 51,
   "metadata": {},
   "outputs": [
    {
     "data": {
      "text/plain": [
       "array([665399, 665499, 665599, 665699])"
      ]
     },
     "execution_count": 51,
     "metadata": {},
     "output_type": "execute_result"
    }
   ],
   "source": [
    "newRanges = np.arange(665399, 859726, 100)\n",
    "newRanges[0:4]"
   ]
  },
  {
   "cell_type": "code",
   "execution_count": 52,
   "metadata": {},
   "outputs": [
    {
     "name": "stderr",
     "output_type": "stream",
     "text": [
      " 90%|█████████ | 1754/1944 [27:33<02:59,  1.06it/s]"
     ]
    },
    {
     "name": "stdout",
     "output_type": "stream",
     "text": [
      "<Response [432]>\n"
     ]
    },
    {
     "name": "stderr",
     "output_type": "stream",
     "text": [
      "\n"
     ]
    }
   ],
   "source": [
    "res = []\n",
    "for i in tqdm(range(len(newRanges))):\n",
    "    start, end = newRanges[i], newRanges[i+1]\n",
    "    url = 'https://api.blockchair.com/bitcoin/blocks?q=id({}..{})&limit=100&key=NOPENOTTODAYXD'.format(start, end)\n",
    "    response = requests.get(url)\n",
    "    if response.status_code != 200:\n",
    "        print(response)\n",
    "        break\n",
    "    data = response.json()['data']\n",
    "    if len(data) != 100:\n",
    "        print(data)\n",
    "        break\n",
    "    \n",
    "    for j in range(len(data)):\n",
    "        id_       = data[j]['id']\n",
    "        timestamp = data[j]['time']\n",
    "        fee       = data[j]['fee_total']\n",
    "        blockrew  = data[j]['generation']\n",
    "        res.append((id_, timestamp, fee, blockrew))\n",
    "    time.sleep(0.2)"
   ]
  },
  {
   "cell_type": "code",
   "execution_count": 53,
   "metadata": {},
   "outputs": [],
   "source": [
    "sortedOut = sorted(res, key=lambda x: x[0])"
   ]
  },
  {
   "cell_type": "code",
   "execution_count": 47,
   "metadata": {},
   "outputs": [
    {
     "data": {
      "text/plain": [
       "[(665390, '2021-01-10 08:31:56', 27651681, 625000000),\n",
       " (665391, '2021-01-10 08:34:59', 32710904, 625000000),\n",
       " (665392, '2021-01-10 08:44:16', 40685876, 625000000),\n",
       " (665393, '2021-01-10 08:51:49', 40673228, 625000000),\n",
       " (665394, '2021-01-10 09:12:33', 85040585, 625000000),\n",
       " (665395, '2021-01-10 09:25:02', 55588537, 625000000),\n",
       " (665396, '2021-01-10 09:38:21', 60989980, 625000000),\n",
       " (665397, '2021-01-10 09:50:47', 52323571, 625000000),\n",
       " (665398, '2021-01-10 10:02:18', 95345152, 625000000),\n",
       " (665399, '2021-01-10 10:12:49', 61779496, 625000000)]"
      ]
     },
     "execution_count": 47,
     "metadata": {},
     "output_type": "execute_result"
    }
   ],
   "source": [
    "sortedOut[-10:]"
   ]
  },
  {
   "cell_type": "code",
   "execution_count": 54,
   "metadata": {},
   "outputs": [
    {
     "data": {
      "text/plain": [
       "[(500000, '2017-12-18 18:35:25', 339351625, 1250000000),\n",
       " (500001, '2017-12-18 18:38:05', 363420702, 1250000000),\n",
       " (500002, '2017-12-18 18:41:04', 341013739, 1250000000),\n",
       " (500003, '2017-12-18 18:46:28', 363546598, 1250000000),\n",
       " (500004, '2017-12-18 18:47:21', 289758471, 1250000000),\n",
       " (500005, '2017-12-18 19:05:31', 443780733, 1250000000),\n",
       " (500006, '2017-12-18 19:22:06', 431156971, 1250000000),\n",
       " (500007, '2017-12-18 19:34:15', 434274129, 1250000000),\n",
       " (500008, '2017-12-18 19:33:56', 396853461, 1250000000),\n",
       " (500009, '2017-12-18 19:47:35', 433271130, 1250000000)]"
      ]
     },
     "execution_count": 54,
     "metadata": {},
     "output_type": "execute_result"
    }
   ],
   "source": [
    "sortedOut[:10]"
   ]
  },
  {
   "cell_type": "code",
   "execution_count": 50,
   "metadata": {},
   "outputs": [],
   "source": [
    "file_name = 'height_time_fees_blockrew.csv'\n",
    "\n",
    "# Writing the list of tuples to a CSV file\n",
    "with open(file_name, mode='w', newline='') as file:\n",
    "    writer = csv.writer(file)\n",
    "    \n",
    "    # Write each tuple as a row in the CSV file\n",
    "    for row in sortedOut:\n",
    "        writer.writerow(row)"
   ]
  },
  {
   "cell_type": "code",
   "execution_count": 38,
   "metadata": {},
   "outputs": [
    {
     "data": {
      "text/plain": [
       "{'data': None,\n",
       " 'context': {'code': 402,\n",
       "  'api_usage': {'requests_60s': 31,\n",
       "   'requests_60s_limit': 30,\n",
       "   'requests_60m': 57,\n",
       "   'requests_60m_limit': 1800},\n",
       "  'error': \"You're sending too many requests. Please contact us at info@blockchair.com to increase the limit for you. Сurrent limits are 30 requests per minute and 1800 per hour.\",\n",
       "  'market_price_usd': 57786,\n",
       "  'cache': {'live': True,\n",
       "   'duration': 120,\n",
       "   'since': '2024-09-03 18:18:54',\n",
       "   'until': '2024-09-03 18:20:54',\n",
       "   'time': None},\n",
       "  'api': {'version': '2.0.95-ie',\n",
       "   'last_major_update': '2022-11-07 02:00:00',\n",
       "   'next_major_update': '2023-11-12 02:00:00',\n",
       "   'documentation': 'https://blockchair.com/api/docs',\n",
       "   'notice': 'Try out our new API v.3: https://3xpl.com/data'},\n",
       "  'servers': 'API4',\n",
       "  'time': None,\n",
       "  'render_time': 0.0019161701202392578,\n",
       "  'full_time': 0.0019161701202392578,\n",
       "  'request_cost': 1}}"
      ]
     },
     "execution_count": 38,
     "metadata": {},
     "output_type": "execute_result"
    }
   ],
   "source": [
    "response.json()"
   ]
  },
  {
   "cell_type": "code",
   "execution_count": null,
   "metadata": {},
   "outputs": [],
   "source": []
  },
  {
   "cell_type": "code",
   "execution_count": null,
   "metadata": {},
   "outputs": [],
   "source": []
  },
  {
   "cell_type": "code",
   "execution_count": null,
   "metadata": {},
   "outputs": [],
   "source": []
  },
  {
   "cell_type": "code",
   "execution_count": null,
   "metadata": {},
   "outputs": [],
   "source": []
  },
  {
   "cell_type": "code",
   "execution_count": null,
   "metadata": {},
   "outputs": [],
   "source": []
  },
  {
   "cell_type": "code",
   "execution_count": null,
   "metadata": {},
   "outputs": [],
   "source": []
  },
  {
   "cell_type": "code",
   "execution_count": 4,
   "metadata": {},
   "outputs": [
    {
     "name": "stdout",
     "output_type": "stream",
     "text": [
      "Block 859722: Time 2024-09-03 16:50:36, Fees 3419661 Satoshis\n",
      "Block 859721: Time 2024-09-03 16:48:32, Fees 5602454 Satoshis\n",
      "Block 859720: Time 2024-09-03 16:41:55, Fees 3383504 Satoshis\n",
      "Block 859719: Time 2024-09-03 16:39:43, Fees 4684803 Satoshis\n",
      "Block 859718: Time 2024-09-03 16:37:41, Fees 4045782 Satoshis\n",
      "Block 859717: Time 2024-09-03 16:35:37, Fees 7674875 Satoshis\n",
      "Block 859716: Time 2024-09-03 16:19:31, Fees 5987936 Satoshis\n",
      "Block 859715: Time 2024-09-03 16:14:47, Fees 9995270 Satoshis\n",
      "Block 859714: Time 2024-09-03 15:57:32, Fees 3246577 Satoshis\n",
      "Block 859713: Time 2024-09-03 15:56:04, Fees 5297040 Satoshis\n"
     ]
    }
   ],
   "source": [
    "block_details = []\n",
    "for start in range(start_block_height, end_block_height + 1, batch_size):\n",
    "    end = min(start + batch_size - 1, end_block_height)\n",
    "\n",
    "    try:\n",
    "        # Blockchair API endpoint for batch block details\n",
    "        url = f\"https://api.blockchair.com/bitcoin/blocks?q=id(499999..500099)&limit=100\"\n",
    "        response = requests.get(url)\n",
    "\n",
    "        if response.status_code == 200:\n",
    "            blocks_data = response.json()['data']\n",
    "\n",
    "            for block_data in blocks_data:\n",
    "                block_time = block_data['time']\n",
    "                tx_fees = block_data['fee_total']  # Fees are in Satoshis\n",
    "\n",
    "                block_details.append({\n",
    "                    \"block_height\": block_data['id'],\n",
    "                    \"block_time\": block_time,\n",
    "                    \"transaction_fees\": tx_fees\n",
    "                })\n",
    "\n",
    "                print(f\"Block {block_data['id']}: Time {block_time}, Fees {tx_fees} Satoshis\")\n",
    "\n",
    "        else:\n",
    "            print(f\"Failed to fetch data for blocks {start} to {end}: {response.status_code}\")\n",
    "\n",
    "        # Respect API rate limits\n",
    "        time.sleep(0.5)  # Adjust sleep based on API rate limits\n",
    "\n",
    "    except Exception as e:\n",
    "        print(f\"An error occurred: {e}\")\n",
    "        continue\n",
    "    break"
   ]
  }
 ],
 "metadata": {
  "kernelspec": {
   "display_name": "Python 3",
   "language": "python",
   "name": "python3"
  },
  "language_info": {
   "codemirror_mode": {
    "name": "ipython",
    "version": 3
   },
   "file_extension": ".py",
   "mimetype": "text/x-python",
   "name": "python",
   "nbconvert_exporter": "python",
   "pygments_lexer": "ipython3",
   "version": "3.8.16"
  }
 },
 "nbformat": 4,
 "nbformat_minor": 4
}
