{
 "cells": [
  {
   "cell_type": "code",
   "execution_count": 134,
   "metadata": {},
   "outputs": [],
   "source": [
    "import sympy as sp\n",
    "from sympy.printing.latex import print_latex"
   ]
  },
  {
   "cell_type": "code",
   "execution_count": 149,
   "metadata": {},
   "outputs": [
    {
     "data": {
      "text/latex": [
       "$\\displaystyle - \\frac{\\alpha \\left(\\frac{\\alpha^{2}}{\\left(\\alpha - 1\\right) \\left(2 \\alpha - 1\\right)} - \\alpha + \\frac{\\alpha - 2}{\\alpha - 1} + 2 + \\frac{e^{- \\beta}}{\\alpha - e^{- \\beta}} + \\frac{\\gamma \\left(\\alpha - 1\\right)^{2}}{\\alpha}\\right)}{\\alpha \\left(\\alpha - 1\\right) - \\alpha \\left(\\frac{\\alpha^{2}}{\\left(\\alpha - 1\\right) \\left(2 \\alpha - 1\\right)} - \\alpha + \\frac{\\alpha - 2}{\\alpha - 1} + 2 + \\frac{e^{- \\beta}}{\\alpha - e^{- \\beta}} + \\frac{\\gamma \\left(\\alpha - 1\\right)^{2}}{\\alpha}\\right) + \\left(\\alpha - 1\\right)^{2} \\left(\\gamma - 2\\right) + \\frac{\\alpha - 1}{\\alpha \\left(1 - e^{- \\beta}\\right)}}$"
      ],
      "text/plain": [
       "-alpha*(alpha**2/((alpha - 1)*(2*alpha - 1)) - alpha + (alpha - 2)/(alpha - 1) + 2 + exp(-beta)/(alpha - exp(-beta)) + gamma*(alpha - 1)**2/alpha)/(alpha*(alpha - 1) - alpha*(alpha**2/((alpha - 1)*(2*alpha - 1)) - alpha + (alpha - 2)/(alpha - 1) + 2 + exp(-beta)/(alpha - exp(-beta)) + gamma*(alpha - 1)**2/alpha) + (alpha - 1)**2*(gamma - 2) + (alpha - 1)/(alpha*(1 - exp(-beta))))"
      ]
     },
     "execution_count": 149,
     "metadata": {},
     "output_type": "execute_result"
    }
   ],
   "source": [
    "# R_f general\n",
    "a, b, g = sp.symbols('alpha beta gamma')\n",
    "\n",
    "A_expr = a * (sp.exp(-b) / (a*1-sp.exp(-b)) + 2 - a + (2-a)/(1-a) + ((1-a)**2)*g/a + a**2 / ((1-2*a)*(1-a)))\n",
    "H_expr = (1-a) / (a*(1-sp.exp(-b))) + ((1-a)**2)*(2-g) + a*(1-a)\n",
    "\n",
    "R_f = A_expr / (A_expr + H_expr)\n",
    "\n",
    "simplified_Rf = sp.simplify(R_f)\n",
    "simplified_Rf"
   ]
  },
  {
   "cell_type": "code",
   "execution_count": 151,
   "metadata": {},
   "outputs": [
    {
     "data": {
      "text/latex": [
       "$\\displaystyle \\frac{\\alpha \\left(2 \\alpha^{2} \\cdot \\left(1 - e^{\\beta}\\right) - \\left(1 - e^{\\beta}\\right) \\left(2 \\alpha - 1\\right) \\left(- 2 \\alpha^{2} + 5 \\alpha + \\gamma \\left(\\alpha - 1\\right)^{2}\\right) + \\left(2 \\alpha - 1\\right) \\left(- \\beta \\left(\\alpha - 1\\right)^{2} \\left(\\gamma - 1\\right) + 1\\right)\\right)}{- 3 \\alpha^{2} \\cdot \\left(1 - e^{\\beta}\\right) + 2 \\alpha - e^{\\beta}}$"
      ],
      "text/plain": [
       "alpha*(2*alpha**2*(1 - exp(beta)) - (1 - exp(beta))*(2*alpha - 1)*(-2*alpha**2 + 5*alpha + gamma*(alpha - 1)**2) + (2*alpha - 1)*(-beta*(alpha - 1)**2*(gamma - 1) + 1))/(-3*alpha**2*(1 - exp(beta)) + 2*alpha - exp(beta))"
      ]
     },
     "execution_count": 151,
     "metadata": {},
     "output_type": "execute_result"
    }
   ],
   "source": [
    "# R_e general\n",
    "expr1 = (1 + b * ((1-a)**2)*(1-g)) / (sp.exp(b)-1) + 5*a + ((1-a)**2)*g + 2*(a**2)/(1-2*a) - 2*(a**2)\n",
    "expr2 = (a*(1-2*a)*(1-sp.exp(-b))) / (1-2*sp.exp(-b)*a-3*(1-sp.exp(-b))*(a**2))\n",
    "\n",
    "R_e = expr1 * expr2\n",
    "simplified_Re = sp.simplify(R_e)\n",
    "simplified_Re"
   ]
  },
  {
   "cell_type": "code",
   "execution_count": 153,
   "metadata": {},
   "outputs": [
    {
     "name": "stdout",
     "output_type": "stream",
     "text": [
      "\\frac{\\alpha \\left(2 \\alpha^{2} \\cdot \\left(1 - e^{\\beta}\\right) - \\left(1 - e^{\\beta}\\right) \\left(2 \\alpha - 1\\right) \\left(- 2 \\alpha^{2} + 5 \\alpha + \\gamma \\left(\\alpha - 1\\right)^{2}\\right) + \\left(2 \\alpha - 1\\right) \\left(- \\beta \\left(\\alpha - 1\\right)^{2} \\left(\\gamma - 1\\right) + 1\\right)\\right)}{- 3 \\alpha^{2} \\cdot \\left(1 - e^{\\beta}\\right) + 2 \\alpha - e^{\\beta}}\n"
     ]
    }
   ],
   "source": [
    "print_latex(simplified_Re)"
   ]
  },
  {
   "cell_type": "code",
   "execution_count": 154,
   "metadata": {},
   "outputs": [
    {
     "data": {
      "text/latex": [
       "$\\displaystyle \\frac{\\frac{\\alpha \\lambda \\left(1 - e^{- \\beta}\\right) \\left(2 \\alpha - 1\\right) \\left(- 2 \\alpha^{2} - \\frac{2 \\alpha^{2}}{2 \\alpha - 1} + 5 \\alpha + \\gamma \\left(\\alpha - 1\\right)^{2} - \\frac{\\beta \\left(\\alpha - 1\\right)^{2} \\left(\\gamma - 1\\right) - 1}{e^{\\beta} - 1}\\right)}{\\alpha^{2} \\cdot \\left(3 - 3 e^{- \\beta}\\right) + 2 \\alpha e^{- \\beta} - 1} - \\frac{\\alpha \\left(\\frac{\\alpha^{2}}{\\left(\\alpha - 1\\right) \\left(2 \\alpha - 1\\right)} - \\alpha + \\frac{\\alpha - 2}{\\alpha - 1} + 2 + \\frac{e^{- \\beta}}{\\alpha - e^{- \\beta}} + \\frac{\\gamma \\left(\\alpha - 1\\right)^{2}}{\\alpha}\\right)}{\\alpha \\left(\\alpha - 1\\right) - \\alpha \\left(\\frac{\\alpha^{2}}{\\left(\\alpha - 1\\right) \\left(2 \\alpha - 1\\right)} - \\alpha + \\frac{\\alpha - 2}{\\alpha - 1} + 2 + \\frac{e^{- \\beta}}{\\alpha - e^{- \\beta}} + \\frac{\\gamma \\left(\\alpha - 1\\right)^{2}}{\\alpha}\\right) + \\left(\\alpha - 1\\right)^{2} \\left(\\gamma - 2\\right) + \\frac{\\alpha - 1}{\\alpha \\left(1 - e^{- \\beta}\\right)}}}{\\lambda + 1}$"
      ],
      "text/plain": [
       "(alpha*lambda*(1 - exp(-beta))*(2*alpha - 1)*(-2*alpha**2 - 2*alpha**2/(2*alpha - 1) + 5*alpha + gamma*(alpha - 1)**2 - (beta*(alpha - 1)**2*(gamma - 1) - 1)/(exp(beta) - 1))/(alpha**2*(3 - 3*exp(-beta)) + 2*alpha*exp(-beta) - 1) - alpha*(alpha**2/((alpha - 1)*(2*alpha - 1)) - alpha + (alpha - 2)/(alpha - 1) + 2 + exp(-beta)/(alpha - exp(-beta)) + gamma*(alpha - 1)**2/alpha)/(alpha*(alpha - 1) - alpha*(alpha**2/((alpha - 1)*(2*alpha - 1)) - alpha + (alpha - 2)/(alpha - 1) + 2 + exp(-beta)/(alpha - exp(-beta)) + gamma*(alpha - 1)**2/alpha) + (alpha - 1)**2*(gamma - 2) + (alpha - 1)/(alpha*(1 - exp(-beta)))))/(lambda + 1)"
      ]
     },
     "execution_count": 154,
     "metadata": {},
     "output_type": "execute_result"
    }
   ],
   "source": [
    "l = sp.symbols('lambda')\n",
    "R_t = (R_f + l * R_e) / (l + 1)\n",
    "simplified_Rt = sp.simplify(R_t)\n",
    "simplified_Rt"
   ]
  },
  {
   "cell_type": "code",
   "execution_count": 166,
   "metadata": {},
   "outputs": [
    {
     "data": {
      "text/latex": [
       "$\\displaystyle - \\frac{0.3 \\cdot \\left(4.45 + \\frac{e^{- \\beta}}{0.3 - e^{- \\beta}}\\right)}{-2.525 - \\frac{2.33333333333333}{1.0 - e^{- \\beta}} - \\frac{0.3 e^{- \\beta}}{0.3 - e^{- \\beta}}}$"
      ],
      "text/plain": [
       "-0.3*(4.45 + exp(-beta)/(0.3 - exp(-beta)))/(-2.525 - 2.33333333333333/(1.0 - exp(-beta)) - 0.3*exp(-beta)/(0.3 - exp(-beta)))"
      ]
     },
     "execution_count": 166,
     "metadata": {},
     "output_type": "execute_result"
    }
   ],
   "source": [
    "simplified_Rt.evalf(subs={l:0., a:0.3, g:0.0})"
   ]
  },
  {
   "cell_type": "code",
   "execution_count": 167,
   "metadata": {},
   "outputs": [],
   "source": [
    "lim = sp.limit(simplified_Rt, b, sp.oo)"
   ]
  },
  {
   "cell_type": "code",
   "execution_count": 169,
   "metadata": {},
   "outputs": [
    {
     "name": "stdout",
     "output_type": "stream",
     "text": [
      "0.333333333333333\n",
      "0.300000000000000\n",
      "0.250000000000000\n"
     ]
    }
   ],
   "source": [
    "print(lim.evalf(subs={l:0., a:1/3, g:0.00})) \n",
    "print(lim.evalf(subs={l:0., a:0.3, g:0.25})) \n",
    "print(lim.evalf(subs={l:0., a:0.25, g:0.50}))"
   ]
  },
  {
   "cell_type": "code",
   "execution_count": 188,
   "metadata": {},
   "outputs": [
    {
     "data": {
      "text/latex": [
       "$\\displaystyle \\frac{- 6.0 \\alpha^{6} + 24.0 \\alpha^{5} - 10.0 \\alpha^{4} - 8.0 \\alpha^{3} + 4.0 \\alpha^{2}}{3.0 \\alpha^{5} + 3.0 \\alpha^{4} + 2.0 \\alpha^{3} - 4.0 \\alpha^{2} - \\alpha + 1.0}$"
      ],
      "text/plain": [
       "(-6.0*alpha**6 + 24.0*alpha**5 - 10.0*alpha**4 - 8.0*alpha**3 + 4.0*alpha**2)/(3.0*alpha**5 + 3.0*alpha**4 + 2.0*alpha**3 - 4.0*alpha**2 - alpha + 1.0)"
      ]
     },
     "execution_count": 188,
     "metadata": {},
     "output_type": "execute_result"
    }
   ],
   "source": [
    "lim.evalf(subs={l:0., g:0.00})"
   ]
  },
  {
   "cell_type": "code",
   "execution_count": 198,
   "metadata": {},
   "outputs": [
    {
     "name": "stdout",
     "output_type": "stream",
     "text": [
      "0.342592592592593\n",
      "0.321497800413297\n",
      "0.282872247938156\n",
      "0.204606440071556\n"
     ]
    }
   ],
   "source": [
    "print(lim.evalf(subs={l:1., a:1/3, g:0.00}))\n",
    "print(lim.evalf(subs={l:1., a:0.322, g:0.00}))\n",
    "print(lim.evalf(subs={l:1., a:0.3, g:0.00})) \n",
    "print(lim.evalf(subs={l:1., a:0.25, g:0.00}))"
   ]
  },
  {
   "cell_type": "code",
   "execution_count": null,
   "metadata": {},
   "outputs": [],
   "source": []
  },
  {
   "cell_type": "code",
   "execution_count": null,
   "metadata": {},
   "outputs": [],
   "source": []
  },
  {
   "cell_type": "code",
   "execution_count": null,
   "metadata": {},
   "outputs": [],
   "source": []
  },
  {
   "cell_type": "code",
   "execution_count": null,
   "metadata": {},
   "outputs": [],
   "source": []
  },
  {
   "cell_type": "code",
   "execution_count": 26,
   "metadata": {},
   "outputs": [
    {
     "name": "stdout",
     "output_type": "stream",
     "text": [
      "\\frac{\\alpha \\left(2 \\alpha^{3} \\gamma - 2 \\alpha^{3} - 5 \\alpha^{2} \\gamma + 8 \\alpha^{2} + 4 \\alpha \\gamma - 4 \\alpha - \\gamma\\right)}{\\alpha^{3} + \\alpha^{2} + \\alpha - 1}\n"
     ]
    }
   ],
   "source": [
    "# hand coded\n",
    "a, g = sp.symbols('alpha gamma')\n",
    "expr = a * (2-a + (2-a)/(1-a) + (1-a)**2*g/aq + a**2 / ((1-2*a)*(1-a))) \\\n",
    "        / (a * (2-a + (2-a)/(1-a) + (1-a)**2*g/a + a**2 / ((1-2*a)*(1-a))) \\\n",
    "        + ((1-a)/a + (1-a)**2 * (2-g) + a*(1-a)))\n",
    "\n",
    "simplified_expr = sp.simplify(expr)\n",
    "print_latex(simplified_expr)"
   ]
  },
  {
   "cell_type": "code",
   "execution_count": 27,
   "metadata": {},
   "outputs": [
    {
     "name": "stdout",
     "output_type": "stream",
     "text": [
      "\\frac{\\alpha \\left(2 \\alpha^{3} \\gamma - 2 \\alpha^{3} - 5 \\alpha^{2} \\gamma + 8 \\alpha^{2} + 4 \\alpha \\gamma - 4 \\alpha - \\gamma\\right)}{\\alpha^{3} + \\alpha^{2} + \\alpha - 1}\n"
     ]
    }
   ],
   "source": [
    "## VERIFY W/ CHATGPT\n",
    "alpha, gamma = sp.symbols('alpha gamma')\n",
    "\n",
    "# Define the complex expression\n",
    "numerator = alpha * (\n",
    "    2 - alpha +\n",
    "    (2 - alpha) / (1 - alpha) +\n",
    "    ((1 - alpha)**2 * gamma) / alpha +\n",
    "    alpha**2 / ((1 - 2*alpha) * (1 - alpha))\n",
    ")\n",
    "\n",
    "denominator = numerator + (\n",
    "    (1 - alpha) / alpha +\n",
    "    (1 - alpha)**2 * (2 - gamma) +\n",
    "    alpha * (1 - alpha)\n",
    ")\n",
    "\n",
    "# The full expression\n",
    "expression = numerator / denominator\n",
    "\n",
    "# Simplify the expression\n",
    "simplified_expression = sp.simplify(expression)\n",
    "\n",
    "print_latex(simplified_expression)\n"
   ]
  },
  {
   "cell_type": "markdown",
   "metadata": {},
   "source": [
    "$$\n",
    "\\left(5\\alpha + (1-\\alpha)^2\\gamma + \\frac{2\\alpha^2}{1-2\\alpha} - 2\\alpha^2\\right) \\cdot \\left(\\frac{\\alpha (1-\\alpha)}{1-3\\alpha^2} \\right)\n",
    "$$"
   ]
  },
  {
   "cell_type": "code",
   "execution_count": 28,
   "metadata": {},
   "outputs": [
    {
     "name": "stdout",
     "output_type": "stream",
     "text": [
      "- \\frac{\\alpha \\left(\\alpha - 1\\right) \\left(2 \\alpha^{2} - \\left(2 \\alpha - 1\\right) \\left(- 2 \\alpha^{2} + 5 \\alpha + \\gamma \\left(\\alpha - 1\\right)^{2}\\right)\\right)}{\\left(2 \\alpha - 1\\right) \\left(3 \\alpha^{2} - 1\\right)}\n"
     ]
    }
   ],
   "source": [
    "# hand coded\n",
    "a, g = sp.symbols('alpha gamma')\n",
    "expr = (5*a + (1-a)**2 * g + 2*(a**2) / (1-2*a) - 2 * (a**2)) * (a * (1-a) / (1 - 3*(a**2)))\n",
    "\n",
    "simplified_expr = sp.simplify(expr)\n",
    "print_latex(simplified_expr)"
   ]
  },
  {
   "cell_type": "code",
   "execution_count": 29,
   "metadata": {},
   "outputs": [
    {
     "name": "stdout",
     "output_type": "stream",
     "text": [
      "- \\frac{\\alpha \\left(\\alpha - 1\\right) \\left(2 \\alpha^{2} - \\left(2 \\alpha - 1\\right) \\left(- 2 \\alpha^{2} + 5 \\alpha + \\gamma \\left(\\alpha - 1\\right)^{2}\\right)\\right)}{\\left(2 \\alpha - 1\\right) \\left(3 \\alpha^{2} - 1\\right)}\n"
     ]
    }
   ],
   "source": [
    "# VERIFY W CHATGPT\n",
    "# Define the symbols\n",
    "alpha, gamma = sp.symbols('alpha gamma')\n",
    "\n",
    "# Define each part of the expression\n",
    "part1 = 5*alpha + (1 - alpha)**2 * gamma + 2*alpha**2 / (1 - 2*alpha) - 2*alpha**2\n",
    "part2 = alpha * (1 - alpha) / (1 - 3*alpha**2)\n",
    "\n",
    "# Multiply the two parts\n",
    "expression = part1 * part2\n",
    "\n",
    "# Simplify the expression\n",
    "simplified_expression = sp.simplify(expression)\n",
    "\n",
    "print_latex(simplified_expression)"
   ]
  },
  {
   "cell_type": "code",
   "execution_count": null,
   "metadata": {},
   "outputs": [],
   "source": []
  },
  {
   "cell_type": "code",
   "execution_count": 40,
   "metadata": {},
   "outputs": [
    {
     "name": "stdout",
     "output_type": "stream",
     "text": [
      "\\frac{\\alpha \\left(2 \\alpha^{3} \\gamma - 2 \\alpha^{3} - 5 \\alpha^{2} \\gamma + 8 \\alpha^{2} + 4 \\alpha \\gamma - 4 \\alpha - \\gamma\\right)}{\\alpha^{3} + \\alpha^{2} + \\alpha - 1}\n",
      "--\n",
      "- \\frac{\\alpha \\left(\\alpha - 1\\right) \\left(2 \\alpha^{2} - \\left(2 \\alpha - 1\\right) \\left(- 2 \\alpha^{2} + 5 \\alpha + \\gamma \\left(\\alpha - 1\\right)^{2}\\right)\\right)}{\\left(2 \\alpha - 1\\right) \\left(3 \\alpha^{2} - 1\\right)}\n",
      "--\n",
      "\\frac{\\alpha \\left(- lamb \\left(\\alpha - 1\\right) \\left(2 \\alpha^{2} - \\left(2 \\alpha - 1\\right) \\left(- 2 \\alpha^{2} + 5 \\alpha + \\gamma \\left(\\alpha - 1\\right)^{2}\\right)\\right) \\left(\\alpha^{3} + \\alpha^{2} + \\alpha - 1\\right) - \\left(2 \\alpha - 1\\right) \\left(3 \\alpha^{2} - 1\\right) \\left(- 2 \\alpha^{3} \\gamma + 2 \\alpha^{3} + 5 \\alpha^{2} \\gamma - 8 \\alpha^{2} - 4 \\alpha \\gamma + 4 \\alpha + \\gamma\\right)\\right)}{\\left(2 \\alpha - 1\\right) \\left(3 \\alpha^{2} - 1\\right) \\left(lamb + 1\\right) \\left(\\alpha^{3} + \\alpha^{2} + \\alpha - 1\\right)}\n"
     ]
    }
   ],
   "source": [
    "# hand coded\n",
    "a, g = sp.symbols('alpha gamma')\n",
    "r_f = a * (2-a + (2-a)/(1-a) + (1-a)**2*g/a + a**2 / ((1-2*a)*(1-a))) \\\n",
    "        / (a * (2-a + (2-a)/(1-a) + (1-a)**2*g/a + a**2 / ((1-2*a)*(1-a))) \\\n",
    "        + ((1-a)/a + (1-a)**2 * (2-g) + a*(1-a)))\n",
    "\n",
    "simpl_r_f = sp.simplify(r_f)\n",
    "print_latex(simpl_r_f)\n",
    "print('--')\n",
    "\n",
    "r_e = (5*a + (1-a)**2 * g + 2*(a**2) / (1-2*a) - 2 * (a**2)) * (a * (1-a) / (1 - 3*(a**2)))\n",
    "simpl_r_e = sp.simplify(r_e)\n",
    "print_latex(simpl_r_e)\n",
    "print('--')\n",
    "\n",
    "l = sp.symbols('lamb')\n",
    "r_t = (simpl_r_f + (l * simpl_r_e)) / (l + 1)\n",
    "simpl_r_t = sp.simplify(r_t)\n",
    "print_latex(simpl_r_t)"
   ]
  },
  {
   "cell_type": "code",
   "execution_count": 41,
   "metadata": {},
   "outputs": [
    {
     "name": "stdout",
     "output_type": "stream",
     "text": [
      "alpha*(-lamb*(alpha - 1)*(2*alpha**2 - (2*alpha - 1)*(-2*alpha**2 + 5*alpha + gamma*(alpha - 1)**2))*(alpha**3 + alpha**2 + alpha - 1) - (2*alpha - 1)*(3*alpha**2 - 1)*(-2*alpha**3*gamma + 2*alpha**3 + 5*alpha**2*gamma - 8*alpha**2 - 4*alpha*gamma + 4*alpha + gamma))/((2*alpha - 1)*(3*alpha**2 - 1)*(lamb + 1)*(alpha**3 + alpha**2 + alpha - 1))\n"
     ]
    }
   ],
   "source": [
    "print(simpl_r_t)"
   ]
  },
  {
   "cell_type": "code",
   "execution_count": 131,
   "metadata": {},
   "outputs": [
    {
     "data": {
      "text/latex": [
       "$\\displaystyle 0.199357967006905$"
      ],
      "text/plain": [
       "0.199357967006905"
      ]
     },
     "execution_count": 131,
     "metadata": {},
     "output_type": "execute_result"
    }
   ],
   "source": [
    "simpl_r_t.evalf(subs={l:1., a:0.19, g:.5})"
   ]
  },
  {
   "cell_type": "code",
   "execution_count": 90,
   "metadata": {},
   "outputs": [
    {
     "data": {
      "text/latex": [
       "$\\displaystyle 0.333333333333333$"
      ],
      "text/plain": [
       "0.333333333333333"
      ]
     },
     "execution_count": 90,
     "metadata": {},
     "output_type": "execute_result"
    }
   ],
   "source": [
    "simpl_r_t.evalf(subs={l:0., a:1/3, g:0.0})"
   ]
  },
  {
   "cell_type": "code",
   "execution_count": 92,
   "metadata": {},
   "outputs": [
    {
     "data": {
      "text/latex": [
       "$\\displaystyle 0.25$"
      ],
      "text/plain": [
       "0.250000000000000"
      ]
     },
     "execution_count": 92,
     "metadata": {},
     "output_type": "execute_result"
    }
   ],
   "source": [
    "simpl_r_t.evalf(subs={l:0., a:0.25, g:0.5})"
   ]
  },
  {
   "cell_type": "code",
   "execution_count": 93,
   "metadata": {},
   "outputs": [
    {
     "data": {
      "text/latex": [
       "$\\displaystyle 0.3$"
      ],
      "text/plain": [
       "0.300000000000000"
      ]
     },
     "execution_count": 93,
     "metadata": {},
     "output_type": "execute_result"
    }
   ],
   "source": [
    "simpl_r_t.evalf(subs={l:0., a:0.3, g:0.25})"
   ]
  },
  {
   "cell_type": "code",
   "execution_count": 125,
   "metadata": {},
   "outputs": [
    {
     "data": {
      "text/latex": [
       "$\\displaystyle 0.207664281998124$"
      ],
      "text/plain": [
       "0.207664281998124"
      ]
     },
     "execution_count": 125,
     "metadata": {},
     "output_type": "execute_result"
    }
   ],
   "source": [
    "simpl_r_t.evalf(subs={l:10000., a:0.2076, g:0.0})"
   ]
  },
  {
   "cell_type": "code",
   "execution_count": null,
   "metadata": {},
   "outputs": [],
   "source": []
  },
  {
   "cell_type": "code",
   "execution_count": null,
   "metadata": {},
   "outputs": [],
   "source": []
  }
 ],
 "metadata": {
  "kernelspec": {
   "display_name": "Python 3",
   "language": "python",
   "name": "python3"
  },
  "language_info": {
   "codemirror_mode": {
    "name": "ipython",
    "version": 3
   },
   "file_extension": ".py",
   "mimetype": "text/x-python",
   "name": "python",
   "nbconvert_exporter": "python",
   "pygments_lexer": "ipython3",
   "version": "3.8.16"
  }
 },
 "nbformat": 4,
 "nbformat_minor": 4
}
