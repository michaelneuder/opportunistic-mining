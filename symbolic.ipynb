{
 "cells": [
  {
   "cell_type": "code",
   "execution_count": 13,
   "metadata": {},
   "outputs": [],
   "source": [
    "import sympy as sp\n",
    "from sympy.printing.latex import print_latex"
   ]
  },
  {
   "cell_type": "code",
   "execution_count": 26,
   "metadata": {},
   "outputs": [
    {
     "name": "stdout",
     "output_type": "stream",
     "text": [
      "\\frac{\\alpha \\left(2 \\alpha^{3} \\gamma - 2 \\alpha^{3} - 5 \\alpha^{2} \\gamma + 8 \\alpha^{2} + 4 \\alpha \\gamma - 4 \\alpha - \\gamma\\right)}{\\alpha^{3} + \\alpha^{2} + \\alpha - 1}\n"
     ]
    }
   ],
   "source": [
    "# hand coded\n",
    "a, g = sp.symbols('alpha gamma')\n",
    "expr = a * (2-a + (2-a)/(1-a) + (1-a)**2*g/a + a**2 / ((1-2*a)*(1-a))) \\\n",
    "        / (a * (2-a + (2-a)/(1-a) + (1-a)**2*g/a + a**2 / ((1-2*a)*(1-a))) \\\n",
    "        + ((1-a)/a + (1-a)**2 * (2-g) + a*(1-a)))\n",
    "\n",
    "simplified_expr = sp.simplify(expr)\n",
    "print_latex(simplified_expr)"
   ]
  },
  {
   "cell_type": "code",
   "execution_count": 27,
   "metadata": {},
   "outputs": [
    {
     "name": "stdout",
     "output_type": "stream",
     "text": [
      "\\frac{\\alpha \\left(2 \\alpha^{3} \\gamma - 2 \\alpha^{3} - 5 \\alpha^{2} \\gamma + 8 \\alpha^{2} + 4 \\alpha \\gamma - 4 \\alpha - \\gamma\\right)}{\\alpha^{3} + \\alpha^{2} + \\alpha - 1}\n"
     ]
    }
   ],
   "source": [
    "## VERIFY W/ CHATGPT\n",
    "alpha, gamma = sp.symbols('alpha gamma')\n",
    "\n",
    "# Define the complex expression\n",
    "numerator = alpha * (\n",
    "    2 - alpha +\n",
    "    (2 - alpha) / (1 - alpha) +\n",
    "    ((1 - alpha)**2 * gamma) / alpha +\n",
    "    alpha**2 / ((1 - 2*alpha) * (1 - alpha))\n",
    ")\n",
    "\n",
    "denominator = numerator + (\n",
    "    (1 - alpha) / alpha +\n",
    "    (1 - alpha)**2 * (2 - gamma) +\n",
    "    alpha * (1 - alpha)\n",
    ")\n",
    "\n",
    "# The full expression\n",
    "expression = numerator / denominator\n",
    "\n",
    "# Simplify the expression\n",
    "simplified_expression = sp.simplify(expression)\n",
    "\n",
    "print_latex(simplified_expression)\n"
   ]
  },
  {
   "cell_type": "markdown",
   "metadata": {},
   "source": [
    "$$\n",
    "\\left(5\\alpha + (1-\\alpha)^2\\gamma + \\frac{2\\alpha^2}{1-2\\alpha} - 2\\alpha^2\\right) \\cdot \\left(\\frac{\\alpha (1-\\alpha)}{1-3\\alpha^2} \\right)\n",
    "$$"
   ]
  },
  {
   "cell_type": "code",
   "execution_count": 28,
   "metadata": {},
   "outputs": [
    {
     "name": "stdout",
     "output_type": "stream",
     "text": [
      "- \\frac{\\alpha \\left(\\alpha - 1\\right) \\left(2 \\alpha^{2} - \\left(2 \\alpha - 1\\right) \\left(- 2 \\alpha^{2} + 5 \\alpha + \\gamma \\left(\\alpha - 1\\right)^{2}\\right)\\right)}{\\left(2 \\alpha - 1\\right) \\left(3 \\alpha^{2} - 1\\right)}\n"
     ]
    }
   ],
   "source": [
    "# hand coded\n",
    "a, g = sp.symbols('alpha gamma')\n",
    "expr = (5*a + (1-a)**2 * g + 2*(a**2) / (1-2*a) - 2 * (a**2)) * (a * (1-a) / (1 - 3*(a**2)))\n",
    "\n",
    "simplified_expr = sp.simplify(expr)\n",
    "print_latex(simplified_expr)"
   ]
  },
  {
   "cell_type": "code",
   "execution_count": 29,
   "metadata": {},
   "outputs": [
    {
     "name": "stdout",
     "output_type": "stream",
     "text": [
      "- \\frac{\\alpha \\left(\\alpha - 1\\right) \\left(2 \\alpha^{2} - \\left(2 \\alpha - 1\\right) \\left(- 2 \\alpha^{2} + 5 \\alpha + \\gamma \\left(\\alpha - 1\\right)^{2}\\right)\\right)}{\\left(2 \\alpha - 1\\right) \\left(3 \\alpha^{2} - 1\\right)}\n"
     ]
    }
   ],
   "source": [
    "# VERIFY W CHATGPT\n",
    "# Define the symbols\n",
    "alpha, gamma = sp.symbols('alpha gamma')\n",
    "\n",
    "# Define each part of the expression\n",
    "part1 = 5*alpha + (1 - alpha)**2 * gamma + 2*alpha**2 / (1 - 2*alpha) - 2*alpha**2\n",
    "part2 = alpha * (1 - alpha) / (1 - 3*alpha**2)\n",
    "\n",
    "# Multiply the two parts\n",
    "expression = part1 * part2\n",
    "\n",
    "# Simplify the expression\n",
    "simplified_expression = sp.simplify(expression)\n",
    "\n",
    "print_latex(simplified_expression)"
   ]
  },
  {
   "cell_type": "code",
   "execution_count": null,
   "metadata": {},
   "outputs": [],
   "source": []
  },
  {
   "cell_type": "code",
   "execution_count": 35,
   "metadata": {},
   "outputs": [
    {
     "name": "stdout",
     "output_type": "stream",
     "text": [
      "\\frac{\\alpha \\left(2 \\alpha^{3} \\gamma - 2 \\alpha^{3} - 5 \\alpha^{2} \\gamma + 8 \\alpha^{2} + 4 \\alpha \\gamma - 4 \\alpha - \\gamma\\right)}{\\alpha^{3} + \\alpha^{2} + \\alpha - 1}\n",
      "--\n",
      "- \\frac{\\alpha \\left(\\alpha - 1\\right) \\left(2 \\alpha^{2} - \\left(2 \\alpha - 1\\right) \\left(- 2 \\alpha^{2} + 5 \\alpha + \\gamma \\left(\\alpha - 1\\right)^{2}\\right)\\right)}{\\left(2 \\alpha - 1\\right) \\left(3 \\alpha^{2} - 1\\right)}\n",
      "--\n",
      "\\frac{\\alpha \\left(- \\lambda \\left(\\alpha - 1\\right) \\left(2 \\alpha^{2} - \\left(2 \\alpha - 1\\right) \\left(- 2 \\alpha^{2} + 5 \\alpha + \\gamma \\left(\\alpha - 1\\right)^{2}\\right)\\right) \\left(\\alpha^{3} + \\alpha^{2} + \\alpha - 1\\right) - \\left(2 \\alpha - 1\\right) \\left(3 \\alpha^{2} - 1\\right) \\left(- 2 \\alpha^{3} \\gamma + 2 \\alpha^{3} + 5 \\alpha^{2} \\gamma - 8 \\alpha^{2} - 4 \\alpha \\gamma + 4 \\alpha + \\gamma\\right)\\right)}{\\left(2 \\alpha - 1\\right) \\left(3 \\alpha^{2} - 1\\right) \\left(\\lambda + 1\\right) \\left(\\alpha^{3} + \\alpha^{2} + \\alpha - 1\\right)}\n"
     ]
    }
   ],
   "source": [
    "# hand coded\n",
    "a, g = sp.symbols('alpha gamma')\n",
    "r_f = a * (2-a + (2-a)/(1-a) + (1-a)**2*g/a + a**2 / ((1-2*a)*(1-a))) \\\n",
    "        / (a * (2-a + (2-a)/(1-a) + (1-a)**2*g/a + a**2 / ((1-2*a)*(1-a))) \\\n",
    "        + ((1-a)/a + (1-a)**2 * (2-g) + a*(1-a)))\n",
    "\n",
    "simpl_r_f = sp.simplify(r_f)\n",
    "print_latex(simpl_r_f)\n",
    "print('--')\n",
    "\n",
    "r_e = (5*a + (1-a)**2 * g + 2*(a**2) / (1-2*a) - 2 * (a**2)) * (a * (1-a) / (1 - 3*(a**2)))\n",
    "simpl_r_e = sp.simplify(r_e)\n",
    "print_latex(simpl_r_e)\n",
    "print('--')\n",
    "\n",
    "l = sp.symbols('lambda')\n",
    "r_t = (simpl_r_f + (l * simpl_r_e)) / (l + 1)\n",
    "simpl_r_t = sp.simplify(r_t)\n",
    "print_latex(simpl_r_t)"
   ]
  }
 ],
 "metadata": {
  "kernelspec": {
   "display_name": "Python 3",
   "language": "python",
   "name": "python3"
  },
  "language_info": {
   "codemirror_mode": {
    "name": "ipython",
    "version": 3
   },
   "file_extension": ".py",
   "mimetype": "text/x-python",
   "name": "python",
   "nbconvert_exporter": "python",
   "pygments_lexer": "ipython3",
   "version": "3.8.16"
  }
 },
 "nbformat": 4,
 "nbformat_minor": 4
}
