{
 "cells": [
  {
   "cell_type": "code",
   "execution_count": 43,
   "metadata": {},
   "outputs": [],
   "source": [
    "import matplotlib.pyplot as plt\n",
    "import matplotlib.patches as mpatches\n",
    "import numpy as np\n",
    "from scipy.optimize import minimize\n",
    "import pandas as pd\n",
    "from scipy.stats import poisson, uniform, expon, pareto\n",
    "from tqdm import tqdm\n",
    "from mdptoolbox import mdp, util\n",
    "import itertools\n",
    "from scipy.sparse import csr_matrix, lil_matrix\n",
    "from matplotlib.patches import Patch\n",
    "import math\n",
    "import random\n",
    "import sympy as sp\n",
    "from sympy.printing.latex import print_latex"
   ]
  },
  {
   "cell_type": "code",
   "execution_count": 157,
   "metadata": {},
   "outputs": [],
   "source": [
    "p0, p0p, p1, p0pp = sp.symbols('p_0 p_{00} p_1 p_{000}')\n",
    "a, b, x, g, p, E  = sp.symbols('a b x g p E')"
   ]
  },
  {
   "cell_type": "code",
   "execution_count": 158,
   "metadata": {},
   "outputs": [
    {
     "data": {
      "text/latex": [
       "$\\displaystyle \\frac{p_{1} e^{- b}}{1 - e^{- b}}$"
      ],
      "text/plain": [
       "p_1*exp(-b)/(1 - exp(-b))"
      ]
     },
     "execution_count": 158,
     "metadata": {},
     "output_type": "execute_result"
    }
   ],
   "source": [
    "f0p0high = p1 / (1-sp.exp(-b)) * sp.integrate(sp.exp(-x), (x, b, sp.oo))\n",
    "f0p0high"
   ]
  },
  {
   "cell_type": "code",
   "execution_count": 159,
   "metadata": {},
   "outputs": [
    {
     "data": {
      "text/latex": [
       "$\\displaystyle \\frac{b \\left(- a^{2} g p_{1} + a^{2} p_{1} + 2 a g p_{1} - 2 a p_{1} - g p_{1} + p_{1}\\right)}{e^{b} - 1} + \\begin{cases} - \\frac{- a^{2} g p_{1} e^{b} + a^{2} p_{1} e^{b} + 2 a g p_{1} e^{b} - 2 a p_{1} e^{b} - g p_{1} e^{b}}{e^{b} - 1} + \\frac{\\left(- a^{2} g p_{1} e^{b} + a^{2} p_{1} e^{b} + 2 a g p_{1} e^{b} - 2 a p_{1} e^{b} - g p_{1} e^{b}\\right) e^{- b}}{e^{b} - 1} & \\text{for}\\: b \\neq 0 \\\\b \\left(- \\frac{- a^{2} g p_{1} + a^{2} p_{1} + 2 a g p_{1} - 2 a p_{1} - g p_{1} + p_{1}}{e^{b} - 1} + \\frac{a^{2} g p_{1} e^{b} - a^{2} g p_{1} - a^{2} p_{1} e^{b} + a^{2} p_{1} - 2 a g p_{1} e^{b} + 2 a g p_{1} + 2 a p_{1} e^{b} - 2 a p_{1} + g p_{1} e^{b} - g p_{1} + p_{1}}{e^{b} - 1}\\right) & \\text{otherwise} \\end{cases}$"
      ],
      "text/plain": [
       "b*(-a**2*g*p_1 + a**2*p_1 + 2*a*g*p_1 - 2*a*p_1 - g*p_1 + p_1)/(exp(b) - 1) + Piecewise((-(-a**2*g*p_1*exp(b) + a**2*p_1*exp(b) + 2*a*g*p_1*exp(b) - 2*a*p_1*exp(b) - g*p_1*exp(b))/(exp(b) - 1) + (-a**2*g*p_1*exp(b) + a**2*p_1*exp(b) + 2*a*g*p_1*exp(b) - 2*a*p_1*exp(b) - g*p_1*exp(b))*exp(-b)/(exp(b) - 1), Ne(b, 0)), (b*(-(-a**2*g*p_1 + a**2*p_1 + 2*a*g*p_1 - 2*a*p_1 - g*p_1 + p_1)/(exp(b) - 1) + (a**2*g*p_1*exp(b) - a**2*g*p_1 - a**2*p_1*exp(b) + a**2*p_1 - 2*a*g*p_1*exp(b) + 2*a*g*p_1 + 2*a*p_1*exp(b) - 2*a*p_1 + g*p_1*exp(b) - g*p_1 + p_1)/(exp(b) - 1)), True))"
      ]
     },
     "execution_count": 159,
     "metadata": {},
     "output_type": "execute_result"
    }
   ],
   "source": [
    "integrand = p1 * sp.exp(-x) * (sp.exp(-b+x) + a*(1-sp.exp(-b+x)) + (1-a)*(1-sp.exp(-b+x))*(a+(1-a)*g)) / (1-sp.exp(-b))\n",
    "f0p0low = sp.integrate(integrand, (x,0,b))\n",
    "f0p0low"
   ]
  },
  {
   "cell_type": "code",
   "execution_count": 160,
   "metadata": {},
   "outputs": [
    {
     "data": {
      "text/latex": [
       "$\\displaystyle \\frac{2 a^{2} p_{1}}{1 - 2 a}$"
      ],
      "text/plain": [
       "2*a**2*p_1/(1 - 2*a)"
      ]
     },
     "execution_count": 160,
     "metadata": {},
     "output_type": "execute_result"
    }
   ],
   "source": [
    "f0pp0p     = a*(1-a)*p1\n",
    "f0ppp0pp   = a**2*p1\n",
    "f1p1       = a*(2-a)*p1\n",
    "fRestpRest = p1*2*(1-a)*a**2 / ((1-a)*(1-2*a))\n",
    "fRestpRest"
   ]
  },
  {
   "cell_type": "code",
   "execution_count": 161,
   "metadata": {},
   "outputs": [
    {
     "data": {
      "text/latex": [
       "$\\displaystyle \\begin{cases} - \\frac{p_{1} \\cdot \\left(2 a^{2} \\left(e^{b} - 1\\right) + \\left(2 a - 1\\right) \\left(b \\left(a^{2} g - a^{2} - 2 a g + 2 a + g - 1\\right) - 1\\right) - \\left(2 a - 1\\right) \\left(e^{b} - 1\\right) \\left(a^{2} g - 2 a g - a \\left(a - 2\\right) - a \\left(a - 1\\right) + 2 a + g\\right)\\right)}{\\left(2 a - 1\\right) \\left(e^{b} - 1\\right)} & \\text{for}\\: b > 0 \\vee b < 0 \\\\- \\frac{p_{1} \\cdot \\left(2 a^{2} \\left(e^{b} - 1\\right) + \\left(2 a - 1\\right) \\left(b \\left(a^{2} g - a^{2} - 2 a g + 2 a + g - 1\\right) - 1\\right) + \\left(2 a - 1\\right) \\left(a \\left(1 - e^{b}\\right) \\left(3 - a\\right) - b \\left(a^{2} g - a^{2} - 2 a g + 2 a + g\\right) e^{b}\\right)\\right)}{\\left(2 a - 1\\right) \\left(e^{b} - 1\\right)} & \\text{otherwise} \\end{cases}$"
      ],
      "text/plain": [
       "Piecewise((-p_1*(2*a**2*(exp(b) - 1) + (2*a - 1)*(b*(a**2*g - a**2 - 2*a*g + 2*a + g - 1) - 1) - (2*a - 1)*(exp(b) - 1)*(a**2*g - 2*a*g - a*(a - 2) - a*(a - 1) + 2*a + g))/((2*a - 1)*(exp(b) - 1)), (b > 0) | (b < 0)), (-p_1*(2*a**2*(exp(b) - 1) + (2*a - 1)*(b*(a**2*g - a**2 - 2*a*g + 2*a + g - 1) - 1) + (2*a - 1)*(a*(1 - exp(b))*(3 - a) - b*(a**2*g - a**2 - 2*a*g + 2*a + g)*exp(b)))/((2*a - 1)*(exp(b) - 1)), True))"
      ]
     },
     "execution_count": 161,
     "metadata": {},
     "output_type": "execute_result"
    }
   ],
   "source": [
    "full = f0p0low + f0p0high + f0pp0p + f0ppp0pp + f1p1 + fRestpRest\n",
    "full = sp.simplify(full)\n",
    "full"
   ]
  },
  {
   "cell_type": "code",
   "execution_count": 162,
   "metadata": {},
   "outputs": [],
   "source": [
    "p0pp  = a*p1\n",
    "p0p   = (1-a)*p1\n",
    "p0    = p1 / (a*(1-sp.exp(-b)))\n",
    "pRest = (1-a)*a/((1-a)*(1-2*a)) * p1"
   ]
  },
  {
   "cell_type": "code",
   "execution_count": 163,
   "metadata": {},
   "outputs": [
    {
     "data": {
      "text/latex": [
       "$\\displaystyle \\frac{a \\left(2 a e^{b} - 2 a - e^{b} + 1\\right)}{3 a^{2} e^{b} - 3 a^{2} + 2 a - e^{b}}$"
      ],
      "text/plain": [
       "a*(2*a*exp(b) - 2*a - exp(b) + 1)/(3*a**2*exp(b) - 3*a**2 + 2*a - exp(b))"
      ]
     },
     "execution_count": 163,
     "metadata": {},
     "output_type": "execute_result"
    }
   ],
   "source": [
    "p1solved = sp.solve(sp.Eq(p0 + p0p + p0pp + p1 + pRest, 1), p1)[0]\n",
    "p1solved"
   ]
  },
  {
   "cell_type": "code",
   "execution_count": 164,
   "metadata": {},
   "outputs": [
    {
     "data": {
      "text/latex": [
       "$\\displaystyle \\begin{cases} \\frac{a \\left(- 2.0 a^{2} \\left(e^{b} - 1\\right) - \\left(2.0 a - 1.0\\right) \\left(b \\left(a^{2} g - a^{2} - 2.0 a g + 2.0 a + g - 1.0\\right) - 1.0\\right) + \\left(2.0 a - 1.0\\right) \\left(e^{b} - 1.0\\right) \\left(a^{2} g - 2.0 a g - a \\left(a - 2.0\\right) - a \\left(a - 1.0\\right) + 2.0 a + g\\right)\\right) \\left(2.0 a e^{b} - 2.0 a - e^{b} + 1.0\\right)}{\\left(2.0 a - 1.0\\right) \\left(e^{b} - 1.0\\right) \\left(3.0 a^{2} e^{b} - 3.0 a^{2} + 2.0 a - e^{b}\\right)} & \\text{for}\\: b > 0 \\vee b < 0 \\\\- \\frac{a \\left(2.0 a^{2} \\left(e^{b} - 1\\right) + \\left(2.0 a - 1.0\\right) \\left(b \\left(a^{2} g - a^{2} - 2.0 a g + 2.0 a + g - 1.0\\right) - 1.0\\right) + \\left(2.0 a - 1.0\\right) \\left(a \\left(a - 3.0\\right) \\left(e^{b} - 1.0\\right) - b \\left(a^{2} g - a^{2} - 2.0 a g + 2.0 a + g\\right) e^{b}\\right)\\right) \\left(2.0 a e^{b} - 2.0 a - e^{b} + 1.0\\right)}{\\left(2.0 a - 1.0\\right) \\left(e^{b} - 1.0\\right) \\left(3.0 a^{2} e^{b} - 3.0 a^{2} + 2.0 a - e^{b}\\right)} & \\text{otherwise} \\end{cases}$"
      ],
      "text/plain": [
       "Piecewise((a*(-2.0*a**2*(exp(b) - 1) - (2.0*a - 1.0)*(b*(a**2*g - a**2 - 2.0*a*g + 2.0*a + g - 1.0) - 1.0) + (2.0*a - 1.0)*(exp(b) - 1.0)*(a**2*g - 2.0*a*g - a*(a - 2.0) - a*(a - 1.0) + 2.0*a + g))*(2.0*a*exp(b) - 2.0*a - exp(b) + 1.0)/((2.0*a - 1.0)*(exp(b) - 1.0)*(3.0*a**2*exp(b) - 3.0*a**2 + 2.0*a - exp(b))), (b > 0) | (b < 0)), (-a*(2.0*a**2*(exp(b) - 1) + (2.0*a - 1.0)*(b*(a**2*g - a**2 - 2.0*a*g + 2.0*a + g - 1.0) - 1.0) + (2.0*a - 1.0)*(a*(a - 3.0)*(exp(b) - 1.0) - b*(a**2*g - a**2 - 2.0*a*g + 2.0*a + g)*exp(b)))*(2.0*a*exp(b) - 2.0*a - exp(b) + 1.0)/((2.0*a - 1.0)*(exp(b) - 1.0)*(3.0*a**2*exp(b) - 3.0*a**2 + 2.0*a - exp(b))), True))"
      ]
     },
     "execution_count": 164,
     "metadata": {},
     "output_type": "execute_result"
    }
   ],
   "source": [
    "final = sp.simplify(full.evalf(subs={p1:p1solved}))\n",
    "final"
   ]
  },
  {
   "cell_type": "code",
   "execution_count": 165,
   "metadata": {},
   "outputs": [
    {
     "data": {
      "text/plain": [
       "<function _lambdifygenerated(a, b, g)>"
      ]
     },
     "execution_count": 165,
     "metadata": {},
     "output_type": "execute_result"
    }
   ],
   "source": [
    "finalLambda = sp.lambdify((a, b, g), final)\n",
    "finalLambda"
   ]
  },
  {
   "cell_type": "code",
   "execution_count": 166,
   "metadata": {},
   "outputs": [],
   "source": [
    "def Carlsten(alpha, beta, gamma=0):\n",
    "    num1 = 1 + (beta * np.power(1-alpha,2) * (1-gamma))\n",
    "    den1 = np.exp(beta) - 1\n",
    "    exp1 = num1 / den1\n",
    "    \n",
    "    exp2 = exp1 + (5 * alpha) + (np.power(1-alpha, 2) * gamma) \n",
    "    exp3 = (2 * np.power(alpha, 2)) / (1-2 * alpha) - (2 * np.power(alpha,2))\n",
    "    \n",
    "    exp4 = exp2 + exp3\n",
    "    \n",
    "    num2 = alpha * (1-2*alpha) * (1 - np.exp(-beta))\n",
    "    den2 = 1 - 2 * np.exp(-beta) * alpha - 3 * (1 - np.exp(-beta)) * np.power(alpha,2)\n",
    "    \n",
    "    exp5 = num2 / den2\n",
    "    \n",
    "    return exp4 * exp5"
   ]
  },
  {
   "cell_type": "code",
   "execution_count": 167,
   "metadata": {},
   "outputs": [],
   "source": [
    "alpha  = 0.33\n",
    "betas  = np.arange(0.1, 10, 0.01)\n",
    "gammas = [0., 0.5, 1.]\n",
    "\n",
    "resMines = []\n",
    "resTheir = []\n",
    "for g in gammas:\n",
    "    resMines.append(finalLambda(alpha, betas, g))\n",
    "    resTheir.append(Carlsten(alpha, betas, g))"
   ]
  },
  {
   "cell_type": "markdown",
   "metadata": {},
   "source": [
    "# MINE NEW"
   ]
  },
  {
   "cell_type": "code",
   "execution_count": 272,
   "metadata": {},
   "outputs": [],
   "source": [
    "p0, p0p, p1, p0pp = sp.symbols('p_0 p_{00} p_1 p_{000}')\n",
    "a, b, x, g, p, E  = sp.symbols('a b x g p E')"
   ]
  },
  {
   "cell_type": "code",
   "execution_count": 273,
   "metadata": {},
   "outputs": [],
   "source": [
    "# ps should be the same\n",
    "p0    = p1 / (a*(1-sp.exp(-b)))\n",
    "p0p   = p1 * (1-a)\n",
    "p0pp  = p1 * a\n",
    "prest = p1*a/(1-2*a)"
   ]
  },
  {
   "cell_type": "code",
   "execution_count": 274,
   "metadata": {},
   "outputs": [],
   "source": [
    "eq = sp.Eq(p0+p0p+p0pp+prest+p1, 1)\n",
    "p1_sym = sp.solve(eq, p1)[0]"
   ]
  },
  {
   "cell_type": "code",
   "execution_count": 275,
   "metadata": {},
   "outputs": [
    {
     "data": {
      "text/latex": [
       "$\\displaystyle \\frac{a \\left(2 a - 1\\right) \\left(e^{b} - 1\\right)}{3 a^{2} \\left(e^{b} - 1\\right) + 2 a - e^{b}}$"
      ],
      "text/plain": [
       "a*(2*a - 1)*(exp(b) - 1)/(3*a**2*(exp(b) - 1) + 2*a - exp(b))"
      ]
     },
     "execution_count": 275,
     "metadata": {},
     "output_type": "execute_result"
    }
   ],
   "source": [
    "p1them = a*(2*a-1)*(sp.exp(b)-1)/(3*a**2*(sp.exp(b)-1)+ 2*a-sp.exp(b))\n",
    "p1them"
   ]
  },
  {
   "cell_type": "code",
   "execution_count": 276,
   "metadata": {},
   "outputs": [
    {
     "data": {
      "text/latex": [
       "$\\displaystyle \\frac{a \\left(2 a e^{b} - 2 a - e^{b} + 1\\right)}{3 a^{2} e^{b} - 3 a^{2} + 2 a - e^{b}}$"
      ],
      "text/plain": [
       "a*(2*a*exp(b) - 2*a - exp(b) + 1)/(3*a**2*exp(b) - 3*a**2 + 2*a - exp(b))"
      ]
     },
     "execution_count": 276,
     "metadata": {},
     "output_type": "execute_result"
    }
   ],
   "source": [
    "p1_sym"
   ]
  },
  {
   "cell_type": "code",
   "execution_count": 277,
   "metadata": {},
   "outputs": [
    {
     "data": {
      "text/plain": [
       "(0.124637683091749, 0.124637683091749)"
      ]
     },
     "execution_count": 277,
     "metadata": {},
     "output_type": "execute_result"
    }
   ],
   "source": [
    "p1_sym.evalf(subs={a:0.3, b:1}), p1them.evalf(subs={a:0.3, b:1})"
   ]
  },
  {
   "cell_type": "code",
   "execution_count": 278,
   "metadata": {},
   "outputs": [],
   "source": [
    "p0    = p1 / (a*(1-sp.exp(-b)))\n",
    "p0p   = p1 * (1-a)\n",
    "p0pp  = p1 * a\n",
    "p2    = p1 * (a/(1-a))\n",
    "p3    = p1 * (a/(1-a))**2\n",
    "p4    = p1 * (a/(1-a))**3\n",
    "p5    = p1 * (a/(1-a))**4\n",
    "p6    = p1 * (a/(1-a))**5\n",
    "p7    = p1 * (a/(1-a))**7"
   ]
  },
  {
   "cell_type": "code",
   "execution_count": 279,
   "metadata": {},
   "outputs": [
    {
     "data": {
      "text/latex": [
       "$\\displaystyle 0.998979454556097$"
      ],
      "text/plain": [
       "0.998979454556097"
      ]
     },
     "execution_count": 279,
     "metadata": {},
     "output_type": "execute_result"
    }
   ],
   "source": [
    "(p0 + p0p + p0pp + p1+  p2+ p3 + p4+ p5+ p6 + p7).evalf(subs={a:0.3, b:1, p1:p1_sym.evalf(subs={a:0.3, b:1})})"
   ]
  },
  {
   "cell_type": "markdown",
   "metadata": {},
   "source": [
    "$$\n",
    "f_0 = \\alpha (\\beta+1) e^{-\\beta} + \\alpha^2 (1-(\\beta+1) e^{-\\beta}) +\\alpha(1-\\alpha)(\\alpha+\\gamma(1-\\alpha)) (1-(\\beta+1) e^{-\\beta})\n",
    "$$"
   ]
  },
  {
   "cell_type": "code",
   "execution_count": 302,
   "metadata": {},
   "outputs": [
    {
     "data": {
      "text/latex": [
       "$\\displaystyle a^{2} \\left(- \\left(b + 1\\right) e^{- b} + 1\\right) + a \\left(1 - a\\right) \\left(a + g \\left(1 - a\\right)\\right) \\left(- \\left(b + 1\\right) e^{- b} + 1\\right) + a \\left(b + 1\\right) e^{- b}$"
      ],
      "text/plain": [
       "a**2*(-(b + 1)*exp(-b) + 1) + a*(1 - a)*(a + g*(1 - a))*(-(b + 1)*exp(-b) + 1) + a*(b + 1)*exp(-b)"
      ]
     },
     "execution_count": 302,
     "metadata": {},
     "output_type": "execute_result"
    }
   ],
   "source": [
    "f0 = a*(b+1)*sp.exp(-b) + a**2*(1-(b+1)*sp.exp(-b)) + a*(1-a)*(a+g*(1-a))*(1-(b+1)*sp.exp(-b))\n",
    "f0"
   ]
  },
  {
   "cell_type": "code",
   "execution_count": 259,
   "metadata": {},
   "outputs": [],
   "source": [
    "# TEST\n",
    "f0p  = a\n",
    "f0pp = a\n",
    "f1   = a + a*(1-a)\n",
    "f2   = a + a*(1-a)\n",
    "f3   = a + a*(1-a) + a*(1-a)**2\n",
    "f4   = a + a*(1-a) + a*(1-a)**2\n",
    "f5   = a + a*(1-a) + a*(1-a)**2 + a*(1-a)**3\n",
    "f6   = a + a*(1-a) + a*(1-a)**2 + a*(1-a)**3 + a*(1-a)**4\n",
    "f7   = a + a*(1-a) + a*(1-a)**2 + a*(1-a)**3 + a*(1-a)**4 + a*(1-a)**5"
   ]
  },
  {
   "cell_type": "code",
   "execution_count": 303,
   "metadata": {},
   "outputs": [],
   "source": [
    "f0p  = a\n",
    "f0pp = a\n",
    "f1   = a + 2*a*(1-a)\n",
    "f2   = a + 2*a*(1-a)\n",
    "f3   = a + 2*a*(1-a) + 3*a*(1-a)**2\n",
    "f4   = a + 2*a*(1-a) + 3*a*(1-a)**2\n",
    "f5   = a + 2*a*(1-a) + 3*a*(1-a)**2 + 4*a*(1-a)**3\n",
    "f6   = a + 2*a*(1-a) + 3*a*(1-a)**2 + 4*a*(1-a)**3 + 5*a*(1-a)**4\n",
    "f7   = a + 2*a*(1-a) + 3*a*(1-a)**2 + 4*a*(1-a)**3 + 5*a*(1-a)**4 + 6*a*(1-a)**5"
   ]
  },
  {
   "cell_type": "code",
   "execution_count": 304,
   "metadata": {},
   "outputs": [
    {
     "data": {
      "text/latex": [
       "$\\displaystyle \\frac{a^{7} p_{1} \\cdot \\left(6 a \\left(1 - a\\right)^{5} + 5 a \\left(1 - a\\right)^{4} + 4 a \\left(1 - a\\right)^{3} + 3 a \\left(1 - a\\right)^{2} + 2 a \\left(1 - a\\right) + a\\right)}{\\left(1 - a\\right)^{7}} + \\frac{a^{5} p_{1} \\cdot \\left(5 a \\left(1 - a\\right)^{4} + 4 a \\left(1 - a\\right)^{3} + 3 a \\left(1 - a\\right)^{2} + 2 a \\left(1 - a\\right) + a\\right)}{\\left(1 - a\\right)^{5}} + \\frac{a^{4} p_{1} \\cdot \\left(4 a \\left(1 - a\\right)^{3} + 3 a \\left(1 - a\\right)^{2} + 2 a \\left(1 - a\\right) + a\\right)}{\\left(1 - a\\right)^{4}} + \\frac{a^{3} p_{1} \\cdot \\left(3 a \\left(1 - a\\right)^{2} + 2 a \\left(1 - a\\right) + a\\right)}{\\left(1 - a\\right)^{3}} + a^{2} p_{1} + \\frac{a^{2} p_{1} \\cdot \\left(3 a \\left(1 - a\\right)^{2} + 2 a \\left(1 - a\\right) + a\\right)}{\\left(1 - a\\right)^{2}} + a p_{1} \\cdot \\left(1 - a\\right) + \\frac{a p_{1} \\cdot \\left(2 a \\left(1 - a\\right) + a\\right)}{1 - a} + p_{1} \\cdot \\left(2 a \\left(1 - a\\right) + a\\right) + \\frac{p_{1} \\left(a^{2} \\left(- \\left(b + 1\\right) e^{- b} + 1\\right) + a \\left(1 - a\\right) \\left(a + g \\left(1 - a\\right)\\right) \\left(- \\left(b + 1\\right) e^{- b} + 1\\right) + a \\left(b + 1\\right) e^{- b}\\right)}{a \\left(1 - e^{- b}\\right)}$"
      ],
      "text/plain": [
       "a**7*p_1*(6*a*(1 - a)**5 + 5*a*(1 - a)**4 + 4*a*(1 - a)**3 + 3*a*(1 - a)**2 + 2*a*(1 - a) + a)/(1 - a)**7 + a**5*p_1*(5*a*(1 - a)**4 + 4*a*(1 - a)**3 + 3*a*(1 - a)**2 + 2*a*(1 - a) + a)/(1 - a)**5 + a**4*p_1*(4*a*(1 - a)**3 + 3*a*(1 - a)**2 + 2*a*(1 - a) + a)/(1 - a)**4 + a**3*p_1*(3*a*(1 - a)**2 + 2*a*(1 - a) + a)/(1 - a)**3 + a**2*p_1 + a**2*p_1*(3*a*(1 - a)**2 + 2*a*(1 - a) + a)/(1 - a)**2 + a*p_1*(1 - a) + a*p_1*(2*a*(1 - a) + a)/(1 - a) + p_1*(2*a*(1 - a) + a) + p_1*(a**2*(-(b + 1)*exp(-b) + 1) + a*(1 - a)*(a + g*(1 - a))*(-(b + 1)*exp(-b) + 1) + a*(b + 1)*exp(-b))/(a*(1 - exp(-b)))"
      ]
     },
     "execution_count": 304,
     "metadata": {},
     "output_type": "execute_result"
    }
   ],
   "source": [
    "full = p0*f0 + p0p*f0p + p0pp*f0pp + p1*f1 + p2*f2 + p3*f3 + p4*f4 + p5*f5 + p6*f6 + p7*f7 \n",
    "full"
   ]
  },
  {
   "cell_type": "code",
   "execution_count": 305,
   "metadata": {},
   "outputs": [
    {
     "data": {
      "text/latex": [
       "$\\displaystyle \\frac{0.333333333333333 a \\left(2.0 a e^{b} - 2.0 a - e^{b} + 1.0\\right) \\left(a^{8} \\cdot \\left(1.0 e^{b} - 1\\right) \\left(2.0 a + 6.0 \\left(a - 1.0\\right)^{5} - 5.0 \\left(a - 1.0\\right)^{4} + 4.0 \\left(a - 1.0\\right)^{3} - 3.0 \\left(a - 1.0\\right)^{2} - 3.0\\right) - a^{6} \\left(a - 1.0\\right)^{2} \\cdot \\left(1.0 e^{b} - 1\\right) \\left(- 2.0 a + 5.0 \\left(a - 1.0\\right)^{4} - 4.0 \\left(a - 1.0\\right)^{3} + 3.0 \\left(a - 1.0\\right)^{2} + 3.0\\right) - a^{5} \\left(a - 1.0\\right)^{3} \\cdot \\left(1.0 e^{b} - 1\\right) \\left(2.0 a + 4.0 \\left(a - 1.0\\right)^{3} - 3.0 \\left(a - 1.0\\right)^{2} - 3.0\\right) - a^{4} \\left(a - 1.0\\right)^{4} \\cdot \\left(1.0 e^{b} - 1\\right) \\left(- 2.0 a + 3.0 \\left(a - 1.0\\right)^{2} + 3.0\\right) + a^{3} \\left(a - 1.0\\right)^{5} \\cdot \\left(1.0 e^{b} - 1\\right) \\left(- 2.0 a + 3.0 \\left(a - 1.0\\right)^{2} + 3.0\\right) + a^{2} \\left(a - 1.0\\right)^{6} \\cdot \\left(2.0 a - 3.0\\right) \\left(1.0 e^{b} - 1\\right) + a \\left(4.0 - 2.0 a\\right) \\left(a - 1.0\\right)^{7} \\cdot \\left(1.0 e^{b} - 1\\right) + \\left(a - 1.0\\right)^{7} \\left(a \\left(- b + 1.0 e^{b} - 1.0\\right) + b + \\left(a - 1.0\\right) \\left(a - g \\left(a - 1.0\\right)\\right) \\left(b - 1.0 e^{b} + 1.0\\right) + 1.0\\right)\\right)}{\\left(a - 1.0\\right)^{7} \\cdot \\left(1.0 e^{b} - 1\\right) \\left(a^{2} e^{b} - a^{2} + 0.666666666666667 a - 0.333333333333333 e^{b}\\right)}$"
      ],
      "text/plain": [
       "0.333333333333333*a*(2.0*a*exp(b) - 2.0*a - exp(b) + 1.0)*(a**8*(1.0*exp(b) - 1)*(2.0*a + 6.0*(a - 1.0)**5 - 5.0*(a - 1.0)**4 + 4.0*(a - 1.0)**3 - 3.0*(a - 1.0)**2 - 3.0) - a**6*(a - 1.0)**2*(1.0*exp(b) - 1)*(-2.0*a + 5.0*(a - 1.0)**4 - 4.0*(a - 1.0)**3 + 3.0*(a - 1.0)**2 + 3.0) - a**5*(a - 1.0)**3*(1.0*exp(b) - 1)*(2.0*a + 4.0*(a - 1.0)**3 - 3.0*(a - 1.0)**2 - 3.0) - a**4*(a - 1.0)**4*(1.0*exp(b) - 1)*(-2.0*a + 3.0*(a - 1.0)**2 + 3.0) + a**3*(a - 1.0)**5*(1.0*exp(b) - 1)*(-2.0*a + 3.0*(a - 1.0)**2 + 3.0) + a**2*(a - 1.0)**6*(2.0*a - 3.0)*(1.0*exp(b) - 1) + a*(4.0 - 2.0*a)*(a - 1.0)**7*(1.0*exp(b) - 1) + (a - 1.0)**7*(a*(-b + 1.0*exp(b) - 1.0) + b + (a - 1.0)*(a - g*(a - 1.0))*(b - 1.0*exp(b) + 1.0) + 1.0))/((a - 1.0)**7*(1.0*exp(b) - 1)*(a**2*exp(b) - a**2 + 0.666666666666667*a - 0.333333333333333*exp(b)))"
      ]
     },
     "execution_count": 305,
     "metadata": {},
     "output_type": "execute_result"
    }
   ],
   "source": [
    "final = sp.simplify(full.evalf(subs={p1:p1_sym}))\n",
    "final"
   ]
  },
  {
   "cell_type": "code",
   "execution_count": 306,
   "metadata": {},
   "outputs": [
    {
     "data": {
      "text/plain": [
       "<function _lambdifygenerated(a, b, g)>"
      ]
     },
     "execution_count": 306,
     "metadata": {},
     "output_type": "execute_result"
    }
   ],
   "source": [
    "finalLambda = sp.lambdify((a, b, g), final)\n",
    "finalLambda"
   ]
  },
  {
   "cell_type": "code",
   "execution_count": 307,
   "metadata": {},
   "outputs": [],
   "source": [
    "alpha  = 0.33\n",
    "betas_NEW  = np.arange(0.1, 10, 0.2)\n",
    "gammas = [0., 0.5, 1.]\n",
    "\n",
    "resNEW = []\n",
    "for g_ in gammas:\n",
    "    resNEW.append(finalLambda(alpha, betas_NEW, g_))"
   ]
  },
  {
   "cell_type": "code",
   "execution_count": 308,
   "metadata": {},
   "outputs": [
    {
     "data": {
      "image/png": "[encoded data removed]",
      "text/plain": [
       "<Figure size 648x432 with 1 Axes>"
      ]
     },
     "metadata": {
      "needs_background": "light"
     },
     "output_type": "display_data"
    }
   ],
   "source": [
    "f, ax = plt.subplots(figsize=(9,6))\n",
    "\n",
    "colors = ['goldenrod', 'mediumseagreen', 'mediumvioletred']\n",
    "for i in [0, 1, 2]:\n",
    "    ax.plot(betas, resTheir[i], color=colors[i], alpha=0.2,\n",
    "            label='$\\gamma={:0.1f}$, theirs'.format(gammas[i]), \n",
    "            linestyle='-', linewidth=5)\n",
    "    ax.plot(betas, resMines[i], color='k', alpha=1, \n",
    "            label='$\\gamma={:0.1f}$, mine'.format(gammas[i]),\n",
    "            linestyle='dotted', linewidth=2)\n",
    "    ax.plot(betas_NEW, resNEW[i], color='red', alpha=1, marker='x',\n",
    "            label='$\\gamma={:0.1f}$, NEW'.format(gammas[i]),\n",
    "            linestyle='none')\n",
    "\n",
    "    \n",
    "\n",
    "ax.set_xlabel(r'$\\beta$', size=15)\n",
    "ax.set_ylabel(r'proportion of rewards', size=15)\n",
    "ax.grid(alpha=0.2)\n",
    "ax.legend(bbox_to_anchor=(1,.95))\n",
    "\n",
    "# plt.savefig('out.png', dpi=400, bbox_inches='tight', facecolor='white')\n",
    "plt.show()"
   ]
  },
  {
   "cell_type": "code",
   "execution_count": null,
   "metadata": {},
   "outputs": [],
   "source": []
  },
  {
   "cell_type": "code",
   "execution_count": null,
   "metadata": {},
   "outputs": [],
   "source": []
  },
  {
   "cell_type": "code",
   "execution_count": null,
   "metadata": {},
   "outputs": [],
   "source": []
  },
  {
   "cell_type": "code",
   "execution_count": null,
   "metadata": {},
   "outputs": [],
   "source": []
  },
  {
   "cell_type": "code",
   "execution_count": null,
   "metadata": {},
   "outputs": [],
   "source": []
  },
  {
   "cell_type": "markdown",
   "metadata": {},
   "source": [
    "# Linear rewards theo + sims\n",
    "\n",
    "```\n",
    "gamma = 0\n",
    "p     = [1/4, 1/2, 3/4]\n",
    "alpha = [0.2, 0.25, 0.3, 0.35, 0.4]\n",
    "beta  = np.arange(0.25, 4.1, 0.25) # sims\n",
    "beta  = np.arange(0.01, 4.1, 0.01) # theo\n",
    "E     = 0\n",
    "```"
   ]
  },
  {
   "cell_type": "code",
   "execution_count": 28,
   "metadata": {},
   "outputs": [],
   "source": [
    "p0, p0p, p1, p0pp = sp.symbols('p_0 p_{00} p_1 p_{000}')\n",
    "a, b, x, g, p, E  = sp.symbols('alpha beta x gamma p E')"
   ]
  },
  {
   "cell_type": "code",
   "execution_count": 29,
   "metadata": {},
   "outputs": [
    {
     "data": {
      "text/latex": [
       "$\\displaystyle \\frac{p_{1} \\cdot \\left(1 - p\\right) e^{- x}}{\\alpha p \\left(1 - \\min\\left(1, e^{E - \\beta}\\right)\\right) + \\alpha \\left(1 - p\\right) \\left(1 - e^{- \\beta}\\right)}$"
      ],
      "text/plain": [
       "p_1*(1 - p)*exp(-x)/(alpha*p*(1 - Min(1, exp(E - beta))) + alpha*(1 - p)*(1 - exp(-beta)))"
      ]
     },
     "execution_count": 29,
     "metadata": {},
     "output_type": "execute_result"
    }
   ],
   "source": [
    "p0fail = (1-p)*p1*sp.exp(-x) / (a*p*(1-sp.Min(1,sp.exp(-b+E)))+a*(1-p)*(1-sp.exp(-b)))\n",
    "p0fail"
   ]
  },
  {
   "cell_type": "code",
   "execution_count": 30,
   "metadata": {},
   "outputs": [
    {
     "data": {
      "text/latex": [
       "$\\displaystyle \\alpha^{2} \\cdot \\left(1 - e^{- \\beta + x}\\right) + \\alpha \\left(1 - \\alpha\\right) \\left(1 - e^{- \\beta + x}\\right) \\left(\\alpha + \\gamma \\left(1 - \\alpha\\right)\\right) + \\alpha e^{- \\beta + x}$"
      ],
      "text/plain": [
       "alpha**2*(1 - exp(-beta + x)) + alpha*(1 - alpha)*(1 - exp(-beta + x))*(alpha + gamma*(1 - alpha)) + alpha*exp(-beta + x)"
      ]
     },
     "execution_count": 30,
     "metadata": {},
     "output_type": "execute_result"
    }
   ],
   "source": [
    "f0failHi = a\n",
    "f0failLo = a*sp.exp(-b+x)+a**2*(1-sp.exp(-b+x)) + a*(1-a)*(1-sp.exp(-b+x))*(a+(1-a)*g)\n",
    "f0failLo"
   ]
  },
  {
   "cell_type": "code",
   "execution_count": 31,
   "metadata": {},
   "outputs": [],
   "source": [
    "loIntegrandFail = sp.simplify(p0fail * f0failLo)\n",
    "loIntegralFail  = sp.simplify(sp.integrate(loIntegrandFail, (x, 0, b)))"
   ]
  },
  {
   "cell_type": "code",
   "execution_count": 32,
   "metadata": {},
   "outputs": [],
   "source": [
    "hiIntegrandFail = sp.simplify(p0fail * f0failHi)\n",
    "hiIntegralFail  = sp.simplify(sp.integrate(hiIntegrandFail, (x, b, sp.oo)))"
   ]
  },
  {
   "cell_type": "code",
   "execution_count": 33,
   "metadata": {},
   "outputs": [
    {
     "data": {
      "text/latex": [
       "$\\displaystyle \\frac{p p_{1} e^{- x}}{\\alpha p \\left(1 - \\min\\left(1, e^{E - \\beta}\\right)\\right) + \\alpha \\left(1 - p\\right) \\left(1 - e^{- \\beta}\\right)}$"
      ],
      "text/plain": [
       "p*p_1*exp(-x)/(alpha*p*(1 - Min(1, exp(E - beta))) + alpha*(1 - p)*(1 - exp(-beta)))"
      ]
     },
     "execution_count": 33,
     "metadata": {},
     "output_type": "execute_result"
    }
   ],
   "source": [
    "p0success = p*p1*sp.exp(-x) / (a*p*(1-sp.Min(1,sp.exp(-b+E)))+a*(1-p)*(1-sp.exp(-b)))\n",
    "p0success"
   ]
  },
  {
   "cell_type": "code",
   "execution_count": 34,
   "metadata": {},
   "outputs": [
    {
     "data": {
      "text/latex": [
       "$\\displaystyle \\alpha^{2} \\cdot \\left(1 - e^{E - \\beta + x}\\right) + \\alpha \\left(1 - \\alpha\\right) \\left(1 - e^{E - \\beta + x}\\right) \\left(\\alpha + \\gamma \\left(1 - \\alpha\\right)\\right) + \\alpha e^{E - \\beta + x}$"
      ],
      "text/plain": [
       "alpha**2*(1 - exp(E - beta + x)) + alpha*(1 - alpha)*(1 - exp(E - beta + x))*(alpha + gamma*(1 - alpha)) + alpha*exp(E - beta + x)"
      ]
     },
     "execution_count": 34,
     "metadata": {},
     "output_type": "execute_result"
    }
   ],
   "source": [
    "f0successHi = a\n",
    "f0successLo = a*sp.exp(-b+E+x)+a**2*(1-sp.exp(-b+E+x)) + a*(1-a)*(1-sp.exp(-b+E+x))*(a+(1-a)*g)\n",
    "f0successLo"
   ]
  },
  {
   "cell_type": "code",
   "execution_count": 35,
   "metadata": {},
   "outputs": [],
   "source": [
    "loIntegrandSuccess = sp.simplify(p0success * f0successLo)\n",
    "loIntegralSuccess  = sp.simplify(sp.integrate(loIntegrandSuccess, (x, 0, sp.Max(0,b-E))))"
   ]
  },
  {
   "cell_type": "code",
   "execution_count": 36,
   "metadata": {},
   "outputs": [],
   "source": [
    "hiIntegrandSuccess = sp.simplify(p0success * f0successHi)\n",
    "hiIntegralSuccess  = sp.simplify(sp.integrate(hiIntegrandSuccess, (x, sp.Max(0,b-E), sp.oo)))"
   ]
  },
  {
   "cell_type": "code",
   "execution_count": 37,
   "metadata": {},
   "outputs": [
    {
     "data": {
      "text/latex": [
       "$\\displaystyle p_{1} \\left(- \\alpha^{2} + \\frac{2 \\alpha^{2}}{1 - 2 \\alpha} + 3 \\alpha\\right) + \\begin{cases} \\frac{p p_{1} \\left(\\left(- \\alpha^{2} \\gamma + \\alpha^{2} + 2 \\alpha \\gamma - 2 \\alpha - \\gamma\\right) e^{\\beta} + \\left(\\alpha^{2} \\gamma - \\alpha^{2} - 2 \\alpha \\gamma + 2 \\alpha + \\gamma\\right) e^{\\beta - \\max\\left(0, - E + \\beta\\right)} + \\left(\\alpha^{2} \\gamma - \\alpha^{2} - 2 \\alpha \\gamma + 2 \\alpha + \\gamma - 1\\right) e^{E} \\max\\left(0, - E + \\beta\\right)\\right)}{p e^{\\beta} - p - e^{\\beta} + 1} & \\text{for}\\: e^{E - \\beta} \\geq 1 \\wedge - p e^{\\beta} + p + e^{\\beta} \\neq 1 \\\\\\frac{p p_{1} \\left(- \\alpha^{2} \\gamma + \\alpha^{2} + 2 \\alpha \\gamma - 2 \\alpha - \\gamma + \\left(\\alpha^{2} \\gamma - \\alpha^{2} - 2 \\alpha \\gamma + 2 \\alpha + \\gamma - 1\\right) e^{E}\\right) \\max\\left(0, - E + \\beta\\right)}{p e^{\\beta} - p - e^{\\beta} + 1} & \\text{for}\\: \\left(e^{E - \\beta} \\geq 1 \\wedge - p e^{E} + p + e^{\\beta} \\neq 1\\right) \\vee e^{E - \\beta} \\geq 1 \\\\\\frac{p p_{1} \\left(\\left(- \\alpha^{2} \\gamma + \\alpha^{2} + 2 \\alpha \\gamma - 2 \\alpha - \\gamma\\right) e^{\\beta} + \\left(\\alpha^{2} \\gamma - \\alpha^{2} - 2 \\alpha \\gamma + 2 \\alpha + \\gamma\\right) e^{\\beta - \\max\\left(0, - E + \\beta\\right)} + \\left(\\alpha^{2} \\gamma - \\alpha^{2} - 2 \\alpha \\gamma + 2 \\alpha + \\gamma - 1\\right) e^{E} \\max\\left(0, - E + \\beta\\right)\\right)}{p e^{E} - p - e^{\\beta} + 1} & \\text{for}\\: - p e^{E} + p + e^{\\beta} \\neq 1 \\\\\\frac{p p_{1} \\left(- \\alpha^{2} \\gamma + \\alpha^{2} + 2 \\alpha \\gamma - 2 \\alpha - \\gamma + \\left(\\alpha^{2} \\gamma - \\alpha^{2} - 2 \\alpha \\gamma + 2 \\alpha + \\gamma - 1\\right) e^{E}\\right) \\max\\left(0, - E + \\beta\\right)}{p e^{E} - p - e^{\\beta} + 1} & \\text{otherwise} \\end{cases} + \\begin{cases} - \\frac{p p_{1} e^{\\beta - \\max\\left(0, - E + \\beta\\right)}}{p e^{\\beta} - p - e^{\\beta} + 1} & \\text{for}\\: e^{E - \\beta} \\geq 1 \\wedge - p e^{\\beta} + p + e^{\\beta} \\neq 1 \\\\\\begin{cases} \\text{NaN} & \\text{for}\\: \\frac{p p_{1}}{p e^{\\beta} - p - e^{\\beta} + 1} = 0 \\\\\\frac{p p_{1} \\left(\\left(- E + \\beta + \\left|{E - \\beta}\\right|\\right) \\left|{\\frac{p p_{1}}{p e^{\\beta} - p - e^{\\beta} + 1}}\\right| - \\infty\\right)}{2 \\left(p e^{\\beta} - p - e^{\\beta} + 1\\right) \\left|{\\frac{p p_{1}}{p e^{\\beta} - p - e^{\\beta} + 1}}\\right|} & \\text{otherwise} \\end{cases} & \\text{for}\\: \\left(e^{E - \\beta} \\geq 1 \\wedge - p e^{E} + p + e^{\\beta} \\neq 1\\right) \\vee e^{E - \\beta} \\geq 1 \\\\- \\frac{p p_{1} e^{\\beta - \\max\\left(0, - E + \\beta\\right)}}{p e^{E} - p - e^{\\beta} + 1} & \\text{for}\\: - p e^{E} + p + e^{\\beta} \\neq 1 \\\\\\begin{cases} \\text{NaN} & \\text{for}\\: \\frac{p p_{1}}{p e^{E} - p - e^{\\beta} + 1} = 0 \\\\\\frac{p p_{1} \\left(\\left(- E + \\beta + \\left|{E - \\beta}\\right|\\right) \\left|{\\frac{p p_{1}}{p e^{E} - p - e^{\\beta} + 1}}\\right| - \\infty\\right)}{2 \\left(p e^{E} - p - e^{\\beta} + 1\\right) \\left|{\\frac{p p_{1}}{p e^{E} - p - e^{\\beta} + 1}}\\right|} & \\text{otherwise} \\end{cases} & \\text{otherwise} \\end{cases} + \\begin{cases} \\frac{p_{1}}{e^{\\beta} - 1} & \\text{for}\\: e^{E - \\beta} \\geq 1 \\wedge e^{\\beta} \\neq 1 \\\\\\frac{p_{1} \\left(p - 1\\right)}{p e^{E} - p - e^{\\beta} + 1} & \\text{for}\\: - p e^{E} + p + e^{\\beta} \\neq 1 \\\\\\begin{cases} \\text{NaN} & \\text{for}\\: \\frac{p_{1} \\left(p - 1\\right)}{p e^{E} - p - e^{\\beta} + 1} = 0 \\\\\\frac{p_{1} \\left(p - 1\\right) \\left(- \\beta \\left|{\\frac{p_{1} \\left(p - 1\\right)}{p e^{E} - p - e^{\\beta} + 1}}\\right| + \\infty\\right)}{\\left(p e^{E} - p - e^{\\beta} + 1\\right) \\left|{\\frac{p_{1} \\left(p - 1\\right)}{p e^{E} - p - e^{\\beta} + 1}}\\right|} & \\text{otherwise} \\end{cases} & \\text{for}\\: \\beta \\neq 0 \\\\\\begin{cases} \\text{NaN} & \\text{for}\\: \\frac{p_{1}}{e^{\\beta} - 1} = 0 \\\\- \\frac{p_{1} \\left(\\beta \\left|{\\frac{p_{1}}{e^{\\beta} - 1}}\\right| - \\infty\\right)}{\\left(e^{\\beta} - 1\\right) \\left|{\\frac{p_{1}}{e^{\\beta} - 1}}\\right|} & \\text{otherwise} \\end{cases} & \\text{for}\\: \\left(e^{E - \\beta} \\geq 1 \\wedge - p e^{E} + p + e^{\\beta} \\neq 1\\right) \\vee e^{E - \\beta} \\geq 1 \\\\\\begin{cases} \\text{NaN} & \\text{for}\\: \\frac{p_{1} \\left(p - 1\\right)}{p e^{E} - p - e^{\\beta} + 1} = 0 \\\\\\frac{p_{1} \\left(p - 1\\right) \\left(- \\beta \\left|{\\frac{p_{1} \\left(p - 1\\right)}{p e^{E} - p - e^{\\beta} + 1}}\\right| + \\infty\\right)}{\\left(p e^{E} - p - e^{\\beta} + 1\\right) \\left|{\\frac{p_{1} \\left(p - 1\\right)}{p e^{E} - p - e^{\\beta} + 1}}\\right|} & \\text{otherwise} \\end{cases} & \\text{otherwise} \\end{cases} + \\begin{cases} - \\frac{p_{1} \\left(\\alpha^{2} \\gamma - \\alpha^{2} - 2 \\alpha \\gamma + 2 \\alpha + \\beta \\left(\\alpha^{2} \\gamma - \\alpha^{2} - 2 \\alpha \\gamma + 2 \\alpha + \\gamma - 1\\right) + \\gamma - \\left(\\alpha^{2} \\gamma - \\alpha^{2} - 2 \\alpha \\gamma + 2 \\alpha + \\gamma\\right) e^{\\beta}\\right)}{e^{\\beta} - 1} & \\text{for}\\: e^{E - \\beta} \\geq 1 \\wedge e^{\\beta} \\neq 1 \\\\\\frac{p_{1} \\left(- \\alpha^{2} \\gamma p + \\alpha^{2} \\gamma + \\alpha^{2} p - \\alpha^{2} + 2 \\alpha \\gamma p - 2 \\alpha \\gamma - 2 \\alpha p + 2 \\alpha - \\beta \\left(\\alpha^{2} \\gamma p - \\alpha^{2} \\gamma - \\alpha^{2} p + \\alpha^{2} - 2 \\alpha \\gamma p + 2 \\alpha \\gamma + 2 \\alpha p - 2 \\alpha + \\gamma p - \\gamma - p + 1\\right) - \\gamma p + \\gamma + \\left(\\alpha^{2} \\gamma p - \\alpha^{2} \\gamma - \\alpha^{2} p + \\alpha^{2} - 2 \\alpha \\gamma p + 2 \\alpha \\gamma + 2 \\alpha p - 2 \\alpha + \\gamma p - \\gamma\\right) e^{\\beta}\\right)}{p e^{E} - p - e^{\\beta} + 1} & \\text{for}\\: - p e^{E} + p + e^{\\beta} \\neq 1 \\\\\\frac{\\beta p_{1} \\left(p - 1\\right)}{p e^{E} - p - e^{\\beta} + 1} & \\text{for}\\: \\beta \\neq 0 \\\\\\frac{\\beta p_{1}}{e^{\\beta} - 1} & \\text{for}\\: \\left(e^{E - \\beta} \\geq 1 \\wedge - p e^{E} + p + e^{\\beta} \\neq 1\\right) \\vee e^{E - \\beta} \\geq 1 \\\\\\frac{\\beta p_{1} \\left(p - 1\\right)}{p e^{E} - p - e^{\\beta} + 1} & \\text{otherwise} \\end{cases}$"
      ],
      "text/plain": [
       "p_1*(-alpha**2 + 2*alpha**2/(1 - 2*alpha) + 3*alpha) + Piecewise((p*p_1*((-alpha**2*gamma + alpha**2 + 2*alpha*gamma - 2*alpha - gamma)*exp(beta) + (alpha**2*gamma - alpha**2 - 2*alpha*gamma + 2*alpha + gamma)*exp(beta - Max(0, -E + beta)) + (alpha**2*gamma - alpha**2 - 2*alpha*gamma + 2*alpha + gamma - 1)*exp(E)*Max(0, -E + beta))/(p*exp(beta) - p - exp(beta) + 1), (exp(E - beta) >= 1) & Ne(-p*exp(beta) + p + exp(beta), 1)), (p*p_1*(-alpha**2*gamma + alpha**2 + 2*alpha*gamma - 2*alpha - gamma + (alpha**2*gamma - alpha**2 - 2*alpha*gamma + 2*alpha + gamma - 1)*exp(E))*Max(0, -E + beta)/(p*exp(beta) - p - exp(beta) + 1), (exp(E - beta) >= 1) | ((exp(E - beta) >= 1) & Ne(-p*exp(E) + p + exp(beta), 1))), (p*p_1*((-alpha**2*gamma + alpha**2 + 2*alpha*gamma - 2*alpha - gamma)*exp(beta) + (alpha**2*gamma - alpha**2 - 2*alpha*gamma + 2*alpha + gamma)*exp(beta - Max(0, -E + beta)) + (alpha**2*gamma - alpha**2 - 2*alpha*gamma + 2*alpha + gamma - 1)*exp(E)*Max(0, -E + beta))/(p*exp(E) - p - exp(beta) + 1), Ne(-p*exp(E) + p + exp(beta), 1)), (p*p_1*(-alpha**2*gamma + alpha**2 + 2*alpha*gamma - 2*alpha - gamma + (alpha**2*gamma - alpha**2 - 2*alpha*gamma + 2*alpha + gamma - 1)*exp(E))*Max(0, -E + beta)/(p*exp(E) - p - exp(beta) + 1), True)) + Piecewise((-p*p_1*exp(beta - Max(0, -E + beta))/(p*exp(beta) - p - exp(beta) + 1), (exp(E - beta) >= 1) & Ne(-p*exp(beta) + p + exp(beta), 1)), (Piecewise((nan, Eq(p*p_1/(p*exp(beta) - p - exp(beta) + 1), 0)), (p*p_1*((-E + beta + Abs(E - beta))*Abs(p*p_1/(p*exp(beta) - p - exp(beta) + 1)) - oo)/(2*(p*exp(beta) - p - exp(beta) + 1)*Abs(p*p_1/(p*exp(beta) - p - exp(beta) + 1))), True)), (exp(E - beta) >= 1) | ((exp(E - beta) >= 1) & Ne(-p*exp(E) + p + exp(beta), 1))), (-p*p_1*exp(beta - Max(0, -E + beta))/(p*exp(E) - p - exp(beta) + 1), Ne(-p*exp(E) + p + exp(beta), 1)), (Piecewise((nan, Eq(p*p_1/(p*exp(E) - p - exp(beta) + 1), 0)), (p*p_1*((-E + beta + Abs(E - beta))*Abs(p*p_1/(p*exp(E) - p - exp(beta) + 1)) - oo)/(2*(p*exp(E) - p - exp(beta) + 1)*Abs(p*p_1/(p*exp(E) - p - exp(beta) + 1))), True)), True)) + Piecewise((p_1/(exp(beta) - 1), Ne(exp(beta), 1) & (exp(E - beta) >= 1)), (p_1*(p - 1)/(p*exp(E) - p - exp(beta) + 1), Ne(-p*exp(E) + p + exp(beta), 1)), (Piecewise((nan, Eq(p_1*(p - 1)/(p*exp(E) - p - exp(beta) + 1), 0)), (p_1*(p - 1)*(-beta*Abs(p_1*(p - 1)/(p*exp(E) - p - exp(beta) + 1)) + oo)/((p*exp(E) - p - exp(beta) + 1)*Abs(p_1*(p - 1)/(p*exp(E) - p - exp(beta) + 1))), True)), Ne(beta, 0)), (Piecewise((nan, Eq(p_1/(exp(beta) - 1), 0)), (-p_1*(beta*Abs(p_1/(exp(beta) - 1)) - oo)/((exp(beta) - 1)*Abs(p_1/(exp(beta) - 1))), True)), (exp(E - beta) >= 1) | ((exp(E - beta) >= 1) & Ne(-p*exp(E) + p + exp(beta), 1))), (Piecewise((nan, Eq(p_1*(p - 1)/(p*exp(E) - p - exp(beta) + 1), 0)), (p_1*(p - 1)*(-beta*Abs(p_1*(p - 1)/(p*exp(E) - p - exp(beta) + 1)) + oo)/((p*exp(E) - p - exp(beta) + 1)*Abs(p_1*(p - 1)/(p*exp(E) - p - exp(beta) + 1))), True)), True)) + Piecewise((-p_1*(alpha**2*gamma - alpha**2 - 2*alpha*gamma + 2*alpha + beta*(alpha**2*gamma - alpha**2 - 2*alpha*gamma + 2*alpha + gamma - 1) + gamma - (alpha**2*gamma - alpha**2 - 2*alpha*gamma + 2*alpha + gamma)*exp(beta))/(exp(beta) - 1), Ne(exp(beta), 1) & (exp(E - beta) >= 1)), (p_1*(-alpha**2*gamma*p + alpha**2*gamma + alpha**2*p - alpha**2 + 2*alpha*gamma*p - 2*alpha*gamma - 2*alpha*p + 2*alpha - beta*(alpha**2*gamma*p - alpha**2*gamma - alpha**2*p + alpha**2 - 2*alpha*gamma*p + 2*alpha*gamma + 2*alpha*p - 2*alpha + gamma*p - gamma - p + 1) - gamma*p + gamma + (alpha**2*gamma*p - alpha**2*gamma - alpha**2*p + alpha**2 - 2*alpha*gamma*p + 2*alpha*gamma + 2*alpha*p - 2*alpha + gamma*p - gamma)*exp(beta))/(p*exp(E) - p - exp(beta) + 1), Ne(-p*exp(E) + p + exp(beta), 1)), (beta*p_1*(p - 1)/(p*exp(E) - p - exp(beta) + 1), Ne(beta, 0)), (beta*p_1/(exp(beta) - 1), (exp(E - beta) >= 1) | ((exp(E - beta) >= 1) & Ne(-p*exp(E) + p + exp(beta), 1))), (beta*p_1*(p - 1)/(p*exp(E) - p - exp(beta) + 1), True))"
      ]
     },
     "execution_count": 37,
     "metadata": {},
     "output_type": "execute_result"
    }
   ],
   "source": [
    "full = loIntegralFail + hiIntegralFail + loIntegralSuccess + hiIntegralSuccess + p1*(3*a - a**2 + 2*a**2/(1-2*a))\n",
    "full"
   ]
  },
  {
   "cell_type": "code",
   "execution_count": 38,
   "metadata": {},
   "outputs": [
    {
     "data": {
      "text/latex": [
       "$\\displaystyle \\frac{1}{1 + \\frac{1}{\\alpha p \\left(1 - \\min\\left(1, e^{E - \\beta}\\right)\\right) + \\alpha \\left(1 - p\\right) \\left(1 - e^{- \\beta}\\right)} + \\frac{1 - \\alpha}{1 - 2 \\alpha}}$"
      ],
      "text/plain": [
       "1/(1 + 1/(alpha*p*(1 - Min(1, exp(E - beta))) + alpha*(1 - p)*(1 - exp(-beta))) + (1 - alpha)/(1 - 2*alpha))"
      ]
     },
     "execution_count": 38,
     "metadata": {},
     "output_type": "execute_result"
    }
   ],
   "source": [
    "p1_solved = 1/(1/(a*p*(1-sp.Min(1,sp.exp(-b+E))) + a*(1-p)*(1-sp.exp(-b))) + 1 + (1-a)/(1-2*a))\n",
    "p1_solved"
   ]
  },
  {
   "cell_type": "code",
   "execution_count": 39,
   "metadata": {},
   "outputs": [
    {
     "data": {
      "text/plain": [
       "<function _lambdifygenerated(alpha, beta, gamma, p, E)>"
      ]
     },
     "execution_count": 39,
     "metadata": {},
     "output_type": "execute_result"
    }
   ],
   "source": [
    "fullLambda = sp.lambdify((a, b, g, p, E), full.evalf(subs={p1:p1_solved}))\n",
    "fullLambda"
   ]
  },
  {
   "cell_type": "code",
   "execution_count": 25,
   "metadata": {},
   "outputs": [
    {
     "data": {
      "text/plain": [
       "array([0.  , 0.25, 0.5 , 0.75, 1.  , 1.25, 1.5 , 1.75, 2.  , 2.25, 2.5 ,\n",
       "       2.75, 3.  , 3.25, 3.5 , 3.75, 4.  ])"
      ]
     },
     "execution_count": 25,
     "metadata": {},
     "output_type": "execute_result"
    }
   ],
   "source": [
    "alphas    = [0.2, 0.25, 0.3, 0.35, 0.4]\n",
    "betas     = np.arange(0.01, 4, 0.25)\n",
    "ps        = [0.25, 0.5, 0.75] # using E=1\n",
    "simBetas  = np.arange(0., 4.01, 0.25)\n",
    "simBetas"
   ]
  },
  {
   "cell_type": "code",
   "execution_count": 40,
   "metadata": {},
   "outputs": [
    {
     "data": {
      "text/plain": [
       "(5, 16, 3)"
      ]
     },
     "execution_count": 40,
     "metadata": {},
     "output_type": "execute_result"
    }
   ],
   "source": [
    "theoRes = []\n",
    "for a in alphas:\n",
    "    temp1 = []\n",
    "    for b in betas:\n",
    "        temp2 = []\n",
    "        for p in ps:\n",
    "            temp2.append(fullLambda(alpha=a, beta=b, gamma=0.0, p=p, E=0.))\n",
    "        temp1.append(temp2)\n",
    "    theoRes.append(temp1)\n",
    "theoRes = np.array(theoRes)\n",
    "theoRes.shape"
   ]
  },
  {
   "cell_type": "code",
   "execution_count": 41,
   "metadata": {},
   "outputs": [
    {
     "data": {
      "image/png": "[encoded data removed]",
      "text/plain": [
       "<Figure size 1008x288 with 3 Axes>"
      ]
     },
     "metadata": {
      "needs_background": "light"
     },
     "output_type": "display_data"
    }
   ],
   "source": [
    "f, axarr = plt.subplots(ncols=3, figsize=(14,4))\n",
    "\n",
    "colors = ['maroon', 'lightseagreen', 'darkmagenta', 'peru', 'dodgerblue'] \n",
    "handles, labels = [], []\n",
    "\n",
    "for i in range(3):\n",
    "    ax = axarr[i]\n",
    "    for j, a in enumerate(alphas):\n",
    "        line, = ax.plot(betas, theoRes[j,:,i], linewidth=0.8, color=colors[j], marker='x', linestyle='none',\n",
    "                        label=r'$\\alpha$={:0.2f} theo'.format(a))\n",
    "        if i == 0:\n",
    "            handles.append(line)\n",
    "            labels.append(r'$\\alpha$={:0.2f} theo'.format(a))\n",
    "\n",
    "\n",
    "for i, ax in enumerate(axarr):\n",
    "    ax.grid(alpha=0.2)\n",
    "    ax.set_xlabel(r'$\\beta$', size=14)\n",
    "    ax.set_title(r'$p=${:0.2f}'.format(ps[i]))\n",
    "\n",
    "axarr[0].set_ylabel(r'linear rewards ($R_\\ell)$', size=14)\n",
    "f.legend(handles, labels, loc='upper center', bbox_to_anchor=(0.5, -0.02), ncol=2)\n",
    "\n",
    "plt.savefig('out.png', dpi=150, bbox_inches='tight', facecolor='white')\n",
    "plt.show()"
   ]
  }
 ],
 "metadata": {
  "kernelspec": {
   "display_name": "Python 3",
   "language": "python",
   "name": "python3"
  },
  "language_info": {
   "codemirror_mode": {
    "name": "ipython",
    "version": 3
   },
   "file_extension": ".py",
   "mimetype": "text/x-python",
   "name": "python",
   "nbconvert_exporter": "python",
   "pygments_lexer": "ipython3",
   "version": "3.8.16"
  }
 },
 "nbformat": 4,
 "nbformat_minor": 4
}
